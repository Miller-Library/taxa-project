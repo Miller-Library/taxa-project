{
 "cells": [
  {
   "cell_type": "raw",
   "id": "d3890ace-3342-4443-920c-de36cb233489",
   "metadata": {},
   "source": [
    "---\n",
    "title: experiments\n",
    "format: html\n",
    "---"
   ]
  },
  {
   "cell_type": "code",
   "execution_count": 1,
   "id": "2a8e691c-10ff-414a-8f7b-9b5c7320ba5b",
   "metadata": {},
   "outputs": [
    {
     "name": "stdout",
     "output_type": "stream",
     "text": [
      "Requirement already satisfied: pandas in /Users/cnc/.local/share/virtualenvs/github_repos-4d25jqnL/lib/python3.11/site-packages (2.0.3)\n",
      "Requirement already satisfied: python-dateutil>=2.8.2 in /Users/cnc/.local/share/virtualenvs/github_repos-4d25jqnL/lib/python3.11/site-packages (from pandas) (2.8.2)\n",
      "Requirement already satisfied: pytz>=2020.1 in /Users/cnc/.local/share/virtualenvs/github_repos-4d25jqnL/lib/python3.11/site-packages (from pandas) (2023.3)\n",
      "Requirement already satisfied: tzdata>=2022.1 in /Users/cnc/.local/share/virtualenvs/github_repos-4d25jqnL/lib/python3.11/site-packages (from pandas) (2023.3)\n",
      "Requirement already satisfied: numpy>=1.21.0 in /Users/cnc/.local/share/virtualenvs/github_repos-4d25jqnL/lib/python3.11/site-packages (from pandas) (1.25.2)\n",
      "Requirement already satisfied: six>=1.5 in /Users/cnc/.local/share/virtualenvs/github_repos-4d25jqnL/lib/python3.11/site-packages (from python-dateutil>=2.8.2->pandas) (1.16.0)\n",
      "Note: you may need to restart the kernel to use updated packages.\n"
     ]
    }
   ],
   "source": [
    "pip install pandas"
   ]
  },
  {
   "cell_type": "markdown",
   "id": "0fc7f7c2-52d9-412a-b9e7-9c568496d308",
   "metadata": {},
   "source": [
    "## Getting to know LLMs and LangChain\n",
    "\n",
    "A foundational element of using LangChain as a wrapper for large language models (LLMs) like GPT4 is the prompt. A prompt in the LLM context is just like a prompt in the usual context: it's a thoughtfully designed question meant to elicit a response. If you want to use an LLM to explore text, it is critically important to design an effective prompt that will help the model generate accurate and helpful responses. We are exploring the use of LLMs to help us \"read\" undergraduate student research papers in marine science and figure out if the paper contains a species occurrence. That is, did the student observe or collect a given species at a given place during the course of their research? If they did, that kind of information is a species occurrence (species + place + date).\n",
    "\n",
    "To explore the potential for using LLMs in this work, we selected a few online tools that are designed to help the user ask questions about text provided to the application. We picked a few student papers at random (all open access) and iterated on a series of questions to learn how to engineer prompts that might give us the information we need to determine if a paper includes a species occurrence. This was our process and what we found.\n",
    "\n",
    "## Tools we tried\n",
    "\n",
    "### Chat My Data 📝  ChatPDF 📝  Ask My PDF\n",
    "\n",
    "-   [Chat My Data](https://blog.langchain.dev/tutorial-chatgpt-over-your-data)\n",
    "-   [ChatPDF](https://www.chatpdf.com)\n",
    "-   [Ask My PDF](https://ask-my-pdf.streamlit.app)\n",
    "\n",
    "The first question we gave to each chat tool was, \"*What is this paper about?*\""
   ]
  },
  {
   "cell_type": "markdown",
   "id": "0d4f4429-7503-4189-8239-854952202698",
   "metadata": {},
   "source": [
    "# Results"
   ]
  },
  {
   "cell_type": "code",
   "execution_count": 3,
   "id": "8d8bd507-91f9-479f-8e9e-a64881186f5b",
   "metadata": {},
   "outputs": [],
   "source": [
    "import pandas as pd"
   ]
  },
  {
   "cell_type": "code",
   "execution_count": 54,
   "id": "a29bd567-1931-42e8-bb16-ec1733763023",
   "metadata": {},
   "outputs": [
    {
     "data": {
      "text/html": [
       "<div>\n",
       "<style scoped>\n",
       "    .dataframe tbody tr th:only-of-type {\n",
       "        vertical-align: middle;\n",
       "    }\n",
       "\n",
       "    .dataframe tbody tr th {\n",
       "        vertical-align: top;\n",
       "    }\n",
       "\n",
       "    .dataframe thead th {\n",
       "        text-align: right;\n",
       "    }\n",
       "</style>\n",
       "<table border=\"1\" class=\"dataframe\">\n",
       "  <thead>\n",
       "    <tr style=\"text-align: right;\">\n",
       "      <th></th>\n",
       "      <th>Model</th>\n",
       "      <th>Paper</th>\n",
       "      <th>What is this paper about?</th>\n",
       "      <th>Summarize the paper concisely with reference to materials and methods.</th>\n",
       "    </tr>\n",
       "  </thead>\n",
       "  <tbody>\n",
       "    <tr>\n",
       "      <th>0</th>\n",
       "      <td>PDF GPT</td>\n",
       "      <td>fhl_2014_Charifson_34622.pdf; Snail Predation by Hemigrapsus nudus and Hemigrapsus oregonensis: Sex and Species Differences in Chela Size</td>\n",
       "      <td>This paper is about the potential for character displacement in the chela size of two sympatric shore crab species, Hemigrapsus nudus and Hemigrapsus oregonensis. It was found that the two-way ANOVA with factors sex and species did not show a significant species effect, suggesting that the claws of both shore crabs produce roughly the same force and are functionally equivalent (Behrens Yamada and Boulding 1998). Additionally, the consumption rates of H. nudus for Littorina sitkana and Lacuna vincta were found to be 1.8 and 13.03/individual crab/day respectively, and there was no potential for character displacement of chela size in the sympatric species. There were also no differences in consumption rates between male and female H. nudus. [Page no. 8], [Page no. 10], [Page no. 14].</td>\n",
       "      <td>The paper discussed the morphometrics and consumption rates of Hemigrapsus oregonensis and Hemigrapsus nudus, two closely related crabs that can be distinguished by external features. Male and female crabs were measured with digital calipers for carapace width, propal height and propal width [Page no. 5]. Consumption rates of 3 female (Fe1 to Fe3) and 3 male (Ma1 to Ma3) crabs were also calculated [Page no. 21]. SMA regressions of carapace width and propus measures were also presented in a Table [Page no. 11].</td>\n",
       "    </tr>\n",
       "    <tr>\n",
       "      <th>1</th>\n",
       "      <td>Chat Your Data</td>\n",
       "      <td>fhl_2014_Charifson_34622.pdf; Snail Predation by Hemigrapsus nudus and Hemigrapsus oregonensis: Sex and Species Differences in Chela Size</td>\n",
       "      <td>The paper is about an experimental study that investigates the role of highly mobile crab predators in the intertidal zonation of their gastropod prey. It also examines claw morphology, prey size selection, and foraging efficiency in generalist and specialist shell-breaking crabs. The study received financial support from various organizations and was conducted at Friday Harbor Laboratories with permission to collect organisms</td>\n",
       "      <td>The paper acknowledges the support and facilities provided by Friday Harbor Laboratories, The Libbie Hyman Scholarship, Society for Integrative and Comparative Biology, and the Stony Brook Department of Ecology and Evolution. However, the specific materials and methods used in the study are not mentioned in the provided context</td>\n",
       "    </tr>\n",
       "    <tr>\n",
       "      <th>2</th>\n",
       "      <td>Ask My PDF</td>\n",
       "      <td>fhl_2014_Charifson_34622.pdf; Snail Predation by Hemigrapsus nudus and Hemigrapsus oregonensis: Sex and Species Differences in Chela Size</td>\n",
       "      <td>The paper is about the relationship between propus size and the use of snails as prey in two species of crabs, Hemigrapsus nudus and Hemigrapsus oregonensis. It also investigates the potential for character displacement in chela size between the two species. (Page 2)</td>\n",
       "      <td>The paper investigates the relationship between propus size and snail predation in Hemigrapsus nudus and Hemigrapsus oregonensis. The study uses standardized major axis regression to analyze the morphometric parameters of the crabs. The researchers also analyze prey selection by H. nudus using G-tests and one-way ANOVA. The results show that carapace width is a good predictor of propal height and width in both male and female crabs of both species. There is sexual dimorphism in chela size, but no detectable difference in chela size between the two species. The study suggests that there is no potential for character displacement in chela size between H. nudus and H. oregonensis.</td>\n",
       "    </tr>\n",
       "  </tbody>\n",
       "</table>\n",
       "</div>"
      ],
      "text/plain": [
       "            Model  \\\n",
       "0         PDF GPT   \n",
       "1  Chat Your Data   \n",
       "2      Ask My PDF   \n",
       "\n",
       "                                                                                                                                       Paper  \\\n",
       "0  fhl_2014_Charifson_34622.pdf; Snail Predation by Hemigrapsus nudus and Hemigrapsus oregonensis: Sex and Species Differences in Chela Size   \n",
       "1  fhl_2014_Charifson_34622.pdf; Snail Predation by Hemigrapsus nudus and Hemigrapsus oregonensis: Sex and Species Differences in Chela Size   \n",
       "2  fhl_2014_Charifson_34622.pdf; Snail Predation by Hemigrapsus nudus and Hemigrapsus oregonensis: Sex and Species Differences in Chela Size   \n",
       "\n",
       "                                                                                                                                                                                                                                                                                                                                                                                                                                                                                                                                                                                                                                                                                                                                                                                                   What is this paper about?  \\\n",
       "0   This paper is about the potential for character displacement in the chela size of two sympatric shore crab species, Hemigrapsus nudus and Hemigrapsus oregonensis. It was found that the two-way ANOVA with factors sex and species did not show a significant species effect, suggesting that the claws of both shore crabs produce roughly the same force and are functionally equivalent (Behrens Yamada and Boulding 1998). Additionally, the consumption rates of H. nudus for Littorina sitkana and Lacuna vincta were found to be 1.8 and 13.03/individual crab/day respectively, and there was no potential for character displacement of chela size in the sympatric species. There were also no differences in consumption rates between male and female H. nudus. [Page no. 8], [Page no. 10], [Page no. 14].   \n",
       "1                                                                                                                                                                                                                                                                                                                                                                             The paper is about an experimental study that investigates the role of highly mobile crab predators in the intertidal zonation of their gastropod prey. It also examines claw morphology, prey size selection, and foraging efficiency in generalist and specialist shell-breaking crabs. The study received financial support from various organizations and was conducted at Friday Harbor Laboratories with permission to collect organisms   \n",
       "2                                                                                                                                                                                                                                                                                                                                                                                                                                                                                                                                                The paper is about the relationship between propus size and the use of snails as prey in two species of crabs, Hemigrapsus nudus and Hemigrapsus oregonensis. It also investigates the potential for character displacement in chela size between the two species. (Page 2)   \n",
       "\n",
       "                                                                                                                                                                                                                                                                                                                                                                                                                                                                                                                                                                                                                                           Summarize the paper concisely with reference to materials and methods.  \n",
       "0                                                                                                                                                                             The paper discussed the morphometrics and consumption rates of Hemigrapsus oregonensis and Hemigrapsus nudus, two closely related crabs that can be distinguished by external features. Male and female crabs were measured with digital calipers for carapace width, propal height and propal width [Page no. 5]. Consumption rates of 3 female (Fe1 to Fe3) and 3 male (Ma1 to Ma3) crabs were also calculated [Page no. 21]. SMA regressions of carapace width and propus measures were also presented in a Table [Page no. 11].  \n",
       "1                                                                                                                                                                                                                                                                                                                                                                       The paper acknowledges the support and facilities provided by Friday Harbor Laboratories, The Libbie Hyman Scholarship, Society for Integrative and Comparative Biology, and the Stony Brook Department of Ecology and Evolution. However, the specific materials and methods used in the study are not mentioned in the provided context  \n",
       "2  The paper investigates the relationship between propus size and snail predation in Hemigrapsus nudus and Hemigrapsus oregonensis. The study uses standardized major axis regression to analyze the morphometric parameters of the crabs. The researchers also analyze prey selection by H. nudus using G-tests and one-way ANOVA. The results show that carapace width is a good predictor of propal height and width in both male and female crabs of both species. There is sexual dimorphism in chela size, but no detectable difference in chela size between the two species. The study suggests that there is no potential for character displacement in chela size between H. nudus and H. oregonensis.  "
      ]
     },
     "execution_count": 54,
     "metadata": {},
     "output_type": "execute_result"
    }
   ],
   "source": [
    "pd.read_csv('data.csv', nrows=3, usecols=[0,1,2,3])\n"
   ]
  },
  {
   "cell_type": "code",
   "execution_count": null,
   "id": "05654232-7220-4145-9f75-6c426a58357b",
   "metadata": {},
   "outputs": [],
   "source": []
  }
 ],
 "metadata": {
  "kernelspec": {
   "display_name": "Python 3 (ipykernel)",
   "language": "python",
   "name": "python3"
  },
  "language_info": {
   "codemirror_mode": {
    "name": "ipython",
    "version": 3
   },
   "file_extension": ".py",
   "mimetype": "text/x-python",
   "name": "python",
   "nbconvert_exporter": "python",
   "pygments_lexer": "ipython3",
   "version": "3.11.4"
  }
 },
 "nbformat": 4,
 "nbformat_minor": 5
}
