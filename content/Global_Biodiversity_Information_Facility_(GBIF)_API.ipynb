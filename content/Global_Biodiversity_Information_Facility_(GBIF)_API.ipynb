{
 "cells": [
  {
   "cell_type": "code",
   "execution_count": 1,
   "id": "301e8030",
   "metadata": {},
   "outputs": [],
   "source": [
    "import requests\n",
    "import os\n",
    "from langchain.chains import APIChain\n",
    "from langchain.chat_models import ChatOpenAI"
   ]
  },
  {
   "cell_type": "code",
   "execution_count": 2,
   "id": "a9531a9e",
   "metadata": {},
   "outputs": [],
   "source": [
    "os.environ[\"OPENAI_API_KEY\"] = \"API KEY\""
   ]
  },
  {
   "cell_type": "code",
   "execution_count": 3,
   "id": "4970a17a",
   "metadata": {},
   "outputs": [],
   "source": [
    "llm = ChatOpenAI(temperature= 0, model_name=\"gpt-3.5-turbo\", max_tokens = 256, verbose =True)"
   ]
  },
  {
   "cell_type": "code",
   "execution_count": 4,
   "id": "9785615f",
   "metadata": {},
   "outputs": [],
   "source": [
    "apiSpecs = \"\"\"API Documentation\n",
    "base_url: https://api.gbif.org/v1/\n",
    "Endpoint: occurrence/search\n",
    "Example API call: https://www.gbif.org/occurrence/search?q=Hemigrapsus%20nudus\n",
    "\"\"\""
   ]
  },
  {
   "cell_type": "code",
   "execution_count": 5,
   "id": "5969d269",
   "metadata": {
    "scrolled": true
   },
   "outputs": [
    {
     "name": "stdout",
     "output_type": "stream",
     "text": [
      "\n",
      "\n",
      "\u001b[1m> Entering new APIChain chain...\u001b[0m\n",
      "\u001b[32;1m\u001b[1;3mhttps://api.gbif.org/v1/occurrence/search?q=Tonicella%20lineata&limit=1&sort=occurrenceDate desc\u001b[0m\n",
      "\u001b[33;1m\u001b[1;3m{\"offset\":0,\"limit\":1,\"endOfRecords\":false,\"count\":457899,\"results\":[{\"key\":1989898085,\"datasetKey\":\"965bbbd8-f762-11e1-a439-00145eb45e9a\",\"publishingOrgKey\":\"c76cf030-2a95-11da-9cc1-b8a03c50a862\",\"networkKeys\":[\"17abcf75-2f1e-46dd-bf75-a5b21dd02655\"],\"installationKey\":\"60383ab8-f762-11e1-a439-00145eb45e9a\",\"hostingOrganizationKey\":\"c76cf030-2a95-11da-9cc1-b8a03c50a862\",\"publishingCountry\":\"DE\",\"protocol\":\"BIOCASE\",\"lastCrawled\":\"2023-07-14T22:44:48.042+00:00\",\"lastParsed\":\"2023-07-15T07:20:55.169+00:00\",\"crawlId\":224,\"extensions\":{},\"basisOfRecord\":\"PRESERVED_SPECIMEN\",\"occurrenceStatus\":\"PRESENT\",\"taxonKey\":2306813,\"kingdomKey\":1,\"phylumKey\":52,\"classKey\":346,\"orderKey\":8278247,\"familyKey\":3246305,\"genusKey\":2306809,\"speciesKey\":2306813,\"acceptedTaxonKey\":2306813,\"scientificName\":\"Tonicella lineata (Wood, 1815)\",\"acceptedScientificName\":\"Tonicella lineata (Wood, 1815)\",\"kingdom\":\"Animalia\",\"phylum\":\"Mollusca\",\"order\":\"Chitonida\",\"family\":\"Tonicellidae\",\"genus\":\"Tonicella\",\"species\":\"Tonicella lineata\",\"genericName\":\"Tonicella\",\"specificEpithet\":\"lineata\",\"taxonRank\":\"SPECIES\",\"taxonomicStatus\":\"ACCEPTED\",\"iucnRedListCategory\":\"NE\",\"gadm\":{},\"issues\":[\"COLLECTION_MATCH_NONE\",\"INSTITUTION_MATCH_FUZZY\"],\"lastInterpreted\":\"2023-07-15T07:20:55.169+00:00\",\"license\":\"http://creativecommons.org/licenses/by/4.0/legalcode\",\"identifiers\":[{\"identifier\":\"urn:catalog:SMF:Collection Mollusca:350221\"}],\"media\":[],\"facts\":[],\"relations\":[],\"institutionKey\":\"16946ec1-8db3-45b8-b084-7644384cc5f5\",\"isInCluster\":false,\"class\":\"Polyplacophora\",\"recordedByIDs\":[],\"identifiedByIDs\":[],\"catalogNumber\":\"350221\",\"institutionCode\":\"SMF\",\"collectionCode\":\"Collection Mollusca\",\"gbifID\":\"1989898085\"}],\"facets\":[]}\u001b[0m\n",
      "\n",
      "\u001b[1m> Finished chain.\u001b[0m\n",
      "The most recent occurrence of Tonicella lineata is recorded in the dataset with the key \"965bbbd8-f762-11e1-a439-00145eb45e9a\". The occurrence is a preserved specimen and is present. The scientific name of the species is \"Tonicella lineata (Wood, 1815)\" and it belongs to the kingdom Animalia, phylum Mollusca, order Chitonida, family Tonicellidae, genus Tonicella, and species Tonicella lineata. The occurrence was last crawled on July 14, 2023, and last parsed on July 15, 2023. The occurrence is associated with the catalog number \"350221\" in the institution with the code \"SMF\" and the collection code \"Collection Mollusca\".\n"
     ]
    }
   ],
   "source": [
    "chain_new = APIChain.from_llm_and_api_docs(llm, apiSpecs, verbose=True)\n",
    "response = chain_new.run('Please list the most recent occurrence with Tonicella lineata')\n",
    "print(response)"
   ]
  },
  {
   "cell_type": "code",
   "execution_count": 23,
   "id": "86cb23b0",
   "metadata": {
    "scrolled": false
   },
   "outputs": [
    {
     "name": "stderr",
     "output_type": "stream",
     "text": [
      "Error in on_chain_start callback: 'name'\n"
     ]
    },
    {
     "name": "stdout",
     "output_type": "stream",
     "text": [
      "\u001b[32;1m\u001b[1;3mhttps://api.gbif.org/v1/occurrence/search?q=Hemigrapsus%20nudus&limit=1\u001b[0m\n",
      "\u001b[33;1m\u001b[1;3m{\"offset\":0,\"limit\":1,\"endOfRecords\":false,\"count\":40113,\"results\":[{\"key\":1065135676,\"datasetKey\":\"005eb8d8-ed94-41be-89cf-e3115a9058e4\",\"publishingOrgKey\":\"7b8aff00-a9f8-11d8-944b-b8a03c50a862\",\"installationKey\":\"3b84ff5b-79ce-427c-acb7-b4004e160f66\",\"hostingOrganizationKey\":\"7b8aff00-a9f8-11d8-944b-b8a03c50a862\",\"publishingCountry\":\"US\",\"protocol\":\"EML\",\"lastCrawled\":\"2023-06-01T04:23:12.378+00:00\",\"lastParsed\":\"2023-06-07T20:20:50.103+00:00\",\"crawlId\":310,\"extensions\":{},\"basisOfRecord\":\"PRESERVED_SPECIMEN\",\"individualCount\":2,\"occurrenceStatus\":\"PRESENT\",\"taxonKey\":2225773,\"kingdomKey\":1,\"phylumKey\":54,\"classKey\":229,\"orderKey\":637,\"familyKey\":11368965,\"genusKey\":2225769,\"speciesKey\":2225773,\"acceptedTaxonKey\":2225773,\"scientificName\":\"Hemigrapsus nudus (Dana, 1851)\",\"acceptedScientificName\":\"Hemigrapsus nudus (Dana, 1851)\",\"kingdom\":\"Animalia\",\"phylum\":\"Arthropoda\",\"order\":\"Decapoda\",\"family\":\"Varunidae\",\"genus\":\"Hemigrapsus\",\"species\":\"Hemigrapsus nudus\",\"genericName\":\"Hemigrapsus\",\"specificEpithet\":\"nudus\",\"taxonRank\":\"SPECIES\",\"taxonomicStatus\":\"ACCEPTED\",\"iucnRedListCategory\":\"NE\",\"continent\":\"NORTH_AMERICA\",\"stateProvince\":\"British Columbia\",\"gadm\":{},\"issues\":[\"OCCURRENCE_STATUS_INFERRED_FROM_INDIVIDUAL_COUNT\",\"INSTITUTION_MATCH_FUZZY\",\"INSTITUTION_COLLECTION_MISMATCH\"],\"modified\":\"2023-03-01T09:11:00.000+00:00\",\"lastInterpreted\":\"2023-06-07T20:20:50.103+00:00\",\"license\":\"http://creativecommons.org/publicdomain/zero/1.0/legalcode\",\"identifiers\":[{\"identifier\":\"f059351b-c94c-4ddc-82be-6d6d900c381c\"}],\"media\":[],\"facts\":[],\"relations\":[],\"institutionKey\":\"e71f36f1-e271-4720-a604-3c5a1418e7aa\",\"isInCluster\":false,\"datasetID\":\"invertebrates-25-Apr-2023\",\"class\":\"Malacostraca\",\"countryCode\":\"CA\",\"recordedByIDs\":[],\"identifiedByIDs\":[],\"country\":\"Canada\",\"rightsHolder\":\"The Field Museum of Natural History\",\"identifier\":\"f059351b-c94c-4ddc-82be-6d6d900c381c\",\"nomenclaturalCode\":\"ICZN\",\"higherGeography\":\"North America, Canada: Barelay Sound, British Colombia\",\"institutionID\":\"FMNH\",\"locality\":\"Barelay Sound, British Colombia\",\"fieldNumber\":\"ALB-1701\",\"collectionCode\":\"Invertebrate Zoology\",\"gbifID\":\"1065135676\",\"occurrenceID\":\"f059351b-c94c-4ddc-82be-6d6d900c381c\",\"catalogNumber\":\"1701\",\"organismID\":\"560837\",\"institutionCode\":\"FMNH\",\"locationID\":\"a56e1046-139d-4125-9045-2f6fd51661e0\",\"ownerInstitutionCode\":\"FMNH\",\"accessRights\":\"https://www.fieldmuseum.org/about/copyright-information\",\"collectionID\":\"Invertebrate Zoology\",\"higherClassification\":\"Animalia Arthropoda Malacostraca Decapoda Varunidae\"}],\"facets\":[]}\u001b[0m\n",
      "\n",
      "\u001b[1m> Finished chain.\u001b[0m\n",
      "The first occurrence of Hemigrapsus nudus is found in the dataset with the key \"005eb8d8-ed94-41be-89cf-e3115a9058e4\". It was published by the organization with the key \"7b8aff00-a9f8-11d8-944b-b8a03c50a862\" and hosted by the same organization. The occurrence is a preserved specimen with a count of 2 individuals. The taxonomic classification of the occurrence is as follows: kingdom - Animalia, phylum - Arthropoda, class - Malacostraca, order - Decapoda, family - Varunidae, genus - Hemigrapsus, species - Hemigrapsus nudus. The occurrence is considered present and the taxonomic status is accepted. It was recorded in Barelay Sound, British Columbia, Canada. The occurrence is associated with the identifier \"f059351b-c94c-4ddc-82be-6d6d900c381c\" and has a catalog number of \"1701\". The occurrence is part of the Invertebrate Zoology collection at The Field Museum of Natural History.\n"
     ]
    }
   ],
   "source": [
    "chain_new = APIChain.from_llm_and_api_docs(llm, apiSpecs, verbose=True)\n",
    "response = chain_new.run('Please list the first occurrence with Hemigrapsus nudus')\n",
    "print(response)"
   ]
  },
  {
   "cell_type": "code",
   "execution_count": 2,
   "id": "a8cb5ff6",
   "metadata": {},
   "outputs": [],
   "source": [
    "import requests\n",
    "import json\n",
    "\n",
    "# GBIF API base URL\n",
    "base_url = 'https://api.gbif.org/v1/'\n",
    "\n",
    "# Function to search occurrences of a species\n",
    "def search_species_occurrences(species_name, year = None):\n",
    "    # GBIF Occurrence Search API endpoint\n",
    "    url = f'{base_url}occurrence/search'\n",
    "\n",
    "    # Parameters for the API request\n",
    "    params = {\n",
    "        'scientificName': species_name,\n",
    "        'limit': 5 # Number of results to retrieve (adjust as needed)\n",
    "    }\n",
    "    \n",
    "    if year:\n",
    "        #Add year parameter if provided\n",
    "        params[\"year\"] = year\n",
    "    \n",
    "    try:\n",
    "        # Set get request to GBIF API\n",
    "        response = requests.get(url, params=params)\n",
    "        response.raise_for_status()\n",
    "\n",
    "        # Extract the repsonse data as JSON\n",
    "        data = response.json()\n",
    "        \n",
    "        if \"results\" in data:\n",
    "            results = data[\"results\"]\n",
    "            if results:\n",
    "                occurrences = []\n",
    "                for result in results:\n",
    "#                     if all(attr in result for attr in [\"key\", \"eventDate\", \"locality\", \"decimalLatitude\", \"decimalLongitude\", \"recordedBy\", \"kingdomKey\",\"phylumKey\", \"waterBody\"]):\n",
    "                        occurrence_id = result.get(\"key\", \"N/A\")\n",
    "                        occurrence_sciName = result.get(\"scientificName\", \"N/A\")\n",
    "                        occurrence_record = result.get(\"recordedBy\", \"N/A\")\n",
    "                        occurrence_date = result.get(\"eventDate\", \"N/A\")\n",
    "                        occurrence_locality = result.get(\"locality\", \"N/A\")\n",
    "                        occurrence_bodywater = result.get(\"waterBody\", \"N/A\")\n",
    "                        occurrence_depth = result.get(\"depth\", \"N/A\")\n",
    "                        occurrence_elevation = result.get(\"elevation\", \"N/A\")\n",
    "                        occurrence_lat = result.get(\"decimalLatitude\", \"N/A\")\n",
    "                        occurrence_long = result.get(\"decimalLongitude\", \"N/A\")\n",
    "                        occurrence_kingdom = result.get(\"kingdomKey\", \"N/A\")\n",
    "                        occurrence_phylum = result.get(\"phylumKey\", \"N/A\")\n",
    "                \n",
    "\n",
    "                        #Create a dictionary for the occurrences\n",
    "                        occurrence = {\n",
    "                            \"occurrence_id\": occurrence_id,\n",
    "                            \"occurrence_sciName\": occurrence_sciName,\n",
    "                            \"occurrence_date\": occurrence_date,\n",
    "                            \"location\": occurrence_locality,\n",
    "                            \"latitude\": occurrence_lat,\n",
    "                            \"longitude\": occurrence_long,\n",
    "                            \"collected by\": occurrence_record,\n",
    "                            \"kingdom\": occurrence_kingdom,\n",
    "                            \"phylum\": occurrence_phylum,\n",
    "                            \"body_water\": occurrence_bodywater,\n",
    "                            \"depth\": occurrence_depth,\n",
    "                            \"elevation\": occurrence_elevation\n",
    "                        }\n",
    "\n",
    "                        #Add the occurrence to the list\n",
    "                        occurrences.append(occurrence)\n",
    "                return occurrences\n",
    "            else:\n",
    "                return []\n",
    "        else:\n",
    "            print(\"Error: Invalid reponse from GBIF API\")\n",
    "            return []\n",
    "        \n",
    "    except requests.exceptions.HTTPError as err:\n",
    "        print(f\"HTTP error occurred: {err}\")\n",
    "    except requests.exceptions.RequestException as err:\n",
    "        print(f\"An error occurred: {err}\")\n",
    "          "
   ]
  },
  {
   "cell_type": "code",
   "execution_count": 3,
   "id": "cf6f48a0",
   "metadata": {},
   "outputs": [],
   "source": [
    "# Example usage\n",
    "species_name = \"Tonicella lineata\"  # Replace with your desired species name\n",
    "year = 2014 #replace with year of article\n",
    "occurrences = search_species_occurrences(species_name, year)"
   ]
  },
  {
   "cell_type": "code",
   "execution_count": 4,
   "id": "6f902754",
   "metadata": {},
   "outputs": [
    {
     "name": "stdout",
     "output_type": "stream",
     "text": [
      "Occurrence ID: 4039335302\n",
      "Scientific Name: Tonicella lineata (Wood, 1815)\n",
      "Occurrence Date: 2014-01-11T13:38:33\n",
      "Recorded by: Kris Liang\n",
      "Location: N/A\n",
      "Depth: N/A\n",
      "Elevation: N/A\n",
      "Body of Water: N/A\n",
      "Latitude: 37.520271\n",
      "Longitude: -122.515915\n",
      "Kingdom: 1\n",
      "Phylum: 52\n",
      "--------------------\n",
      "Occurrence ID: 3357460927\n",
      "Scientific Name: Tonicella lineata (Wood, 1815)\n",
      "Occurrence Date: 2014-01-03T00:00:00\n",
      "Recorded by: Andy Lamb\n",
      "Location: Baines Point\n",
      "Depth: N/A\n",
      "Elevation: N/A\n",
      "Body of Water: N/A\n",
      "Latitude: 49.007465\n",
      "Longitude: -123.587784\n",
      "Kingdom: 1\n",
      "Phylum: 52\n",
      "--------------------\n",
      "Occurrence ID: 891052717\n",
      "Scientific Name: Tonicella lineata (Wood, 1815)\n",
      "Occurrence Date: 2014-02-27T15:09:28\n",
      "Recorded by: Liam O'Brien\n",
      "Location: N/A\n",
      "Depth: N/A\n",
      "Elevation: N/A\n",
      "Body of Water: N/A\n",
      "Latitude: 37.494351\n",
      "Longitude: -122.498529\n",
      "Kingdom: 1\n",
      "Phylum: 52\n",
      "--------------------\n",
      "Occurrence ID: 1837784847\n",
      "Scientific Name: Tonicella lineata (Wood, 1815)\n",
      "Occurrence Date: 2014-03-23T12:03:00\n",
      "Recorded by: Donna Pomeroy\n",
      "Location: N/A\n",
      "Depth: N/A\n",
      "Elevation: N/A\n",
      "Body of Water: N/A\n",
      "Latitude: 37.495017\n",
      "Longitude: -122.499231\n",
      "Kingdom: 1\n",
      "Phylum: 52\n",
      "--------------------\n",
      "Occurrence ID: 1453541336\n",
      "Scientific Name: Tonicella lineata (Wood, 1815)\n",
      "Occurrence Date: 2014-03-23T11:39:02\n",
      "Recorded by: Robin Gwen Agarwal\n",
      "Location: N/A\n",
      "Depth: N/A\n",
      "Elevation: N/A\n",
      "Body of Water: N/A\n",
      "Latitude: 37.494806\n",
      "Longitude: -122.499397\n",
      "Kingdom: 1\n",
      "Phylum: 52\n",
      "--------------------\n"
     ]
    }
   ],
   "source": [
    "# Print or process the occurrences as needed\n",
    "for occurrence in occurrences:\n",
    "    print(f\"Occurrence ID: {occurrence['occurrence_id']}\")\n",
    "    print(f\"Scientific Name: {occurrence['occurrence_sciName']}\")\n",
    "    print(f\"Occurrence Date: {occurrence['occurrence_date']}\")\n",
    "    print(f\"Recorded by: {occurrence['collected by']}\")\n",
    "    print(f\"Location: {occurrence['location']}\")\n",
    "    print(f\"Depth: {occurrence['depth']}\")\n",
    "    print(f\"Elevation: {occurrence['elevation']}\")\n",
    "    print(f\"Body of Water: {occurrence['body_water']}\")\n",
    "    print(f\"Latitude: {occurrence['latitude']}\")\n",
    "    print(f\"Longitude: {occurrence['longitude']}\")\n",
    "    print(f\"Kingdom: {occurrence['kingdom']}\")\n",
    "    print(f\"Phylum: {occurrence['phylum']}\")\n",
    "    print(\"-\" * 20)"
   ]
  }
 ],
 "metadata": {
  "kernelspec": {
   "display_name": "Python 3 (ipykernel)",
   "language": "python",
   "name": "python3"
  },
  "language_info": {
   "codemirror_mode": {
    "name": "ipython",
    "version": 3
   },
   "file_extension": ".py",
   "mimetype": "text/x-python",
   "name": "python",
   "nbconvert_exporter": "python",
   "pygments_lexer": "ipython3",
   "version": "3.11.4"
  }
 },
 "nbformat": 4,
 "nbformat_minor": 5
}
