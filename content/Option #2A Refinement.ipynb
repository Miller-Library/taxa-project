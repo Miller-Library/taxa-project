{
 "cells": [
  {
   "cell_type": "code",
   "execution_count": 132,
   "id": "882a266b",
   "metadata": {},
   "outputs": [],
   "source": [
    "import pandas as pd\n",
    "import os\n",
    "import openai\n",
    "import sys, pathlib, fitz\n",
    "import re\n",
    "from langchain.chains import ConversationalRetrievalChain\n",
    "from langchain.document_loaders import PyMuPDFLoader\n",
    "from langchain.text_splitter import TokenTextSplitter\n",
    "from langchain.embeddings.openai  import OpenAIEmbeddings\n",
    "from langchain.vectorstores import FAISS\n",
    "from langchain.retrievers import ContextualCompressionRetriever\n",
    "from langchain.retrievers.document_compressors import LLMChainExtractor\n",
    "from langchain.retrievers.document_compressors import LLMChainFilter\n",
    "from langchain.chat_models import ChatOpenAI\n",
    "from langchain.memory import ConversationBufferMemory\n",
    "from langchain import PromptTemplate\n",
    "from langchain.chains.conversational_retrieval.prompts import CONDENSE_QUESTION_PROMPT"
   ]
  },
  {
   "cell_type": "code",
   "execution_count": 2,
   "id": "3f71f89f",
   "metadata": {},
   "outputs": [],
   "source": [
    "from dotenv import load_dotenv, find_dotenv\n",
    "_ = load_dotenv(find_dotenv()) # read local .env file\n",
    "\n",
    "openai.api_key  = os.environ['OPENAI_API_KEY']"
   ]
  },
  {
   "cell_type": "code",
   "execution_count": 148,
   "id": "7a61a18b",
   "metadata": {},
   "outputs": [],
   "source": [
    "def has_citations(page_text):\n",
    "    # List of variations of \"citations\" to check for\n",
    "    citation_variations = [\"Citations\", \"Literature Cited\", \"Literature Citations\"]\n",
    "\n",
    "    for variation in citation_variations:\n",
    "        if variation in page_text:\n",
    "            return True\n",
    "    return False\n",
    "\n",
    "def remove_citation_pages(pdf_path):\n",
    "    doc = fitz.open(pdf_path)\n",
    "    non_citation_pages = []\n",
    "\n",
    "    for page_num in range(doc.page_count):\n",
    "        page = doc[page_num]\n",
    "        page_text = page.get_text()\n",
    "\n",
    "        if not has_citations(page_text):\n",
    "            non_citation_pages.append(page_num)\n",
    "\n",
    "    # Create a new PDF with only non-citation pages\n",
    "    new_pdf = fitz.open()\n",
    "    for page_num in non_citation_pages:\n",
    "        new_pdf.insert_pdf(doc, from_page=page_num, to_page=page_num)\n",
    "\n",
    "    return new_pdf\n",
    "\n",
    "\n",
    "input_pdf_path = './hms/fhl_2014_Charifson_34622 (1).pdf'\n",
    "\n",
    "# Create a new PDF with citation pages removed\n",
    "new_pdf = remove_citation_pages(input_pdf_path)\n",
    "\n",
    "# Save the new PDF to 'output.pdf'\n",
    "output_pdf_path = 'output.pdf'\n",
    "new_pdf.save(output_pdf_path)\n",
    "# new_pdf.close()\n"
   ]
  },
  {
   "cell_type": "code",
   "execution_count": 149,
   "id": "fab450f8",
   "metadata": {},
   "outputs": [
    {
     "name": "stdout",
     "output_type": "stream",
     "text": [
      "Charifson 1 \n",
      " \n",
      "Snail Predation by Hemigrapsus nudus and Hemigrapsus oregonensis: Sex and Species \n",
      "Differences in Chela Size. \n",
      " \n",
      "David Charifson1,2 \n",
      " \n",
      "Marine Invertebrate Zoology \n",
      "Summer 2014 \n",
      " \n",
      " \n",
      " \n",
      " \n",
      "1 Friday Harbor Laboratories, University of Washington, Friday Harbor, WA 98250 \n",
      "2 Department of Ecology and Evolution, Stony Brook University, Stony Brook, NY 11794-5245 \n",
      " \n",
      " \n",
      " \n",
      " \n",
      "Contact information: \n",
      "David Charifson \n",
      "Department of Ecology and Evolution \n",
      "Stony Brook University \n",
      "650 Life Sciences Building \n",
      "Stony Brook, NY 11794-5245 \n",
      "David.charifson@stonybrook.edu  \n",
      " \n",
      " \n",
      " \n",
      " \n",
      "Keywords: Hemigrapsus nudus, Hemigrapsus orogenensis, Littorina scutulata, Lacuna vincta, \n",
      "predation, sexual dimorphism, character displacement  \n",
      " \n",
      " \n",
      "Charifson 2 \n",
      " \n",
      "Abstract: \n",
      " \n",
      "The relationship between propus size and use of snails as prey in sympatric populations \n",
      "of Hemigrapsus nudus and Hemigrapsus oregonensis was investigated. Propal height and propal \n",
      "width increases with body size in a predictable manner in male and female crabs of both species. \n",
      "Sexual dimorphism of propal height and width relationships in both shore crabs is apparent, but \n",
      "there was no detectible difference in chela size between H. nudus and H. oregonensis. The lack \n",
      "of difference in chela size between sympatric H. nudus and H. oregonensis suggests that there is \n",
      "no character displacement in this trait. Both species of crabs showed a strong feeding preference \n",
      "for the thin-shelled gastropod Lacuna vincta over the thicker shelled Littorina scutulata, likely \n",
      "due to the ease of consumption. There were no differences in snail consumption rates between \n",
      "male and female H. nudus of similar propal heights, mostly due to high feeding variation among \n",
      "individual crabs.  \n",
      " \n",
      "Introduction: \n",
      " \n",
      "A multitude of species coexist in the marine intertidal environment. Closely related \n",
      "species may be sympatric and compete for resources, such as food. Two species of shore crab, \n",
      "Hemigrapsus nudus (Dana 1851) and Hemigrapsus oregonensis (Dana 1851), occur in sympatry \n",
      "in the Salish Sea. Both species are sexually dimorphic, with the males having larger chelae. \n",
      "Species in sympatry may exhibit character displacement, the exaggeration of morphological or \n",
      "behavioral characteristics due to competition for resources (Brown and Wilson 1956). When H. \n",
      "nudus and H. oregonensis co-occur, H. oregonensis tends to be found closer to the waterand in \n",
      "finer sediment than the more desiccation-tolerant H. nudus (Sliger 1982). There is still \n",
      "considerable habitat overlap between these two species; the underside of a single rock may have \n",
      "Charifson 3 \n",
      " \n",
      "roughly equal abundances of the two crab species (personal observation). The size of the chela \n",
      "may differ, which could allow the crabs to differentiate in food resource utilization. \n",
      "Both species are omnivores that eat algae and small invertebrates, including snails \n",
      "(Behrens Yamada and Boulding 1996). The two shore crab species are known to eat Littorina \n",
      "sitkana (Philippi 1846) and Littorina scutulata (Gould 1849), which also occur in the rocky \n",
      "intertidal zone (Behrens Yamada and Boulding 1996). Li. scutulata moves upshore in response \n",
      "to the presence of H. nudus and crushed conspecifics, where H. nudus density is lower (Keppel \n",
      "and Scrosati 2004). This suggests that H. nudus represents an ecologically significant predation \n",
      "threat to littorines.  \n",
      " \n",
      "The thick shelled littorines are difficult prey for both H. nudus and H. oregonensis as \n",
      "neither crab species is a molluscivore specialists; they typically scrape or pick algae and softer \n",
      "invertebrates off rocks using their chelae (Behrens Yamada and Boulding 1996). Behrens \n",
      "Yamada and Boulding (1998) found that large H. nudus were capable of consuming Li. sitkana \n",
      "that were less than 8 mm in length, but had only a 37% success rate of consuming snails with \n",
      "lengths between 5.5-7 mm .  \n",
      "I sought to investigate differences in propus size between between males and females of \n",
      "these two crab species. The size of the propus of the chela is positively correlated with the \n",
      "amount of force that can be produced due to greater musculature (Behrens Yamada and Boulding \n",
      "1998). A significant difference in propus size between the two species would suggest that further \n",
      "testing of character displacement may be warranted. A disparity in propus size to body size \n",
      "between male and female crabs might result in different feeding rates and shell breaking \n",
      "capabilities. I devised a test of preference by varying snail shell strength within the same size \n",
      "class. The snail species Li. scutulata and Lacuna vincta (Montagu 1803) are both in the family \n",
      "Charifson 4 \n",
      " \n",
      "Littorinidae and have similar shell shape but different shell thickness. Lacuna vincta has a \n",
      "thinner, more fragile shell and is likely to be preferred as prey by shore crabs. I also hypothesize \n",
      "that, if chela size is held constant, female crabs will have greater snail consumption rates than \n",
      "male crabs. Female crabs with claws equivalent to males have a larger body mass,are likely to \n",
      "have greater metabolic need, and are less easily satiated. \n",
      " \n",
      "Study System: \n",
      " \n",
      "All specimens were collected on San Juan Island, Washington.  Two shore crabs (clade: \n",
      "Brachyura: Family Grapsidae), Hemigrapsus oregonensis  and Hemigrapsus nudus were \n",
      "collected in the intertidal adjacent to the Friday Harbor Laboratories dock. These closely related \n",
      "crabs are morphologically similar, but can be distinguished by the presence of purple spots on \n",
      "the cheliped of H. nudus and abundant setae on the pereopods of H. oregonensis (Kozloff 1987). \n",
      "Lacuna vincta, in the Class Gastropoda and Family Littoridae, were collected at False Bay and \n",
      "Dead Man Cove. Littorina scutulata, in the Class Gastropoda and Family Littoridae, were \n",
      "collected from the rocky intertidal zone of Fourth of July Beach.  \n",
      " \n",
      "Materials and Methods: \n",
      "Morphometrics \n",
      " \n",
      "Male and females of H. oregonensis and H. nudus were measured with digital calipers \n",
      "(0.1 mm). Each crab was measured for carapace width, propal height and propal width. Carapace \n",
      "width was taken at the widest part of the carapace. Propal height was measured at the highest \n",
      "vertical distance along the propus. Propal width was measured perpendicular to propal height, \n",
      "from the left to right sides of the propus. All claw measurements were made on the left cheliped. \n",
      "Charifson 5 \n",
      " \n",
      "If there was a size disparity between the left and right claws due to regeneration of a lost claw, \n",
      "the crab was excluded from the study. Ratios of carapace width:propal height (CW:PH) and \n",
      "carapace width:propal width (CW:PW) were calculated.  \n",
      " \n",
      "Crab Feeding Preference \n",
      " \n",
      "Three female (Fe1, Fe2, Fe3) and three male (Ma1, Ma2, Ma3) crabs of H. nudus with \n",
      "propal heights between 5-6 mm were placed in small flow-through containers. Five L. scutulata \n",
      "and five L. vincta with shell lengths between 4-6 mm were added to each container. The ranges \n",
      "of crab propal height and snail shell length were chosen based on prior studies to ensure that the \n",
      "crabs were capable of feeding on the hard-shelled L. scutulata (Behrens Yamada and Boulding \n",
      "1998). H. oregonensis was excluded due to the rarity of female crabs of that species within the \n",
      "range of appropriate propal heights. After approximately 15 hours the number of L. scutulata and \n",
      "L. vincta consumed was counted. Three trials were conducted for each crab. \n",
      "Snail Consumption by Hemigrapsus nudus \n",
      " \n",
      "The crabs from the preference experiment were given five of each snail in each trial. \n",
      "After 1.5 to 3 hours the number of snails consumed was counted and converted to a consumption \n",
      "rate (snails consumed/hour). A total of eight feeding trials were conducted.  \n",
      " \n",
      "Statistical Analysis \n",
      " \n",
      "For the morphometric analysis, crabs were divided into four groups based on sex and \n",
      "species. Standardized major axis regression was used to determine the relationship between crab \n",
      "morphometric parameters. Arcsin transformations were used to correct for non-normality (Sokol \n",
      "and Rohlf 2011). Differences in CW:PH and CW:PW were analyzed using a two-way ANOVA \n",
      "Charifson 6 \n",
      " \n",
      "with factors: Sex and Species. Prey selection by H. nudus was analyzed using G-tests for each \n",
      "individual that consumed snails. An one-way ANOVA was used to determine differences in snail \n",
      "consumption rates by H. nudus.  \n",
      " \n",
      "Results: \n",
      "Morphometrics: \n",
      " \n",
      "Carapace width was a good predictor of both propal height (Figure 1, Table 1A) and \n",
      "propal width (Figure 2, Table 1B) in female and male H. oregonensis and H. nudus. There was \n",
      "less variation in the relationship between carapace width and propal height than with propal \n",
      "width.  Due to non-normality of CW:PH and CW:PW an arcsin transformation was used. A \n",
      "significant effect for sex was found for both CW:PH (F1, 45 = 125.6, p < 0.001) and CW:PW  (F1, \n",
      "45 = 103.81, p < 0.001). There was no significant difference between Hemigrapsus species for \n",
      "CW:PH (F1, 45 < 0.01, p = 0.983) and CW:PW (F1, 45 = 0.09, p = 0.764). A significant \n",
      "sex*species interaction was detected for both CW:PH (F1, 45 4.39, p = 0.042) and CW:PW (F1, 45 \n",
      "= 7.19, p = 0.010). Figure 3 and 4 show the means of CW:PH and CW:PW in by sex and species \n",
      "respectively.  \n",
      " \n",
      "Crab Feeding Preference:  \n",
      " \n",
      "Expected values for both the number of L. scutulata and L. vincta consumed for the G-\n",
      "test are 0.5 multiplied by the total number of snails consumed by each individual crab. G-tests \n",
      "for individual H. nudus that eat snails were all significant at p < 0.001 with 1 degree of freedom \n",
      "(See Table 2 for statistical summary). The three crabs that did not eat either L. scutulata or L. \n",
      "vincta could not be tested for feeding preference.  \n",
      "Charifson 7 \n",
      " \n",
      " \n",
      "Snail Consumption by Hemigrapsus nudus \n",
      " \n",
      "No significant difference in crab feeding rate (snails consumed/hour) was found (F2, 21 = \n",
      "2.52, p = 0.104) among individual H. nudus that fed on snails during the course of the \n",
      "consumption experiment (Figure 5). Fe2  ate snails at a rate of 0.59±0.53 snails/hour (variance is \n",
      "standard deviation), Ma1 feeding rate was 0.24±0.31 snails/hour, and Ma2 had a feeding rate of \n",
      "0.80±0.38 snails/hour. Individuals Fe1, Fe3 and Ma3 did not consume any snails during the \n",
      "course of the experiment.  \n",
      " \n",
      "Discussion: \n",
      " \n",
      "A few interesting patterns emerged in the morphometric analysis of Hemigrapsus nudus \n",
      "and Hemigrapsus orogenensis. The variance in propal height or propal width explained by \n",
      "carapace width was surprisingly high in female H. nudus with R2 values of 0.976 found for \n",
      "propal height and 0.927 for propal width. Male H. oregenensis had the greatest variation in chela \n",
      "size parameters, demonstrated by R2 of 0.693 and 0.534 for propal height and propal width \n",
      "respectively. The R2 values for propal width regressed against carapace width were consistently \n",
      "lower than propal height regressed against carapace width across species and sexes (Table 1). In \n",
      "general the ability of carapace width to explain the variance in chela size parameters (i.e.: R2 \n",
      "values) was greater in females of both crab species (Table 1, Figures 1 and 2). Males may have \n",
      "more variation in claw size due to trade-offs between claw size and factors like feeding \n",
      "efficiency or resource allocation. Trade-offs relating to chela size are found in fiddler crabs, \n",
      "which exhibit extreme sexual dimorphism. Fiddler crabs have a trade-off between the intrasexual \n",
      "competition and intersexual signaling functions of the dimorphic claw (Swanson et al. 2013). \n",
      "Charifson 8 \n",
      " \n",
      "This is not to say that the particular trade-offs in fiddler crabs case are analogous to that of \n",
      "Hemigrapsus, since both claws in the two shore crabs in this study are used in feeding.  \n",
      "Sexual dimorphism in chela size, which is readily apparent to the eye in both \n",
      "Hemigrapsus nudus and Hemigrapsus oregonensis, was detected statistically (Figures 3 and 4). \n",
      "The two-way ANOVA with factors sex and species did not show a significant species effect, \n",
      "suggesting that the claws of both shore crabs produce roughly the same force and are \n",
      "functionally equivalent (Behrens Yamada and Boulding 1998). The lack of morphological \n",
      "difference in the size of the chelae between the crab species removes the possibility of character \n",
      "displacement in the trait. It should be noted that this study was not designed to test for character \n",
      "displacement, but to determine if this would be an interesting question for future investigations. \n",
      "To make a compelling case for character displacement it is necessary to compare multiple \n",
      "sympatric and allopatric populations with similar abiotic and biotic conditions (Stuart and Losos \n",
      "2013). Also it must be demonstrated that the trait differs due to genetic differences between \n",
      "sympatric and allopatric populations, that the differences between the populations are not due to \n",
      "species sorting, that the morphological trait is correlated to differences in resource use between \n",
      "the two sympatric species, and that the similar phenotype in allopatric populations compete for \n",
      "the same resources (Stuart and Losos 2013). The tendency of H. nudus to occupy the upper \n",
      "intertidal zone (Sliger 1987), despite considerable overlap with H. oregonensis, may provide \n",
      "enough differential resource use to prevent exclusion in sympatry. Desiccation tolerance may be \n",
      "a better trait to test for character displacement in these shore crabs.  \n",
      "H. nudus males and females clearly preferred to eat the thinner shelled Lacuna vincta \n",
      "(Table 2). During the course of the feeding preference experiment all the crabs that ate snails \n",
      "consumed L. vincta exclusively. However, one Littorina scutuala was eaten by H. nudus when \n",
      "Charifson 9 \n",
      " \n",
      "determining consumption rates. The six crabs were chosen because their claws were of \n",
      "appropriate size to eat littorines with shell length between 4-6 mm, yet only half of the crabs ate \n",
      "these snails. This could be due to insufficient time to acclimate H. nudus to lab conditions and \n",
      "possibly reduced feeding associated with molting. Male snow crabs, Chionoecetes opilio, were \n",
      "shown to cease feeding 3-6 weeks before and 3-4 weeks after molting (O’Halloran and O’Dor \n",
      "1988).  \n",
      "It was my original intention to test for sex differences in consumption rates, but this was \n",
      "not possible as I could not collect many crabs of the appropriate claw size for gastropod feeding \n",
      "and many of the crabs I did collect did not feed. There were no statistically significant \n",
      "differences in consumption rates (snails eaten/hour) among the three feeding H. nudus. These \n",
      "individuals had highly variable feeding rates, mostly due to trials in which the crab did not feed. \n",
      "Sylvia Behrens Yamada and Elizabeth Boulding (1998) found that H. nudus consumed 1.8 \n",
      "Littorina. sitkana/individual crab/day. In my study crabs fed on 13.03 Lacuna vincta/individual \n",
      "crab/ day. The greater consumption rate in my study is likely due to the easily breakable shells of \n",
      "La. vincta.  \n",
      "The findings of this study suggest that there is no potential for character displacement of \n",
      "chela size in the sympatric H. nudus and H. oregonensis. This leaves the question of species co-\n",
      "occurrence open to other possibilities. H. nudus has a strong preference for La. vincta, but it \n",
      "seems as if there have been no studies that show predation on La. vincta in the field. It should be \n",
      "noted that H. nudus and La. vincta usually occupy different portions of the intertidal and may \n",
      "have little contact with each other, unlike the relationship between H. nudus and Li. scutulata. \n",
      "There is some potential for overlap in the winter when La. vincta migrates up shore. Although no \n",
      "differences in consumption rates between male and female H. nudus were found, this might be \n",
      "Charifson 10 \n",
      " \n",
      "due to logistical issues surrounding the experimental design and little replication. Future studies \n",
      "should include more crabs, the exclusion of non-feeding crabs, and trial periods with longer time \n",
      "intervals. Additionally, any subsequent study should utilize multivariate and geometric \n",
      "morphometric methods to quantify claw shape instead of using ratios, as two similar ratios may \n",
      "have different shape.  \n",
      " \n",
      "Acknowledgements: \n",
      " \n",
      "I would like to thank Dianna Padilla, Michael LaBarbera, and Kevin Turner for advice \n",
      "relating to the experimental design of this study. I would also like to thank the director and staff \n",
      "of Friday Harbor Laboratories for use of facilities and permission to collect organisms. Friday \n",
      "Harbor Laboratories, The Libbie Hyman Scholarship, Society for Integrative and Comparative \n",
      "Biology, and the Stony Brook Department of Ecology and Evolution provided financial support \n",
      "and have my gratitude.  \n",
      " \n",
      " \n",
      " \n",
      " \n",
      " \n",
      " \n",
      " \n",
      " \n",
      " \n",
      " \n",
      "Charifson 12 \n",
      " \n",
      "Swanson, B. O., George, M. N., Anderson, S. T., and Christy, J. H. 2013. Evolutionary variation\n",
      " \n",
      "in the mechanics of fiddler crab claws. BMC Evolutionary Biology 13: 137. \n",
      " \n",
      " \n",
      " \n",
      " \n",
      " \n",
      " \n",
      " \n",
      " \n",
      " \n",
      "Charifson 13 \n",
      " \n",
      "Table 1: SMA regressions of carapace width and propus measures.  \n",
      "A) The relationship between carapace width and propal height. x is carapace width and y is \n",
      "propal height. B) The relationship between carapace width and propal height. x is carapace width \n",
      "and y is propal width.  \n",
      " \n",
      " \n",
      " \n",
      "SMA Regression  \n",
      " \n",
      "A \n",
      " \n",
      "N \n",
      "Carapace Width vs Propal Height  \n",
      "R2 \n",
      " \n",
      "Female H. nudus \n",
      "13 \n",
      "y = 0.273*x - 0.678 \n",
      "0.976 \n",
      " \n",
      "Male H. nudus \n",
      "13 \n",
      "y = 0.311*x - 1.385 \n",
      "0.868 \n",
      " \n",
      "Female H. oregonensis \n",
      "9 \n",
      "y = 0.351*x - 0.833 \n",
      "0.894 \n",
      " \n",
      "Male H. oregonensis \n",
      "14 \n",
      "y = 0.39*x - 1.149 \n",
      "0.693 \n",
      " \n",
      " \n",
      " \n",
      " \n",
      " \n",
      " \n",
      " \n",
      " \n",
      "SMA Regression  \n",
      " \n",
      "B \n",
      " \n",
      "N \n",
      "Carapace Width vs Propal Width  \n",
      "R2 \n",
      " \n",
      "Female H. nudus \n",
      "13 \n",
      "y = 0.157*x - 0.386 \n",
      "0.927 \n",
      " \n",
      "Male H. nudus \n",
      "13 \n",
      "y = 0.209*x - 1.288 \n",
      "0.859 \n",
      " \n",
      "Female H. oregonensis \n",
      "9 \n",
      "y = 0.175*x + 0.037 \n",
      "0.724 \n",
      " \n",
      "Male H. oregonensis \n",
      "14 \n",
      "y = 0.244*x - 0.688 \n",
      "0.534 \n",
      " \n",
      " \n",
      "Charifson 14 \n",
      " \n",
      "Table 2: Size and prey preference in H. nudus.  \n",
      "Size parameters of experimental Hemigrapsus nudus and number of prey consumed in 24 hour \n",
      "intervals (three trials). Crabs Fe1, Fe3, and Ma3 did not feed on snails and were not testable (NT) \n",
      "for preference. \n",
      "Individual \n",
      "Carapace \n",
      "Width (mm) \n",
      "Propal \n",
      "Height (mm) \n",
      "Number of \n",
      "Lacuna vincta \n",
      "consumed \n",
      "Number of \n",
      "Littorina scutulata \n",
      "consumed \n",
      " \n",
      "G \n",
      " \n",
      "p-value \n",
      "Fe1 \n",
      "23.6 \n",
      "5.9 \n",
      "0 \n",
      "0 \n",
      "NT \n",
      " \n",
      "Fe2 \n",
      "23.1 \n",
      "5.5 \n",
      "15 \n",
      "0 \n",
      "20.8 \n",
      "p < 0.001 \n",
      "Fe3 \n",
      "20.6 \n",
      "5 \n",
      "0 \n",
      "0 \n",
      "NT \n",
      " \n",
      "Ma1 \n",
      "19.1 \n",
      "5.4 \n",
      "14 \n",
      "0 \n",
      "19.4 \n",
      "p < 0.001 \n",
      "Ma2 \n",
      "18.4 \n",
      "5.4 \n",
      "15 \n",
      "0 \n",
      "20.8 \n",
      "p < 0.001 \n",
      "Ma3 \n",
      "20.1 \n",
      "6 \n",
      "0 \n",
      "0 \n",
      "NT \n",
      " \n",
      " \n",
      " \n",
      " \n",
      "Charifson 15 \n",
      " \n",
      " \n",
      "Figure 1: Relationship of carapace width and propal height in Hemigrapsus. Line of best fit from \n",
      "SMA regression. See Table 1A for descriptive statistics. A) Female H. nudus. B) Male H. nudus. \n",
      "C) Female H. oregonensis. D) Male H. oregonensis.  \n",
      " \n",
      " \n",
      " \n",
      "Charifson 16 \n",
      " \n",
      " \n",
      "Figure 2: Relationship of carapace width and propal width in Hemigrapsus.  \n",
      "Line of best fit from SMA regression. See Table 1B for descriptive statistics. A) Female H. \n",
      "nudus. B) Male H. nudus. C)Female H. oregonensis. D) Male H. oregonensis.  \n",
      " \n",
      " \n",
      " \n",
      "Charifson 17 \n",
      " \n",
      " \n",
      "Figure 3: Differences in propal height:carapace width ratio between sex and species. \n",
      "The sex factor was statistically significant (F = 125.6. p < 0.001), while the species factor was \n",
      "insignificant (F > 0.01, p = 0.983). There was a significant interaction (F = 4.39, p = 0.042). \n",
      "Error bars represent standard error of the mean.  \n",
      " \n",
      " \n",
      " \n",
      "0 \n",
      "0.05 \n",
      "0.1 \n",
      "0.15 \n",
      "0.2 \n",
      "0.25 \n",
      "0.3 \n",
      "0.35 \n",
      "H. nudus \n",
      "H. oregonensis \n",
      "Propal Height:Carapace Width \n",
      "Crab Species \n",
      "Female \n",
      "Male \n",
      "Charifson 18 \n",
      " \n",
      " \n",
      "Figure 4: Differences in propal width:carapace width ratio between sex and species. \n",
      "The sex factor was statistically significant (F1,45 = 103.8. p < 0.001), while the species factor was \n",
      "insignificant (F1,45  = 0.09, p = 0.764). There was a significant interaction (F1,45  = 7.19, p = \n",
      "0.01). Error bars represent standard error of the mean.  \n",
      " \n",
      " \n",
      " \n",
      "0 \n",
      "0.05 \n",
      "0.1 \n",
      "0.15 \n",
      "0.2 \n",
      "0.25 \n",
      "H. nudus \n",
      "H. oregonensis \n",
      "Propal Widtht:Carapace Width \n",
      "Crab Species \n",
      "Female \n",
      "Male \n",
      "Charifson 19 \n",
      " \n",
      " \n",
      "Figure 5: Consumption rates by individual H. nudus.  \n",
      "Mean consumption rates (n = 8 trials) of 3 female (Fe1 to Fe3) and 3 male (Ma1 to Ma3) H. \n",
      "nudus. Crabs Fe1, Fe3, and Ma3 did not consume snails. The individuals that eat snails did not \n",
      "differ in their consumption rates (F2,21  = 2.52, p = 0.104). Error bars represent standard error of \n",
      "the mean.  \n",
      "  \n",
      "0 \n",
      "0.1 \n",
      "0.2 \n",
      "0.3 \n",
      "0.4 \n",
      "0.5 \n",
      "0.6 \n",
      "0.7 \n",
      "0.8 \n",
      "0.9 \n",
      "1 \n",
      "Fe1 \n",
      "Fe2 \n",
      "Fe3 \n",
      "Ma1 \n",
      "Ma2 \n",
      "Ma3 \n",
      "Mean Consumption Rate  \n",
      "(Snails Consumed/Hour) \n",
      "Individual H. nudus \n",
      "\n"
     ]
    }
   ],
   "source": [
    "def extract_text_from_pdf(pdf_path):\n",
    "    doc = fitz.open(pdf_path)\n",
    "    text = \"\"\n",
    "    for page in doc:\n",
    "        text += page.get_text()\n",
    "    doc.close()\n",
    "    return text\n",
    "\n",
    "# Replace 'output.pdf' with the path to the PDF you created with citation pages removed\n",
    "new_pdf_path = 'output.pdf'\n",
    "\n",
    "# Extract text from the new PDF\n",
    "new_pdf_text = extract_text_from_pdf(new_pdf_path)\n",
    "\n",
    "# Now you can manipulate the extracted text or perform any other actions as needed\n",
    "# For example, you can print the extracted text:\n",
    "print(new_pdf_text)"
   ]
  },
  {
   "cell_type": "markdown",
   "id": "04ac8514",
   "metadata": {},
   "source": [
    "# ConversationalRetrievalChain + VectorStoreRetrieverMemory"
   ]
  },
  {
   "cell_type": "code",
   "execution_count": 5,
   "id": "a64d026b",
   "metadata": {},
   "outputs": [],
   "source": [
    "tk_text_splitter = TokenTextSplitter(chunk_size = 800, chunk_overlap = 50)\n",
    "\n",
    "docs = tk_text_splitter.split_text(new_pdf_text)"
   ]
  },
  {
   "cell_type": "code",
   "execution_count": 6,
   "id": "9e045ea3",
   "metadata": {},
   "outputs": [],
   "source": [
    "#Initialize Embeddings\n",
    "embeddings = OpenAIEmbeddings()"
   ]
  },
  {
   "cell_type": "code",
   "execution_count": 7,
   "id": "d72526c9",
   "metadata": {},
   "outputs": [],
   "source": [
    "vector_store = FAISS.from_texts(docs, embeddings).as_retriever(search_type = \"similarity\", search_kwargs= {\"k\": 3})"
   ]
  },
  {
   "cell_type": "code",
   "execution_count": 8,
   "id": "dfd177d6",
   "metadata": {},
   "outputs": [],
   "source": [
    "llm = ChatOpenAI(temperature=0, model_name='gpt-3.5-turbo')\n",
    "\n",
    "compressor = LLMChainExtractor.from_llm(llm)\n",
    "\n",
    "compression_retriever = ContextualCompressionRetriever(base_compressor = compressor,base_retriever=vector_store)\n"
   ]
  },
  {
   "cell_type": "code",
   "execution_count": 9,
   "id": "700f0d37",
   "metadata": {},
   "outputs": [],
   "source": [
    "# # Build prompt\n",
    "# template = \"\"\"Use the following pieces of context to answer the question at the end. If you don't know the answer, just say that you don't know, don't try to make up an answer Keep the answer as concise as possible. Below are some helpful definitions.\n",
    "\n",
    "# 1. SPECIES NAME: The scientific name (species name) of any plant, animal, fungus, alga or bacterium consists of two Latinized words. The first word is the name of the genus to which the organism belongs. The second word is the specific epithet or specific term of the species. Together, the genus plus the specific epithet make up the species name. The species name and scientific name are synonyms.\n",
    "# 2. HABITAT: A species habitat can be seen as the physical manifestation of its ecological niche.\n",
    "# 3. LOC: Name of any geographic location, like cities, countries, continents, districts etc.\n",
    "\n",
    "# Examples:\n",
    "\n",
    "# 1. Sentence: Strongylocentrotus fransiscanus and S. purpuratus were obtained from the subtidal and intertidal regions, respectively, of Monterey Bay.\n",
    "# \"Output: {{'SPECIES NAME': ['Strongylocentrotus fransiscanus', 'S. purpuratus'], 'HABITAT': ['subtidal', 'intertidal'], 'LOC': ['Monterey Bay']}}\n",
    "\n",
    "# 2. Sentence: Cucumaria curata and C. pseudocurata live and feed in the hydrodynamically stressful environment of exposed intertidal areas.\n",
    "# Output: {{'SPECIES NAME': ['Cucumaria curata', 'C. pseudocurata'], 'HABITAT': ['exposed intertidal'], 'LOC': ['None']}}\\n\"\n",
    "\n",
    "# {context}\n",
    "# Question: {question}\n",
    "# Helpful Answer:\"\"\"\n",
    "# CONDENSE_QUESTION_PROMPT   = PromptTemplate.from_template(template)\n"
   ]
  },
  {
   "cell_type": "code",
   "execution_count": 11,
   "id": "5ce6c379",
   "metadata": {},
   "outputs": [],
   "source": [
    "custom_template = \"\"\"Given the following conversation and a follow up question, rephrase the follow up question to be a standalone question. Please use a maximum of 4 sentences. If you do not know the answer reply with 'I am sorry'.\n",
    "\n",
    "1. SPECIES NAME: The scientific name (species name) of any plant, animal, fungus, alga or bacterium consists of two Latinized words. The first word is the name of the genus to which the organism belongs. The second word is the specific epithet or specific term of the species. Together, the genus plus the specific epithet make up the species name. The species name and scientific name are synonyms.\n",
    "2. HABITAT: A species habitat can be seen as the physical manifestation of its ecological niche.\n",
    "3. LOC: Name of any geographic location, like cities, countries, continents, districts etc.\n",
    "\n",
    "Examples:\n",
    "\n",
    "1. Sentence: Strongylocentrotus fransiscanus and S. purpuratus were obtained from the subtidal and intertidal regions, respectively, of Monterey Bay.\n",
    "\"Output: {{'SPECIES NAME': ['Strongylocentrotus fransiscanus', 'S. purpuratus'], 'HABITAT': ['subtidal', 'intertidal'], 'LOC': ['Monterey Bay']}}\n",
    "\n",
    "2. Sentence: Cucumaria curata and C. pseudocurata live and feed in the hydrodynamically stressful environment of exposed intertidal areas.\n",
    "Output: {{'SPECIES NAME': ['Cucumaria curata', 'C. pseudocurata'], 'HABITAT': ['exposed intertidal'], 'LOC': ['None']}}\\n\"\n",
    "\n",
    "Chat History:\n",
    "{chat_history}\n",
    "Follow Up Input: {question}\n",
    "\"\"\""
   ]
  },
  {
   "cell_type": "code",
   "execution_count": 12,
   "id": "34a802bf",
   "metadata": {},
   "outputs": [],
   "source": [
    "CUSTOM_QUESTION_PROMPT = PromptTemplate.from_template(custom_template)"
   ]
  },
  {
   "cell_type": "code",
   "execution_count": 12,
   "id": "23baee32",
   "metadata": {},
   "outputs": [],
   "source": [
    "# question_generator = LLMChain(llm=llm, prompt=CONDENSE_QUESTION_PROMPT)\n",
    "# doc_chain = load_qa_with_sources_chain(llm, chain_type=\"stuff\")"
   ]
  },
  {
   "cell_type": "code",
   "execution_count": 12,
   "id": "9e3c1603",
   "metadata": {},
   "outputs": [],
   "source": [
    "memory = VectorStoreRetrieverMemory(\n",
    "memory_key=\"chat_history\",\n",
    "return_docs=True,\n",
    "retriever=vector_store,\n",
    "return_messages=True)"
   ]
  },
  {
   "cell_type": "code",
   "execution_count": 14,
   "id": "7692791b",
   "metadata": {},
   "outputs": [],
   "source": [
    "#Formats the chat history string\n",
    "def get_chat_history(inputs) -> str:\n",
    "    res = []\n",
    "    for human, ai in inputs:\n",
    "        res.append(f\"Human:{human}\\nAI:{ai}\")\n",
    "    return \"\\n\".join(res)"
   ]
  },
  {
   "cell_type": "code",
   "execution_count": 14,
   "id": "b38cb8d8",
   "metadata": {},
   "outputs": [],
   "source": [
    "qa_chain = ConversationalRetrievalChain.from_llm(ChatOpenAI(), \n",
    "                                                 compression_retriever,\n",
    "                                                 memory = memory,\n",
    "                                                 return_source_documents = True,\n",
    "                                                 condense_question_prompt = CUSTOM_QUESTION_PROMPT,\n",
    "                                                 get_chat_history = get_chat_history)\n",
    "                                                "
   ]
  },
  {
   "cell_type": "code",
   "execution_count": 17,
   "id": "ac66ea6b",
   "metadata": {},
   "outputs": [],
   "source": [
    "query = \"What is this paper about?\"\n",
    "query1a = \"What were the significant findings on the relationship mentioned?\"\n",
    "query2 = \"Summarize the paper concisely with reference to materials and methods.\"\n",
    "query3 = \"Write a one sentence summary of the purpose of the paper\"\n",
    "query4 = \"Terms that may be used to identify an observation include “in the field”, “this study”, “observed”, “taken”, “collected”, “sampled”, “collection”, “seen”, “harvested”, “found”, etc. Does the paper include one or more observations?\"\n",
    "query5 = \"Does this paper contain observational or experimental research conducted in the natural environment or with organisms collected in nature?\"\n",
    "query6 = \"What are the scientific names of the collected species mentioned in this paper?\"\n",
    "query6a = \"Where were the species collected?\"\n",
    "query7 = \"Does the paper mention where the species were observed or collected, and if so, what locations are given?\"\n",
    "query7a = \"Please list the species collected based on their scientific names along with location of collection.\"\n",
    "query8 = \"Can you give a more specific location?\"\n",
    "query9 = \"Are any coordinate locations given in latitude / longitude, and if so, what are they?\"\n",
    "query10 = \"In what habitat were the species found?\"\n",
    "query10a = \"Can you give a more specific location of the habitat such as formal name of said location?\"\n",
    "query11 = \"Does the paper mention a year, date and/or time that species were collected or observed, and if so, what was mentioned?\"\n",
    "query12 = \"Are there any maps, figures, tables or diagrams in the paper?\""
   ]
  },
  {
   "cell_type": "code",
   "execution_count": 16,
   "id": "fc78f6b5",
   "metadata": {},
   "outputs": [],
   "source": [
    "chat_history = []"
   ]
  },
  {
   "cell_type": "code",
   "execution_count": 17,
   "id": "4df191f6",
   "metadata": {},
   "outputs": [
    {
     "name": "stderr",
     "output_type": "stream",
     "text": [
      "C:\\Users\\aclao89\\AppData\\Local\\anaconda3\\lib\\site-packages\\langchain\\chains\\llm.py:275: UserWarning: The predict_and_parse method is deprecated, instead pass an output parser directly to LLMChain.\n",
      "  warnings.warn(\n"
     ]
    }
   ],
   "source": [
    "result1= qa_chain({\"question\": query, \"chat_history\": chat_history})"
   ]
  },
  {
   "cell_type": "code",
   "execution_count": 18,
   "id": "1d17447a",
   "metadata": {},
   "outputs": [
    {
     "data": {
      "text/plain": [
       "'The main topic or subject matter of this paper is the coexistence and competition between two species of shore crabs, Hemigrapsus nudus and Hemigrapsus oregonensis, in the marine intertidal environment. The paper also explores the concept of character displacement and the morphological differences between the two species.'"
      ]
     },
     "execution_count": 18,
     "metadata": {},
     "output_type": "execute_result"
    }
   ],
   "source": [
    "result1[\"answer\"]"
   ]
  },
  {
   "cell_type": "code",
   "execution_count": 19,
   "id": "f9f66256",
   "metadata": {},
   "outputs": [
    {
     "data": {
      "text/plain": [
       "[Document(page_content='Mean Consumption Rate  \\n(Snails Consumed/Hour) \\nIndividual H. nudus', metadata={}),\n",
       " Document(page_content='A multitude of species coexist in the marine intertidal environment. Closely related \\nspecies may be sympatric and compete for resources, such as food. Two species of shore crab, \\nHemigrapsus nudus (Dana 1851) and Hemigrapsus oregonensis (Dana 1851), occur in sympatry \\nin the Salish Sea. Both species are sexually dimorphic, with the males having larger chelae. \\nSpecies in sympatry may exhibit character displacement, the exaggeration of morphological or \\nbehavioral characteristics due to competition for resources (Brown and Wilson 1956). When H. \\nnudus and H. oregonensis co-occur, H. oregonensis tends to be found closer to the waterand in \\nfiner sediment than the more desiccation-tolerant H. nudus (Sliger 1982). There is still \\nconsiderable habitat overlap between these two species; the underside of a single rock may have \\nCharifson 3 \\n \\nroughly equal abundances of the two crab species (personal observation). The size of the chela \\nmay differ, which could allow the crabs to differentiate in food resource utilization.', metadata={}),\n",
       " Document(page_content='A few interesting patterns emerged in the morphometric analysis of Hemigrapsus nudus and Hemigrapsus orogenensis. The variance in propal height or propal width explained by carapace width was surprisingly high in female H. nudus with R2 values of 0.976 found for propal height and 0.927 for propal width. Male H. oregenensis had the greatest variation in chela size parameters, demonstrated by R2 of 0.693 and 0.534 for propal height and propal width respectively. The R2 values for propal width regressed against carapace width were consistently lower than propal height regressed against carapace width across species and sexes (Table 1). In general the ability of carapace width to explain the variance in chela size parameters (i.', metadata={})]"
      ]
     },
     "execution_count": 19,
     "metadata": {},
     "output_type": "execute_result"
    }
   ],
   "source": [
    "result1[\"source_documents\"]"
   ]
  },
  {
   "cell_type": "code",
   "execution_count": 20,
   "id": "8d5c2419",
   "metadata": {
    "collapsed": true
   },
   "outputs": [
    {
     "data": {
      "text/plain": [
       "[Document(page_content='8 \\n0.9 \\n1 \\nFe1 \\nFe2 \\nFe3 \\nMa1 \\nMa2 \\nMa3 \\nMean Consumption Rate  \\n(Snails Consumed/Hour) \\nIndividual H. nudus \\n', metadata={}),\n",
       " Document(page_content='ace width was a good predictor of both propal height (Figure 1, Table 1A) and \\npropal width (Figure 2, Table 1B) in female and male H. oregonensis and H. nudus. There was \\nless variation in the relationship between carapace width and propal height than with propal \\nwidth.  Due to non-normality of CW:PH and CW:PW an arcsin transformation was used. A \\nsignificant effect for sex was found for both CW:PH (F1, 45 = 125.6, p < 0.001) and CW:PW  (F1, \\n45 = 103.81, p < 0.001). There was no significant difference between Hemigrapsus species for \\nCW:PH (F1, 45 < 0.01, p = 0.983) and CW:PW (F1, 45 = 0.09, p = 0.764). A significant \\nsex*species interaction was detected for both CW:PH (F1, 45 4.39, p = 0.042) and CW:PW (F1, 45 \\n= 7.19, p = 0.010). Figure 3 and 4 show the means of CW:PH and CW:PW in by sex and species \\nrespectively.  \\n \\nCrab Feeding Preference:  \\n \\nExpected values for both the number of L. scutulata and L. vincta consumed for the G-\\ntest are 0.5 multiplied by the total number of snails consumed by each individual crab. G-tests \\nfor individual H. nudus that eat snails were all significant at p < 0.001 with 1 degree of freedom \\n(See Table 2 for statistical summary). The three crabs that did not eat either L. scutulata or L. \\nvincta could not be tested for feeding preference.  \\nCharifson 7 \\n \\n \\nSnail Consumption by Hemigrapsus nudus \\n \\nNo significant difference in crab feeding rate (snails consumed/hour) was found (F2, 21 = \\n2.52, p = 0.104) among individual H. nudus that fed on snails during the course of the \\nconsumption experiment (Figure 5). Fe2  ate snails at a rate of 0.59±0.53 snails/hour (variance is \\nstandard deviation), Ma1 feeding rate was 0.24±0.31 snails/hour, and Ma2 had a feeding rate of \\n0.80±0.38 snails/hour. Individuals Fe1, Fe3 and Ma3 did not consume any snails during the \\ncourse of the experiment.  \\n \\nDiscussion: \\n \\nA few interesting patterns emerged in the morphometric analysis of Hemigrapsus nudus \\nand Hemigrapsus orogenensis. The variance in propal height or propal width explained by \\ncarapace width was surprisingly high in female H. nudus with R2 values of 0.976 found for \\npropal height and 0.927 for propal width. Male H. oregenensis had the greatest variation in chela \\nsize parameters, demonstrated by R2 of 0.693 and 0.534 for propal height and propal width \\nrespectively. The R2 values for propal width regressed against carapace width were consistently \\nlower than propal height regressed against carapace width across species and sexes (Table 1). In \\ngeneral the ability of carapace width to explain the variance in chela size parameters (i.', metadata={}),\n",
       " Document(page_content='Charifson 1 \\n \\nSnail Predation by Hemigrapsus nudus and Hemigrapsus oregonensis: Sex and Species \\nDifferences in Chela Size. \\n \\nDavid Charifson1,2 \\n \\nMarine Invertebrate Zoology \\nSummer 2014 \\n \\n \\n \\n \\n1 Friday Harbor Laboratories, University of Washington, Friday Harbor, WA 98250 \\n2 Department of Ecology and Evolution, Stony Brook University, Stony Brook, NY 11794-5245 \\n \\n \\n \\n \\nContact information: \\nDavid Charifson \\nDepartment of Ecology and Evolution \\nStony Brook University \\n650 Life Sciences Building \\nStony Brook, NY 11794-5245 \\nDavid.charifson@stonybrook.edu  \\n \\n \\n \\n \\nKeywords: Hemigrapsus nudus, Hemigrapsus orogenensis, Littorina scutulata, Lacuna vincta, \\npredation, sexual dimorphism, character displacement  \\n \\n \\nCharifson 2 \\n \\nAbstract: \\n \\nThe relationship between propus size and use of snails as prey in sympatric populations \\nof Hemigrapsus nudus and Hemigrapsus oregonensis was investigated. Propal height and propal \\nwidth increases with body size in a predictable manner in male and female crabs of both species. \\nSexual dimorphism of propal height and width relationships in both shore crabs is apparent, but \\nthere was no detectible difference in chela size between H. nudus and H. oregonensis. The lack \\nof difference in chela size between sympatric H. nudus and H. oregonensis suggests that there is \\nno character displacement in this trait. Both species of crabs showed a strong feeding preference \\nfor the thin-shelled gastropod Lacuna vincta over the thicker shelled Littorina scutulata, likely \\ndue to the ease of consumption. There were no differences in snail consumption rates between \\nmale and female H. nudus of similar propal heights, mostly due to high feeding variation among \\nindividual crabs.  \\n \\nIntroduction: \\n \\nA multitude of species coexist in the marine intertidal environment. Closely related \\nspecies may be sympatric and compete for resources, such as food. Two species of shore crab, \\nHemigrapsus nudus (Dana 1851) and Hemigrapsus oregonensis (Dana 1851), occur in sympatry \\nin the Salish Sea. Both species are sexually dimorphic, with the males having larger chelae. \\nSpecies in sympatry may exhibit character displacement, the exaggeration of morphological or \\nbehavioral characteristics due to competition for resources (Brown and Wilson 1956). When H. \\nnudus and H. oregonensis co-occur, H. oregonensis tends to be found closer to the waterand in \\nfiner sediment than the more desiccation-tolerant H. nudus (Sliger 1982). There is still \\nconsiderable habitat overlap between these two species; the underside of a single rock may have \\nCharifson 3 \\n \\nroughly equal abundances of the two crab species (personal observation). The size of the chela \\nmay differ, which could allow the crabs to differentiate in food resource utilization. \\nBoth species are omnivores that eat algae and small invertebrates, including snails \\n(Behrens Yamada and', metadata={})]"
      ]
     },
     "execution_count": 20,
     "metadata": {},
     "output_type": "execute_result"
    }
   ],
   "source": [
    "result1[\"chat_history\"]"
   ]
  },
  {
   "cell_type": "code",
   "execution_count": 21,
   "id": "95ca967d",
   "metadata": {},
   "outputs": [],
   "source": [
    "result1a = qa_chain({\"question\": query1a, \"chat_history\": chat_history})"
   ]
  },
  {
   "cell_type": "code",
   "execution_count": 22,
   "id": "a3900566",
   "metadata": {},
   "outputs": [
    {
     "data": {
      "text/plain": [
       "'The significant findings on the relationship between carapace width and propal height and width in Hemigrapsus are as follows:\\n\\n1. Carapace width was a good predictor of both propal height and propal width in female and male H. oregonensis and H. nudus.\\n\\n2. There was less variation in the relationship between carapace width and propal height than with propal width.\\n\\n3. A significant effect for sex was found for both carapace width:propal height (CW:PH) and carapace width:propal width (CW:PW). \\n\\n4. There was no significant difference between Hemigrapsus species for CW:PH and CW:PW.\\n\\n5. A significant sex*species interaction was detected for both CW:PH and CW:PW.'"
      ]
     },
     "execution_count": 22,
     "metadata": {},
     "output_type": "execute_result"
    }
   ],
   "source": [
    "result1a[\"answer\"]"
   ]
  },
  {
   "cell_type": "code",
   "execution_count": 23,
   "id": "878c2586",
   "metadata": {
    "collapsed": true
   },
   "outputs": [
    {
     "data": {
      "text/plain": [
       "[Document(page_content='Figure 1: Relationship of carapace width and propal height in Hemigrapsus. Line of best fit from \\nSMA regression. See Table 1A for descriptive statistics. A) Female H. nudus. B) Male H. nudus. \\nC) Female H. oregonensis. D) Male H. oregonensis.  \\n\\nFigure 2: Relationship of carapace width and propal width in Hemigrapsus.  \\nLine of best fit from SMA regression. See Table 1B for descriptive statistics. A) Female H. \\nnudus. B) Male H. nudus. C)Female H. oregonensis. D) Male H. oregonensis.  \\n\\nFigure 3: Differences in propal height:carapace width ratio between sex and species. \\nThe sex factor was statistically significant (F = 125.6. p < 0.001), while the species factor was \\ninsignificant (F > 0.01, p = 0.983). There was a significant interaction (F = 4.39, p = 0.042). \\nError bars represent standard error of the mean.  \\n\\nFigure 4: Differences in propal width:carapace width ratio between sex and species. \\nThe sex factor was statistically significant (F1,45 = 103.8. p < 0.001), while the species factor was \\ninsignificant (F1,45  = 0.09, p = 0.764). There was a significant interaction (F1,45  = 7.19, p = \\n0.01). Error bars represent standard error of the mean.', metadata={}),\n",
       " Document(page_content='Table 1: SMA regressions of carapace width and propus measures.  \\nA) The relationship between carapace width and propal height. x is carapace width and y is \\npropal height. B) The relationship between carapace width and propal height. x is carapace width \\nand y is propal width.  \\n\\nSMA Regression  \\n\\nA \\n\\nN \\nCarapace Width vs Propal Height  \\nR2 \\n\\nFemale H. nudus \\n13 \\ny = 0.273*x - 0.678 \\n0.976 \\n\\nMale H. nudus \\n13 \\ny = 0.311*x - 1.385 \\n0.868 \\n\\nFemale H. oregonensis \\n9 \\ny = 0.351*x - 0.833 \\n0.894 \\n\\nMale H. oregonensis \\n14 \\ny = 0.39*x - 1.149 \\n0.693 \\n\\nSMA Regression  \\n\\nB \\n\\nN \\nCarapace Width vs Propal Width  \\nR2 \\n\\nFemale H. nudus \\n13 \\ny = 0.157*x - 0.386 \\n0.927 \\n\\nMale H. nudus \\n13 \\ny = 0.209*x - 1.288 \\n0.859 \\n\\nFemale H. oregonensis \\n9 \\ny = 0.175*x + 0.037 \\n0.724 \\n\\nMale H. oregonensis \\n14 \\ny = 0.244*x - 0.688 \\n0.534 \\n\\nTable 2: Size and prey preference in H. nudus.  \\nSize parameters of experimental Hemigrapsus nudus and number of prey consumed in 24 hour \\nintervals (three trials). Crabs Fe1, Fe3, and Ma3 did not feed on snails and were not testable (NT) \\nfor preference. \\nIndividual \\nCarapace \\nWidth (mm) \\nPropal \\nHeight (mm) \\nNumber of \\nLacuna vincta \\nconsumed \\nNumber of \\nLittorina scutulata \\nconsumed \\n\\nG \\n\\np-value \\nFe1 \\n23.6 \\n5.9 \\n0 \\n0 \\nNT \\n\\nFe2 \\n23.1 \\n5.5 \\n15 \\n0 \\n20.8 \\np < 0.001 \\nFe3 \\n20.6 \\n5 \\n0 \\n0 \\nNT \\n\\nMa1 \\n19.1 \\n5.4 \\n14 \\n0 \\n19.4 \\np < 0.001 \\nMa2 \\n18.4 \\n5.4 \\n15 \\n0 \\n20.8 \\np < 0.001 \\nMa3 \\n20.1 \\n6 \\n0 \\n0 \\nNT \\n\\nFigure 1: Relationship of carapace width and propal height in Hemigrapsus. Line', metadata={}),\n",
       " Document(page_content='ace width was a good predictor of both propal height (Figure 1, Table 1A) and \\npropal width (Figure 2, Table 1B) in female and male H. oregonensis and H. nudus. There was \\nless variation in the relationship between carapace width and propal height than with propal \\nwidth. A significant effect for sex was found for both CW:PH (F1, 45 = 125.6, p < 0.001) and CW:PW  (F1, \\n45 = 103.81, p < 0.001). There was no significant difference between Hemigrapsus species for \\nCW:PH (F1, 45 < 0.01, p = 0.983) and CW:PW (F1, 45 = 0.09, p = 0.764). A significant \\nsex*species interaction was detected for both CW:PH (F1, 45 4.39, p = 0.042) and CW:PW (F1, 45 \\n= 7.19, p = 0.010). Figure 3 and 4 show the means of CW:PH and CW:PW in by sex and species \\nrespectively.', metadata={})]"
      ]
     },
     "execution_count": 23,
     "metadata": {},
     "output_type": "execute_result"
    }
   ],
   "source": [
    "result1a[\"source_documents\"]"
   ]
  },
  {
   "cell_type": "code",
   "execution_count": 24,
   "id": "3eb2d253",
   "metadata": {
    "collapsed": true
   },
   "outputs": [
    {
     "data": {
      "text/plain": [
       "[Document(page_content=' \\n0 \\n0 \\nNT \\n \\n \\n \\n \\nCharifson 15 \\n \\n \\nFigure 1: Relationship of carapace width and propal height in Hemigrapsus. Line of best fit from \\nSMA regression. See Table 1A for descriptive statistics. A) Female H. nudus. B) Male H. nudus. \\nC) Female H. oregonensis. D) Male H. oregonensis.  \\n \\n \\n \\nCharifson 16 \\n \\n \\nFigure 2: Relationship of carapace width and propal width in Hemigrapsus.  \\nLine of best fit from SMA regression. See Table 1B for descriptive statistics. A) Female H. \\nnudus. B) Male H. nudus. C)Female H. oregonensis. D) Male H. oregonensis.  \\n \\n \\n \\nCharifson 17 \\n \\n \\nFigure 3: Differences in propal height:carapace width ratio between sex and species. \\nThe sex factor was statistically significant (F = 125.6. p < 0.001), while the species factor was \\ninsignificant (F > 0.01, p = 0.983). There was a significant interaction (F = 4.39, p = 0.042). \\nError bars represent standard error of the mean.  \\n \\n \\n \\n0 \\n0.05 \\n0.1 \\n0.15 \\n0.2 \\n0.25 \\n0.3 \\n0.35 \\nH. nudus \\nH. oregonensis \\nPropal Height:Carapace Width \\nCrab Species \\nFemale \\nMale \\nCharifson 18 \\n \\n \\nFigure 4: Differences in propal width:carapace width ratio between sex and species. \\nThe sex factor was statistically significant (F1,45 = 103.8. p < 0.001), while the species factor was \\ninsignificant (F1,45  = 0.09, p = 0.764). There was a significant interaction (F1,45  = 7.19, p = \\n0.01). Error bars represent standard error of the mean.  \\n \\n \\n \\n0 \\n0.05 \\n0.1 \\n0.15 \\n0.2 \\n0.25 \\nH. nudus \\nH. oregonensis \\nPropal Widtht:Carapace Width \\nCrab Species \\nFemale \\nMale \\nCharifson 19 \\n \\n \\nFigure 5: Consumption rates by individual H. nudus.  \\nMean consumption rates (n = 8 trials) of 3 female (Fe1 to Fe3) and 3 male (Ma1 to Ma3) H. \\nnudus. Crabs Fe1, Fe3, and Ma3 did not consume snails. The individuals that eat snails did not \\ndiffer in their consumption rates (F2,21  = 2.52, p = 0.104). Error bars represent standard error of \\nthe mean.  \\n  \\n0 \\n0.1 \\n0.2 \\n0.3 \\n0.4 \\n0.5 \\n0.6 \\n0.7 \\n0.8 \\n0.9 \\n1 \\nFe1 \\nFe2 \\nFe3 \\nMa1 \\nMa2 \\nMa3 \\nMean Consumption Rate  \\n(Snails Consumed/Hour)', metadata={}),\n",
       " Document(page_content=' \\n \\n \\n \\n \\n \\nCharifson 13 \\n \\nTable 1: SMA regressions of carapace width and propus measures.  \\nA) The relationship between carapace width and propal height. x is carapace width and y is \\npropal height. B) The relationship between carapace width and propal height. x is carapace width \\nand y is propal width.  \\n \\n \\n \\nSMA Regression  \\n \\nA \\n \\nN \\nCarapace Width vs Propal Height  \\nR2 \\n \\nFemale H. nudus \\n13 \\ny = 0.273*x - 0.678 \\n0.976 \\n \\nMale H. nudus \\n13 \\ny = 0.311*x - 1.385 \\n0.868 \\n \\nFemale H. oregonensis \\n9 \\ny = 0.351*x - 0.833 \\n0.894 \\n \\nMale H. oregonensis \\n14 \\ny = 0.39*x - 1.149 \\n0.693 \\n \\n \\n \\n \\n \\n \\n \\n \\nSMA Regression  \\n \\nB \\n \\nN \\nCarapace Width vs Propal Width  \\nR2 \\n \\nFemale H. nudus \\n13 \\ny = 0.157*x - 0.386 \\n0.927 \\n \\nMale H. nudus \\n13 \\ny = 0.209*x - 1.288 \\n0.859 \\n \\nFemale H. oregonensis \\n9 \\ny = 0.175*x + 0.037 \\n0.724 \\n \\nMale H. oregonensis \\n14 \\ny = 0.244*x - 0.688 \\n0.534 \\n \\n \\nCharifson 14 \\n \\nTable 2: Size and prey preference in H. nudus.  \\nSize parameters of experimental Hemigrapsus nudus and number of prey consumed in 24 hour \\nintervals (three trials). Crabs Fe1, Fe3, and Ma3 did not feed on snails and were not testable (NT) \\nfor preference. \\nIndividual \\nCarapace \\nWidth (mm) \\nPropal \\nHeight (mm) \\nNumber of \\nLacuna vincta \\nconsumed \\nNumber of \\nLittorina scutulata \\nconsumed \\n \\nG \\n \\np-value \\nFe1 \\n23.6 \\n5.9 \\n0 \\n0 \\nNT \\n \\nFe2 \\n23.1 \\n5.5 \\n15 \\n0 \\n20.8 \\np < 0.001 \\nFe3 \\n20.6 \\n5 \\n0 \\n0 \\nNT \\n \\nMa1 \\n19.1 \\n5.4 \\n14 \\n0 \\n19.4 \\np < 0.001 \\nMa2 \\n18.4 \\n5.4 \\n15 \\n0 \\n20.8 \\np < 0.001 \\nMa3 \\n20.1 \\n6 \\n0 \\n0 \\nNT \\n \\n \\n \\n \\nCharifson 15 \\n \\n \\nFigure 1: Relationship of carapace width and propal height in Hemigrapsus. Line', metadata={}),\n",
       " Document(page_content='ace width was a good predictor of both propal height (Figure 1, Table 1A) and \\npropal width (Figure 2, Table 1B) in female and male H. oregonensis and H. nudus. There was \\nless variation in the relationship between carapace width and propal height than with propal \\nwidth.  Due to non-normality of CW:PH and CW:PW an arcsin transformation was used. A \\nsignificant effect for sex was found for both CW:PH (F1, 45 = 125.6, p < 0.001) and CW:PW  (F1, \\n45 = 103.81, p < 0.001). There was no significant difference between Hemigrapsus species for \\nCW:PH (F1, 45 < 0.01, p = 0.983) and CW:PW (F1, 45 = 0.09, p = 0.764). A significant \\nsex*species interaction was detected for both CW:PH (F1, 45 4.39, p = 0.042) and CW:PW (F1, 45 \\n= 7.19, p = 0.010). Figure 3 and 4 show the means of CW:PH and CW:PW in by sex and species \\nrespectively.  \\n \\nCrab Feeding Preference:  \\n \\nExpected values for both the number of L. scutulata and L. vincta consumed for the G-\\ntest are 0.5 multiplied by the total number of snails consumed by each individual crab. G-tests \\nfor individual H. nudus that eat snails were all significant at p < 0.001 with 1 degree of freedom \\n(See Table 2 for statistical summary). The three crabs that did not eat either L. scutulata or L. \\nvincta could not be tested for feeding preference.  \\nCharifson 7 \\n \\n \\nSnail Consumption by Hemigrapsus nudus \\n \\nNo significant difference in crab feeding rate (snails consumed/hour) was found (F2, 21 = \\n2.52, p = 0.104) among individual H. nudus that fed on snails during the course of the \\nconsumption experiment (Figure 5). Fe2  ate snails at a rate of 0.59±0.53 snails/hour (variance is \\nstandard deviation), Ma1 feeding rate was 0.24±0.31 snails/hour, and Ma2 had a feeding rate of \\n0.80±0.38 snails/hour. Individuals Fe1, Fe3 and Ma3 did not consume any snails during the \\ncourse of the experiment.  \\n \\nDiscussion: \\n \\nA few interesting patterns emerged in the morphometric analysis of Hemigrapsus nudus \\nand Hemigrapsus orogenensis. The variance in propal height or propal width explained by \\ncarapace width was surprisingly high in female H. nudus with R2 values of 0.976 found for \\npropal height and 0.927 for propal width. Male H. oregenensis had the greatest variation in chela \\nsize parameters, demonstrated by R2 of 0.693 and 0.534 for propal height and propal width \\nrespectively. The R2 values for propal width regressed against carapace width were consistently \\nlower than propal height regressed against carapace width across species and sexes (Table 1). In \\ngeneral the ability of carapace width to explain the variance in chela size parameters (i.', metadata={})]"
      ]
     },
     "execution_count": 24,
     "metadata": {},
     "output_type": "execute_result"
    }
   ],
   "source": [
    "result1a[\"chat_history\"]"
   ]
  },
  {
   "cell_type": "code",
   "execution_count": 34,
   "id": "78a9a1bf",
   "metadata": {},
   "outputs": [],
   "source": [
    "result2 = qa_chain({\"question\": query2, \"chat_history\": chat_history})"
   ]
  },
  {
   "cell_type": "code",
   "execution_count": 35,
   "id": "c5826ab7",
   "metadata": {},
   "outputs": [
    {
     "data": {
      "text/plain": [
       "'The paper focuses on the study of snail predation by Hemigrapsus nudus and Hemigrapsus oregonensis, specifically examining sex and species differences in chela size. The materials and methods involved the measurement of carapace width and propal width in both female and male H. nudus. A line of best fit was determined using SMA regression. The propal height:carapace width ratio and propal width:carapace width ratio were analyzed to determine differences between sexes and species. The preference experiment involved providing crabs with five snails in each trial and measuring the number of snails consumed after 1.5 to 3 hours, which was then converted to a consumption rate. A total of eight feeding trials were conducted.'"
      ]
     },
     "execution_count": 35,
     "metadata": {},
     "output_type": "execute_result"
    }
   ],
   "source": [
    "result2[\"answer\"]"
   ]
  },
  {
   "cell_type": "code",
   "execution_count": 36,
   "id": "e6b56970",
   "metadata": {
    "collapsed": true
   },
   "outputs": [
    {
     "data": {
      "text/plain": [
       "[Document(page_content='The main topic of this paper is the study of snail predation by Hemigrapsus nudus and Hemigrapsus oregonensis, specifically examining sex and species differences in chela size.', metadata={}),\n",
       " Document(page_content='Figure 2: The relationship between carapace width and propal width in Hemigrapsus:\\n   - For both female and male H. nudus, a line of best fit was determined using SMA regression.\\n   - Descriptive statistics for this relationship can be found in Table 1B.\\n\\nFigure 3: Differences in propal height:carapace width ratio between sex and species:\\n   - The sex factor was statistically significant (F = 125.6, p < 0.001), indicating that there is a significant difference in propal height:carapace width ratio between males and females.\\n   - The species factor was insignificant (F > 0.01, p = 0.983), suggesting that there is no significant difference in propal height:carapace width ratio between H. oregonensis and H. nudus.\\n   - There was a significant interaction (F = 4.39, p = 0.042), indicating that the effect of sex on propal height:carapace width ratio may vary depending on the species.\\n\\nFigure 4: Differences in propal width:carapace width ratio between sex and species:\\n   - The sex factor was statistically significant (F1,45 = 103.8, p < 0.001), indicating that there is a significant difference in propal width:carapace width ratio between males and females.\\n   - The species factor was insignificant (F1,45 = 0.09, p = 0.764), suggesting that there is no significant difference in propal width:carapace width ratio between H. oregonensis and H. nudus.\\n   - There was a significant interaction (F1,45 = 7.19, p = 0.01), indicating that the effect of sex on propal width:carapace width ratio may vary depending on the species.', metadata={}),\n",
       " Document(page_content='The crabs from the preference experiment were given five of each snail in each trial. \\nAfter 1.5 to 3 hours the number of snails consumed was counted and converted to a consumption \\nrate (snails consumed/hour). A total of eight feeding trials were conducted.', metadata={})]"
      ]
     },
     "execution_count": 36,
     "metadata": {},
     "output_type": "execute_result"
    }
   ],
   "source": [
    "result2[\"source_documents\"]"
   ]
  },
  {
   "cell_type": "code",
   "execution_count": 37,
   "id": "9bb7411d",
   "metadata": {
    "collapsed": true
   },
   "outputs": [
    {
     "data": {
      "text/plain": [
       "[Document(page_content='question: What is this paper about?\\nanswer: The main topic of this paper is the study of snail predation by Hemigrapsus nudus and Hemigrapsus oregonensis, specifically examining sex and species differences in chela size.\\nsource_documents: [Document(page_content=\\'The main topic or subject of this paper is the \"Snail Predation by Hemigrapsus nudus and Hemigrapsus oregonensis: Sex and Species Differences in Chela Size.\"\\', metadata={})]', metadata={}),\n",
       " Document(page_content=\"question: What were the significant findings on the relationship mentioned?\\nanswer: From the given information, we can determine the following significant findings:\\n\\n1. Figure 2: The relationship between carapace width and propal width in Hemigrapsus:\\n   - For both female and male H. nudus, a line of best fit was determined using SMA regression.\\n   - Descriptive statistics for this relationship can be found in Table 1B.\\n\\n2. Figure 3: Differences in propal height:carapace width ratio between sex and species:\\n   - The sex factor was statistically significant (F = 125.6, p < 0.001), indicating that there is a significant difference in propal height:carapace width ratio between males and females.\\n   - The species factor was insignificant (F > 0.01, p = 0.983), suggesting that there is no significant difference in propal height:carapace width ratio between H. oregonensis and H. nudus.\\n   - There was a significant interaction (F = 4.39, p = 0.042), indicating that the effect of sex on propal height:carapace width ratio may vary depending on the species.\\n\\n3. Figure 4: Differences in propal width:carapace width ratio between sex and species:\\n   - The sex factor was statistically significant (F1,45 = 103.8, p < 0.001), indicating that there is a significant difference in propal width:carapace width ratio between males and females.\\n   - The species factor was insignificant (F1,45 = 0.09, p = 0.764), suggesting that there is no significant difference in propal width:carapace width ratio between H. oregonensis and H. nudus.\\n   - There was a significant interaction (F1,45 = 7.19, p = 0.01), indicating that the effect of sex on propal width:carapace width ratio may vary depending on the species.\\nsource_documents: [Document(page_content='Figure 2: Relationship of carapace width and propal width in Hemigrapsus.  \\\\nLine of best fit from SMA regression. See Table 1B for descriptive statistics. A) Female H. \\\\nnudus. B) Male H. nudus. C)Female H. oregonensis. D) Male H. oregonensis.  \\\\n\\\\nFigure 3: Differences in propal height:carapace width ratio between sex and species. \\\\nThe sex factor was statistically significant (F = 125.6. p < 0.001), while the species factor was \\\\ninsignificant (F > 0.01, p = 0.983). There was a significant interaction (F = 4.39, p = 0.042). \\\\nError bars represent standard error of the mean.  \\\\n\\\\nFigure 4: Differences in propal width:carapace width ratio between sex and species. \\\\nThe sex factor was statistically significant (F1,45 = 103.8. p < 0.001), while the species factor was \\\\ninsignificant (F1,45  = 0.09, p = 0.764). There was a significant interaction (F1,45  = 7.19, p = \\\\n0.01). Error bars represent standard error of the mean.', metadata={}), Document(page_content='Table 2: Size and prey preference in H. nudus.  \\\\nSize parameters of experimental Hemigrapsus nudus and number of prey consumed in 24 hour \\\\nintervals (three trials). Crabs Fe1, Fe3, and Ma3 did not feed on snails and were not testable (NT) \\\\nfor preference. \\\\nIndividual \\\\nCarapace \\\\nWidth (mm) \\\\nPropal \\\\nHeight (mm) \\\\nNumber of \\\\nLacuna vincta \\\\nconsumed \\\\nNumber of \\\\nLittorina scutulata \\\\nconsumed \\\\n \\\\nG \\\\n \\\\np-value \\\\nFe1 \\\\n23.6 \\\\n5.9 \\\\n0 \\\\n0 \\\\nNT \\\\n \\\\nFe2 \\\\n23.1 \\\\n5.5 \\\\n15 \\\\n0 \\\\n20.8 \\\\np < 0.001 \\\\nFe3 \\\\n20.6 \\\\n5 \\\\n0 \\\\n0 \\\\nNT \\\\n \\\\nMa1 \\\\n19.1 \\\\n5.4 \\\\n14 \\\\n0 \\\\n19.4 \\\\np < 0.001 \\\\nMa2 \\\\n18.4 \\\\n5.4 \\\\n15 \\\\n0 \\\\n20.8 \\\\np < 0.001 \\\\nMa3 \\\\n20.1 \\\\n6 \\\\n0 \\\\n0 \\\\nNT', metadata={})]\", metadata={}),\n",
       " Document(page_content='\\nMa3 \\nMean Consumption Rate  \\n(Snails Consumed/Hour) \\nIndividual H. nudus \\n', metadata={})]"
      ]
     },
     "execution_count": 37,
     "metadata": {},
     "output_type": "execute_result"
    }
   ],
   "source": [
    "result2[\"chat_history\"]"
   ]
  },
  {
   "cell_type": "code",
   "execution_count": 25,
   "id": "faebf4ac",
   "metadata": {},
   "outputs": [],
   "source": [
    "result3 = qa_chain({\"question\": query3, \"chat_history\": chat_history})"
   ]
  },
  {
   "cell_type": "code",
   "execution_count": 26,
   "id": "eeb7dd56",
   "metadata": {},
   "outputs": [
    {
     "data": {
      "text/plain": [
       "'The main objective of this paper is to investigate the relationship between carapace width and propal height and width in two species of shore crabs, Hemigrapsus nudus and Hemigrapsus oregonensis. The paper also examines the potential impact of sex and species on this relationship.'"
      ]
     },
     "execution_count": 26,
     "metadata": {},
     "output_type": "execute_result"
    }
   ],
   "source": [
    "result3[\"answer\"]"
   ]
  },
  {
   "cell_type": "code",
   "execution_count": 27,
   "id": "82b0b439",
   "metadata": {
    "collapsed": true
   },
   "outputs": [
    {
     "data": {
      "text/plain": [
       "[Document(page_content='The main topic or subject matter of this paper is the coexistence and competition between two species of shore crabs, Hemigrapsus nudus and Hemigrapsus oregonensis, in the marine intertidal environment. The paper also explores the concept of character displacement and the morphological differences between the two species.', metadata={}),\n",
       " Document(page_content='ace width was a good predictor of both propal height (Figure 1, Table 1A) and \\npropal width (Figure 2, Table 1B) in female and male H. oregonensis and H. nudus. There was \\nless variation in the relationship between carapace width and propal height than with propal \\nwidth. A significant effect for sex was found for both CW:PH (F1, 45 = 125.6, p < 0.001) and CW:PW  (F1, \\n45 = 103.81, p < 0.001). There was no significant difference between Hemigrapsus species for \\nCW:PH (F1, 45 < 0.01, p = 0.983) and CW:PW (F1, 45 = 0.09, p = 0.764). A significant \\nsex*species interaction was detected for both CW:PH (F1, 45 4.39, p = 0.042) and CW:PW (F1, 45 \\n= 7.19, p = 0.010). Figure 3 and 4 show the means of CW:PH and CW:PW in by sex and species \\nrespectively.', metadata={})]"
      ]
     },
     "execution_count": 27,
     "metadata": {},
     "output_type": "execute_result"
    }
   ],
   "source": [
    "result3[\"source_documents\"]"
   ]
  },
  {
   "cell_type": "code",
   "execution_count": 28,
   "id": "3182b300",
   "metadata": {
    "collapsed": true
   },
   "outputs": [
    {
     "data": {
      "text/plain": [
       "[Document(page_content=\"question: What is this paper about?\\nanswer: The main topic or subject matter of this paper is the coexistence and competition between two species of shore crabs, Hemigrapsus nudus and Hemigrapsus oregonensis, in the marine intertidal environment. The paper also explores the concept of character displacement and the morphological differences between the two species.\\nsource_documents: [Document(page_content='Mean Consumption Rate  \\\\n(Snails Consumed/Hour) \\\\nIndividual H. nudus', metadata={}), Document(page_content='A multitude of species coexist in the marine intertidal environment. Closely related \\\\nspecies may be sympatric and compete for resources, such as food. Two species of shore crab, \\\\nHemigrapsus nudus (Dana 1851) and Hemigrapsus oregonensis (Dana 1851), occur in sympatry \\\\nin the Salish Sea. Both species are sexually dimorphic, with the males having larger chelae. \\\\nSpecies in sympatry may exhibit character displacement, the exaggeration of morphological or \\\\nbehavioral characteristics due to competition for resources (Brown and Wilson 1956). When H. \\\\nnudus and H. oregonensis co-occur, H. oregonensis tends to be found closer to the waterand in \\\\nfiner sediment than the more desiccation-tolerant H. nudus (Sliger 1982). There is still \\\\nconsiderable habitat overlap between these two species; the underside of a single rock may have \\\\nCharifson 3 \\\\n \\\\nroughly equal abundances of the two crab species (personal observation). The size of the chela \\\\nmay differ, which could allow the crabs to differentiate in food resource utilization.', metadata={}), Document(page_content='A few interesting patterns emerged in the morphometric analysis of Hemigrapsus nudus and Hemigrapsus orogenensis. The variance in propal height or propal width explained by carapace width was surprisingly high in female H. nudus with R2 values of 0.976 found for propal height and 0.927 for propal width. Male H. oregenensis had the greatest variation in chela size parameters, demonstrated by R2 of 0.693 and 0.534 for propal height and propal width respectively. The R2 values for propal width regressed against carapace width were consistently lower than propal height regressed against carapace width across species and sexes (Table 1). In general the ability of carapace width to explain the variance in chela size parameters (i.', metadata={})]\", metadata={}),\n",
       " Document(page_content='8 \\n0.9 \\n1 \\nFe1 \\nFe2 \\nFe3 \\nMa1 \\nMa2 \\nMa3 \\nMean Consumption Rate  \\n(Snails Consumed/Hour) \\nIndividual H. nudus \\n', metadata={}),\n",
       " Document(page_content='Charifson 1 \\n \\nSnail Predation by Hemigrapsus nudus and Hemigrapsus oregonensis: Sex and Species \\nDifferences in Chela Size. \\n \\nDavid Charifson1,2 \\n \\nMarine Invertebrate Zoology \\nSummer 2014 \\n \\n \\n \\n \\n1 Friday Harbor Laboratories, University of Washington, Friday Harbor, WA 98250 \\n2 Department of Ecology and Evolution, Stony Brook University, Stony Brook, NY 11794-5245 \\n \\n \\n \\n \\nContact information: \\nDavid Charifson \\nDepartment of Ecology and Evolution \\nStony Brook University \\n650 Life Sciences Building \\nStony Brook, NY 11794-5245 \\nDavid.charifson@stonybrook.edu  \\n \\n \\n \\n \\nKeywords: Hemigrapsus nudus, Hemigrapsus orogenensis, Littorina scutulata, Lacuna vincta, \\npredation, sexual dimorphism, character displacement  \\n \\n \\nCharifson 2 \\n \\nAbstract: \\n \\nThe relationship between propus size and use of snails as prey in sympatric populations \\nof Hemigrapsus nudus and Hemigrapsus oregonensis was investigated. Propal height and propal \\nwidth increases with body size in a predictable manner in male and female crabs of both species. \\nSexual dimorphism of propal height and width relationships in both shore crabs is apparent, but \\nthere was no detectible difference in chela size between H. nudus and H. oregonensis. The lack \\nof difference in chela size between sympatric H. nudus and H. oregonensis suggests that there is \\nno character displacement in this trait. Both species of crabs showed a strong feeding preference \\nfor the thin-shelled gastropod Lacuna vincta over the thicker shelled Littorina scutulata, likely \\ndue to the ease of consumption. There were no differences in snail consumption rates between \\nmale and female H. nudus of similar propal heights, mostly due to high feeding variation among \\nindividual crabs.  \\n \\nIntroduction: \\n \\nA multitude of species coexist in the marine intertidal environment. Closely related \\nspecies may be sympatric and compete for resources, such as food. Two species of shore crab, \\nHemigrapsus nudus (Dana 1851) and Hemigrapsus oregonensis (Dana 1851), occur in sympatry \\nin the Salish Sea. Both species are sexually dimorphic, with the males having larger chelae. \\nSpecies in sympatry may exhibit character displacement, the exaggeration of morphological or \\nbehavioral characteristics due to competition for resources (Brown and Wilson 1956). When H. \\nnudus and H. oregonensis co-occur, H. oregonensis tends to be found closer to the waterand in \\nfiner sediment than the more desiccation-tolerant H. nudus (Sliger 1982). There is still \\nconsiderable habitat overlap between these two species; the underside of a single rock may have \\nCharifson 3 \\n \\nroughly equal abundances of the two crab species (personal observation). The size of the chela \\nmay differ, which could allow the crabs to differentiate in food resource utilization. \\nBoth species are omnivores that eat algae and small invertebrates, including snails \\n(Behrens Yamada and', metadata={})]"
      ]
     },
     "execution_count": 28,
     "metadata": {},
     "output_type": "execute_result"
    }
   ],
   "source": [
    "result3[\"chat_history\"]"
   ]
  },
  {
   "cell_type": "code",
   "execution_count": 29,
   "id": "8b94c3e9",
   "metadata": {},
   "outputs": [],
   "source": [
    "query3a = \"Since the crabs were feeding on snails, what were the scientific names of the snails?\"\n",
    "result3a = qa_chain({\"question\": query3a, \"chat_history\": chat_history})"
   ]
  },
  {
   "cell_type": "code",
   "execution_count": 30,
   "id": "9abf9520",
   "metadata": {},
   "outputs": [
    {
     "data": {
      "text/plain": [
       "'The scientific names of the snails that the crabs were feeding on are Littorina scutulata and Lacuna vincta.'"
      ]
     },
     "execution_count": 30,
     "metadata": {},
     "output_type": "execute_result"
    }
   ],
   "source": [
    "result3a[\"answer\"]"
   ]
  },
  {
   "cell_type": "code",
   "execution_count": 31,
   "id": "deced7f9",
   "metadata": {
    "scrolled": true
   },
   "outputs": [
    {
     "data": {
      "text/plain": [
       "[Document(page_content='Littorina scutulata (Gould 1849) and Littorina sitkana (Philippi 1846)', metadata={}),\n",
       " Document(page_content='Hemigrapsus nudus, Hemigrapsus oregonensis, Littorina scutulata, Lacuna vincta', metadata={}),\n",
       " Document(page_content='Hemigrapsus nudus and Hemigrapsus oregonensis', metadata={})]"
      ]
     },
     "execution_count": 31,
     "metadata": {},
     "output_type": "execute_result"
    }
   ],
   "source": [
    "result3a[\"source_documents\"]"
   ]
  },
  {
   "cell_type": "code",
   "execution_count": 32,
   "id": "66dfd57f",
   "metadata": {
    "collapsed": true
   },
   "outputs": [
    {
     "data": {
      "text/plain": [
       "[Document(page_content=' of the chela \\nmay differ, which could allow the crabs to differentiate in food resource utilization. \\nBoth species are omnivores that eat algae and small invertebrates, including snails \\n(Behrens Yamada and Boulding 1996). The two shore crab species are known to eat Littorina \\nsitkana (Philippi 1846) and Littorina scutulata (Gould 1849), which also occur in the rocky \\nintertidal zone (Behrens Yamada and Boulding 1996). Li. scutulata moves upshore in response \\nto the presence of H. nudus and crushed conspecifics, where H. nudus density is lower (Keppel \\nand Scrosati 2004). This suggests that H. nudus represents an ecologically significant predation \\nthreat to littorines.  \\n \\nThe thick shelled littorines are difficult prey for both H. nudus and H. oregonensis as \\nneither crab species is a molluscivore specialists; they typically scrape or pick algae and softer \\ninvertebrates off rocks using their chelae (Behrens Yamada and Boulding 1996). Behrens \\nYamada and Boulding (1998) found that large H. nudus were capable of consuming Li. sitkana \\nthat were less than 8 mm in length, but had only a 37% success rate of consuming snails with \\nlengths between 5.5-7 mm .  \\nI sought to investigate differences in propus size between between males and females of \\nthese two crab species. The size of the propus of the chela is positively correlated with the \\namount of force that can be produced due to greater musculature (Behrens Yamada and Boulding \\n1998). A significant difference in propus size between the two species would suggest that further \\ntesting of character displacement may be warranted. A disparity in propus size to body size \\nbetween male and female crabs might result in different feeding rates and shell breaking \\ncapabilities. I devised a test of preference by varying snail shell strength within the same size \\nclass. The snail species Li. scutulata and Lacuna vincta (Montagu 1803) are both in the family \\nCharifson 4 \\n \\nLittorinidae and have similar shell shape but different shell thickness. Lacuna vincta has a \\nthinner, more fragile shell and is likely to be preferred as prey by shore crabs. I also hypothesize \\nthat, if chela size is held constant, female crabs will have greater snail consumption rates than \\nmale crabs. Female crabs with claws equivalent to males have a larger body mass,are likely to \\nhave greater metabolic need, and are less easily satiated. \\n \\nStudy System: \\n \\nAll specimens were collected on San Juan Island, Washington.  Two shore crabs (clade: \\nBrachyura: Family Grapsidae), Hemigrapsus oregonensis  and Hemigrapsus nudus were \\ncollected in the intertidal adjacent to the Friday Harbor Laboratories dock. These closely related \\ncrabs are morphologically similar, but can be distinguished by the presence of purple spots on \\nthe cheliped of H. nudus and abundant setae on the pereopods of H. oregonensis (Kozloff 1987). \\nLacuna vincta, in the Class Gastropoda and Family Littoridae, were collected at False Bay and \\nDead Man Cove. Littorina scutulata, in the Class Gastropoda and Family Littor', metadata={}),\n",
       " Document(page_content='Charifson 1 \\n \\nSnail Predation by Hemigrapsus nudus and Hemigrapsus oregonensis: Sex and Species \\nDifferences in Chela Size. \\n \\nDavid Charifson1,2 \\n \\nMarine Invertebrate Zoology \\nSummer 2014 \\n \\n \\n \\n \\n1 Friday Harbor Laboratories, University of Washington, Friday Harbor, WA 98250 \\n2 Department of Ecology and Evolution, Stony Brook University, Stony Brook, NY 11794-5245 \\n \\n \\n \\n \\nContact information: \\nDavid Charifson \\nDepartment of Ecology and Evolution \\nStony Brook University \\n650 Life Sciences Building \\nStony Brook, NY 11794-5245 \\nDavid.charifson@stonybrook.edu  \\n \\n \\n \\n \\nKeywords: Hemigrapsus nudus, Hemigrapsus orogenensis, Littorina scutulata, Lacuna vincta, \\npredation, sexual dimorphism, character displacement  \\n \\n \\nCharifson 2 \\n \\nAbstract: \\n \\nThe relationship between propus size and use of snails as prey in sympatric populations \\nof Hemigrapsus nudus and Hemigrapsus oregonensis was investigated. Propal height and propal \\nwidth increases with body size in a predictable manner in male and female crabs of both species. \\nSexual dimorphism of propal height and width relationships in both shore crabs is apparent, but \\nthere was no detectible difference in chela size between H. nudus and H. oregonensis. The lack \\nof difference in chela size between sympatric H. nudus and H. oregonensis suggests that there is \\nno character displacement in this trait. Both species of crabs showed a strong feeding preference \\nfor the thin-shelled gastropod Lacuna vincta over the thicker shelled Littorina scutulata, likely \\ndue to the ease of consumption. There were no differences in snail consumption rates between \\nmale and female H. nudus of similar propal heights, mostly due to high feeding variation among \\nindividual crabs.  \\n \\nIntroduction: \\n \\nA multitude of species coexist in the marine intertidal environment. Closely related \\nspecies may be sympatric and compete for resources, such as food. Two species of shore crab, \\nHemigrapsus nudus (Dana 1851) and Hemigrapsus oregonensis (Dana 1851), occur in sympatry \\nin the Salish Sea. Both species are sexually dimorphic, with the males having larger chelae. \\nSpecies in sympatry may exhibit character displacement, the exaggeration of morphological or \\nbehavioral characteristics due to competition for resources (Brown and Wilson 1956). When H. \\nnudus and H. oregonensis co-occur, H. oregonensis tends to be found closer to the waterand in \\nfiner sediment than the more desiccation-tolerant H. nudus (Sliger 1982). There is still \\nconsiderable habitat overlap between these two species; the underside of a single rock may have \\nCharifson 3 \\n \\nroughly equal abundances of the two crab species (personal observation). The size of the chela \\nmay differ, which could allow the crabs to differentiate in food resource utilization. \\nBoth species are omnivores that eat algae and small invertebrates, including snails \\n(Behrens Yamada and', metadata={}),\n",
       " Document(page_content='una vincta, in the Class Gastropoda and Family Littoridae, were collected at False Bay and \\nDead Man Cove. Littorina scutulata, in the Class Gastropoda and Family Littoridae, were \\ncollected from the rocky intertidal zone of Fourth of July Beach.  \\n \\nMaterials and Methods: \\nMorphometrics \\n \\nMale and females of H. oregonensis and H. nudus were measured with digital calipers \\n(0.1 mm). Each crab was measured for carapace width, propal height and propal width. Carapace \\nwidth was taken at the widest part of the carapace. Propal height was measured at the highest \\nvertical distance along the propus. Propal width was measured perpendicular to propal height, \\nfrom the left to right sides of the propus. All claw measurements were made on the left cheliped. \\nCharifson 5 \\n \\nIf there was a size disparity between the left and right claws due to regeneration of a lost claw, \\nthe crab was excluded from the study. Ratios of carapace width:propal height (CW:PH) and \\ncarapace width:propal width (CW:PW) were calculated.  \\n \\nCrab Feeding Preference \\n \\nThree female (Fe1, Fe2, Fe3) and three male (Ma1, Ma2, Ma3) crabs of H. nudus with \\npropal heights between 5-6 mm were placed in small flow-through containers. Five L. scutulata \\nand five L. vincta with shell lengths between 4-6 mm were added to each container. The ranges \\nof crab propal height and snail shell length were chosen based on prior studies to ensure that the \\ncrabs were capable of feeding on the hard-shelled L. scutulata (Behrens Yamada and Boulding \\n1998). H. oregonensis was excluded due to the rarity of female crabs of that species within the \\nrange of appropriate propal heights. After approximately 15 hours the number of L. scutulata and \\nL. vincta consumed was counted. Three trials were conducted for each crab. \\nSnail Consumption by Hemigrapsus nudus \\n \\nThe crabs from the preference experiment were given five of each snail in each trial. \\nAfter 1.5 to 3 hours the number of snails consumed was counted and converted to a consumption \\nrate (snails consumed/hour). A total of eight feeding trials were conducted.  \\n \\nStatistical Analysis \\n \\nFor the morphometric analysis, crabs were divided into four groups based on sex and \\nspecies. Standardized major axis regression was used to determine the relationship between crab \\nmorphometric parameters. Arcsin transformations were used to correct for non-normality (Sokol \\nand Rohlf 2011). Differences in CW:PH and CW:PW were analyzed using a two-way ANOVA \\nCharifson 6 \\n \\nwith factors: Sex and Species. Prey selection by H. nudus was analyzed using G-tests for each \\nindividual that consumed snails. An one-way ANOVA was used to determine differences in snail \\nconsumption rates by H. nudus.  \\n \\nResults: \\nMorphometrics: \\n \\nCarapace width was a good predictor of both propal height (Figure 1, Table 1A) and \\npropal width (Figure 2, Table 1B) in female and male H. oregonensis and H. nudus. There was', metadata={})]"
      ]
     },
     "execution_count": 32,
     "metadata": {},
     "output_type": "execute_result"
    }
   ],
   "source": [
    "result3a[\"chat_history\"]"
   ]
  },
  {
   "cell_type": "code",
   "execution_count": 33,
   "id": "d2750eb0",
   "metadata": {},
   "outputs": [],
   "source": [
    "result4 = qa_chain({\"question\": query4, \"chat_history\": chat_history})"
   ]
  },
  {
   "cell_type": "code",
   "execution_count": 34,
   "id": "51d45fb1",
   "metadata": {},
   "outputs": [
    {
     "data": {
      "text/plain": [
       "'Based on the given context, there is no specific mention of observations made in the field or any other type of data collection methods used in the paper.'"
      ]
     },
     "execution_count": 34,
     "metadata": {},
     "output_type": "execute_result"
    }
   ],
   "source": [
    "result4[\"answer\"]"
   ]
  },
  {
   "cell_type": "code",
   "execution_count": 35,
   "id": "a9ca0b52",
   "metadata": {
    "collapsed": true
   },
   "outputs": [
    {
     "data": {
      "text/plain": [
       "[Document(page_content='The main objective of this paper is to investigate the relationship between carapace width and propal height and width in two species of shore crabs, Hemigrapsus nudus and Hemigrapsus oregonensis. The paper also examines the potential impact of sex and species on this relationship.', metadata={}),\n",
       " Document(page_content='The main topic or subject matter of this paper is the coexistence and competition between two species of shore crabs, Hemigrapsus nudus and Hemigrapsus oregonensis, in the marine intertidal environment. The paper also explores the concept of character displacement and the morphological differences between the two species.', metadata={}),\n",
       " Document(page_content='The scientific names of the snails that the crabs were feeding on are Littorina scutulata and Lacuna vincta.', metadata={})]"
      ]
     },
     "execution_count": 35,
     "metadata": {},
     "output_type": "execute_result"
    }
   ],
   "source": [
    "result4[\"source_documents\"]"
   ]
  },
  {
   "cell_type": "code",
   "execution_count": 36,
   "id": "57e7285d",
   "metadata": {
    "collapsed": true
   },
   "outputs": [
    {
     "data": {
      "text/plain": [
       "[Document(page_content=\"question: What is this paper about?\\nanswer: The main topic or subject matter of this paper is the coexistence and competition between two species of shore crabs, Hemigrapsus nudus and Hemigrapsus oregonensis, in the marine intertidal environment. The paper also explores the concept of character displacement and the morphological differences between the two species.\\nsource_documents: [Document(page_content='Mean Consumption Rate  \\\\n(Snails Consumed/Hour) \\\\nIndividual H. nudus', metadata={}), Document(page_content='A multitude of species coexist in the marine intertidal environment. Closely related \\\\nspecies may be sympatric and compete for resources, such as food. Two species of shore crab, \\\\nHemigrapsus nudus (Dana 1851) and Hemigrapsus oregonensis (Dana 1851), occur in sympatry \\\\nin the Salish Sea. Both species are sexually dimorphic, with the males having larger chelae. \\\\nSpecies in sympatry may exhibit character displacement, the exaggeration of morphological or \\\\nbehavioral characteristics due to competition for resources (Brown and Wilson 1956). When H. \\\\nnudus and H. oregonensis co-occur, H. oregonensis tends to be found closer to the waterand in \\\\nfiner sediment than the more desiccation-tolerant H. nudus (Sliger 1982). There is still \\\\nconsiderable habitat overlap between these two species; the underside of a single rock may have \\\\nCharifson 3 \\\\n \\\\nroughly equal abundances of the two crab species (personal observation). The size of the chela \\\\nmay differ, which could allow the crabs to differentiate in food resource utilization.', metadata={}), Document(page_content='A few interesting patterns emerged in the morphometric analysis of Hemigrapsus nudus and Hemigrapsus orogenensis. The variance in propal height or propal width explained by carapace width was surprisingly high in female H. nudus with R2 values of 0.976 found for propal height and 0.927 for propal width. Male H. oregenensis had the greatest variation in chela size parameters, demonstrated by R2 of 0.693 and 0.534 for propal height and propal width respectively. The R2 values for propal width regressed against carapace width were consistently lower than propal height regressed against carapace width across species and sexes (Table 1). In general the ability of carapace width to explain the variance in chela size parameters (i.', metadata={})]\", metadata={}),\n",
       " Document(page_content=\"question: Write a one sentence summary of the purpose of the paper\\nanswer: The main objective of this paper is to investigate the relationship between carapace width and propal height and width in two species of shore crabs, Hemigrapsus nudus and Hemigrapsus oregonensis. The paper also examines the potential impact of sex and species on this relationship.\\nsource_documents: [Document(page_content='The main topic or subject matter of this paper is the coexistence and competition between two species of shore crabs, Hemigrapsus nudus and Hemigrapsus oregonensis, in the marine intertidal environment. The paper also explores the concept of character displacement and the morphological differences between the two species.', metadata={}), Document(page_content='ace width was a good predictor of both propal height (Figure 1, Table 1A) and \\\\npropal width (Figure 2, Table 1B) in female and male H. oregonensis and H. nudus. There was \\\\nless variation in the relationship between carapace width and propal height than with propal \\\\nwidth. A significant effect for sex was found for both CW:PH (F1, 45 = 125.6, p < 0.001) and CW:PW  (F1, \\\\n45 = 103.81, p < 0.001). There was no significant difference between Hemigrapsus species for \\\\nCW:PH (F1, 45 < 0.01, p = 0.983) and CW:PW (F1, 45 = 0.09, p = 0.764). A significant \\\\nsex*species interaction was detected for both CW:PH (F1, 45 4.39, p = 0.042) and CW:PW (F1, 45 \\\\n= 7.19, p = 0.010). Figure 3 and 4 show the means of CW:PH and CW:PW in by sex and species \\\\nrespectively.', metadata={})]\", metadata={}),\n",
       " Document(page_content=\"question: Since the crabs were feeding on snails, what were the scientific names of the snails?\\nanswer: The scientific names of the snails that the crabs were feeding on are Littorina scutulata and Lacuna vincta.\\nsource_documents: [Document(page_content='Littorina scutulata (Gould 1849) and Littorina sitkana (Philippi 1846)', metadata={}), Document(page_content='Hemigrapsus nudus, Hemigrapsus oregonensis, Littorina scutulata, Lacuna vincta', metadata={}), Document(page_content='Hemigrapsus nudus and Hemigrapsus oregonensis', metadata={})]\", metadata={})]"
      ]
     },
     "execution_count": 36,
     "metadata": {},
     "output_type": "execute_result"
    }
   ],
   "source": [
    "result4[\"chat_history\"]"
   ]
  },
  {
   "cell_type": "code",
   "execution_count": 37,
   "id": "f587dbd6",
   "metadata": {},
   "outputs": [],
   "source": [
    "result5 = qa_chain({\"question\": query5, \"chat_history\": chat_history})"
   ]
  },
  {
   "cell_type": "code",
   "execution_count": 38,
   "id": "07b1f6d9",
   "metadata": {},
   "outputs": [
    {
     "data": {
      "text/plain": [
       "'The research conducted in this paper is primarily focused on investigating the relationship between carapace width and propal height and width in two species of shore crabs, Hemigrapsus nudus and Hemigrapsus oregonensis. The paper also examines the potential impact of sex and species on this relationship.'"
      ]
     },
     "execution_count": 38,
     "metadata": {},
     "output_type": "execute_result"
    }
   ],
   "source": [
    "result5[\"answer\"]"
   ]
  },
  {
   "cell_type": "code",
   "execution_count": 39,
   "id": "d4f91e39",
   "metadata": {
    "collapsed": true
   },
   "outputs": [
    {
     "data": {
      "text/plain": [
       "[Document(page_content='The main objective of this paper is to investigate the relationship between carapace width and propal height and width in two species of shore crabs, Hemigrapsus nudus and Hemigrapsus oregonensis. The paper also examines the potential impact of sex and species on this relationship.', metadata={}),\n",
       " Document(page_content='The main objective of this paper is to investigate the relationship between carapace width and propal height and width in two species of shore crabs, Hemigrapsus nudus and Hemigrapsus oregonensis. The paper also examines the potential impact of sex and species on this relationship.', metadata={}),\n",
       " Document(page_content='The main topic or subject matter of this paper is the coexistence and competition between two species of shore crabs, Hemigrapsus nudus and Hemigrapsus oregonensis, in the marine intertidal environment. The paper also explores the concept of character displacement and the morphological differences between the two species.', metadata={})]"
      ]
     },
     "execution_count": 39,
     "metadata": {},
     "output_type": "execute_result"
    }
   ],
   "source": [
    "result5[\"source_documents\"]"
   ]
  },
  {
   "cell_type": "code",
   "execution_count": 40,
   "id": "11c2ba94",
   "metadata": {
    "collapsed": true
   },
   "outputs": [
    {
     "data": {
      "text/plain": [
       "[Document(page_content=\"question: Terms that may be used to identify an observation include “in the field”, “this study”, “observed”, “taken”, “collected”, “sampled”, “collection”, “seen”, “harvested”, “found”, etc. Does the paper include one or more observations?\\nanswer: Based on the given context, there is no specific mention of observations made in the field or any other type of data collection methods used in the paper.\\nsource_documents: [Document(page_content='The main objective of this paper is to investigate the relationship between carapace width and propal height and width in two species of shore crabs, Hemigrapsus nudus and Hemigrapsus oregonensis. The paper also examines the potential impact of sex and species on this relationship.', metadata={}), Document(page_content='The main topic or subject matter of this paper is the coexistence and competition between two species of shore crabs, Hemigrapsus nudus and Hemigrapsus oregonensis, in the marine intertidal environment. The paper also explores the concept of character displacement and the morphological differences between the two species.', metadata={}), Document(page_content='The scientific names of the snails that the crabs were feeding on are Littorina scutulata and Lacuna vincta.', metadata={})]\", metadata={}),\n",
       " Document(page_content=\"question: What is this paper about?\\nanswer: The main topic or subject matter of this paper is the coexistence and competition between two species of shore crabs, Hemigrapsus nudus and Hemigrapsus oregonensis, in the marine intertidal environment. The paper also explores the concept of character displacement and the morphological differences between the two species.\\nsource_documents: [Document(page_content='Mean Consumption Rate  \\\\n(Snails Consumed/Hour) \\\\nIndividual H. nudus', metadata={}), Document(page_content='A multitude of species coexist in the marine intertidal environment. Closely related \\\\nspecies may be sympatric and compete for resources, such as food. Two species of shore crab, \\\\nHemigrapsus nudus (Dana 1851) and Hemigrapsus oregonensis (Dana 1851), occur in sympatry \\\\nin the Salish Sea. Both species are sexually dimorphic, with the males having larger chelae. \\\\nSpecies in sympatry may exhibit character displacement, the exaggeration of morphological or \\\\nbehavioral characteristics due to competition for resources (Brown and Wilson 1956). When H. \\\\nnudus and H. oregonensis co-occur, H. oregonensis tends to be found closer to the waterand in \\\\nfiner sediment than the more desiccation-tolerant H. nudus (Sliger 1982). There is still \\\\nconsiderable habitat overlap between these two species; the underside of a single rock may have \\\\nCharifson 3 \\\\n \\\\nroughly equal abundances of the two crab species (personal observation). The size of the chela \\\\nmay differ, which could allow the crabs to differentiate in food resource utilization.', metadata={}), Document(page_content='A few interesting patterns emerged in the morphometric analysis of Hemigrapsus nudus and Hemigrapsus orogenensis. The variance in propal height or propal width explained by carapace width was surprisingly high in female H. nudus with R2 values of 0.976 found for propal height and 0.927 for propal width. Male H. oregenensis had the greatest variation in chela size parameters, demonstrated by R2 of 0.693 and 0.534 for propal height and propal width respectively. The R2 values for propal width regressed against carapace width were consistently lower than propal height regressed against carapace width across species and sexes (Table 1). In general the ability of carapace width to explain the variance in chela size parameters (i.', metadata={})]\", metadata={}),\n",
       " Document(page_content=\"question: Write a one sentence summary of the purpose of the paper\\nanswer: The main objective of this paper is to investigate the relationship between carapace width and propal height and width in two species of shore crabs, Hemigrapsus nudus and Hemigrapsus oregonensis. The paper also examines the potential impact of sex and species on this relationship.\\nsource_documents: [Document(page_content='The main topic or subject matter of this paper is the coexistence and competition between two species of shore crabs, Hemigrapsus nudus and Hemigrapsus oregonensis, in the marine intertidal environment. The paper also explores the concept of character displacement and the morphological differences between the two species.', metadata={}), Document(page_content='ace width was a good predictor of both propal height (Figure 1, Table 1A) and \\\\npropal width (Figure 2, Table 1B) in female and male H. oregonensis and H. nudus. There was \\\\nless variation in the relationship between carapace width and propal height than with propal \\\\nwidth. A significant effect for sex was found for both CW:PH (F1, 45 = 125.6, p < 0.001) and CW:PW  (F1, \\\\n45 = 103.81, p < 0.001). There was no significant difference between Hemigrapsus species for \\\\nCW:PH (F1, 45 < 0.01, p = 0.983) and CW:PW (F1, 45 = 0.09, p = 0.764). A significant \\\\nsex*species interaction was detected for both CW:PH (F1, 45 4.39, p = 0.042) and CW:PW (F1, 45 \\\\n= 7.19, p = 0.010). Figure 3 and 4 show the means of CW:PH and CW:PW in by sex and species \\\\nrespectively.', metadata={})]\", metadata={})]"
      ]
     },
     "execution_count": 40,
     "metadata": {},
     "output_type": "execute_result"
    }
   ],
   "source": [
    "result5[\"chat_history\"]"
   ]
  },
  {
   "cell_type": "code",
   "execution_count": 41,
   "id": "699b450e",
   "metadata": {},
   "outputs": [],
   "source": [
    "result6 = qa_chain({\"question\": query6, \"chat_history\": chat_history})"
   ]
  },
  {
   "cell_type": "code",
   "execution_count": 42,
   "id": "ece5f425",
   "metadata": {},
   "outputs": [
    {
     "data": {
      "text/plain": [
       "'The scientific names of the species mentioned in this paper are Hemigrapsus nudus and Hemigrapsus oregonensis.'"
      ]
     },
     "execution_count": 42,
     "metadata": {},
     "output_type": "execute_result"
    }
   ],
   "source": [
    "result6[\"answer\"]"
   ]
  },
  {
   "cell_type": "code",
   "execution_count": 43,
   "id": "d063580a",
   "metadata": {},
   "outputs": [
    {
     "data": {
      "text/plain": [
       "[Document(page_content='The scientific names of the snails that the crabs were feeding on are Littorina scutulata and Lacuna vincta.', metadata={}),\n",
       " Document(page_content='The scientific names of the snails that the crabs were feeding on are Littorina scutulata and Lacuna vincta.', metadata={}),\n",
       " Document(page_content='The research conducted in this paper is primarily focused on investigating the relationship between carapace width and propal height and width in two species of shore crabs, Hemigrapsus nudus and Hemigrapsus oregonensis.', metadata={})]"
      ]
     },
     "execution_count": 43,
     "metadata": {},
     "output_type": "execute_result"
    }
   ],
   "source": [
    "result6[\"source_documents\"]"
   ]
  },
  {
   "cell_type": "code",
   "execution_count": 44,
   "id": "a0f2994a",
   "metadata": {
    "collapsed": true
   },
   "outputs": [
    {
     "data": {
      "text/plain": [
       "[Document(page_content=\"question: Since the crabs were feeding on snails, what were the scientific names of the snails?\\nanswer: The scientific names of the snails that the crabs were feeding on are Littorina scutulata and Lacuna vincta.\\nsource_documents: [Document(page_content='Littorina scutulata (Gould 1849) and Littorina sitkana (Philippi 1846)', metadata={}), Document(page_content='Hemigrapsus nudus, Hemigrapsus oregonensis, Littorina scutulata, Lacuna vincta', metadata={}), Document(page_content='Hemigrapsus nudus and Hemigrapsus oregonensis', metadata={})]\", metadata={}),\n",
       " Document(page_content=\"question: Terms that may be used to identify an observation include “in the field”, “this study”, “observed”, “taken”, “collected”, “sampled”, “collection”, “seen”, “harvested”, “found”, etc. Does the paper include one or more observations?\\nanswer: Based on the given context, there is no specific mention of observations made in the field or any other type of data collection methods used in the paper.\\nsource_documents: [Document(page_content='The main objective of this paper is to investigate the relationship between carapace width and propal height and width in two species of shore crabs, Hemigrapsus nudus and Hemigrapsus oregonensis. The paper also examines the potential impact of sex and species on this relationship.', metadata={}), Document(page_content='The main topic or subject matter of this paper is the coexistence and competition between two species of shore crabs, Hemigrapsus nudus and Hemigrapsus oregonensis, in the marine intertidal environment. The paper also explores the concept of character displacement and the morphological differences between the two species.', metadata={}), Document(page_content='The scientific names of the snails that the crabs were feeding on are Littorina scutulata and Lacuna vincta.', metadata={})]\", metadata={}),\n",
       " Document(page_content=\"question: Does this paper contain observational or experimental research conducted in the natural environment or with organisms collected in nature?\\nanswer: The research conducted in this paper is primarily focused on investigating the relationship between carapace width and propal height and width in two species of shore crabs, Hemigrapsus nudus and Hemigrapsus oregonensis. The paper also examines the potential impact of sex and species on this relationship.\\nsource_documents: [Document(page_content='The main objective of this paper is to investigate the relationship between carapace width and propal height and width in two species of shore crabs, Hemigrapsus nudus and Hemigrapsus oregonensis. The paper also examines the potential impact of sex and species on this relationship.', metadata={}), Document(page_content='The main objective of this paper is to investigate the relationship between carapace width and propal height and width in two species of shore crabs, Hemigrapsus nudus and Hemigrapsus oregonensis. The paper also examines the potential impact of sex and species on this relationship.', metadata={}), Document(page_content='The main topic or subject matter of this paper is the coexistence and competition between two species of shore crabs, Hemigrapsus nudus and Hemigrapsus oregonensis, in the marine intertidal environment. The paper also explores the concept of character displacement and the morphological differences between the two species.', metadata={})]\", metadata={})]"
      ]
     },
     "execution_count": 44,
     "metadata": {},
     "output_type": "execute_result"
    }
   ],
   "source": [
    "result6[\"chat_history\"]"
   ]
  },
  {
   "cell_type": "code",
   "execution_count": 45,
   "id": "d86efc8e",
   "metadata": {},
   "outputs": [],
   "source": [
    "result6a = qa_chain({\"question\": query6a, \"chat_history\": chat_history})"
   ]
  },
  {
   "cell_type": "code",
   "execution_count": 46,
   "id": "8bb86367",
   "metadata": {},
   "outputs": [
    {
     "data": {
      "text/plain": [
       "'The locations from which the collected species were obtained are not mentioned in the given context.'"
      ]
     },
     "execution_count": 46,
     "metadata": {},
     "output_type": "execute_result"
    }
   ],
   "source": [
    "result6a[\"answer\"]"
   ]
  },
  {
   "cell_type": "code",
   "execution_count": 47,
   "id": "73801a2d",
   "metadata": {},
   "outputs": [
    {
     "data": {
      "text/plain": [
       "[Document(page_content='The research conducted in this paper is primarily focused on investigating the relationship between carapace width and propal height and width in two species of shore crabs, Hemigrapsus nudus and Hemigrapsus oregonensis.', metadata={}),\n",
       " Document(page_content='The scientific names of the snails that the crabs were feeding on are Littorina scutulata and Lacuna vincta.', metadata={})]"
      ]
     },
     "execution_count": 47,
     "metadata": {},
     "output_type": "execute_result"
    }
   ],
   "source": [
    "result6a[\"source_documents\"]"
   ]
  },
  {
   "cell_type": "code",
   "execution_count": 48,
   "id": "422e7b5f",
   "metadata": {},
   "outputs": [],
   "source": [
    "result7 = qa_chain({\"question\": query7, \"chat_history\": chat_history})"
   ]
  },
  {
   "cell_type": "code",
   "execution_count": 49,
   "id": "9a52e9cf",
   "metadata": {},
   "outputs": [
    {
     "data": {
      "text/plain": [
       "'The locations from which the collected species were obtained are not mentioned in the given context.'"
      ]
     },
     "execution_count": 49,
     "metadata": {},
     "output_type": "execute_result"
    }
   ],
   "source": [
    "result7[\"answer\"]"
   ]
  },
  {
   "cell_type": "code",
   "execution_count": 50,
   "id": "4bff96e9",
   "metadata": {},
   "outputs": [
    {
     "data": {
      "text/plain": [
       "[Document(page_content='The locations from which the collected species were obtained are not mentioned in the given context.', metadata={}),\n",
       " Document(page_content='The research conducted in this paper is primarily focused on investigating the relationship between carapace width and propal height and width in two species of shore crabs, Hemigrapsus nudus and Hemigrapsus oregonensis.', metadata={})]"
      ]
     },
     "execution_count": 50,
     "metadata": {},
     "output_type": "execute_result"
    }
   ],
   "source": [
    "result7[\"source_documents\"]"
   ]
  },
  {
   "cell_type": "code",
   "execution_count": 51,
   "id": "4261684d",
   "metadata": {
    "collapsed": true
   },
   "outputs": [
    {
     "data": {
      "text/plain": [
       "[Document(page_content=\"question: Where were the species collected?\\nanswer: The locations from which the collected species were obtained are not mentioned in the given context.\\nsource_documents: [Document(page_content='The research conducted in this paper is primarily focused on investigating the relationship between carapace width and propal height and width in two species of shore crabs, Hemigrapsus nudus and Hemigrapsus oregonensis.', metadata={}), Document(page_content='The scientific names of the snails that the crabs were feeding on are Littorina scutulata and Lacuna vincta.', metadata={})]\", metadata={}),\n",
       " Document(page_content=\"question: Terms that may be used to identify an observation include “in the field”, “this study”, “observed”, “taken”, “collected”, “sampled”, “collection”, “seen”, “harvested”, “found”, etc. Does the paper include one or more observations?\\nanswer: Based on the given context, there is no specific mention of observations made in the field or any other type of data collection methods used in the paper.\\nsource_documents: [Document(page_content='The main objective of this paper is to investigate the relationship between carapace width and propal height and width in two species of shore crabs, Hemigrapsus nudus and Hemigrapsus oregonensis. The paper also examines the potential impact of sex and species on this relationship.', metadata={}), Document(page_content='The main topic or subject matter of this paper is the coexistence and competition between two species of shore crabs, Hemigrapsus nudus and Hemigrapsus oregonensis, in the marine intertidal environment. The paper also explores the concept of character displacement and the morphological differences between the two species.', metadata={}), Document(page_content='The scientific names of the snails that the crabs were feeding on are Littorina scutulata and Lacuna vincta.', metadata={})]\", metadata={}),\n",
       " Document(page_content=\"question: What are the scientific names of the collected species mentioned in this paper?\\nanswer: The scientific names of the species mentioned in this paper are Hemigrapsus nudus and Hemigrapsus oregonensis.\\nsource_documents: [Document(page_content='The scientific names of the snails that the crabs were feeding on are Littorina scutulata and Lacuna vincta.', metadata={}), Document(page_content='The scientific names of the snails that the crabs were feeding on are Littorina scutulata and Lacuna vincta.', metadata={}), Document(page_content='The research conducted in this paper is primarily focused on investigating the relationship between carapace width and propal height and width in two species of shore crabs, Hemigrapsus nudus and Hemigrapsus oregonensis.', metadata={})]\", metadata={})]"
      ]
     },
     "execution_count": 51,
     "metadata": {},
     "output_type": "execute_result"
    }
   ],
   "source": [
    "result7[\"chat_history\"]"
   ]
  },
  {
   "cell_type": "code",
   "execution_count": 52,
   "id": "ba8a24c6",
   "metadata": {},
   "outputs": [],
   "source": [
    "result7a = qa_chain({\"question\": query7a, \"chat_history\": chat_history})"
   ]
  },
  {
   "cell_type": "code",
   "execution_count": 53,
   "id": "74436010",
   "metadata": {},
   "outputs": [
    {
     "data": {
      "text/plain": [
       "'The scientific names of the collected species mentioned in this paper are Hemigrapsus nudus and Hemigrapsus oregonensis. However, the locations from which these species were obtained are not mentioned in the given context.'"
      ]
     },
     "execution_count": 53,
     "metadata": {},
     "output_type": "execute_result"
    }
   ],
   "source": [
    "result7a[\"answer\"]"
   ]
  },
  {
   "cell_type": "code",
   "execution_count": 54,
   "id": "04c185ec",
   "metadata": {},
   "outputs": [],
   "source": [
    "result8 = qa_chain({\"question\": query8, \"chat_history\": chat_history})"
   ]
  },
  {
   "cell_type": "code",
   "execution_count": 55,
   "id": "7880eedd",
   "metadata": {},
   "outputs": [
    {
     "data": {
      "text/plain": [
       "'No, the paper does not mention any specific location where the collected species were obtained.'"
      ]
     },
     "execution_count": 55,
     "metadata": {},
     "output_type": "execute_result"
    }
   ],
   "source": [
    "result8[\"answer\"]"
   ]
  },
  {
   "cell_type": "code",
   "execution_count": 56,
   "id": "6850eb3f",
   "metadata": {},
   "outputs": [],
   "source": [
    "result9 = qa_chain({\"question\": query9, \"chat_history\": chat_history})"
   ]
  },
  {
   "cell_type": "code",
   "execution_count": 57,
   "id": "a3662c93",
   "metadata": {},
   "outputs": [
    {
     "data": {
      "text/plain": [
       "\"I'm sorry, but I don't have any specific coordinate locations in latitude/longitude for the collected species mentioned in the given context.\""
      ]
     },
     "execution_count": 57,
     "metadata": {},
     "output_type": "execute_result"
    }
   ],
   "source": [
    "result9[\"answer\"]"
   ]
  },
  {
   "cell_type": "code",
   "execution_count": 58,
   "id": "77672d31",
   "metadata": {},
   "outputs": [],
   "source": [
    "result10 = qa_chain({\"question\": query10, \"chat_history\": chat_history})"
   ]
  },
  {
   "cell_type": "code",
   "execution_count": 59,
   "id": "047019fb",
   "metadata": {},
   "outputs": [
    {
     "data": {
      "text/plain": [
       "'No, the paper does not provide information about the specific habitat where the species were found.'"
      ]
     },
     "execution_count": 59,
     "metadata": {},
     "output_type": "execute_result"
    }
   ],
   "source": [
    "result10[\"answer\"]"
   ]
  },
  {
   "cell_type": "code",
   "execution_count": 60,
   "id": "9d50067c",
   "metadata": {
    "collapsed": true
   },
   "outputs": [
    {
     "data": {
      "text/plain": [
       "[Document(page_content='No, the paper does not mention any specific location where the collected species were obtained.', metadata={}),\n",
       " Document(page_content='The research conducted in this paper is primarily focused on investigating the relationship between carapace width and propal height and width in two species of shore crabs, Hemigrapsus nudus and Hemigrapsus oregonensis.\\nThe scientific names of the snails that the crabs were feeding on are Littorina scutulata and Lacuna vincta.', metadata={}),\n",
       " Document(page_content='The locations from which the collected species were obtained are not mentioned in the given context.', metadata={})]"
      ]
     },
     "execution_count": 60,
     "metadata": {},
     "output_type": "execute_result"
    }
   ],
   "source": [
    "result10[\"source_documents\"]"
   ]
  },
  {
   "cell_type": "code",
   "execution_count": 61,
   "id": "95e93b19",
   "metadata": {},
   "outputs": [],
   "source": [
    "result10a = qa_chain({\"question\": query10a, \"chat_history\": chat_history})"
   ]
  },
  {
   "cell_type": "code",
   "execution_count": 62,
   "id": "f837a924",
   "metadata": {},
   "outputs": [
    {
     "data": {
      "text/plain": [
       "'No, the paper does not mention any formal name or specific geographic location for the habitat where the species were collected.'"
      ]
     },
     "execution_count": 62,
     "metadata": {},
     "output_type": "execute_result"
    }
   ],
   "source": [
    "result10a[\"answer\"]"
   ]
  },
  {
   "cell_type": "code",
   "execution_count": 63,
   "id": "fe3cb901",
   "metadata": {},
   "outputs": [],
   "source": [
    "result11 = qa_chain({\"question\": query11, \"chat_history\": chat_history})"
   ]
  },
  {
   "cell_type": "code",
   "execution_count": 64,
   "id": "794a5329",
   "metadata": {},
   "outputs": [
    {
     "data": {
      "text/plain": [
       "'No, the paper does not mention any year, date, or time regarding the collection or observation of the species mentioned.'"
      ]
     },
     "execution_count": 64,
     "metadata": {},
     "output_type": "execute_result"
    }
   ],
   "source": [
    "result11[\"answer\"]"
   ]
  },
  {
   "cell_type": "code",
   "execution_count": 65,
   "id": "9614fe4e",
   "metadata": {},
   "outputs": [
    {
     "data": {
      "text/plain": [
       "[Document(page_content='No, the paper does not mention any specific location where the collected species were obtained.', metadata={}),\n",
       " Document(page_content='No, the paper does not mention any specific location where the collected species were obtained.', metadata={}),\n",
       " Document(page_content='The locations from which the collected species were obtained are not mentioned in the given context.', metadata={})]"
      ]
     },
     "execution_count": 65,
     "metadata": {},
     "output_type": "execute_result"
    }
   ],
   "source": [
    "result11[\"source_documents\"]"
   ]
  },
  {
   "cell_type": "code",
   "execution_count": 66,
   "id": "cf4808bd",
   "metadata": {},
   "outputs": [
    {
     "data": {
      "text/plain": [
       "[Document(page_content=\"question: Does the paper mention where the species were observed or collected, and if so, what locations are given?\\nanswer: The locations from which the collected species were obtained are not mentioned in the given context.\\nsource_documents: [Document(page_content='The locations from which the collected species were obtained are not mentioned in the given context.', metadata={}), Document(page_content='The research conducted in this paper is primarily focused on investigating the relationship between carapace width and propal height and width in two species of shore crabs, Hemigrapsus nudus and Hemigrapsus oregonensis.', metadata={})]\", metadata={}),\n",
       " Document(page_content=\"question: Can you give a more specific location of the habitat such as formal name of said location?\\nanswer: No, the paper does not mention any formal name or specific geographic location for the habitat where the species were collected.\\nsource_documents: [Document(page_content='No, the paper does not mention any specific location where the collected species were obtained.', metadata={}), Document(page_content='No, the paper does not mention any specific location where the collected species were obtained.', metadata={}), Document(page_content='The locations from which the collected species were obtained are not mentioned in the given context.', metadata={})]\", metadata={}),\n",
       " Document(page_content=\"question: Can you give a more specific location?\\nanswer: No, the paper does not mention any specific location where the collected species were obtained.\\nsource_documents: [Document(page_content='The locations from which the collected species were obtained are not mentioned in the given context.', metadata={}), Document(page_content='The locations from which the collected species were obtained are not mentioned in the given context.', metadata={}), Document(page_content='The locations from which the collected species were obtained are not mentioned in the given context.', metadata={})]\", metadata={})]"
      ]
     },
     "execution_count": 66,
     "metadata": {},
     "output_type": "execute_result"
    }
   ],
   "source": [
    "result11[\"chat_history\"]"
   ]
  },
  {
   "cell_type": "code",
   "execution_count": 67,
   "id": "3f9d1c76",
   "metadata": {},
   "outputs": [],
   "source": [
    "result12 = qa_chain({\"question\": query12, \"chat_history\": chat_history})"
   ]
  },
  {
   "cell_type": "code",
   "execution_count": 68,
   "id": "3eb1a2f6",
   "metadata": {},
   "outputs": [
    {
     "data": {
      "text/plain": [
       "'No, the paper does not mention any visual representations such as maps, figures, tables, or diagrams.'"
      ]
     },
     "execution_count": 68,
     "metadata": {},
     "output_type": "execute_result"
    }
   ],
   "source": [
    "result12[\"answer\"]"
   ]
  },
  {
   "cell_type": "markdown",
   "id": "3372bbfd",
   "metadata": {},
   "source": [
    "# ConversationalRChain with map_reduce"
   ]
  },
  {
   "cell_type": "code",
   "execution_count": 8,
   "id": "b32e95f8",
   "metadata": {},
   "outputs": [],
   "source": [
    "llm = ChatOpenAI(temperature=0, model_name='gpt-3.5-turbo')\n",
    "\n",
    "compressor = LLMChainExtractor.from_llm(llm)\n",
    "\n",
    "compression_retriever2 = ContextualCompressionRetriever(base_compressor = compressor,base_retriever=vector_store)\n"
   ]
  },
  {
   "cell_type": "code",
   "execution_count": 9,
   "id": "b445018e",
   "metadata": {},
   "outputs": [],
   "source": [
    "memory = VectorStoreRetrieverMemory(\n",
    "memory_key=\"chat_history\",\n",
    "return_docs=True,\n",
    "retriever=vector_store,\n",
    "return_messages=True)"
   ]
  },
  {
   "cell_type": "code",
   "execution_count": 15,
   "id": "4ee31c45",
   "metadata": {},
   "outputs": [],
   "source": [
    "qa_chain_reduce = ConversationalRetrievalChain.from_llm(ChatOpenAI(),\n",
    "                                                 compression_retriever2,\n",
    "                                                 memory = memory,\n",
    "                                                 return_source_documents = True,\n",
    "                                                 condense_question_prompt = CUSTOM_QUESTION_PROMPT,\n",
    "                                                 get_chat_history = get_chat_history,\n",
    "                                                 chain_type = \"map_reduce\")\n",
    "                                                "
   ]
  },
  {
   "cell_type": "code",
   "execution_count": 21,
   "id": "160eebda",
   "metadata": {},
   "outputs": [],
   "source": [
    "chat_history = []"
   ]
  },
  {
   "cell_type": "code",
   "execution_count": 22,
   "id": "db7c86c8",
   "metadata": {},
   "outputs": [
    {
     "name": "stderr",
     "output_type": "stream",
     "text": [
      "C:\\Users\\aclao89\\AppData\\Local\\anaconda3\\lib\\site-packages\\langchain\\chains\\llm.py:275: UserWarning: The predict_and_parse method is deprecated, instead pass an output parser directly to LLMChain.\n",
      "  warnings.warn(\n"
     ]
    }
   ],
   "source": [
    "result_reduce = qa_chain_reduce({\"question\": query, \"chat_history\": chat_history})"
   ]
  },
  {
   "cell_type": "code",
   "execution_count": 23,
   "id": "eeabc90c",
   "metadata": {},
   "outputs": [
    {
     "data": {
      "text/plain": [
       "'The subject matter of this paper appears to be the morphometric analysis of two species of crabs, Hemigrapsus nudus and Hemigrapsus orogenensis.'"
      ]
     },
     "execution_count": 23,
     "metadata": {},
     "output_type": "execute_result"
    }
   ],
   "source": [
    "result_reduce[\"answer\"]"
   ]
  },
  {
   "cell_type": "code",
   "execution_count": 24,
   "id": "9058264e",
   "metadata": {
    "collapsed": true
   },
   "outputs": [
    {
     "data": {
      "text/plain": [
       "[Document(page_content='The relationship between propus size and use of snails as prey in sympatric populations \\nof Hemigrapsus nudus and Hemigrapsus oregonensis was investigated. Propal height and propal \\nwidth increases with body size in a predictable manner in male and female crabs of both species. \\nSexual dimorphism of propal height and width relationships in both shore crabs is apparent, but \\nthere was no detectible difference in chela size between H. nudus and H. oregonensis. The lack \\nof difference in chela size between sympatric H. nudus and H. oregonensis suggests that there is \\nno character displacement in this trait. Both species of crabs showed a strong feeding preference \\nfor the thin-shelled gastropod Lacuna vincta over the thicker shelled Littorina scutulata, likely \\ndue to the ease of consumption. There were no differences in snail consumption rates between \\nmale and female H. nudus of similar propal heights, mostly due to high feeding variation among \\nindividual crabs.', metadata={}),\n",
       " Document(page_content='Mean Consumption Rate  \\n(Snails Consumed/Hour)', metadata={}),\n",
       " Document(page_content='A few interesting patterns emerged in the morphometric analysis of Hemigrapsus nudus and Hemigrapsus orogenensis. The variance in propal height or propal width explained by carapace width was surprisingly high in female H. nudus with R2 values of 0.976 found for propal height and 0.927 for propal width. Male H. oregenensis had the greatest variation in chela size parameters, demonstrated by R2 of 0.693 and 0.534 for propal height and propal width respectively. The R2 values for propal width regressed against carapace width were consistently lower than propal height regressed against carapace width across species and sexes (Table 1).', metadata={})]"
      ]
     },
     "execution_count": 24,
     "metadata": {},
     "output_type": "execute_result"
    }
   ],
   "source": [
    "result_reduce[\"source_documents\"]"
   ]
  },
  {
   "cell_type": "code",
   "execution_count": 25,
   "id": "995ec463",
   "metadata": {
    "collapsed": true
   },
   "outputs": [
    {
     "data": {
      "text/plain": [
       "[Document(page_content='8 \\n0.9 \\n1 \\nFe1 \\nFe2 \\nFe3 \\nMa1 \\nMa2 \\nMa3 \\nMean Consumption Rate  \\n(Snails Consumed/Hour) \\nIndividual H. nudus \\n', metadata={}),\n",
       " Document(page_content='ace width was a good predictor of both propal height (Figure 1, Table 1A) and \\npropal width (Figure 2, Table 1B) in female and male H. oregonensis and H. nudus. There was \\nless variation in the relationship between carapace width and propal height than with propal \\nwidth.  Due to non-normality of CW:PH and CW:PW an arcsin transformation was used. A \\nsignificant effect for sex was found for both CW:PH (F1, 45 = 125.6, p < 0.001) and CW:PW  (F1, \\n45 = 103.81, p < 0.001). There was no significant difference between Hemigrapsus species for \\nCW:PH (F1, 45 < 0.01, p = 0.983) and CW:PW (F1, 45 = 0.09, p = 0.764). A significant \\nsex*species interaction was detected for both CW:PH (F1, 45 4.39, p = 0.042) and CW:PW (F1, 45 \\n= 7.19, p = 0.010). Figure 3 and 4 show the means of CW:PH and CW:PW in by sex and species \\nrespectively.  \\n \\nCrab Feeding Preference:  \\n \\nExpected values for both the number of L. scutulata and L. vincta consumed for the G-\\ntest are 0.5 multiplied by the total number of snails consumed by each individual crab. G-tests \\nfor individual H. nudus that eat snails were all significant at p < 0.001 with 1 degree of freedom \\n(See Table 2 for statistical summary). The three crabs that did not eat either L. scutulata or L. \\nvincta could not be tested for feeding preference.  \\nCharifson 7 \\n \\n \\nSnail Consumption by Hemigrapsus nudus \\n \\nNo significant difference in crab feeding rate (snails consumed/hour) was found (F2, 21 = \\n2.52, p = 0.104) among individual H. nudus that fed on snails during the course of the \\nconsumption experiment (Figure 5). Fe2  ate snails at a rate of 0.59±0.53 snails/hour (variance is \\nstandard deviation), Ma1 feeding rate was 0.24±0.31 snails/hour, and Ma2 had a feeding rate of \\n0.80±0.38 snails/hour. Individuals Fe1, Fe3 and Ma3 did not consume any snails during the \\ncourse of the experiment.  \\n \\nDiscussion: \\n \\nA few interesting patterns emerged in the morphometric analysis of Hemigrapsus nudus \\nand Hemigrapsus orogenensis. The variance in propal height or propal width explained by \\ncarapace width was surprisingly high in female H. nudus with R2 values of 0.976 found for \\npropal height and 0.927 for propal width. Male H. oregenensis had the greatest variation in chela \\nsize parameters, demonstrated by R2 of 0.693 and 0.534 for propal height and propal width \\nrespectively. The R2 values for propal width regressed against carapace width were consistently \\nlower than propal height regressed against carapace width across species and sexes (Table 1). In \\ngeneral the ability of carapace width to explain the variance in chela size parameters (i.', metadata={}),\n",
       " Document(page_content='Charifson 1 \\n \\nSnail Predation by Hemigrapsus nudus and Hemigrapsus oregonensis: Sex and Species \\nDifferences in Chela Size. \\n \\nDavid Charifson1,2 \\n \\nMarine Invertebrate Zoology \\nSummer 2014 \\n \\n \\n \\n \\n1 Friday Harbor Laboratories, University of Washington, Friday Harbor, WA 98250 \\n2 Department of Ecology and Evolution, Stony Brook University, Stony Brook, NY 11794-5245 \\n \\n \\n \\n \\nContact information: \\nDavid Charifson \\nDepartment of Ecology and Evolution \\nStony Brook University \\n650 Life Sciences Building \\nStony Brook, NY 11794-5245 \\nDavid.charifson@stonybrook.edu  \\n \\n \\n \\n \\nKeywords: Hemigrapsus nudus, Hemigrapsus orogenensis, Littorina scutulata, Lacuna vincta, \\npredation, sexual dimorphism, character displacement  \\n \\n \\nCharifson 2 \\n \\nAbstract: \\n \\nThe relationship between propus size and use of snails as prey in sympatric populations \\nof Hemigrapsus nudus and Hemigrapsus oregonensis was investigated. Propal height and propal \\nwidth increases with body size in a predictable manner in male and female crabs of both species. \\nSexual dimorphism of propal height and width relationships in both shore crabs is apparent, but \\nthere was no detectible difference in chela size between H. nudus and H. oregonensis. The lack \\nof difference in chela size between sympatric H. nudus and H. oregonensis suggests that there is \\nno character displacement in this trait. Both species of crabs showed a strong feeding preference \\nfor the thin-shelled gastropod Lacuna vincta over the thicker shelled Littorina scutulata, likely \\ndue to the ease of consumption. There were no differences in snail consumption rates between \\nmale and female H. nudus of similar propal heights, mostly due to high feeding variation among \\nindividual crabs.  \\n \\nIntroduction: \\n \\nA multitude of species coexist in the marine intertidal environment. Closely related \\nspecies may be sympatric and compete for resources, such as food. Two species of shore crab, \\nHemigrapsus nudus (Dana 1851) and Hemigrapsus oregonensis (Dana 1851), occur in sympatry \\nin the Salish Sea. Both species are sexually dimorphic, with the males having larger chelae. \\nSpecies in sympatry may exhibit character displacement, the exaggeration of morphological or \\nbehavioral characteristics due to competition for resources (Brown and Wilson 1956). When H. \\nnudus and H. oregonensis co-occur, H. oregonensis tends to be found closer to the waterand in \\nfiner sediment than the more desiccation-tolerant H. nudus (Sliger 1982). There is still \\nconsiderable habitat overlap between these two species; the underside of a single rock may have \\nCharifson 3 \\n \\nroughly equal abundances of the two crab species (personal observation). The size of the chela \\nmay differ, which could allow the crabs to differentiate in food resource utilization. \\nBoth species are omnivores that eat algae and small invertebrates, including snails \\n(Behrens Yamada and', metadata={})]"
      ]
     },
     "execution_count": 25,
     "metadata": {},
     "output_type": "execute_result"
    }
   ],
   "source": [
    "result_reduce[\"chat_history\"]"
   ]
  },
  {
   "cell_type": "code",
   "execution_count": 26,
   "id": "3ad2e176",
   "metadata": {},
   "outputs": [],
   "source": [
    "result_reduce1a = qa_chain_reduce({\"question\": query1a, \"chat_history\": chat_history})"
   ]
  },
  {
   "cell_type": "code",
   "execution_count": 27,
   "id": "d195117f",
   "metadata": {
    "collapsed": true
   },
   "outputs": [
    {
     "data": {
      "text/plain": [
       "'The significant findings on the relationship between carapace width and propal height and width in Hemigrapsus crabs are as follows:\\n\\n- The relationship between carapace width and propal height was analyzed for female H. nudus, male H. nudus, female H. oregonensis, and male H. oregonensis. The line of best fit from SMA regression was provided in Figure 1. The results showed a high variance in propal height explained by carapace width in female H. nudus, with an R2 value of 0.976.\\n\\n- The relationship between carapace width and propal width was also analyzed for female H. nudus, male H. nudus, female H. oregonensis, and male H. oregonensis. The line of best fit from SMA regression was provided in Figure 2. The results showed a high variance in propal width explained by carapace width in female H. nudus, with an R2 value of 0.927.\\n\\n- In male H. oregenensis, there was a greater variation in chela size parameters. The R2 values for propal height and propal width regressed against carapace width were 0.693 and 0.534 respectively.\\n\\n- The R2 values for propal width regressed against carapace width were consistently lower than propal height regressed against carapace width across species and sexes.\\n\\nIt is important to note that the text does not mention specific findings for Hemigrapsus crabs, but rather provides information on the significance of carapace width as a predictor of propal height and width in female and male H. oregonensis and H. nudus, with a significant effect for sex and a significant sex*species interaction.'"
      ]
     },
     "execution_count": 27,
     "metadata": {},
     "output_type": "execute_result"
    }
   ],
   "source": [
    "result_reduce1a[\"answer\"]"
   ]
  },
  {
   "cell_type": "code",
   "execution_count": 28,
   "id": "44aa0c3a",
   "metadata": {},
   "outputs": [
    {
     "data": {
      "text/plain": [
       "[Document(page_content='Figure 1: Relationship of carapace width and propal height in Hemigrapsus. Line of best fit from \\nSMA regression. See Table 1A for descriptive statistics. A) Female H. nudus. B) Male H. nudus. \\nC) Female H. oregonensis. D) Male H. oregonensis.  \\n\\nFigure 2: Relationship of carapace width and propal width in Hemigrapsus.  \\nLine of best fit from SMA regression. See Table 1B for descriptive statistics. A) Female H. \\nnudus. B) Male H. nudus. C)Female H. oregonensis. D) Male H. oregonensis.  \\n\\nFigure 3: Differences in propal height:carapace width ratio between sex and species. \\nThe sex factor was statistically significant (F = 125.6. p < 0.001), while the species factor was \\ninsignificant (F > 0.01, p = 0.983). There was a significant interaction (F = 4.39, p = 0.042). \\nError bars represent standard error of the mean.  \\n\\nFigure 4: Differences in propal width:carapace width ratio between sex and species. \\nThe sex factor was statistically significant (F1,45 = 103.8. p < 0.001), while the species factor was \\ninsignificant (F1,45  = 0.09, p = 0.764). There was a significant interaction (F1,45  = 7.19, p = \\n0.01). Error bars represent standard error of the mean.', metadata={}),\n",
       " Document(page_content='The variance in propal height or propal width explained by carapace width was surprisingly high in female H. nudus with R2 values of 0.976 found for propal height and 0.927 for propal width. Male H. oregenensis had the greatest variation in chela size parameters, demonstrated by R2 of 0.693 and 0.534 for propal height and propal width respectively. The R2 values for propal width regressed against carapace width were consistently lower than propal height regressed against carapace width across species and sexes (Table 1).', metadata={}),\n",
       " Document(page_content='ace width was a good predictor of both propal height (Figure 1, Table 1A) and \\npropal width (Figure 2, Table 1B) in female and male H. oregonensis and H. nudus. There was \\nless variation in the relationship between carapace width and propal height than with propal \\nwidth. A significant effect for sex was found for both CW:PH (F1, 45 = 125.6, p < 0.001) and CW:PW  (F1, \\n45 = 103.81, p < 0.001). There was no significant difference between Hemigrapsus species for \\nCW:PH (F1, 45 < 0.01, p = 0.983) and CW:PW (F1, 45 = 0.09, p = 0.764). A significant \\nsex*species interaction was detected for both CW:PH (F1, 45 4.39, p = 0.042) and CW:PW (F1, 45 \\n= 7.19, p = 0.010). Figure 3 and 4 show the means of CW:PH and CW:PW in by sex and species \\nrespectively.', metadata={})]"
      ]
     },
     "execution_count": 28,
     "metadata": {},
     "output_type": "execute_result"
    }
   ],
   "source": [
    "result_reduce1a[\"source_documents\"]"
   ]
  },
  {
   "cell_type": "code",
   "execution_count": 29,
   "id": "2f172ec9",
   "metadata": {},
   "outputs": [],
   "source": [
    "result_reduce2 = qa_chain_reduce({\"question\": query2, \"chat_history\": chat_history})"
   ]
  },
  {
   "cell_type": "code",
   "execution_count": 30,
   "id": "4c212daa",
   "metadata": {},
   "outputs": [
    {
     "data": {
      "text/plain": [
       "'The concise summary of the paper and the materials and methods used cannot be determined based on the given portion of the document.'"
      ]
     },
     "execution_count": 30,
     "metadata": {},
     "output_type": "execute_result"
    }
   ],
   "source": [
    "result_reduce2[\"answer\"]"
   ]
  },
  {
   "cell_type": "code",
   "execution_count": 31,
   "id": "aad74378",
   "metadata": {
    "collapsed": true
   },
   "outputs": [
    {
     "data": {
      "text/plain": [
       "[Document(page_content='The subject matter of this paper appears to be the morphometric analysis of two species of crabs, Hemigrapsus nudus and Hemigrapsus orogenensis. The relationship between propus size and use of snails as prey in sympatric populations of Hemigrapsus nudus and Hemigrapsus oregonensis was investigated. Propal height and propal width increases with body size in a predictable manner in male and female crabs of both species. Sexual dimorphism of propal height and width relationships in both shore crabs is apparent, but there was no detectible difference in chela size between H. nudus and H. oregonensis. The lack of difference in chela size between sympatric H. nudus and H. oregonensis suggests that there is no character displacement in this trait. Both species of crabs showed a strong feeding preference for the thin-shelled gastropod Lacuna vincta over the thicker shelled Littorina scutulata, likely due to the ease of consumption. There were no differences in snail consumption rates between male and female H. nudus of similar propal heights, mostly due to high feeding variation among individual crabs. A few interesting patterns emerged in the morphometric analysis of Hemigrapsus nudus and Hemigrapsus orogenensis. The variance in propal height or propal width explained by carapace width was surprisingly high in female H. nudus with R2 values of 0.976 found for propal height and 0.927 for propal width. Male H. oregenensis had the greatest variation in chela size parameters, demonstrated by R2 of 0.693 and 0.534 for propal height and propal width respectively. The R2 values for propal width regressed against carapace width were consistently lower than propal height regressed against carapace width across species and sexes.', metadata={}),\n",
       " Document(page_content='ace width was a good predictor of both propal height (Figure 1, Table 1A) and \\npropal width (Figure 2, Table 1B) in female and male H. oregonensis and H. nudus. There was \\nless variation in the relationship between carapace width and propal height than with propal \\nwidth.  Due to non-normality of CW:PH and CW:PW an arcsin transformation was used. A \\nsignificant effect for sex was found for both CW:PH (F1, 45 = 125.6, p < 0.001) and CW:PW  (F1, \\n45 = 103.81, p < 0.001). There was no significant difference between Hemigrapsus species for \\nCW:PH (F1, 45 < 0.01, p = 0.983) and CW:PW (F1, 45 = 0.09, p = 0.764). A significant \\nsex*species interaction was detected for both CW:PH (F1, 45 4.39, p = 0.042) and CW:PW (F1, 45 \\n= 7.19, p = 0.010). Figure 3 and 4 show the means of CW:PH and CW:PW in by sex and species \\nrespectively.', metadata={})]"
      ]
     },
     "execution_count": 31,
     "metadata": {},
     "output_type": "execute_result"
    }
   ],
   "source": [
    "result_reduce2[\"source_documents\"]"
   ]
  },
  {
   "cell_type": "code",
   "execution_count": 32,
   "id": "48831fe8",
   "metadata": {},
   "outputs": [],
   "source": [
    "result_reduce3 = qa_chain_reduce({\"question\": query3, \"chat_history\": chat_history})"
   ]
  },
  {
   "cell_type": "code",
   "execution_count": 33,
   "id": "2748f68f",
   "metadata": {},
   "outputs": [
    {
     "data": {
      "text/plain": [
       "'The purpose of the paper is to investigate the relationship between propus size and the use of snails as prey in sympatric populations of Hemigrapsus nudus and Hemigrapsus oregonensis.'"
      ]
     },
     "execution_count": 33,
     "metadata": {},
     "output_type": "execute_result"
    }
   ],
   "source": [
    "result_reduce3[\"answer\"]"
   ]
  },
  {
   "cell_type": "code",
   "execution_count": 34,
   "id": "f6f16e7f",
   "metadata": {
    "collapsed": true
   },
   "outputs": [
    {
     "data": {
      "text/plain": [
       "[Document(page_content='The subject matter of this paper appears to be the morphometric analysis of two species of crabs, Hemigrapsus nudus and Hemigrapsus orogenensis. The relationship between propus size and use of snails as prey in sympatric populations of Hemigrapsus nudus and Hemigrapsus oregonensis was investigated. Propal height and propal width increases with body size in a predictable manner in male and female crabs of both species. Sexual dimorphism of propal height and width relationships in both shore crabs is apparent, but there was no detectible difference in chela size between H. nudus and H. oregonensis. The lack of difference in chela size between sympatric H. nudus and H. oregonensis suggests that there is no character displacement in this trait. Both species of crabs showed a strong feeding preference for the thin-shelled gastropod Lacuna vincta over the thicker shelled Littorina scutulata, likely due to the ease of consumption. There were no differences in snail consumption rates between male and female H. nudus of similar propal heights, mostly due to high feeding variation among individual crabs. A few interesting patterns emerged in the morphometric analysis of Hemigrapsus nudus and Hemigrapsus orogenensis. The variance in propal height or propal width explained by carapace width was surprisingly high in female H. nudus with R2 values of 0.976 found for propal height and 0.927 for propal width. Male H. oregenensis had the greatest variation in chela size parameters, demonstrated by R2 of 0.693 and 0.534 for propal height and propal width respectively. The R2 values for propal width regressed against carapace width were consistently lower than propal height regressed against carapace width across species and sexes.', metadata={}),\n",
       " Document(page_content='The subject matter of this paper appears to be the morphometric analysis of two species of crabs, Hemigrapsus nudus and Hemigrapsus orogenensis. The relationship between propus size and use of snails as prey in sympatric populations of Hemigrapsus nudus and Hemigrapsus oregonensis was investigated. Propal height and propal width increases with body size in a predictable manner in male and female crabs of both species. Sexual dimorphism of propal height and width relationships in both shore crabs is apparent, but there was no detectible difference in chela size between H. nudus and H. oregonensis. The lack of difference in chela size between sympatric H. nudus and H. oregonensis suggests that there is no character displacement in this trait. Both species of crabs showed a strong feeding preference for the thin-shelled gastropod Lacuna vincta over the thicker shelled Littorina scutulata, likely due to the ease of consumption. There were no differences in snail consumption rates between male and female H. nudus of similar propal heights, mostly due to high feeding variation among individual crabs. A few interesting patterns emerged in the morphometric analysis of Hemigrapsus nudus and Hemigrapsus orogenensis. The variance in propal height or propal width explained by carapace width was surprisingly high in female H. nudus with R2 values of 0.976 found for propal height and 0.927 for propal width. Male H. oregenensis had the greatest variation in chela size parameters, demonstrated by R2 of 0.693 and 0.534 for propal height and propal width respectively. The R2 values for propal width regressed against carapace width were consistently lower than propal height regressed against carapace width across species and sexes.', metadata={})]"
      ]
     },
     "execution_count": 34,
     "metadata": {},
     "output_type": "execute_result"
    }
   ],
   "source": [
    "result_reduce3[\"source_documents\"]"
   ]
  },
  {
   "cell_type": "code",
   "execution_count": 35,
   "id": "6c8488bd",
   "metadata": {
    "collapsed": true
   },
   "outputs": [
    {
     "data": {
      "text/plain": [
       "[Document(page_content=\"question: Summarize the paper concisely with reference to materials and methods.\\nanswer: The concise summary of the paper and the materials and methods used cannot be determined based on the given portion of the document.\\nsource_documents: [Document(page_content='The subject matter of this paper appears to be the morphometric analysis of two species of crabs, Hemigrapsus nudus and Hemigrapsus orogenensis. The relationship between propus size and use of snails as prey in sympatric populations of Hemigrapsus nudus and Hemigrapsus oregonensis was investigated. Propal height and propal width increases with body size in a predictable manner in male and female crabs of both species. Sexual dimorphism of propal height and width relationships in both shore crabs is apparent, but there was no detectible difference in chela size between H. nudus and H. oregonensis. The lack of difference in chela size between sympatric H. nudus and H. oregonensis suggests that there is no character displacement in this trait. Both species of crabs showed a strong feeding preference for the thin-shelled gastropod Lacuna vincta over the thicker shelled Littorina scutulata, likely due to the ease of consumption. There were no differences in snail consumption rates between male and female H. nudus of similar propal heights, mostly due to high feeding variation among individual crabs. A few interesting patterns emerged in the morphometric analysis of Hemigrapsus nudus and Hemigrapsus orogenensis. The variance in propal height or propal width explained by carapace width was surprisingly high in female H. nudus with R2 values of 0.976 found for propal height and 0.927 for propal width. Male H. oregenensis had the greatest variation in chela size parameters, demonstrated by R2 of 0.693 and 0.534 for propal height and propal width respectively. The R2 values for propal width regressed against carapace width were consistently lower than propal height regressed against carapace width across species and sexes.', metadata={}), Document(page_content='ace width was a good predictor of both propal height (Figure 1, Table 1A) and \\\\npropal width (Figure 2, Table 1B) in female and male H. oregonensis and H. nudus. There was \\\\nless variation in the relationship between carapace width and propal height than with propal \\\\nwidth.  Due to non-normality of CW:PH and CW:PW an arcsin transformation was used. A \\\\nsignificant effect for sex was found for both CW:PH (F1, 45 = 125.6, p < 0.001) and CW:PW  (F1, \\\\n45 = 103.81, p < 0.001). There was no significant difference between Hemigrapsus species for \\\\nCW:PH (F1, 45 < 0.01, p = 0.983) and CW:PW (F1, 45 = 0.09, p = 0.764). A significant \\\\nsex*species interaction was detected for both CW:PH (F1, 45 4.39, p = 0.042) and CW:PW (F1, 45 \\\\n= 7.19, p = 0.010). Figure 3 and 4 show the means of CW:PH and CW:PW in by sex and species \\\\nrespectively.', metadata={})]\", metadata={}),\n",
       " Document(page_content=\"question: What is this paper about?\\nanswer: The subject matter of this paper appears to be the morphometric analysis of two species of crabs, Hemigrapsus nudus and Hemigrapsus orogenensis.\\nsource_documents: [Document(page_content='The relationship between propus size and use of snails as prey in sympatric populations \\\\nof Hemigrapsus nudus and Hemigrapsus oregonensis was investigated. Propal height and propal \\\\nwidth increases with body size in a predictable manner in male and female crabs of both species. \\\\nSexual dimorphism of propal height and width relationships in both shore crabs is apparent, but \\\\nthere was no detectible difference in chela size between H. nudus and H. oregonensis. The lack \\\\nof difference in chela size between sympatric H. nudus and H. oregonensis suggests that there is \\\\nno character displacement in this trait. Both species of crabs showed a strong feeding preference \\\\nfor the thin-shelled gastropod Lacuna vincta over the thicker shelled Littorina scutulata, likely \\\\ndue to the ease of consumption. There were no differences in snail consumption rates between \\\\nmale and female H. nudus of similar propal heights, mostly due to high feeding variation among \\\\nindividual crabs.', metadata={}), Document(page_content='Mean Consumption Rate  \\\\n(Snails Consumed/Hour)', metadata={}), Document(page_content='A few interesting patterns emerged in the morphometric analysis of Hemigrapsus nudus and Hemigrapsus orogenensis. The variance in propal height or propal width explained by carapace width was surprisingly high in female H. nudus with R2 values of 0.976 found for propal height and 0.927 for propal width. Male H. oregenensis had the greatest variation in chela size parameters, demonstrated by R2 of 0.693 and 0.534 for propal height and propal width respectively. The R2 values for propal width regressed against carapace width were consistently lower than propal height regressed against carapace width across species and sexes (Table 1).', metadata={})]\", metadata={}),\n",
       " Document(page_content='8 \\n0.9 \\n1 \\nFe1 \\nFe2 \\nFe3 \\nMa1 \\nMa2 \\nMa3 \\nMean Consumption Rate  \\n(Snails Consumed/Hour) \\nIndividual H. nudus \\n', metadata={})]"
      ]
     },
     "execution_count": 35,
     "metadata": {},
     "output_type": "execute_result"
    }
   ],
   "source": [
    "result_reduce3[\"chat_history\"]"
   ]
  },
  {
   "cell_type": "code",
   "execution_count": 36,
   "id": "64331d79",
   "metadata": {},
   "outputs": [],
   "source": [
    "result_reduce4 = qa_chain_reduce({\"question\": query4, \"chat_history\": chat_history})"
   ]
  },
  {
   "cell_type": "code",
   "execution_count": 37,
   "id": "6da5e5a9",
   "metadata": {},
   "outputs": [
    {
     "data": {
      "text/plain": [
       "'Based on the provided portion of the document, it is not possible to determine if the paper includes any observations made in the field, in this study, or through the collection, sampling, or harvesting of specimens. The given text only describes the purpose of the paper, which is to investigate the relationship between propus size and the use of snails as prey in sympatric populations of Hemigrapsus nudus and Hemigrapsus oregonensis. Therefore, it is unclear if any direct observations or specimen collection were conducted.'"
      ]
     },
     "execution_count": 37,
     "metadata": {},
     "output_type": "execute_result"
    }
   ],
   "source": [
    "result_reduce4[\"answer\"]"
   ]
  },
  {
   "cell_type": "code",
   "execution_count": 38,
   "id": "9acd95c5",
   "metadata": {},
   "outputs": [],
   "source": [
    "result_reduce5 = qa_chain_reduce({\"question\": query5, \"chat_history\": chat_history})"
   ]
  },
  {
   "cell_type": "code",
   "execution_count": 39,
   "id": "9bc89fd7",
   "metadata": {},
   "outputs": [
    {
     "data": {
      "text/plain": [
       "'No, there is no mention of observational or experimental research conducted in the natural environment or with organisms collected in nature in this portion of the document.'"
      ]
     },
     "execution_count": 39,
     "metadata": {},
     "output_type": "execute_result"
    }
   ],
   "source": [
    "result_reduce5[\"answer\"]"
   ]
  },
  {
   "cell_type": "code",
   "execution_count": 40,
   "id": "a7dae99e",
   "metadata": {},
   "outputs": [],
   "source": [
    "result_reduce6 = qa_chain_reduce({\"question\": query6, \"chat_history\": chat_history})"
   ]
  },
  {
   "cell_type": "code",
   "execution_count": 41,
   "id": "8cd9d4f6",
   "metadata": {},
   "outputs": [
    {
     "data": {
      "text/plain": [
       "'The scientific names of the species collected in this paper are Hemigrapsus nudus and Hemigrapsus orogenensis.'"
      ]
     },
     "execution_count": 41,
     "metadata": {},
     "output_type": "execute_result"
    }
   ],
   "source": [
    "result_reduce6[\"answer\"]"
   ]
  },
  {
   "cell_type": "code",
   "execution_count": 42,
   "id": "d09afd68",
   "metadata": {},
   "outputs": [],
   "source": [
    "result_reduce6a = qa_chain_reduce({\"question\": query6a, \"chat_history\": chat_history})"
   ]
  },
  {
   "cell_type": "code",
   "execution_count": 43,
   "id": "7af1ba47",
   "metadata": {},
   "outputs": [
    {
     "data": {
      "text/plain": [
       "'The document does not provide information about the specific location where the species mentioned in the paper were collected from.'"
      ]
     },
     "execution_count": 43,
     "metadata": {},
     "output_type": "execute_result"
    }
   ],
   "source": [
    "result_reduce6a[\"answer\"]"
   ]
  },
  {
   "cell_type": "code",
   "execution_count": 44,
   "id": "64c5e8e3",
   "metadata": {},
   "outputs": [],
   "source": [
    "result_reduce7 = qa_chain_reduce({\"question\": query7, \"chat_history\": chat_history})"
   ]
  },
  {
   "cell_type": "code",
   "execution_count": 45,
   "id": "0e0c89b1",
   "metadata": {},
   "outputs": [
    {
     "data": {
      "text/plain": [
       "\"I don't know. The document does not provide information about the specific locations where the species mentioned in the paper were observed or collected.\""
      ]
     },
     "execution_count": 45,
     "metadata": {},
     "output_type": "execute_result"
    }
   ],
   "source": [
    "result_reduce7[\"answer\"]"
   ]
  },
  {
   "cell_type": "code",
   "execution_count": 46,
   "id": "cf1413c9",
   "metadata": {},
   "outputs": [],
   "source": [
    "result_reduce7a = qa_chain_reduce({\"question\": query7a, \"chat_history\": chat_history})"
   ]
  },
  {
   "cell_type": "code",
   "execution_count": 47,
   "id": "aa67fbe1",
   "metadata": {},
   "outputs": [
    {
     "data": {
      "text/plain": [
       "'The document does not provide information about the specific locations where the species mentioned in the paper were observed or collected.'"
      ]
     },
     "execution_count": 47,
     "metadata": {},
     "output_type": "execute_result"
    }
   ],
   "source": [
    "result_reduce7a[\"answer\"]"
   ]
  },
  {
   "cell_type": "code",
   "execution_count": 48,
   "id": "54be156a",
   "metadata": {},
   "outputs": [],
   "source": [
    "result_reduce8 = qa_chain_reduce({\"question\": query8, \"chat_history\": chat_history})"
   ]
  },
  {
   "cell_type": "code",
   "execution_count": 49,
   "id": "bb990d54",
   "metadata": {},
   "outputs": [
    {
     "data": {
      "text/plain": [
       "'No, the document does not provide any additional information about the specific locations where the species mentioned in the paper were observed or collected.'"
      ]
     },
     "execution_count": 49,
     "metadata": {},
     "output_type": "execute_result"
    }
   ],
   "source": [
    "result_reduce8[\"answer\"]"
   ]
  },
  {
   "cell_type": "code",
   "execution_count": 50,
   "id": "b8dcf1d0",
   "metadata": {},
   "outputs": [],
   "source": [
    "result_reduce9 = qa_chain_reduce({\"question\": query9, \"chat_history\": chat_history})"
   ]
  },
  {
   "cell_type": "code",
   "execution_count": 51,
   "id": "3de3974e",
   "metadata": {},
   "outputs": [
    {
     "data": {
      "text/plain": [
       "'No, the document does not provide any latitude/longitude coordinate locations for the species mentioned in the paper.'"
      ]
     },
     "execution_count": 51,
     "metadata": {},
     "output_type": "execute_result"
    }
   ],
   "source": [
    "result_reduce9[\"answer\"]"
   ]
  },
  {
   "cell_type": "code",
   "execution_count": 52,
   "id": "45f45981",
   "metadata": {},
   "outputs": [],
   "source": [
    "result_reduce10 = qa_chain_reduce({\"question\": query10, \"chat_history\": chat_history})"
   ]
  },
  {
   "cell_type": "code",
   "execution_count": 53,
   "id": "a2e1ae12",
   "metadata": {},
   "outputs": [
    {
     "data": {
      "text/plain": [
       "\"I'm sorry, but based on the given portion of the document, there is no information available about the habitat in which the species mentioned in the paper were found.\""
      ]
     },
     "execution_count": 53,
     "metadata": {},
     "output_type": "execute_result"
    }
   ],
   "source": [
    "result_reduce10[\"answer\"]"
   ]
  },
  {
   "cell_type": "code",
   "execution_count": 54,
   "id": "2af906f2",
   "metadata": {},
   "outputs": [],
   "source": [
    "result_reduce10a = qa_chain_reduce({\"question\": query10a, \"chat_history\": chat_history})"
   ]
  },
  {
   "cell_type": "code",
   "execution_count": 55,
   "id": "049e00f8",
   "metadata": {},
   "outputs": [
    {
     "data": {
      "text/plain": [
       "'No, the document does not provide the formal name of the specific location where the habitat of the species mentioned in the paper was observed or collected.'"
      ]
     },
     "execution_count": 55,
     "metadata": {},
     "output_type": "execute_result"
    }
   ],
   "source": [
    "result_reduce10a[\"answer\"]"
   ]
  },
  {
   "cell_type": "code",
   "execution_count": 56,
   "id": "e3b017ee",
   "metadata": {},
   "outputs": [],
   "source": [
    "result_reduce11 = qa_chain_reduce({\"question\": query11, \"chat_history\": chat_history})"
   ]
  },
  {
   "cell_type": "code",
   "execution_count": 57,
   "id": "8ee0f84e",
   "metadata": {},
   "outputs": [
    {
     "data": {
      "text/plain": [
       "'The document does not provide any information about the year, date, or time that the species were collected or observed.'"
      ]
     },
     "execution_count": 57,
     "metadata": {},
     "output_type": "execute_result"
    }
   ],
   "source": [
    "result_reduce11[\"answer\"]"
   ]
  },
  {
   "cell_type": "code",
   "execution_count": 58,
   "id": "60629ec7",
   "metadata": {},
   "outputs": [],
   "source": [
    "result_reduce12 = qa_chain_reduce({\"question\": query12, \"chat_history\": chat_history})"
   ]
  },
  {
   "cell_type": "code",
   "execution_count": 59,
   "id": "80e8f464",
   "metadata": {},
   "outputs": [],
   "source": [
    "result_reduce12 = qa_chain_reduce({\"question\": query12, \"chat_history\": chat_history})"
   ]
  },
  {
   "cell_type": "code",
   "execution_count": 60,
   "id": "13342123",
   "metadata": {},
   "outputs": [
    {
     "data": {
      "text/plain": [
       "'No, the paper does not contain any maps, figures, tables, or diagrams.'"
      ]
     },
     "execution_count": 60,
     "metadata": {},
     "output_type": "execute_result"
    }
   ],
   "source": [
    "result_reduce12[\"answer\"]"
   ]
  },
  {
   "cell_type": "markdown",
   "id": "d48f93e7",
   "metadata": {},
   "source": [
    "# ***ConversationalRetrievalChain Similarity Search w/ ConversationBufferMemory ***"
   ]
  },
  {
   "cell_type": "code",
   "execution_count": 61,
   "id": "d15c715b",
   "metadata": {},
   "outputs": [],
   "source": [
    "vector_store2 = FAISS.from_texts(docs, embeddings).as_retriever(search_type = \"similarity\", search_kwargs= {\"k\": 3})"
   ]
  },
  {
   "cell_type": "code",
   "execution_count": 62,
   "id": "c70b75df",
   "metadata": {},
   "outputs": [],
   "source": [
    "llm = ChatOpenAI(temperature=0, model_name='gpt-3.5-turbo')\n",
    "\n",
    "compressor = LLMChainExtractor.from_llm(llm)\n",
    "\n",
    "compression_retriever2 = ContextualCompressionRetriever(base_compressor = compressor,base_retriever=vector_store2)\n"
   ]
  },
  {
   "cell_type": "code",
   "execution_count": 63,
   "id": "574e8865",
   "metadata": {},
   "outputs": [],
   "source": [
    "custom_template = \"\"\"Given the following conversation and a follow up question, rephrase the follow up question to be a standalone question. Please use a maximum of 4 sentences. If you do not know the answer reply with 'I am sorry'.\n",
    "1. SPECIES NAME: The scientific name (species name) of any plant, animal, fungus, alga or bacterium consists of two Latinized words. The first word is the name of the genus to which the organism belongs. The second word is the specific epithet or specific term of the species. Together, the genus plus the specific epithet make up the species name. The species name and scientific name are synonyms.\n",
    "2. HABITAT: A species habitat can be seen as the physical manifestation of its ecological niche.\n",
    "3. LOC: Name of any geographic location, like cities, countries, continents, districts etc.\n",
    "\n",
    "Examples:\n",
    "\n",
    "1. Sentence: Strongylocentrotus fransiscanus and S. purpuratus were obtained from the subtidal and intertidal regions, respectively, of Monterey Bay.\n",
    "\"Output: {{'SPECIES NAME': ['Strongylocentrotus fransiscanus', 'S. purpuratus'], 'HABITAT': ['subtidal', 'intertidal'], 'LOC': ['Monterey Bay']}}\n",
    "\n",
    "2. Sentence: Cucumaria curata and C. pseudocurata live and feed in the hydrodynamically stressful environment of exposed intertidal areas.\n",
    "Output: {{'SPECIES NAME': ['Cucumaria curata', 'C. pseudocurata'], 'HABITAT': ['exposed intertidal'], 'LOC': ['None']}}\\n\"\n",
    "\n",
    "Chat History:\n",
    "{chat_history}\n",
    "Follow Up Input: {question}\n",
    "\"\"\""
   ]
  },
  {
   "cell_type": "code",
   "execution_count": 64,
   "id": "029f0ea3",
   "metadata": {},
   "outputs": [],
   "source": [
    "CUSTOM_QUESTION_PROMPT = PromptTemplate.from_template(custom_template)"
   ]
  },
  {
   "cell_type": "code",
   "execution_count": 66,
   "id": "2d1a27e5",
   "metadata": {},
   "outputs": [],
   "source": [
    "from langchain.memory import ConversationBufferMemory\n",
    "memory = ConversationBufferMemory(llm=llm, input_key='question', output_key='answer',  return_messages=True)"
   ]
  },
  {
   "cell_type": "code",
   "execution_count": 67,
   "id": "358332ae",
   "metadata": {},
   "outputs": [],
   "source": [
    "#Formats the chat history string\n",
    "def get_chat_history(inputs) -> str:\n",
    "    res = []\n",
    "    for human, ai in inputs:\n",
    "        res.append(f\"Human:{human}\\nAI:{ai}\")\n",
    "    return \"\\n\".join(res)"
   ]
  },
  {
   "cell_type": "code",
   "execution_count": 108,
   "id": "358ca388",
   "metadata": {},
   "outputs": [],
   "source": [
    "qa_chain_2 = ConversationalRetrievalChain.from_llm(ChatOpenAI(), \n",
    "                                                 compression_retriever2,\n",
    "                                                 memory = memory,\n",
    "                                                 return_source_documents = True,\n",
    "                                                 condense_question_prompt = CUSTOM_QUESTION_PROMPT,\n",
    "                                                 get_chat_history = get_chat_history)\n",
    "                                                "
   ]
  },
  {
   "cell_type": "code",
   "execution_count": 69,
   "id": "ce23e734",
   "metadata": {},
   "outputs": [],
   "source": [
    "query = \"What is this paper about?\"\n",
    "query1a = \"What were the significant findings on the relationship mentioned?\"\n",
    "query2 = \"Summarize the paper concisely with reference to materials and methods.\"\n",
    "query3 = \"Write a one sentence summary of the purpose of the paper\"\n",
    "query4 = \"Terms that may be used to identify an observation include “in the field”, “this study”, “observed”, “taken”, “collected”, “sampled”, “collection”, “seen”, “harvested”, “found”, etc. Does the paper include one or more observations?\"\n",
    "query5 = \"Does this paper contain observational or experimental research conducted in the natural environment or with organisms collected in nature?\"\n",
    "query6 = \"What are the scientific names of the collected species mentioned in this paper?\"\n",
    "query6a = \"Were there other species collected?\"\n",
    "query7 = \"Does the paper mention where the species were observed or collected, and if so, what locations are given?\"\n",
    "query7a = \"Please list the species collected based on their scientific names along with location of collection.\"\n",
    "query8 = \"Can you give a more specific location?\"\n",
    "query9 = \"Are any coordinate locations given in latitude / longitude, and if so, what are they?\"\n",
    "query10 = \"In what habitat were the species found?\"\n",
    "query10a = \"Can you give a more specific location of the habitat such as formal name of said location?\"\n",
    "query11 = \"Does the paper mention a year, date and/or time that species were collected or observed, and if so, what was mentioned?\"\n",
    "query12 = \"Are there any maps, figures, tables or diagrams in the paper?\""
   ]
  },
  {
   "cell_type": "code",
   "execution_count": 70,
   "id": "30161660",
   "metadata": {},
   "outputs": [],
   "source": [
    "chat_history = []"
   ]
  },
  {
   "cell_type": "code",
   "execution_count": 71,
   "id": "df57552a",
   "metadata": {},
   "outputs": [],
   "source": [
    "result1b = qa_chain_2({\"question\": query, \"chat_history\": chat_history})"
   ]
  },
  {
   "cell_type": "code",
   "execution_count": 72,
   "id": "4c16c475",
   "metadata": {},
   "outputs": [
    {
     "data": {
      "text/plain": [
       "'This paper is about the morphometric analysis of Hemigrapsus nudus and Hemigrapsus orogenensis, specifically focusing on the relationship between propus size and the use of snails as prey in sympatric populations. The paper explores the patterns and variations in propal height and width in male and female crabs of both species and examines the feeding preferences of the crabs for different types of snails. It also discusses the lack of difference in chela size between the two species and suggests that there is no character displacement in this trait.'"
      ]
     },
     "execution_count": 72,
     "metadata": {},
     "output_type": "execute_result"
    }
   ],
   "source": [
    "result1b[\"answer\"]"
   ]
  },
  {
   "cell_type": "code",
   "execution_count": 103,
   "id": "881eb5cc",
   "metadata": {},
   "outputs": [
    {
     "data": {
      "text/plain": [
       "[Document(page_content='Mean Consumption Rate  \\n(Snails Consumed/Hour) \\nIndividual H. nudus', metadata={}),\n",
       " Document(page_content='A few interesting patterns emerged in the morphometric analysis of Hemigrapsus nudus and Hemigrapsus orogenensis. The variance in propal height or propal width explained by carapace width was surprisingly high in female H. nudus with R2 values of 0.976 found for propal height and 0.927 for propal width. Male H. oregenensis had the greatest variation in chela size parameters, demonstrated by R2 of 0.693 and 0.534 for propal height and propal width respectively. The R2 values for propal width regressed against carapace width were consistently lower than propal height regressed against carapace width across species and sexes (Table 1). In general the ability of carapace width to explain the variance in chela size parameters (i.', metadata={}),\n",
       " Document(page_content='The relationship between propus size and use of snails as prey in sympatric populations \\nof Hemigrapsus nudus and Hemigrapsus oregonensis was investigated. Propal height and propal \\nwidth increases with body size in a predictable manner in male and female crabs of both species. \\nSexual dimorphism of propal height and width relationships in both shore crabs is apparent, but \\nthere was no detectible difference in chela size between H. nudus and H. oregonensis. The lack \\nof difference in chela size between sympatric H. nudus and H. oregonensis suggests that there is \\nno character displacement in this trait. Both species of crabs showed a strong feeding preference \\nfor the thin-shelled gastropod Lacuna vincta over the thicker shelled Littorina scutulata, likely \\ndue to the ease of consumption. There were no differences in snail consumption rates between \\nmale and female H. nudus of similar propal heights, mostly due to high feeding variation among \\nindividual crabs.', metadata={})]"
      ]
     },
     "execution_count": 103,
     "metadata": {},
     "output_type": "execute_result"
    }
   ],
   "source": [
    "result1b[\"source_documents\"]"
   ]
  },
  {
   "cell_type": "code",
   "execution_count": 104,
   "id": "7ee2a0c6",
   "metadata": {},
   "outputs": [
    {
     "data": {
      "text/plain": [
       "[]"
      ]
     },
     "execution_count": 104,
     "metadata": {},
     "output_type": "execute_result"
    }
   ],
   "source": [
    "result1b[\"chat_history\"]"
   ]
  },
  {
   "cell_type": "code",
   "execution_count": 75,
   "id": "d58154e8",
   "metadata": {},
   "outputs": [],
   "source": [
    "result2b = qa_chain_2({\"question\": query2, \"chat_history\": chat_history})"
   ]
  },
  {
   "cell_type": "code",
   "execution_count": 76,
   "id": "01daf472",
   "metadata": {},
   "outputs": [
    {
     "data": {
      "text/plain": [
       "'The paper examined the relationship between carapace width and chela size in two species of shore crabs, Hemigrapsus nudus and Hemigrapsus oregonensis. The study focused on both females and males of the two species. The authors used a two-way ANOVA with factors sex and species to analyze the data. They also performed an arcsin transformation due to non-normality of certain variables. The results showed that carapace width was a good predictor of propal height and propal width in both female and male crabs. There was no significant difference in chela size between the two species. However, a significant sex*species interaction was found. The study suggests that trade-offs between claw size and factors like feeding efficiency or resource allocation may explain the variation in chela size.'"
      ]
     },
     "execution_count": 76,
     "metadata": {},
     "output_type": "execute_result"
    }
   ],
   "source": [
    "result2b[\"answer\"]"
   ]
  },
  {
   "cell_type": "code",
   "execution_count": 102,
   "id": "cc42f6fe",
   "metadata": {
    "scrolled": true
   },
   "outputs": [
    {
     "data": {
      "text/plain": [
       "[Document(page_content='apace width were consistently \\nlower than propal height regressed against carapace width across species and sexes (Table 1). In \\ngeneral the ability of carapace width to explain the variance in chela size parameters (i.e.: R2 \\nvalues) was greater in females of both crab species (Table 1, Figures 1 and 2). Males may have \\nmore variation in claw size due to trade-offs between claw size and factors like feeding \\nefficiency or resource allocation. Trade-offs relating to chela size are found in fiddler crabs, \\nwhich exhibit extreme sexual dimorphism. Fiddler crabs have a trade-off between the intrasexual \\ncompetition and intersexual signaling functions of the dimorphic claw (Swanson et al. 2013). \\nCharifson 8 \\n \\nThis is not to say that the particular trade-offs in fiddler crabs case are analogous to that of \\nHemigrapsus, since both claws in the two shore crabs in this study are used in feeding.  \\nSexual dimorphism in chela size, which is readily apparent to the eye in both \\nHemigrapsus nudus and Hemigrapsus oregonensis, was detected statistically (Figures 3 and 4). \\nThe two-way ANOVA with factors sex and species did not show a significant species effect, \\nsuggesting that the claws of both shore crabs produce roughly the same force and are \\nfunctionally equivalent (Behrens Yamada and Boulding 1998). The lack of morphological \\ndifference in the size of the chelae between the crab species removes the possibility of character \\ndisplacement in the trait. It should be noted that this study was not designed to test for character \\ndisplacement, but to determine if this would be an interesting question for future investigations. \\nTo make a compelling case for character displacement it is necessary to compare multiple \\nsympatric and allopatric populations with similar abiotic and biotic conditions (Stuart and Losos \\n2013). Also it must be demonstrated that the trait differs due to genetic differences between \\nsympatric and allopatric populations, that the differences between the populations are not due to \\nspecies sorting, that the morphological trait is correlated to differences in resource use between \\nthe two sympatric species, and that the similar phenotype in allopatric populations compete for \\nthe same resources (Stuart and Losos 2013). The tendency of H. nudus to occupy the upper \\nintertidal zone (Sliger 1987), despite considerable overlap with H. oregonensis, may provide \\nenough differential resource use to prevent exclusion in sympatry. Desiccation tolerance may be \\na better trait to test for character displacement in these shore crabs.', metadata={}),\n",
       " Document(page_content='ace width was a good predictor of both propal height (Figure 1, Table 1A) and \\npropal width (Figure 2, Table 1B) in female and male H. oregonensis and H. nudus. There was \\nless variation in the relationship between carapace width and propal height than with propal \\nwidth.  Due to non-normality of CW:PH and CW:PW an arcsin transformation was used. A \\nsignificant effect for sex was found for both CW:PH (F1, 45 = 125.6, p < 0.001) and CW:PW  (F1, \\n45 = 103.81, p < 0.001). There was no significant difference between Hemigrapsus species for \\nCW:PH (F1, 45 < 0.01, p = 0.983) and CW:PW (F1, 45 = 0.09, p = 0.764). A significant \\nsex*species interaction was detected for both CW:PH (F1, 45 4.39, p = 0.042) and CW:PW (F1, 45 \\n= 7.19, p = 0.010). Figure 3 and 4 show the means of CW:PH and CW:PW in by sex and species \\nrespectively.', metadata={})]"
      ]
     },
     "execution_count": 102,
     "metadata": {},
     "output_type": "execute_result"
    }
   ],
   "source": [
    "result2b[\"source_documents\"]"
   ]
  },
  {
   "cell_type": "code",
   "execution_count": 105,
   "id": "60144f50",
   "metadata": {},
   "outputs": [
    {
     "data": {
      "text/plain": [
       "[]"
      ]
     },
     "execution_count": 105,
     "metadata": {},
     "output_type": "execute_result"
    }
   ],
   "source": [
    "result2b[\"chat_history\"]"
   ]
  },
  {
   "cell_type": "code",
   "execution_count": 79,
   "id": "5b5362e9",
   "metadata": {},
   "outputs": [],
   "source": [
    "result3b = qa_chain_2({\"question\": query3, \"chat_history\": chat_history})"
   ]
  },
  {
   "cell_type": "code",
   "execution_count": 80,
   "id": "d1298828",
   "metadata": {},
   "outputs": [
    {
     "data": {
      "text/plain": [
       "'The purpose of the paper was to investigate the relationship between propus size and the use of snails as prey in sympatric populations of Hemigrapsus nudus and Hemigrapsus oregonensis, and to determine if there was any character displacement in chela size between the two species.'"
      ]
     },
     "execution_count": 80,
     "metadata": {},
     "output_type": "execute_result"
    }
   ],
   "source": [
    "result3b[\"answer\"]"
   ]
  },
  {
   "cell_type": "code",
   "execution_count": 81,
   "id": "2c647ec5",
   "metadata": {},
   "outputs": [],
   "source": [
    "result4b = qa_chain_2({\"question\": query4, \"chat_history\": chat_history})"
   ]
  },
  {
   "cell_type": "code",
   "execution_count": 82,
   "id": "2486f93f",
   "metadata": {},
   "outputs": [
    {
     "data": {
      "text/plain": [
       "'Yes, the paper includes several observations. It mentions the collection of una vincta and Littorina scutulata from different locations, the absence of detectable differences in chela size between H. nudus and H. oregonensis, and the feeding preference of both crab species for Lacuna vincta over Littorina scutulata. It also states that there were no differences in snail consumption rates between male and female H. nudus of similar propal heights.'"
      ]
     },
     "execution_count": 82,
     "metadata": {},
     "output_type": "execute_result"
    }
   ],
   "source": [
    "result4b[\"answer\"]"
   ]
  },
  {
   "cell_type": "code",
   "execution_count": 83,
   "id": "8553b20a",
   "metadata": {},
   "outputs": [],
   "source": [
    "result5b = qa_chain_2({\"question\": query5, \"chat_history\": chat_history})"
   ]
  },
  {
   "cell_type": "code",
   "execution_count": 84,
   "id": "e046234f",
   "metadata": {},
   "outputs": [
    {
     "data": {
      "text/plain": [
       "\"Based on the given context, it appears that the research described in the paper is observational in nature. The crabs' feeding preferences and snail consumption rates were observed in sympatric populations of Hemigrapsus nudus and Hemigrapsus oregonensis. Snails were collected from different locations in the natural environment, suggesting that the research involved organisms collected in nature.\""
      ]
     },
     "execution_count": 84,
     "metadata": {},
     "output_type": "execute_result"
    }
   ],
   "source": [
    "result5b[\"answer\"]"
   ]
  },
  {
   "cell_type": "code",
   "execution_count": 85,
   "id": "f922654b",
   "metadata": {},
   "outputs": [],
   "source": [
    "result6b = qa_chain_2({\"question\": query6, \"chat_history\": chat_history})"
   ]
  },
  {
   "cell_type": "code",
   "execution_count": 86,
   "id": "3041ace7",
   "metadata": {},
   "outputs": [
    {
     "data": {
      "text/plain": [
       "'The scientific names of the collected species mentioned in this paper are:\\n\\n- Lacuna vincta\\n- Littorina scutulata\\n- Hemigrapsus nudus\\n- Hemigrapsus oregonensis'"
      ]
     },
     "execution_count": 86,
     "metadata": {},
     "output_type": "execute_result"
    }
   ],
   "source": [
    "result6b[\"answer\"]"
   ]
  },
  {
   "cell_type": "code",
   "execution_count": 87,
   "id": "30eb4b04",
   "metadata": {},
   "outputs": [],
   "source": [
    "result7b = qa_chain_2({\"question\": query7, \"chat_history\": chat_history})"
   ]
  },
  {
   "cell_type": "code",
   "execution_count": 88,
   "id": "88ff25d9",
   "metadata": {},
   "outputs": [
    {
     "data": {
      "text/plain": [
       "'Yes, the paper mentions the locations where the species were collected. Lacuna vincta was collected at False Bay and Dead Man Cove, while Littorina scutulata was collected from the rocky intertidal zone of Fourth of July Beach.'"
      ]
     },
     "execution_count": 88,
     "metadata": {},
     "output_type": "execute_result"
    }
   ],
   "source": [
    "result7b[\"answer\"]"
   ]
  },
  {
   "cell_type": "code",
   "execution_count": 89,
   "id": "6f8c21d6",
   "metadata": {},
   "outputs": [],
   "source": [
    "result7c = qa_chain_2({\"question\": query7a, \"chat_history\": chat_history})"
   ]
  },
  {
   "cell_type": "code",
   "execution_count": 106,
   "id": "1d7bdcd0",
   "metadata": {
    "scrolled": true
   },
   "outputs": [
    {
     "data": {
      "text/plain": [
       "'Based on the given information, the species collected and their respective locations are:\\n\\n1. Lacuna vincta - Collected at False Bay and Dead Man Cove.\\n2. Littorina scutulata - Collected from the rocky intertidal zone of Fourth of July Beach.\\n3. Hemigrapsus nudus - No information provided about the location of collection.\\n4. Hemigrapsus oregonensis - No information provided about the location of collection.'"
      ]
     },
     "execution_count": 106,
     "metadata": {},
     "output_type": "execute_result"
    }
   ],
   "source": [
    "result7c[\"answer\"]"
   ]
  },
  {
   "cell_type": "code",
   "execution_count": 90,
   "id": "d29ed50a",
   "metadata": {},
   "outputs": [],
   "source": [
    "result8b = qa_chain_2({\"question\": query8, \"chat_history\": chat_history})"
   ]
  },
  {
   "cell_type": "code",
   "execution_count": 91,
   "id": "2031f59f",
   "metadata": {},
   "outputs": [
    {
     "data": {
      "text/plain": [
       "'Yes, the specific locations mentioned in the context are False Bay, Dead Man Cove, and Fourth of July Beach.'"
      ]
     },
     "execution_count": 91,
     "metadata": {},
     "output_type": "execute_result"
    }
   ],
   "source": [
    "result8b[\"answer\"]"
   ]
  },
  {
   "cell_type": "code",
   "execution_count": 92,
   "id": "0e2005b2",
   "metadata": {},
   "outputs": [],
   "source": [
    "result9b = qa_chain_2({\"question\": query9, \"chat_history\": chat_history})"
   ]
  },
  {
   "cell_type": "code",
   "execution_count": 93,
   "id": "be466ca0",
   "metadata": {},
   "outputs": [
    {
     "data": {
      "text/plain": [
       "\"I'm sorry, but I don't have access to any specific coordinate locations in latitude/longitude at the moment.\""
      ]
     },
     "execution_count": 93,
     "metadata": {},
     "output_type": "execute_result"
    }
   ],
   "source": [
    "result9b[\"answer\"]"
   ]
  },
  {
   "cell_type": "code",
   "execution_count": 94,
   "id": "ed56a515",
   "metadata": {},
   "outputs": [],
   "source": [
    "result10b = qa_chain_2({\"question\": query10, \"chat_history\": chat_history})"
   ]
  },
  {
   "cell_type": "code",
   "execution_count": 95,
   "id": "a2bd63af",
   "metadata": {},
   "outputs": [
    {
     "data": {
      "text/plain": [
       "'The species una vincta and Littorina scutulata were found in the rocky intertidal zone at False Bay, Dead Man Cove, and Fourth of July Beach on San Juan Island, Washington. The shore crabs Hemigrapsus oregonensis and Hemigrapsus nudus were collected in the intertidal zone adjacent to the Friday Harbor Laboratories dock.'"
      ]
     },
     "execution_count": 95,
     "metadata": {},
     "output_type": "execute_result"
    }
   ],
   "source": [
    "result10b[\"answer\"]"
   ]
  },
  {
   "cell_type": "code",
   "execution_count": 96,
   "id": "b5e8ce94",
   "metadata": {},
   "outputs": [],
   "source": [
    "result10c = qa_chain_2({\"question\": query10a, \"chat_history\": chat_history})"
   ]
  },
  {
   "cell_type": "code",
   "execution_count": 97,
   "id": "30e651a3",
   "metadata": {},
   "outputs": [
    {
     "data": {
      "text/plain": [
       "'The specific location mentioned in the context is San Juan Island, Washington. However, the context does not provide any formal names of the habitats or locations where the specimens were collected.'"
      ]
     },
     "execution_count": 97,
     "metadata": {},
     "output_type": "execute_result"
    }
   ],
   "source": [
    "result10c[\"answer\"]"
   ]
  },
  {
   "cell_type": "code",
   "execution_count": 98,
   "id": "1b8eff68",
   "metadata": {},
   "outputs": [],
   "source": [
    "result11b = qa_chain_2({\"question\": query11, \"chat_history\": chat_history})"
   ]
  },
  {
   "cell_type": "code",
   "execution_count": 99,
   "id": "97f61340",
   "metadata": {},
   "outputs": [
    {
     "data": {
      "text/plain": [
       "'Yes, the paper mentions the year as \"Summer 2014\". However, it does not mention a specific date or time when the species were collected or observed.'"
      ]
     },
     "execution_count": 99,
     "metadata": {},
     "output_type": "execute_result"
    }
   ],
   "source": [
    "result11b[\"answer\"]"
   ]
  },
  {
   "cell_type": "code",
   "execution_count": 100,
   "id": "2dfbd0f2",
   "metadata": {},
   "outputs": [],
   "source": [
    "result12b = qa_chain_2({\"question\": query12, \"chat_history\": chat_history})"
   ]
  },
  {
   "cell_type": "code",
   "execution_count": 101,
   "id": "7197b695",
   "metadata": {},
   "outputs": [
    {
     "data": {
      "text/plain": [
       "'Yes, there are figures and tables in the paper. Specifically, there are Figure 1, Table 1A, Figure 2, Table 1B, Figure 3, and Figure 4.'"
      ]
     },
     "execution_count": 101,
     "metadata": {},
     "output_type": "execute_result"
    }
   ],
   "source": [
    "result12b[\"answer\"]"
   ]
  }
 ],
 "metadata": {
  "kernelspec": {
   "display_name": "Python 3 (ipykernel)",
   "language": "python",
   "name": "python3"
  },
  "language_info": {
   "codemirror_mode": {
    "name": "ipython",
    "version": 3
   },
   "file_extension": ".py",
   "mimetype": "text/x-python",
   "name": "python",
   "nbconvert_exporter": "python",
   "pygments_lexer": "ipython3",
   "version": "3.10.9"
  }
 },
 "nbformat": 4,
 "nbformat_minor": 5
}
