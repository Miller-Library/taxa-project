{
 "cells": [
  {
   "attachments": {},
   "cell_type": "markdown",
   "id": "249dfcc8",
   "metadata": {},
   "source": [
    "# Option 1\n",
    "\n",
    "\n",
    " - SentenceTransformers Splitter\n",
    " - SentenceTransformerEmbeddings\n",
    " - Annoy\n",
    " - MultiQueryRetriever\n",
    " - RetrievalQA with \"Reduce\"\n",
    " - RetrievalQA with \"Re-rank\"\n",
    " - RetrievalQA with \"Stuff\" and memory\n",
    " - Memory"
   ]
  },
  {
   "cell_type": "code",
   "execution_count": 14,
   "id": "83ff4a6b",
   "metadata": {},
   "outputs": [],
   "source": [
    "import pandas as pd\n",
    "import os\n",
    "import openai\n",
    "import logging\n",
    "import sys, pathlib, fitz\n",
    "from typing import List\n",
    "from langchain import LLMChain\n",
    "from pydantic import BaseModel, Field\n",
    "from langchain.prompts import PromptTemplate\n",
    "from langchain.output_parsers import PydanticOutputParser\n",
    "from langchain.text_splitter import SentenceTransformersTokenTextSplitter\n",
    "from langchain.text_splitter import CharacterTextSplitter\n",
    "from langchain.embeddings import SentenceTransformerEmbeddings\n",
    "from langchain.embeddings import HuggingFaceEmbeddings\n",
    "from langchain.retrievers.multi_query import MultiQueryRetriever\n",
    "from langchain.chains import RetrievalQA\n",
    "from langchain.chains import ConversationalRetrievalChain\n",
    "from langchain.memory import ConversationBufferMemory\n",
    "from langchain.document_loaders import PyMuPDFLoader\n",
    "from langchain.vectorstores import Annoy\n",
    "from langchain.chat_models import ChatOpenAI"
   ]
  },
  {
   "cell_type": "code",
   "execution_count": 15,
   "id": "57f6e99f",
   "metadata": {},
   "outputs": [],
   "source": [
    "from dotenv import load_dotenv, find_dotenv\n",
    "_ = load_dotenv(find_dotenv()) # read local .env file\n",
    "\n",
    "openai.api_key  = os.environ['OPENAI_API_KEY']"
   ]
  },
  {
   "cell_type": "code",
   "execution_count": 3,
   "id": "bfefce70",
   "metadata": {},
   "outputs": [],
   "source": [
    "# os.environ[\"OPENAI_API_KEY\"] = \"\"\n"
   ]
  },
  {
   "cell_type": "code",
   "execution_count": 16,
   "id": "6f41d10c",
   "metadata": {},
   "outputs": [],
   "source": [
    "# Helper function for printing docs\n",
    "\n",
    "def pretty_print_docs(docs):\n",
    "    print(f\"\\n{'-' * 100}\\n\".join([f\"Document {i+1}:\\n\\n\" + d.page_content for i, d in enumerate(docs)]))"
   ]
  },
  {
   "cell_type": "markdown",
   "id": "8619be5e",
   "metadata": {},
   "source": [
    "## Extract text from a PyMuPDF\n",
    "\n",
    "According to [LangChain](https://python.langchain.com/docs/modules/data_connection/document_loaders/how_to/pdf#using-pymupdf), PyMuPDFLoader is the fastest PDF parsing option and contains detailed metadata about the PDF and its pages, as well as returns one document per page."
   ]
  },
  {
   "cell_type": "code",
   "execution_count": 17,
   "id": "2232c4bd",
   "metadata": {},
   "outputs": [],
   "source": [
    "# Read in some Data\n",
    "loader = PyMuPDFLoader(\"hms/fhl_2014_Charifson_34622 (1).pdf\")\n",
    "\n",
    "# Now that we have our PDF document loaded into a loader object, we move onto text splitters\n",
    "pages = loader.load()"
   ]
  },
  {
   "cell_type": "code",
   "execution_count": 18,
   "id": "573bfd4f",
   "metadata": {},
   "outputs": [
    {
     "data": {
      "text/plain": [
       "19"
      ]
     },
     "execution_count": 18,
     "metadata": {},
     "output_type": "execute_result"
    }
   ],
   "source": [
    "len(pages)"
   ]
  },
  {
   "cell_type": "markdown",
   "id": "cfde2e86",
   "metadata": {},
   "source": [
    "## Text Splitters\n",
    "\n",
    "The concept of text splitters revolves around the need to break down long pieces of text into smaller, meaningful chunks. \n",
    "\n",
    "The goal is to split the text in a way that keeps semantically related pieces together, with th definition of \"semantically related depending on the specific type of text being processed.\n",
    "\n",
    "Language models have a token limit. You should not exceed the token limit. When you split your text into chunks it is therefore a good idea to count the number of tokens. There are many tokenizers. When you count tokens in your text you should use the same tokenizer as used in the language model.\n",
    "\n",
    "Text splitter allow customization:\n",
    "\n",
    "1. Chunk_size parameter determines the number of text inputs that will be grouped together as a single request or chunk. This parameter allows you to control the granularity of the chnks and how much text is processed together at once.\n",
    "\n",
    "\n",
    "2. Chunk_overlap parameter refers to the maximum overlap between consecutive chunks. By overlap inclusion, the TextSplitter ensures that is a continuity and context maintained between the chunks i.e. preserves the flow of information and avoids abrupt transitions between chunks."
   ]
  },
  {
   "cell_type": "markdown",
   "id": "65dce19a",
   "metadata": {},
   "source": [
    "### SentenceTransformers\n",
    "\n",
    "The SentenceTransformersTokenTextSplitter is a specialized text splitter for use with the sentence-transformer models. The default behaviour is to split the text into chunks that fit the token window of the sentence transformer model that you would like to use."
   ]
  },
  {
   "cell_type": "code",
   "execution_count": 7,
   "id": "9e34e3e0",
   "metadata": {},
   "outputs": [],
   "source": [
    "text_splitter = SentenceTransformersTokenTextSplitter(chunk_size=1000,chunk_overlap=20, length_function = len)"
   ]
  },
  {
   "cell_type": "code",
   "execution_count": 8,
   "id": "46eec236",
   "metadata": {},
   "outputs": [],
   "source": [
    "docs = text_splitter.split_documents(pages)"
   ]
  },
  {
   "cell_type": "code",
   "execution_count": 9,
   "id": "0d22709a",
   "metadata": {},
   "outputs": [
    {
     "data": {
      "text/plain": [
       "28"
      ]
     },
     "execution_count": 9,
     "metadata": {},
     "output_type": "execute_result"
    }
   ],
   "source": [
    "len(docs)"
   ]
  },
  {
   "cell_type": "code",
   "execution_count": 10,
   "id": "db850650",
   "metadata": {
    "scrolled": true
   },
   "outputs": [
    {
     "data": {
      "text/plain": [
       "{'source': 'hms/fhl_2014_Charifson_34622 (1).pdf',\n",
       " 'file_path': 'hms/fhl_2014_Charifson_34622 (1).pdf',\n",
       " 'page': 0,\n",
       " 'total_pages': 19,\n",
       " 'format': 'PDF 1.5',\n",
       " 'title': '',\n",
       " 'author': 'David',\n",
       " 'subject': '',\n",
       " 'keywords': '',\n",
       " 'creator': 'Microsoft® Office Word 2007',\n",
       " 'producer': 'Microsoft® Office Word 2007',\n",
       " 'creationDate': \"D:20140723120649-04'00'\",\n",
       " 'modDate': \"D:20140723120649-04'00'\",\n",
       " 'trapped': ''}"
      ]
     },
     "execution_count": 10,
     "metadata": {},
     "output_type": "execute_result"
    }
   ],
   "source": [
    "docs[0].metadata"
   ]
  },
  {
   "cell_type": "markdown",
   "id": "65d3af29",
   "metadata": {},
   "source": [
    "## Text embedding\n",
    "\n",
    "Embeddings create a vector representation of a piece of text. This is useful because it means we can think about text in the vector space, and do things like semantic search where we look for pieces of text that are most similar in the vector space.\n",
    "\n",
    "\n",
    "SentenceTransformers embeddings are called using the HuggingFaceEmbeddings integration. We have also added an alias for SentenceTransformerEmbeddings for users who are more familiar with directly using that package.\n",
    "\n",
    "SentenceTransformers is a python package that can generate text and image embeddings, originating from Sentence-BERT"
   ]
  },
  {
   "cell_type": "code",
   "execution_count": 11,
   "id": "ed1c63a5",
   "metadata": {},
   "outputs": [],
   "source": [
    "embeddings = SentenceTransformerEmbeddings()"
   ]
  },
  {
   "cell_type": "markdown",
   "id": "85216c4a",
   "metadata": {},
   "source": [
    "### Annoy\n",
    "\n",
    "Annoy (Approximate Nearest Neighbors Oh Yeah) is a C++ library with Python bindings to search for points in space that are close to a given query point. It also creates large read-only file-based data structures that are mmapped into memory so that many processes may share the same data.\n",
    "\n",
    "\n",
    "NOTE: Annoy is read-only - once the index is built you cannot add any more emebddings!\n",
    "If you want to progressively add new entries to your VectorStore then better choose an alternative!"
   ]
  },
  {
   "cell_type": "code",
   "execution_count": 12,
   "id": "d1f52df3",
   "metadata": {},
   "outputs": [],
   "source": [
    "vs2 = Annoy.from_documents(docs, embeddings)"
   ]
  },
  {
   "cell_type": "code",
   "execution_count": 13,
   "id": "0e091683",
   "metadata": {},
   "outputs": [],
   "source": [
    "query = \"what is the paper about?\""
   ]
  },
  {
   "cell_type": "code",
   "execution_count": 14,
   "id": "659e1a2b",
   "metadata": {},
   "outputs": [
    {
     "data": {
      "text/plain": [
       "[(Document(page_content='and rohlf 2011 ). differences in cw : ph and cw : pw were analyzed using a two - way anova', metadata={'source': 'hms/fhl_2014_Charifson_34622 (1).pdf', 'file_path': 'hms/fhl_2014_Charifson_34622 (1).pdf', 'page': 4, 'total_pages': 19, 'format': 'PDF 1.5', 'title': '', 'author': 'David', 'subject': '', 'keywords': '', 'creator': 'Microsoft® Office Word 2007', 'producer': 'Microsoft® Office Word 2007', 'creationDate': \"D:20140723120649-04'00'\", 'modDate': \"D:20140723120649-04'00'\", 'trapped': ''}),\n",
       "  1.3306306600570679),\n",
       " (Document(page_content='charifson 13 table 1 : sma regressions of carapace width and propus measures. a ) the relationship between carapace width and propal height. x is carapace width and y is propal height. b ) the relationship between carapace width and propal height. x is carapace width and y is propal width. sma regression a n carapace width vs propal height r2 female h. nudus 13 y = 0. 273 * x - 0. 678 0. 976 male h. nudus 13 y = 0. 311 * x - 1. 385 0. 868 female h. oregonensis 9 y = 0. 351 * x - 0. 833 0. 894 male h. oregonensis 14 y = 0. 39 * x - 1. 149 0. 693 sma regression b n carapace width vs propal width r2 female h. nudus 13 y = 0. 157 * x - 0. 386 0. 927 male h. nudus 13 y = 0. 209 * x - 1. 288 0. 859 female h. oregonensis 9 y = 0. 175 * x + 0. 037 0. 724 male h. oregonensis 14 y = 0. 244 * x - 0. 688 0. 534', metadata={'source': 'hms/fhl_2014_Charifson_34622 (1).pdf', 'file_path': 'hms/fhl_2014_Charifson_34622 (1).pdf', 'page': 12, 'total_pages': 19, 'format': 'PDF 1.5', 'title': '', 'author': 'David', 'subject': '', 'keywords': '', 'creator': 'Microsoft® Office Word 2007', 'producer': 'Microsoft® Office Word 2007', 'creationDate': \"D:20140723120649-04'00'\", 'modDate': \"D:20140723120649-04'00'\", 'trapped': ''}),\n",
       "  1.3383784294128418),\n",
       " (Document(page_content='##f, f. j. 2011. biometry. 4th ed. w. h. freeman, new york, new york, usa. stuart, y. e. and losos, j. b. 2013. ecological character displacement : glass half full or half empty? trends in ecology and evolution 28 : 402 - 408.', metadata={'source': 'hms/fhl_2014_Charifson_34622 (1).pdf', 'file_path': 'hms/fhl_2014_Charifson_34622 (1).pdf', 'page': 10, 'total_pages': 19, 'format': 'PDF 1.5', 'title': '', 'author': 'David', 'subject': '', 'keywords': '', 'creator': 'Microsoft® Office Word 2007', 'producer': 'Microsoft® Office Word 2007', 'creationDate': \"D:20140723120649-04'00'\", 'modDate': \"D:20140723120649-04'00'\", 'trapped': ''}),\n",
       "  1.3411223888397217)]"
      ]
     },
     "execution_count": 14,
     "metadata": {},
     "output_type": "execute_result"
    }
   ],
   "source": [
    "#the score is a distance metric, so lower is better\n",
    "\n",
    "vs2.similarity_search_with_score(query, k=3)"
   ]
  },
  {
   "cell_type": "code",
   "execution_count": 15,
   "id": "c786aa6f",
   "metadata": {},
   "outputs": [],
   "source": [
    "query2 = \"What are the scientific names of the species mentioned in this paper?\""
   ]
  },
  {
   "cell_type": "code",
   "execution_count": 16,
   "id": "a70d8183",
   "metadata": {},
   "outputs": [
    {
     "data": {
      "text/plain": [
       "[(Document(page_content='waterand in finer sediment than the more desiccation - tolerant h. nudus ( sliger 1982 ). there is still considerable habitat overlap between these two species ; the underside of a single rock may have', metadata={'source': 'hms/fhl_2014_Charifson_34622 (1).pdf', 'file_path': 'hms/fhl_2014_Charifson_34622 (1).pdf', 'page': 1, 'total_pages': 19, 'format': 'PDF 1.5', 'title': '', 'author': 'David', 'subject': '', 'keywords': '', 'creator': 'Microsoft® Office Word 2007', 'producer': 'Microsoft® Office Word 2007', 'creationDate': \"D:20140723120649-04'00'\", 'modDate': \"D:20140723120649-04'00'\", 'trapped': ''}),\n",
       "  1.0272287130355835),\n",
       " (Document(page_content='charifson 15 figure 1 : relationship of carapace width and propal height in hemigrapsus. line of best fit from sma regression. see table 1a for descriptive statistics. a ) female h. nudus. b ) male h. nudus. c ) female h. oregonensis. d ) male h. oregonensis.', metadata={'source': 'hms/fhl_2014_Charifson_34622 (1).pdf', 'file_path': 'hms/fhl_2014_Charifson_34622 (1).pdf', 'page': 14, 'total_pages': 19, 'format': 'PDF 1.5', 'title': '', 'author': 'David', 'subject': '', 'keywords': '', 'creator': 'Microsoft® Office Word 2007', 'producer': 'Microsoft® Office Word 2007', 'creationDate': \"D:20140723120649-04'00'\", 'modDate': \"D:20140723120649-04'00'\", 'trapped': ''}),\n",
       "  1.1021348237991333),\n",
       " (Document(page_content='##f, f. j. 2011. biometry. 4th ed. w. h. freeman, new york, new york, usa. stuart, y. e. and losos, j. b. 2013. ecological character displacement : glass half full or half empty? trends in ecology and evolution 28 : 402 - 408.', metadata={'source': 'hms/fhl_2014_Charifson_34622 (1).pdf', 'file_path': 'hms/fhl_2014_Charifson_34622 (1).pdf', 'page': 10, 'total_pages': 19, 'format': 'PDF 1.5', 'title': '', 'author': 'David', 'subject': '', 'keywords': '', 'creator': 'Microsoft® Office Word 2007', 'producer': 'Microsoft® Office Word 2007', 'creationDate': \"D:20140723120649-04'00'\", 'modDate': \"D:20140723120649-04'00'\", 'trapped': ''}),\n",
       "  1.1077861785888672)]"
      ]
     },
     "execution_count": 16,
     "metadata": {},
     "output_type": "execute_result"
    }
   ],
   "source": [
    "vs2.similarity_search_with_score(query2, k=3)"
   ]
  },
  {
   "cell_type": "code",
   "execution_count": 17,
   "id": "ef810aea",
   "metadata": {},
   "outputs": [],
   "source": [
    "query3 = \"Does this paper contain observational or experimental research conducted in the natural environment or with organisms collected in nature?\""
   ]
  },
  {
   "cell_type": "code",
   "execution_count": 18,
   "id": "3a57dce8",
   "metadata": {
    "scrolled": true
   },
   "outputs": [
    {
     "data": {
      "text/plain": [
       "[(Document(page_content='charifson 19 figure 5 : consumption rates by individual h. nudus. mean consumption rates ( n = 8 trials ) of 3 female ( fe1 to fe3 ) and 3 male ( ma1 to ma3 ) h. nudus. crabs fe1, fe3, and ma3 did not consume snails. the individuals that eat snails did not differ in their consumption rates ( f2, 21 = 2. 52, p = 0. 104 ). error bars represent standard error of the mean. 0 0. 1 0. 2 0. 3 0. 4 0. 5 0. 6 0. 7 0. 8 0. 9 1 fe1 fe2 fe3 ma1 ma2 ma3 mean consumption rate ( snails consumed / hour ) individual h. nudus', metadata={'source': 'hms/fhl_2014_Charifson_34622 (1).pdf', 'file_path': 'hms/fhl_2014_Charifson_34622 (1).pdf', 'page': 18, 'total_pages': 19, 'format': 'PDF 1.5', 'title': '', 'author': 'David', 'subject': '', 'keywords': '', 'creator': 'Microsoft® Office Word 2007', 'producer': 'Microsoft® Office Word 2007', 'creationDate': \"D:20140723120649-04'00'\", 'modDate': \"D:20140723120649-04'00'\", 'trapped': ''}),\n",
       "  1.056341290473938),\n",
       " (Document(page_content='##f, f. j. 2011. biometry. 4th ed. w. h. freeman, new york, new york, usa. stuart, y. e. and losos, j. b. 2013. ecological character displacement : glass half full or half empty? trends in ecology and evolution 28 : 402 - 408.', metadata={'source': 'hms/fhl_2014_Charifson_34622 (1).pdf', 'file_path': 'hms/fhl_2014_Charifson_34622 (1).pdf', 'page': 10, 'total_pages': 19, 'format': 'PDF 1.5', 'title': '', 'author': 'David', 'subject': '', 'keywords': '', 'creator': 'Microsoft® Office Word 2007', 'producer': 'Microsoft® Office Word 2007', 'creationDate': \"D:20140723120649-04'00'\", 'modDate': \"D:20140723120649-04'00'\", 'trapped': ''}),\n",
       "  1.0581932067871094),\n",
       " (Document(page_content='waterand in finer sediment than the more desiccation - tolerant h. nudus ( sliger 1982 ). there is still considerable habitat overlap between these two species ; the underside of a single rock may have', metadata={'source': 'hms/fhl_2014_Charifson_34622 (1).pdf', 'file_path': 'hms/fhl_2014_Charifson_34622 (1).pdf', 'page': 1, 'total_pages': 19, 'format': 'PDF 1.5', 'title': '', 'author': 'David', 'subject': '', 'keywords': '', 'creator': 'Microsoft® Office Word 2007', 'producer': 'Microsoft® Office Word 2007', 'creationDate': \"D:20140723120649-04'00'\", 'modDate': \"D:20140723120649-04'00'\", 'trapped': ''}),\n",
       "  1.070095419883728)]"
      ]
     },
     "execution_count": 18,
     "metadata": {},
     "output_type": "execute_result"
    }
   ],
   "source": [
    "vs2.similarity_search_with_score(query3, k=3)"
   ]
  },
  {
   "cell_type": "code",
   "execution_count": 19,
   "id": "9a803673",
   "metadata": {},
   "outputs": [],
   "source": [
    "query4 = \"Terms that may be used to identify an observation include “in the field”, “this study”, “observed”, “taken”, “collected”, “sampled”, “collection”, “seen”, “harvested”, “found”, etc. Does the paper include one or more observations? \""
   ]
  },
  {
   "cell_type": "code",
   "execution_count": 20,
   "id": "f273c8a4",
   "metadata": {
    "scrolled": true
   },
   "outputs": [
    {
     "data": {
      "text/plain": [
       "[(Document(page_content='##f, f. j. 2011. biometry. 4th ed. w. h. freeman, new york, new york, usa. stuart, y. e. and losos, j. b. 2013. ecological character displacement : glass half full or half empty? trends in ecology and evolution 28 : 402 - 408.', metadata={'source': 'hms/fhl_2014_Charifson_34622 (1).pdf', 'file_path': 'hms/fhl_2014_Charifson_34622 (1).pdf', 'page': 10, 'total_pages': 19, 'format': 'PDF 1.5', 'title': '', 'author': 'David', 'subject': '', 'keywords': '', 'creator': 'Microsoft® Office Word 2007', 'producer': 'Microsoft® Office Word 2007', 'creationDate': \"D:20140723120649-04'00'\", 'modDate': \"D:20140723120649-04'00'\", 'trapped': ''}),\n",
       "  1.2470710277557373),\n",
       " (Document(page_content='vincta in the field. it should be noted that h. nudus and la. vincta usually occupy different portions of the intertidal and may have little contact with each other, unlike the relationship between h. nudus and li. scutulata. there is some potential for overlap in the winter when la. vincta migrates up shore. although no differences in consumption rates between male and female h. nudus were found, this might be', metadata={'source': 'hms/fhl_2014_Charifson_34622 (1).pdf', 'file_path': 'hms/fhl_2014_Charifson_34622 (1).pdf', 'page': 8, 'total_pages': 19, 'format': 'PDF 1.5', 'title': '', 'author': 'David', 'subject': '', 'keywords': '', 'creator': 'Microsoft® Office Word 2007', 'producer': 'Microsoft® Office Word 2007', 'creationDate': \"D:20140723120649-04'00'\", 'modDate': \"D:20140723120649-04'00'\", 'trapped': ''}),\n",
       "  1.2504805326461792),\n",
       " (Document(page_content='charifson 19 figure 5 : consumption rates by individual h. nudus. mean consumption rates ( n = 8 trials ) of 3 female ( fe1 to fe3 ) and 3 male ( ma1 to ma3 ) h. nudus. crabs fe1, fe3, and ma3 did not consume snails. the individuals that eat snails did not differ in their consumption rates ( f2, 21 = 2. 52, p = 0. 104 ). error bars represent standard error of the mean. 0 0. 1 0. 2 0. 3 0. 4 0. 5 0. 6 0. 7 0. 8 0. 9 1 fe1 fe2 fe3 ma1 ma2 ma3 mean consumption rate ( snails consumed / hour ) individual h. nudus', metadata={'source': 'hms/fhl_2014_Charifson_34622 (1).pdf', 'file_path': 'hms/fhl_2014_Charifson_34622 (1).pdf', 'page': 18, 'total_pages': 19, 'format': 'PDF 1.5', 'title': '', 'author': 'David', 'subject': '', 'keywords': '', 'creator': 'Microsoft® Office Word 2007', 'producer': 'Microsoft® Office Word 2007', 'creationDate': \"D:20140723120649-04'00'\", 'modDate': \"D:20140723120649-04'00'\", 'trapped': ''}),\n",
       "  1.272005558013916),\n",
       " (Document(page_content='and rohlf 2011 ). differences in cw : ph and cw : pw were analyzed using a two - way anova', metadata={'source': 'hms/fhl_2014_Charifson_34622 (1).pdf', 'file_path': 'hms/fhl_2014_Charifson_34622 (1).pdf', 'page': 4, 'total_pages': 19, 'format': 'PDF 1.5', 'title': '', 'author': 'David', 'subject': '', 'keywords': '', 'creator': 'Microsoft® Office Word 2007', 'producer': 'Microsoft® Office Word 2007', 'creationDate': \"D:20140723120649-04'00'\", 'modDate': \"D:20140723120649-04'00'\", 'trapped': ''}),\n",
       "  1.2738001346588135)]"
      ]
     },
     "execution_count": 20,
     "metadata": {},
     "output_type": "execute_result"
    }
   ],
   "source": [
    "vs2.similarity_search_with_score(query4, k=4)"
   ]
  },
  {
   "cell_type": "code",
   "execution_count": 21,
   "id": "6eae608b",
   "metadata": {},
   "outputs": [
    {
     "data": {
      "text/plain": [
       "[(Document(page_content='charifson 19 figure 5 : consumption rates by individual h. nudus. mean consumption rates ( n = 8 trials ) of 3 female ( fe1 to fe3 ) and 3 male ( ma1 to ma3 ) h. nudus. crabs fe1, fe3, and ma3 did not consume snails. the individuals that eat snails did not differ in their consumption rates ( f2, 21 = 2. 52, p = 0. 104 ). error bars represent standard error of the mean. 0 0. 1 0. 2 0. 3 0. 4 0. 5 0. 6 0. 7 0. 8 0. 9 1 fe1 fe2 fe3 ma1 ma2 ma3 mean consumption rate ( snails consumed / hour ) individual h. nudus', metadata={'source': 'hms/fhl_2014_Charifson_34622 (1).pdf', 'file_path': 'hms/fhl_2014_Charifson_34622 (1).pdf', 'page': 18, 'total_pages': 19, 'format': 'PDF 1.5', 'title': '', 'author': 'David', 'subject': '', 'keywords': '', 'creator': 'Microsoft® Office Word 2007', 'producer': 'Microsoft® Office Word 2007', 'creationDate': \"D:20140723120649-04'00'\", 'modDate': \"D:20140723120649-04'00'\", 'trapped': ''}),\n",
       "  1.056341290473938),\n",
       " (Document(page_content='##f, f. j. 2011. biometry. 4th ed. w. h. freeman, new york, new york, usa. stuart, y. e. and losos, j. b. 2013. ecological character displacement : glass half full or half empty? trends in ecology and evolution 28 : 402 - 408.', metadata={'source': 'hms/fhl_2014_Charifson_34622 (1).pdf', 'file_path': 'hms/fhl_2014_Charifson_34622 (1).pdf', 'page': 10, 'total_pages': 19, 'format': 'PDF 1.5', 'title': '', 'author': 'David', 'subject': '', 'keywords': '', 'creator': 'Microsoft® Office Word 2007', 'producer': 'Microsoft® Office Word 2007', 'creationDate': \"D:20140723120649-04'00'\", 'modDate': \"D:20140723120649-04'00'\", 'trapped': ''}),\n",
       "  1.0581932067871094),\n",
       " (Document(page_content='waterand in finer sediment than the more desiccation - tolerant h. nudus ( sliger 1982 ). there is still considerable habitat overlap between these two species ; the underside of a single rock may have', metadata={'source': 'hms/fhl_2014_Charifson_34622 (1).pdf', 'file_path': 'hms/fhl_2014_Charifson_34622 (1).pdf', 'page': 1, 'total_pages': 19, 'format': 'PDF 1.5', 'title': '', 'author': 'David', 'subject': '', 'keywords': '', 'creator': 'Microsoft® Office Word 2007', 'producer': 'Microsoft® Office Word 2007', 'creationDate': \"D:20140723120649-04'00'\", 'modDate': \"D:20140723120649-04'00'\", 'trapped': ''}),\n",
       "  1.070095419883728),\n",
       " (Document(page_content='charifson 10 due to logistical issues surrounding the experimental design and little replication. future studies should include more crabs, the exclusion of non - feeding crabs, and trial periods with longer time intervals. additionally, any subsequent study should utilize multivariate and geometric morphometric methods to quantify claw shape instead of using ratios, as two similar ratios may have different shape. acknowledgements : i would like to thank dianna padilla, michael labarbera, and kevin turner for advice relating to the experimental design of this study. i would also like to thank the director and staff of friday harbor laboratories for use of facilities and permission to collect organisms. friday harbor laboratories, the libbie hyman scholarship, society for integrative and comparative biology, and the stony brook department of ecology and evolution provided financial support and have my gratitude.', metadata={'source': 'hms/fhl_2014_Charifson_34622 (1).pdf', 'file_path': 'hms/fhl_2014_Charifson_34622 (1).pdf', 'page': 9, 'total_pages': 19, 'format': 'PDF 1.5', 'title': '', 'author': 'David', 'subject': '', 'keywords': '', 'creator': 'Microsoft® Office Word 2007', 'producer': 'Microsoft® Office Word 2007', 'creationDate': \"D:20140723120649-04'00'\", 'modDate': \"D:20140723120649-04'00'\", 'trapped': ''}),\n",
       "  1.1006144285202026)]"
      ]
     },
     "execution_count": 21,
     "metadata": {},
     "output_type": "execute_result"
    }
   ],
   "source": [
    "query5 = \"Does this paper contain observational or experimental research conducted in the natural environment or with organisms collected in nature?\"\n",
    "\n",
    "vs2.similarity_search_with_score(query5, k=4)"
   ]
  },
  {
   "cell_type": "code",
   "execution_count": 22,
   "id": "24d0a951",
   "metadata": {},
   "outputs": [
    {
     "data": {
      "text/plain": [
       "[(Document(page_content='waterand in finer sediment than the more desiccation - tolerant h. nudus ( sliger 1982 ). there is still considerable habitat overlap between these two species ; the underside of a single rock may have', metadata={'source': 'hms/fhl_2014_Charifson_34622 (1).pdf', 'file_path': 'hms/fhl_2014_Charifson_34622 (1).pdf', 'page': 1, 'total_pages': 19, 'format': 'PDF 1.5', 'title': '', 'author': 'David', 'subject': '', 'keywords': '', 'creator': 'Microsoft® Office Word 2007', 'producer': 'Microsoft® Office Word 2007', 'creationDate': \"D:20140723120649-04'00'\", 'modDate': \"D:20140723120649-04'00'\", 'trapped': ''}),\n",
       "  1.018962025642395),\n",
       " (Document(page_content='##f, f. j. 2011. biometry. 4th ed. w. h. freeman, new york, new york, usa. stuart, y. e. and losos, j. b. 2013. ecological character displacement : glass half full or half empty? trends in ecology and evolution 28 : 402 - 408.', metadata={'source': 'hms/fhl_2014_Charifson_34622 (1).pdf', 'file_path': 'hms/fhl_2014_Charifson_34622 (1).pdf', 'page': 10, 'total_pages': 19, 'format': 'PDF 1.5', 'title': '', 'author': 'David', 'subject': '', 'keywords': '', 'creator': 'Microsoft® Office Word 2007', 'producer': 'Microsoft® Office Word 2007', 'creationDate': \"D:20140723120649-04'00'\", 'modDate': \"D:20140723120649-04'00'\", 'trapped': ''}),\n",
       "  1.073420524597168),\n",
       " (Document(page_content='vincta in the field. it should be noted that h. nudus and la. vincta usually occupy different portions of the intertidal and may have little contact with each other, unlike the relationship between h. nudus and li. scutulata. there is some potential for overlap in the winter when la. vincta migrates up shore. although no differences in consumption rates between male and female h. nudus were found, this might be', metadata={'source': 'hms/fhl_2014_Charifson_34622 (1).pdf', 'file_path': 'hms/fhl_2014_Charifson_34622 (1).pdf', 'page': 8, 'total_pages': 19, 'format': 'PDF 1.5', 'title': '', 'author': 'David', 'subject': '', 'keywords': '', 'creator': 'Microsoft® Office Word 2007', 'producer': 'Microsoft® Office Word 2007', 'creationDate': \"D:20140723120649-04'00'\", 'modDate': \"D:20140723120649-04'00'\", 'trapped': ''}),\n",
       "  1.1218184232711792),\n",
       " (Document(page_content='charifson 15 figure 1 : relationship of carapace width and propal height in hemigrapsus. line of best fit from sma regression. see table 1a for descriptive statistics. a ) female h. nudus. b ) male h. nudus. c ) female h. oregonensis. d ) male h. oregonensis.', metadata={'source': 'hms/fhl_2014_Charifson_34622 (1).pdf', 'file_path': 'hms/fhl_2014_Charifson_34622 (1).pdf', 'page': 14, 'total_pages': 19, 'format': 'PDF 1.5', 'title': '', 'author': 'David', 'subject': '', 'keywords': '', 'creator': 'Microsoft® Office Word 2007', 'producer': 'Microsoft® Office Word 2007', 'creationDate': \"D:20140723120649-04'00'\", 'modDate': \"D:20140723120649-04'00'\", 'trapped': ''}),\n",
       "  1.1521369218826294)]"
      ]
     },
     "execution_count": 22,
     "metadata": {},
     "output_type": "execute_result"
    }
   ],
   "source": [
    "query6= \"Does the paper mention where the species were observed or collected, and if so, what locations are given?\"\n",
    "\n",
    "vs2.similarity_search_with_score(query6, k=4)"
   ]
  },
  {
   "cell_type": "code",
   "execution_count": 23,
   "id": "f0334e79",
   "metadata": {
    "scrolled": true
   },
   "outputs": [
    {
     "data": {
      "text/plain": [
       "[(Document(page_content='waterand in finer sediment than the more desiccation - tolerant h. nudus ( sliger 1982 ). there is still considerable habitat overlap between these two species ; the underside of a single rock may have', metadata={'source': 'hms/fhl_2014_Charifson_34622 (1).pdf', 'file_path': 'hms/fhl_2014_Charifson_34622 (1).pdf', 'page': 1, 'total_pages': 19, 'format': 'PDF 1.5', 'title': '', 'author': 'David', 'subject': '', 'keywords': '', 'creator': 'Microsoft® Office Word 2007', 'producer': 'Microsoft® Office Word 2007', 'creationDate': \"D:20140723120649-04'00'\", 'modDate': \"D:20140723120649-04'00'\", 'trapped': ''}),\n",
       "  0.9531382322311401),\n",
       " (Document(page_content='##f, f. j. 2011. biometry. 4th ed. w. h. freeman, new york, new york, usa. stuart, y. e. and losos, j. b. 2013. ecological character displacement : glass half full or half empty? trends in ecology and evolution 28 : 402 - 408.', metadata={'source': 'hms/fhl_2014_Charifson_34622 (1).pdf', 'file_path': 'hms/fhl_2014_Charifson_34622 (1).pdf', 'page': 10, 'total_pages': 19, 'format': 'PDF 1.5', 'title': '', 'author': 'David', 'subject': '', 'keywords': '', 'creator': 'Microsoft® Office Word 2007', 'producer': 'Microsoft® Office Word 2007', 'creationDate': \"D:20140723120649-04'00'\", 'modDate': \"D:20140723120649-04'00'\", 'trapped': ''}),\n",
       "  0.9748102426528931),\n",
       " (Document(page_content='vincta in the field. it should be noted that h. nudus and la. vincta usually occupy different portions of the intertidal and may have little contact with each other, unlike the relationship between h. nudus and li. scutulata. there is some potential for overlap in the winter when la. vincta migrates up shore. although no differences in consumption rates between male and female h. nudus were found, this might be', metadata={'source': 'hms/fhl_2014_Charifson_34622 (1).pdf', 'file_path': 'hms/fhl_2014_Charifson_34622 (1).pdf', 'page': 8, 'total_pages': 19, 'format': 'PDF 1.5', 'title': '', 'author': 'David', 'subject': '', 'keywords': '', 'creator': 'Microsoft® Office Word 2007', 'producer': 'Microsoft® Office Word 2007', 'creationDate': \"D:20140723120649-04'00'\", 'modDate': \"D:20140723120649-04'00'\", 'trapped': ''}),\n",
       "  1.044095516204834),\n",
       " (Document(page_content='charifson 15 figure 1 : relationship of carapace width and propal height in hemigrapsus. line of best fit from sma regression. see table 1a for descriptive statistics. a ) female h. nudus. b ) male h. nudus. c ) female h. oregonensis. d ) male h. oregonensis.', metadata={'source': 'hms/fhl_2014_Charifson_34622 (1).pdf', 'file_path': 'hms/fhl_2014_Charifson_34622 (1).pdf', 'page': 14, 'total_pages': 19, 'format': 'PDF 1.5', 'title': '', 'author': 'David', 'subject': '', 'keywords': '', 'creator': 'Microsoft® Office Word 2007', 'producer': 'Microsoft® Office Word 2007', 'creationDate': \"D:20140723120649-04'00'\", 'modDate': \"D:20140723120649-04'00'\", 'trapped': ''}),\n",
       "  1.0802817344665527)]"
      ]
     },
     "execution_count": 23,
     "metadata": {},
     "output_type": "execute_result"
    }
   ],
   "source": [
    "query7 = \"In what habitat were the species found?\"\n",
    "\n",
    "vs2.similarity_search_with_score(query7, k=4)"
   ]
  },
  {
   "cell_type": "code",
   "execution_count": 24,
   "id": "2749dbd7",
   "metadata": {
    "scrolled": true
   },
   "outputs": [
    {
     "data": {
      "text/plain": [
       "[(Document(page_content='##f, f. j. 2011. biometry. 4th ed. w. h. freeman, new york, new york, usa. stuart, y. e. and losos, j. b. 2013. ecological character displacement : glass half full or half empty? trends in ecology and evolution 28 : 402 - 408.', metadata={'source': 'hms/fhl_2014_Charifson_34622 (1).pdf', 'file_path': 'hms/fhl_2014_Charifson_34622 (1).pdf', 'page': 10, 'total_pages': 19, 'format': 'PDF 1.5', 'title': '', 'author': 'David', 'subject': '', 'keywords': '', 'creator': 'Microsoft® Office Word 2007', 'producer': 'Microsoft® Office Word 2007', 'creationDate': \"D:20140723120649-04'00'\", 'modDate': \"D:20140723120649-04'00'\", 'trapped': ''}),\n",
       "  1.0603522062301636),\n",
       " (Document(page_content='waterand in finer sediment than the more desiccation - tolerant h. nudus ( sliger 1982 ). there is still considerable habitat overlap between these two species ; the underside of a single rock may have', metadata={'source': 'hms/fhl_2014_Charifson_34622 (1).pdf', 'file_path': 'hms/fhl_2014_Charifson_34622 (1).pdf', 'page': 1, 'total_pages': 19, 'format': 'PDF 1.5', 'title': '', 'author': 'David', 'subject': '', 'keywords': '', 'creator': 'Microsoft® Office Word 2007', 'producer': 'Microsoft® Office Word 2007', 'creationDate': \"D:20140723120649-04'00'\", 'modDate': \"D:20140723120649-04'00'\", 'trapped': ''}),\n",
       "  1.0874381065368652),\n",
       " (Document(page_content='charifson 17 figure 3 : differences in propal height : carapace width ratio between sex and species. the sex factor was statistically significant ( f = 125. 6. p < 0. 001 ), while the species factor was insignificant ( f > 0. 01, p = 0. 983 ). there was a significant interaction ( f = 4. 39, p = 0. 042 ). error bars represent standard error of the mean. 0 0. 05 0. 1 0. 15 0. 2 0. 25 0. 3 0. 35 h. nudus h. oregonensis propal height : carapace width crab species female male', metadata={'source': 'hms/fhl_2014_Charifson_34622 (1).pdf', 'file_path': 'hms/fhl_2014_Charifson_34622 (1).pdf', 'page': 16, 'total_pages': 19, 'format': 'PDF 1.5', 'title': '', 'author': 'David', 'subject': '', 'keywords': '', 'creator': 'Microsoft® Office Word 2007', 'producer': 'Microsoft® Office Word 2007', 'creationDate': \"D:20140723120649-04'00'\", 'modDate': \"D:20140723120649-04'00'\", 'trapped': ''}),\n",
       "  1.1357213258743286),\n",
       " (Document(page_content='charifson 18 figure 4 : differences in propal width : carapace width ratio between sex and species. the sex factor was statistically significant ( f1, 45 = 103. 8. p < 0. 001 ), while the species factor was insignificant ( f1, 45 = 0. 09, p = 0. 764 ). there was a significant interaction ( f1, 45 = 7. 19, p = 0. 01 ). error bars represent standard error of the mean. 0 0. 05 0. 1 0. 15 0. 2 0. 25 h. nudus h. oregonensis propal widtht : carapace width crab species female male', metadata={'source': 'hms/fhl_2014_Charifson_34622 (1).pdf', 'file_path': 'hms/fhl_2014_Charifson_34622 (1).pdf', 'page': 17, 'total_pages': 19, 'format': 'PDF 1.5', 'title': '', 'author': 'David', 'subject': '', 'keywords': '', 'creator': 'Microsoft® Office Word 2007', 'producer': 'Microsoft® Office Word 2007', 'creationDate': \"D:20140723120649-04'00'\", 'modDate': \"D:20140723120649-04'00'\", 'trapped': ''}),\n",
       "  1.1512439250946045)]"
      ]
     },
     "execution_count": 24,
     "metadata": {},
     "output_type": "execute_result"
    }
   ],
   "source": [
    "query8 = \"Does the paper mention a year, date and/or time that species were collected or observed, and if so, what was mentioned?\"\n",
    "\n",
    "vs2.similarity_search_with_score(query8, k=4)"
   ]
  },
  {
   "cell_type": "code",
   "execution_count": 37,
   "id": "74e0a71c",
   "metadata": {},
   "outputs": [
    {
     "data": {
      "text/plain": [
       "[(Document(page_content='to right sides of the propus. all claw measurements were made on the left cheliped.', metadata={'source': 'hms/fhl_2014_Charifson_34622 (1).pdf', 'file_path': 'hms/fhl_2014_Charifson_34622 (1).pdf', 'page': 3, 'total_pages': 19, 'format': 'PDF 1.5', 'title': '', 'author': 'David', 'subject': '', 'keywords': '', 'creator': 'Microsoft® Office Word 2007', 'producer': 'Microsoft® Office Word 2007', 'creationDate': \"D:20140723120649-04'00'\", 'modDate': \"D:20140723120649-04'00'\", 'trapped': ''}),\n",
       "  1.2532789707183838),\n",
       " (Document(page_content='waterand in finer sediment than the more desiccation - tolerant h. nudus ( sliger 1982 ). there is still considerable habitat overlap between these two species ; the underside of a single rock may have', metadata={'source': 'hms/fhl_2014_Charifson_34622 (1).pdf', 'file_path': 'hms/fhl_2014_Charifson_34622 (1).pdf', 'page': 1, 'total_pages': 19, 'format': 'PDF 1.5', 'title': '', 'author': 'David', 'subject': '', 'keywords': '', 'creator': 'Microsoft® Office Word 2007', 'producer': 'Microsoft® Office Word 2007', 'creationDate': \"D:20140723120649-04'00'\", 'modDate': \"D:20140723120649-04'00'\", 'trapped': ''}),\n",
       "  1.3255820274353027),\n",
       " (Document(page_content='charifson 15 figure 1 : relationship of carapace width and propal height in hemigrapsus. line of best fit from sma regression. see table 1a for descriptive statistics. a ) female h. nudus. b ) male h. nudus. c ) female h. oregonensis. d ) male h. oregonensis.', metadata={'source': 'hms/fhl_2014_Charifson_34622 (1).pdf', 'file_path': 'hms/fhl_2014_Charifson_34622 (1).pdf', 'page': 14, 'total_pages': 19, 'format': 'PDF 1.5', 'title': '', 'author': 'David', 'subject': '', 'keywords': '', 'creator': 'Microsoft® Office Word 2007', 'producer': 'Microsoft® Office Word 2007', 'creationDate': \"D:20140723120649-04'00'\", 'modDate': \"D:20140723120649-04'00'\", 'trapped': ''}),\n",
       "  1.362636685371399),\n",
       " (Document(page_content='##f, f. j. 2011. biometry. 4th ed. w. h. freeman, new york, new york, usa. stuart, y. e. and losos, j. b. 2013. ecological character displacement : glass half full or half empty? trends in ecology and evolution 28 : 402 - 408.', metadata={'source': 'hms/fhl_2014_Charifson_34622 (1).pdf', 'file_path': 'hms/fhl_2014_Charifson_34622 (1).pdf', 'page': 10, 'total_pages': 19, 'format': 'PDF 1.5', 'title': '', 'author': 'David', 'subject': '', 'keywords': '', 'creator': 'Microsoft® Office Word 2007', 'producer': 'Microsoft® Office Word 2007', 'creationDate': \"D:20140723120649-04'00'\", 'modDate': \"D:20140723120649-04'00'\", 'trapped': ''}),\n",
       "  1.3639099597930908)]"
      ]
     },
     "execution_count": 37,
     "metadata": {},
     "output_type": "execute_result"
    }
   ],
   "source": [
    "query9 = \"Can you give a more specific location?\"\n",
    "\n",
    "vs2.similarity_search_with_score(query9, k=4)"
   ]
  },
  {
   "cell_type": "code",
   "execution_count": 38,
   "id": "0430f23f",
   "metadata": {},
   "outputs": [
    {
     "data": {
      "text/plain": [
       "[(Document(page_content='waterand in finer sediment than the more desiccation - tolerant h. nudus ( sliger 1982 ). there is still considerable habitat overlap between these two species ; the underside of a single rock may have', metadata={'source': 'hms/fhl_2014_Charifson_34622 (1).pdf', 'file_path': 'hms/fhl_2014_Charifson_34622 (1).pdf', 'page': 1, 'total_pages': 19, 'format': 'PDF 1.5', 'title': '', 'author': 'David', 'subject': '', 'keywords': '', 'creator': 'Microsoft® Office Word 2007', 'producer': 'Microsoft® Office Word 2007', 'creationDate': \"D:20140723120649-04'00'\", 'modDate': \"D:20140723120649-04'00'\", 'trapped': ''}),\n",
       "  0.9531382322311401),\n",
       " (Document(page_content='##f, f. j. 2011. biometry. 4th ed. w. h. freeman, new york, new york, usa. stuart, y. e. and losos, j. b. 2013. ecological character displacement : glass half full or half empty? trends in ecology and evolution 28 : 402 - 408.', metadata={'source': 'hms/fhl_2014_Charifson_34622 (1).pdf', 'file_path': 'hms/fhl_2014_Charifson_34622 (1).pdf', 'page': 10, 'total_pages': 19, 'format': 'PDF 1.5', 'title': '', 'author': 'David', 'subject': '', 'keywords': '', 'creator': 'Microsoft® Office Word 2007', 'producer': 'Microsoft® Office Word 2007', 'creationDate': \"D:20140723120649-04'00'\", 'modDate': \"D:20140723120649-04'00'\", 'trapped': ''}),\n",
       "  0.9748102426528931),\n",
       " (Document(page_content='vincta in the field. it should be noted that h. nudus and la. vincta usually occupy different portions of the intertidal and may have little contact with each other, unlike the relationship between h. nudus and li. scutulata. there is some potential for overlap in the winter when la. vincta migrates up shore. although no differences in consumption rates between male and female h. nudus were found, this might be', metadata={'source': 'hms/fhl_2014_Charifson_34622 (1).pdf', 'file_path': 'hms/fhl_2014_Charifson_34622 (1).pdf', 'page': 8, 'total_pages': 19, 'format': 'PDF 1.5', 'title': '', 'author': 'David', 'subject': '', 'keywords': '', 'creator': 'Microsoft® Office Word 2007', 'producer': 'Microsoft® Office Word 2007', 'creationDate': \"D:20140723120649-04'00'\", 'modDate': \"D:20140723120649-04'00'\", 'trapped': ''}),\n",
       "  1.044095516204834),\n",
       " (Document(page_content='charifson 15 figure 1 : relationship of carapace width and propal height in hemigrapsus. line of best fit from sma regression. see table 1a for descriptive statistics. a ) female h. nudus. b ) male h. nudus. c ) female h. oregonensis. d ) male h. oregonensis.', metadata={'source': 'hms/fhl_2014_Charifson_34622 (1).pdf', 'file_path': 'hms/fhl_2014_Charifson_34622 (1).pdf', 'page': 14, 'total_pages': 19, 'format': 'PDF 1.5', 'title': '', 'author': 'David', 'subject': '', 'keywords': '', 'creator': 'Microsoft® Office Word 2007', 'producer': 'Microsoft® Office Word 2007', 'creationDate': \"D:20140723120649-04'00'\", 'modDate': \"D:20140723120649-04'00'\", 'trapped': ''}),\n",
       "  1.0802817344665527)]"
      ]
     },
     "execution_count": 38,
     "metadata": {},
     "output_type": "execute_result"
    }
   ],
   "source": [
    "query10 = \"In what habitat were the species found?\"\n",
    "\n",
    "vs2.similarity_search_with_score(query10, k=4)"
   ]
  },
  {
   "cell_type": "code",
   "execution_count": 39,
   "id": "fefed6f4",
   "metadata": {},
   "outputs": [
    {
     "data": {
      "text/plain": [
       "[(Document(page_content='to right sides of the propus. all claw measurements were made on the left cheliped.', metadata={'source': 'hms/fhl_2014_Charifson_34622 (1).pdf', 'file_path': 'hms/fhl_2014_Charifson_34622 (1).pdf', 'page': 3, 'total_pages': 19, 'format': 'PDF 1.5', 'title': '', 'author': 'David', 'subject': '', 'keywords': '', 'creator': 'Microsoft® Office Word 2007', 'producer': 'Microsoft® Office Word 2007', 'creationDate': \"D:20140723120649-04'00'\", 'modDate': \"D:20140723120649-04'00'\", 'trapped': ''}),\n",
       "  1.2676454782485962),\n",
       " (Document(page_content='charifson 15 figure 1 : relationship of carapace width and propal height in hemigrapsus. line of best fit from sma regression. see table 1a for descriptive statistics. a ) female h. nudus. b ) male h. nudus. c ) female h. oregonensis. d ) male h. oregonensis.', metadata={'source': 'hms/fhl_2014_Charifson_34622 (1).pdf', 'file_path': 'hms/fhl_2014_Charifson_34622 (1).pdf', 'page': 14, 'total_pages': 19, 'format': 'PDF 1.5', 'title': '', 'author': 'David', 'subject': '', 'keywords': '', 'creator': 'Microsoft® Office Word 2007', 'producer': 'Microsoft® Office Word 2007', 'creationDate': \"D:20140723120649-04'00'\", 'modDate': \"D:20140723120649-04'00'\", 'trapped': ''}),\n",
       "  1.3674745559692383),\n",
       " (Document(page_content='charifson 16 figure 2 : relationship of carapace width and propal width in hemigrapsus. line of best fit from sma regression. see table 1b for descriptive statistics. a ) female h. nudus. b ) male h. nudus. c ) female h. oregonensis. d ) male h. oregonensis.', metadata={'source': 'hms/fhl_2014_Charifson_34622 (1).pdf', 'file_path': 'hms/fhl_2014_Charifson_34622 (1).pdf', 'page': 15, 'total_pages': 19, 'format': 'PDF 1.5', 'title': '', 'author': 'David', 'subject': '', 'keywords': '', 'creator': 'Microsoft® Office Word 2007', 'producer': 'Microsoft® Office Word 2007', 'creationDate': \"D:20140723120649-04'00'\", 'modDate': \"D:20140723120649-04'00'\", 'trapped': ''}),\n",
       "  1.3696166276931763),\n",
       " (Document(page_content='and rohlf 2011 ). differences in cw : ph and cw : pw were analyzed using a two - way anova', metadata={'source': 'hms/fhl_2014_Charifson_34622 (1).pdf', 'file_path': 'hms/fhl_2014_Charifson_34622 (1).pdf', 'page': 4, 'total_pages': 19, 'format': 'PDF 1.5', 'title': '', 'author': 'David', 'subject': '', 'keywords': '', 'creator': 'Microsoft® Office Word 2007', 'producer': 'Microsoft® Office Word 2007', 'creationDate': \"D:20140723120649-04'00'\", 'modDate': \"D:20140723120649-04'00'\", 'trapped': ''}),\n",
       "  1.381576418876648)]"
      ]
     },
     "execution_count": 39,
     "metadata": {},
     "output_type": "execute_result"
    }
   ],
   "source": [
    "query11 = \"Are any coordinate locations given in latitude / longitude, and if so, what are they?\"\n",
    "\n",
    "vs2.similarity_search_with_score(query11, k=4)"
   ]
  },
  {
   "cell_type": "code",
   "execution_count": 40,
   "id": "7b78ff4c",
   "metadata": {},
   "outputs": [
    {
     "data": {
      "text/plain": [
       "[(Document(page_content='to right sides of the propus. all claw measurements were made on the left cheliped.', metadata={'source': 'hms/fhl_2014_Charifson_34622 (1).pdf', 'file_path': 'hms/fhl_2014_Charifson_34622 (1).pdf', 'page': 3, 'total_pages': 19, 'format': 'PDF 1.5', 'title': '', 'author': 'David', 'subject': '', 'keywords': '', 'creator': 'Microsoft® Office Word 2007', 'producer': 'Microsoft® Office Word 2007', 'creationDate': \"D:20140723120649-04'00'\", 'modDate': \"D:20140723120649-04'00'\", 'trapped': ''}),\n",
       "  1.3229398727416992),\n",
       " (Document(page_content='charifson 16 figure 2 : relationship of carapace width and propal width in hemigrapsus. line of best fit from sma regression. see table 1b for descriptive statistics. a ) female h. nudus. b ) male h. nudus. c ) female h. oregonensis. d ) male h. oregonensis.', metadata={'source': 'hms/fhl_2014_Charifson_34622 (1).pdf', 'file_path': 'hms/fhl_2014_Charifson_34622 (1).pdf', 'page': 15, 'total_pages': 19, 'format': 'PDF 1.5', 'title': '', 'author': 'David', 'subject': '', 'keywords': '', 'creator': 'Microsoft® Office Word 2007', 'producer': 'Microsoft® Office Word 2007', 'creationDate': \"D:20140723120649-04'00'\", 'modDate': \"D:20140723120649-04'00'\", 'trapped': ''}),\n",
       "  1.3319050073623657),\n",
       " (Document(page_content='charifson 15 figure 1 : relationship of carapace width and propal height in hemigrapsus. line of best fit from sma regression. see table 1a for descriptive statistics. a ) female h. nudus. b ) male h. nudus. c ) female h. oregonensis. d ) male h. oregonensis.', metadata={'source': 'hms/fhl_2014_Charifson_34622 (1).pdf', 'file_path': 'hms/fhl_2014_Charifson_34622 (1).pdf', 'page': 14, 'total_pages': 19, 'format': 'PDF 1.5', 'title': '', 'author': 'David', 'subject': '', 'keywords': '', 'creator': 'Microsoft® Office Word 2007', 'producer': 'Microsoft® Office Word 2007', 'creationDate': \"D:20140723120649-04'00'\", 'modDate': \"D:20140723120649-04'00'\", 'trapped': ''}),\n",
       "  1.3328725099563599),\n",
       " (Document(page_content='charifson 13 table 1 : sma regressions of carapace width and propus measures. a ) the relationship between carapace width and propal height. x is carapace width and y is propal height. b ) the relationship between carapace width and propal height. x is carapace width and y is propal width. sma regression a n carapace width vs propal height r2 female h. nudus 13 y = 0. 273 * x - 0. 678 0. 976 male h. nudus 13 y = 0. 311 * x - 1. 385 0. 868 female h. oregonensis 9 y = 0. 351 * x - 0. 833 0. 894 male h. oregonensis 14 y = 0. 39 * x - 1. 149 0. 693 sma regression b n carapace width vs propal width r2 female h. nudus 13 y = 0. 157 * x - 0. 386 0. 927 male h. nudus 13 y = 0. 209 * x - 1. 288 0. 859 female h. oregonensis 9 y = 0. 175 * x + 0. 037 0. 724 male h. oregonensis 14 y = 0. 244 * x - 0. 688 0. 534', metadata={'source': 'hms/fhl_2014_Charifson_34622 (1).pdf', 'file_path': 'hms/fhl_2014_Charifson_34622 (1).pdf', 'page': 12, 'total_pages': 19, 'format': 'PDF 1.5', 'title': '', 'author': 'David', 'subject': '', 'keywords': '', 'creator': 'Microsoft® Office Word 2007', 'producer': 'Microsoft® Office Word 2007', 'creationDate': \"D:20140723120649-04'00'\", 'modDate': \"D:20140723120649-04'00'\", 'trapped': ''}),\n",
       "  1.3340879678726196)]"
      ]
     },
     "execution_count": 40,
     "metadata": {},
     "output_type": "execute_result"
    }
   ],
   "source": [
    "query12 = \"Are there any maps, figures, tables or diagrams in the paper??\"\n",
    "\n",
    "vs2.similarity_search_with_score(query12, k=4)"
   ]
  },
  {
   "cell_type": "markdown",
   "id": "45eda0af",
   "metadata": {},
   "source": [
    "# MultiQueryRetriever\n",
    "\n",
    "The MultiQueryRetriever automates the process of prompt tuning by using an LLM to generate multiple queries from different perspectives for a given user input query. For each query, it retrieves a set of relevant documents and takes the unique union across all queries to get a larger set of potentially relevant documents. By generating multiple perspectives on the same question, the MultiQueryRetriever might be able to overcome some of the limitations of the distance-based retrieval and get a richer set of results.\n",
    "\n",
    "\n",
    "Distance-based vector database retrieval embeds (represents) queries in high-dimensional space and finds similar embedded documents based on \"distance\". But, retrieval may produce difference results with subtle changes in query wording or if the embeddings do not capture the semantics of the data well. Prompt engineering / tuning is sometimes done to manually address these problems, but can be tedious."
   ]
  },
  {
   "cell_type": "markdown",
   "id": "f3d41eb7",
   "metadata": {},
   "source": [
    "### Supplying own Prompt"
   ]
  },
  {
   "cell_type": "code",
   "execution_count": 41,
   "id": "8aab30eb",
   "metadata": {},
   "outputs": [],
   "source": [
    "#Set up logging for the queries\n",
    "\n",
    "logging.basicConfig()\n",
    "logging.getLogger(\"langchain.retrievers.multi_query\").setLevel(logging.INFO)"
   ]
  },
  {
   "cell_type": "code",
   "execution_count": 42,
   "id": "588f5498",
   "metadata": {},
   "outputs": [],
   "source": [
    "# Output parser will split the LLM result into a list of queries\n",
    "class LineList(BaseModel):\n",
    "    # \"lines\" is the key (attribute name) of the parsed output\n",
    "    lines: List[str] = Field(description=\"Lines of text\")\n",
    "\n",
    "\n",
    "class LineListOutputParser(PydanticOutputParser):\n",
    "    def __init__(self) -> None:\n",
    "        super().__init__(pydantic_object=LineList)\n",
    "\n",
    "    def parse(self, text: str) -> LineList:\n",
    "        lines = text.strip().split(\"\\n\")\n",
    "        return LineList(lines=lines)\n",
    "\n",
    "\n",
    "output_parser = LineListOutputParser()"
   ]
  },
  {
   "cell_type": "code",
   "execution_count": 43,
   "id": "30c9e84c",
   "metadata": {},
   "outputs": [],
   "source": [
    "llm = ChatOpenAI(temperature=0)\n",
    "\n",
    "retriever_from_llm = MultiQueryRetriever.from_llm(\n",
    "    retriever=vs2.as_retriever(), llm=llm\n",
    ")"
   ]
  },
  {
   "cell_type": "code",
   "execution_count": 44,
   "id": "5fd51988",
   "metadata": {},
   "outputs": [
    {
     "name": "stderr",
     "output_type": "stream",
     "text": [
      "INFO:langchain.retrievers.multi_query:Generated queries: ['1. Can you provide a summary of the content in the paper?', '2. Could you give me an overview of the main topics covered in the paper?', '3. What are the key themes or subjects discussed in the paper?']\n"
     ]
    },
    {
     "data": {
      "text/plain": [
       "[Document(page_content='and rohlf 2011 ). differences in cw : ph and cw : pw were analyzed using a two - way anova', metadata={'source': 'hms/fhl_2014_Charifson_34622 (1).pdf', 'file_path': 'hms/fhl_2014_Charifson_34622 (1).pdf', 'page': 4, 'total_pages': 19, 'format': 'PDF 1.5', 'title': '', 'author': 'David', 'subject': '', 'keywords': '', 'creator': 'Microsoft® Office Word 2007', 'producer': 'Microsoft® Office Word 2007', 'creationDate': \"D:20140723120649-04'00'\", 'modDate': \"D:20140723120649-04'00'\", 'trapped': ''}),\n",
       " Document(page_content='charifson 13 table 1 : sma regressions of carapace width and propus measures. a ) the relationship between carapace width and propal height. x is carapace width and y is propal height. b ) the relationship between carapace width and propal height. x is carapace width and y is propal width. sma regression a n carapace width vs propal height r2 female h. nudus 13 y = 0. 273 * x - 0. 678 0. 976 male h. nudus 13 y = 0. 311 * x - 1. 385 0. 868 female h. oregonensis 9 y = 0. 351 * x - 0. 833 0. 894 male h. oregonensis 14 y = 0. 39 * x - 1. 149 0. 693 sma regression b n carapace width vs propal width r2 female h. nudus 13 y = 0. 157 * x - 0. 386 0. 927 male h. nudus 13 y = 0. 209 * x - 1. 288 0. 859 female h. oregonensis 9 y = 0. 175 * x + 0. 037 0. 724 male h. oregonensis 14 y = 0. 244 * x - 0. 688 0. 534', metadata={'source': 'hms/fhl_2014_Charifson_34622 (1).pdf', 'file_path': 'hms/fhl_2014_Charifson_34622 (1).pdf', 'page': 12, 'total_pages': 19, 'format': 'PDF 1.5', 'title': '', 'author': 'David', 'subject': '', 'keywords': '', 'creator': 'Microsoft® Office Word 2007', 'producer': 'Microsoft® Office Word 2007', 'creationDate': \"D:20140723120649-04'00'\", 'modDate': \"D:20140723120649-04'00'\", 'trapped': ''}),\n",
       " Document(page_content='##f, f. j. 2011. biometry. 4th ed. w. h. freeman, new york, new york, usa. stuart, y. e. and losos, j. b. 2013. ecological character displacement : glass half full or half empty? trends in ecology and evolution 28 : 402 - 408.', metadata={'source': 'hms/fhl_2014_Charifson_34622 (1).pdf', 'file_path': 'hms/fhl_2014_Charifson_34622 (1).pdf', 'page': 10, 'total_pages': 19, 'format': 'PDF 1.5', 'title': '', 'author': 'David', 'subject': '', 'keywords': '', 'creator': 'Microsoft® Office Word 2007', 'producer': 'Microsoft® Office Word 2007', 'creationDate': \"D:20140723120649-04'00'\", 'modDate': \"D:20140723120649-04'00'\", 'trapped': ''}),\n",
       " Document(page_content='charifson 19 figure 5 : consumption rates by individual h. nudus. mean consumption rates ( n = 8 trials ) of 3 female ( fe1 to fe3 ) and 3 male ( ma1 to ma3 ) h. nudus. crabs fe1, fe3, and ma3 did not consume snails. the individuals that eat snails did not differ in their consumption rates ( f2, 21 = 2. 52, p = 0. 104 ). error bars represent standard error of the mean. 0 0. 1 0. 2 0. 3 0. 4 0. 5 0. 6 0. 7 0. 8 0. 9 1 fe1 fe2 fe3 ma1 ma2 ma3 mean consumption rate ( snails consumed / hour ) individual h. nudus', metadata={'source': 'hms/fhl_2014_Charifson_34622 (1).pdf', 'file_path': 'hms/fhl_2014_Charifson_34622 (1).pdf', 'page': 18, 'total_pages': 19, 'format': 'PDF 1.5', 'title': '', 'author': 'David', 'subject': '', 'keywords': '', 'creator': 'Microsoft® Office Word 2007', 'producer': 'Microsoft® Office Word 2007', 'creationDate': \"D:20140723120649-04'00'\", 'modDate': \"D:20140723120649-04'00'\", 'trapped': ''})]"
      ]
     },
     "execution_count": 44,
     "metadata": {},
     "output_type": "execute_result"
    }
   ],
   "source": [
    "retriever_from_llm.get_relevant_documents(query = query)"
   ]
  },
  {
   "cell_type": "code",
   "execution_count": 45,
   "id": "8345dcdf",
   "metadata": {},
   "outputs": [
    {
     "name": "stderr",
     "output_type": "stream",
     "text": [
      "INFO:langchain.retrievers.multi_query:Generated queries: ['1. Can you provide me with the scientific names of the species discussed in this paper?', \"2. I'm interested in knowing the scientific names of the species mentioned in this paper. Could you help me with that?\", '3. Could you please list the scientific names of the species that are referenced in this paper?']\n"
     ]
    },
    {
     "data": {
      "text/plain": [
       "[Document(page_content='waterand in finer sediment than the more desiccation - tolerant h. nudus ( sliger 1982 ). there is still considerable habitat overlap between these two species ; the underside of a single rock may have', metadata={'source': 'hms/fhl_2014_Charifson_34622 (1).pdf', 'file_path': 'hms/fhl_2014_Charifson_34622 (1).pdf', 'page': 1, 'total_pages': 19, 'format': 'PDF 1.5', 'title': '', 'author': 'David', 'subject': '', 'keywords': '', 'creator': 'Microsoft® Office Word 2007', 'producer': 'Microsoft® Office Word 2007', 'creationDate': \"D:20140723120649-04'00'\", 'modDate': \"D:20140723120649-04'00'\", 'trapped': ''}),\n",
       " Document(page_content='charifson 15 figure 1 : relationship of carapace width and propal height in hemigrapsus. line of best fit from sma regression. see table 1a for descriptive statistics. a ) female h. nudus. b ) male h. nudus. c ) female h. oregonensis. d ) male h. oregonensis.', metadata={'source': 'hms/fhl_2014_Charifson_34622 (1).pdf', 'file_path': 'hms/fhl_2014_Charifson_34622 (1).pdf', 'page': 14, 'total_pages': 19, 'format': 'PDF 1.5', 'title': '', 'author': 'David', 'subject': '', 'keywords': '', 'creator': 'Microsoft® Office Word 2007', 'producer': 'Microsoft® Office Word 2007', 'creationDate': \"D:20140723120649-04'00'\", 'modDate': \"D:20140723120649-04'00'\", 'trapped': ''}),\n",
       " Document(page_content='##f, f. j. 2011. biometry. 4th ed. w. h. freeman, new york, new york, usa. stuart, y. e. and losos, j. b. 2013. ecological character displacement : glass half full or half empty? trends in ecology and evolution 28 : 402 - 408.', metadata={'source': 'hms/fhl_2014_Charifson_34622 (1).pdf', 'file_path': 'hms/fhl_2014_Charifson_34622 (1).pdf', 'page': 10, 'total_pages': 19, 'format': 'PDF 1.5', 'title': '', 'author': 'David', 'subject': '', 'keywords': '', 'creator': 'Microsoft® Office Word 2007', 'producer': 'Microsoft® Office Word 2007', 'creationDate': \"D:20140723120649-04'00'\", 'modDate': \"D:20140723120649-04'00'\", 'trapped': ''}),\n",
       " Document(page_content='charifson 16 figure 2 : relationship of carapace width and propal width in hemigrapsus. line of best fit from sma regression. see table 1b for descriptive statistics. a ) female h. nudus. b ) male h. nudus. c ) female h. oregonensis. d ) male h. oregonensis.', metadata={'source': 'hms/fhl_2014_Charifson_34622 (1).pdf', 'file_path': 'hms/fhl_2014_Charifson_34622 (1).pdf', 'page': 15, 'total_pages': 19, 'format': 'PDF 1.5', 'title': '', 'author': 'David', 'subject': '', 'keywords': '', 'creator': 'Microsoft® Office Word 2007', 'producer': 'Microsoft® Office Word 2007', 'creationDate': \"D:20140723120649-04'00'\", 'modDate': \"D:20140723120649-04'00'\", 'trapped': ''})]"
      ]
     },
     "execution_count": 45,
     "metadata": {},
     "output_type": "execute_result"
    }
   ],
   "source": [
    "retriever_from_llm.get_relevant_documents(query= query2)"
   ]
  },
  {
   "cell_type": "code",
   "execution_count": 46,
   "id": "040983e8",
   "metadata": {
    "scrolled": true
   },
   "outputs": [
    {
     "name": "stderr",
     "output_type": "stream",
     "text": [
      "INFO:langchain.retrievers.multi_query:Generated queries: ['1. Is there any research in this paper that involves observations or experiments conducted in the natural environment or with organisms collected from nature?', '2. Are there any sections in this paper that discuss observational or experimental research carried out in the natural environment or with organisms collected in nature?', '3. Does this paper include any information about research conducted in the natural environment or with organisms collected from nature, either through observations or experiments?']\n"
     ]
    },
    {
     "data": {
      "text/plain": [
       "[Document(page_content='##f, f. j. 2011. biometry. 4th ed. w. h. freeman, new york, new york, usa. stuart, y. e. and losos, j. b. 2013. ecological character displacement : glass half full or half empty? trends in ecology and evolution 28 : 402 - 408.', metadata={'source': 'hms/fhl_2014_Charifson_34622 (1).pdf', 'file_path': 'hms/fhl_2014_Charifson_34622 (1).pdf', 'page': 10, 'total_pages': 19, 'format': 'PDF 1.5', 'title': '', 'author': 'David', 'subject': '', 'keywords': '', 'creator': 'Microsoft® Office Word 2007', 'producer': 'Microsoft® Office Word 2007', 'creationDate': \"D:20140723120649-04'00'\", 'modDate': \"D:20140723120649-04'00'\", 'trapped': ''}),\n",
       " Document(page_content='charifson 19 figure 5 : consumption rates by individual h. nudus. mean consumption rates ( n = 8 trials ) of 3 female ( fe1 to fe3 ) and 3 male ( ma1 to ma3 ) h. nudus. crabs fe1, fe3, and ma3 did not consume snails. the individuals that eat snails did not differ in their consumption rates ( f2, 21 = 2. 52, p = 0. 104 ). error bars represent standard error of the mean. 0 0. 1 0. 2 0. 3 0. 4 0. 5 0. 6 0. 7 0. 8 0. 9 1 fe1 fe2 fe3 ma1 ma2 ma3 mean consumption rate ( snails consumed / hour ) individual h. nudus', metadata={'source': 'hms/fhl_2014_Charifson_34622 (1).pdf', 'file_path': 'hms/fhl_2014_Charifson_34622 (1).pdf', 'page': 18, 'total_pages': 19, 'format': 'PDF 1.5', 'title': '', 'author': 'David', 'subject': '', 'keywords': '', 'creator': 'Microsoft® Office Word 2007', 'producer': 'Microsoft® Office Word 2007', 'creationDate': \"D:20140723120649-04'00'\", 'modDate': \"D:20140723120649-04'00'\", 'trapped': ''}),\n",
       " Document(page_content='waterand in finer sediment than the more desiccation - tolerant h. nudus ( sliger 1982 ). there is still considerable habitat overlap between these two species ; the underside of a single rock may have', metadata={'source': 'hms/fhl_2014_Charifson_34622 (1).pdf', 'file_path': 'hms/fhl_2014_Charifson_34622 (1).pdf', 'page': 1, 'total_pages': 19, 'format': 'PDF 1.5', 'title': '', 'author': 'David', 'subject': '', 'keywords': '', 'creator': 'Microsoft® Office Word 2007', 'producer': 'Microsoft® Office Word 2007', 'creationDate': \"D:20140723120649-04'00'\", 'modDate': \"D:20140723120649-04'00'\", 'trapped': ''}),\n",
       " Document(page_content='charifson 6 with factors : sex and species. prey selection by h. nudus was analyzed using g - tests for each individual that consumed snails. an one - way anova was used to determine differences in snail consumption rates by h. nudus. results : morphometrics : carapace width was a good predictor of both propal height ( figure 1, table 1a ) and propal width ( figure 2, table 1b ) in female and male h. oregonensis and h. nudus. there was less variation in the relationship between carapace width and propal height than with propal width. due to non - normality of cw : ph and cw : pw an arcsin transformation was used. a significant effect for sex was found for both cw : ph ( f1, 45 = 125. 6, p < 0. 001 ) and cw : pw ( f1, 45 = 103. 81, p < 0. 001 ). there was no significant difference between hemigrapsus species for cw : ph ( f1, 45 < 0. 01, p = 0. 983 ) and cw : pw ( f1, 45 = 0. 09, p = 0. 764 ). a significant sex * species interaction was detected for both cw : ph ( f1, 45 4. 39, p = 0. 042 ) and cw : pw ( f1, 45 = 7. 19, p = 0. 010 ). figure 3 and 4 show the means of cw : ph and cw : pw in by sex and species respectively. crab feeding preference : expected values for both the number of l. scutulata and l. vincta consumed for the g - test are 0. 5 multiplied by the total number of snails consumed by each individual crab. g - tests for individual h. nudus that eat snails were all significant at p <', metadata={'source': 'hms/fhl_2014_Charifson_34622 (1).pdf', 'file_path': 'hms/fhl_2014_Charifson_34622 (1).pdf', 'page': 5, 'total_pages': 19, 'format': 'PDF 1.5', 'title': '', 'author': 'David', 'subject': '', 'keywords': '', 'creator': 'Microsoft® Office Word 2007', 'producer': 'Microsoft® Office Word 2007', 'creationDate': \"D:20140723120649-04'00'\", 'modDate': \"D:20140723120649-04'00'\", 'trapped': ''})]"
      ]
     },
     "execution_count": 46,
     "metadata": {},
     "output_type": "execute_result"
    }
   ],
   "source": [
    "retriever_from_llm.get_relevant_documents(query= query3)"
   ]
  },
  {
   "cell_type": "code",
   "execution_count": 47,
   "id": "a711aaf6",
   "metadata": {
    "scrolled": true
   },
   "outputs": [
    {
     "name": "stderr",
     "output_type": "stream",
     "text": [
      "INFO:langchain.retrievers.multi_query:Generated queries: ['1. Are there any mentions of observations in the paper, using terms such as \"in the field,\" \"this study,\" \"observed,\" \"taken,\" \"collected,\" \"sampled,\" \"collection,\" \"seen,\" \"harvested,\" \"found,\" etc.?', '2. Does the paper discuss any instances of observations, using terms like \"in the field,\" \"this study,\" \"observed,\" \"taken,\" \"collected,\" \"sampled,\" \"collection,\" \"seen,\" \"harvested,\" \"found,\" etc.?', '3. Are there any references to observations in the paper, using phrases such as \"in the field,\" \"this study,\" \"observed,\" \"taken,\" \"collected,\" \"sampled,\" \"collection,\" \"seen,\" \"harvested,\" \"found,\" etc.?']\n"
     ]
    },
    {
     "data": {
      "text/plain": [
       "[Document(page_content='and rohlf 2011 ). differences in cw : ph and cw : pw were analyzed using a two - way anova', metadata={'source': 'hms/fhl_2014_Charifson_34622 (1).pdf', 'file_path': 'hms/fhl_2014_Charifson_34622 (1).pdf', 'page': 4, 'total_pages': 19, 'format': 'PDF 1.5', 'title': '', 'author': 'David', 'subject': '', 'keywords': '', 'creator': 'Microsoft® Office Word 2007', 'producer': 'Microsoft® Office Word 2007', 'creationDate': \"D:20140723120649-04'00'\", 'modDate': \"D:20140723120649-04'00'\", 'trapped': ''}),\n",
       " Document(page_content='##f, f. j. 2011. biometry. 4th ed. w. h. freeman, new york, new york, usa. stuart, y. e. and losos, j. b. 2013. ecological character displacement : glass half full or half empty? trends in ecology and evolution 28 : 402 - 408.', metadata={'source': 'hms/fhl_2014_Charifson_34622 (1).pdf', 'file_path': 'hms/fhl_2014_Charifson_34622 (1).pdf', 'page': 10, 'total_pages': 19, 'format': 'PDF 1.5', 'title': '', 'author': 'David', 'subject': '', 'keywords': '', 'creator': 'Microsoft® Office Word 2007', 'producer': 'Microsoft® Office Word 2007', 'creationDate': \"D:20140723120649-04'00'\", 'modDate': \"D:20140723120649-04'00'\", 'trapped': ''}),\n",
       " Document(page_content='charifson 19 figure 5 : consumption rates by individual h. nudus. mean consumption rates ( n = 8 trials ) of 3 female ( fe1 to fe3 ) and 3 male ( ma1 to ma3 ) h. nudus. crabs fe1, fe3, and ma3 did not consume snails. the individuals that eat snails did not differ in their consumption rates ( f2, 21 = 2. 52, p = 0. 104 ). error bars represent standard error of the mean. 0 0. 1 0. 2 0. 3 0. 4 0. 5 0. 6 0. 7 0. 8 0. 9 1 fe1 fe2 fe3 ma1 ma2 ma3 mean consumption rate ( snails consumed / hour ) individual h. nudus', metadata={'source': 'hms/fhl_2014_Charifson_34622 (1).pdf', 'file_path': 'hms/fhl_2014_Charifson_34622 (1).pdf', 'page': 18, 'total_pages': 19, 'format': 'PDF 1.5', 'title': '', 'author': 'David', 'subject': '', 'keywords': '', 'creator': 'Microsoft® Office Word 2007', 'producer': 'Microsoft® Office Word 2007', 'creationDate': \"D:20140723120649-04'00'\", 'modDate': \"D:20140723120649-04'00'\", 'trapped': ''}),\n",
       " Document(page_content='charifson 13 table 1 : sma regressions of carapace width and propus measures. a ) the relationship between carapace width and propal height. x is carapace width and y is propal height. b ) the relationship between carapace width and propal height. x is carapace width and y is propal width. sma regression a n carapace width vs propal height r2 female h. nudus 13 y = 0. 273 * x - 0. 678 0. 976 male h. nudus 13 y = 0. 311 * x - 1. 385 0. 868 female h. oregonensis 9 y = 0. 351 * x - 0. 833 0. 894 male h. oregonensis 14 y = 0. 39 * x - 1. 149 0. 693 sma regression b n carapace width vs propal width r2 female h. nudus 13 y = 0. 157 * x - 0. 386 0. 927 male h. nudus 13 y = 0. 209 * x - 1. 288 0. 859 female h. oregonensis 9 y = 0. 175 * x + 0. 037 0. 724 male h. oregonensis 14 y = 0. 244 * x - 0. 688 0. 534', metadata={'source': 'hms/fhl_2014_Charifson_34622 (1).pdf', 'file_path': 'hms/fhl_2014_Charifson_34622 (1).pdf', 'page': 12, 'total_pages': 19, 'format': 'PDF 1.5', 'title': '', 'author': 'David', 'subject': '', 'keywords': '', 'creator': 'Microsoft® Office Word 2007', 'producer': 'Microsoft® Office Word 2007', 'creationDate': \"D:20140723120649-04'00'\", 'modDate': \"D:20140723120649-04'00'\", 'trapped': ''}),\n",
       " Document(page_content='vincta in the field. it should be noted that h. nudus and la. vincta usually occupy different portions of the intertidal and may have little contact with each other, unlike the relationship between h. nudus and li. scutulata. there is some potential for overlap in the winter when la. vincta migrates up shore. although no differences in consumption rates between male and female h. nudus were found, this might be', metadata={'source': 'hms/fhl_2014_Charifson_34622 (1).pdf', 'file_path': 'hms/fhl_2014_Charifson_34622 (1).pdf', 'page': 8, 'total_pages': 19, 'format': 'PDF 1.5', 'title': '', 'author': 'David', 'subject': '', 'keywords': '', 'creator': 'Microsoft® Office Word 2007', 'producer': 'Microsoft® Office Word 2007', 'creationDate': \"D:20140723120649-04'00'\", 'modDate': \"D:20140723120649-04'00'\", 'trapped': ''})]"
      ]
     },
     "execution_count": 47,
     "metadata": {},
     "output_type": "execute_result"
    }
   ],
   "source": [
    "retriever_from_llm.get_relevant_documents(query= query4)"
   ]
  },
  {
   "cell_type": "code",
   "execution_count": 48,
   "id": "5877245a",
   "metadata": {},
   "outputs": [
    {
     "name": "stderr",
     "output_type": "stream",
     "text": [
      "INFO:langchain.retrievers.multi_query:Generated queries: ['1. Is there any research in this paper that involves observations or experiments conducted in the natural environment or with organisms collected from nature?', '2. Are there any sections in this paper that discuss observational or experimental research carried out in the natural environment or with organisms collected in nature?', '3. Does this paper include any information about research conducted in the natural environment or with organisms collected from nature, either through observations or experiments?']\n"
     ]
    },
    {
     "data": {
      "text/plain": [
       "[Document(page_content='##f, f. j. 2011. biometry. 4th ed. w. h. freeman, new york, new york, usa. stuart, y. e. and losos, j. b. 2013. ecological character displacement : glass half full or half empty? trends in ecology and evolution 28 : 402 - 408.', metadata={'source': 'hms/fhl_2014_Charifson_34622 (1).pdf', 'file_path': 'hms/fhl_2014_Charifson_34622 (1).pdf', 'page': 10, 'total_pages': 19, 'format': 'PDF 1.5', 'title': '', 'author': 'David', 'subject': '', 'keywords': '', 'creator': 'Microsoft® Office Word 2007', 'producer': 'Microsoft® Office Word 2007', 'creationDate': \"D:20140723120649-04'00'\", 'modDate': \"D:20140723120649-04'00'\", 'trapped': ''}),\n",
       " Document(page_content='charifson 19 figure 5 : consumption rates by individual h. nudus. mean consumption rates ( n = 8 trials ) of 3 female ( fe1 to fe3 ) and 3 male ( ma1 to ma3 ) h. nudus. crabs fe1, fe3, and ma3 did not consume snails. the individuals that eat snails did not differ in their consumption rates ( f2, 21 = 2. 52, p = 0. 104 ). error bars represent standard error of the mean. 0 0. 1 0. 2 0. 3 0. 4 0. 5 0. 6 0. 7 0. 8 0. 9 1 fe1 fe2 fe3 ma1 ma2 ma3 mean consumption rate ( snails consumed / hour ) individual h. nudus', metadata={'source': 'hms/fhl_2014_Charifson_34622 (1).pdf', 'file_path': 'hms/fhl_2014_Charifson_34622 (1).pdf', 'page': 18, 'total_pages': 19, 'format': 'PDF 1.5', 'title': '', 'author': 'David', 'subject': '', 'keywords': '', 'creator': 'Microsoft® Office Word 2007', 'producer': 'Microsoft® Office Word 2007', 'creationDate': \"D:20140723120649-04'00'\", 'modDate': \"D:20140723120649-04'00'\", 'trapped': ''}),\n",
       " Document(page_content='waterand in finer sediment than the more desiccation - tolerant h. nudus ( sliger 1982 ). there is still considerable habitat overlap between these two species ; the underside of a single rock may have', metadata={'source': 'hms/fhl_2014_Charifson_34622 (1).pdf', 'file_path': 'hms/fhl_2014_Charifson_34622 (1).pdf', 'page': 1, 'total_pages': 19, 'format': 'PDF 1.5', 'title': '', 'author': 'David', 'subject': '', 'keywords': '', 'creator': 'Microsoft® Office Word 2007', 'producer': 'Microsoft® Office Word 2007', 'creationDate': \"D:20140723120649-04'00'\", 'modDate': \"D:20140723120649-04'00'\", 'trapped': ''}),\n",
       " Document(page_content='charifson 6 with factors : sex and species. prey selection by h. nudus was analyzed using g - tests for each individual that consumed snails. an one - way anova was used to determine differences in snail consumption rates by h. nudus. results : morphometrics : carapace width was a good predictor of both propal height ( figure 1, table 1a ) and propal width ( figure 2, table 1b ) in female and male h. oregonensis and h. nudus. there was less variation in the relationship between carapace width and propal height than with propal width. due to non - normality of cw : ph and cw : pw an arcsin transformation was used. a significant effect for sex was found for both cw : ph ( f1, 45 = 125. 6, p < 0. 001 ) and cw : pw ( f1, 45 = 103. 81, p < 0. 001 ). there was no significant difference between hemigrapsus species for cw : ph ( f1, 45 < 0. 01, p = 0. 983 ) and cw : pw ( f1, 45 = 0. 09, p = 0. 764 ). a significant sex * species interaction was detected for both cw : ph ( f1, 45 4. 39, p = 0. 042 ) and cw : pw ( f1, 45 = 7. 19, p = 0. 010 ). figure 3 and 4 show the means of cw : ph and cw : pw in by sex and species respectively. crab feeding preference : expected values for both the number of l. scutulata and l. vincta consumed for the g - test are 0. 5 multiplied by the total number of snails consumed by each individual crab. g - tests for individual h. nudus that eat snails were all significant at p <', metadata={'source': 'hms/fhl_2014_Charifson_34622 (1).pdf', 'file_path': 'hms/fhl_2014_Charifson_34622 (1).pdf', 'page': 5, 'total_pages': 19, 'format': 'PDF 1.5', 'title': '', 'author': 'David', 'subject': '', 'keywords': '', 'creator': 'Microsoft® Office Word 2007', 'producer': 'Microsoft® Office Word 2007', 'creationDate': \"D:20140723120649-04'00'\", 'modDate': \"D:20140723120649-04'00'\", 'trapped': ''})]"
      ]
     },
     "execution_count": 48,
     "metadata": {},
     "output_type": "execute_result"
    }
   ],
   "source": [
    "retriever_from_llm.get_relevant_documents(query= query5)"
   ]
  },
  {
   "cell_type": "code",
   "execution_count": 49,
   "id": "cf9f4b86",
   "metadata": {
    "scrolled": true
   },
   "outputs": [
    {
     "name": "stderr",
     "output_type": "stream",
     "text": [
      "INFO:langchain.retrievers.multi_query:Generated queries: ['1. Are there any references in the paper to the locations where the species were observed or collected?', '2. Does the paper provide any information about the specific locations where the species mentioned were observed or collected?', '3. Can I find any details in the paper about the places where the species mentioned were observed or collected?']\n"
     ]
    },
    {
     "data": {
      "text/plain": [
       "[Document(page_content='waterand in finer sediment than the more desiccation - tolerant h. nudus ( sliger 1982 ). there is still considerable habitat overlap between these two species ; the underside of a single rock may have', metadata={'source': 'hms/fhl_2014_Charifson_34622 (1).pdf', 'file_path': 'hms/fhl_2014_Charifson_34622 (1).pdf', 'page': 1, 'total_pages': 19, 'format': 'PDF 1.5', 'title': '', 'author': 'David', 'subject': '', 'keywords': '', 'creator': 'Microsoft® Office Word 2007', 'producer': 'Microsoft® Office Word 2007', 'creationDate': \"D:20140723120649-04'00'\", 'modDate': \"D:20140723120649-04'00'\", 'trapped': ''}),\n",
       " Document(page_content='##f, f. j. 2011. biometry. 4th ed. w. h. freeman, new york, new york, usa. stuart, y. e. and losos, j. b. 2013. ecological character displacement : glass half full or half empty? trends in ecology and evolution 28 : 402 - 408.', metadata={'source': 'hms/fhl_2014_Charifson_34622 (1).pdf', 'file_path': 'hms/fhl_2014_Charifson_34622 (1).pdf', 'page': 10, 'total_pages': 19, 'format': 'PDF 1.5', 'title': '', 'author': 'David', 'subject': '', 'keywords': '', 'creator': 'Microsoft® Office Word 2007', 'producer': 'Microsoft® Office Word 2007', 'creationDate': \"D:20140723120649-04'00'\", 'modDate': \"D:20140723120649-04'00'\", 'trapped': ''}),\n",
       " Document(page_content='charifson 15 figure 1 : relationship of carapace width and propal height in hemigrapsus. line of best fit from sma regression. see table 1a for descriptive statistics. a ) female h. nudus. b ) male h. nudus. c ) female h. oregonensis. d ) male h. oregonensis.', metadata={'source': 'hms/fhl_2014_Charifson_34622 (1).pdf', 'file_path': 'hms/fhl_2014_Charifson_34622 (1).pdf', 'page': 14, 'total_pages': 19, 'format': 'PDF 1.5', 'title': '', 'author': 'David', 'subject': '', 'keywords': '', 'creator': 'Microsoft® Office Word 2007', 'producer': 'Microsoft® Office Word 2007', 'creationDate': \"D:20140723120649-04'00'\", 'modDate': \"D:20140723120649-04'00'\", 'trapped': ''}),\n",
       " Document(page_content='vincta in the field. it should be noted that h. nudus and la. vincta usually occupy different portions of the intertidal and may have little contact with each other, unlike the relationship between h. nudus and li. scutulata. there is some potential for overlap in the winter when la. vincta migrates up shore. although no differences in consumption rates between male and female h. nudus were found, this might be', metadata={'source': 'hms/fhl_2014_Charifson_34622 (1).pdf', 'file_path': 'hms/fhl_2014_Charifson_34622 (1).pdf', 'page': 8, 'total_pages': 19, 'format': 'PDF 1.5', 'title': '', 'author': 'David', 'subject': '', 'keywords': '', 'creator': 'Microsoft® Office Word 2007', 'producer': 'Microsoft® Office Word 2007', 'creationDate': \"D:20140723120649-04'00'\", 'modDate': \"D:20140723120649-04'00'\", 'trapped': ''})]"
      ]
     },
     "execution_count": 49,
     "metadata": {},
     "output_type": "execute_result"
    }
   ],
   "source": [
    "retriever_from_llm.get_relevant_documents(query= query6)"
   ]
  },
  {
   "cell_type": "code",
   "execution_count": 50,
   "id": "80b37e61",
   "metadata": {
    "scrolled": true
   },
   "outputs": [
    {
     "name": "stderr",
     "output_type": "stream",
     "text": [
      "INFO:langchain.retrievers.multi_query:Generated queries: ['1. What is the natural environment where the species were discovered?', '2. Can you provide information about the habitat where the species were located?', '3. Where were the species typically found in terms of their habitat?']\n"
     ]
    },
    {
     "data": {
      "text/plain": [
       "[Document(page_content='##f, f. j. 2011. biometry. 4th ed. w. h. freeman, new york, new york, usa. stuart, y. e. and losos, j. b. 2013. ecological character displacement : glass half full or half empty? trends in ecology and evolution 28 : 402 - 408.', metadata={'source': 'hms/fhl_2014_Charifson_34622 (1).pdf', 'file_path': 'hms/fhl_2014_Charifson_34622 (1).pdf', 'page': 10, 'total_pages': 19, 'format': 'PDF 1.5', 'title': '', 'author': 'David', 'subject': '', 'keywords': '', 'creator': 'Microsoft® Office Word 2007', 'producer': 'Microsoft® Office Word 2007', 'creationDate': \"D:20140723120649-04'00'\", 'modDate': \"D:20140723120649-04'00'\", 'trapped': ''}),\n",
       " Document(page_content='waterand in finer sediment than the more desiccation - tolerant h. nudus ( sliger 1982 ). there is still considerable habitat overlap between these two species ; the underside of a single rock may have', metadata={'source': 'hms/fhl_2014_Charifson_34622 (1).pdf', 'file_path': 'hms/fhl_2014_Charifson_34622 (1).pdf', 'page': 1, 'total_pages': 19, 'format': 'PDF 1.5', 'title': '', 'author': 'David', 'subject': '', 'keywords': '', 'creator': 'Microsoft® Office Word 2007', 'producer': 'Microsoft® Office Word 2007', 'creationDate': \"D:20140723120649-04'00'\", 'modDate': \"D:20140723120649-04'00'\", 'trapped': ''}),\n",
       " Document(page_content='charifson 8 this is not to say that the particular trade - offs in fiddler crabs case are analogous to that of hemigrapsus, since both claws in the two shore crabs in this study are used in feeding. sexual dimorphism in chela size, which is readily apparent to the eye in both hemigrapsus nudus and hemigrapsus oregonensis, was detected statistically ( figures 3 and 4 ). the two - way anova with factors sex and species did not show a significant species effect, suggesting that the claws of both shore crabs produce roughly the same force and are functionally equivalent ( behrens yamada and boulding 1998 ). the lack of morphological difference in the size of the chelae between the crab species removes the possibility of character displacement in the trait. it should be noted that this study was not designed to test for character displacement, but to determine if this would be an interesting question for future investigations. to make a compelling case for character displacement it is necessary to compare multiple sympatric and allopatric populations with similar abiotic and biotic conditions ( stuart and losos 2013 ). also it must be demonstrated that the trait differs due to genetic differences between sympatric and allopatric populations, that the differences between the populations are not due to species sorting, that the morphological trait is correlated to differences in resource use between the two sympatric species, and that the similar phenotype in allopatric populations compete for the same resources ( stuart and losos 2013 ). the tendency of h. nudus to occupy the upper intertidal zone ( sliger 1987 ), despite considerable overlap with h. oregonensis, may provide enough differential resource use to prevent exclusion in sympatry. desiccation tolerance may be a better trait to test for character displacement in these shore', metadata={'source': 'hms/fhl_2014_Charifson_34622 (1).pdf', 'file_path': 'hms/fhl_2014_Charifson_34622 (1).pdf', 'page': 7, 'total_pages': 19, 'format': 'PDF 1.5', 'title': '', 'author': 'David', 'subject': '', 'keywords': '', 'creator': 'Microsoft® Office Word 2007', 'producer': 'Microsoft® Office Word 2007', 'creationDate': \"D:20140723120649-04'00'\", 'modDate': \"D:20140723120649-04'00'\", 'trapped': ''}),\n",
       " Document(page_content='charifson 17 figure 3 : differences in propal height : carapace width ratio between sex and species. the sex factor was statistically significant ( f = 125. 6. p < 0. 001 ), while the species factor was insignificant ( f > 0. 01, p = 0. 983 ). there was a significant interaction ( f = 4. 39, p = 0. 042 ). error bars represent standard error of the mean. 0 0. 05 0. 1 0. 15 0. 2 0. 25 0. 3 0. 35 h. nudus h. oregonensis propal height : carapace width crab species female male', metadata={'source': 'hms/fhl_2014_Charifson_34622 (1).pdf', 'file_path': 'hms/fhl_2014_Charifson_34622 (1).pdf', 'page': 16, 'total_pages': 19, 'format': 'PDF 1.5', 'title': '', 'author': 'David', 'subject': '', 'keywords': '', 'creator': 'Microsoft® Office Word 2007', 'producer': 'Microsoft® Office Word 2007', 'creationDate': \"D:20140723120649-04'00'\", 'modDate': \"D:20140723120649-04'00'\", 'trapped': ''}),\n",
       " Document(page_content='charifson 15 figure 1 : relationship of carapace width and propal height in hemigrapsus. line of best fit from sma regression. see table 1a for descriptive statistics. a ) female h. nudus. b ) male h. nudus. c ) female h. oregonensis. d ) male h. oregonensis.', metadata={'source': 'hms/fhl_2014_Charifson_34622 (1).pdf', 'file_path': 'hms/fhl_2014_Charifson_34622 (1).pdf', 'page': 14, 'total_pages': 19, 'format': 'PDF 1.5', 'title': '', 'author': 'David', 'subject': '', 'keywords': '', 'creator': 'Microsoft® Office Word 2007', 'producer': 'Microsoft® Office Word 2007', 'creationDate': \"D:20140723120649-04'00'\", 'modDate': \"D:20140723120649-04'00'\", 'trapped': ''}),\n",
       " Document(page_content='vincta in the field. it should be noted that h. nudus and la. vincta usually occupy different portions of the intertidal and may have little contact with each other, unlike the relationship between h. nudus and li. scutulata. there is some potential for overlap in the winter when la. vincta migrates up shore. although no differences in consumption rates between male and female h. nudus were found, this might be', metadata={'source': 'hms/fhl_2014_Charifson_34622 (1).pdf', 'file_path': 'hms/fhl_2014_Charifson_34622 (1).pdf', 'page': 8, 'total_pages': 19, 'format': 'PDF 1.5', 'title': '', 'author': 'David', 'subject': '', 'keywords': '', 'creator': 'Microsoft® Office Word 2007', 'producer': 'Microsoft® Office Word 2007', 'creationDate': \"D:20140723120649-04'00'\", 'modDate': \"D:20140723120649-04'00'\", 'trapped': ''})]"
      ]
     },
     "execution_count": 50,
     "metadata": {},
     "output_type": "execute_result"
    }
   ],
   "source": [
    "retriever_from_llm.get_relevant_documents(query= query7)"
   ]
  },
  {
   "cell_type": "code",
   "execution_count": 51,
   "id": "48d301e2",
   "metadata": {},
   "outputs": [
    {
     "name": "stderr",
     "output_type": "stream",
     "text": [
      "INFO:langchain.retrievers.multi_query:Generated queries: ['1. What information does the paper provide about the collection or observation of species, including any mention of a year, date, or time?', '2. Are there any references in the paper to the year, date, or time of species collection or observation?', '3. Can you find any details in the paper regarding the specific year, date, or time when the species were collected or observed?']\n"
     ]
    },
    {
     "data": {
      "text/plain": [
       "[Document(page_content='##f, f. j. 2011. biometry. 4th ed. w. h. freeman, new york, new york, usa. stuart, y. e. and losos, j. b. 2013. ecological character displacement : glass half full or half empty? trends in ecology and evolution 28 : 402 - 408.', metadata={'source': 'hms/fhl_2014_Charifson_34622 (1).pdf', 'file_path': 'hms/fhl_2014_Charifson_34622 (1).pdf', 'page': 10, 'total_pages': 19, 'format': 'PDF 1.5', 'title': '', 'author': 'David', 'subject': '', 'keywords': '', 'creator': 'Microsoft® Office Word 2007', 'producer': 'Microsoft® Office Word 2007', 'creationDate': \"D:20140723120649-04'00'\", 'modDate': \"D:20140723120649-04'00'\", 'trapped': ''}),\n",
       " Document(page_content='charifson 17 figure 3 : differences in propal height : carapace width ratio between sex and species. the sex factor was statistically significant ( f = 125. 6. p < 0. 001 ), while the species factor was insignificant ( f > 0. 01, p = 0. 983 ). there was a significant interaction ( f = 4. 39, p = 0. 042 ). error bars represent standard error of the mean. 0 0. 05 0. 1 0. 15 0. 2 0. 25 0. 3 0. 35 h. nudus h. oregonensis propal height : carapace width crab species female male', metadata={'source': 'hms/fhl_2014_Charifson_34622 (1).pdf', 'file_path': 'hms/fhl_2014_Charifson_34622 (1).pdf', 'page': 16, 'total_pages': 19, 'format': 'PDF 1.5', 'title': '', 'author': 'David', 'subject': '', 'keywords': '', 'creator': 'Microsoft® Office Word 2007', 'producer': 'Microsoft® Office Word 2007', 'creationDate': \"D:20140723120649-04'00'\", 'modDate': \"D:20140723120649-04'00'\", 'trapped': ''}),\n",
       " Document(page_content='waterand in finer sediment than the more desiccation - tolerant h. nudus ( sliger 1982 ). there is still considerable habitat overlap between these two species ; the underside of a single rock may have', metadata={'source': 'hms/fhl_2014_Charifson_34622 (1).pdf', 'file_path': 'hms/fhl_2014_Charifson_34622 (1).pdf', 'page': 1, 'total_pages': 19, 'format': 'PDF 1.5', 'title': '', 'author': 'David', 'subject': '', 'keywords': '', 'creator': 'Microsoft® Office Word 2007', 'producer': 'Microsoft® Office Word 2007', 'creationDate': \"D:20140723120649-04'00'\", 'modDate': \"D:20140723120649-04'00'\", 'trapped': ''}),\n",
       " Document(page_content='charifson 18 figure 4 : differences in propal width : carapace width ratio between sex and species. the sex factor was statistically significant ( f1, 45 = 103. 8. p < 0. 001 ), while the species factor was insignificant ( f1, 45 = 0. 09, p = 0. 764 ). there was a significant interaction ( f1, 45 = 7. 19, p = 0. 01 ). error bars represent standard error of the mean. 0 0. 05 0. 1 0. 15 0. 2 0. 25 h. nudus h. oregonensis propal widtht : carapace width crab species female male', metadata={'source': 'hms/fhl_2014_Charifson_34622 (1).pdf', 'file_path': 'hms/fhl_2014_Charifson_34622 (1).pdf', 'page': 17, 'total_pages': 19, 'format': 'PDF 1.5', 'title': '', 'author': 'David', 'subject': '', 'keywords': '', 'creator': 'Microsoft® Office Word 2007', 'producer': 'Microsoft® Office Word 2007', 'creationDate': \"D:20140723120649-04'00'\", 'modDate': \"D:20140723120649-04'00'\", 'trapped': ''}),\n",
       " Document(page_content='charifson 19 figure 5 : consumption rates by individual h. nudus. mean consumption rates ( n = 8 trials ) of 3 female ( fe1 to fe3 ) and 3 male ( ma1 to ma3 ) h. nudus. crabs fe1, fe3, and ma3 did not consume snails. the individuals that eat snails did not differ in their consumption rates ( f2, 21 = 2. 52, p = 0. 104 ). error bars represent standard error of the mean. 0 0. 1 0. 2 0. 3 0. 4 0. 5 0. 6 0. 7 0. 8 0. 9 1 fe1 fe2 fe3 ma1 ma2 ma3 mean consumption rate ( snails consumed / hour ) individual h. nudus', metadata={'source': 'hms/fhl_2014_Charifson_34622 (1).pdf', 'file_path': 'hms/fhl_2014_Charifson_34622 (1).pdf', 'page': 18, 'total_pages': 19, 'format': 'PDF 1.5', 'title': '', 'author': 'David', 'subject': '', 'keywords': '', 'creator': 'Microsoft® Office Word 2007', 'producer': 'Microsoft® Office Word 2007', 'creationDate': \"D:20140723120649-04'00'\", 'modDate': \"D:20140723120649-04'00'\", 'trapped': ''})]"
      ]
     },
     "execution_count": 51,
     "metadata": {},
     "output_type": "execute_result"
    }
   ],
   "source": [
    "retriever_from_llm.get_relevant_documents(query= query8)"
   ]
  },
  {
   "cell_type": "code",
   "execution_count": 52,
   "id": "371cb60b",
   "metadata": {
    "scrolled": true
   },
   "outputs": [
    {
     "name": "stderr",
     "output_type": "stream",
     "text": [
      "INFO:langchain.retrievers.multi_query:Generated queries: ['1. Could you please provide a more precise location?', '2. Can you be more specific about the exact location you are referring to?', '3. Is it possible to give a more detailed description of the specific location you are interested in?']\n"
     ]
    },
    {
     "data": {
      "text/plain": [
       "[Document(page_content='to right sides of the propus. all claw measurements were made on the left cheliped.', metadata={'source': 'hms/fhl_2014_Charifson_34622 (1).pdf', 'file_path': 'hms/fhl_2014_Charifson_34622 (1).pdf', 'page': 3, 'total_pages': 19, 'format': 'PDF 1.5', 'title': '', 'author': 'David', 'subject': '', 'keywords': '', 'creator': 'Microsoft® Office Word 2007', 'producer': 'Microsoft® Office Word 2007', 'creationDate': \"D:20140723120649-04'00'\", 'modDate': \"D:20140723120649-04'00'\", 'trapped': ''}),\n",
       " Document(page_content='charifson 15 figure 1 : relationship of carapace width and propal height in hemigrapsus. line of best fit from sma regression. see table 1a for descriptive statistics. a ) female h. nudus. b ) male h. nudus. c ) female h. oregonensis. d ) male h. oregonensis.', metadata={'source': 'hms/fhl_2014_Charifson_34622 (1).pdf', 'file_path': 'hms/fhl_2014_Charifson_34622 (1).pdf', 'page': 14, 'total_pages': 19, 'format': 'PDF 1.5', 'title': '', 'author': 'David', 'subject': '', 'keywords': '', 'creator': 'Microsoft® Office Word 2007', 'producer': 'Microsoft® Office Word 2007', 'creationDate': \"D:20140723120649-04'00'\", 'modDate': \"D:20140723120649-04'00'\", 'trapped': ''}),\n",
       " Document(page_content='charifson 16 figure 2 : relationship of carapace width and propal width in hemigrapsus. line of best fit from sma regression. see table 1b for descriptive statistics. a ) female h. nudus. b ) male h. nudus. c ) female h. oregonensis. d ) male h. oregonensis.', metadata={'source': 'hms/fhl_2014_Charifson_34622 (1).pdf', 'file_path': 'hms/fhl_2014_Charifson_34622 (1).pdf', 'page': 15, 'total_pages': 19, 'format': 'PDF 1.5', 'title': '', 'author': 'David', 'subject': '', 'keywords': '', 'creator': 'Microsoft® Office Word 2007', 'producer': 'Microsoft® Office Word 2007', 'creationDate': \"D:20140723120649-04'00'\", 'modDate': \"D:20140723120649-04'00'\", 'trapped': ''}),\n",
       " Document(page_content='charifson 13 table 1 : sma regressions of carapace width and propus measures. a ) the relationship between carapace width and propal height. x is carapace width and y is propal height. b ) the relationship between carapace width and propal height. x is carapace width and y is propal width. sma regression a n carapace width vs propal height r2 female h. nudus 13 y = 0. 273 * x - 0. 678 0. 976 male h. nudus 13 y = 0. 311 * x - 1. 385 0. 868 female h. oregonensis 9 y = 0. 351 * x - 0. 833 0. 894 male h. oregonensis 14 y = 0. 39 * x - 1. 149 0. 693 sma regression b n carapace width vs propal width r2 female h. nudus 13 y = 0. 157 * x - 0. 386 0. 927 male h. nudus 13 y = 0. 209 * x - 1. 288 0. 859 female h. oregonensis 9 y = 0. 175 * x + 0. 037 0. 724 male h. oregonensis 14 y = 0. 244 * x - 0. 688 0. 534', metadata={'source': 'hms/fhl_2014_Charifson_34622 (1).pdf', 'file_path': 'hms/fhl_2014_Charifson_34622 (1).pdf', 'page': 12, 'total_pages': 19, 'format': 'PDF 1.5', 'title': '', 'author': 'David', 'subject': '', 'keywords': '', 'creator': 'Microsoft® Office Word 2007', 'producer': 'Microsoft® Office Word 2007', 'creationDate': \"D:20140723120649-04'00'\", 'modDate': \"D:20140723120649-04'00'\", 'trapped': ''}),\n",
       " Document(page_content='waterand in finer sediment than the more desiccation - tolerant h. nudus ( sliger 1982 ). there is still considerable habitat overlap between these two species ; the underside of a single rock may have', metadata={'source': 'hms/fhl_2014_Charifson_34622 (1).pdf', 'file_path': 'hms/fhl_2014_Charifson_34622 (1).pdf', 'page': 1, 'total_pages': 19, 'format': 'PDF 1.5', 'title': '', 'author': 'David', 'subject': '', 'keywords': '', 'creator': 'Microsoft® Office Word 2007', 'producer': 'Microsoft® Office Word 2007', 'creationDate': \"D:20140723120649-04'00'\", 'modDate': \"D:20140723120649-04'00'\", 'trapped': ''}),\n",
       " Document(page_content='and rohlf 2011 ). differences in cw : ph and cw : pw were analyzed using a two - way anova', metadata={'source': 'hms/fhl_2014_Charifson_34622 (1).pdf', 'file_path': 'hms/fhl_2014_Charifson_34622 (1).pdf', 'page': 4, 'total_pages': 19, 'format': 'PDF 1.5', 'title': '', 'author': 'David', 'subject': '', 'keywords': '', 'creator': 'Microsoft® Office Word 2007', 'producer': 'Microsoft® Office Word 2007', 'creationDate': \"D:20140723120649-04'00'\", 'modDate': \"D:20140723120649-04'00'\", 'trapped': ''})]"
      ]
     },
     "execution_count": 52,
     "metadata": {},
     "output_type": "execute_result"
    }
   ],
   "source": [
    "retriever_from_llm.get_relevant_documents(query= query9)"
   ]
  },
  {
   "cell_type": "code",
   "execution_count": 53,
   "id": "8a8ac93b",
   "metadata": {
    "scrolled": true
   },
   "outputs": [
    {
     "name": "stderr",
     "output_type": "stream",
     "text": [
      "INFO:langchain.retrievers.multi_query:Generated queries: ['1. What is the natural environment where the species were discovered?', '2. Can you provide information about the habitat where the species were located?', '3. Where were the species typically found in terms of their habitat?']\n"
     ]
    },
    {
     "data": {
      "text/plain": [
       "[Document(page_content='##f, f. j. 2011. biometry. 4th ed. w. h. freeman, new york, new york, usa. stuart, y. e. and losos, j. b. 2013. ecological character displacement : glass half full or half empty? trends in ecology and evolution 28 : 402 - 408.', metadata={'source': 'hms/fhl_2014_Charifson_34622 (1).pdf', 'file_path': 'hms/fhl_2014_Charifson_34622 (1).pdf', 'page': 10, 'total_pages': 19, 'format': 'PDF 1.5', 'title': '', 'author': 'David', 'subject': '', 'keywords': '', 'creator': 'Microsoft® Office Word 2007', 'producer': 'Microsoft® Office Word 2007', 'creationDate': \"D:20140723120649-04'00'\", 'modDate': \"D:20140723120649-04'00'\", 'trapped': ''}),\n",
       " Document(page_content='waterand in finer sediment than the more desiccation - tolerant h. nudus ( sliger 1982 ). there is still considerable habitat overlap between these two species ; the underside of a single rock may have', metadata={'source': 'hms/fhl_2014_Charifson_34622 (1).pdf', 'file_path': 'hms/fhl_2014_Charifson_34622 (1).pdf', 'page': 1, 'total_pages': 19, 'format': 'PDF 1.5', 'title': '', 'author': 'David', 'subject': '', 'keywords': '', 'creator': 'Microsoft® Office Word 2007', 'producer': 'Microsoft® Office Word 2007', 'creationDate': \"D:20140723120649-04'00'\", 'modDate': \"D:20140723120649-04'00'\", 'trapped': ''}),\n",
       " Document(page_content='charifson 8 this is not to say that the particular trade - offs in fiddler crabs case are analogous to that of hemigrapsus, since both claws in the two shore crabs in this study are used in feeding. sexual dimorphism in chela size, which is readily apparent to the eye in both hemigrapsus nudus and hemigrapsus oregonensis, was detected statistically ( figures 3 and 4 ). the two - way anova with factors sex and species did not show a significant species effect, suggesting that the claws of both shore crabs produce roughly the same force and are functionally equivalent ( behrens yamada and boulding 1998 ). the lack of morphological difference in the size of the chelae between the crab species removes the possibility of character displacement in the trait. it should be noted that this study was not designed to test for character displacement, but to determine if this would be an interesting question for future investigations. to make a compelling case for character displacement it is necessary to compare multiple sympatric and allopatric populations with similar abiotic and biotic conditions ( stuart and losos 2013 ). also it must be demonstrated that the trait differs due to genetic differences between sympatric and allopatric populations, that the differences between the populations are not due to species sorting, that the morphological trait is correlated to differences in resource use between the two sympatric species, and that the similar phenotype in allopatric populations compete for the same resources ( stuart and losos 2013 ). the tendency of h. nudus to occupy the upper intertidal zone ( sliger 1987 ), despite considerable overlap with h. oregonensis, may provide enough differential resource use to prevent exclusion in sympatry. desiccation tolerance may be a better trait to test for character displacement in these shore', metadata={'source': 'hms/fhl_2014_Charifson_34622 (1).pdf', 'file_path': 'hms/fhl_2014_Charifson_34622 (1).pdf', 'page': 7, 'total_pages': 19, 'format': 'PDF 1.5', 'title': '', 'author': 'David', 'subject': '', 'keywords': '', 'creator': 'Microsoft® Office Word 2007', 'producer': 'Microsoft® Office Word 2007', 'creationDate': \"D:20140723120649-04'00'\", 'modDate': \"D:20140723120649-04'00'\", 'trapped': ''}),\n",
       " Document(page_content='charifson 17 figure 3 : differences in propal height : carapace width ratio between sex and species. the sex factor was statistically significant ( f = 125. 6. p < 0. 001 ), while the species factor was insignificant ( f > 0. 01, p = 0. 983 ). there was a significant interaction ( f = 4. 39, p = 0. 042 ). error bars represent standard error of the mean. 0 0. 05 0. 1 0. 15 0. 2 0. 25 0. 3 0. 35 h. nudus h. oregonensis propal height : carapace width crab species female male', metadata={'source': 'hms/fhl_2014_Charifson_34622 (1).pdf', 'file_path': 'hms/fhl_2014_Charifson_34622 (1).pdf', 'page': 16, 'total_pages': 19, 'format': 'PDF 1.5', 'title': '', 'author': 'David', 'subject': '', 'keywords': '', 'creator': 'Microsoft® Office Word 2007', 'producer': 'Microsoft® Office Word 2007', 'creationDate': \"D:20140723120649-04'00'\", 'modDate': \"D:20140723120649-04'00'\", 'trapped': ''}),\n",
       " Document(page_content='charifson 15 figure 1 : relationship of carapace width and propal height in hemigrapsus. line of best fit from sma regression. see table 1a for descriptive statistics. a ) female h. nudus. b ) male h. nudus. c ) female h. oregonensis. d ) male h. oregonensis.', metadata={'source': 'hms/fhl_2014_Charifson_34622 (1).pdf', 'file_path': 'hms/fhl_2014_Charifson_34622 (1).pdf', 'page': 14, 'total_pages': 19, 'format': 'PDF 1.5', 'title': '', 'author': 'David', 'subject': '', 'keywords': '', 'creator': 'Microsoft® Office Word 2007', 'producer': 'Microsoft® Office Word 2007', 'creationDate': \"D:20140723120649-04'00'\", 'modDate': \"D:20140723120649-04'00'\", 'trapped': ''}),\n",
       " Document(page_content='vincta in the field. it should be noted that h. nudus and la. vincta usually occupy different portions of the intertidal and may have little contact with each other, unlike the relationship between h. nudus and li. scutulata. there is some potential for overlap in the winter when la. vincta migrates up shore. although no differences in consumption rates between male and female h. nudus were found, this might be', metadata={'source': 'hms/fhl_2014_Charifson_34622 (1).pdf', 'file_path': 'hms/fhl_2014_Charifson_34622 (1).pdf', 'page': 8, 'total_pages': 19, 'format': 'PDF 1.5', 'title': '', 'author': 'David', 'subject': '', 'keywords': '', 'creator': 'Microsoft® Office Word 2007', 'producer': 'Microsoft® Office Word 2007', 'creationDate': \"D:20140723120649-04'00'\", 'modDate': \"D:20140723120649-04'00'\", 'trapped': ''})]"
      ]
     },
     "execution_count": 53,
     "metadata": {},
     "output_type": "execute_result"
    }
   ],
   "source": [
    "retriever_from_llm.get_relevant_documents(query= query10)"
   ]
  },
  {
   "cell_type": "code",
   "execution_count": 54,
   "id": "3b4e33f3",
   "metadata": {
    "scrolled": true
   },
   "outputs": [
    {
     "name": "stderr",
     "output_type": "stream",
     "text": [
      "INFO:langchain.retrievers.multi_query:Generated queries: ['1. Can you provide the latitude and longitude coordinates for any given locations?', '2. Are there any specific latitude and longitude coordinates available for the mentioned locations?', '3. What are the latitude and longitude coordinates associated with the given locations, if any?']\n"
     ]
    },
    {
     "data": {
      "text/plain": [
       "[Document(page_content='charifson 15 figure 1 : relationship of carapace width and propal height in hemigrapsus. line of best fit from sma regression. see table 1a for descriptive statistics. a ) female h. nudus. b ) male h. nudus. c ) female h. oregonensis. d ) male h. oregonensis.', metadata={'source': 'hms/fhl_2014_Charifson_34622 (1).pdf', 'file_path': 'hms/fhl_2014_Charifson_34622 (1).pdf', 'page': 14, 'total_pages': 19, 'format': 'PDF 1.5', 'title': '', 'author': 'David', 'subject': '', 'keywords': '', 'creator': 'Microsoft® Office Word 2007', 'producer': 'Microsoft® Office Word 2007', 'creationDate': \"D:20140723120649-04'00'\", 'modDate': \"D:20140723120649-04'00'\", 'trapped': ''}),\n",
       " Document(page_content='charifson 16 figure 2 : relationship of carapace width and propal width in hemigrapsus. line of best fit from sma regression. see table 1b for descriptive statistics. a ) female h. nudus. b ) male h. nudus. c ) female h. oregonensis. d ) male h. oregonensis.', metadata={'source': 'hms/fhl_2014_Charifson_34622 (1).pdf', 'file_path': 'hms/fhl_2014_Charifson_34622 (1).pdf', 'page': 15, 'total_pages': 19, 'format': 'PDF 1.5', 'title': '', 'author': 'David', 'subject': '', 'keywords': '', 'creator': 'Microsoft® Office Word 2007', 'producer': 'Microsoft® Office Word 2007', 'creationDate': \"D:20140723120649-04'00'\", 'modDate': \"D:20140723120649-04'00'\", 'trapped': ''}),\n",
       " Document(page_content='to right sides of the propus. all claw measurements were made on the left cheliped.', metadata={'source': 'hms/fhl_2014_Charifson_34622 (1).pdf', 'file_path': 'hms/fhl_2014_Charifson_34622 (1).pdf', 'page': 3, 'total_pages': 19, 'format': 'PDF 1.5', 'title': '', 'author': 'David', 'subject': '', 'keywords': '', 'creator': 'Microsoft® Office Word 2007', 'producer': 'Microsoft® Office Word 2007', 'creationDate': \"D:20140723120649-04'00'\", 'modDate': \"D:20140723120649-04'00'\", 'trapped': ''}),\n",
       " Document(page_content='##f, f. j. 2011. biometry. 4th ed. w. h. freeman, new york, new york, usa. stuart, y. e. and losos, j. b. 2013. ecological character displacement : glass half full or half empty? trends in ecology and evolution 28 : 402 - 408.', metadata={'source': 'hms/fhl_2014_Charifson_34622 (1).pdf', 'file_path': 'hms/fhl_2014_Charifson_34622 (1).pdf', 'page': 10, 'total_pages': 19, 'format': 'PDF 1.5', 'title': '', 'author': 'David', 'subject': '', 'keywords': '', 'creator': 'Microsoft® Office Word 2007', 'producer': 'Microsoft® Office Word 2007', 'creationDate': \"D:20140723120649-04'00'\", 'modDate': \"D:20140723120649-04'00'\", 'trapped': ''}),\n",
       " Document(page_content='waterand in finer sediment than the more desiccation - tolerant h. nudus ( sliger 1982 ). there is still considerable habitat overlap between these two species ; the underside of a single rock may have', metadata={'source': 'hms/fhl_2014_Charifson_34622 (1).pdf', 'file_path': 'hms/fhl_2014_Charifson_34622 (1).pdf', 'page': 1, 'total_pages': 19, 'format': 'PDF 1.5', 'title': '', 'author': 'David', 'subject': '', 'keywords': '', 'creator': 'Microsoft® Office Word 2007', 'producer': 'Microsoft® Office Word 2007', 'creationDate': \"D:20140723120649-04'00'\", 'modDate': \"D:20140723120649-04'00'\", 'trapped': ''}),\n",
       " Document(page_content='charifson 13 table 1 : sma regressions of carapace width and propus measures. a ) the relationship between carapace width and propal height. x is carapace width and y is propal height. b ) the relationship between carapace width and propal height. x is carapace width and y is propal width. sma regression a n carapace width vs propal height r2 female h. nudus 13 y = 0. 273 * x - 0. 678 0. 976 male h. nudus 13 y = 0. 311 * x - 1. 385 0. 868 female h. oregonensis 9 y = 0. 351 * x - 0. 833 0. 894 male h. oregonensis 14 y = 0. 39 * x - 1. 149 0. 693 sma regression b n carapace width vs propal width r2 female h. nudus 13 y = 0. 157 * x - 0. 386 0. 927 male h. nudus 13 y = 0. 209 * x - 1. 288 0. 859 female h. oregonensis 9 y = 0. 175 * x + 0. 037 0. 724 male h. oregonensis 14 y = 0. 244 * x - 0. 688 0. 534', metadata={'source': 'hms/fhl_2014_Charifson_34622 (1).pdf', 'file_path': 'hms/fhl_2014_Charifson_34622 (1).pdf', 'page': 12, 'total_pages': 19, 'format': 'PDF 1.5', 'title': '', 'author': 'David', 'subject': '', 'keywords': '', 'creator': 'Microsoft® Office Word 2007', 'producer': 'Microsoft® Office Word 2007', 'creationDate': \"D:20140723120649-04'00'\", 'modDate': \"D:20140723120649-04'00'\", 'trapped': ''})]"
      ]
     },
     "execution_count": 54,
     "metadata": {},
     "output_type": "execute_result"
    }
   ],
   "source": [
    "retriever_from_llm.get_relevant_documents(query= query11)"
   ]
  },
  {
   "cell_type": "code",
   "execution_count": 55,
   "id": "57a2fc02",
   "metadata": {
    "scrolled": true
   },
   "outputs": [
    {
     "name": "stderr",
     "output_type": "stream",
     "text": [
      "INFO:langchain.retrievers.multi_query:Generated queries: ['1. Does the paper contain any visual aids such as maps, figures, tables, or diagrams?', '2. Are there any graphical representations like maps, figures, tables, or diagrams included in the paper?', '3. Can I find any maps, figures, tables, or diagrams within the paper?']\n"
     ]
    },
    {
     "data": {
      "text/plain": [
       "[Document(page_content='and rohlf 2011 ). differences in cw : ph and cw : pw were analyzed using a two - way anova', metadata={'source': 'hms/fhl_2014_Charifson_34622 (1).pdf', 'file_path': 'hms/fhl_2014_Charifson_34622 (1).pdf', 'page': 4, 'total_pages': 19, 'format': 'PDF 1.5', 'title': '', 'author': 'David', 'subject': '', 'keywords': '', 'creator': 'Microsoft® Office Word 2007', 'producer': 'Microsoft® Office Word 2007', 'creationDate': \"D:20140723120649-04'00'\", 'modDate': \"D:20140723120649-04'00'\", 'trapped': ''}),\n",
       " Document(page_content='charifson 16 figure 2 : relationship of carapace width and propal width in hemigrapsus. line of best fit from sma regression. see table 1b for descriptive statistics. a ) female h. nudus. b ) male h. nudus. c ) female h. oregonensis. d ) male h. oregonensis.', metadata={'source': 'hms/fhl_2014_Charifson_34622 (1).pdf', 'file_path': 'hms/fhl_2014_Charifson_34622 (1).pdf', 'page': 15, 'total_pages': 19, 'format': 'PDF 1.5', 'title': '', 'author': 'David', 'subject': '', 'keywords': '', 'creator': 'Microsoft® Office Word 2007', 'producer': 'Microsoft® Office Word 2007', 'creationDate': \"D:20140723120649-04'00'\", 'modDate': \"D:20140723120649-04'00'\", 'trapped': ''}),\n",
       " Document(page_content='charifson 15 figure 1 : relationship of carapace width and propal height in hemigrapsus. line of best fit from sma regression. see table 1a for descriptive statistics. a ) female h. nudus. b ) male h. nudus. c ) female h. oregonensis. d ) male h. oregonensis.', metadata={'source': 'hms/fhl_2014_Charifson_34622 (1).pdf', 'file_path': 'hms/fhl_2014_Charifson_34622 (1).pdf', 'page': 14, 'total_pages': 19, 'format': 'PDF 1.5', 'title': '', 'author': 'David', 'subject': '', 'keywords': '', 'creator': 'Microsoft® Office Word 2007', 'producer': 'Microsoft® Office Word 2007', 'creationDate': \"D:20140723120649-04'00'\", 'modDate': \"D:20140723120649-04'00'\", 'trapped': ''}),\n",
       " Document(page_content='charifson 17 figure 3 : differences in propal height : carapace width ratio between sex and species. the sex factor was statistically significant ( f = 125. 6. p < 0. 001 ), while the species factor was insignificant ( f > 0. 01, p = 0. 983 ). there was a significant interaction ( f = 4. 39, p = 0. 042 ). error bars represent standard error of the mean. 0 0. 05 0. 1 0. 15 0. 2 0. 25 0. 3 0. 35 h. nudus h. oregonensis propal height : carapace width crab species female male', metadata={'source': 'hms/fhl_2014_Charifson_34622 (1).pdf', 'file_path': 'hms/fhl_2014_Charifson_34622 (1).pdf', 'page': 16, 'total_pages': 19, 'format': 'PDF 1.5', 'title': '', 'author': 'David', 'subject': '', 'keywords': '', 'creator': 'Microsoft® Office Word 2007', 'producer': 'Microsoft® Office Word 2007', 'creationDate': \"D:20140723120649-04'00'\", 'modDate': \"D:20140723120649-04'00'\", 'trapped': ''}),\n",
       " Document(page_content='charifson 13 table 1 : sma regressions of carapace width and propus measures. a ) the relationship between carapace width and propal height. x is carapace width and y is propal height. b ) the relationship between carapace width and propal height. x is carapace width and y is propal width. sma regression a n carapace width vs propal height r2 female h. nudus 13 y = 0. 273 * x - 0. 678 0. 976 male h. nudus 13 y = 0. 311 * x - 1. 385 0. 868 female h. oregonensis 9 y = 0. 351 * x - 0. 833 0. 894 male h. oregonensis 14 y = 0. 39 * x - 1. 149 0. 693 sma regression b n carapace width vs propal width r2 female h. nudus 13 y = 0. 157 * x - 0. 386 0. 927 male h. nudus 13 y = 0. 209 * x - 1. 288 0. 859 female h. oregonensis 9 y = 0. 175 * x + 0. 037 0. 724 male h. oregonensis 14 y = 0. 244 * x - 0. 688 0. 534', metadata={'source': 'hms/fhl_2014_Charifson_34622 (1).pdf', 'file_path': 'hms/fhl_2014_Charifson_34622 (1).pdf', 'page': 12, 'total_pages': 19, 'format': 'PDF 1.5', 'title': '', 'author': 'David', 'subject': '', 'keywords': '', 'creator': 'Microsoft® Office Word 2007', 'producer': 'Microsoft® Office Word 2007', 'creationDate': \"D:20140723120649-04'00'\", 'modDate': \"D:20140723120649-04'00'\", 'trapped': ''}),\n",
       " Document(page_content='to right sides of the propus. all claw measurements were made on the left cheliped.', metadata={'source': 'hms/fhl_2014_Charifson_34622 (1).pdf', 'file_path': 'hms/fhl_2014_Charifson_34622 (1).pdf', 'page': 3, 'total_pages': 19, 'format': 'PDF 1.5', 'title': '', 'author': 'David', 'subject': '', 'keywords': '', 'creator': 'Microsoft® Office Word 2007', 'producer': 'Microsoft® Office Word 2007', 'creationDate': \"D:20140723120649-04'00'\", 'modDate': \"D:20140723120649-04'00'\", 'trapped': ''})]"
      ]
     },
     "execution_count": 55,
     "metadata": {},
     "output_type": "execute_result"
    }
   ],
   "source": [
    "retriever_from_llm.get_relevant_documents(query= query12)"
   ]
  },
  {
   "cell_type": "code",
   "execution_count": 56,
   "id": "d66c382d",
   "metadata": {},
   "outputs": [],
   "source": [
    "template = \"\"\"\n",
    "Use the following context (delimited by <ctx></ctx>) and the chat history (delimited by <hs></hs>) to answer the question:\n",
    "------\n",
    "<ctx>\n",
    "{context}\n",
    "</ctx>\n",
    "------\n",
    "<hs>\n",
    "{history}\n",
    "</hs>\n",
    "------\n",
    "{question}\n",
    "Answer:\n",
    "\"\"\"\n",
    "prompt = PromptTemplate(\n",
    "    input_variables=[\"history\", \"context\", \"question\"],\n",
    "    template=template,\n",
    ")"
   ]
  },
  {
   "cell_type": "markdown",
   "id": "2bed34ed",
   "metadata": {},
   "source": [
    "# Retrieval QA"
   ]
  },
  {
   "cell_type": "markdown",
   "id": "e0cc3747",
   "metadata": {},
   "source": [
    "\n",
    "## Map Refine Document Chain\n",
    "\n",
    "The refine documents chain constructs a response by looping over the input documents and iteratively updating its answer. For each document, it passes all non-document inputs, the current document, and the latest intermediate answer to an LLM chain to get a new answer.\n",
    "\n",
    "Since the Refine chain only passes a single document to the LLM at a time, it is well-suited for tasks that require analyzing more documents than can fit in the model's context. The obvious tradeoff is that this chain will make far more LLM calls than, for example, the Stuff documents chain. There are also certain tasks which are difficult to accomplish iteratively. For example, the Refine chain can perform poorly when documents frequently cross-reference one another or when a task requires detailed information from many documents."
   ]
  },
  {
   "cell_type": "code",
   "execution_count": 57,
   "id": "40ff0d24",
   "metadata": {},
   "outputs": [],
   "source": [
    "llm = ChatOpenAI()"
   ]
  },
  {
   "cell_type": "code",
   "execution_count": 58,
   "id": "548ce404",
   "metadata": {},
   "outputs": [],
   "source": [
    "qa_refine = RetrievalQA.from_chain_type(llm =llm, chain_type = \"refine\", \n",
    "                                        retriever = vs2.as_retriever(),\n",
    "                                       return_source_documents = True\n",
    "                                       )"
   ]
  },
  {
   "cell_type": "code",
   "execution_count": 59,
   "id": "ae1ae8cc",
   "metadata": {},
   "outputs": [
    {
     "name": "stderr",
     "output_type": "stream",
     "text": [
      "WARNING:langchain.llms.base:Retrying langchain.chat_models.openai.ChatOpenAI.completion_with_retry.<locals>._completion_with_retry in 4.0 seconds as it raised Timeout: Request timed out: HTTPSConnectionPool(host='api.openai.com', port=443): Read timed out. (read timeout=600).\n"
     ]
    }
   ],
   "source": [
    "query = \"what is this paper about?\"\n",
    "\n",
    "#This format when we include return_source_documents\n",
    "result = qa_refine({\"query\": query})"
   ]
  },
  {
   "cell_type": "code",
   "execution_count": 60,
   "id": "0856b8c6",
   "metadata": {
    "scrolled": false
   },
   "outputs": [
    {
     "data": {
      "text/plain": [
       "'Based on the additional context provided, it appears that the paper focuses on analyzing the consumption rates of individual H. nudus (Hermit crabs) and comparing the mean consumption rates between female and male crabs. The study includes data from eight trials, involving three female crabs (fe1 to fe3) and three male crabs (ma1 to ma3). The paper investigates whether there are differences in consumption rates among individuals that consumed snails and those that did not. The authors report the mean consumption rates along with the standard error of the mean and conduct statistical analysis, including a comparison of consumption rates between snail-consuming individuals.'"
      ]
     },
     "execution_count": 60,
     "metadata": {},
     "output_type": "execute_result"
    }
   ],
   "source": [
    "result[\"result\"]"
   ]
  },
  {
   "cell_type": "code",
   "execution_count": 61,
   "id": "0ddccf5e",
   "metadata": {},
   "outputs": [
    {
     "data": {
      "text/plain": [
       "[Document(page_content='##f, f. j. 2011. biometry. 4th ed. w. h. freeman, new york, new york, usa. stuart, y. e. and losos, j. b. 2013. ecological character displacement : glass half full or half empty? trends in ecology and evolution 28 : 402 - 408.', metadata={'source': 'hms/fhl_2014_Charifson_34622 (1).pdf', 'file_path': 'hms/fhl_2014_Charifson_34622 (1).pdf', 'page': 10, 'total_pages': 19, 'format': 'PDF 1.5', 'title': '', 'author': 'David', 'subject': '', 'keywords': '', 'creator': 'Microsoft® Office Word 2007', 'producer': 'Microsoft® Office Word 2007', 'creationDate': \"D:20140723120649-04'00'\", 'modDate': \"D:20140723120649-04'00'\", 'trapped': ''}),\n",
       " Document(page_content='and rohlf 2011 ). differences in cw : ph and cw : pw were analyzed using a two - way anova', metadata={'source': 'hms/fhl_2014_Charifson_34622 (1).pdf', 'file_path': 'hms/fhl_2014_Charifson_34622 (1).pdf', 'page': 4, 'total_pages': 19, 'format': 'PDF 1.5', 'title': '', 'author': 'David', 'subject': '', 'keywords': '', 'creator': 'Microsoft® Office Word 2007', 'producer': 'Microsoft® Office Word 2007', 'creationDate': \"D:20140723120649-04'00'\", 'modDate': \"D:20140723120649-04'00'\", 'trapped': ''}),\n",
       " Document(page_content='charifson 13 table 1 : sma regressions of carapace width and propus measures. a ) the relationship between carapace width and propal height. x is carapace width and y is propal height. b ) the relationship between carapace width and propal height. x is carapace width and y is propal width. sma regression a n carapace width vs propal height r2 female h. nudus 13 y = 0. 273 * x - 0. 678 0. 976 male h. nudus 13 y = 0. 311 * x - 1. 385 0. 868 female h. oregonensis 9 y = 0. 351 * x - 0. 833 0. 894 male h. oregonensis 14 y = 0. 39 * x - 1. 149 0. 693 sma regression b n carapace width vs propal width r2 female h. nudus 13 y = 0. 157 * x - 0. 386 0. 927 male h. nudus 13 y = 0. 209 * x - 1. 288 0. 859 female h. oregonensis 9 y = 0. 175 * x + 0. 037 0. 724 male h. oregonensis 14 y = 0. 244 * x - 0. 688 0. 534', metadata={'source': 'hms/fhl_2014_Charifson_34622 (1).pdf', 'file_path': 'hms/fhl_2014_Charifson_34622 (1).pdf', 'page': 12, 'total_pages': 19, 'format': 'PDF 1.5', 'title': '', 'author': 'David', 'subject': '', 'keywords': '', 'creator': 'Microsoft® Office Word 2007', 'producer': 'Microsoft® Office Word 2007', 'creationDate': \"D:20140723120649-04'00'\", 'modDate': \"D:20140723120649-04'00'\", 'trapped': ''}),\n",
       " Document(page_content='charifson 19 figure 5 : consumption rates by individual h. nudus. mean consumption rates ( n = 8 trials ) of 3 female ( fe1 to fe3 ) and 3 male ( ma1 to ma3 ) h. nudus. crabs fe1, fe3, and ma3 did not consume snails. the individuals that eat snails did not differ in their consumption rates ( f2, 21 = 2. 52, p = 0. 104 ). error bars represent standard error of the mean. 0 0. 1 0. 2 0. 3 0. 4 0. 5 0. 6 0. 7 0. 8 0. 9 1 fe1 fe2 fe3 ma1 ma2 ma3 mean consumption rate ( snails consumed / hour ) individual h. nudus', metadata={'source': 'hms/fhl_2014_Charifson_34622 (1).pdf', 'file_path': 'hms/fhl_2014_Charifson_34622 (1).pdf', 'page': 18, 'total_pages': 19, 'format': 'PDF 1.5', 'title': '', 'author': 'David', 'subject': '', 'keywords': '', 'creator': 'Microsoft® Office Word 2007', 'producer': 'Microsoft® Office Word 2007', 'creationDate': \"D:20140723120649-04'00'\", 'modDate': \"D:20140723120649-04'00'\", 'trapped': ''})]"
      ]
     },
     "execution_count": 61,
     "metadata": {},
     "output_type": "execute_result"
    }
   ],
   "source": [
    "result[\"source_documents\"]"
   ]
  },
  {
   "cell_type": "code",
   "execution_count": 62,
   "id": "9dbc5b63",
   "metadata": {},
   "outputs": [],
   "source": [
    "query2 =\"Write a one sentence summary of the purpose of the paper\"\n",
    "\n",
    "result2 = qa_refine({\"query\": query2})"
   ]
  },
  {
   "cell_type": "code",
   "execution_count": 63,
   "id": "553f1eb9",
   "metadata": {
    "scrolled": true
   },
   "outputs": [
    {
     "data": {
      "text/plain": [
       "'The purpose of the paper is to analyze the differences in propal width: carapace width ratio between sexes and species of crabs, determining the statistical significance of these factors and the interaction between them using a two-way ANOVA.'"
      ]
     },
     "execution_count": 63,
     "metadata": {},
     "output_type": "execute_result"
    }
   ],
   "source": [
    "result2[\"result\"]"
   ]
  },
  {
   "cell_type": "code",
   "execution_count": 64,
   "id": "5c032a5c",
   "metadata": {},
   "outputs": [
    {
     "data": {
      "text/plain": [
       "[Document(page_content='charifson 13 table 1 : sma regressions of carapace width and propus measures. a ) the relationship between carapace width and propal height. x is carapace width and y is propal height. b ) the relationship between carapace width and propal height. x is carapace width and y is propal width. sma regression a n carapace width vs propal height r2 female h. nudus 13 y = 0. 273 * x - 0. 678 0. 976 male h. nudus 13 y = 0. 311 * x - 1. 385 0. 868 female h. oregonensis 9 y = 0. 351 * x - 0. 833 0. 894 male h. oregonensis 14 y = 0. 39 * x - 1. 149 0. 693 sma regression b n carapace width vs propal width r2 female h. nudus 13 y = 0. 157 * x - 0. 386 0. 927 male h. nudus 13 y = 0. 209 * x - 1. 288 0. 859 female h. oregonensis 9 y = 0. 175 * x + 0. 037 0. 724 male h. oregonensis 14 y = 0. 244 * x - 0. 688 0. 534', metadata={'source': 'hms/fhl_2014_Charifson_34622 (1).pdf', 'file_path': 'hms/fhl_2014_Charifson_34622 (1).pdf', 'page': 12, 'total_pages': 19, 'format': 'PDF 1.5', 'title': '', 'author': 'David', 'subject': '', 'keywords': '', 'creator': 'Microsoft® Office Word 2007', 'producer': 'Microsoft® Office Word 2007', 'creationDate': \"D:20140723120649-04'00'\", 'modDate': \"D:20140723120649-04'00'\", 'trapped': ''}),\n",
       " Document(page_content='and rohlf 2011 ). differences in cw : ph and cw : pw were analyzed using a two - way anova', metadata={'source': 'hms/fhl_2014_Charifson_34622 (1).pdf', 'file_path': 'hms/fhl_2014_Charifson_34622 (1).pdf', 'page': 4, 'total_pages': 19, 'format': 'PDF 1.5', 'title': '', 'author': 'David', 'subject': '', 'keywords': '', 'creator': 'Microsoft® Office Word 2007', 'producer': 'Microsoft® Office Word 2007', 'creationDate': \"D:20140723120649-04'00'\", 'modDate': \"D:20140723120649-04'00'\", 'trapped': ''}),\n",
       " Document(page_content='charifson 17 figure 3 : differences in propal height : carapace width ratio between sex and species. the sex factor was statistically significant ( f = 125. 6. p < 0. 001 ), while the species factor was insignificant ( f > 0. 01, p = 0. 983 ). there was a significant interaction ( f = 4. 39, p = 0. 042 ). error bars represent standard error of the mean. 0 0. 05 0. 1 0. 15 0. 2 0. 25 0. 3 0. 35 h. nudus h. oregonensis propal height : carapace width crab species female male', metadata={'source': 'hms/fhl_2014_Charifson_34622 (1).pdf', 'file_path': 'hms/fhl_2014_Charifson_34622 (1).pdf', 'page': 16, 'total_pages': 19, 'format': 'PDF 1.5', 'title': '', 'author': 'David', 'subject': '', 'keywords': '', 'creator': 'Microsoft® Office Word 2007', 'producer': 'Microsoft® Office Word 2007', 'creationDate': \"D:20140723120649-04'00'\", 'modDate': \"D:20140723120649-04'00'\", 'trapped': ''}),\n",
       " Document(page_content='charifson 18 figure 4 : differences in propal width : carapace width ratio between sex and species. the sex factor was statistically significant ( f1, 45 = 103. 8. p < 0. 001 ), while the species factor was insignificant ( f1, 45 = 0. 09, p = 0. 764 ). there was a significant interaction ( f1, 45 = 7. 19, p = 0. 01 ). error bars represent standard error of the mean. 0 0. 05 0. 1 0. 15 0. 2 0. 25 h. nudus h. oregonensis propal widtht : carapace width crab species female male', metadata={'source': 'hms/fhl_2014_Charifson_34622 (1).pdf', 'file_path': 'hms/fhl_2014_Charifson_34622 (1).pdf', 'page': 17, 'total_pages': 19, 'format': 'PDF 1.5', 'title': '', 'author': 'David', 'subject': '', 'keywords': '', 'creator': 'Microsoft® Office Word 2007', 'producer': 'Microsoft® Office Word 2007', 'creationDate': \"D:20140723120649-04'00'\", 'modDate': \"D:20140723120649-04'00'\", 'trapped': ''})]"
      ]
     },
     "execution_count": 64,
     "metadata": {},
     "output_type": "execute_result"
    }
   ],
   "source": [
    "result2[\"source_documents\"]"
   ]
  },
  {
   "cell_type": "code",
   "execution_count": 65,
   "id": "afd663cb",
   "metadata": {},
   "outputs": [],
   "source": [
    "query4 = \"Summarize the paper concisely with reference to materials and methods.\"\n",
    "\n",
    "result4 = qa_refine({\"query\": query4})"
   ]
  },
  {
   "cell_type": "code",
   "execution_count": 66,
   "id": "c1ffdcc5",
   "metadata": {},
   "outputs": [
    {
     "data": {
      "text/plain": [
       "\"Based on the additional context provided, the paper utilized SMA regressions to examine the correlation between carapace width and propal height in different groups (female and male) of two species (H. nudus and H. oregonensis). The relationship between carapace width and propal height is illustrated in Figure 1 of Charifson's study, which includes a line of best fit derived from the SMA regression. Descriptive statistics for each group can be found in Table 1a. However, no specific information about the materials and methods used in the study is provided in the given context.\""
      ]
     },
     "execution_count": 66,
     "metadata": {},
     "output_type": "execute_result"
    }
   ],
   "source": [
    "result4[\"result\"]"
   ]
  },
  {
   "cell_type": "code",
   "execution_count": 67,
   "id": "d4963009",
   "metadata": {},
   "outputs": [
    {
     "data": {
      "text/plain": [
       "[Document(page_content='and rohlf 2011 ). differences in cw : ph and cw : pw were analyzed using a two - way anova', metadata={'source': 'hms/fhl_2014_Charifson_34622 (1).pdf', 'file_path': 'hms/fhl_2014_Charifson_34622 (1).pdf', 'page': 4, 'total_pages': 19, 'format': 'PDF 1.5', 'title': '', 'author': 'David', 'subject': '', 'keywords': '', 'creator': 'Microsoft® Office Word 2007', 'producer': 'Microsoft® Office Word 2007', 'creationDate': \"D:20140723120649-04'00'\", 'modDate': \"D:20140723120649-04'00'\", 'trapped': ''}),\n",
       " Document(page_content='charifson 13 table 1 : sma regressions of carapace width and propus measures. a ) the relationship between carapace width and propal height. x is carapace width and y is propal height. b ) the relationship between carapace width and propal height. x is carapace width and y is propal width. sma regression a n carapace width vs propal height r2 female h. nudus 13 y = 0. 273 * x - 0. 678 0. 976 male h. nudus 13 y = 0. 311 * x - 1. 385 0. 868 female h. oregonensis 9 y = 0. 351 * x - 0. 833 0. 894 male h. oregonensis 14 y = 0. 39 * x - 1. 149 0. 693 sma regression b n carapace width vs propal width r2 female h. nudus 13 y = 0. 157 * x - 0. 386 0. 927 male h. nudus 13 y = 0. 209 * x - 1. 288 0. 859 female h. oregonensis 9 y = 0. 175 * x + 0. 037 0. 724 male h. oregonensis 14 y = 0. 244 * x - 0. 688 0. 534', metadata={'source': 'hms/fhl_2014_Charifson_34622 (1).pdf', 'file_path': 'hms/fhl_2014_Charifson_34622 (1).pdf', 'page': 12, 'total_pages': 19, 'format': 'PDF 1.5', 'title': '', 'author': 'David', 'subject': '', 'keywords': '', 'creator': 'Microsoft® Office Word 2007', 'producer': 'Microsoft® Office Word 2007', 'creationDate': \"D:20140723120649-04'00'\", 'modDate': \"D:20140723120649-04'00'\", 'trapped': ''}),\n",
       " Document(page_content='charifson 16 figure 2 : relationship of carapace width and propal width in hemigrapsus. line of best fit from sma regression. see table 1b for descriptive statistics. a ) female h. nudus. b ) male h. nudus. c ) female h. oregonensis. d ) male h. oregonensis.', metadata={'source': 'hms/fhl_2014_Charifson_34622 (1).pdf', 'file_path': 'hms/fhl_2014_Charifson_34622 (1).pdf', 'page': 15, 'total_pages': 19, 'format': 'PDF 1.5', 'title': '', 'author': 'David', 'subject': '', 'keywords': '', 'creator': 'Microsoft® Office Word 2007', 'producer': 'Microsoft® Office Word 2007', 'creationDate': \"D:20140723120649-04'00'\", 'modDate': \"D:20140723120649-04'00'\", 'trapped': ''}),\n",
       " Document(page_content='charifson 15 figure 1 : relationship of carapace width and propal height in hemigrapsus. line of best fit from sma regression. see table 1a for descriptive statistics. a ) female h. nudus. b ) male h. nudus. c ) female h. oregonensis. d ) male h. oregonensis.', metadata={'source': 'hms/fhl_2014_Charifson_34622 (1).pdf', 'file_path': 'hms/fhl_2014_Charifson_34622 (1).pdf', 'page': 14, 'total_pages': 19, 'format': 'PDF 1.5', 'title': '', 'author': 'David', 'subject': '', 'keywords': '', 'creator': 'Microsoft® Office Word 2007', 'producer': 'Microsoft® Office Word 2007', 'creationDate': \"D:20140723120649-04'00'\", 'modDate': \"D:20140723120649-04'00'\", 'trapped': ''})]"
      ]
     },
     "execution_count": 67,
     "metadata": {},
     "output_type": "execute_result"
    }
   ],
   "source": [
    "result4[\"source_documents\"]"
   ]
  },
  {
   "cell_type": "code",
   "execution_count": 68,
   "id": "443a71b7",
   "metadata": {},
   "outputs": [],
   "source": [
    "query5=\"Terms that may be used to identify an observation include “in the field”, “this study”, “observed”, “taken”, “collected”, “sampled”, “collection”, “seen”, “harvested”, “found”, etc. Does the paper include one or more observations?\"\n",
    "result5 = qa_refine({\"query\": query5})"
   ]
  },
  {
   "cell_type": "code",
   "execution_count": 69,
   "id": "57f5c8b6",
   "metadata": {},
   "outputs": [
    {
     "data": {
      "text/plain": [
       "'The additional context provided does not directly relate to the presence of observations in the paper. Therefore, the original answer remains applicable. The paper includes observations related to the consumption rates of H. nudus crabs.'"
      ]
     },
     "execution_count": 69,
     "metadata": {},
     "output_type": "execute_result"
    }
   ],
   "source": [
    "result5[\"result\"]"
   ]
  },
  {
   "cell_type": "code",
   "execution_count": 70,
   "id": "25c05b4a",
   "metadata": {},
   "outputs": [
    {
     "data": {
      "text/plain": [
       "[Document(page_content='##f, f. j. 2011. biometry. 4th ed. w. h. freeman, new york, new york, usa. stuart, y. e. and losos, j. b. 2013. ecological character displacement : glass half full or half empty? trends in ecology and evolution 28 : 402 - 408.', metadata={'source': 'hms/fhl_2014_Charifson_34622 (1).pdf', 'file_path': 'hms/fhl_2014_Charifson_34622 (1).pdf', 'page': 10, 'total_pages': 19, 'format': 'PDF 1.5', 'title': '', 'author': 'David', 'subject': '', 'keywords': '', 'creator': 'Microsoft® Office Word 2007', 'producer': 'Microsoft® Office Word 2007', 'creationDate': \"D:20140723120649-04'00'\", 'modDate': \"D:20140723120649-04'00'\", 'trapped': ''}),\n",
       " Document(page_content='vincta in the field. it should be noted that h. nudus and la. vincta usually occupy different portions of the intertidal and may have little contact with each other, unlike the relationship between h. nudus and li. scutulata. there is some potential for overlap in the winter when la. vincta migrates up shore. although no differences in consumption rates between male and female h. nudus were found, this might be', metadata={'source': 'hms/fhl_2014_Charifson_34622 (1).pdf', 'file_path': 'hms/fhl_2014_Charifson_34622 (1).pdf', 'page': 8, 'total_pages': 19, 'format': 'PDF 1.5', 'title': '', 'author': 'David', 'subject': '', 'keywords': '', 'creator': 'Microsoft® Office Word 2007', 'producer': 'Microsoft® Office Word 2007', 'creationDate': \"D:20140723120649-04'00'\", 'modDate': \"D:20140723120649-04'00'\", 'trapped': ''}),\n",
       " Document(page_content='charifson 19 figure 5 : consumption rates by individual h. nudus. mean consumption rates ( n = 8 trials ) of 3 female ( fe1 to fe3 ) and 3 male ( ma1 to ma3 ) h. nudus. crabs fe1, fe3, and ma3 did not consume snails. the individuals that eat snails did not differ in their consumption rates ( f2, 21 = 2. 52, p = 0. 104 ). error bars represent standard error of the mean. 0 0. 1 0. 2 0. 3 0. 4 0. 5 0. 6 0. 7 0. 8 0. 9 1 fe1 fe2 fe3 ma1 ma2 ma3 mean consumption rate ( snails consumed / hour ) individual h. nudus', metadata={'source': 'hms/fhl_2014_Charifson_34622 (1).pdf', 'file_path': 'hms/fhl_2014_Charifson_34622 (1).pdf', 'page': 18, 'total_pages': 19, 'format': 'PDF 1.5', 'title': '', 'author': 'David', 'subject': '', 'keywords': '', 'creator': 'Microsoft® Office Word 2007', 'producer': 'Microsoft® Office Word 2007', 'creationDate': \"D:20140723120649-04'00'\", 'modDate': \"D:20140723120649-04'00'\", 'trapped': ''}),\n",
       " Document(page_content='and rohlf 2011 ). differences in cw : ph and cw : pw were analyzed using a two - way anova', metadata={'source': 'hms/fhl_2014_Charifson_34622 (1).pdf', 'file_path': 'hms/fhl_2014_Charifson_34622 (1).pdf', 'page': 4, 'total_pages': 19, 'format': 'PDF 1.5', 'title': '', 'author': 'David', 'subject': '', 'keywords': '', 'creator': 'Microsoft® Office Word 2007', 'producer': 'Microsoft® Office Word 2007', 'creationDate': \"D:20140723120649-04'00'\", 'modDate': \"D:20140723120649-04'00'\", 'trapped': ''})]"
      ]
     },
     "execution_count": 70,
     "metadata": {},
     "output_type": "execute_result"
    }
   ],
   "source": [
    "result5[\"source_documents\"]"
   ]
  },
  {
   "cell_type": "code",
   "execution_count": 71,
   "id": "a93ed536",
   "metadata": {},
   "outputs": [],
   "source": [
    "query6 = \"Does this paper contain observational or experimental research conducted in the natural environment or with organisms collected in nature?\""
   ]
  },
  {
   "cell_type": "code",
   "execution_count": 72,
   "id": "809b7471",
   "metadata": {
    "scrolled": true
   },
   "outputs": [],
   "source": [
    "result6 = qa_refine({\"query\": query6})"
   ]
  },
  {
   "cell_type": "code",
   "execution_count": 73,
   "id": "91c8f02f",
   "metadata": {},
   "outputs": [
    {
     "data": {
      "text/plain": [
       "'Based on the additional context provided, it is clear that the paper contains experimental research conducted in the natural environment or with organisms collected in nature. The author mentions logistical issues with the experimental design, the need for more replication, and the inclusion of more crabs. The acknowledgments also mention the permission to collect organisms, indicating that the study involved collecting organisms from the natural environment.'"
      ]
     },
     "execution_count": 73,
     "metadata": {},
     "output_type": "execute_result"
    }
   ],
   "source": [
    "result6[\"result\"]"
   ]
  },
  {
   "cell_type": "code",
   "execution_count": 74,
   "id": "bdbb166e",
   "metadata": {},
   "outputs": [
    {
     "data": {
      "text/plain": [
       "[Document(page_content='charifson 19 figure 5 : consumption rates by individual h. nudus. mean consumption rates ( n = 8 trials ) of 3 female ( fe1 to fe3 ) and 3 male ( ma1 to ma3 ) h. nudus. crabs fe1, fe3, and ma3 did not consume snails. the individuals that eat snails did not differ in their consumption rates ( f2, 21 = 2. 52, p = 0. 104 ). error bars represent standard error of the mean. 0 0. 1 0. 2 0. 3 0. 4 0. 5 0. 6 0. 7 0. 8 0. 9 1 fe1 fe2 fe3 ma1 ma2 ma3 mean consumption rate ( snails consumed / hour ) individual h. nudus', metadata={'source': 'hms/fhl_2014_Charifson_34622 (1).pdf', 'file_path': 'hms/fhl_2014_Charifson_34622 (1).pdf', 'page': 18, 'total_pages': 19, 'format': 'PDF 1.5', 'title': '', 'author': 'David', 'subject': '', 'keywords': '', 'creator': 'Microsoft® Office Word 2007', 'producer': 'Microsoft® Office Word 2007', 'creationDate': \"D:20140723120649-04'00'\", 'modDate': \"D:20140723120649-04'00'\", 'trapped': ''}),\n",
       " Document(page_content='##f, f. j. 2011. biometry. 4th ed. w. h. freeman, new york, new york, usa. stuart, y. e. and losos, j. b. 2013. ecological character displacement : glass half full or half empty? trends in ecology and evolution 28 : 402 - 408.', metadata={'source': 'hms/fhl_2014_Charifson_34622 (1).pdf', 'file_path': 'hms/fhl_2014_Charifson_34622 (1).pdf', 'page': 10, 'total_pages': 19, 'format': 'PDF 1.5', 'title': '', 'author': 'David', 'subject': '', 'keywords': '', 'creator': 'Microsoft® Office Word 2007', 'producer': 'Microsoft® Office Word 2007', 'creationDate': \"D:20140723120649-04'00'\", 'modDate': \"D:20140723120649-04'00'\", 'trapped': ''}),\n",
       " Document(page_content='waterand in finer sediment than the more desiccation - tolerant h. nudus ( sliger 1982 ). there is still considerable habitat overlap between these two species ; the underside of a single rock may have', metadata={'source': 'hms/fhl_2014_Charifson_34622 (1).pdf', 'file_path': 'hms/fhl_2014_Charifson_34622 (1).pdf', 'page': 1, 'total_pages': 19, 'format': 'PDF 1.5', 'title': '', 'author': 'David', 'subject': '', 'keywords': '', 'creator': 'Microsoft® Office Word 2007', 'producer': 'Microsoft® Office Word 2007', 'creationDate': \"D:20140723120649-04'00'\", 'modDate': \"D:20140723120649-04'00'\", 'trapped': ''}),\n",
       " Document(page_content='charifson 10 due to logistical issues surrounding the experimental design and little replication. future studies should include more crabs, the exclusion of non - feeding crabs, and trial periods with longer time intervals. additionally, any subsequent study should utilize multivariate and geometric morphometric methods to quantify claw shape instead of using ratios, as two similar ratios may have different shape. acknowledgements : i would like to thank dianna padilla, michael labarbera, and kevin turner for advice relating to the experimental design of this study. i would also like to thank the director and staff of friday harbor laboratories for use of facilities and permission to collect organisms. friday harbor laboratories, the libbie hyman scholarship, society for integrative and comparative biology, and the stony brook department of ecology and evolution provided financial support and have my gratitude.', metadata={'source': 'hms/fhl_2014_Charifson_34622 (1).pdf', 'file_path': 'hms/fhl_2014_Charifson_34622 (1).pdf', 'page': 9, 'total_pages': 19, 'format': 'PDF 1.5', 'title': '', 'author': 'David', 'subject': '', 'keywords': '', 'creator': 'Microsoft® Office Word 2007', 'producer': 'Microsoft® Office Word 2007', 'creationDate': \"D:20140723120649-04'00'\", 'modDate': \"D:20140723120649-04'00'\", 'trapped': ''})]"
      ]
     },
     "execution_count": 74,
     "metadata": {},
     "output_type": "execute_result"
    }
   ],
   "source": [
    "result6[\"source_documents\"]"
   ]
  },
  {
   "cell_type": "code",
   "execution_count": 75,
   "id": "7d2badc3",
   "metadata": {},
   "outputs": [],
   "source": [
    "query7= \"What are the scientific names of the species mentioned in this paper?\""
   ]
  },
  {
   "cell_type": "code",
   "execution_count": 76,
   "id": "1ecfc03d",
   "metadata": {},
   "outputs": [],
   "source": [
    "result7 = qa_refine({\"query\": query7})"
   ]
  },
  {
   "cell_type": "code",
   "execution_count": 77,
   "id": "3391ed21",
   "metadata": {},
   "outputs": [
    {
     "data": {
      "text/plain": [
       "'Based on the additional context provided, the paper mentions two species:\\n\\n1. H. nudus (scientific name: Hemigrapsus nudus)\\n   - Female H. nudus\\n   - Male H. nudus\\n\\n2. H. oregonensis (scientific name: Hemigrapsus oregonensis)\\n   - Female H. oregonensis\\n   - Male H. oregonensis'"
      ]
     },
     "execution_count": 77,
     "metadata": {},
     "output_type": "execute_result"
    }
   ],
   "source": [
    "result7[\"result\"]"
   ]
  },
  {
   "cell_type": "code",
   "execution_count": 78,
   "id": "24331ca4",
   "metadata": {},
   "outputs": [
    {
     "data": {
      "text/plain": [
       "[Document(page_content='waterand in finer sediment than the more desiccation - tolerant h. nudus ( sliger 1982 ). there is still considerable habitat overlap between these two species ; the underside of a single rock may have', metadata={'source': 'hms/fhl_2014_Charifson_34622 (1).pdf', 'file_path': 'hms/fhl_2014_Charifson_34622 (1).pdf', 'page': 1, 'total_pages': 19, 'format': 'PDF 1.5', 'title': '', 'author': 'David', 'subject': '', 'keywords': '', 'creator': 'Microsoft® Office Word 2007', 'producer': 'Microsoft® Office Word 2007', 'creationDate': \"D:20140723120649-04'00'\", 'modDate': \"D:20140723120649-04'00'\", 'trapped': ''}),\n",
       " Document(page_content='charifson 15 figure 1 : relationship of carapace width and propal height in hemigrapsus. line of best fit from sma regression. see table 1a for descriptive statistics. a ) female h. nudus. b ) male h. nudus. c ) female h. oregonensis. d ) male h. oregonensis.', metadata={'source': 'hms/fhl_2014_Charifson_34622 (1).pdf', 'file_path': 'hms/fhl_2014_Charifson_34622 (1).pdf', 'page': 14, 'total_pages': 19, 'format': 'PDF 1.5', 'title': '', 'author': 'David', 'subject': '', 'keywords': '', 'creator': 'Microsoft® Office Word 2007', 'producer': 'Microsoft® Office Word 2007', 'creationDate': \"D:20140723120649-04'00'\", 'modDate': \"D:20140723120649-04'00'\", 'trapped': ''}),\n",
       " Document(page_content='##f, f. j. 2011. biometry. 4th ed. w. h. freeman, new york, new york, usa. stuart, y. e. and losos, j. b. 2013. ecological character displacement : glass half full or half empty? trends in ecology and evolution 28 : 402 - 408.', metadata={'source': 'hms/fhl_2014_Charifson_34622 (1).pdf', 'file_path': 'hms/fhl_2014_Charifson_34622 (1).pdf', 'page': 10, 'total_pages': 19, 'format': 'PDF 1.5', 'title': '', 'author': 'David', 'subject': '', 'keywords': '', 'creator': 'Microsoft® Office Word 2007', 'producer': 'Microsoft® Office Word 2007', 'creationDate': \"D:20140723120649-04'00'\", 'modDate': \"D:20140723120649-04'00'\", 'trapped': ''}),\n",
       " Document(page_content='charifson 17 figure 3 : differences in propal height : carapace width ratio between sex and species. the sex factor was statistically significant ( f = 125. 6. p < 0. 001 ), while the species factor was insignificant ( f > 0. 01, p = 0. 983 ). there was a significant interaction ( f = 4. 39, p = 0. 042 ). error bars represent standard error of the mean. 0 0. 05 0. 1 0. 15 0. 2 0. 25 0. 3 0. 35 h. nudus h. oregonensis propal height : carapace width crab species female male', metadata={'source': 'hms/fhl_2014_Charifson_34622 (1).pdf', 'file_path': 'hms/fhl_2014_Charifson_34622 (1).pdf', 'page': 16, 'total_pages': 19, 'format': 'PDF 1.5', 'title': '', 'author': 'David', 'subject': '', 'keywords': '', 'creator': 'Microsoft® Office Word 2007', 'producer': 'Microsoft® Office Word 2007', 'creationDate': \"D:20140723120649-04'00'\", 'modDate': \"D:20140723120649-04'00'\", 'trapped': ''})]"
      ]
     },
     "execution_count": 78,
     "metadata": {},
     "output_type": "execute_result"
    }
   ],
   "source": [
    "result7[\"source_documents\"]"
   ]
  },
  {
   "cell_type": "code",
   "execution_count": 79,
   "id": "7ca9dcd9",
   "metadata": {},
   "outputs": [],
   "source": [
    "# qa_refine.run(query7)"
   ]
  },
  {
   "cell_type": "code",
   "execution_count": 80,
   "id": "a5540c86",
   "metadata": {},
   "outputs": [],
   "source": [
    "query8 = \"Does the paper mention where the species were observed or collected, and if so, what locations are given?\""
   ]
  },
  {
   "cell_type": "code",
   "execution_count": 81,
   "id": "c366817c",
   "metadata": {},
   "outputs": [],
   "source": [
    "result8 = qa_refine({\"query\": query8})"
   ]
  },
  {
   "cell_type": "code",
   "execution_count": 82,
   "id": "748d09aa",
   "metadata": {
    "scrolled": true
   },
   "outputs": [
    {
     "data": {
      "text/plain": [
       "'The new context provided does not mention the locations where the species were observed or collected. Therefore, the original answer remains the same. The paper does not mention the specific locations where the species were observed or collected.'"
      ]
     },
     "execution_count": 82,
     "metadata": {},
     "output_type": "execute_result"
    }
   ],
   "source": [
    "result8[\"result\"]"
   ]
  },
  {
   "cell_type": "code",
   "execution_count": 83,
   "id": "a249b081",
   "metadata": {},
   "outputs": [
    {
     "data": {
      "text/plain": [
       "[Document(page_content='waterand in finer sediment than the more desiccation - tolerant h. nudus ( sliger 1982 ). there is still considerable habitat overlap between these two species ; the underside of a single rock may have', metadata={'source': 'hms/fhl_2014_Charifson_34622 (1).pdf', 'file_path': 'hms/fhl_2014_Charifson_34622 (1).pdf', 'page': 1, 'total_pages': 19, 'format': 'PDF 1.5', 'title': '', 'author': 'David', 'subject': '', 'keywords': '', 'creator': 'Microsoft® Office Word 2007', 'producer': 'Microsoft® Office Word 2007', 'creationDate': \"D:20140723120649-04'00'\", 'modDate': \"D:20140723120649-04'00'\", 'trapped': ''}),\n",
       " Document(page_content='##f, f. j. 2011. biometry. 4th ed. w. h. freeman, new york, new york, usa. stuart, y. e. and losos, j. b. 2013. ecological character displacement : glass half full or half empty? trends in ecology and evolution 28 : 402 - 408.', metadata={'source': 'hms/fhl_2014_Charifson_34622 (1).pdf', 'file_path': 'hms/fhl_2014_Charifson_34622 (1).pdf', 'page': 10, 'total_pages': 19, 'format': 'PDF 1.5', 'title': '', 'author': 'David', 'subject': '', 'keywords': '', 'creator': 'Microsoft® Office Word 2007', 'producer': 'Microsoft® Office Word 2007', 'creationDate': \"D:20140723120649-04'00'\", 'modDate': \"D:20140723120649-04'00'\", 'trapped': ''}),\n",
       " Document(page_content='vincta in the field. it should be noted that h. nudus and la. vincta usually occupy different portions of the intertidal and may have little contact with each other, unlike the relationship between h. nudus and li. scutulata. there is some potential for overlap in the winter when la. vincta migrates up shore. although no differences in consumption rates between male and female h. nudus were found, this might be', metadata={'source': 'hms/fhl_2014_Charifson_34622 (1).pdf', 'file_path': 'hms/fhl_2014_Charifson_34622 (1).pdf', 'page': 8, 'total_pages': 19, 'format': 'PDF 1.5', 'title': '', 'author': 'David', 'subject': '', 'keywords': '', 'creator': 'Microsoft® Office Word 2007', 'producer': 'Microsoft® Office Word 2007', 'creationDate': \"D:20140723120649-04'00'\", 'modDate': \"D:20140723120649-04'00'\", 'trapped': ''}),\n",
       " Document(page_content='charifson 15 figure 1 : relationship of carapace width and propal height in hemigrapsus. line of best fit from sma regression. see table 1a for descriptive statistics. a ) female h. nudus. b ) male h. nudus. c ) female h. oregonensis. d ) male h. oregonensis.', metadata={'source': 'hms/fhl_2014_Charifson_34622 (1).pdf', 'file_path': 'hms/fhl_2014_Charifson_34622 (1).pdf', 'page': 14, 'total_pages': 19, 'format': 'PDF 1.5', 'title': '', 'author': 'David', 'subject': '', 'keywords': '', 'creator': 'Microsoft® Office Word 2007', 'producer': 'Microsoft® Office Word 2007', 'creationDate': \"D:20140723120649-04'00'\", 'modDate': \"D:20140723120649-04'00'\", 'trapped': ''})]"
      ]
     },
     "execution_count": 83,
     "metadata": {},
     "output_type": "execute_result"
    }
   ],
   "source": [
    "result8[\"source_documents\"]"
   ]
  },
  {
   "cell_type": "code",
   "execution_count": 84,
   "id": "4b316fd5",
   "metadata": {},
   "outputs": [],
   "source": [
    "query8b = \"Can you give a more specific location of where this study took place?\""
   ]
  },
  {
   "cell_type": "code",
   "execution_count": 85,
   "id": "93c18cc8",
   "metadata": {},
   "outputs": [],
   "source": [
    "result8b = qa_refine({\"query\": query8b})"
   ]
  },
  {
   "cell_type": "code",
   "execution_count": 86,
   "id": "08ddfe7a",
   "metadata": {
    "scrolled": true
   },
   "outputs": [
    {
     "data": {
      "text/plain": [
       "'Thank you for providing the additional context. However, the given information still does not specify the specific location where the study on regression analyses of carapace width and propus measures for different species of crabs (H. nudus and H. oregonensis) took place.'"
      ]
     },
     "execution_count": 86,
     "metadata": {},
     "output_type": "execute_result"
    }
   ],
   "source": [
    "result8b[\"result\"]"
   ]
  },
  {
   "cell_type": "code",
   "execution_count": 87,
   "id": "0749eca4",
   "metadata": {},
   "outputs": [
    {
     "data": {
      "text/plain": [
       "[Document(page_content='and rohlf 2011 ). differences in cw : ph and cw : pw were analyzed using a two - way anova', metadata={'source': 'hms/fhl_2014_Charifson_34622 (1).pdf', 'file_path': 'hms/fhl_2014_Charifson_34622 (1).pdf', 'page': 4, 'total_pages': 19, 'format': 'PDF 1.5', 'title': '', 'author': 'David', 'subject': '', 'keywords': '', 'creator': 'Microsoft® Office Word 2007', 'producer': 'Microsoft® Office Word 2007', 'creationDate': \"D:20140723120649-04'00'\", 'modDate': \"D:20140723120649-04'00'\", 'trapped': ''}),\n",
       " Document(page_content='charifson 19 figure 5 : consumption rates by individual h. nudus. mean consumption rates ( n = 8 trials ) of 3 female ( fe1 to fe3 ) and 3 male ( ma1 to ma3 ) h. nudus. crabs fe1, fe3, and ma3 did not consume snails. the individuals that eat snails did not differ in their consumption rates ( f2, 21 = 2. 52, p = 0. 104 ). error bars represent standard error of the mean. 0 0. 1 0. 2 0. 3 0. 4 0. 5 0. 6 0. 7 0. 8 0. 9 1 fe1 fe2 fe3 ma1 ma2 ma3 mean consumption rate ( snails consumed / hour ) individual h. nudus', metadata={'source': 'hms/fhl_2014_Charifson_34622 (1).pdf', 'file_path': 'hms/fhl_2014_Charifson_34622 (1).pdf', 'page': 18, 'total_pages': 19, 'format': 'PDF 1.5', 'title': '', 'author': 'David', 'subject': '', 'keywords': '', 'creator': 'Microsoft® Office Word 2007', 'producer': 'Microsoft® Office Word 2007', 'creationDate': \"D:20140723120649-04'00'\", 'modDate': \"D:20140723120649-04'00'\", 'trapped': ''}),\n",
       " Document(page_content='charifson 13 table 1 : sma regressions of carapace width and propus measures. a ) the relationship between carapace width and propal height. x is carapace width and y is propal height. b ) the relationship between carapace width and propal height. x is carapace width and y is propal width. sma regression a n carapace width vs propal height r2 female h. nudus 13 y = 0. 273 * x - 0. 678 0. 976 male h. nudus 13 y = 0. 311 * x - 1. 385 0. 868 female h. oregonensis 9 y = 0. 351 * x - 0. 833 0. 894 male h. oregonensis 14 y = 0. 39 * x - 1. 149 0. 693 sma regression b n carapace width vs propal width r2 female h. nudus 13 y = 0. 157 * x - 0. 386 0. 927 male h. nudus 13 y = 0. 209 * x - 1. 288 0. 859 female h. oregonensis 9 y = 0. 175 * x + 0. 037 0. 724 male h. oregonensis 14 y = 0. 244 * x - 0. 688 0. 534', metadata={'source': 'hms/fhl_2014_Charifson_34622 (1).pdf', 'file_path': 'hms/fhl_2014_Charifson_34622 (1).pdf', 'page': 12, 'total_pages': 19, 'format': 'PDF 1.5', 'title': '', 'author': 'David', 'subject': '', 'keywords': '', 'creator': 'Microsoft® Office Word 2007', 'producer': 'Microsoft® Office Word 2007', 'creationDate': \"D:20140723120649-04'00'\", 'modDate': \"D:20140723120649-04'00'\", 'trapped': ''}),\n",
       " Document(page_content='##f, f. j. 2011. biometry. 4th ed. w. h. freeman, new york, new york, usa. stuart, y. e. and losos, j. b. 2013. ecological character displacement : glass half full or half empty? trends in ecology and evolution 28 : 402 - 408.', metadata={'source': 'hms/fhl_2014_Charifson_34622 (1).pdf', 'file_path': 'hms/fhl_2014_Charifson_34622 (1).pdf', 'page': 10, 'total_pages': 19, 'format': 'PDF 1.5', 'title': '', 'author': 'David', 'subject': '', 'keywords': '', 'creator': 'Microsoft® Office Word 2007', 'producer': 'Microsoft® Office Word 2007', 'creationDate': \"D:20140723120649-04'00'\", 'modDate': \"D:20140723120649-04'00'\", 'trapped': ''})]"
      ]
     },
     "execution_count": 87,
     "metadata": {},
     "output_type": "execute_result"
    }
   ],
   "source": [
    "result8b[\"source_documents\"]"
   ]
  },
  {
   "cell_type": "code",
   "execution_count": 88,
   "id": "f532e7c4",
   "metadata": {},
   "outputs": [],
   "source": [
    "# qa_refine.run(query8)"
   ]
  },
  {
   "cell_type": "code",
   "execution_count": 89,
   "id": "1d819d2a",
   "metadata": {},
   "outputs": [],
   "source": [
    "query9 = \"Are any coordinate locations given in latitude / longitude, and if so, what are they?\""
   ]
  },
  {
   "cell_type": "code",
   "execution_count": 90,
   "id": "18bf55ff",
   "metadata": {},
   "outputs": [],
   "source": [
    "result9 = qa_refine({\"query\": query9})"
   ]
  },
  {
   "cell_type": "code",
   "execution_count": 91,
   "id": "3462871b",
   "metadata": {},
   "outputs": [
    {
     "data": {
      "text/plain": [
       "'Apologies for the confusion, but even with the additional context, there are no specific coordinate locations mentioned in the provided text. The text seems to revolve around analyzing differences in cw:ph and cw:pw using a two-way ANOVA. Therefore, there are still no coordinate locations given in latitude/longitude.'"
      ]
     },
     "execution_count": 91,
     "metadata": {},
     "output_type": "execute_result"
    }
   ],
   "source": [
    "result9[\"result\"]"
   ]
  },
  {
   "cell_type": "code",
   "execution_count": 92,
   "id": "e01160cd",
   "metadata": {},
   "outputs": [
    {
     "data": {
      "text/plain": [
       "[Document(page_content='to right sides of the propus. all claw measurements were made on the left cheliped.', metadata={'source': 'hms/fhl_2014_Charifson_34622 (1).pdf', 'file_path': 'hms/fhl_2014_Charifson_34622 (1).pdf', 'page': 3, 'total_pages': 19, 'format': 'PDF 1.5', 'title': '', 'author': 'David', 'subject': '', 'keywords': '', 'creator': 'Microsoft® Office Word 2007', 'producer': 'Microsoft® Office Word 2007', 'creationDate': \"D:20140723120649-04'00'\", 'modDate': \"D:20140723120649-04'00'\", 'trapped': ''}),\n",
       " Document(page_content='charifson 15 figure 1 : relationship of carapace width and propal height in hemigrapsus. line of best fit from sma regression. see table 1a for descriptive statistics. a ) female h. nudus. b ) male h. nudus. c ) female h. oregonensis. d ) male h. oregonensis.', metadata={'source': 'hms/fhl_2014_Charifson_34622 (1).pdf', 'file_path': 'hms/fhl_2014_Charifson_34622 (1).pdf', 'page': 14, 'total_pages': 19, 'format': 'PDF 1.5', 'title': '', 'author': 'David', 'subject': '', 'keywords': '', 'creator': 'Microsoft® Office Word 2007', 'producer': 'Microsoft® Office Word 2007', 'creationDate': \"D:20140723120649-04'00'\", 'modDate': \"D:20140723120649-04'00'\", 'trapped': ''}),\n",
       " Document(page_content='charifson 16 figure 2 : relationship of carapace width and propal width in hemigrapsus. line of best fit from sma regression. see table 1b for descriptive statistics. a ) female h. nudus. b ) male h. nudus. c ) female h. oregonensis. d ) male h. oregonensis.', metadata={'source': 'hms/fhl_2014_Charifson_34622 (1).pdf', 'file_path': 'hms/fhl_2014_Charifson_34622 (1).pdf', 'page': 15, 'total_pages': 19, 'format': 'PDF 1.5', 'title': '', 'author': 'David', 'subject': '', 'keywords': '', 'creator': 'Microsoft® Office Word 2007', 'producer': 'Microsoft® Office Word 2007', 'creationDate': \"D:20140723120649-04'00'\", 'modDate': \"D:20140723120649-04'00'\", 'trapped': ''}),\n",
       " Document(page_content='and rohlf 2011 ). differences in cw : ph and cw : pw were analyzed using a two - way anova', metadata={'source': 'hms/fhl_2014_Charifson_34622 (1).pdf', 'file_path': 'hms/fhl_2014_Charifson_34622 (1).pdf', 'page': 4, 'total_pages': 19, 'format': 'PDF 1.5', 'title': '', 'author': 'David', 'subject': '', 'keywords': '', 'creator': 'Microsoft® Office Word 2007', 'producer': 'Microsoft® Office Word 2007', 'creationDate': \"D:20140723120649-04'00'\", 'modDate': \"D:20140723120649-04'00'\", 'trapped': ''})]"
      ]
     },
     "execution_count": 92,
     "metadata": {},
     "output_type": "execute_result"
    }
   ],
   "source": [
    "result9[\"source_documents\"]"
   ]
  },
  {
   "cell_type": "code",
   "execution_count": 93,
   "id": "2728138b",
   "metadata": {},
   "outputs": [],
   "source": [
    "# qa_refine.run(query9)"
   ]
  },
  {
   "cell_type": "code",
   "execution_count": 94,
   "id": "f1bf53d9",
   "metadata": {},
   "outputs": [],
   "source": [
    "query10 = \"In what habitat were the species found?\""
   ]
  },
  {
   "cell_type": "code",
   "execution_count": 95,
   "id": "41f794b3",
   "metadata": {},
   "outputs": [],
   "source": [
    "result10 = qa_refine({\"query\": query10})"
   ]
  },
  {
   "cell_type": "code",
   "execution_count": 96,
   "id": "e11a0c59",
   "metadata": {},
   "outputs": [
    {
     "data": {
      "text/plain": [
       "'The new context provided does not mention any specific habitat information for the species. Therefore, the original answer still stands as the most accurate response. Based on the information provided in the original question and the absence of additional details in the new context, it is not possible to determine the specific habitat where the mentioned species are found.'"
      ]
     },
     "execution_count": 96,
     "metadata": {},
     "output_type": "execute_result"
    }
   ],
   "source": [
    "result10[\"result\"]"
   ]
  },
  {
   "cell_type": "code",
   "execution_count": 97,
   "id": "66d0d2e4",
   "metadata": {},
   "outputs": [
    {
     "data": {
      "text/plain": [
       "[Document(page_content='waterand in finer sediment than the more desiccation - tolerant h. nudus ( sliger 1982 ). there is still considerable habitat overlap between these two species ; the underside of a single rock may have', metadata={'source': 'hms/fhl_2014_Charifson_34622 (1).pdf', 'file_path': 'hms/fhl_2014_Charifson_34622 (1).pdf', 'page': 1, 'total_pages': 19, 'format': 'PDF 1.5', 'title': '', 'author': 'David', 'subject': '', 'keywords': '', 'creator': 'Microsoft® Office Word 2007', 'producer': 'Microsoft® Office Word 2007', 'creationDate': \"D:20140723120649-04'00'\", 'modDate': \"D:20140723120649-04'00'\", 'trapped': ''}),\n",
       " Document(page_content='##f, f. j. 2011. biometry. 4th ed. w. h. freeman, new york, new york, usa. stuart, y. e. and losos, j. b. 2013. ecological character displacement : glass half full or half empty? trends in ecology and evolution 28 : 402 - 408.', metadata={'source': 'hms/fhl_2014_Charifson_34622 (1).pdf', 'file_path': 'hms/fhl_2014_Charifson_34622 (1).pdf', 'page': 10, 'total_pages': 19, 'format': 'PDF 1.5', 'title': '', 'author': 'David', 'subject': '', 'keywords': '', 'creator': 'Microsoft® Office Word 2007', 'producer': 'Microsoft® Office Word 2007', 'creationDate': \"D:20140723120649-04'00'\", 'modDate': \"D:20140723120649-04'00'\", 'trapped': ''}),\n",
       " Document(page_content='vincta in the field. it should be noted that h. nudus and la. vincta usually occupy different portions of the intertidal and may have little contact with each other, unlike the relationship between h. nudus and li. scutulata. there is some potential for overlap in the winter when la. vincta migrates up shore. although no differences in consumption rates between male and female h. nudus were found, this might be', metadata={'source': 'hms/fhl_2014_Charifson_34622 (1).pdf', 'file_path': 'hms/fhl_2014_Charifson_34622 (1).pdf', 'page': 8, 'total_pages': 19, 'format': 'PDF 1.5', 'title': '', 'author': 'David', 'subject': '', 'keywords': '', 'creator': 'Microsoft® Office Word 2007', 'producer': 'Microsoft® Office Word 2007', 'creationDate': \"D:20140723120649-04'00'\", 'modDate': \"D:20140723120649-04'00'\", 'trapped': ''}),\n",
       " Document(page_content='charifson 15 figure 1 : relationship of carapace width and propal height in hemigrapsus. line of best fit from sma regression. see table 1a for descriptive statistics. a ) female h. nudus. b ) male h. nudus. c ) female h. oregonensis. d ) male h. oregonensis.', metadata={'source': 'hms/fhl_2014_Charifson_34622 (1).pdf', 'file_path': 'hms/fhl_2014_Charifson_34622 (1).pdf', 'page': 14, 'total_pages': 19, 'format': 'PDF 1.5', 'title': '', 'author': 'David', 'subject': '', 'keywords': '', 'creator': 'Microsoft® Office Word 2007', 'producer': 'Microsoft® Office Word 2007', 'creationDate': \"D:20140723120649-04'00'\", 'modDate': \"D:20140723120649-04'00'\", 'trapped': ''})]"
      ]
     },
     "execution_count": 97,
     "metadata": {},
     "output_type": "execute_result"
    }
   ],
   "source": [
    "result10[\"source_documents\"]"
   ]
  },
  {
   "cell_type": "code",
   "execution_count": 98,
   "id": "047738e6",
   "metadata": {},
   "outputs": [],
   "source": [
    "# qa_refine.run(query10)"
   ]
  },
  {
   "cell_type": "code",
   "execution_count": 99,
   "id": "e32a1fb9",
   "metadata": {},
   "outputs": [],
   "source": [
    "query11 = \"Does the paper mention a year, date and/or time that species were collected or observed, and if so, what was mentioned?\""
   ]
  },
  {
   "cell_type": "code",
   "execution_count": 100,
   "id": "c4240d4f",
   "metadata": {},
   "outputs": [],
   "source": [
    "result11 = qa_refine({\"query\": query11})"
   ]
  },
  {
   "cell_type": "code",
   "execution_count": 101,
   "id": "a25a8ba9",
   "metadata": {},
   "outputs": [
    {
     "data": {
      "text/plain": [
       "'Based on the new context provided, the paper does mention the propal width: carapace width ratio between sexes and species. However, there is still no mention of a specific year, date, or time when the species were collected or observed.'"
      ]
     },
     "execution_count": 101,
     "metadata": {},
     "output_type": "execute_result"
    }
   ],
   "source": [
    "result11[\"result\"]"
   ]
  },
  {
   "cell_type": "code",
   "execution_count": 102,
   "id": "5cb014c5",
   "metadata": {},
   "outputs": [
    {
     "data": {
      "text/plain": [
       "[Document(page_content='##f, f. j. 2011. biometry. 4th ed. w. h. freeman, new york, new york, usa. stuart, y. e. and losos, j. b. 2013. ecological character displacement : glass half full or half empty? trends in ecology and evolution 28 : 402 - 408.', metadata={'source': 'hms/fhl_2014_Charifson_34622 (1).pdf', 'file_path': 'hms/fhl_2014_Charifson_34622 (1).pdf', 'page': 10, 'total_pages': 19, 'format': 'PDF 1.5', 'title': '', 'author': 'David', 'subject': '', 'keywords': '', 'creator': 'Microsoft® Office Word 2007', 'producer': 'Microsoft® Office Word 2007', 'creationDate': \"D:20140723120649-04'00'\", 'modDate': \"D:20140723120649-04'00'\", 'trapped': ''}),\n",
       " Document(page_content='waterand in finer sediment than the more desiccation - tolerant h. nudus ( sliger 1982 ). there is still considerable habitat overlap between these two species ; the underside of a single rock may have', metadata={'source': 'hms/fhl_2014_Charifson_34622 (1).pdf', 'file_path': 'hms/fhl_2014_Charifson_34622 (1).pdf', 'page': 1, 'total_pages': 19, 'format': 'PDF 1.5', 'title': '', 'author': 'David', 'subject': '', 'keywords': '', 'creator': 'Microsoft® Office Word 2007', 'producer': 'Microsoft® Office Word 2007', 'creationDate': \"D:20140723120649-04'00'\", 'modDate': \"D:20140723120649-04'00'\", 'trapped': ''}),\n",
       " Document(page_content='charifson 17 figure 3 : differences in propal height : carapace width ratio between sex and species. the sex factor was statistically significant ( f = 125. 6. p < 0. 001 ), while the species factor was insignificant ( f > 0. 01, p = 0. 983 ). there was a significant interaction ( f = 4. 39, p = 0. 042 ). error bars represent standard error of the mean. 0 0. 05 0. 1 0. 15 0. 2 0. 25 0. 3 0. 35 h. nudus h. oregonensis propal height : carapace width crab species female male', metadata={'source': 'hms/fhl_2014_Charifson_34622 (1).pdf', 'file_path': 'hms/fhl_2014_Charifson_34622 (1).pdf', 'page': 16, 'total_pages': 19, 'format': 'PDF 1.5', 'title': '', 'author': 'David', 'subject': '', 'keywords': '', 'creator': 'Microsoft® Office Word 2007', 'producer': 'Microsoft® Office Word 2007', 'creationDate': \"D:20140723120649-04'00'\", 'modDate': \"D:20140723120649-04'00'\", 'trapped': ''}),\n",
       " Document(page_content='charifson 18 figure 4 : differences in propal width : carapace width ratio between sex and species. the sex factor was statistically significant ( f1, 45 = 103. 8. p < 0. 001 ), while the species factor was insignificant ( f1, 45 = 0. 09, p = 0. 764 ). there was a significant interaction ( f1, 45 = 7. 19, p = 0. 01 ). error bars represent standard error of the mean. 0 0. 05 0. 1 0. 15 0. 2 0. 25 h. nudus h. oregonensis propal widtht : carapace width crab species female male', metadata={'source': 'hms/fhl_2014_Charifson_34622 (1).pdf', 'file_path': 'hms/fhl_2014_Charifson_34622 (1).pdf', 'page': 17, 'total_pages': 19, 'format': 'PDF 1.5', 'title': '', 'author': 'David', 'subject': '', 'keywords': '', 'creator': 'Microsoft® Office Word 2007', 'producer': 'Microsoft® Office Word 2007', 'creationDate': \"D:20140723120649-04'00'\", 'modDate': \"D:20140723120649-04'00'\", 'trapped': ''})]"
      ]
     },
     "execution_count": 102,
     "metadata": {},
     "output_type": "execute_result"
    }
   ],
   "source": [
    "result11[\"source_documents\"]"
   ]
  },
  {
   "cell_type": "code",
   "execution_count": 103,
   "id": "10ad2959",
   "metadata": {},
   "outputs": [],
   "source": [
    "# qa_refine.run(query11)"
   ]
  },
  {
   "cell_type": "code",
   "execution_count": 104,
   "id": "c5a8708b",
   "metadata": {},
   "outputs": [],
   "source": [
    "query12 = \"Are there any maps, figures, tables or diagrams in the paper?\""
   ]
  },
  {
   "cell_type": "code",
   "execution_count": 105,
   "id": "09086a5d",
   "metadata": {},
   "outputs": [],
   "source": [
    "result12 = qa_refine({\"query\": query12})"
   ]
  },
  {
   "cell_type": "code",
   "execution_count": 106,
   "id": "798698fd",
   "metadata": {},
   "outputs": [
    {
     "data": {
      "text/plain": [
       "'Based on the new context provided, there is no mention of any additional maps, tables, or diagrams in the paper. Therefore, the original answer remains unchanged.'"
      ]
     },
     "execution_count": 106,
     "metadata": {},
     "output_type": "execute_result"
    }
   ],
   "source": [
    "result12[\"result\"]"
   ]
  },
  {
   "cell_type": "code",
   "execution_count": 107,
   "id": "078bc64c",
   "metadata": {},
   "outputs": [
    {
     "data": {
      "text/plain": [
       "[Document(page_content='to right sides of the propus. all claw measurements were made on the left cheliped.', metadata={'source': 'hms/fhl_2014_Charifson_34622 (1).pdf', 'file_path': 'hms/fhl_2014_Charifson_34622 (1).pdf', 'page': 3, 'total_pages': 19, 'format': 'PDF 1.5', 'title': '', 'author': 'David', 'subject': '', 'keywords': '', 'creator': 'Microsoft® Office Word 2007', 'producer': 'Microsoft® Office Word 2007', 'creationDate': \"D:20140723120649-04'00'\", 'modDate': \"D:20140723120649-04'00'\", 'trapped': ''}),\n",
       " Document(page_content='charifson 16 figure 2 : relationship of carapace width and propal width in hemigrapsus. line of best fit from sma regression. see table 1b for descriptive statistics. a ) female h. nudus. b ) male h. nudus. c ) female h. oregonensis. d ) male h. oregonensis.', metadata={'source': 'hms/fhl_2014_Charifson_34622 (1).pdf', 'file_path': 'hms/fhl_2014_Charifson_34622 (1).pdf', 'page': 15, 'total_pages': 19, 'format': 'PDF 1.5', 'title': '', 'author': 'David', 'subject': '', 'keywords': '', 'creator': 'Microsoft® Office Word 2007', 'producer': 'Microsoft® Office Word 2007', 'creationDate': \"D:20140723120649-04'00'\", 'modDate': \"D:20140723120649-04'00'\", 'trapped': ''}),\n",
       " Document(page_content='charifson 15 figure 1 : relationship of carapace width and propal height in hemigrapsus. line of best fit from sma regression. see table 1a for descriptive statistics. a ) female h. nudus. b ) male h. nudus. c ) female h. oregonensis. d ) male h. oregonensis.', metadata={'source': 'hms/fhl_2014_Charifson_34622 (1).pdf', 'file_path': 'hms/fhl_2014_Charifson_34622 (1).pdf', 'page': 14, 'total_pages': 19, 'format': 'PDF 1.5', 'title': '', 'author': 'David', 'subject': '', 'keywords': '', 'creator': 'Microsoft® Office Word 2007', 'producer': 'Microsoft® Office Word 2007', 'creationDate': \"D:20140723120649-04'00'\", 'modDate': \"D:20140723120649-04'00'\", 'trapped': ''}),\n",
       " Document(page_content='and rohlf 2011 ). differences in cw : ph and cw : pw were analyzed using a two - way anova', metadata={'source': 'hms/fhl_2014_Charifson_34622 (1).pdf', 'file_path': 'hms/fhl_2014_Charifson_34622 (1).pdf', 'page': 4, 'total_pages': 19, 'format': 'PDF 1.5', 'title': '', 'author': 'David', 'subject': '', 'keywords': '', 'creator': 'Microsoft® Office Word 2007', 'producer': 'Microsoft® Office Word 2007', 'creationDate': \"D:20140723120649-04'00'\", 'modDate': \"D:20140723120649-04'00'\", 'trapped': ''})]"
      ]
     },
     "execution_count": 107,
     "metadata": {},
     "output_type": "execute_result"
    }
   ],
   "source": [
    "result12[\"source_documents\"]"
   ]
  },
  {
   "cell_type": "code",
   "execution_count": 108,
   "id": "d3d65018",
   "metadata": {
    "scrolled": true
   },
   "outputs": [],
   "source": [
    "# qa_refine.run(query12)"
   ]
  },
  {
   "cell_type": "markdown",
   "id": "00b72109",
   "metadata": {},
   "source": [
    "# Map Reduce Document Chain\n",
    "\n",
    "The map reduce documents chain first applies an LLM chain to each document individually (the Map step), treating the chain output as a new document. It then passes all the new documents to a separate combine documents chain to get a single output (the Reduce step). It can optionally first compress, or collapse, the mapped documents to make sure that they fit in the combine documents chain (which will often pass them to an LLM). This compression step is performed recursively if necessary."
   ]
  },
  {
   "cell_type": "code",
   "execution_count": 109,
   "id": "fddef6c0",
   "metadata": {},
   "outputs": [],
   "source": [
    "qa_reduce = RetrievalQA.from_chain_type(llm =llm, chain_type = \"map_reduce\", retriever = vs2.as_retriever())"
   ]
  },
  {
   "cell_type": "code",
   "execution_count": 110,
   "id": "77e17827",
   "metadata": {},
   "outputs": [
    {
     "data": {
      "text/plain": [
       "'Based on the provided text, it is not possible to determine what the paper is about. The text only presents regression equations for the relationship between carapace width and propal height/width for different species and genders of organisms. More context or additional information is needed to determine the overall topic or purpose of the paper.'"
      ]
     },
     "execution_count": 110,
     "metadata": {},
     "output_type": "execute_result"
    }
   ],
   "source": [
    "#What is this paper about?\n",
    "qa_reduce.run(query)"
   ]
  },
  {
   "cell_type": "code",
   "execution_count": 111,
   "id": "1506416c",
   "metadata": {},
   "outputs": [
    {
     "data": {
      "text/plain": [
       "'The purpose of the paper is to analyze the relationship between carapace width and propal height/width in different species of crabs, investigating the differences in ratios between sexes and species.'"
      ]
     },
     "execution_count": 111,
     "metadata": {},
     "output_type": "execute_result"
    }
   ],
   "source": [
    "# Write a one sentence summary of the purpose of the paper.\n",
    "\n",
    "qa_reduce.run(query2)"
   ]
  },
  {
   "cell_type": "code",
   "execution_count": 112,
   "id": "f28ee093",
   "metadata": {},
   "outputs": [
    {
     "data": {
      "text/plain": [
       "'The paper examines the relationship between carapace width and propal height and width in two species of crabs, H. nudus and H. oregonensis. The authors collected data on female and male crabs and used simple moving average (SMA) regression analysis to analyze the data. They found that carapace width is positively correlated with propal height and width in both species, with varying strength of correlation. Descriptive statistics can be found in Table 1a for carapace width and propal height, and in Table 1b for carapace width and propal width.'"
      ]
     },
     "execution_count": 112,
     "metadata": {},
     "output_type": "execute_result"
    }
   ],
   "source": [
    "# Summarize the paper concisely with reference to materials and methods.\n",
    "qa_reduce.run(query4)"
   ]
  },
  {
   "cell_type": "code",
   "execution_count": 113,
   "id": "6ea4984e",
   "metadata": {},
   "outputs": [
    {
     "data": {
      "text/plain": [
       "'Based on the provided portion of the document, it does not appear to include any specific observations.'"
      ]
     },
     "execution_count": 113,
     "metadata": {},
     "output_type": "execute_result"
    }
   ],
   "source": [
    "#Terms that may be used to identify an observation include “in the field”, “this study”, “observed”, “taken”, “collected”, “sampled”, “collection”, “seen”, “harvested”, “found”, etc. Does the paper include one or more observations? \n",
    "\n",
    "qa_reduce.run(query5)"
   ]
  },
  {
   "cell_type": "code",
   "execution_count": 114,
   "id": "cdbd0e2f",
   "metadata": {},
   "outputs": [
    {
     "data": {
      "text/plain": [
       "'There is no information provided in the given portion of the document to determine whether the research conducted was observational or experimental, or if it was conducted in the natural environment or with organisms collected in nature.'"
      ]
     },
     "execution_count": 114,
     "metadata": {},
     "output_type": "execute_result"
    }
   ],
   "source": [
    "#Does this paper contain observational or experimental research conducted in the natural environment or with organisms collected in nature?\n",
    "\n",
    "qa_reduce.run(query6)"
   ]
  },
  {
   "cell_type": "code",
   "execution_count": 115,
   "id": "e12b3257",
   "metadata": {},
   "outputs": [
    {
     "data": {
      "text/plain": [
       "'The scientific names of the species mentioned in this paper are Hemigrapsus nudus and Hemigrapsus oregonensis.'"
      ]
     },
     "execution_count": 115,
     "metadata": {},
     "output_type": "execute_result"
    }
   ],
   "source": [
    "#What are the scientific names of the species mentioned in this paper?\n",
    "qa_reduce.run(query7)"
   ]
  },
  {
   "cell_type": "code",
   "execution_count": 116,
   "id": "ccc76bb5",
   "metadata": {},
   "outputs": [
    {
     "data": {
      "text/plain": [
       "'The provided portion of the document does not mention the locations where the species were observed or collected.'"
      ]
     },
     "execution_count": 116,
     "metadata": {},
     "output_type": "execute_result"
    }
   ],
   "source": [
    "# Does the paper mention where the species were observed or collected, and if so, what locations are given?\n",
    "qa_reduce.run(query8)"
   ]
  },
  {
   "cell_type": "code",
   "execution_count": 117,
   "id": "009a8f96",
   "metadata": {},
   "outputs": [
    {
     "data": {
      "text/plain": [
       "'No, there are no coordinate locations given in latitude/longitude in the provided text.'"
      ]
     },
     "execution_count": 117,
     "metadata": {},
     "output_type": "execute_result"
    }
   ],
   "source": [
    "#Are any coordinate locations given in latitude / longitude, and if so, what are they?\n",
    "\n",
    "qa_reduce.run(query9)"
   ]
  },
  {
   "cell_type": "code",
   "execution_count": 118,
   "id": "841c790a",
   "metadata": {},
   "outputs": [
    {
     "data": {
      "text/plain": [
       "'The given portion of the document does not provide any information about the habitat in which the species were found. Therefore, it is unknown in what habitat the species were found.'"
      ]
     },
     "execution_count": 118,
     "metadata": {},
     "output_type": "execute_result"
    }
   ],
   "source": [
    "#In what habitat were the species found?\n",
    "qa_reduce.run(query10)"
   ]
  },
  {
   "cell_type": "code",
   "execution_count": 119,
   "id": "3410eb49",
   "metadata": {},
   "outputs": [
    {
     "data": {
      "text/plain": [
       "'The provided portion of the document does not mention anything about the year, date, or time of species collection or observation.'"
      ]
     },
     "execution_count": 119,
     "metadata": {},
     "output_type": "execute_result"
    }
   ],
   "source": [
    "#Does the paper mention a year, date and/or time that species were collected or observed, and if so, what was mentioned?\n",
    "\n",
    "qa_reduce.run(query11)"
   ]
  },
  {
   "cell_type": "code",
   "execution_count": 120,
   "id": "cd5342a8",
   "metadata": {
    "scrolled": true
   },
   "outputs": [
    {
     "data": {
      "text/plain": [
       "'There is no information provided in the given portion of the document about the presence of maps, figures, tables, or diagrams.'"
      ]
     },
     "execution_count": 120,
     "metadata": {},
     "output_type": "execute_result"
    }
   ],
   "source": [
    "#Are there any maps, figures, tables or diagrams in the paper?\n",
    "\n",
    "qa_reduce.run(query12)"
   ]
  },
  {
   "cell_type": "markdown",
   "id": "f3a6bb33",
   "metadata": {},
   "source": [
    "# Map Re-rank Document Chain\n",
    "\n",
    "The map re-rank documents chain runs an initial prompt on each document, that not only tries to complete a task but also gives a score for how certain it is in its answer. The highest scoring response is returned."
   ]
  },
  {
   "cell_type": "code",
   "execution_count": 121,
   "id": "d98dd0f5",
   "metadata": {},
   "outputs": [],
   "source": [
    "qa_rank = RetrievalQA.from_chain_type(llm =llm, chain_type = \"map_rerank\", retriever = vs2.as_retriever())"
   ]
  },
  {
   "cell_type": "code",
   "execution_count": 122,
   "id": "cc432c3d",
   "metadata": {},
   "outputs": [
    {
     "name": "stderr",
     "output_type": "stream",
     "text": [
      "C:\\Users\\aclao89\\AppData\\Local\\anaconda3\\lib\\site-packages\\langchain\\chains\\llm.py:303: UserWarning: The apply_and_parse method is deprecated, instead pass an output parser directly to LLMChain.\n",
      "  warnings.warn(\n"
     ]
    },
    {
     "data": {
      "text/plain": [
       "'This document is about biometry and ecological character displacement.'"
      ]
     },
     "execution_count": 122,
     "metadata": {},
     "output_type": "execute_result"
    }
   ],
   "source": [
    "#What is this paper about?\n",
    "\n",
    "qa_rank.run(query)"
   ]
  },
  {
   "cell_type": "code",
   "execution_count": 123,
   "id": "6ec11f79",
   "metadata": {},
   "outputs": [
    {
     "data": {
      "text/plain": [
       "'This document does not provide enough information to determine the purpose of the paper.'"
      ]
     },
     "execution_count": 123,
     "metadata": {},
     "output_type": "execute_result"
    }
   ],
   "source": [
    "#Write a one sentence summary of the purpose of the paper\n",
    "qa_rank.run(query2)"
   ]
  },
  {
   "cell_type": "code",
   "execution_count": 124,
   "id": "bb64f8c4",
   "metadata": {},
   "outputs": [
    {
     "data": {
      "text/plain": [
       "'This document provides a summary of the relationship between carapace width and propal width in different species of Hemigrapsus crabs. It includes data for female and male H. nudus and H. oregonensis, along with a line of best fit obtained from a simple linear regression analysis. Table 1b contains descriptive statistics for the data. '"
      ]
     },
     "execution_count": 124,
     "metadata": {},
     "output_type": "execute_result"
    }
   ],
   "source": [
    "#Summarize the paper concisely with reference to materials and methods.\n",
    "qa_rank.run(query4)"
   ]
  },
  {
   "cell_type": "code",
   "execution_count": 125,
   "id": "1b47225b",
   "metadata": {},
   "outputs": [
    {
     "data": {
      "text/plain": [
       "'This document does not answer the question'"
      ]
     },
     "execution_count": 125,
     "metadata": {},
     "output_type": "execute_result"
    }
   ],
   "source": [
    "#Terms that may be used to identify an observation include “in the field”, “this study”, “observed”, “taken”, “collected”, “sampled”, “collection”, “seen”, “harvested”, “found”, etc. Does the paper include one or more observations? \n",
    "qa_rank.run(query5)"
   ]
  },
  {
   "cell_type": "code",
   "execution_count": 126,
   "id": "d8456aec",
   "metadata": {},
   "outputs": [
    {
     "data": {
      "text/plain": [
       "'Yes, this paper contains experimental research conducted in the natural environment with organisms collected in nature.'"
      ]
     },
     "execution_count": 126,
     "metadata": {},
     "output_type": "execute_result"
    }
   ],
   "source": [
    "#Does this paper contain observational or experimental research conducted in the natural environment or with organisms collected in nature?\n",
    "\n",
    "qa_rank.run(query6)"
   ]
  },
  {
   "cell_type": "code",
   "execution_count": 127,
   "id": "9fbef1ad",
   "metadata": {},
   "outputs": [
    {
     "data": {
      "text/plain": [
       "'h. nudus'"
      ]
     },
     "execution_count": 127,
     "metadata": {},
     "output_type": "execute_result"
    }
   ],
   "source": [
    "#What are the scientific names of the species mentioned in this paper?\n",
    "qa_rank.run(query7)"
   ]
  },
  {
   "cell_type": "code",
   "execution_count": 128,
   "id": "28fea792",
   "metadata": {},
   "outputs": [
    {
     "data": {
      "text/plain": [
       "'This document does not mention where the species were observed or collected.'"
      ]
     },
     "execution_count": 128,
     "metadata": {},
     "output_type": "execute_result"
    }
   ],
   "source": [
    "#Does the paper mention where the species were observed or collected, and if so, what locations are given?\n",
    "\n",
    "qa_rank.run(query8)"
   ]
  },
  {
   "cell_type": "code",
   "execution_count": 129,
   "id": "e25bbc4e",
   "metadata": {},
   "outputs": [
    {
     "data": {
      "text/plain": [
       "'No, there are no coordinate locations given in latitude/longitude.'"
      ]
     },
     "execution_count": 129,
     "metadata": {},
     "output_type": "execute_result"
    }
   ],
   "source": [
    "#Are any coordinate locations given in latitude / longitude, and if so, what are they?\n",
    "\n",
    "qa_rank.run(query9)"
   ]
  },
  {
   "cell_type": "code",
   "execution_count": 130,
   "id": "3397cb0c",
   "metadata": {},
   "outputs": [
    {
     "data": {
      "text/plain": [
       "'The species were found in the intertidal habitat.'"
      ]
     },
     "execution_count": 130,
     "metadata": {},
     "output_type": "execute_result"
    }
   ],
   "source": [
    "# In what habitat were the species found?\n",
    "qa_rank.run(query10)"
   ]
  },
  {
   "cell_type": "code",
   "execution_count": 131,
   "id": "992b9dc7",
   "metadata": {},
   "outputs": [
    {
     "data": {
      "text/plain": [
       "'This document does not mention a year, date, or time that species were collected or observed.'"
      ]
     },
     "execution_count": 131,
     "metadata": {},
     "output_type": "execute_result"
    }
   ],
   "source": [
    "#Does the paper mention a year, date and/or time that species were collected or observed, and if so, what was mentioned?\n",
    "\n",
    "qa_rank.run(query11)"
   ]
  },
  {
   "cell_type": "code",
   "execution_count": 132,
   "id": "ec7e2c26",
   "metadata": {},
   "outputs": [
    {
     "data": {
      "text/plain": [
       "'Yes, there are figures in the paper. Figure 1 shows the relationship of carapace width and propal height in hemigrapsus. It includes four subfigures: a) female H. nudus, b) male H. nudus, c) female H. oregonensis, and d) male H. oregonensis. Table 1a also provides descriptive statistics. '"
      ]
     },
     "execution_count": 132,
     "metadata": {},
     "output_type": "execute_result"
    }
   ],
   "source": [
    "#Are there any maps, figures, tables or diagrams in the paper?\n",
    "\n",
    "qa_rank.run(query12)"
   ]
  },
  {
   "cell_type": "markdown",
   "id": "e2772af6",
   "metadata": {},
   "source": [
    "# Stuff Document Chain w/ ConversationBufferMemory\n",
    "\n",
    "The stuff documents chain (\"stuff\" as in \"to stuff\" or \"to fill\") is the most straightforward of the document chains. It takes a list of documents, inserts them all into a prompt and passes that prompt to an LLM.\n",
    "\n",
    "This chain is well-suited for applications where documents are small and only a few are passed in for most calls."
   ]
  },
  {
   "cell_type": "code",
   "execution_count": 133,
   "id": "d3c4469a",
   "metadata": {},
   "outputs": [],
   "source": [
    "template = \"\"\"\n",
    "Use the following context (delimited by <ctx></ctx>) and the chat history (delimited by <hs></hs>) to answer the question:\n",
    "------\n",
    "<ctx>\n",
    "{context}\n",
    "</ctx>\n",
    "------\n",
    "<hs>\n",
    "{history}\n",
    "</hs>\n",
    "------\n",
    "{question}\n",
    "Answer:\n",
    "\"\"\"\n",
    "prompt = PromptTemplate(\n",
    "    input_variables=[\"history\", \"context\", \"question\"],\n",
    "    template=template,\n",
    ")"
   ]
  },
  {
   "cell_type": "code",
   "execution_count": 134,
   "id": "75490428",
   "metadata": {},
   "outputs": [],
   "source": [
    "qa_stuff = RetrievalQA.from_chain_type(llm =llm, chain_type = \"stuff\", \n",
    "                                        retriever = vs2.as_retriever(),\n",
    "                                        verbose = True,\n",
    "                                        chain_type_kwargs ={\n",
    "                                            \"verbose\": True,\n",
    "                                            \"prompt\" : prompt,\n",
    "                                            \"memory\" : ConversationBufferMemory(\n",
    "                                            memory_key = \"history\",\n",
    "                                            input_key = \"question\")\n",
    "                                        },\n",
    "                                        return_source_documents = True\n",
    "                                       )"
   ]
  },
  {
   "cell_type": "code",
   "execution_count": 135,
   "id": "85e2bf73",
   "metadata": {},
   "outputs": [],
   "source": [
    "# qa_stuff = RetrievalQA.from_chain_type(llm =llm, chain_type = \"stuff\", retriever = vs2.as_retriever())"
   ]
  },
  {
   "cell_type": "code",
   "execution_count": 136,
   "id": "c97f1cb2",
   "metadata": {
    "scrolled": true
   },
   "outputs": [
    {
     "name": "stdout",
     "output_type": "stream",
     "text": [
      "\n",
      "\n",
      "\u001b[1m> Entering new RetrievalQA chain...\u001b[0m\n",
      "\n",
      "\n",
      "\u001b[1m> Entering new StuffDocumentsChain chain...\u001b[0m\n",
      "\n",
      "\n",
      "\u001b[1m> Entering new LLMChain chain...\u001b[0m\n",
      "Prompt after formatting:\n",
      "\u001b[32;1m\u001b[1;3m\n",
      "Use the following context (delimited by <ctx></ctx>) and the chat history (delimited by <hs></hs>) to answer the question:\n",
      "------\n",
      "<ctx>\n",
      "##f, f. j. 2011. biometry. 4th ed. w. h. freeman, new york, new york, usa. stuart, y. e. and losos, j. b. 2013. ecological character displacement : glass half full or half empty? trends in ecology and evolution 28 : 402 - 408.\n",
      "\n",
      "and rohlf 2011 ). differences in cw : ph and cw : pw were analyzed using a two - way anova\n",
      "\n",
      "charifson 13 table 1 : sma regressions of carapace width and propus measures. a ) the relationship between carapace width and propal height. x is carapace width and y is propal height. b ) the relationship between carapace width and propal height. x is carapace width and y is propal width. sma regression a n carapace width vs propal height r2 female h. nudus 13 y = 0. 273 * x - 0. 678 0. 976 male h. nudus 13 y = 0. 311 * x - 1. 385 0. 868 female h. oregonensis 9 y = 0. 351 * x - 0. 833 0. 894 male h. oregonensis 14 y = 0. 39 * x - 1. 149 0. 693 sma regression b n carapace width vs propal width r2 female h. nudus 13 y = 0. 157 * x - 0. 386 0. 927 male h. nudus 13 y = 0. 209 * x - 1. 288 0. 859 female h. oregonensis 9 y = 0. 175 * x + 0. 037 0. 724 male h. oregonensis 14 y = 0. 244 * x - 0. 688 0. 534\n",
      "\n",
      "charifson 19 figure 5 : consumption rates by individual h. nudus. mean consumption rates ( n = 8 trials ) of 3 female ( fe1 to fe3 ) and 3 male ( ma1 to ma3 ) h. nudus. crabs fe1, fe3, and ma3 did not consume snails. the individuals that eat snails did not differ in their consumption rates ( f2, 21 = 2. 52, p = 0. 104 ). error bars represent standard error of the mean. 0 0. 1 0. 2 0. 3 0. 4 0. 5 0. 6 0. 7 0. 8 0. 9 1 fe1 fe2 fe3 ma1 ma2 ma3 mean consumption rate ( snails consumed / hour ) individual h. nudus\n",
      "</ctx>\n",
      "------\n",
      "<hs>\n",
      "\n",
      "</hs>\n",
      "------\n",
      "what is this paper about?\n",
      "Answer:\n",
      "\u001b[0m\n",
      "\n",
      "\u001b[1m> Finished chain.\u001b[0m\n",
      "\n",
      "\u001b[1m> Finished chain.\u001b[0m\n",
      "\n",
      "\u001b[1m> Finished chain.\u001b[0m\n"
     ]
    }
   ],
   "source": [
    "#What is this paper about?\n",
    "stuff_result1 = qa_stuff({\"query\": query})"
   ]
  },
  {
   "cell_type": "code",
   "execution_count": 137,
   "id": "c6a18ab5",
   "metadata": {},
   "outputs": [
    {
     "data": {
      "text/plain": [
       "'The paper is about the analysis of carapace width and propus measures in different species of crabs, specifically H. nudus and H. oregonensis. It also discusses the consumption rates of individual H. nudus crabs.'"
      ]
     },
     "execution_count": 137,
     "metadata": {},
     "output_type": "execute_result"
    }
   ],
   "source": [
    "stuff_result1[\"result\"]"
   ]
  },
  {
   "cell_type": "code",
   "execution_count": 138,
   "id": "5c2f6851",
   "metadata": {},
   "outputs": [
    {
     "data": {
      "text/plain": [
       "[Document(page_content='##f, f. j. 2011. biometry. 4th ed. w. h. freeman, new york, new york, usa. stuart, y. e. and losos, j. b. 2013. ecological character displacement : glass half full or half empty? trends in ecology and evolution 28 : 402 - 408.', metadata={'source': 'hms/fhl_2014_Charifson_34622 (1).pdf', 'file_path': 'hms/fhl_2014_Charifson_34622 (1).pdf', 'page': 10, 'total_pages': 19, 'format': 'PDF 1.5', 'title': '', 'author': 'David', 'subject': '', 'keywords': '', 'creator': 'Microsoft® Office Word 2007', 'producer': 'Microsoft® Office Word 2007', 'creationDate': \"D:20140723120649-04'00'\", 'modDate': \"D:20140723120649-04'00'\", 'trapped': ''}),\n",
       " Document(page_content='and rohlf 2011 ). differences in cw : ph and cw : pw were analyzed using a two - way anova', metadata={'source': 'hms/fhl_2014_Charifson_34622 (1).pdf', 'file_path': 'hms/fhl_2014_Charifson_34622 (1).pdf', 'page': 4, 'total_pages': 19, 'format': 'PDF 1.5', 'title': '', 'author': 'David', 'subject': '', 'keywords': '', 'creator': 'Microsoft® Office Word 2007', 'producer': 'Microsoft® Office Word 2007', 'creationDate': \"D:20140723120649-04'00'\", 'modDate': \"D:20140723120649-04'00'\", 'trapped': ''}),\n",
       " Document(page_content='charifson 13 table 1 : sma regressions of carapace width and propus measures. a ) the relationship between carapace width and propal height. x is carapace width and y is propal height. b ) the relationship between carapace width and propal height. x is carapace width and y is propal width. sma regression a n carapace width vs propal height r2 female h. nudus 13 y = 0. 273 * x - 0. 678 0. 976 male h. nudus 13 y = 0. 311 * x - 1. 385 0. 868 female h. oregonensis 9 y = 0. 351 * x - 0. 833 0. 894 male h. oregonensis 14 y = 0. 39 * x - 1. 149 0. 693 sma regression b n carapace width vs propal width r2 female h. nudus 13 y = 0. 157 * x - 0. 386 0. 927 male h. nudus 13 y = 0. 209 * x - 1. 288 0. 859 female h. oregonensis 9 y = 0. 175 * x + 0. 037 0. 724 male h. oregonensis 14 y = 0. 244 * x - 0. 688 0. 534', metadata={'source': 'hms/fhl_2014_Charifson_34622 (1).pdf', 'file_path': 'hms/fhl_2014_Charifson_34622 (1).pdf', 'page': 12, 'total_pages': 19, 'format': 'PDF 1.5', 'title': '', 'author': 'David', 'subject': '', 'keywords': '', 'creator': 'Microsoft® Office Word 2007', 'producer': 'Microsoft® Office Word 2007', 'creationDate': \"D:20140723120649-04'00'\", 'modDate': \"D:20140723120649-04'00'\", 'trapped': ''}),\n",
       " Document(page_content='charifson 19 figure 5 : consumption rates by individual h. nudus. mean consumption rates ( n = 8 trials ) of 3 female ( fe1 to fe3 ) and 3 male ( ma1 to ma3 ) h. nudus. crabs fe1, fe3, and ma3 did not consume snails. the individuals that eat snails did not differ in their consumption rates ( f2, 21 = 2. 52, p = 0. 104 ). error bars represent standard error of the mean. 0 0. 1 0. 2 0. 3 0. 4 0. 5 0. 6 0. 7 0. 8 0. 9 1 fe1 fe2 fe3 ma1 ma2 ma3 mean consumption rate ( snails consumed / hour ) individual h. nudus', metadata={'source': 'hms/fhl_2014_Charifson_34622 (1).pdf', 'file_path': 'hms/fhl_2014_Charifson_34622 (1).pdf', 'page': 18, 'total_pages': 19, 'format': 'PDF 1.5', 'title': '', 'author': 'David', 'subject': '', 'keywords': '', 'creator': 'Microsoft® Office Word 2007', 'producer': 'Microsoft® Office Word 2007', 'creationDate': \"D:20140723120649-04'00'\", 'modDate': \"D:20140723120649-04'00'\", 'trapped': ''})]"
      ]
     },
     "execution_count": 138,
     "metadata": {},
     "output_type": "execute_result"
    }
   ],
   "source": [
    "stuff_result1[\"source_documents\"]"
   ]
  },
  {
   "cell_type": "code",
   "execution_count": 139,
   "id": "c51f7301",
   "metadata": {},
   "outputs": [
    {
     "name": "stdout",
     "output_type": "stream",
     "text": [
      "\n",
      "\n",
      "\u001b[1m> Entering new RetrievalQA chain...\u001b[0m\n",
      "\n",
      "\n",
      "\u001b[1m> Entering new StuffDocumentsChain chain...\u001b[0m\n",
      "\n",
      "\n",
      "\u001b[1m> Entering new LLMChain chain...\u001b[0m\n",
      "Prompt after formatting:\n",
      "\u001b[32;1m\u001b[1;3m\n",
      "Use the following context (delimited by <ctx></ctx>) and the chat history (delimited by <hs></hs>) to answer the question:\n",
      "------\n",
      "<ctx>\n",
      "charifson 13 table 1 : sma regressions of carapace width and propus measures. a ) the relationship between carapace width and propal height. x is carapace width and y is propal height. b ) the relationship between carapace width and propal height. x is carapace width and y is propal width. sma regression a n carapace width vs propal height r2 female h. nudus 13 y = 0. 273 * x - 0. 678 0. 976 male h. nudus 13 y = 0. 311 * x - 1. 385 0. 868 female h. oregonensis 9 y = 0. 351 * x - 0. 833 0. 894 male h. oregonensis 14 y = 0. 39 * x - 1. 149 0. 693 sma regression b n carapace width vs propal width r2 female h. nudus 13 y = 0. 157 * x - 0. 386 0. 927 male h. nudus 13 y = 0. 209 * x - 1. 288 0. 859 female h. oregonensis 9 y = 0. 175 * x + 0. 037 0. 724 male h. oregonensis 14 y = 0. 244 * x - 0. 688 0. 534\n",
      "\n",
      "and rohlf 2011 ). differences in cw : ph and cw : pw were analyzed using a two - way anova\n",
      "\n",
      "charifson 17 figure 3 : differences in propal height : carapace width ratio between sex and species. the sex factor was statistically significant ( f = 125. 6. p < 0. 001 ), while the species factor was insignificant ( f > 0. 01, p = 0. 983 ). there was a significant interaction ( f = 4. 39, p = 0. 042 ). error bars represent standard error of the mean. 0 0. 05 0. 1 0. 15 0. 2 0. 25 0. 3 0. 35 h. nudus h. oregonensis propal height : carapace width crab species female male\n",
      "\n",
      "charifson 18 figure 4 : differences in propal width : carapace width ratio between sex and species. the sex factor was statistically significant ( f1, 45 = 103. 8. p < 0. 001 ), while the species factor was insignificant ( f1, 45 = 0. 09, p = 0. 764 ). there was a significant interaction ( f1, 45 = 7. 19, p = 0. 01 ). error bars represent standard error of the mean. 0 0. 05 0. 1 0. 15 0. 2 0. 25 h. nudus h. oregonensis propal widtht : carapace width crab species female male\n",
      "</ctx>\n",
      "------\n",
      "<hs>\n",
      "Human: what is this paper about?\n",
      "AI: The paper is about the analysis of carapace width and propus measures in different species of crabs, specifically H. nudus and H. oregonensis. It also discusses the consumption rates of individual H. nudus crabs.\n",
      "</hs>\n",
      "------\n",
      "Write a one sentence summary of the purpose of the paper\n",
      "Answer:\n",
      "\u001b[0m\n",
      "\n",
      "\u001b[1m> Finished chain.\u001b[0m\n",
      "\n",
      "\u001b[1m> Finished chain.\u001b[0m\n",
      "\n",
      "\u001b[1m> Finished chain.\u001b[0m\n"
     ]
    }
   ],
   "source": [
    "#Write a one sentence summary of the purpose of the paper\n",
    "\n",
    "stuff_result2 = qa_stuff({\"query\": query2})"
   ]
  },
  {
   "cell_type": "code",
   "execution_count": 140,
   "id": "e02431a3",
   "metadata": {},
   "outputs": [
    {
     "data": {
      "text/plain": [
       "'The purpose of the paper is to analyze the relationship between carapace width and propus measures in different species of crabs and investigate the differences in propal height and propal width between sexes and species.'"
      ]
     },
     "execution_count": 140,
     "metadata": {},
     "output_type": "execute_result"
    }
   ],
   "source": [
    "stuff_result2[\"result\"]"
   ]
  },
  {
   "cell_type": "code",
   "execution_count": 141,
   "id": "1d642716",
   "metadata": {},
   "outputs": [],
   "source": [
    "query3 = \"And who wrote the paper?\""
   ]
  },
  {
   "cell_type": "code",
   "execution_count": 142,
   "id": "5b6b07dc",
   "metadata": {
    "scrolled": true
   },
   "outputs": [
    {
     "name": "stdout",
     "output_type": "stream",
     "text": [
      "\n",
      "\n",
      "\u001b[1m> Entering new RetrievalQA chain...\u001b[0m\n",
      "\n",
      "\n",
      "\u001b[1m> Entering new StuffDocumentsChain chain...\u001b[0m\n",
      "\n",
      "\n",
      "\u001b[1m> Entering new LLMChain chain...\u001b[0m\n",
      "Prompt after formatting:\n",
      "\u001b[32;1m\u001b[1;3m\n",
      "Use the following context (delimited by <ctx></ctx>) and the chat history (delimited by <hs></hs>) to answer the question:\n",
      "------\n",
      "<ctx>\n",
      "and rohlf 2011 ). differences in cw : ph and cw : pw were analyzed using a two - way anova\n",
      "\n",
      "charifson 19 figure 5 : consumption rates by individual h. nudus. mean consumption rates ( n = 8 trials ) of 3 female ( fe1 to fe3 ) and 3 male ( ma1 to ma3 ) h. nudus. crabs fe1, fe3, and ma3 did not consume snails. the individuals that eat snails did not differ in their consumption rates ( f2, 21 = 2. 52, p = 0. 104 ). error bars represent standard error of the mean. 0 0. 1 0. 2 0. 3 0. 4 0. 5 0. 6 0. 7 0. 8 0. 9 1 fe1 fe2 fe3 ma1 ma2 ma3 mean consumption rate ( snails consumed / hour ) individual h. nudus\n",
      "\n",
      "##f, f. j. 2011. biometry. 4th ed. w. h. freeman, new york, new york, usa. stuart, y. e. and losos, j. b. 2013. ecological character displacement : glass half full or half empty? trends in ecology and evolution 28 : 402 - 408.\n",
      "\n",
      "charifson 13 table 1 : sma regressions of carapace width and propus measures. a ) the relationship between carapace width and propal height. x is carapace width and y is propal height. b ) the relationship between carapace width and propal height. x is carapace width and y is propal width. sma regression a n carapace width vs propal height r2 female h. nudus 13 y = 0. 273 * x - 0. 678 0. 976 male h. nudus 13 y = 0. 311 * x - 1. 385 0. 868 female h. oregonensis 9 y = 0. 351 * x - 0. 833 0. 894 male h. oregonensis 14 y = 0. 39 * x - 1. 149 0. 693 sma regression b n carapace width vs propal width r2 female h. nudus 13 y = 0. 157 * x - 0. 386 0. 927 male h. nudus 13 y = 0. 209 * x - 1. 288 0. 859 female h. oregonensis 9 y = 0. 175 * x + 0. 037 0. 724 male h. oregonensis 14 y = 0. 244 * x - 0. 688 0. 534\n",
      "</ctx>\n",
      "------\n",
      "<hs>\n",
      "Human: what is this paper about?\n",
      "AI: The paper is about the analysis of carapace width and propus measures in different species of crabs, specifically H. nudus and H. oregonensis. It also discusses the consumption rates of individual H. nudus crabs.\n",
      "Human: Write a one sentence summary of the purpose of the paper\n",
      "AI: The purpose of the paper is to analyze the relationship between carapace width and propus measures in different species of crabs and investigate the differences in propal height and propal width between sexes and species.\n",
      "</hs>\n",
      "------\n",
      "And who wrote the paper?\n",
      "Answer:\n",
      "\u001b[0m\n",
      "\n",
      "\u001b[1m> Finished chain.\u001b[0m\n",
      "\n",
      "\u001b[1m> Finished chain.\u001b[0m\n",
      "\n",
      "\u001b[1m> Finished chain.\u001b[0m\n"
     ]
    }
   ],
   "source": [
    "stuff_result3 = qa_stuff({\"query\": query3})"
   ]
  },
  {
   "cell_type": "code",
   "execution_count": 143,
   "id": "952090c1",
   "metadata": {},
   "outputs": [
    {
     "data": {
      "text/plain": [
       "'The authors of the paper are Charifson and Rohlf (2011).'"
      ]
     },
     "execution_count": 143,
     "metadata": {},
     "output_type": "execute_result"
    }
   ],
   "source": [
    "stuff_result3[\"result\"]"
   ]
  },
  {
   "cell_type": "code",
   "execution_count": 144,
   "id": "eff97982",
   "metadata": {},
   "outputs": [
    {
     "name": "stdout",
     "output_type": "stream",
     "text": [
      "\n",
      "\n",
      "\u001b[1m> Entering new RetrievalQA chain...\u001b[0m\n",
      "\n",
      "\n",
      "\u001b[1m> Entering new StuffDocumentsChain chain...\u001b[0m\n",
      "\n",
      "\n",
      "\u001b[1m> Entering new LLMChain chain...\u001b[0m\n",
      "Prompt after formatting:\n",
      "\u001b[32;1m\u001b[1;3m\n",
      "Use the following context (delimited by <ctx></ctx>) and the chat history (delimited by <hs></hs>) to answer the question:\n",
      "------\n",
      "<ctx>\n",
      "and rohlf 2011 ). differences in cw : ph and cw : pw were analyzed using a two - way anova\n",
      "\n",
      "charifson 13 table 1 : sma regressions of carapace width and propus measures. a ) the relationship between carapace width and propal height. x is carapace width and y is propal height. b ) the relationship between carapace width and propal height. x is carapace width and y is propal width. sma regression a n carapace width vs propal height r2 female h. nudus 13 y = 0. 273 * x - 0. 678 0. 976 male h. nudus 13 y = 0. 311 * x - 1. 385 0. 868 female h. oregonensis 9 y = 0. 351 * x - 0. 833 0. 894 male h. oregonensis 14 y = 0. 39 * x - 1. 149 0. 693 sma regression b n carapace width vs propal width r2 female h. nudus 13 y = 0. 157 * x - 0. 386 0. 927 male h. nudus 13 y = 0. 209 * x - 1. 288 0. 859 female h. oregonensis 9 y = 0. 175 * x + 0. 037 0. 724 male h. oregonensis 14 y = 0. 244 * x - 0. 688 0. 534\n",
      "\n",
      "charifson 16 figure 2 : relationship of carapace width and propal width in hemigrapsus. line of best fit from sma regression. see table 1b for descriptive statistics. a ) female h. nudus. b ) male h. nudus. c ) female h. oregonensis. d ) male h. oregonensis.\n",
      "\n",
      "charifson 15 figure 1 : relationship of carapace width and propal height in hemigrapsus. line of best fit from sma regression. see table 1a for descriptive statistics. a ) female h. nudus. b ) male h. nudus. c ) female h. oregonensis. d ) male h. oregonensis.\n",
      "</ctx>\n",
      "------\n",
      "<hs>\n",
      "Human: what is this paper about?\n",
      "AI: The paper is about the analysis of carapace width and propus measures in different species of crabs, specifically H. nudus and H. oregonensis. It also discusses the consumption rates of individual H. nudus crabs.\n",
      "Human: Write a one sentence summary of the purpose of the paper\n",
      "AI: The purpose of the paper is to analyze the relationship between carapace width and propus measures in different species of crabs and investigate the differences in propal height and propal width between sexes and species.\n",
      "Human: And who wrote the paper?\n",
      "AI: The authors of the paper are Charifson and Rohlf (2011).\n",
      "</hs>\n",
      "------\n",
      "Summarize the paper concisely with reference to materials and methods.\n",
      "Answer:\n",
      "\u001b[0m\n",
      "\n",
      "\u001b[1m> Finished chain.\u001b[0m\n",
      "\n",
      "\u001b[1m> Finished chain.\u001b[0m\n",
      "\n",
      "\u001b[1m> Finished chain.\u001b[0m\n"
     ]
    }
   ],
   "source": [
    "stuff_result4 = qa_stuff({\"query\": query4})"
   ]
  },
  {
   "cell_type": "code",
   "execution_count": 145,
   "id": "5deb41c3",
   "metadata": {
    "scrolled": true
   },
   "outputs": [
    {
     "data": {
      "text/plain": [
       "'The paper analyzed the relationship between carapace width and propus measures in H. nudus and H. oregonensis crabs using a two-way ANOVA. The authors used SMA regression to determine the relationship between carapace width and propal height/propal width in different sexes and species.'"
      ]
     },
     "execution_count": 145,
     "metadata": {},
     "output_type": "execute_result"
    }
   ],
   "source": [
    "stuff_result4[\"result\"]"
   ]
  },
  {
   "cell_type": "code",
   "execution_count": 146,
   "id": "86474ba9",
   "metadata": {},
   "outputs": [
    {
     "data": {
      "text/plain": [
       "[Document(page_content='and rohlf 2011 ). differences in cw : ph and cw : pw were analyzed using a two - way anova', metadata={'source': 'hms/fhl_2014_Charifson_34622 (1).pdf', 'file_path': 'hms/fhl_2014_Charifson_34622 (1).pdf', 'page': 4, 'total_pages': 19, 'format': 'PDF 1.5', 'title': '', 'author': 'David', 'subject': '', 'keywords': '', 'creator': 'Microsoft® Office Word 2007', 'producer': 'Microsoft® Office Word 2007', 'creationDate': \"D:20140723120649-04'00'\", 'modDate': \"D:20140723120649-04'00'\", 'trapped': ''}),\n",
       " Document(page_content='charifson 13 table 1 : sma regressions of carapace width and propus measures. a ) the relationship between carapace width and propal height. x is carapace width and y is propal height. b ) the relationship between carapace width and propal height. x is carapace width and y is propal width. sma regression a n carapace width vs propal height r2 female h. nudus 13 y = 0. 273 * x - 0. 678 0. 976 male h. nudus 13 y = 0. 311 * x - 1. 385 0. 868 female h. oregonensis 9 y = 0. 351 * x - 0. 833 0. 894 male h. oregonensis 14 y = 0. 39 * x - 1. 149 0. 693 sma regression b n carapace width vs propal width r2 female h. nudus 13 y = 0. 157 * x - 0. 386 0. 927 male h. nudus 13 y = 0. 209 * x - 1. 288 0. 859 female h. oregonensis 9 y = 0. 175 * x + 0. 037 0. 724 male h. oregonensis 14 y = 0. 244 * x - 0. 688 0. 534', metadata={'source': 'hms/fhl_2014_Charifson_34622 (1).pdf', 'file_path': 'hms/fhl_2014_Charifson_34622 (1).pdf', 'page': 12, 'total_pages': 19, 'format': 'PDF 1.5', 'title': '', 'author': 'David', 'subject': '', 'keywords': '', 'creator': 'Microsoft® Office Word 2007', 'producer': 'Microsoft® Office Word 2007', 'creationDate': \"D:20140723120649-04'00'\", 'modDate': \"D:20140723120649-04'00'\", 'trapped': ''}),\n",
       " Document(page_content='charifson 16 figure 2 : relationship of carapace width and propal width in hemigrapsus. line of best fit from sma regression. see table 1b for descriptive statistics. a ) female h. nudus. b ) male h. nudus. c ) female h. oregonensis. d ) male h. oregonensis.', metadata={'source': 'hms/fhl_2014_Charifson_34622 (1).pdf', 'file_path': 'hms/fhl_2014_Charifson_34622 (1).pdf', 'page': 15, 'total_pages': 19, 'format': 'PDF 1.5', 'title': '', 'author': 'David', 'subject': '', 'keywords': '', 'creator': 'Microsoft® Office Word 2007', 'producer': 'Microsoft® Office Word 2007', 'creationDate': \"D:20140723120649-04'00'\", 'modDate': \"D:20140723120649-04'00'\", 'trapped': ''}),\n",
       " Document(page_content='charifson 15 figure 1 : relationship of carapace width and propal height in hemigrapsus. line of best fit from sma regression. see table 1a for descriptive statistics. a ) female h. nudus. b ) male h. nudus. c ) female h. oregonensis. d ) male h. oregonensis.', metadata={'source': 'hms/fhl_2014_Charifson_34622 (1).pdf', 'file_path': 'hms/fhl_2014_Charifson_34622 (1).pdf', 'page': 14, 'total_pages': 19, 'format': 'PDF 1.5', 'title': '', 'author': 'David', 'subject': '', 'keywords': '', 'creator': 'Microsoft® Office Word 2007', 'producer': 'Microsoft® Office Word 2007', 'creationDate': \"D:20140723120649-04'00'\", 'modDate': \"D:20140723120649-04'00'\", 'trapped': ''})]"
      ]
     },
     "execution_count": 146,
     "metadata": {},
     "output_type": "execute_result"
    }
   ],
   "source": [
    "stuff_result4[\"source_documents\"]"
   ]
  },
  {
   "cell_type": "code",
   "execution_count": 147,
   "id": "b0500936",
   "metadata": {},
   "outputs": [],
   "source": [
    "#Summarize the paper concisely with reference to materials and methods.\n",
    "\n",
    "# qa_stuff.run(query4)"
   ]
  },
  {
   "cell_type": "code",
   "execution_count": 148,
   "id": "d525e996",
   "metadata": {},
   "outputs": [
    {
     "name": "stdout",
     "output_type": "stream",
     "text": [
      "\n",
      "\n",
      "\u001b[1m> Entering new RetrievalQA chain...\u001b[0m\n",
      "\n",
      "\n",
      "\u001b[1m> Entering new StuffDocumentsChain chain...\u001b[0m\n",
      "\n",
      "\n",
      "\u001b[1m> Entering new LLMChain chain...\u001b[0m\n",
      "Prompt after formatting:\n",
      "\u001b[32;1m\u001b[1;3m\n",
      "Use the following context (delimited by <ctx></ctx>) and the chat history (delimited by <hs></hs>) to answer the question:\n",
      "------\n",
      "<ctx>\n",
      "##f, f. j. 2011. biometry. 4th ed. w. h. freeman, new york, new york, usa. stuart, y. e. and losos, j. b. 2013. ecological character displacement : glass half full or half empty? trends in ecology and evolution 28 : 402 - 408.\n",
      "\n",
      "vincta in the field. it should be noted that h. nudus and la. vincta usually occupy different portions of the intertidal and may have little contact with each other, unlike the relationship between h. nudus and li. scutulata. there is some potential for overlap in the winter when la. vincta migrates up shore. although no differences in consumption rates between male and female h. nudus were found, this might be\n",
      "\n",
      "charifson 19 figure 5 : consumption rates by individual h. nudus. mean consumption rates ( n = 8 trials ) of 3 female ( fe1 to fe3 ) and 3 male ( ma1 to ma3 ) h. nudus. crabs fe1, fe3, and ma3 did not consume snails. the individuals that eat snails did not differ in their consumption rates ( f2, 21 = 2. 52, p = 0. 104 ). error bars represent standard error of the mean. 0 0. 1 0. 2 0. 3 0. 4 0. 5 0. 6 0. 7 0. 8 0. 9 1 fe1 fe2 fe3 ma1 ma2 ma3 mean consumption rate ( snails consumed / hour ) individual h. nudus\n",
      "\n",
      "and rohlf 2011 ). differences in cw : ph and cw : pw were analyzed using a two - way anova\n",
      "</ctx>\n",
      "------\n",
      "<hs>\n",
      "Human: what is this paper about?\n",
      "AI: The paper is about the analysis of carapace width and propus measures in different species of crabs, specifically H. nudus and H. oregonensis. It also discusses the consumption rates of individual H. nudus crabs.\n",
      "Human: Write a one sentence summary of the purpose of the paper\n",
      "AI: The purpose of the paper is to analyze the relationship between carapace width and propus measures in different species of crabs and investigate the differences in propal height and propal width between sexes and species.\n",
      "Human: And who wrote the paper?\n",
      "AI: The authors of the paper are Charifson and Rohlf (2011).\n",
      "Human: Summarize the paper concisely with reference to materials and methods.\n",
      "AI: The paper analyzed the relationship between carapace width and propus measures in H. nudus and H. oregonensis crabs using a two-way ANOVA. The authors used SMA regression to determine the relationship between carapace width and propal height/propal width in different sexes and species.\n",
      "</hs>\n",
      "------\n",
      "Terms that may be used to identify an observation include “in the field”, “this study”, “observed”, “taken”, “collected”, “sampled”, “collection”, “seen”, “harvested”, “found”, etc. Does the paper include one or more observations?\n",
      "Answer:\n",
      "\u001b[0m\n",
      "\n",
      "\u001b[1m> Finished chain.\u001b[0m\n",
      "\n",
      "\u001b[1m> Finished chain.\u001b[0m\n",
      "\n",
      "\u001b[1m> Finished chain.\u001b[0m\n"
     ]
    }
   ],
   "source": [
    "stuff_result5 = qa_stuff({\"query\": query5})"
   ]
  },
  {
   "cell_type": "code",
   "execution_count": 149,
   "id": "1e025545",
   "metadata": {},
   "outputs": [
    {
     "data": {
      "text/plain": [
       "'Based on the given context, it is not clear whether the paper includes one or more observations. The context does not provide specific information or details about any observations made in the study.'"
      ]
     },
     "execution_count": 149,
     "metadata": {},
     "output_type": "execute_result"
    }
   ],
   "source": [
    "stuff_result5[\"result\"]"
   ]
  },
  {
   "cell_type": "code",
   "execution_count": 150,
   "id": "a61891b4",
   "metadata": {},
   "outputs": [
    {
     "data": {
      "text/plain": [
       "[Document(page_content='##f, f. j. 2011. biometry. 4th ed. w. h. freeman, new york, new york, usa. stuart, y. e. and losos, j. b. 2013. ecological character displacement : glass half full or half empty? trends in ecology and evolution 28 : 402 - 408.', metadata={'source': 'hms/fhl_2014_Charifson_34622 (1).pdf', 'file_path': 'hms/fhl_2014_Charifson_34622 (1).pdf', 'page': 10, 'total_pages': 19, 'format': 'PDF 1.5', 'title': '', 'author': 'David', 'subject': '', 'keywords': '', 'creator': 'Microsoft® Office Word 2007', 'producer': 'Microsoft® Office Word 2007', 'creationDate': \"D:20140723120649-04'00'\", 'modDate': \"D:20140723120649-04'00'\", 'trapped': ''}),\n",
       " Document(page_content='vincta in the field. it should be noted that h. nudus and la. vincta usually occupy different portions of the intertidal and may have little contact with each other, unlike the relationship between h. nudus and li. scutulata. there is some potential for overlap in the winter when la. vincta migrates up shore. although no differences in consumption rates between male and female h. nudus were found, this might be', metadata={'source': 'hms/fhl_2014_Charifson_34622 (1).pdf', 'file_path': 'hms/fhl_2014_Charifson_34622 (1).pdf', 'page': 8, 'total_pages': 19, 'format': 'PDF 1.5', 'title': '', 'author': 'David', 'subject': '', 'keywords': '', 'creator': 'Microsoft® Office Word 2007', 'producer': 'Microsoft® Office Word 2007', 'creationDate': \"D:20140723120649-04'00'\", 'modDate': \"D:20140723120649-04'00'\", 'trapped': ''}),\n",
       " Document(page_content='charifson 19 figure 5 : consumption rates by individual h. nudus. mean consumption rates ( n = 8 trials ) of 3 female ( fe1 to fe3 ) and 3 male ( ma1 to ma3 ) h. nudus. crabs fe1, fe3, and ma3 did not consume snails. the individuals that eat snails did not differ in their consumption rates ( f2, 21 = 2. 52, p = 0. 104 ). error bars represent standard error of the mean. 0 0. 1 0. 2 0. 3 0. 4 0. 5 0. 6 0. 7 0. 8 0. 9 1 fe1 fe2 fe3 ma1 ma2 ma3 mean consumption rate ( snails consumed / hour ) individual h. nudus', metadata={'source': 'hms/fhl_2014_Charifson_34622 (1).pdf', 'file_path': 'hms/fhl_2014_Charifson_34622 (1).pdf', 'page': 18, 'total_pages': 19, 'format': 'PDF 1.5', 'title': '', 'author': 'David', 'subject': '', 'keywords': '', 'creator': 'Microsoft® Office Word 2007', 'producer': 'Microsoft® Office Word 2007', 'creationDate': \"D:20140723120649-04'00'\", 'modDate': \"D:20140723120649-04'00'\", 'trapped': ''}),\n",
       " Document(page_content='and rohlf 2011 ). differences in cw : ph and cw : pw were analyzed using a two - way anova', metadata={'source': 'hms/fhl_2014_Charifson_34622 (1).pdf', 'file_path': 'hms/fhl_2014_Charifson_34622 (1).pdf', 'page': 4, 'total_pages': 19, 'format': 'PDF 1.5', 'title': '', 'author': 'David', 'subject': '', 'keywords': '', 'creator': 'Microsoft® Office Word 2007', 'producer': 'Microsoft® Office Word 2007', 'creationDate': \"D:20140723120649-04'00'\", 'modDate': \"D:20140723120649-04'00'\", 'trapped': ''})]"
      ]
     },
     "execution_count": 150,
     "metadata": {},
     "output_type": "execute_result"
    }
   ],
   "source": [
    "stuff_result5[\"source_documents\"]"
   ]
  },
  {
   "cell_type": "code",
   "execution_count": 151,
   "id": "4053a7ca",
   "metadata": {},
   "outputs": [],
   "source": [
    "#Terms that may be used to identify an observation include “in the field”, “this study”, “observed”, “taken”, “collected”, “sampled”, “collection”, “seen”, “harvested”, “found”, etc. Does the paper include one or more observations? \n",
    "# qa_stuff.run(query5)"
   ]
  },
  {
   "cell_type": "code",
   "execution_count": 152,
   "id": "5759d82f",
   "metadata": {},
   "outputs": [
    {
     "name": "stdout",
     "output_type": "stream",
     "text": [
      "\n",
      "\n",
      "\u001b[1m> Entering new RetrievalQA chain...\u001b[0m\n",
      "\n",
      "\n",
      "\u001b[1m> Entering new StuffDocumentsChain chain...\u001b[0m\n",
      "\n",
      "\n",
      "\u001b[1m> Entering new LLMChain chain...\u001b[0m\n",
      "Prompt after formatting:\n",
      "\u001b[32;1m\u001b[1;3m\n",
      "Use the following context (delimited by <ctx></ctx>) and the chat history (delimited by <hs></hs>) to answer the question:\n",
      "------\n",
      "<ctx>\n",
      "charifson 19 figure 5 : consumption rates by individual h. nudus. mean consumption rates ( n = 8 trials ) of 3 female ( fe1 to fe3 ) and 3 male ( ma1 to ma3 ) h. nudus. crabs fe1, fe3, and ma3 did not consume snails. the individuals that eat snails did not differ in their consumption rates ( f2, 21 = 2. 52, p = 0. 104 ). error bars represent standard error of the mean. 0 0. 1 0. 2 0. 3 0. 4 0. 5 0. 6 0. 7 0. 8 0. 9 1 fe1 fe2 fe3 ma1 ma2 ma3 mean consumption rate ( snails consumed / hour ) individual h. nudus\n",
      "\n",
      "##f, f. j. 2011. biometry. 4th ed. w. h. freeman, new york, new york, usa. stuart, y. e. and losos, j. b. 2013. ecological character displacement : glass half full or half empty? trends in ecology and evolution 28 : 402 - 408.\n",
      "\n",
      "waterand in finer sediment than the more desiccation - tolerant h. nudus ( sliger 1982 ). there is still considerable habitat overlap between these two species ; the underside of a single rock may have\n",
      "\n",
      "charifson 10 due to logistical issues surrounding the experimental design and little replication. future studies should include more crabs, the exclusion of non - feeding crabs, and trial periods with longer time intervals. additionally, any subsequent study should utilize multivariate and geometric morphometric methods to quantify claw shape instead of using ratios, as two similar ratios may have different shape. acknowledgements : i would like to thank dianna padilla, michael labarbera, and kevin turner for advice relating to the experimental design of this study. i would also like to thank the director and staff of friday harbor laboratories for use of facilities and permission to collect organisms. friday harbor laboratories, the libbie hyman scholarship, society for integrative and comparative biology, and the stony brook department of ecology and evolution provided financial support and have my gratitude.\n",
      "</ctx>\n",
      "------\n",
      "<hs>\n",
      "Human: what is this paper about?\n",
      "AI: The paper is about the analysis of carapace width and propus measures in different species of crabs, specifically H. nudus and H. oregonensis. It also discusses the consumption rates of individual H. nudus crabs.\n",
      "Human: Write a one sentence summary of the purpose of the paper\n",
      "AI: The purpose of the paper is to analyze the relationship between carapace width and propus measures in different species of crabs and investigate the differences in propal height and propal width between sexes and species.\n",
      "Human: And who wrote the paper?\n",
      "AI: The authors of the paper are Charifson and Rohlf (2011).\n",
      "Human: Summarize the paper concisely with reference to materials and methods.\n",
      "AI: The paper analyzed the relationship between carapace width and propus measures in H. nudus and H. oregonensis crabs using a two-way ANOVA. The authors used SMA regression to determine the relationship between carapace width and propal height/propal width in different sexes and species.\n",
      "Human: Terms that may be used to identify an observation include “in the field”, “this study”, “observed”, “taken”, “collected”, “sampled”, “collection”, “seen”, “harvested”, “found”, etc. Does the paper include one or more observations?\n",
      "AI: Based on the given context, it is not clear whether the paper includes one or more observations. The context does not provide specific information or details about any observations made in the study.\n",
      "</hs>\n",
      "------\n",
      "Does this paper contain observational or experimental research conducted in the natural environment or with organisms collected in nature?\n",
      "Answer:\n",
      "\u001b[0m\n",
      "\n",
      "\u001b[1m> Finished chain.\u001b[0m\n",
      "\n",
      "\u001b[1m> Finished chain.\u001b[0m\n",
      "\n",
      "\u001b[1m> Finished chain.\u001b[0m\n"
     ]
    }
   ],
   "source": [
    "stuff_result6 = qa_stuff({\"query\": query6})"
   ]
  },
  {
   "cell_type": "code",
   "execution_count": 153,
   "id": "6d1cceaf",
   "metadata": {},
   "outputs": [
    {
     "data": {
      "text/plain": [
       "'Based on the given context, it is not clear whether the paper contains observational or experimental research conducted in the natural environment or with organisms collected in nature. The context does not provide specific information or details about the research methods used in the study.'"
      ]
     },
     "execution_count": 153,
     "metadata": {},
     "output_type": "execute_result"
    }
   ],
   "source": [
    "stuff_result6[\"result\"]"
   ]
  },
  {
   "cell_type": "code",
   "execution_count": 154,
   "id": "64944b1b",
   "metadata": {},
   "outputs": [
    {
     "data": {
      "text/plain": [
       "[Document(page_content='charifson 19 figure 5 : consumption rates by individual h. nudus. mean consumption rates ( n = 8 trials ) of 3 female ( fe1 to fe3 ) and 3 male ( ma1 to ma3 ) h. nudus. crabs fe1, fe3, and ma3 did not consume snails. the individuals that eat snails did not differ in their consumption rates ( f2, 21 = 2. 52, p = 0. 104 ). error bars represent standard error of the mean. 0 0. 1 0. 2 0. 3 0. 4 0. 5 0. 6 0. 7 0. 8 0. 9 1 fe1 fe2 fe3 ma1 ma2 ma3 mean consumption rate ( snails consumed / hour ) individual h. nudus', metadata={'source': 'hms/fhl_2014_Charifson_34622 (1).pdf', 'file_path': 'hms/fhl_2014_Charifson_34622 (1).pdf', 'page': 18, 'total_pages': 19, 'format': 'PDF 1.5', 'title': '', 'author': 'David', 'subject': '', 'keywords': '', 'creator': 'Microsoft® Office Word 2007', 'producer': 'Microsoft® Office Word 2007', 'creationDate': \"D:20140723120649-04'00'\", 'modDate': \"D:20140723120649-04'00'\", 'trapped': ''}),\n",
       " Document(page_content='##f, f. j. 2011. biometry. 4th ed. w. h. freeman, new york, new york, usa. stuart, y. e. and losos, j. b. 2013. ecological character displacement : glass half full or half empty? trends in ecology and evolution 28 : 402 - 408.', metadata={'source': 'hms/fhl_2014_Charifson_34622 (1).pdf', 'file_path': 'hms/fhl_2014_Charifson_34622 (1).pdf', 'page': 10, 'total_pages': 19, 'format': 'PDF 1.5', 'title': '', 'author': 'David', 'subject': '', 'keywords': '', 'creator': 'Microsoft® Office Word 2007', 'producer': 'Microsoft® Office Word 2007', 'creationDate': \"D:20140723120649-04'00'\", 'modDate': \"D:20140723120649-04'00'\", 'trapped': ''}),\n",
       " Document(page_content='waterand in finer sediment than the more desiccation - tolerant h. nudus ( sliger 1982 ). there is still considerable habitat overlap between these two species ; the underside of a single rock may have', metadata={'source': 'hms/fhl_2014_Charifson_34622 (1).pdf', 'file_path': 'hms/fhl_2014_Charifson_34622 (1).pdf', 'page': 1, 'total_pages': 19, 'format': 'PDF 1.5', 'title': '', 'author': 'David', 'subject': '', 'keywords': '', 'creator': 'Microsoft® Office Word 2007', 'producer': 'Microsoft® Office Word 2007', 'creationDate': \"D:20140723120649-04'00'\", 'modDate': \"D:20140723120649-04'00'\", 'trapped': ''}),\n",
       " Document(page_content='charifson 10 due to logistical issues surrounding the experimental design and little replication. future studies should include more crabs, the exclusion of non - feeding crabs, and trial periods with longer time intervals. additionally, any subsequent study should utilize multivariate and geometric morphometric methods to quantify claw shape instead of using ratios, as two similar ratios may have different shape. acknowledgements : i would like to thank dianna padilla, michael labarbera, and kevin turner for advice relating to the experimental design of this study. i would also like to thank the director and staff of friday harbor laboratories for use of facilities and permission to collect organisms. friday harbor laboratories, the libbie hyman scholarship, society for integrative and comparative biology, and the stony brook department of ecology and evolution provided financial support and have my gratitude.', metadata={'source': 'hms/fhl_2014_Charifson_34622 (1).pdf', 'file_path': 'hms/fhl_2014_Charifson_34622 (1).pdf', 'page': 9, 'total_pages': 19, 'format': 'PDF 1.5', 'title': '', 'author': 'David', 'subject': '', 'keywords': '', 'creator': 'Microsoft® Office Word 2007', 'producer': 'Microsoft® Office Word 2007', 'creationDate': \"D:20140723120649-04'00'\", 'modDate': \"D:20140723120649-04'00'\", 'trapped': ''})]"
      ]
     },
     "execution_count": 154,
     "metadata": {},
     "output_type": "execute_result"
    }
   ],
   "source": [
    "stuff_result6[\"source_documents\"]"
   ]
  },
  {
   "cell_type": "code",
   "execution_count": 155,
   "id": "cc5dbc43",
   "metadata": {},
   "outputs": [],
   "source": [
    "#Does this paper contain observational or experimental research conducted in the natural environment or with organisms collected in nature?\n",
    "# qa_stuff.run(query6)"
   ]
  },
  {
   "cell_type": "code",
   "execution_count": 156,
   "id": "d446fe6f",
   "metadata": {
    "scrolled": true
   },
   "outputs": [
    {
     "name": "stdout",
     "output_type": "stream",
     "text": [
      "\n",
      "\n",
      "\u001b[1m> Entering new RetrievalQA chain...\u001b[0m\n",
      "\n",
      "\n",
      "\u001b[1m> Entering new StuffDocumentsChain chain...\u001b[0m\n",
      "\n",
      "\n",
      "\u001b[1m> Entering new LLMChain chain...\u001b[0m\n",
      "Prompt after formatting:\n",
      "\u001b[32;1m\u001b[1;3m\n",
      "Use the following context (delimited by <ctx></ctx>) and the chat history (delimited by <hs></hs>) to answer the question:\n",
      "------\n",
      "<ctx>\n",
      "waterand in finer sediment than the more desiccation - tolerant h. nudus ( sliger 1982 ). there is still considerable habitat overlap between these two species ; the underside of a single rock may have\n",
      "\n",
      "charifson 15 figure 1 : relationship of carapace width and propal height in hemigrapsus. line of best fit from sma regression. see table 1a for descriptive statistics. a ) female h. nudus. b ) male h. nudus. c ) female h. oregonensis. d ) male h. oregonensis.\n",
      "\n",
      "##f, f. j. 2011. biometry. 4th ed. w. h. freeman, new york, new york, usa. stuart, y. e. and losos, j. b. 2013. ecological character displacement : glass half full or half empty? trends in ecology and evolution 28 : 402 - 408.\n",
      "\n",
      "charifson 17 figure 3 : differences in propal height : carapace width ratio between sex and species. the sex factor was statistically significant ( f = 125. 6. p < 0. 001 ), while the species factor was insignificant ( f > 0. 01, p = 0. 983 ). there was a significant interaction ( f = 4. 39, p = 0. 042 ). error bars represent standard error of the mean. 0 0. 05 0. 1 0. 15 0. 2 0. 25 0. 3 0. 35 h. nudus h. oregonensis propal height : carapace width crab species female male\n",
      "</ctx>\n",
      "------\n",
      "<hs>\n",
      "Human: what is this paper about?\n",
      "AI: The paper is about the analysis of carapace width and propus measures in different species of crabs, specifically H. nudus and H. oregonensis. It also discusses the consumption rates of individual H. nudus crabs.\n",
      "Human: Write a one sentence summary of the purpose of the paper\n",
      "AI: The purpose of the paper is to analyze the relationship between carapace width and propus measures in different species of crabs and investigate the differences in propal height and propal width between sexes and species.\n",
      "Human: And who wrote the paper?\n",
      "AI: The authors of the paper are Charifson and Rohlf (2011).\n",
      "Human: Summarize the paper concisely with reference to materials and methods.\n",
      "AI: The paper analyzed the relationship between carapace width and propus measures in H. nudus and H. oregonensis crabs using a two-way ANOVA. The authors used SMA regression to determine the relationship between carapace width and propal height/propal width in different sexes and species.\n",
      "Human: Terms that may be used to identify an observation include “in the field”, “this study”, “observed”, “taken”, “collected”, “sampled”, “collection”, “seen”, “harvested”, “found”, etc. Does the paper include one or more observations?\n",
      "AI: Based on the given context, it is not clear whether the paper includes one or more observations. The context does not provide specific information or details about any observations made in the study.\n",
      "Human: Does this paper contain observational or experimental research conducted in the natural environment or with organisms collected in nature?\n",
      "AI: Based on the given context, it is not clear whether the paper contains observational or experimental research conducted in the natural environment or with organisms collected in nature. The context does not provide specific information or details about the research methods used in the study.\n",
      "</hs>\n",
      "------\n",
      "What are the scientific names of the species mentioned in this paper?\n",
      "Answer:\n",
      "\u001b[0m\n",
      "\n",
      "\u001b[1m> Finished chain.\u001b[0m\n",
      "\n",
      "\u001b[1m> Finished chain.\u001b[0m\n",
      "\n",
      "\u001b[1m> Finished chain.\u001b[0m\n"
     ]
    }
   ],
   "source": [
    "stuff_result7 = qa_stuff({\"query\": query7})"
   ]
  },
  {
   "cell_type": "code",
   "execution_count": 157,
   "id": "84839dd0",
   "metadata": {},
   "outputs": [
    {
     "data": {
      "text/plain": [
       "'The scientific names of the species mentioned in this paper are H. nudus and H. oregonensis.'"
      ]
     },
     "execution_count": 157,
     "metadata": {},
     "output_type": "execute_result"
    }
   ],
   "source": [
    "stuff_result7[\"result\"]"
   ]
  },
  {
   "cell_type": "code",
   "execution_count": 158,
   "id": "a9da719c",
   "metadata": {},
   "outputs": [
    {
     "data": {
      "text/plain": [
       "[Document(page_content='waterand in finer sediment than the more desiccation - tolerant h. nudus ( sliger 1982 ). there is still considerable habitat overlap between these two species ; the underside of a single rock may have', metadata={'source': 'hms/fhl_2014_Charifson_34622 (1).pdf', 'file_path': 'hms/fhl_2014_Charifson_34622 (1).pdf', 'page': 1, 'total_pages': 19, 'format': 'PDF 1.5', 'title': '', 'author': 'David', 'subject': '', 'keywords': '', 'creator': 'Microsoft® Office Word 2007', 'producer': 'Microsoft® Office Word 2007', 'creationDate': \"D:20140723120649-04'00'\", 'modDate': \"D:20140723120649-04'00'\", 'trapped': ''}),\n",
       " Document(page_content='charifson 15 figure 1 : relationship of carapace width and propal height in hemigrapsus. line of best fit from sma regression. see table 1a for descriptive statistics. a ) female h. nudus. b ) male h. nudus. c ) female h. oregonensis. d ) male h. oregonensis.', metadata={'source': 'hms/fhl_2014_Charifson_34622 (1).pdf', 'file_path': 'hms/fhl_2014_Charifson_34622 (1).pdf', 'page': 14, 'total_pages': 19, 'format': 'PDF 1.5', 'title': '', 'author': 'David', 'subject': '', 'keywords': '', 'creator': 'Microsoft® Office Word 2007', 'producer': 'Microsoft® Office Word 2007', 'creationDate': \"D:20140723120649-04'00'\", 'modDate': \"D:20140723120649-04'00'\", 'trapped': ''}),\n",
       " Document(page_content='##f, f. j. 2011. biometry. 4th ed. w. h. freeman, new york, new york, usa. stuart, y. e. and losos, j. b. 2013. ecological character displacement : glass half full or half empty? trends in ecology and evolution 28 : 402 - 408.', metadata={'source': 'hms/fhl_2014_Charifson_34622 (1).pdf', 'file_path': 'hms/fhl_2014_Charifson_34622 (1).pdf', 'page': 10, 'total_pages': 19, 'format': 'PDF 1.5', 'title': '', 'author': 'David', 'subject': '', 'keywords': '', 'creator': 'Microsoft® Office Word 2007', 'producer': 'Microsoft® Office Word 2007', 'creationDate': \"D:20140723120649-04'00'\", 'modDate': \"D:20140723120649-04'00'\", 'trapped': ''}),\n",
       " Document(page_content='charifson 17 figure 3 : differences in propal height : carapace width ratio between sex and species. the sex factor was statistically significant ( f = 125. 6. p < 0. 001 ), while the species factor was insignificant ( f > 0. 01, p = 0. 983 ). there was a significant interaction ( f = 4. 39, p = 0. 042 ). error bars represent standard error of the mean. 0 0. 05 0. 1 0. 15 0. 2 0. 25 0. 3 0. 35 h. nudus h. oregonensis propal height : carapace width crab species female male', metadata={'source': 'hms/fhl_2014_Charifson_34622 (1).pdf', 'file_path': 'hms/fhl_2014_Charifson_34622 (1).pdf', 'page': 16, 'total_pages': 19, 'format': 'PDF 1.5', 'title': '', 'author': 'David', 'subject': '', 'keywords': '', 'creator': 'Microsoft® Office Word 2007', 'producer': 'Microsoft® Office Word 2007', 'creationDate': \"D:20140723120649-04'00'\", 'modDate': \"D:20140723120649-04'00'\", 'trapped': ''})]"
      ]
     },
     "execution_count": 158,
     "metadata": {},
     "output_type": "execute_result"
    }
   ],
   "source": [
    "stuff_result7[\"source_documents\"]"
   ]
  },
  {
   "cell_type": "code",
   "execution_count": 159,
   "id": "75406a56",
   "metadata": {},
   "outputs": [],
   "source": [
    "#What are the scientific names of the species mentioned in this paper?\n",
    "# qa_stuff.run(query7)"
   ]
  },
  {
   "cell_type": "code",
   "execution_count": 160,
   "id": "d3fe7878",
   "metadata": {},
   "outputs": [
    {
     "name": "stdout",
     "output_type": "stream",
     "text": [
      "\n",
      "\n",
      "\u001b[1m> Entering new RetrievalQA chain...\u001b[0m\n",
      "\n",
      "\n",
      "\u001b[1m> Entering new StuffDocumentsChain chain...\u001b[0m\n",
      "\n",
      "\n",
      "\u001b[1m> Entering new LLMChain chain...\u001b[0m\n",
      "Prompt after formatting:\n",
      "\u001b[32;1m\u001b[1;3m\n",
      "Use the following context (delimited by <ctx></ctx>) and the chat history (delimited by <hs></hs>) to answer the question:\n",
      "------\n",
      "<ctx>\n",
      "waterand in finer sediment than the more desiccation - tolerant h. nudus ( sliger 1982 ). there is still considerable habitat overlap between these two species ; the underside of a single rock may have\n",
      "\n",
      "##f, f. j. 2011. biometry. 4th ed. w. h. freeman, new york, new york, usa. stuart, y. e. and losos, j. b. 2013. ecological character displacement : glass half full or half empty? trends in ecology and evolution 28 : 402 - 408.\n",
      "\n",
      "vincta in the field. it should be noted that h. nudus and la. vincta usually occupy different portions of the intertidal and may have little contact with each other, unlike the relationship between h. nudus and li. scutulata. there is some potential for overlap in the winter when la. vincta migrates up shore. although no differences in consumption rates between male and female h. nudus were found, this might be\n",
      "\n",
      "charifson 15 figure 1 : relationship of carapace width and propal height in hemigrapsus. line of best fit from sma regression. see table 1a for descriptive statistics. a ) female h. nudus. b ) male h. nudus. c ) female h. oregonensis. d ) male h. oregonensis.\n",
      "</ctx>\n",
      "------\n",
      "<hs>\n",
      "Human: what is this paper about?\n",
      "AI: The paper is about the analysis of carapace width and propus measures in different species of crabs, specifically H. nudus and H. oregonensis. It also discusses the consumption rates of individual H. nudus crabs.\n",
      "Human: Write a one sentence summary of the purpose of the paper\n",
      "AI: The purpose of the paper is to analyze the relationship between carapace width and propus measures in different species of crabs and investigate the differences in propal height and propal width between sexes and species.\n",
      "Human: And who wrote the paper?\n",
      "AI: The authors of the paper are Charifson and Rohlf (2011).\n",
      "Human: Summarize the paper concisely with reference to materials and methods.\n",
      "AI: The paper analyzed the relationship between carapace width and propus measures in H. nudus and H. oregonensis crabs using a two-way ANOVA. The authors used SMA regression to determine the relationship between carapace width and propal height/propal width in different sexes and species.\n",
      "Human: Terms that may be used to identify an observation include “in the field”, “this study”, “observed”, “taken”, “collected”, “sampled”, “collection”, “seen”, “harvested”, “found”, etc. Does the paper include one or more observations?\n",
      "AI: Based on the given context, it is not clear whether the paper includes one or more observations. The context does not provide specific information or details about any observations made in the study.\n",
      "Human: Does this paper contain observational or experimental research conducted in the natural environment or with organisms collected in nature?\n",
      "AI: Based on the given context, it is not clear whether the paper contains observational or experimental research conducted in the natural environment or with organisms collected in nature. The context does not provide specific information or details about the research methods used in the study.\n",
      "Human: What are the scientific names of the species mentioned in this paper?\n",
      "AI: The scientific names of the species mentioned in this paper are H. nudus and H. oregonensis.\n",
      "</hs>\n",
      "------\n",
      "Does the paper mention where the species were observed or collected, and if so, what locations are given?\n",
      "Answer:\n",
      "\u001b[0m\n",
      "\n",
      "\u001b[1m> Finished chain.\u001b[0m\n",
      "\n",
      "\u001b[1m> Finished chain.\u001b[0m\n",
      "\n",
      "\u001b[1m> Finished chain.\u001b[0m\n"
     ]
    }
   ],
   "source": [
    "stuff_result8 = qa_stuff({\"query\": query8})"
   ]
  },
  {
   "cell_type": "code",
   "execution_count": 161,
   "id": "bd9d857c",
   "metadata": {},
   "outputs": [
    {
     "data": {
      "text/plain": [
       "'Based on the given context, it is not mentioned where the species were observed or collected. No specific locations are given in the context.'"
      ]
     },
     "execution_count": 161,
     "metadata": {},
     "output_type": "execute_result"
    }
   ],
   "source": [
    "stuff_result8[\"result\"]"
   ]
  },
  {
   "cell_type": "code",
   "execution_count": 162,
   "id": "dc1f6dee",
   "metadata": {},
   "outputs": [
    {
     "data": {
      "text/plain": [
       "[Document(page_content='waterand in finer sediment than the more desiccation - tolerant h. nudus ( sliger 1982 ). there is still considerable habitat overlap between these two species ; the underside of a single rock may have', metadata={'source': 'hms/fhl_2014_Charifson_34622 (1).pdf', 'file_path': 'hms/fhl_2014_Charifson_34622 (1).pdf', 'page': 1, 'total_pages': 19, 'format': 'PDF 1.5', 'title': '', 'author': 'David', 'subject': '', 'keywords': '', 'creator': 'Microsoft® Office Word 2007', 'producer': 'Microsoft® Office Word 2007', 'creationDate': \"D:20140723120649-04'00'\", 'modDate': \"D:20140723120649-04'00'\", 'trapped': ''}),\n",
       " Document(page_content='##f, f. j. 2011. biometry. 4th ed. w. h. freeman, new york, new york, usa. stuart, y. e. and losos, j. b. 2013. ecological character displacement : glass half full or half empty? trends in ecology and evolution 28 : 402 - 408.', metadata={'source': 'hms/fhl_2014_Charifson_34622 (1).pdf', 'file_path': 'hms/fhl_2014_Charifson_34622 (1).pdf', 'page': 10, 'total_pages': 19, 'format': 'PDF 1.5', 'title': '', 'author': 'David', 'subject': '', 'keywords': '', 'creator': 'Microsoft® Office Word 2007', 'producer': 'Microsoft® Office Word 2007', 'creationDate': \"D:20140723120649-04'00'\", 'modDate': \"D:20140723120649-04'00'\", 'trapped': ''}),\n",
       " Document(page_content='vincta in the field. it should be noted that h. nudus and la. vincta usually occupy different portions of the intertidal and may have little contact with each other, unlike the relationship between h. nudus and li. scutulata. there is some potential for overlap in the winter when la. vincta migrates up shore. although no differences in consumption rates between male and female h. nudus were found, this might be', metadata={'source': 'hms/fhl_2014_Charifson_34622 (1).pdf', 'file_path': 'hms/fhl_2014_Charifson_34622 (1).pdf', 'page': 8, 'total_pages': 19, 'format': 'PDF 1.5', 'title': '', 'author': 'David', 'subject': '', 'keywords': '', 'creator': 'Microsoft® Office Word 2007', 'producer': 'Microsoft® Office Word 2007', 'creationDate': \"D:20140723120649-04'00'\", 'modDate': \"D:20140723120649-04'00'\", 'trapped': ''}),\n",
       " Document(page_content='charifson 15 figure 1 : relationship of carapace width and propal height in hemigrapsus. line of best fit from sma regression. see table 1a for descriptive statistics. a ) female h. nudus. b ) male h. nudus. c ) female h. oregonensis. d ) male h. oregonensis.', metadata={'source': 'hms/fhl_2014_Charifson_34622 (1).pdf', 'file_path': 'hms/fhl_2014_Charifson_34622 (1).pdf', 'page': 14, 'total_pages': 19, 'format': 'PDF 1.5', 'title': '', 'author': 'David', 'subject': '', 'keywords': '', 'creator': 'Microsoft® Office Word 2007', 'producer': 'Microsoft® Office Word 2007', 'creationDate': \"D:20140723120649-04'00'\", 'modDate': \"D:20140723120649-04'00'\", 'trapped': ''})]"
      ]
     },
     "execution_count": 162,
     "metadata": {},
     "output_type": "execute_result"
    }
   ],
   "source": [
    "stuff_result8[\"source_documents\"]"
   ]
  },
  {
   "cell_type": "code",
   "execution_count": 163,
   "id": "9711c260",
   "metadata": {},
   "outputs": [],
   "source": [
    "#Does the paper mention where the species were observed or collected, and if so, what locations are given?\n",
    "# qa_stuff.run(query8)"
   ]
  },
  {
   "cell_type": "code",
   "execution_count": 164,
   "id": "2a4431f9",
   "metadata": {},
   "outputs": [
    {
     "name": "stdout",
     "output_type": "stream",
     "text": [
      "\n",
      "\n",
      "\u001b[1m> Entering new RetrievalQA chain...\u001b[0m\n",
      "\n",
      "\n",
      "\u001b[1m> Entering new StuffDocumentsChain chain...\u001b[0m\n",
      "\n",
      "\n",
      "\u001b[1m> Entering new LLMChain chain...\u001b[0m\n",
      "Prompt after formatting:\n",
      "\u001b[32;1m\u001b[1;3m\n",
      "Use the following context (delimited by <ctx></ctx>) and the chat history (delimited by <hs></hs>) to answer the question:\n",
      "------\n",
      "<ctx>\n",
      "to right sides of the propus. all claw measurements were made on the left cheliped.\n",
      "\n",
      "charifson 15 figure 1 : relationship of carapace width and propal height in hemigrapsus. line of best fit from sma regression. see table 1a for descriptive statistics. a ) female h. nudus. b ) male h. nudus. c ) female h. oregonensis. d ) male h. oregonensis.\n",
      "\n",
      "charifson 16 figure 2 : relationship of carapace width and propal width in hemigrapsus. line of best fit from sma regression. see table 1b for descriptive statistics. a ) female h. nudus. b ) male h. nudus. c ) female h. oregonensis. d ) male h. oregonensis.\n",
      "\n",
      "and rohlf 2011 ). differences in cw : ph and cw : pw were analyzed using a two - way anova\n",
      "</ctx>\n",
      "------\n",
      "<hs>\n",
      "Human: what is this paper about?\n",
      "AI: The paper is about the analysis of carapace width and propus measures in different species of crabs, specifically H. nudus and H. oregonensis. It also discusses the consumption rates of individual H. nudus crabs.\n",
      "Human: Write a one sentence summary of the purpose of the paper\n",
      "AI: The purpose of the paper is to analyze the relationship between carapace width and propus measures in different species of crabs and investigate the differences in propal height and propal width between sexes and species.\n",
      "Human: And who wrote the paper?\n",
      "AI: The authors of the paper are Charifson and Rohlf (2011).\n",
      "Human: Summarize the paper concisely with reference to materials and methods.\n",
      "AI: The paper analyzed the relationship between carapace width and propus measures in H. nudus and H. oregonensis crabs using a two-way ANOVA. The authors used SMA regression to determine the relationship between carapace width and propal height/propal width in different sexes and species.\n",
      "Human: Terms that may be used to identify an observation include “in the field”, “this study”, “observed”, “taken”, “collected”, “sampled”, “collection”, “seen”, “harvested”, “found”, etc. Does the paper include one or more observations?\n",
      "AI: Based on the given context, it is not clear whether the paper includes one or more observations. The context does not provide specific information or details about any observations made in the study.\n",
      "Human: Does this paper contain observational or experimental research conducted in the natural environment or with organisms collected in nature?\n",
      "AI: Based on the given context, it is not clear whether the paper contains observational or experimental research conducted in the natural environment or with organisms collected in nature. The context does not provide specific information or details about the research methods used in the study.\n",
      "Human: What are the scientific names of the species mentioned in this paper?\n",
      "AI: The scientific names of the species mentioned in this paper are H. nudus and H. oregonensis.\n",
      "Human: Does the paper mention where the species were observed or collected, and if so, what locations are given?\n",
      "AI: Based on the given context, it is not mentioned where the species were observed or collected. No specific locations are given in the context.\n",
      "</hs>\n",
      "------\n",
      "Are any coordinate locations given in latitude / longitude, and if so, what are they?\n",
      "Answer:\n",
      "\u001b[0m\n",
      "\n",
      "\u001b[1m> Finished chain.\u001b[0m\n",
      "\n",
      "\u001b[1m> Finished chain.\u001b[0m\n",
      "\n",
      "\u001b[1m> Finished chain.\u001b[0m\n"
     ]
    }
   ],
   "source": [
    "stuff_result9 = qa_stuff({\"query\": query9})"
   ]
  },
  {
   "cell_type": "code",
   "execution_count": 165,
   "id": "7d599969",
   "metadata": {},
   "outputs": [
    {
     "data": {
      "text/plain": [
       "'No, there are no coordinate locations given in latitude/longitude in the provided context.'"
      ]
     },
     "execution_count": 165,
     "metadata": {},
     "output_type": "execute_result"
    }
   ],
   "source": [
    "stuff_result9[\"result\"]"
   ]
  },
  {
   "cell_type": "code",
   "execution_count": 166,
   "id": "bc2331e0",
   "metadata": {},
   "outputs": [
    {
     "data": {
      "text/plain": [
       "[Document(page_content='to right sides of the propus. all claw measurements were made on the left cheliped.', metadata={'source': 'hms/fhl_2014_Charifson_34622 (1).pdf', 'file_path': 'hms/fhl_2014_Charifson_34622 (1).pdf', 'page': 3, 'total_pages': 19, 'format': 'PDF 1.5', 'title': '', 'author': 'David', 'subject': '', 'keywords': '', 'creator': 'Microsoft® Office Word 2007', 'producer': 'Microsoft® Office Word 2007', 'creationDate': \"D:20140723120649-04'00'\", 'modDate': \"D:20140723120649-04'00'\", 'trapped': ''}),\n",
       " Document(page_content='charifson 15 figure 1 : relationship of carapace width and propal height in hemigrapsus. line of best fit from sma regression. see table 1a for descriptive statistics. a ) female h. nudus. b ) male h. nudus. c ) female h. oregonensis. d ) male h. oregonensis.', metadata={'source': 'hms/fhl_2014_Charifson_34622 (1).pdf', 'file_path': 'hms/fhl_2014_Charifson_34622 (1).pdf', 'page': 14, 'total_pages': 19, 'format': 'PDF 1.5', 'title': '', 'author': 'David', 'subject': '', 'keywords': '', 'creator': 'Microsoft® Office Word 2007', 'producer': 'Microsoft® Office Word 2007', 'creationDate': \"D:20140723120649-04'00'\", 'modDate': \"D:20140723120649-04'00'\", 'trapped': ''}),\n",
       " Document(page_content='charifson 16 figure 2 : relationship of carapace width and propal width in hemigrapsus. line of best fit from sma regression. see table 1b for descriptive statistics. a ) female h. nudus. b ) male h. nudus. c ) female h. oregonensis. d ) male h. oregonensis.', metadata={'source': 'hms/fhl_2014_Charifson_34622 (1).pdf', 'file_path': 'hms/fhl_2014_Charifson_34622 (1).pdf', 'page': 15, 'total_pages': 19, 'format': 'PDF 1.5', 'title': '', 'author': 'David', 'subject': '', 'keywords': '', 'creator': 'Microsoft® Office Word 2007', 'producer': 'Microsoft® Office Word 2007', 'creationDate': \"D:20140723120649-04'00'\", 'modDate': \"D:20140723120649-04'00'\", 'trapped': ''}),\n",
       " Document(page_content='and rohlf 2011 ). differences in cw : ph and cw : pw were analyzed using a two - way anova', metadata={'source': 'hms/fhl_2014_Charifson_34622 (1).pdf', 'file_path': 'hms/fhl_2014_Charifson_34622 (1).pdf', 'page': 4, 'total_pages': 19, 'format': 'PDF 1.5', 'title': '', 'author': 'David', 'subject': '', 'keywords': '', 'creator': 'Microsoft® Office Word 2007', 'producer': 'Microsoft® Office Word 2007', 'creationDate': \"D:20140723120649-04'00'\", 'modDate': \"D:20140723120649-04'00'\", 'trapped': ''})]"
      ]
     },
     "execution_count": 166,
     "metadata": {},
     "output_type": "execute_result"
    }
   ],
   "source": [
    "stuff_result9[\"source_documents\"]"
   ]
  },
  {
   "cell_type": "code",
   "execution_count": 167,
   "id": "f4bbd077",
   "metadata": {},
   "outputs": [],
   "source": [
    "#Are any coordinate locations given in latitude / longitude, and if so, what are they?\n",
    "# qa_stuff.run(query9)"
   ]
  },
  {
   "cell_type": "code",
   "execution_count": 168,
   "id": "52dda0aa",
   "metadata": {},
   "outputs": [
    {
     "name": "stdout",
     "output_type": "stream",
     "text": [
      "\n",
      "\n",
      "\u001b[1m> Entering new RetrievalQA chain...\u001b[0m\n",
      "\n",
      "\n",
      "\u001b[1m> Entering new StuffDocumentsChain chain...\u001b[0m\n",
      "\n",
      "\n",
      "\u001b[1m> Entering new LLMChain chain...\u001b[0m\n",
      "Prompt after formatting:\n",
      "\u001b[32;1m\u001b[1;3m\n",
      "Use the following context (delimited by <ctx></ctx>) and the chat history (delimited by <hs></hs>) to answer the question:\n",
      "------\n",
      "<ctx>\n",
      "waterand in finer sediment than the more desiccation - tolerant h. nudus ( sliger 1982 ). there is still considerable habitat overlap between these two species ; the underside of a single rock may have\n",
      "\n",
      "##f, f. j. 2011. biometry. 4th ed. w. h. freeman, new york, new york, usa. stuart, y. e. and losos, j. b. 2013. ecological character displacement : glass half full or half empty? trends in ecology and evolution 28 : 402 - 408.\n",
      "\n",
      "vincta in the field. it should be noted that h. nudus and la. vincta usually occupy different portions of the intertidal and may have little contact with each other, unlike the relationship between h. nudus and li. scutulata. there is some potential for overlap in the winter when la. vincta migrates up shore. although no differences in consumption rates between male and female h. nudus were found, this might be\n",
      "\n",
      "charifson 15 figure 1 : relationship of carapace width and propal height in hemigrapsus. line of best fit from sma regression. see table 1a for descriptive statistics. a ) female h. nudus. b ) male h. nudus. c ) female h. oregonensis. d ) male h. oregonensis.\n",
      "</ctx>\n",
      "------\n",
      "<hs>\n",
      "Human: what is this paper about?\n",
      "AI: The paper is about the analysis of carapace width and propus measures in different species of crabs, specifically H. nudus and H. oregonensis. It also discusses the consumption rates of individual H. nudus crabs.\n",
      "Human: Write a one sentence summary of the purpose of the paper\n",
      "AI: The purpose of the paper is to analyze the relationship between carapace width and propus measures in different species of crabs and investigate the differences in propal height and propal width between sexes and species.\n",
      "Human: And who wrote the paper?\n",
      "AI: The authors of the paper are Charifson and Rohlf (2011).\n",
      "Human: Summarize the paper concisely with reference to materials and methods.\n",
      "AI: The paper analyzed the relationship between carapace width and propus measures in H. nudus and H. oregonensis crabs using a two-way ANOVA. The authors used SMA regression to determine the relationship between carapace width and propal height/propal width in different sexes and species.\n",
      "Human: Terms that may be used to identify an observation include “in the field”, “this study”, “observed”, “taken”, “collected”, “sampled”, “collection”, “seen”, “harvested”, “found”, etc. Does the paper include one or more observations?\n",
      "AI: Based on the given context, it is not clear whether the paper includes one or more observations. The context does not provide specific information or details about any observations made in the study.\n",
      "Human: Does this paper contain observational or experimental research conducted in the natural environment or with organisms collected in nature?\n",
      "AI: Based on the given context, it is not clear whether the paper contains observational or experimental research conducted in the natural environment or with organisms collected in nature. The context does not provide specific information or details about the research methods used in the study.\n",
      "Human: What are the scientific names of the species mentioned in this paper?\n",
      "AI: The scientific names of the species mentioned in this paper are H. nudus and H. oregonensis.\n",
      "Human: Does the paper mention where the species were observed or collected, and if so, what locations are given?\n",
      "AI: Based on the given context, it is not mentioned where the species were observed or collected. No specific locations are given in the context.\n",
      "Human: Are any coordinate locations given in latitude / longitude, and if so, what are they?\n",
      "AI: No, there are no coordinate locations given in latitude/longitude in the provided context.\n",
      "</hs>\n",
      "------\n",
      "In what habitat were the species found?\n",
      "Answer:\n",
      "\u001b[0m\n",
      "\n",
      "\u001b[1m> Finished chain.\u001b[0m\n",
      "\n",
      "\u001b[1m> Finished chain.\u001b[0m\n",
      "\n",
      "\u001b[1m> Finished chain.\u001b[0m\n"
     ]
    }
   ],
   "source": [
    "stuff_result10 = qa_stuff({\"query\": query10})"
   ]
  },
  {
   "cell_type": "code",
   "execution_count": 169,
   "id": "edce927c",
   "metadata": {},
   "outputs": [
    {
     "data": {
      "text/plain": [
       "'Based on the given context, it is mentioned that H. nudus and la. vincta usually occupy different portions of the intertidal habitat.'"
      ]
     },
     "execution_count": 169,
     "metadata": {},
     "output_type": "execute_result"
    }
   ],
   "source": [
    "stuff_result10[\"result\"]"
   ]
  },
  {
   "cell_type": "code",
   "execution_count": 170,
   "id": "4265a11f",
   "metadata": {},
   "outputs": [
    {
     "data": {
      "text/plain": [
       "[Document(page_content='waterand in finer sediment than the more desiccation - tolerant h. nudus ( sliger 1982 ). there is still considerable habitat overlap between these two species ; the underside of a single rock may have', metadata={'source': 'hms/fhl_2014_Charifson_34622 (1).pdf', 'file_path': 'hms/fhl_2014_Charifson_34622 (1).pdf', 'page': 1, 'total_pages': 19, 'format': 'PDF 1.5', 'title': '', 'author': 'David', 'subject': '', 'keywords': '', 'creator': 'Microsoft® Office Word 2007', 'producer': 'Microsoft® Office Word 2007', 'creationDate': \"D:20140723120649-04'00'\", 'modDate': \"D:20140723120649-04'00'\", 'trapped': ''}),\n",
       " Document(page_content='##f, f. j. 2011. biometry. 4th ed. w. h. freeman, new york, new york, usa. stuart, y. e. and losos, j. b. 2013. ecological character displacement : glass half full or half empty? trends in ecology and evolution 28 : 402 - 408.', metadata={'source': 'hms/fhl_2014_Charifson_34622 (1).pdf', 'file_path': 'hms/fhl_2014_Charifson_34622 (1).pdf', 'page': 10, 'total_pages': 19, 'format': 'PDF 1.5', 'title': '', 'author': 'David', 'subject': '', 'keywords': '', 'creator': 'Microsoft® Office Word 2007', 'producer': 'Microsoft® Office Word 2007', 'creationDate': \"D:20140723120649-04'00'\", 'modDate': \"D:20140723120649-04'00'\", 'trapped': ''}),\n",
       " Document(page_content='vincta in the field. it should be noted that h. nudus and la. vincta usually occupy different portions of the intertidal and may have little contact with each other, unlike the relationship between h. nudus and li. scutulata. there is some potential for overlap in the winter when la. vincta migrates up shore. although no differences in consumption rates between male and female h. nudus were found, this might be', metadata={'source': 'hms/fhl_2014_Charifson_34622 (1).pdf', 'file_path': 'hms/fhl_2014_Charifson_34622 (1).pdf', 'page': 8, 'total_pages': 19, 'format': 'PDF 1.5', 'title': '', 'author': 'David', 'subject': '', 'keywords': '', 'creator': 'Microsoft® Office Word 2007', 'producer': 'Microsoft® Office Word 2007', 'creationDate': \"D:20140723120649-04'00'\", 'modDate': \"D:20140723120649-04'00'\", 'trapped': ''}),\n",
       " Document(page_content='charifson 15 figure 1 : relationship of carapace width and propal height in hemigrapsus. line of best fit from sma regression. see table 1a for descriptive statistics. a ) female h. nudus. b ) male h. nudus. c ) female h. oregonensis. d ) male h. oregonensis.', metadata={'source': 'hms/fhl_2014_Charifson_34622 (1).pdf', 'file_path': 'hms/fhl_2014_Charifson_34622 (1).pdf', 'page': 14, 'total_pages': 19, 'format': 'PDF 1.5', 'title': '', 'author': 'David', 'subject': '', 'keywords': '', 'creator': 'Microsoft® Office Word 2007', 'producer': 'Microsoft® Office Word 2007', 'creationDate': \"D:20140723120649-04'00'\", 'modDate': \"D:20140723120649-04'00'\", 'trapped': ''})]"
      ]
     },
     "execution_count": 170,
     "metadata": {},
     "output_type": "execute_result"
    }
   ],
   "source": [
    "stuff_result10[\"source_documents\"]"
   ]
  },
  {
   "cell_type": "code",
   "execution_count": 171,
   "id": "96ef4669",
   "metadata": {},
   "outputs": [],
   "source": [
    "#In what habitat were the species found?\n",
    "# qa_stuff.run(query10)"
   ]
  },
  {
   "cell_type": "code",
   "execution_count": 172,
   "id": "5cadaae1",
   "metadata": {},
   "outputs": [
    {
     "name": "stdout",
     "output_type": "stream",
     "text": [
      "\n",
      "\n",
      "\u001b[1m> Entering new RetrievalQA chain...\u001b[0m\n",
      "\n",
      "\n",
      "\u001b[1m> Entering new StuffDocumentsChain chain...\u001b[0m\n",
      "\n",
      "\n",
      "\u001b[1m> Entering new LLMChain chain...\u001b[0m\n",
      "Prompt after formatting:\n",
      "\u001b[32;1m\u001b[1;3m\n",
      "Use the following context (delimited by <ctx></ctx>) and the chat history (delimited by <hs></hs>) to answer the question:\n",
      "------\n",
      "<ctx>\n",
      "##f, f. j. 2011. biometry. 4th ed. w. h. freeman, new york, new york, usa. stuart, y. e. and losos, j. b. 2013. ecological character displacement : glass half full or half empty? trends in ecology and evolution 28 : 402 - 408.\n",
      "\n",
      "waterand in finer sediment than the more desiccation - tolerant h. nudus ( sliger 1982 ). there is still considerable habitat overlap between these two species ; the underside of a single rock may have\n",
      "\n",
      "charifson 17 figure 3 : differences in propal height : carapace width ratio between sex and species. the sex factor was statistically significant ( f = 125. 6. p < 0. 001 ), while the species factor was insignificant ( f > 0. 01, p = 0. 983 ). there was a significant interaction ( f = 4. 39, p = 0. 042 ). error bars represent standard error of the mean. 0 0. 05 0. 1 0. 15 0. 2 0. 25 0. 3 0. 35 h. nudus h. oregonensis propal height : carapace width crab species female male\n",
      "\n",
      "charifson 18 figure 4 : differences in propal width : carapace width ratio between sex and species. the sex factor was statistically significant ( f1, 45 = 103. 8. p < 0. 001 ), while the species factor was insignificant ( f1, 45 = 0. 09, p = 0. 764 ). there was a significant interaction ( f1, 45 = 7. 19, p = 0. 01 ). error bars represent standard error of the mean. 0 0. 05 0. 1 0. 15 0. 2 0. 25 h. nudus h. oregonensis propal widtht : carapace width crab species female male\n",
      "</ctx>\n",
      "------\n",
      "<hs>\n",
      "Human: what is this paper about?\n",
      "AI: The paper is about the analysis of carapace width and propus measures in different species of crabs, specifically H. nudus and H. oregonensis. It also discusses the consumption rates of individual H. nudus crabs.\n",
      "Human: Write a one sentence summary of the purpose of the paper\n",
      "AI: The purpose of the paper is to analyze the relationship between carapace width and propus measures in different species of crabs and investigate the differences in propal height and propal width between sexes and species.\n",
      "Human: And who wrote the paper?\n",
      "AI: The authors of the paper are Charifson and Rohlf (2011).\n",
      "Human: Summarize the paper concisely with reference to materials and methods.\n",
      "AI: The paper analyzed the relationship between carapace width and propus measures in H. nudus and H. oregonensis crabs using a two-way ANOVA. The authors used SMA regression to determine the relationship between carapace width and propal height/propal width in different sexes and species.\n",
      "Human: Terms that may be used to identify an observation include “in the field”, “this study”, “observed”, “taken”, “collected”, “sampled”, “collection”, “seen”, “harvested”, “found”, etc. Does the paper include one or more observations?\n",
      "AI: Based on the given context, it is not clear whether the paper includes one or more observations. The context does not provide specific information or details about any observations made in the study.\n",
      "Human: Does this paper contain observational or experimental research conducted in the natural environment or with organisms collected in nature?\n",
      "AI: Based on the given context, it is not clear whether the paper contains observational or experimental research conducted in the natural environment or with organisms collected in nature. The context does not provide specific information or details about the research methods used in the study.\n",
      "Human: What are the scientific names of the species mentioned in this paper?\n",
      "AI: The scientific names of the species mentioned in this paper are H. nudus and H. oregonensis.\n",
      "Human: Does the paper mention where the species were observed or collected, and if so, what locations are given?\n",
      "AI: Based on the given context, it is not mentioned where the species were observed or collected. No specific locations are given in the context.\n",
      "Human: Are any coordinate locations given in latitude / longitude, and if so, what are they?\n",
      "AI: No, there are no coordinate locations given in latitude/longitude in the provided context.\n",
      "Human: In what habitat were the species found?\n",
      "AI: Based on the given context, it is mentioned that H. nudus and la. vincta usually occupy different portions of the intertidal habitat.\n",
      "</hs>\n",
      "------\n",
      "Does the paper mention a year, date and/or time that species were collected or observed, and if so, what was mentioned?\n",
      "Answer:\n",
      "\u001b[0m\n",
      "\n",
      "\u001b[1m> Finished chain.\u001b[0m\n",
      "\n",
      "\u001b[1m> Finished chain.\u001b[0m\n",
      "\n",
      "\u001b[1m> Finished chain.\u001b[0m\n"
     ]
    }
   ],
   "source": [
    "stuff_result11 = qa_stuff({\"query\": query11})"
   ]
  },
  {
   "cell_type": "code",
   "execution_count": 173,
   "id": "d031c8e9",
   "metadata": {},
   "outputs": [
    {
     "data": {
      "text/plain": [
       "'No, the paper does not mention a year, date, or time that the species were collected or observed.'"
      ]
     },
     "execution_count": 173,
     "metadata": {},
     "output_type": "execute_result"
    }
   ],
   "source": [
    "stuff_result11[\"result\"]"
   ]
  },
  {
   "cell_type": "code",
   "execution_count": 174,
   "id": "43fd146d",
   "metadata": {},
   "outputs": [
    {
     "data": {
      "text/plain": [
       "[Document(page_content='##f, f. j. 2011. biometry. 4th ed. w. h. freeman, new york, new york, usa. stuart, y. e. and losos, j. b. 2013. ecological character displacement : glass half full or half empty? trends in ecology and evolution 28 : 402 - 408.', metadata={'source': 'hms/fhl_2014_Charifson_34622 (1).pdf', 'file_path': 'hms/fhl_2014_Charifson_34622 (1).pdf', 'page': 10, 'total_pages': 19, 'format': 'PDF 1.5', 'title': '', 'author': 'David', 'subject': '', 'keywords': '', 'creator': 'Microsoft® Office Word 2007', 'producer': 'Microsoft® Office Word 2007', 'creationDate': \"D:20140723120649-04'00'\", 'modDate': \"D:20140723120649-04'00'\", 'trapped': ''}),\n",
       " Document(page_content='waterand in finer sediment than the more desiccation - tolerant h. nudus ( sliger 1982 ). there is still considerable habitat overlap between these two species ; the underside of a single rock may have', metadata={'source': 'hms/fhl_2014_Charifson_34622 (1).pdf', 'file_path': 'hms/fhl_2014_Charifson_34622 (1).pdf', 'page': 1, 'total_pages': 19, 'format': 'PDF 1.5', 'title': '', 'author': 'David', 'subject': '', 'keywords': '', 'creator': 'Microsoft® Office Word 2007', 'producer': 'Microsoft® Office Word 2007', 'creationDate': \"D:20140723120649-04'00'\", 'modDate': \"D:20140723120649-04'00'\", 'trapped': ''}),\n",
       " Document(page_content='charifson 17 figure 3 : differences in propal height : carapace width ratio between sex and species. the sex factor was statistically significant ( f = 125. 6. p < 0. 001 ), while the species factor was insignificant ( f > 0. 01, p = 0. 983 ). there was a significant interaction ( f = 4. 39, p = 0. 042 ). error bars represent standard error of the mean. 0 0. 05 0. 1 0. 15 0. 2 0. 25 0. 3 0. 35 h. nudus h. oregonensis propal height : carapace width crab species female male', metadata={'source': 'hms/fhl_2014_Charifson_34622 (1).pdf', 'file_path': 'hms/fhl_2014_Charifson_34622 (1).pdf', 'page': 16, 'total_pages': 19, 'format': 'PDF 1.5', 'title': '', 'author': 'David', 'subject': '', 'keywords': '', 'creator': 'Microsoft® Office Word 2007', 'producer': 'Microsoft® Office Word 2007', 'creationDate': \"D:20140723120649-04'00'\", 'modDate': \"D:20140723120649-04'00'\", 'trapped': ''}),\n",
       " Document(page_content='charifson 18 figure 4 : differences in propal width : carapace width ratio between sex and species. the sex factor was statistically significant ( f1, 45 = 103. 8. p < 0. 001 ), while the species factor was insignificant ( f1, 45 = 0. 09, p = 0. 764 ). there was a significant interaction ( f1, 45 = 7. 19, p = 0. 01 ). error bars represent standard error of the mean. 0 0. 05 0. 1 0. 15 0. 2 0. 25 h. nudus h. oregonensis propal widtht : carapace width crab species female male', metadata={'source': 'hms/fhl_2014_Charifson_34622 (1).pdf', 'file_path': 'hms/fhl_2014_Charifson_34622 (1).pdf', 'page': 17, 'total_pages': 19, 'format': 'PDF 1.5', 'title': '', 'author': 'David', 'subject': '', 'keywords': '', 'creator': 'Microsoft® Office Word 2007', 'producer': 'Microsoft® Office Word 2007', 'creationDate': \"D:20140723120649-04'00'\", 'modDate': \"D:20140723120649-04'00'\", 'trapped': ''})]"
      ]
     },
     "execution_count": 174,
     "metadata": {},
     "output_type": "execute_result"
    }
   ],
   "source": [
    "stuff_result11[\"source_documents\"]"
   ]
  },
  {
   "cell_type": "code",
   "execution_count": 175,
   "id": "066d1a8c",
   "metadata": {},
   "outputs": [],
   "source": [
    "#Does the paper mention a year, date and/or time that species were collected or observed, and if so, what was mentioned?\n",
    "# qa_stuff.run(query11)"
   ]
  },
  {
   "cell_type": "code",
   "execution_count": 176,
   "id": "2c120e05",
   "metadata": {},
   "outputs": [
    {
     "name": "stdout",
     "output_type": "stream",
     "text": [
      "\n",
      "\n",
      "\u001b[1m> Entering new RetrievalQA chain...\u001b[0m\n",
      "\n",
      "\n",
      "\u001b[1m> Entering new StuffDocumentsChain chain...\u001b[0m\n",
      "\n",
      "\n",
      "\u001b[1m> Entering new LLMChain chain...\u001b[0m\n",
      "Prompt after formatting:\n",
      "\u001b[32;1m\u001b[1;3m\n",
      "Use the following context (delimited by <ctx></ctx>) and the chat history (delimited by <hs></hs>) to answer the question:\n",
      "------\n",
      "<ctx>\n",
      "to right sides of the propus. all claw measurements were made on the left cheliped.\n",
      "\n",
      "charifson 16 figure 2 : relationship of carapace width and propal width in hemigrapsus. line of best fit from sma regression. see table 1b for descriptive statistics. a ) female h. nudus. b ) male h. nudus. c ) female h. oregonensis. d ) male h. oregonensis.\n",
      "\n",
      "charifson 15 figure 1 : relationship of carapace width and propal height in hemigrapsus. line of best fit from sma regression. see table 1a for descriptive statistics. a ) female h. nudus. b ) male h. nudus. c ) female h. oregonensis. d ) male h. oregonensis.\n",
      "\n",
      "and rohlf 2011 ). differences in cw : ph and cw : pw were analyzed using a two - way anova\n",
      "</ctx>\n",
      "------\n",
      "<hs>\n",
      "Human: what is this paper about?\n",
      "AI: The paper is about the analysis of carapace width and propus measures in different species of crabs, specifically H. nudus and H. oregonensis. It also discusses the consumption rates of individual H. nudus crabs.\n",
      "Human: Write a one sentence summary of the purpose of the paper\n",
      "AI: The purpose of the paper is to analyze the relationship between carapace width and propus measures in different species of crabs and investigate the differences in propal height and propal width between sexes and species.\n",
      "Human: And who wrote the paper?\n",
      "AI: The authors of the paper are Charifson and Rohlf (2011).\n",
      "Human: Summarize the paper concisely with reference to materials and methods.\n",
      "AI: The paper analyzed the relationship between carapace width and propus measures in H. nudus and H. oregonensis crabs using a two-way ANOVA. The authors used SMA regression to determine the relationship between carapace width and propal height/propal width in different sexes and species.\n",
      "Human: Terms that may be used to identify an observation include “in the field”, “this study”, “observed”, “taken”, “collected”, “sampled”, “collection”, “seen”, “harvested”, “found”, etc. Does the paper include one or more observations?\n",
      "AI: Based on the given context, it is not clear whether the paper includes one or more observations. The context does not provide specific information or details about any observations made in the study.\n",
      "Human: Does this paper contain observational or experimental research conducted in the natural environment or with organisms collected in nature?\n",
      "AI: Based on the given context, it is not clear whether the paper contains observational or experimental research conducted in the natural environment or with organisms collected in nature. The context does not provide specific information or details about the research methods used in the study.\n",
      "Human: What are the scientific names of the species mentioned in this paper?\n",
      "AI: The scientific names of the species mentioned in this paper are H. nudus and H. oregonensis.\n",
      "Human: Does the paper mention where the species were observed or collected, and if so, what locations are given?\n",
      "AI: Based on the given context, it is not mentioned where the species were observed or collected. No specific locations are given in the context.\n",
      "Human: Are any coordinate locations given in latitude / longitude, and if so, what are they?\n",
      "AI: No, there are no coordinate locations given in latitude/longitude in the provided context.\n",
      "Human: In what habitat were the species found?\n",
      "AI: Based on the given context, it is mentioned that H. nudus and la. vincta usually occupy different portions of the intertidal habitat.\n",
      "Human: Does the paper mention a year, date and/or time that species were collected or observed, and if so, what was mentioned?\n",
      "AI: No, the paper does not mention a year, date, or time that the species were collected or observed.\n",
      "</hs>\n",
      "------\n",
      "Are there any maps, figures, tables or diagrams in the paper?\n",
      "Answer:\n",
      "\u001b[0m\n",
      "\n",
      "\u001b[1m> Finished chain.\u001b[0m\n",
      "\n",
      "\u001b[1m> Finished chain.\u001b[0m\n",
      "\n",
      "\u001b[1m> Finished chain.\u001b[0m\n"
     ]
    }
   ],
   "source": [
    "stuff_result12 = qa_stuff({\"query\": query12})"
   ]
  },
  {
   "cell_type": "code",
   "execution_count": 177,
   "id": "61bcd9d5",
   "metadata": {},
   "outputs": [
    {
     "data": {
      "text/plain": [
       "'Based on the given context, it is mentioned that there are figures in the paper. Specifically, Figure 1 and Figure 2 are referenced, which show the relationship of carapace width and propal height/width in different species and sexes of crabs. The tables mentioned are Table 1a and Table 1b, which provide descriptive statistics related to the figures. It is not mentioned whether there are any maps, diagrams, or additional tables in the paper.'"
      ]
     },
     "execution_count": 177,
     "metadata": {},
     "output_type": "execute_result"
    }
   ],
   "source": [
    "stuff_result12[\"result\"]"
   ]
  },
  {
   "cell_type": "code",
   "execution_count": 178,
   "id": "d7e1ad57",
   "metadata": {},
   "outputs": [
    {
     "data": {
      "text/plain": [
       "[Document(page_content='to right sides of the propus. all claw measurements were made on the left cheliped.', metadata={'source': 'hms/fhl_2014_Charifson_34622 (1).pdf', 'file_path': 'hms/fhl_2014_Charifson_34622 (1).pdf', 'page': 3, 'total_pages': 19, 'format': 'PDF 1.5', 'title': '', 'author': 'David', 'subject': '', 'keywords': '', 'creator': 'Microsoft® Office Word 2007', 'producer': 'Microsoft® Office Word 2007', 'creationDate': \"D:20140723120649-04'00'\", 'modDate': \"D:20140723120649-04'00'\", 'trapped': ''}),\n",
       " Document(page_content='charifson 16 figure 2 : relationship of carapace width and propal width in hemigrapsus. line of best fit from sma regression. see table 1b for descriptive statistics. a ) female h. nudus. b ) male h. nudus. c ) female h. oregonensis. d ) male h. oregonensis.', metadata={'source': 'hms/fhl_2014_Charifson_34622 (1).pdf', 'file_path': 'hms/fhl_2014_Charifson_34622 (1).pdf', 'page': 15, 'total_pages': 19, 'format': 'PDF 1.5', 'title': '', 'author': 'David', 'subject': '', 'keywords': '', 'creator': 'Microsoft® Office Word 2007', 'producer': 'Microsoft® Office Word 2007', 'creationDate': \"D:20140723120649-04'00'\", 'modDate': \"D:20140723120649-04'00'\", 'trapped': ''}),\n",
       " Document(page_content='charifson 15 figure 1 : relationship of carapace width and propal height in hemigrapsus. line of best fit from sma regression. see table 1a for descriptive statistics. a ) female h. nudus. b ) male h. nudus. c ) female h. oregonensis. d ) male h. oregonensis.', metadata={'source': 'hms/fhl_2014_Charifson_34622 (1).pdf', 'file_path': 'hms/fhl_2014_Charifson_34622 (1).pdf', 'page': 14, 'total_pages': 19, 'format': 'PDF 1.5', 'title': '', 'author': 'David', 'subject': '', 'keywords': '', 'creator': 'Microsoft® Office Word 2007', 'producer': 'Microsoft® Office Word 2007', 'creationDate': \"D:20140723120649-04'00'\", 'modDate': \"D:20140723120649-04'00'\", 'trapped': ''}),\n",
       " Document(page_content='and rohlf 2011 ). differences in cw : ph and cw : pw were analyzed using a two - way anova', metadata={'source': 'hms/fhl_2014_Charifson_34622 (1).pdf', 'file_path': 'hms/fhl_2014_Charifson_34622 (1).pdf', 'page': 4, 'total_pages': 19, 'format': 'PDF 1.5', 'title': '', 'author': 'David', 'subject': '', 'keywords': '', 'creator': 'Microsoft® Office Word 2007', 'producer': 'Microsoft® Office Word 2007', 'creationDate': \"D:20140723120649-04'00'\", 'modDate': \"D:20140723120649-04'00'\", 'trapped': ''})]"
      ]
     },
     "execution_count": 178,
     "metadata": {},
     "output_type": "execute_result"
    }
   ],
   "source": [
    "stuff_result12[\"source_documents\"]"
   ]
  },
  {
   "cell_type": "code",
   "execution_count": 179,
   "id": "9d97eb50",
   "metadata": {},
   "outputs": [],
   "source": [
    "#Are there any maps, figures, tables or diagrams in the paper?\n",
    "# qa_stuff.run(query12)"
   ]
  },
  {
   "cell_type": "markdown",
   "id": "01d65f4f",
   "metadata": {},
   "source": [
    "# Load_QA_Chain & Prompting"
   ]
  },
  {
   "cell_type": "code",
   "execution_count": 180,
   "id": "f809e836",
   "metadata": {},
   "outputs": [],
   "source": [
    "new_template = \"\"\"\n",
    "You are an expert on species occurrences. Your task is to generate information based on the 5 major sections: abstract, introduction, materials & methods, results, and discussion\n",
    "Please do not pull information from the literature citations.\n",
    "\n",
    "Use the following context (delimited by <ctx></ctx>) and the chat history (delimited by <hs></hs>) to answer the question:\n",
    "------\n",
    "<ctx>\n",
    "{context}\n",
    "</ctx>\n",
    "------\n",
    "<hs>\n",
    "{history}\n",
    "</hs>\n",
    "------\n",
    "{question}\n",
    "\n",
    "Answer:\n",
    "\"\"\"\n",
    "new_prompt = PromptTemplate(\n",
    "    input_variables=[\"history\", \"context\", \"question\"],\n",
    "    template=new_template,\n",
    ")"
   ]
  },
  {
   "cell_type": "code",
   "execution_count": 181,
   "id": "1d8835ef",
   "metadata": {},
   "outputs": [],
   "source": [
    "from langchain.chains.question_answering import load_qa_chain\n",
    "\n",
    "\n",
    "qa_chain = load_qa_chain(ChatOpenAI(temperature=0), chain_type = \"stuff\")\n",
    "\n",
    "qa_stuff_combine = RetrievalQA(combine_documents_chain=qa_chain, \n",
    "                               retriever=vs2.as_retriever(),\n",
    "                               return_source_documents = True\n",
    "                                   )"
   ]
  },
  {
   "cell_type": "code",
   "execution_count": 182,
   "id": "c35aac6f",
   "metadata": {},
   "outputs": [],
   "source": [
    "combine_result = qa_stuff_combine({\"query\": query})"
   ]
  },
  {
   "cell_type": "code",
   "execution_count": 183,
   "id": "efecf7aa",
   "metadata": {},
   "outputs": [
    {
     "data": {
      "text/plain": [
       "'Based on the provided context, the paper appears to be about various analyses and measurements related to carapace width and propus measures in different species of crabs (H. nudus and H. oregonensis). It includes information on the relationship between carapace width and propal height/width, as well as consumption rates of snails by individual H. nudus crabs.'"
      ]
     },
     "execution_count": 183,
     "metadata": {},
     "output_type": "execute_result"
    }
   ],
   "source": [
    "combine_result['result']"
   ]
  },
  {
   "cell_type": "code",
   "execution_count": 184,
   "id": "60500b17",
   "metadata": {
    "scrolled": true
   },
   "outputs": [
    {
     "data": {
      "text/plain": [
       "[Document(page_content='##f, f. j. 2011. biometry. 4th ed. w. h. freeman, new york, new york, usa. stuart, y. e. and losos, j. b. 2013. ecological character displacement : glass half full or half empty? trends in ecology and evolution 28 : 402 - 408.', metadata={'source': 'hms/fhl_2014_Charifson_34622 (1).pdf', 'file_path': 'hms/fhl_2014_Charifson_34622 (1).pdf', 'page': 10, 'total_pages': 19, 'format': 'PDF 1.5', 'title': '', 'author': 'David', 'subject': '', 'keywords': '', 'creator': 'Microsoft® Office Word 2007', 'producer': 'Microsoft® Office Word 2007', 'creationDate': \"D:20140723120649-04'00'\", 'modDate': \"D:20140723120649-04'00'\", 'trapped': ''}),\n",
       " Document(page_content='and rohlf 2011 ). differences in cw : ph and cw : pw were analyzed using a two - way anova', metadata={'source': 'hms/fhl_2014_Charifson_34622 (1).pdf', 'file_path': 'hms/fhl_2014_Charifson_34622 (1).pdf', 'page': 4, 'total_pages': 19, 'format': 'PDF 1.5', 'title': '', 'author': 'David', 'subject': '', 'keywords': '', 'creator': 'Microsoft® Office Word 2007', 'producer': 'Microsoft® Office Word 2007', 'creationDate': \"D:20140723120649-04'00'\", 'modDate': \"D:20140723120649-04'00'\", 'trapped': ''}),\n",
       " Document(page_content='charifson 13 table 1 : sma regressions of carapace width and propus measures. a ) the relationship between carapace width and propal height. x is carapace width and y is propal height. b ) the relationship between carapace width and propal height. x is carapace width and y is propal width. sma regression a n carapace width vs propal height r2 female h. nudus 13 y = 0. 273 * x - 0. 678 0. 976 male h. nudus 13 y = 0. 311 * x - 1. 385 0. 868 female h. oregonensis 9 y = 0. 351 * x - 0. 833 0. 894 male h. oregonensis 14 y = 0. 39 * x - 1. 149 0. 693 sma regression b n carapace width vs propal width r2 female h. nudus 13 y = 0. 157 * x - 0. 386 0. 927 male h. nudus 13 y = 0. 209 * x - 1. 288 0. 859 female h. oregonensis 9 y = 0. 175 * x + 0. 037 0. 724 male h. oregonensis 14 y = 0. 244 * x - 0. 688 0. 534', metadata={'source': 'hms/fhl_2014_Charifson_34622 (1).pdf', 'file_path': 'hms/fhl_2014_Charifson_34622 (1).pdf', 'page': 12, 'total_pages': 19, 'format': 'PDF 1.5', 'title': '', 'author': 'David', 'subject': '', 'keywords': '', 'creator': 'Microsoft® Office Word 2007', 'producer': 'Microsoft® Office Word 2007', 'creationDate': \"D:20140723120649-04'00'\", 'modDate': \"D:20140723120649-04'00'\", 'trapped': ''}),\n",
       " Document(page_content='charifson 19 figure 5 : consumption rates by individual h. nudus. mean consumption rates ( n = 8 trials ) of 3 female ( fe1 to fe3 ) and 3 male ( ma1 to ma3 ) h. nudus. crabs fe1, fe3, and ma3 did not consume snails. the individuals that eat snails did not differ in their consumption rates ( f2, 21 = 2. 52, p = 0. 104 ). error bars represent standard error of the mean. 0 0. 1 0. 2 0. 3 0. 4 0. 5 0. 6 0. 7 0. 8 0. 9 1 fe1 fe2 fe3 ma1 ma2 ma3 mean consumption rate ( snails consumed / hour ) individual h. nudus', metadata={'source': 'hms/fhl_2014_Charifson_34622 (1).pdf', 'file_path': 'hms/fhl_2014_Charifson_34622 (1).pdf', 'page': 18, 'total_pages': 19, 'format': 'PDF 1.5', 'title': '', 'author': 'David', 'subject': '', 'keywords': '', 'creator': 'Microsoft® Office Word 2007', 'producer': 'Microsoft® Office Word 2007', 'creationDate': \"D:20140723120649-04'00'\", 'modDate': \"D:20140723120649-04'00'\", 'trapped': ''})]"
      ]
     },
     "execution_count": 184,
     "metadata": {},
     "output_type": "execute_result"
    }
   ],
   "source": [
    "combine_result[\"source_documents\"]"
   ]
  },
  {
   "cell_type": "code",
   "execution_count": 185,
   "id": "945a786a",
   "metadata": {},
   "outputs": [],
   "source": [
    "combine_result2 = qa_stuff_combine({\"query\": query2})"
   ]
  },
  {
   "cell_type": "code",
   "execution_count": 186,
   "id": "f5f0617e",
   "metadata": {},
   "outputs": [
    {
     "data": {
      "text/plain": [
       "'The purpose of the paper is to analyze the relationship between carapace width and propus measures in two species of crabs, specifically focusing on propal height and propal width.'"
      ]
     },
     "execution_count": 186,
     "metadata": {},
     "output_type": "execute_result"
    }
   ],
   "source": [
    "combine_result2[\"result\"]"
   ]
  },
  {
   "cell_type": "code",
   "execution_count": 187,
   "id": "51a4a842",
   "metadata": {},
   "outputs": [],
   "source": [
    "combine_result3 = qa_stuff_combine({\"query\": query3})"
   ]
  },
  {
   "cell_type": "code",
   "execution_count": 188,
   "id": "2acb1a68",
   "metadata": {},
   "outputs": [
    {
     "data": {
      "text/plain": [
       "'The author of the paper is not mentioned in the given context.'"
      ]
     },
     "execution_count": 188,
     "metadata": {},
     "output_type": "execute_result"
    }
   ],
   "source": [
    "combine_result3[\"result\"]"
   ]
  },
  {
   "cell_type": "code",
   "execution_count": 189,
   "id": "060d269a",
   "metadata": {},
   "outputs": [],
   "source": [
    "combine_result4 = qa_stuff_combine({\"query\": query4})"
   ]
  },
  {
   "cell_type": "code",
   "execution_count": 190,
   "id": "8cf5dd47",
   "metadata": {},
   "outputs": [
    {
     "data": {
      "text/plain": [
       "'The paper analyzed the relationship between carapace width and propal height and width in different species of Hemigrapsus crabs. The authors used a two-way ANOVA to compare the differences in carapace width to propal height and width. They performed SMA regressions to determine the relationship between carapace width and propal height and width in female and male H. nudus and H. oregonensis crabs. The results were presented in tables and figures, showing the line of best fit for each species and gender.'"
      ]
     },
     "execution_count": 190,
     "metadata": {},
     "output_type": "execute_result"
    }
   ],
   "source": [
    "combine_result4[\"result\"]"
   ]
  },
  {
   "cell_type": "code",
   "execution_count": 191,
   "id": "c93651fc",
   "metadata": {},
   "outputs": [],
   "source": [
    "combine_result5 = qa_stuff_combine({\"query\": query5})"
   ]
  },
  {
   "cell_type": "code",
   "execution_count": 192,
   "id": "7bb34959",
   "metadata": {},
   "outputs": [
    {
     "data": {
      "text/plain": [
       "'Based on the provided context, it is not clear whether the paper includes one or more specific observations.'"
      ]
     },
     "execution_count": 192,
     "metadata": {},
     "output_type": "execute_result"
    }
   ],
   "source": [
    "combine_result5[\"result\"]"
   ]
  },
  {
   "cell_type": "code",
   "execution_count": 193,
   "id": "185fb386",
   "metadata": {},
   "outputs": [],
   "source": [
    "combine_result6 = qa_stuff_combine({\"query\": query6})"
   ]
  },
  {
   "cell_type": "code",
   "execution_count": 194,
   "id": "2183c253",
   "metadata": {},
   "outputs": [
    {
     "data": {
      "text/plain": [
       "'Based on the given context, it appears that the research described in the paper is experimental research conducted in the natural environment with organisms collected in nature. The acknowledgements section mentions the permission to collect organisms and the use of facilities at Friday Harbor Laboratories.'"
      ]
     },
     "execution_count": 194,
     "metadata": {},
     "output_type": "execute_result"
    }
   ],
   "source": [
    "combine_result6[\"result\"]"
   ]
  },
  {
   "cell_type": "code",
   "execution_count": 195,
   "id": "ca93e1e7",
   "metadata": {},
   "outputs": [],
   "source": [
    "combine_result7 = qa_stuff_combine({\"query\": query7})"
   ]
  },
  {
   "cell_type": "code",
   "execution_count": 196,
   "id": "53b7a298",
   "metadata": {},
   "outputs": [
    {
     "data": {
      "text/plain": [
       "'The scientific names of the species mentioned in this paper are Hemigrapsus nudus and Hemigrapsus oregonensis.'"
      ]
     },
     "execution_count": 196,
     "metadata": {},
     "output_type": "execute_result"
    }
   ],
   "source": [
    "combine_result7[\"result\"]"
   ]
  },
  {
   "cell_type": "code",
   "execution_count": 197,
   "id": "265598bf",
   "metadata": {},
   "outputs": [],
   "source": [
    "combine_result8 = qa_stuff_combine({\"query\": query8})"
   ]
  },
  {
   "cell_type": "code",
   "execution_count": 198,
   "id": "b1482a5b",
   "metadata": {},
   "outputs": [
    {
     "data": {
      "text/plain": [
       "'No, the paper does not mention specific locations where the species were observed or collected.'"
      ]
     },
     "execution_count": 198,
     "metadata": {},
     "output_type": "execute_result"
    }
   ],
   "source": [
    "combine_result8[\"result\"]"
   ]
  },
  {
   "cell_type": "code",
   "execution_count": 199,
   "id": "3455f1ca",
   "metadata": {},
   "outputs": [],
   "source": [
    "combine_result9 = qa_stuff_combine({\"query\": query9})"
   ]
  },
  {
   "cell_type": "code",
   "execution_count": 200,
   "id": "dceedec0",
   "metadata": {},
   "outputs": [
    {
     "data": {
      "text/plain": [
       "'No, there are no coordinate locations given in latitude/longitude in the provided context.'"
      ]
     },
     "execution_count": 200,
     "metadata": {},
     "output_type": "execute_result"
    }
   ],
   "source": [
    "combine_result9[\"result\"]"
   ]
  },
  {
   "cell_type": "code",
   "execution_count": 201,
   "id": "83210689",
   "metadata": {},
   "outputs": [],
   "source": [
    "combine_result10 = qa_stuff_combine({\"query\": query10})"
   ]
  },
  {
   "cell_type": "code",
   "execution_count": 202,
   "id": "bb6aaeee",
   "metadata": {},
   "outputs": [
    {
     "data": {
      "text/plain": [
       "'The species were found in water and in finer sediment.'"
      ]
     },
     "execution_count": 202,
     "metadata": {},
     "output_type": "execute_result"
    }
   ],
   "source": [
    "combine_result10[\"result\"]"
   ]
  },
  {
   "cell_type": "code",
   "execution_count": 203,
   "id": "a9820e86",
   "metadata": {},
   "outputs": [],
   "source": [
    "combine_result11 = qa_stuff_combine({\"query\": query11})"
   ]
  },
  {
   "cell_type": "code",
   "execution_count": 204,
   "id": "50dd2693",
   "metadata": {},
   "outputs": [
    {
     "data": {
      "text/plain": [
       "'No, the paper does not mention a year, date, or time that species were collected or observed.'"
      ]
     },
     "execution_count": 204,
     "metadata": {},
     "output_type": "execute_result"
    }
   ],
   "source": [
    "combine_result11[\"result\"]"
   ]
  },
  {
   "cell_type": "code",
   "execution_count": 205,
   "id": "c56aa6d5",
   "metadata": {},
   "outputs": [],
   "source": [
    "combine_result12 = qa_stuff_combine({\"query\": query12})"
   ]
  },
  {
   "cell_type": "code",
   "execution_count": 206,
   "id": "f0b57085",
   "metadata": {},
   "outputs": [
    {
     "data": {
      "text/plain": [
       "'Yes, there are figures in the paper. Figure 1 shows the relationship between carapace width and propal height in different species and genders of Hemigrapsus crabs. Figure 2 shows the relationship between carapace width and propal width in the same species and genders. There are also tables mentioned in the text, such as Table 1a and Table 1b, which provide descriptive statistics for the figures.'"
      ]
     },
     "execution_count": 206,
     "metadata": {},
     "output_type": "execute_result"
    }
   ],
   "source": [
    "combine_result12[\"result\"]"
   ]
  },
  {
   "cell_type": "markdown",
   "id": "defb8752",
   "metadata": {},
   "source": [
    "# ConversationalRetrievalQA \n",
    "\n",
    "The ConversationalRetrievalQA chain builds on RetrievalQAChain to provide a chat history component.\n",
    "\n",
    "It first combines the chat history (either explicitly passed in or retrieved from the provided memory) and the question into a standalone question, then looks up relevant documents from the retriever, and finally passes those documents and the question to a question answering chain to return a response."
   ]
  },
  {
   "cell_type": "code",
   "execution_count": 207,
   "id": "10f221cc",
   "metadata": {},
   "outputs": [],
   "source": [
    "# Build prompt\n",
    "template = \"\"\"Use the following pieces of context to answer the question at the end. If you don't know the answer, just say that you don't know, don't try to make up an answer. Use three sentences maximum. Keep the answer as concise as possible. \n",
    "Avoid pulling context from the literature cited section starting on page 10\n",
    "{context}\n",
    "Question: {question}\n",
    "Helpful Answer:\"\"\"\n",
    "QA_CHAIN_PROMPT = PromptTemplate.from_template(template)\n"
   ]
  },
  {
   "cell_type": "code",
   "execution_count": 208,
   "id": "5690d936",
   "metadata": {},
   "outputs": [],
   "source": [
    "memory = ConversationBufferMemory(memory_key=\"chat_history\", input_key = \"question\", output_key = \"answer\", return_messages=True)"
   ]
  },
  {
   "cell_type": "code",
   "execution_count": 209,
   "id": "54f080bd",
   "metadata": {},
   "outputs": [],
   "source": [
    "qa_conversational = ConversationalRetrievalChain.from_llm(ChatOpenAI(temperature=0),\n",
    "                                                          vs2.as_retriever(),\n",
    "                                                          verbose = True,\n",
    "                                                          memory=memory,\n",
    "                                                          combine_docs_chain_kwargs={\"prompt\": QA_CHAIN_PROMPT})\n"
   ]
  },
  {
   "cell_type": "code",
   "execution_count": 210,
   "id": "ba0e6206",
   "metadata": {},
   "outputs": [
    {
     "name": "stdout",
     "output_type": "stream",
     "text": [
      "\n",
      "\n",
      "\u001b[1m> Entering new StuffDocumentsChain chain...\u001b[0m\n",
      "\n",
      "\n",
      "\u001b[1m> Entering new LLMChain chain...\u001b[0m\n",
      "Prompt after formatting:\n",
      "\u001b[32;1m\u001b[1;3mUse the following pieces of context to answer the question at the end. If you don't know the answer, just say that you don't know, don't try to make up an answer. Use three sentences maximum. Keep the answer as concise as possible. \n",
      "Avoid pulling context from the literature cited section starting on page 10\n",
      "##f, f. j. 2011. biometry. 4th ed. w. h. freeman, new york, new york, usa. stuart, y. e. and losos, j. b. 2013. ecological character displacement : glass half full or half empty? trends in ecology and evolution 28 : 402 - 408.\n",
      "\n",
      "and rohlf 2011 ). differences in cw : ph and cw : pw were analyzed using a two - way anova\n",
      "\n",
      "charifson 13 table 1 : sma regressions of carapace width and propus measures. a ) the relationship between carapace width and propal height. x is carapace width and y is propal height. b ) the relationship between carapace width and propal height. x is carapace width and y is propal width. sma regression a n carapace width vs propal height r2 female h. nudus 13 y = 0. 273 * x - 0. 678 0. 976 male h. nudus 13 y = 0. 311 * x - 1. 385 0. 868 female h. oregonensis 9 y = 0. 351 * x - 0. 833 0. 894 male h. oregonensis 14 y = 0. 39 * x - 1. 149 0. 693 sma regression b n carapace width vs propal width r2 female h. nudus 13 y = 0. 157 * x - 0. 386 0. 927 male h. nudus 13 y = 0. 209 * x - 1. 288 0. 859 female h. oregonensis 9 y = 0. 175 * x + 0. 037 0. 724 male h. oregonensis 14 y = 0. 244 * x - 0. 688 0. 534\n",
      "\n",
      "charifson 19 figure 5 : consumption rates by individual h. nudus. mean consumption rates ( n = 8 trials ) of 3 female ( fe1 to fe3 ) and 3 male ( ma1 to ma3 ) h. nudus. crabs fe1, fe3, and ma3 did not consume snails. the individuals that eat snails did not differ in their consumption rates ( f2, 21 = 2. 52, p = 0. 104 ). error bars represent standard error of the mean. 0 0. 1 0. 2 0. 3 0. 4 0. 5 0. 6 0. 7 0. 8 0. 9 1 fe1 fe2 fe3 ma1 ma2 ma3 mean consumption rate ( snails consumed / hour ) individual h. nudus\n",
      "Question: what is this paper about?\n",
      "Helpful Answer:\u001b[0m\n",
      "\n",
      "\u001b[1m> Finished chain.\u001b[0m\n",
      "\n",
      "\u001b[1m> Finished chain.\u001b[0m\n"
     ]
    }
   ],
   "source": [
    "conversational_result = qa_conversational({\"question\": query})"
   ]
  },
  {
   "cell_type": "code",
   "execution_count": 211,
   "id": "4393e211",
   "metadata": {},
   "outputs": [
    {
     "data": {
      "text/plain": [
       "'The paper is about the analysis of carapace width and propus measures in two species of crabs, H. nudus and H. oregonensis, and their consumption rates of snails.'"
      ]
     },
     "execution_count": 211,
     "metadata": {},
     "output_type": "execute_result"
    }
   ],
   "source": [
    "conversational_result[\"answer\"]"
   ]
  },
  {
   "cell_type": "code",
   "execution_count": 212,
   "id": "154b0790",
   "metadata": {},
   "outputs": [
    {
     "data": {
      "text/plain": [
       "[HumanMessage(content='what is this paper about?', additional_kwargs={}, example=False),\n",
       " AIMessage(content='The paper is about the analysis of carapace width and propus measures in two species of crabs, H. nudus and H. oregonensis, and their consumption rates of snails.', additional_kwargs={}, example=False)]"
      ]
     },
     "execution_count": 212,
     "metadata": {},
     "output_type": "execute_result"
    }
   ],
   "source": [
    "conversational_result[\"chat_history\"]"
   ]
  },
  {
   "cell_type": "code",
   "execution_count": 213,
   "id": "23784350",
   "metadata": {},
   "outputs": [],
   "source": [
    "query1a = \"Did the paper mention which species of crab had the highest carapace width and propus measures?\""
   ]
  },
  {
   "cell_type": "code",
   "execution_count": 214,
   "id": "2382b5d4",
   "metadata": {
    "scrolled": true
   },
   "outputs": [
    {
     "name": "stdout",
     "output_type": "stream",
     "text": [
      "\n",
      "\n",
      "\u001b[1m> Entering new LLMChain chain...\u001b[0m\n",
      "Prompt after formatting:\n",
      "\u001b[32;1m\u001b[1;3mGiven the following conversation and a follow up question, rephrase the follow up question to be a standalone question, in its original language.\n",
      "\n",
      "Chat History:\n",
      "\n",
      "Human: what is this paper about?\n",
      "Assistant: The paper is about the analysis of carapace width and propus measures in two species of crabs, H. nudus and H. oregonensis, and their consumption rates of snails.\n",
      "Follow Up Input: Did the paper mention which species of crab had the highest carapace width and propus measures?\n",
      "Standalone question:\u001b[0m\n",
      "\n",
      "\u001b[1m> Finished chain.\u001b[0m\n",
      "\n",
      "\n",
      "\u001b[1m> Entering new StuffDocumentsChain chain...\u001b[0m\n",
      "\n",
      "\n",
      "\u001b[1m> Entering new LLMChain chain...\u001b[0m\n",
      "Prompt after formatting:\n",
      "\u001b[32;1m\u001b[1;3mUse the following pieces of context to answer the question at the end. If you don't know the answer, just say that you don't know, don't try to make up an answer. Use three sentences maximum. Keep the answer as concise as possible. \n",
      "Avoid pulling context from the literature cited section starting on page 10\n",
      "charifson 18 figure 4 : differences in propal width : carapace width ratio between sex and species. the sex factor was statistically significant ( f1, 45 = 103. 8. p < 0. 001 ), while the species factor was insignificant ( f1, 45 = 0. 09, p = 0. 764 ). there was a significant interaction ( f1, 45 = 7. 19, p = 0. 01 ). error bars represent standard error of the mean. 0 0. 05 0. 1 0. 15 0. 2 0. 25 h. nudus h. oregonensis propal widtht : carapace width crab species female male\n",
      "\n",
      "charifson 17 figure 3 : differences in propal height : carapace width ratio between sex and species. the sex factor was statistically significant ( f = 125. 6. p < 0. 001 ), while the species factor was insignificant ( f > 0. 01, p = 0. 983 ). there was a significant interaction ( f = 4. 39, p = 0. 042 ). error bars represent standard error of the mean. 0 0. 05 0. 1 0. 15 0. 2 0. 25 0. 3 0. 35 h. nudus h. oregonensis propal height : carapace width crab species female male\n",
      "\n",
      "charifson 10 due to logistical issues surrounding the experimental design and little replication. future studies should include more crabs, the exclusion of non - feeding crabs, and trial periods with longer time intervals. additionally, any subsequent study should utilize multivariate and geometric morphometric methods to quantify claw shape instead of using ratios, as two similar ratios may have different shape. acknowledgements : i would like to thank dianna padilla, michael labarbera, and kevin turner for advice relating to the experimental design of this study. i would also like to thank the director and staff of friday harbor laboratories for use of facilities and permission to collect organisms. friday harbor laboratories, the libbie hyman scholarship, society for integrative and comparative biology, and the stony brook department of ecology and evolution provided financial support and have my gratitude.\n",
      "\n",
      "boulding 1998 ). a significant difference in propus size between the two species would suggest that further testing of character displacement may be warranted. a disparity in propus size to body size between male and female crabs might result in different feeding rates and shell breaking capabilities. i devised a test of preference by varying snail shell strength within the same size class. the snail species li. scutulata and lacuna vincta ( montagu 1803 ) are both in the family\n",
      "Question: Which species of crab had the highest carapace width and propus measures, according to the paper?\n",
      "Helpful Answer:\u001b[0m\n",
      "\n",
      "\u001b[1m> Finished chain.\u001b[0m\n",
      "\n",
      "\u001b[1m> Finished chain.\u001b[0m\n"
     ]
    }
   ],
   "source": [
    "conversational_result1a = qa_conversational({\"question\": query1a})"
   ]
  },
  {
   "cell_type": "code",
   "execution_count": 215,
   "id": "c2a7dd75",
   "metadata": {},
   "outputs": [
    {
     "data": {
      "text/plain": [
       "'The paper does not provide information on which species of crab had the highest carapace width and propus measures.'"
      ]
     },
     "execution_count": 215,
     "metadata": {},
     "output_type": "execute_result"
    }
   ],
   "source": [
    "conversational_result1a[\"answer\"]"
   ]
  },
  {
   "cell_type": "code",
   "execution_count": 216,
   "id": "ac20913e",
   "metadata": {},
   "outputs": [
    {
     "name": "stdout",
     "output_type": "stream",
     "text": [
      "\n",
      "\n",
      "\u001b[1m> Entering new LLMChain chain...\u001b[0m\n",
      "Prompt after formatting:\n",
      "\u001b[32;1m\u001b[1;3mGiven the following conversation and a follow up question, rephrase the follow up question to be a standalone question, in its original language.\n",
      "\n",
      "Chat History:\n",
      "\n",
      "Human: what is this paper about?\n",
      "Assistant: The paper is about the analysis of carapace width and propus measures in two species of crabs, H. nudus and H. oregonensis, and their consumption rates of snails.\n",
      "Human: Did the paper mention which species of crab had the highest carapace width and propus measures?\n",
      "Assistant: The paper does not provide information on which species of crab had the highest carapace width and propus measures.\n",
      "Follow Up Input: Write a one sentence summary of the purpose of the paper\n",
      "Standalone question:\u001b[0m\n",
      "\n",
      "\u001b[1m> Finished chain.\u001b[0m\n",
      "\n",
      "\n",
      "\u001b[1m> Entering new StuffDocumentsChain chain...\u001b[0m\n",
      "\n",
      "\n",
      "\u001b[1m> Entering new LLMChain chain...\u001b[0m\n",
      "Prompt after formatting:\n",
      "\u001b[32;1m\u001b[1;3mUse the following pieces of context to answer the question at the end. If you don't know the answer, just say that you don't know, don't try to make up an answer. Use three sentences maximum. Keep the answer as concise as possible. \n",
      "Avoid pulling context from the literature cited section starting on page 10\n",
      "and rohlf 2011 ). differences in cw : ph and cw : pw were analyzed using a two - way anova\n",
      "\n",
      "charifson 13 table 1 : sma regressions of carapace width and propus measures. a ) the relationship between carapace width and propal height. x is carapace width and y is propal height. b ) the relationship between carapace width and propal height. x is carapace width and y is propal width. sma regression a n carapace width vs propal height r2 female h. nudus 13 y = 0. 273 * x - 0. 678 0. 976 male h. nudus 13 y = 0. 311 * x - 1. 385 0. 868 female h. oregonensis 9 y = 0. 351 * x - 0. 833 0. 894 male h. oregonensis 14 y = 0. 39 * x - 1. 149 0. 693 sma regression b n carapace width vs propal width r2 female h. nudus 13 y = 0. 157 * x - 0. 386 0. 927 male h. nudus 13 y = 0. 209 * x - 1. 288 0. 859 female h. oregonensis 9 y = 0. 175 * x + 0. 037 0. 724 male h. oregonensis 14 y = 0. 244 * x - 0. 688 0. 534\n",
      "\n",
      "charifson 3 roughly equal abundances of the two crab species ( personal observation ). the size of the chela may differ, which could allow the crabs to differentiate in food resource utilization. both species are omnivores that eat algae and small invertebrates, including snails ( behrens yamada and boulding 1996 ). the two shore crab species are known to eat littorina sitkana ( philippi 1846 ) and littorina scutulata ( gould 1849 ), which also occur in the rocky intertidal zone ( behrens yamada and boulding 1996 ). li. scutulata moves upshore in response to the presence of h. nudus and crushed conspecifics, where h. nudus density is lower ( keppel and scrosati 2004 ). this suggests that h. nudus represents an ecologically significant predation threat to littorines. the thick shelled littorines are difficult prey for both h. nudus and h. oregonensis as neither crab species is a molluscivore specialists ; they typically scrape or pick algae and softer invertebrates off rocks using their chelae ( behrens yamada and boulding 1996 ). behrens yamada and boulding ( 1998 ) found that large h. nudus were capable of consuming li. sitkana that were less than 8 mm in length, but had only a 37 % success rate of consuming snails with lengths between 5. 5 - 7 mm. i sought to investigate differences in propus size between between males and females of these two crab species. the size of the propus of the chela is positively correlated with the amount of force that can be produced due to greater musculature ( behrens yamada and boulding 1998 ). a significant difference in propus size between the two species would suggest that\n",
      "\n",
      "charifson 16 figure 2 : relationship of carapace width and propal width in hemigrapsus. line of best fit from sma regression. see table 1b for descriptive statistics. a ) female h. nudus. b ) male h. nudus. c ) female h. oregonensis. d ) male h. oregonensis.\n",
      "Question: What is the purpose of the paper?\n",
      "Helpful Answer:\u001b[0m\n",
      "\n",
      "\u001b[1m> Finished chain.\u001b[0m\n",
      "\n",
      "\u001b[1m> Finished chain.\u001b[0m\n"
     ]
    }
   ],
   "source": [
    "conversational_result2 = qa_conversational({\"question\": query2})"
   ]
  },
  {
   "cell_type": "code",
   "execution_count": 217,
   "id": "163b67d1",
   "metadata": {},
   "outputs": [
    {
     "data": {
      "text/plain": [
       "'The purpose of the paper is to investigate the differences in propus size between males and females of the two crab species, H. nudus and H. oregonensis.'"
      ]
     },
     "execution_count": 217,
     "metadata": {},
     "output_type": "execute_result"
    }
   ],
   "source": [
    "conversational_result2[\"answer\"]"
   ]
  },
  {
   "cell_type": "code",
   "execution_count": 218,
   "id": "9b1622d6",
   "metadata": {},
   "outputs": [
    {
     "name": "stdout",
     "output_type": "stream",
     "text": [
      "\n",
      "\n",
      "\u001b[1m> Entering new LLMChain chain...\u001b[0m\n",
      "Prompt after formatting:\n",
      "\u001b[32;1m\u001b[1;3mGiven the following conversation and a follow up question, rephrase the follow up question to be a standalone question, in its original language.\n",
      "\n",
      "Chat History:\n",
      "\n",
      "Human: what is this paper about?\n",
      "Assistant: The paper is about the analysis of carapace width and propus measures in two species of crabs, H. nudus and H. oregonensis, and their consumption rates of snails.\n",
      "Human: Did the paper mention which species of crab had the highest carapace width and propus measures?\n",
      "Assistant: The paper does not provide information on which species of crab had the highest carapace width and propus measures.\n",
      "Human: Write a one sentence summary of the purpose of the paper\n",
      "Assistant: The purpose of the paper is to investigate the differences in propus size between males and females of the two crab species, H. nudus and H. oregonensis.\n",
      "Follow Up Input: And who wrote the paper?\n",
      "Standalone question:\u001b[0m\n",
      "\n",
      "\u001b[1m> Finished chain.\u001b[0m\n",
      "\n",
      "\n",
      "\u001b[1m> Entering new StuffDocumentsChain chain...\u001b[0m\n",
      "\n",
      "\n",
      "\u001b[1m> Entering new LLMChain chain...\u001b[0m\n",
      "Prompt after formatting:\n",
      "\u001b[32;1m\u001b[1;3mUse the following pieces of context to answer the question at the end. If you don't know the answer, just say that you don't know, don't try to make up an answer. Use three sentences maximum. Keep the answer as concise as possible. \n",
      "Avoid pulling context from the literature cited section starting on page 10\n",
      "and rohlf 2011 ). differences in cw : ph and cw : pw were analyzed using a two - way anova\n",
      "\n",
      "charifson 19 figure 5 : consumption rates by individual h. nudus. mean consumption rates ( n = 8 trials ) of 3 female ( fe1 to fe3 ) and 3 male ( ma1 to ma3 ) h. nudus. crabs fe1, fe3, and ma3 did not consume snails. the individuals that eat snails did not differ in their consumption rates ( f2, 21 = 2. 52, p = 0. 104 ). error bars represent standard error of the mean. 0 0. 1 0. 2 0. 3 0. 4 0. 5 0. 6 0. 7 0. 8 0. 9 1 fe1 fe2 fe3 ma1 ma2 ma3 mean consumption rate ( snails consumed / hour ) individual h. nudus\n",
      "\n",
      "charifson 13 table 1 : sma regressions of carapace width and propus measures. a ) the relationship between carapace width and propal height. x is carapace width and y is propal height. b ) the relationship between carapace width and propal height. x is carapace width and y is propal width. sma regression a n carapace width vs propal height r2 female h. nudus 13 y = 0. 273 * x - 0. 678 0. 976 male h. nudus 13 y = 0. 311 * x - 1. 385 0. 868 female h. oregonensis 9 y = 0. 351 * x - 0. 833 0. 894 male h. oregonensis 14 y = 0. 39 * x - 1. 149 0. 693 sma regression b n carapace width vs propal width r2 female h. nudus 13 y = 0. 157 * x - 0. 386 0. 927 male h. nudus 13 y = 0. 209 * x - 1. 288 0. 859 female h. oregonensis 9 y = 0. 175 * x + 0. 037 0. 724 male h. oregonensis 14 y = 0. 244 * x - 0. 688 0. 534\n",
      "\n",
      "##f, f. j. 2011. biometry. 4th ed. w. h. freeman, new york, new york, usa. stuart, y. e. and losos, j. b. 2013. ecological character displacement : glass half full or half empty? trends in ecology and evolution 28 : 402 - 408.\n",
      "Question: Who wrote the paper?\n",
      "Helpful Answer:\u001b[0m\n",
      "\n",
      "\u001b[1m> Finished chain.\u001b[0m\n",
      "\n",
      "\u001b[1m> Finished chain.\u001b[0m\n"
     ]
    }
   ],
   "source": [
    "conversational_result3 = qa_conversational({\"question\": query3})"
   ]
  },
  {
   "cell_type": "code",
   "execution_count": 219,
   "id": "e54df3a0",
   "metadata": {},
   "outputs": [
    {
     "data": {
      "text/plain": [
       "'The author of the paper is F. J. Stuart.'"
      ]
     },
     "execution_count": 219,
     "metadata": {},
     "output_type": "execute_result"
    }
   ],
   "source": [
    "conversational_result3[\"answer\"]"
   ]
  },
  {
   "cell_type": "code",
   "execution_count": null,
   "id": "bfcec3ae",
   "metadata": {},
   "outputs": [],
   "source": []
  },
  {
   "cell_type": "code",
   "execution_count": 222,
   "id": "57639f23",
   "metadata": {},
   "outputs": [
    {
     "name": "stdout",
     "output_type": "stream",
     "text": [
      "\n",
      "\n",
      "\u001b[1m> Entering new LLMChain chain...\u001b[0m\n",
      "Prompt after formatting:\n",
      "\u001b[32;1m\u001b[1;3mGiven the following conversation and a follow up question, rephrase the follow up question to be a standalone question, in its original language.\n",
      "\n",
      "Chat History:\n",
      "\n",
      "Human: what is this paper about?\n",
      "Assistant: The paper is about the analysis of carapace width and propus measures in two species of crabs, H. nudus and H. oregonensis, and their consumption rates of snails.\n",
      "Human: Did the paper mention which species of crab had the highest carapace width and propus measures?\n",
      "Assistant: The paper does not provide information on which species of crab had the highest carapace width and propus measures.\n",
      "Human: Write a one sentence summary of the purpose of the paper\n",
      "Assistant: The purpose of the paper is to investigate the differences in propus size between males and females of the two crab species, H. nudus and H. oregonensis.\n",
      "Human: And who wrote the paper?\n",
      "Assistant: The author of the paper is F. J. Stuart.\n",
      "Follow Up Input: Summarize the paper concisely with reference to materials and methods.\n",
      "Standalone question:\u001b[0m\n",
      "\n",
      "\u001b[1m> Finished chain.\u001b[0m\n",
      "\n",
      "\n",
      "\u001b[1m> Entering new StuffDocumentsChain chain...\u001b[0m\n",
      "\n",
      "\n",
      "\u001b[1m> Entering new LLMChain chain...\u001b[0m\n",
      "Prompt after formatting:\n",
      "\u001b[32;1m\u001b[1;3mUse the following pieces of context to answer the question at the end. If you don't know the answer, just say that you don't know, don't try to make up an answer. Use three sentences maximum. Keep the answer as concise as possible. \n",
      "Avoid pulling context from the literature cited section starting on page 10\n",
      "and rohlf 2011 ). differences in cw : ph and cw : pw were analyzed using a two - way anova\n",
      "\n",
      "charifson 13 table 1 : sma regressions of carapace width and propus measures. a ) the relationship between carapace width and propal height. x is carapace width and y is propal height. b ) the relationship between carapace width and propal height. x is carapace width and y is propal width. sma regression a n carapace width vs propal height r2 female h. nudus 13 y = 0. 273 * x - 0. 678 0. 976 male h. nudus 13 y = 0. 311 * x - 1. 385 0. 868 female h. oregonensis 9 y = 0. 351 * x - 0. 833 0. 894 male h. oregonensis 14 y = 0. 39 * x - 1. 149 0. 693 sma regression b n carapace width vs propal width r2 female h. nudus 13 y = 0. 157 * x - 0. 386 0. 927 male h. nudus 13 y = 0. 209 * x - 1. 288 0. 859 female h. oregonensis 9 y = 0. 175 * x + 0. 037 0. 724 male h. oregonensis 14 y = 0. 244 * x - 0. 688 0. 534\n",
      "\n",
      "##f, f. j. 2011. biometry. 4th ed. w. h. freeman, new york, new york, usa. stuart, y. e. and losos, j. b. 2013. ecological character displacement : glass half full or half empty? trends in ecology and evolution 28 : 402 - 408.\n",
      "\n",
      "charifson 16 figure 2 : relationship of carapace width and propal width in hemigrapsus. line of best fit from sma regression. see table 1b for descriptive statistics. a ) female h. nudus. b ) male h. nudus. c ) female h. oregonensis. d ) male h. oregonensis.\n",
      "Question: Can you summarize the paper concisely with reference to materials and methods?\n",
      "Helpful Answer:\u001b[0m\n",
      "\n",
      "\u001b[1m> Finished chain.\u001b[0m\n",
      "\n",
      "\u001b[1m> Finished chain.\u001b[0m\n"
     ]
    }
   ],
   "source": [
    "conversational_result4 = qa_conversational({\"question\": query4})"
   ]
  },
  {
   "cell_type": "code",
   "execution_count": 223,
   "id": "09de9aca",
   "metadata": {},
   "outputs": [
    {
     "data": {
      "text/plain": [
       "'The paper analyzed the differences in carapace width and propus measures using a two-way ANOVA. The relationships between carapace width and propal height/width were examined using SMA regression. The paper also included descriptive statistics and a line of best fit for each species.'"
      ]
     },
     "execution_count": 223,
     "metadata": {},
     "output_type": "execute_result"
    }
   ],
   "source": [
    "conversational_result4[\"answer\"]"
   ]
  },
  {
   "cell_type": "code",
   "execution_count": 224,
   "id": "3830e11c",
   "metadata": {},
   "outputs": [
    {
     "name": "stdout",
     "output_type": "stream",
     "text": [
      "\n",
      "\n",
      "\u001b[1m> Entering new LLMChain chain...\u001b[0m\n",
      "Prompt after formatting:\n",
      "\u001b[32;1m\u001b[1;3mGiven the following conversation and a follow up question, rephrase the follow up question to be a standalone question, in its original language.\n",
      "\n",
      "Chat History:\n",
      "\n",
      "Human: what is this paper about?\n",
      "Assistant: The paper is about the analysis of carapace width and propus measures in two species of crabs, H. nudus and H. oregonensis, and their consumption rates of snails.\n",
      "Human: Did the paper mention which species of crab had the highest carapace width and propus measures?\n",
      "Assistant: The paper does not provide information on which species of crab had the highest carapace width and propus measures.\n",
      "Human: Write a one sentence summary of the purpose of the paper\n",
      "Assistant: The purpose of the paper is to investigate the differences in propus size between males and females of the two crab species, H. nudus and H. oregonensis.\n",
      "Human: And who wrote the paper?\n",
      "Assistant: The author of the paper is F. J. Stuart.\n",
      "Human: Summarize the paper concisely with reference to materials and methods.\n",
      "Assistant: The paper analyzed the differences in carapace width and propus measures using a two-way ANOVA. The relationships between carapace width and propal height/width were examined using SMA regression. The paper also included descriptive statistics and a line of best fit for each species.\n",
      "Follow Up Input: Terms that may be used to identify an observation include “in the field”, “this study”, “observed”, “taken”, “collected”, “sampled”, “collection”, “seen”, “harvested”, “found”, etc. Does the paper include one or more observations?\n",
      "Standalone question:\u001b[0m\n",
      "\n",
      "\u001b[1m> Finished chain.\u001b[0m\n",
      "\n",
      "\n",
      "\u001b[1m> Entering new StuffDocumentsChain chain...\u001b[0m\n",
      "\n",
      "\n",
      "\u001b[1m> Entering new LLMChain chain...\u001b[0m\n",
      "Prompt after formatting:\n",
      "\u001b[32;1m\u001b[1;3mUse the following pieces of context to answer the question at the end. If you don't know the answer, just say that you don't know, don't try to make up an answer. Use three sentences maximum. Keep the answer as concise as possible. \n",
      "Avoid pulling context from the literature cited section starting on page 10\n",
      "and rohlf 2011 ). differences in cw : ph and cw : pw were analyzed using a two - way anova\n",
      "\n",
      "charifson 13 table 1 : sma regressions of carapace width and propus measures. a ) the relationship between carapace width and propal height. x is carapace width and y is propal height. b ) the relationship between carapace width and propal height. x is carapace width and y is propal width. sma regression a n carapace width vs propal height r2 female h. nudus 13 y = 0. 273 * x - 0. 678 0. 976 male h. nudus 13 y = 0. 311 * x - 1. 385 0. 868 female h. oregonensis 9 y = 0. 351 * x - 0. 833 0. 894 male h. oregonensis 14 y = 0. 39 * x - 1. 149 0. 693 sma regression b n carapace width vs propal width r2 female h. nudus 13 y = 0. 157 * x - 0. 386 0. 927 male h. nudus 13 y = 0. 209 * x - 1. 288 0. 859 female h. oregonensis 9 y = 0. 175 * x + 0. 037 0. 724 male h. oregonensis 14 y = 0. 244 * x - 0. 688 0. 534\n",
      "\n",
      "charifson 17 figure 3 : differences in propal height : carapace width ratio between sex and species. the sex factor was statistically significant ( f = 125. 6. p < 0. 001 ), while the species factor was insignificant ( f > 0. 01, p = 0. 983 ). there was a significant interaction ( f = 4. 39, p = 0. 042 ). error bars represent standard error of the mean. 0 0. 05 0. 1 0. 15 0. 2 0. 25 0. 3 0. 35 h. nudus h. oregonensis propal height : carapace width crab species female male\n",
      "\n",
      "charifson 18 figure 4 : differences in propal width : carapace width ratio between sex and species. the sex factor was statistically significant ( f1, 45 = 103. 8. p < 0. 001 ), while the species factor was insignificant ( f1, 45 = 0. 09, p = 0. 764 ). there was a significant interaction ( f1, 45 = 7. 19, p = 0. 01 ). error bars represent standard error of the mean. 0 0. 05 0. 1 0. 15 0. 2 0. 25 h. nudus h. oregonensis propal widtht : carapace width crab species female male\n",
      "Question: Does the paper include any observations?\n",
      "Helpful Answer:\u001b[0m\n",
      "\n",
      "\u001b[1m> Finished chain.\u001b[0m\n",
      "\n",
      "\u001b[1m> Finished chain.\u001b[0m\n"
     ]
    }
   ],
   "source": [
    "conversational_result5 = qa_conversational({\"question\": query5})"
   ]
  },
  {
   "cell_type": "code",
   "execution_count": 225,
   "id": "ae79e473",
   "metadata": {},
   "outputs": [
    {
     "data": {
      "text/plain": [
       "'No, the paper does not include any observations.'"
      ]
     },
     "execution_count": 225,
     "metadata": {},
     "output_type": "execute_result"
    }
   ],
   "source": [
    "conversational_result5[\"answer\"]"
   ]
  },
  {
   "cell_type": "code",
   "execution_count": 226,
   "id": "e839774c",
   "metadata": {},
   "outputs": [
    {
     "name": "stdout",
     "output_type": "stream",
     "text": [
      "\n",
      "\n",
      "\u001b[1m> Entering new LLMChain chain...\u001b[0m\n",
      "Prompt after formatting:\n",
      "\u001b[32;1m\u001b[1;3mGiven the following conversation and a follow up question, rephrase the follow up question to be a standalone question, in its original language.\n",
      "\n",
      "Chat History:\n",
      "\n",
      "Human: what is this paper about?\n",
      "Assistant: The paper is about the analysis of carapace width and propus measures in two species of crabs, H. nudus and H. oregonensis, and their consumption rates of snails.\n",
      "Human: Did the paper mention which species of crab had the highest carapace width and propus measures?\n",
      "Assistant: The paper does not provide information on which species of crab had the highest carapace width and propus measures.\n",
      "Human: Write a one sentence summary of the purpose of the paper\n",
      "Assistant: The purpose of the paper is to investigate the differences in propus size between males and females of the two crab species, H. nudus and H. oregonensis.\n",
      "Human: And who wrote the paper?\n",
      "Assistant: The author of the paper is F. J. Stuart.\n",
      "Human: Summarize the paper concisely with reference to materials and methods.\n",
      "Assistant: The paper analyzed the differences in carapace width and propus measures using a two-way ANOVA. The relationships between carapace width and propal height/width were examined using SMA regression. The paper also included descriptive statistics and a line of best fit for each species.\n",
      "Human: Terms that may be used to identify an observation include “in the field”, “this study”, “observed”, “taken”, “collected”, “sampled”, “collection”, “seen”, “harvested”, “found”, etc. Does the paper include one or more observations?\n",
      "Assistant: No, the paper does not include any observations.\n",
      "Follow Up Input: Does this paper contain observational or experimental research conducted in the natural environment or with organisms collected in nature?\n",
      "Standalone question:\u001b[0m\n",
      "\n",
      "\u001b[1m> Finished chain.\u001b[0m\n",
      "\n",
      "\n",
      "\u001b[1m> Entering new StuffDocumentsChain chain...\u001b[0m\n",
      "\n",
      "\n",
      "\u001b[1m> Entering new LLMChain chain...\u001b[0m\n",
      "Prompt after formatting:\n",
      "\u001b[32;1m\u001b[1;3mUse the following pieces of context to answer the question at the end. If you don't know the answer, just say that you don't know, don't try to make up an answer. Use three sentences maximum. Keep the answer as concise as possible. \n",
      "Avoid pulling context from the literature cited section starting on page 10\n",
      "charifson 19 figure 5 : consumption rates by individual h. nudus. mean consumption rates ( n = 8 trials ) of 3 female ( fe1 to fe3 ) and 3 male ( ma1 to ma3 ) h. nudus. crabs fe1, fe3, and ma3 did not consume snails. the individuals that eat snails did not differ in their consumption rates ( f2, 21 = 2. 52, p = 0. 104 ). error bars represent standard error of the mean. 0 0. 1 0. 2 0. 3 0. 4 0. 5 0. 6 0. 7 0. 8 0. 9 1 fe1 fe2 fe3 ma1 ma2 ma3 mean consumption rate ( snails consumed / hour ) individual h. nudus\n",
      "\n",
      "##f, f. j. 2011. biometry. 4th ed. w. h. freeman, new york, new york, usa. stuart, y. e. and losos, j. b. 2013. ecological character displacement : glass half full or half empty? trends in ecology and evolution 28 : 402 - 408.\n",
      "\n",
      "waterand in finer sediment than the more desiccation - tolerant h. nudus ( sliger 1982 ). there is still considerable habitat overlap between these two species ; the underside of a single rock may have\n",
      "\n",
      "charifson 10 due to logistical issues surrounding the experimental design and little replication. future studies should include more crabs, the exclusion of non - feeding crabs, and trial periods with longer time intervals. additionally, any subsequent study should utilize multivariate and geometric morphometric methods to quantify claw shape instead of using ratios, as two similar ratios may have different shape. acknowledgements : i would like to thank dianna padilla, michael labarbera, and kevin turner for advice relating to the experimental design of this study. i would also like to thank the director and staff of friday harbor laboratories for use of facilities and permission to collect organisms. friday harbor laboratories, the libbie hyman scholarship, society for integrative and comparative biology, and the stony brook department of ecology and evolution provided financial support and have my gratitude.\n",
      "Question: Does this paper contain observational or experimental research conducted in the natural environment or with organisms collected in nature?\n",
      "Helpful Answer:\u001b[0m\n",
      "\n",
      "\u001b[1m> Finished chain.\u001b[0m\n",
      "\n",
      "\u001b[1m> Finished chain.\u001b[0m\n"
     ]
    }
   ],
   "source": [
    "conversational_result6 = qa_conversational({\"question\": query6})"
   ]
  },
  {
   "cell_type": "code",
   "execution_count": 227,
   "id": "dd62a7ab",
   "metadata": {},
   "outputs": [
    {
     "data": {
      "text/plain": [
       "'This paper contains experimental research conducted in the natural environment with organisms collected in nature.'"
      ]
     },
     "execution_count": 227,
     "metadata": {},
     "output_type": "execute_result"
    }
   ],
   "source": [
    "conversational_result6[\"answer\"]"
   ]
  },
  {
   "cell_type": "code",
   "execution_count": 228,
   "id": "36e63bf7",
   "metadata": {},
   "outputs": [
    {
     "name": "stdout",
     "output_type": "stream",
     "text": [
      "\n",
      "\n",
      "\u001b[1m> Entering new LLMChain chain...\u001b[0m\n",
      "Prompt after formatting:\n",
      "\u001b[32;1m\u001b[1;3mGiven the following conversation and a follow up question, rephrase the follow up question to be a standalone question, in its original language.\n",
      "\n",
      "Chat History:\n",
      "\n",
      "Human: what is this paper about?\n",
      "Assistant: The paper is about the analysis of carapace width and propus measures in two species of crabs, H. nudus and H. oregonensis, and their consumption rates of snails.\n",
      "Human: Did the paper mention which species of crab had the highest carapace width and propus measures?\n",
      "Assistant: The paper does not provide information on which species of crab had the highest carapace width and propus measures.\n",
      "Human: Write a one sentence summary of the purpose of the paper\n",
      "Assistant: The purpose of the paper is to investigate the differences in propus size between males and females of the two crab species, H. nudus and H. oregonensis.\n",
      "Human: And who wrote the paper?\n",
      "Assistant: The author of the paper is F. J. Stuart.\n",
      "Human: Summarize the paper concisely with reference to materials and methods.\n",
      "Assistant: The paper analyzed the differences in carapace width and propus measures using a two-way ANOVA. The relationships between carapace width and propal height/width were examined using SMA regression. The paper also included descriptive statistics and a line of best fit for each species.\n",
      "Human: Terms that may be used to identify an observation include “in the field”, “this study”, “observed”, “taken”, “collected”, “sampled”, “collection”, “seen”, “harvested”, “found”, etc. Does the paper include one or more observations?\n",
      "Assistant: No, the paper does not include any observations.\n",
      "Human: Does this paper contain observational or experimental research conducted in the natural environment or with organisms collected in nature?\n",
      "Assistant: This paper contains experimental research conducted in the natural environment with organisms collected in nature.\n",
      "Follow Up Input: What are the scientific names of the species mentioned in this paper?\n",
      "Standalone question:\u001b[0m\n",
      "\n",
      "\u001b[1m> Finished chain.\u001b[0m\n",
      "\n",
      "\n",
      "\u001b[1m> Entering new StuffDocumentsChain chain...\u001b[0m\n",
      "\n",
      "\n",
      "\u001b[1m> Entering new LLMChain chain...\u001b[0m\n",
      "Prompt after formatting:\n",
      "\u001b[32;1m\u001b[1;3mUse the following pieces of context to answer the question at the end. If you don't know the answer, just say that you don't know, don't try to make up an answer. Use three sentences maximum. Keep the answer as concise as possible. \n",
      "Avoid pulling context from the literature cited section starting on page 10\n",
      "waterand in finer sediment than the more desiccation - tolerant h. nudus ( sliger 1982 ). there is still considerable habitat overlap between these two species ; the underside of a single rock may have\n",
      "\n",
      "charifson 15 figure 1 : relationship of carapace width and propal height in hemigrapsus. line of best fit from sma regression. see table 1a for descriptive statistics. a ) female h. nudus. b ) male h. nudus. c ) female h. oregonensis. d ) male h. oregonensis.\n",
      "\n",
      "##f, f. j. 2011. biometry. 4th ed. w. h. freeman, new york, new york, usa. stuart, y. e. and losos, j. b. 2013. ecological character displacement : glass half full or half empty? trends in ecology and evolution 28 : 402 - 408.\n",
      "\n",
      "charifson 17 figure 3 : differences in propal height : carapace width ratio between sex and species. the sex factor was statistically significant ( f = 125. 6. p < 0. 001 ), while the species factor was insignificant ( f > 0. 01, p = 0. 983 ). there was a significant interaction ( f = 4. 39, p = 0. 042 ). error bars represent standard error of the mean. 0 0. 05 0. 1 0. 15 0. 2 0. 25 0. 3 0. 35 h. nudus h. oregonensis propal height : carapace width crab species female male\n",
      "Question: What are the scientific names of the species mentioned in this paper?\n",
      "Helpful Answer:\u001b[0m\n",
      "\n",
      "\u001b[1m> Finished chain.\u001b[0m\n",
      "\n",
      "\u001b[1m> Finished chain.\u001b[0m\n"
     ]
    }
   ],
   "source": [
    "conversational_result7 = qa_conversational({\"question\": query7})"
   ]
  },
  {
   "cell_type": "code",
   "execution_count": 229,
   "id": "0b8af442",
   "metadata": {},
   "outputs": [
    {
     "data": {
      "text/plain": [
       "'The scientific names of the species mentioned in this paper are Hemigrapsus nudus and Hemigrapsus oregonensis.'"
      ]
     },
     "execution_count": 229,
     "metadata": {},
     "output_type": "execute_result"
    }
   ],
   "source": [
    "conversational_result7[\"answer\"]"
   ]
  },
  {
   "cell_type": "code",
   "execution_count": 230,
   "id": "3ce9292f",
   "metadata": {},
   "outputs": [
    {
     "name": "stdout",
     "output_type": "stream",
     "text": [
      "\n",
      "\n",
      "\u001b[1m> Entering new LLMChain chain...\u001b[0m\n",
      "Prompt after formatting:\n",
      "\u001b[32;1m\u001b[1;3mGiven the following conversation and a follow up question, rephrase the follow up question to be a standalone question, in its original language.\n",
      "\n",
      "Chat History:\n",
      "\n",
      "Human: what is this paper about?\n",
      "Assistant: The paper is about the analysis of carapace width and propus measures in two species of crabs, H. nudus and H. oregonensis, and their consumption rates of snails.\n",
      "Human: Did the paper mention which species of crab had the highest carapace width and propus measures?\n",
      "Assistant: The paper does not provide information on which species of crab had the highest carapace width and propus measures.\n",
      "Human: Write a one sentence summary of the purpose of the paper\n",
      "Assistant: The purpose of the paper is to investigate the differences in propus size between males and females of the two crab species, H. nudus and H. oregonensis.\n",
      "Human: And who wrote the paper?\n",
      "Assistant: The author of the paper is F. J. Stuart.\n",
      "Human: Summarize the paper concisely with reference to materials and methods.\n",
      "Assistant: The paper analyzed the differences in carapace width and propus measures using a two-way ANOVA. The relationships between carapace width and propal height/width were examined using SMA regression. The paper also included descriptive statistics and a line of best fit for each species.\n",
      "Human: Terms that may be used to identify an observation include “in the field”, “this study”, “observed”, “taken”, “collected”, “sampled”, “collection”, “seen”, “harvested”, “found”, etc. Does the paper include one or more observations?\n",
      "Assistant: No, the paper does not include any observations.\n",
      "Human: Does this paper contain observational or experimental research conducted in the natural environment or with organisms collected in nature?\n",
      "Assistant: This paper contains experimental research conducted in the natural environment with organisms collected in nature.\n",
      "Human: What are the scientific names of the species mentioned in this paper?\n",
      "Assistant: The scientific names of the species mentioned in this paper are Hemigrapsus nudus and Hemigrapsus oregonensis.\n",
      "Follow Up Input: Does the paper mention where the species were observed or collected, and if so, what locations are given?\n",
      "Standalone question:\u001b[0m\n",
      "\n",
      "\u001b[1m> Finished chain.\u001b[0m\n",
      "\n",
      "\n",
      "\u001b[1m> Entering new StuffDocumentsChain chain...\u001b[0m\n",
      "\n",
      "\n",
      "\u001b[1m> Entering new LLMChain chain...\u001b[0m\n",
      "Prompt after formatting:\n",
      "\u001b[32;1m\u001b[1;3mUse the following pieces of context to answer the question at the end. If you don't know the answer, just say that you don't know, don't try to make up an answer. Use three sentences maximum. Keep the answer as concise as possible. \n",
      "Avoid pulling context from the literature cited section starting on page 10\n",
      "waterand in finer sediment than the more desiccation - tolerant h. nudus ( sliger 1982 ). there is still considerable habitat overlap between these two species ; the underside of a single rock may have\n",
      "\n",
      "##f, f. j. 2011. biometry. 4th ed. w. h. freeman, new york, new york, usa. stuart, y. e. and losos, j. b. 2013. ecological character displacement : glass half full or half empty? trends in ecology and evolution 28 : 402 - 408.\n",
      "\n",
      "vincta in the field. it should be noted that h. nudus and la. vincta usually occupy different portions of the intertidal and may have little contact with each other, unlike the relationship between h. nudus and li. scutulata. there is some potential for overlap in the winter when la. vincta migrates up shore. although no differences in consumption rates between male and female h. nudus were found, this might be\n",
      "\n",
      "charifson 15 figure 1 : relationship of carapace width and propal height in hemigrapsus. line of best fit from sma regression. see table 1a for descriptive statistics. a ) female h. nudus. b ) male h. nudus. c ) female h. oregonensis. d ) male h. oregonensis.\n",
      "Question: Where does the paper mention where the species were observed or collected, and if so, what locations are given?\n",
      "Helpful Answer:\u001b[0m\n",
      "\n",
      "\u001b[1m> Finished chain.\u001b[0m\n",
      "\n",
      "\u001b[1m> Finished chain.\u001b[0m\n"
     ]
    }
   ],
   "source": [
    "conversational_result8 = qa_conversational({\"question\": query8})"
   ]
  },
  {
   "cell_type": "code",
   "execution_count": 231,
   "id": "0a088728",
   "metadata": {},
   "outputs": [
    {
     "data": {
      "text/plain": [
       "'The paper does not mention where the species were observed or collected.'"
      ]
     },
     "execution_count": 231,
     "metadata": {},
     "output_type": "execute_result"
    }
   ],
   "source": [
    "conversational_result8[\"answer\"]"
   ]
  },
  {
   "cell_type": "code",
   "execution_count": 232,
   "id": "ea83a3c6",
   "metadata": {},
   "outputs": [
    {
     "name": "stdout",
     "output_type": "stream",
     "text": [
      "\n",
      "\n",
      "\u001b[1m> Entering new LLMChain chain...\u001b[0m\n",
      "Prompt after formatting:\n",
      "\u001b[32;1m\u001b[1;3mGiven the following conversation and a follow up question, rephrase the follow up question to be a standalone question, in its original language.\n",
      "\n",
      "Chat History:\n",
      "\n",
      "Human: what is this paper about?\n",
      "Assistant: The paper is about the analysis of carapace width and propus measures in two species of crabs, H. nudus and H. oregonensis, and their consumption rates of snails.\n",
      "Human: Did the paper mention which species of crab had the highest carapace width and propus measures?\n",
      "Assistant: The paper does not provide information on which species of crab had the highest carapace width and propus measures.\n",
      "Human: Write a one sentence summary of the purpose of the paper\n",
      "Assistant: The purpose of the paper is to investigate the differences in propus size between males and females of the two crab species, H. nudus and H. oregonensis.\n",
      "Human: And who wrote the paper?\n",
      "Assistant: The author of the paper is F. J. Stuart.\n",
      "Human: Summarize the paper concisely with reference to materials and methods.\n",
      "Assistant: The paper analyzed the differences in carapace width and propus measures using a two-way ANOVA. The relationships between carapace width and propal height/width were examined using SMA regression. The paper also included descriptive statistics and a line of best fit for each species.\n",
      "Human: Terms that may be used to identify an observation include “in the field”, “this study”, “observed”, “taken”, “collected”, “sampled”, “collection”, “seen”, “harvested”, “found”, etc. Does the paper include one or more observations?\n",
      "Assistant: No, the paper does not include any observations.\n",
      "Human: Does this paper contain observational or experimental research conducted in the natural environment or with organisms collected in nature?\n",
      "Assistant: This paper contains experimental research conducted in the natural environment with organisms collected in nature.\n",
      "Human: What are the scientific names of the species mentioned in this paper?\n",
      "Assistant: The scientific names of the species mentioned in this paper are Hemigrapsus nudus and Hemigrapsus oregonensis.\n",
      "Human: Does the paper mention where the species were observed or collected, and if so, what locations are given?\n",
      "Assistant: The paper does not mention where the species were observed or collected.\n",
      "Follow Up Input: Are any coordinate locations given in latitude / longitude, and if so, what are they?\n",
      "Standalone question:\u001b[0m\n",
      "\n",
      "\u001b[1m> Finished chain.\u001b[0m\n",
      "\n",
      "\n",
      "\u001b[1m> Entering new StuffDocumentsChain chain...\u001b[0m\n",
      "\n",
      "\n",
      "\u001b[1m> Entering new LLMChain chain...\u001b[0m\n",
      "Prompt after formatting:\n",
      "\u001b[32;1m\u001b[1;3mUse the following pieces of context to answer the question at the end. If you don't know the answer, just say that you don't know, don't try to make up an answer. Use three sentences maximum. Keep the answer as concise as possible. \n",
      "Avoid pulling context from the literature cited section starting on page 10\n",
      "to right sides of the propus. all claw measurements were made on the left cheliped.\n",
      "\n",
      "charifson 16 figure 2 : relationship of carapace width and propal width in hemigrapsus. line of best fit from sma regression. see table 1b for descriptive statistics. a ) female h. nudus. b ) male h. nudus. c ) female h. oregonensis. d ) male h. oregonensis.\n",
      "\n",
      "and rohlf 2011 ). differences in cw : ph and cw : pw were analyzed using a two - way anova\n",
      "\n",
      "##f, f. j. 2011. biometry. 4th ed. w. h. freeman, new york, new york, usa. stuart, y. e. and losos, j. b. 2013. ecological character displacement : glass half full or half empty? trends in ecology and evolution 28 : 402 - 408.\n",
      "Question: Does the paper provide any coordinate locations in latitude/longitude? If so, what are they?\n",
      "Helpful Answer:\u001b[0m\n",
      "\n",
      "\u001b[1m> Finished chain.\u001b[0m\n",
      "\n",
      "\u001b[1m> Finished chain.\u001b[0m\n"
     ]
    }
   ],
   "source": [
    "conversational_result9 = qa_conversational({\"question\": query9})"
   ]
  },
  {
   "cell_type": "code",
   "execution_count": 233,
   "id": "1f98ae35",
   "metadata": {},
   "outputs": [
    {
     "data": {
      "text/plain": [
       "'The paper does not provide any coordinate locations in latitude/longitude.'"
      ]
     },
     "execution_count": 233,
     "metadata": {},
     "output_type": "execute_result"
    }
   ],
   "source": [
    "conversational_result9[\"answer\"]"
   ]
  },
  {
   "cell_type": "code",
   "execution_count": 234,
   "id": "e6c15058",
   "metadata": {},
   "outputs": [
    {
     "name": "stdout",
     "output_type": "stream",
     "text": [
      "\n",
      "\n",
      "\u001b[1m> Entering new LLMChain chain...\u001b[0m\n",
      "Prompt after formatting:\n",
      "\u001b[32;1m\u001b[1;3mGiven the following conversation and a follow up question, rephrase the follow up question to be a standalone question, in its original language.\n",
      "\n",
      "Chat History:\n",
      "\n",
      "Human: what is this paper about?\n",
      "Assistant: The paper is about the analysis of carapace width and propus measures in two species of crabs, H. nudus and H. oregonensis, and their consumption rates of snails.\n",
      "Human: Did the paper mention which species of crab had the highest carapace width and propus measures?\n",
      "Assistant: The paper does not provide information on which species of crab had the highest carapace width and propus measures.\n",
      "Human: Write a one sentence summary of the purpose of the paper\n",
      "Assistant: The purpose of the paper is to investigate the differences in propus size between males and females of the two crab species, H. nudus and H. oregonensis.\n",
      "Human: And who wrote the paper?\n",
      "Assistant: The author of the paper is F. J. Stuart.\n",
      "Human: Summarize the paper concisely with reference to materials and methods.\n",
      "Assistant: The paper analyzed the differences in carapace width and propus measures using a two-way ANOVA. The relationships between carapace width and propal height/width were examined using SMA regression. The paper also included descriptive statistics and a line of best fit for each species.\n",
      "Human: Terms that may be used to identify an observation include “in the field”, “this study”, “observed”, “taken”, “collected”, “sampled”, “collection”, “seen”, “harvested”, “found”, etc. Does the paper include one or more observations?\n",
      "Assistant: No, the paper does not include any observations.\n",
      "Human: Does this paper contain observational or experimental research conducted in the natural environment or with organisms collected in nature?\n",
      "Assistant: This paper contains experimental research conducted in the natural environment with organisms collected in nature.\n",
      "Human: What are the scientific names of the species mentioned in this paper?\n",
      "Assistant: The scientific names of the species mentioned in this paper are Hemigrapsus nudus and Hemigrapsus oregonensis.\n",
      "Human: Does the paper mention where the species were observed or collected, and if so, what locations are given?\n",
      "Assistant: The paper does not mention where the species were observed or collected.\n",
      "Human: Are any coordinate locations given in latitude / longitude, and if so, what are they?\n",
      "Assistant: The paper does not provide any coordinate locations in latitude/longitude.\n",
      "Follow Up Input: In what habitat were the species found?\n",
      "Standalone question:\u001b[0m\n",
      "\n",
      "\u001b[1m> Finished chain.\u001b[0m\n",
      "\n",
      "\n",
      "\u001b[1m> Entering new StuffDocumentsChain chain...\u001b[0m\n",
      "\n",
      "\n",
      "\u001b[1m> Entering new LLMChain chain...\u001b[0m\n",
      "Prompt after formatting:\n",
      "\u001b[32;1m\u001b[1;3mUse the following pieces of context to answer the question at the end. If you don't know the answer, just say that you don't know, don't try to make up an answer. Use three sentences maximum. Keep the answer as concise as possible. \n",
      "Avoid pulling context from the literature cited section starting on page 10\n",
      "waterand in finer sediment than the more desiccation - tolerant h. nudus ( sliger 1982 ). there is still considerable habitat overlap between these two species ; the underside of a single rock may have\n",
      "\n",
      "##f, f. j. 2011. biometry. 4th ed. w. h. freeman, new york, new york, usa. stuart, y. e. and losos, j. b. 2013. ecological character displacement : glass half full or half empty? trends in ecology and evolution 28 : 402 - 408.\n",
      "\n",
      "vincta in the field. it should be noted that h. nudus and la. vincta usually occupy different portions of the intertidal and may have little contact with each other, unlike the relationship between h. nudus and li. scutulata. there is some potential for overlap in the winter when la. vincta migrates up shore. although no differences in consumption rates between male and female h. nudus were found, this might be\n",
      "\n",
      "charifson 1 snail predation by hemigrapsus nudus and hemigrapsus oregonensis : sex and species differences in chela size. david charifson1, 2 marine invertebrate zoology summer 2014 1 friday harbor laboratories, university of washington, friday harbor, wa 98250 2 department of ecology and evolution, stony brook university, stony brook, ny 11794 - 5245 contact information : david charifson department of ecology and evolution stony brook university 650 life sciences building stony brook, ny 11794 - 5245 david. charifson @ stonybrook. edu keywords : hemigrapsus nudus, hemigrapsus orogenensis, littorina scutulata, lacuna vincta, predation, sexual dimorphism, character displacement\n",
      "Question: In what habitat were the species mentioned in the paper found?\n",
      "Helpful Answer:\u001b[0m\n",
      "\n",
      "\u001b[1m> Finished chain.\u001b[0m\n",
      "\n",
      "\u001b[1m> Finished chain.\u001b[0m\n"
     ]
    }
   ],
   "source": [
    "conversational_result10 = qa_conversational({\"question\": query10})"
   ]
  },
  {
   "cell_type": "code",
   "execution_count": 235,
   "id": "2c5b81fb",
   "metadata": {},
   "outputs": [
    {
     "data": {
      "text/plain": [
       "'The species mentioned in the paper were found in the intertidal habitat.'"
      ]
     },
     "execution_count": 235,
     "metadata": {},
     "output_type": "execute_result"
    }
   ],
   "source": [
    "conversational_result10[\"answer\"]"
   ]
  },
  {
   "cell_type": "code",
   "execution_count": 236,
   "id": "71d2ac19",
   "metadata": {},
   "outputs": [
    {
     "name": "stdout",
     "output_type": "stream",
     "text": [
      "\n",
      "\n",
      "\u001b[1m> Entering new LLMChain chain...\u001b[0m\n",
      "Prompt after formatting:\n",
      "\u001b[32;1m\u001b[1;3mGiven the following conversation and a follow up question, rephrase the follow up question to be a standalone question, in its original language.\n",
      "\n",
      "Chat History:\n",
      "\n",
      "Human: what is this paper about?\n",
      "Assistant: The paper is about the analysis of carapace width and propus measures in two species of crabs, H. nudus and H. oregonensis, and their consumption rates of snails.\n",
      "Human: Did the paper mention which species of crab had the highest carapace width and propus measures?\n",
      "Assistant: The paper does not provide information on which species of crab had the highest carapace width and propus measures.\n",
      "Human: Write a one sentence summary of the purpose of the paper\n",
      "Assistant: The purpose of the paper is to investigate the differences in propus size between males and females of the two crab species, H. nudus and H. oregonensis.\n",
      "Human: And who wrote the paper?\n",
      "Assistant: The author of the paper is F. J. Stuart.\n",
      "Human: Summarize the paper concisely with reference to materials and methods.\n",
      "Assistant: The paper analyzed the differences in carapace width and propus measures using a two-way ANOVA. The relationships between carapace width and propal height/width were examined using SMA regression. The paper also included descriptive statistics and a line of best fit for each species.\n",
      "Human: Terms that may be used to identify an observation include “in the field”, “this study”, “observed”, “taken”, “collected”, “sampled”, “collection”, “seen”, “harvested”, “found”, etc. Does the paper include one or more observations?\n",
      "Assistant: No, the paper does not include any observations.\n",
      "Human: Does this paper contain observational or experimental research conducted in the natural environment or with organisms collected in nature?\n",
      "Assistant: This paper contains experimental research conducted in the natural environment with organisms collected in nature.\n",
      "Human: What are the scientific names of the species mentioned in this paper?\n",
      "Assistant: The scientific names of the species mentioned in this paper are Hemigrapsus nudus and Hemigrapsus oregonensis.\n",
      "Human: Does the paper mention where the species were observed or collected, and if so, what locations are given?\n",
      "Assistant: The paper does not mention where the species were observed or collected.\n",
      "Human: Are any coordinate locations given in latitude / longitude, and if so, what are they?\n",
      "Assistant: The paper does not provide any coordinate locations in latitude/longitude.\n",
      "Human: In what habitat were the species found?\n",
      "Assistant: The species mentioned in the paper were found in the intertidal habitat.\n",
      "Follow Up Input: Does the paper mention a year, date and/or time that species were collected or observed, and if so, what was mentioned?\n",
      "Standalone question:\u001b[0m\n",
      "\n",
      "\u001b[1m> Finished chain.\u001b[0m\n",
      "\n",
      "\n",
      "\u001b[1m> Entering new StuffDocumentsChain chain...\u001b[0m\n",
      "\n",
      "\n",
      "\u001b[1m> Entering new LLMChain chain...\u001b[0m\n",
      "Prompt after formatting:\n",
      "\u001b[32;1m\u001b[1;3mUse the following pieces of context to answer the question at the end. If you don't know the answer, just say that you don't know, don't try to make up an answer. Use three sentences maximum. Keep the answer as concise as possible. \n",
      "Avoid pulling context from the literature cited section starting on page 10\n",
      "waterand in finer sediment than the more desiccation - tolerant h. nudus ( sliger 1982 ). there is still considerable habitat overlap between these two species ; the underside of a single rock may have\n",
      "\n",
      "##f, f. j. 2011. biometry. 4th ed. w. h. freeman, new york, new york, usa. stuart, y. e. and losos, j. b. 2013. ecological character displacement : glass half full or half empty? trends in ecology and evolution 28 : 402 - 408.\n",
      "\n",
      "charifson 17 figure 3 : differences in propal height : carapace width ratio between sex and species. the sex factor was statistically significant ( f = 125. 6. p < 0. 001 ), while the species factor was insignificant ( f > 0. 01, p = 0. 983 ). there was a significant interaction ( f = 4. 39, p = 0. 042 ). error bars represent standard error of the mean. 0 0. 05 0. 1 0. 15 0. 2 0. 25 0. 3 0. 35 h. nudus h. oregonensis propal height : carapace width crab species female male\n",
      "\n",
      "vincta in the field. it should be noted that h. nudus and la. vincta usually occupy different portions of the intertidal and may have little contact with each other, unlike the relationship between h. nudus and li. scutulata. there is some potential for overlap in the winter when la. vincta migrates up shore. although no differences in consumption rates between male and female h. nudus were found, this might be\n",
      "Question: Does the paper mention a year, date, and/or time that the species were collected or observed, and if so, what was mentioned?\n",
      "Helpful Answer:\u001b[0m\n",
      "\n",
      "\u001b[1m> Finished chain.\u001b[0m\n",
      "\n",
      "\u001b[1m> Finished chain.\u001b[0m\n"
     ]
    }
   ],
   "source": [
    "conversational_result11 = qa_conversational({\"question\": query11})"
   ]
  },
  {
   "cell_type": "code",
   "execution_count": 237,
   "id": "dd936361",
   "metadata": {},
   "outputs": [
    {
     "data": {
      "text/plain": [
       "'No, the paper does not mention a year, date, or time that the species were collected or observed.'"
      ]
     },
     "execution_count": 237,
     "metadata": {},
     "output_type": "execute_result"
    }
   ],
   "source": [
    "conversational_result11[\"answer\"]"
   ]
  },
  {
   "cell_type": "code",
   "execution_count": 238,
   "id": "07db7ccc",
   "metadata": {},
   "outputs": [
    {
     "name": "stdout",
     "output_type": "stream",
     "text": [
      "\n",
      "\n",
      "\u001b[1m> Entering new LLMChain chain...\u001b[0m\n",
      "Prompt after formatting:\n",
      "\u001b[32;1m\u001b[1;3mGiven the following conversation and a follow up question, rephrase the follow up question to be a standalone question, in its original language.\n",
      "\n",
      "Chat History:\n",
      "\n",
      "Human: what is this paper about?\n",
      "Assistant: The paper is about the analysis of carapace width and propus measures in two species of crabs, H. nudus and H. oregonensis, and their consumption rates of snails.\n",
      "Human: Did the paper mention which species of crab had the highest carapace width and propus measures?\n",
      "Assistant: The paper does not provide information on which species of crab had the highest carapace width and propus measures.\n",
      "Human: Write a one sentence summary of the purpose of the paper\n",
      "Assistant: The purpose of the paper is to investigate the differences in propus size between males and females of the two crab species, H. nudus and H. oregonensis.\n",
      "Human: And who wrote the paper?\n",
      "Assistant: The author of the paper is F. J. Stuart.\n",
      "Human: Summarize the paper concisely with reference to materials and methods.\n",
      "Assistant: The paper analyzed the differences in carapace width and propus measures using a two-way ANOVA. The relationships between carapace width and propal height/width were examined using SMA regression. The paper also included descriptive statistics and a line of best fit for each species.\n",
      "Human: Terms that may be used to identify an observation include “in the field”, “this study”, “observed”, “taken”, “collected”, “sampled”, “collection”, “seen”, “harvested”, “found”, etc. Does the paper include one or more observations?\n",
      "Assistant: No, the paper does not include any observations.\n",
      "Human: Does this paper contain observational or experimental research conducted in the natural environment or with organisms collected in nature?\n",
      "Assistant: This paper contains experimental research conducted in the natural environment with organisms collected in nature.\n",
      "Human: What are the scientific names of the species mentioned in this paper?\n",
      "Assistant: The scientific names of the species mentioned in this paper are Hemigrapsus nudus and Hemigrapsus oregonensis.\n",
      "Human: Does the paper mention where the species were observed or collected, and if so, what locations are given?\n",
      "Assistant: The paper does not mention where the species were observed or collected.\n",
      "Human: Are any coordinate locations given in latitude / longitude, and if so, what are they?\n",
      "Assistant: The paper does not provide any coordinate locations in latitude/longitude.\n",
      "Human: In what habitat were the species found?\n",
      "Assistant: The species mentioned in the paper were found in the intertidal habitat.\n",
      "Human: Does the paper mention a year, date and/or time that species were collected or observed, and if so, what was mentioned?\n",
      "Assistant: No, the paper does not mention a year, date, or time that the species were collected or observed.\n",
      "Follow Up Input: Are there any maps, figures, tables or diagrams in the paper?\n",
      "Standalone question:\u001b[0m\n",
      "\n",
      "\u001b[1m> Finished chain.\u001b[0m\n",
      "\n",
      "\n",
      "\u001b[1m> Entering new StuffDocumentsChain chain...\u001b[0m\n",
      "\n",
      "\n",
      "\u001b[1m> Entering new LLMChain chain...\u001b[0m\n",
      "Prompt after formatting:\n",
      "\u001b[32;1m\u001b[1;3mUse the following pieces of context to answer the question at the end. If you don't know the answer, just say that you don't know, don't try to make up an answer. Use three sentences maximum. Keep the answer as concise as possible. \n",
      "Avoid pulling context from the literature cited section starting on page 10\n",
      "charifson 16 figure 2 : relationship of carapace width and propal width in hemigrapsus. line of best fit from sma regression. see table 1b for descriptive statistics. a ) female h. nudus. b ) male h. nudus. c ) female h. oregonensis. d ) male h. oregonensis.\n",
      "\n",
      "charifson 15 figure 1 : relationship of carapace width and propal height in hemigrapsus. line of best fit from sma regression. see table 1a for descriptive statistics. a ) female h. nudus. b ) male h. nudus. c ) female h. oregonensis. d ) male h. oregonensis.\n",
      "\n",
      "charifson 17 figure 3 : differences in propal height : carapace width ratio between sex and species. the sex factor was statistically significant ( f = 125. 6. p < 0. 001 ), while the species factor was insignificant ( f > 0. 01, p = 0. 983 ). there was a significant interaction ( f = 4. 39, p = 0. 042 ). error bars represent standard error of the mean. 0 0. 05 0. 1 0. 15 0. 2 0. 25 0. 3 0. 35 h. nudus h. oregonensis propal height : carapace width crab species female male\n",
      "\n",
      "charifson 18 figure 4 : differences in propal width : carapace width ratio between sex and species. the sex factor was statistically significant ( f1, 45 = 103. 8. p < 0. 001 ), while the species factor was insignificant ( f1, 45 = 0. 09, p = 0. 764 ). there was a significant interaction ( f1, 45 = 7. 19, p = 0. 01 ). error bars represent standard error of the mean. 0 0. 05 0. 1 0. 15 0. 2 0. 25 h. nudus h. oregonensis propal widtht : carapace width crab species female male\n",
      "Question: Does the paper contain any maps, figures, tables, or diagrams?\n",
      "Helpful Answer:\u001b[0m\n",
      "\n",
      "\u001b[1m> Finished chain.\u001b[0m\n",
      "\n",
      "\u001b[1m> Finished chain.\u001b[0m\n"
     ]
    }
   ],
   "source": [
    "conversational_result12 = qa_conversational({\"question\": query12})"
   ]
  },
  {
   "cell_type": "code",
   "execution_count": 239,
   "id": "fea6099a",
   "metadata": {},
   "outputs": [
    {
     "data": {
      "text/plain": [
       "'Yes, the paper contains figures (Figure 2, Figure 1, Figure 3, Figure 4) and tables (Table 1b, Table 1a).'"
      ]
     },
     "execution_count": 239,
     "metadata": {},
     "output_type": "execute_result"
    }
   ],
   "source": [
    "conversational_result12[\"answer\"]"
   ]
  },
  {
   "cell_type": "markdown",
   "id": "2fb24baf",
   "metadata": {},
   "source": [
    "## Pass in Chat History"
   ]
  },
  {
   "cell_type": "code",
   "execution_count": 261,
   "id": "9bd0a1ba",
   "metadata": {},
   "outputs": [],
   "source": [
    "qa_conversational2 = ConversationalRetrievalChain.from_llm(ChatOpenAI(temperature=0), vs2.as_retriever())\n"
   ]
  },
  {
   "cell_type": "code",
   "execution_count": 262,
   "id": "cdb4ba0d",
   "metadata": {},
   "outputs": [],
   "source": [
    "chat_history = []\n",
    "result = qa_conversational2({\"question\": query, \"chat_history\": chat_history})"
   ]
  },
  {
   "cell_type": "code",
   "execution_count": 263,
   "id": "fe272f01",
   "metadata": {
    "scrolled": false
   },
   "outputs": [
    {
     "data": {
      "text/plain": [
       "'Based on the provided context, the paper appears to be about various analyses and measurements related to carapace width and propus measures in different species of crabs (H. nudus and H. oregonensis). It also includes information on consumption rates of snails by individual H. nudus crabs.'"
      ]
     },
     "execution_count": 263,
     "metadata": {},
     "output_type": "execute_result"
    }
   ],
   "source": [
    "result[\"answer\"]"
   ]
  },
  {
   "cell_type": "code",
   "execution_count": 264,
   "id": "a697452d",
   "metadata": {},
   "outputs": [
    {
     "data": {
      "text/plain": [
       "[]"
      ]
     },
     "execution_count": 264,
     "metadata": {},
     "output_type": "execute_result"
    }
   ],
   "source": [
    "result[\"chat_history\"]"
   ]
  },
  {
   "cell_type": "code",
   "execution_count": 265,
   "id": "cc88a438",
   "metadata": {},
   "outputs": [],
   "source": [
    "chat_history = [(query, result[\"answer\"])]\n",
    "\n",
    "result_conversational2 = qa_conversational2({\"question\": query, \"chat_history\": chat_history})"
   ]
  },
  {
   "cell_type": "code",
   "execution_count": 266,
   "id": "5ef10dd5",
   "metadata": {
    "scrolled": true
   },
   "outputs": [
    {
     "data": {
      "text/plain": [
       "'The main topic of this paper is the relationship between carapace width and propus measures in H. nudus and H. oregonensis crabs.'"
      ]
     },
     "execution_count": 266,
     "metadata": {},
     "output_type": "execute_result"
    }
   ],
   "source": [
    "result_conversational2[\"answer\"]"
   ]
  },
  {
   "cell_type": "code",
   "execution_count": 267,
   "id": "6a1b85bc",
   "metadata": {
    "scrolled": true
   },
   "outputs": [
    {
     "data": {
      "text/plain": [
       "[('what is this paper about?',\n",
       "  'Based on the provided context, the paper appears to be about various analyses and measurements related to carapace width and propus measures in different species of crabs (H. nudus and H. oregonensis). It also includes information on consumption rates of snails by individual H. nudus crabs.')]"
      ]
     },
     "execution_count": 267,
     "metadata": {},
     "output_type": "execute_result"
    }
   ],
   "source": [
    "result_conversational2[\"chat_history\"]"
   ]
  },
  {
   "cell_type": "markdown",
   "id": "4c389c87",
   "metadata": {},
   "source": [
    "## Return Source Documents"
   ]
  },
  {
   "cell_type": "code",
   "execution_count": 273,
   "id": "80b50fd0",
   "metadata": {},
   "outputs": [],
   "source": [
    "qa_conversational3 = ConversationalRetrievalChain.from_llm(ChatOpenAI(temperature=0), vs2.as_retriever(), return_source_documents=True)\n",
    "\n",
    "\n"
   ]
  },
  {
   "cell_type": "code",
   "execution_count": 274,
   "id": "60187b99",
   "metadata": {},
   "outputs": [],
   "source": [
    "chat_history = []\n",
    "result = qa_conversational3({\"question\": query, \"chat_history\": chat_history})"
   ]
  },
  {
   "cell_type": "code",
   "execution_count": 275,
   "id": "022440ac",
   "metadata": {
    "scrolled": false
   },
   "outputs": [
    {
     "data": {
      "text/plain": [
       "'Based on the provided context, the paper appears to be about various analyses and measurements related to carapace width and propus measures in different species of crabs (H. nudus and H. oregonensis). It also includes information on consumption rates of snails by individual H. nudus crabs.'"
      ]
     },
     "execution_count": 275,
     "metadata": {},
     "output_type": "execute_result"
    }
   ],
   "source": [
    "result[\"answer\"]"
   ]
  },
  {
   "cell_type": "code",
   "execution_count": 276,
   "id": "9e96d46c",
   "metadata": {},
   "outputs": [
    {
     "data": {
      "text/plain": [
       "[]"
      ]
     },
     "execution_count": 276,
     "metadata": {},
     "output_type": "execute_result"
    }
   ],
   "source": [
    "result[\"chat_history\"]"
   ]
  },
  {
   "cell_type": "code",
   "execution_count": 277,
   "id": "9f092fd5",
   "metadata": {
    "scrolled": true
   },
   "outputs": [
    {
     "data": {
      "text/plain": [
       "Document(page_content='##f, f. j. 2011. biometry. 4th ed. w. h. freeman, new york, new york, usa. stuart, y. e. and losos, j. b. 2013. ecological character displacement : glass half full or half empty? trends in ecology and evolution 28 : 402 - 408.', metadata={'source': 'hms/fhl_2014_Charifson_34622 (1).pdf', 'file_path': 'hms/fhl_2014_Charifson_34622 (1).pdf', 'page': 10, 'total_pages': 19, 'format': 'PDF 1.5', 'title': '', 'author': 'David', 'subject': '', 'keywords': '', 'creator': 'Microsoft® Office Word 2007', 'producer': 'Microsoft® Office Word 2007', 'creationDate': \"D:20140723120649-04'00'\", 'modDate': \"D:20140723120649-04'00'\", 'trapped': ''})"
      ]
     },
     "execution_count": 277,
     "metadata": {},
     "output_type": "execute_result"
    }
   ],
   "source": [
    "result['source_documents'][0]"
   ]
  },
  {
   "cell_type": "code",
   "execution_count": 278,
   "id": "1977bd96",
   "metadata": {},
   "outputs": [],
   "source": [
    "result2 = qa_conversational3({\"question\": query2, \"chat_history\": chat_history})"
   ]
  },
  {
   "cell_type": "code",
   "execution_count": 279,
   "id": "58a4a61f",
   "metadata": {},
   "outputs": [
    {
     "data": {
      "text/plain": [
       "'The purpose of the paper is to analyze the relationship between carapace width and propal height/width in different species and sexes of crabs.'"
      ]
     },
     "execution_count": 279,
     "metadata": {},
     "output_type": "execute_result"
    }
   ],
   "source": [
    "result2[\"answer\"]"
   ]
  },
  {
   "cell_type": "code",
   "execution_count": 302,
   "id": "f7f8066a",
   "metadata": {},
   "outputs": [
    {
     "data": {
      "text/plain": [
       "[]"
      ]
     },
     "execution_count": 302,
     "metadata": {},
     "output_type": "execute_result"
    }
   ],
   "source": [
    "result2[\"chat_history\"]"
   ]
  },
  {
   "cell_type": "code",
   "execution_count": 303,
   "id": "6fdd3fbe",
   "metadata": {},
   "outputs": [
    {
     "data": {
      "text/plain": [
       "Document(page_content='charifson 13 table 1 : sma regressions of carapace width and propus measures. a ) the relationship between carapace width and propal height. x is carapace width and y is propal height. b ) the relationship between carapace width and propal height. x is carapace width and y is propal width. sma regression a n carapace width vs propal height r2 female h. nudus 13 y = 0. 273 * x - 0. 678 0. 976 male h. nudus 13 y = 0. 311 * x - 1. 385 0. 868 female h. oregonensis 9 y = 0. 351 * x - 0. 833 0. 894 male h. oregonensis 14 y = 0. 39 * x - 1. 149 0. 693 sma regression b n carapace width vs propal width r2 female h. nudus 13 y = 0. 157 * x - 0. 386 0. 927 male h. nudus 13 y = 0. 209 * x - 1. 288 0. 859 female h. oregonensis 9 y = 0. 175 * x + 0. 037 0. 724 male h. oregonensis 14 y = 0. 244 * x - 0. 688 0. 534', metadata={'source': 'hms/fhl_2014_Charifson_34622 (1).pdf', 'file_path': 'hms/fhl_2014_Charifson_34622 (1).pdf', 'page': 12, 'total_pages': 19, 'format': 'PDF 1.5', 'title': '', 'author': 'David', 'subject': '', 'keywords': '', 'creator': 'Microsoft® Office Word 2007', 'producer': 'Microsoft® Office Word 2007', 'creationDate': \"D:20140723120649-04'00'\", 'modDate': \"D:20140723120649-04'00'\", 'trapped': ''})"
      ]
     },
     "execution_count": 303,
     "metadata": {},
     "output_type": "execute_result"
    }
   ],
   "source": [
    "result2[\"source_documents\"][0]"
   ]
  },
  {
   "cell_type": "code",
   "execution_count": 304,
   "id": "92d023b1",
   "metadata": {},
   "outputs": [],
   "source": [
    "result3 = qa_conversational3({\"question\": query3, \"chat_history\": chat_history})"
   ]
  },
  {
   "cell_type": "code",
   "execution_count": 305,
   "id": "1ace29da",
   "metadata": {},
   "outputs": [
    {
     "data": {
      "text/plain": [
       "'The author of the paper is not mentioned in the given context.'"
      ]
     },
     "execution_count": 305,
     "metadata": {},
     "output_type": "execute_result"
    }
   ],
   "source": [
    "result3[\"answer\"]"
   ]
  },
  {
   "cell_type": "code",
   "execution_count": 306,
   "id": "ffd58114",
   "metadata": {},
   "outputs": [],
   "source": [
    "result4 = qa_conversational3({\"question\": query4, \"chat_history\": chat_history})"
   ]
  },
  {
   "cell_type": "code",
   "execution_count": 307,
   "id": "3612ff50",
   "metadata": {},
   "outputs": [
    {
     "data": {
      "text/plain": [
       "'The paper analyzed the relationship between carapace width and propal height and width in different species of Hemigrapsus crabs. The authors used a two-way ANOVA to compare the differences in carapace width to propal height and width. They performed SMA regressions to determine the relationship between carapace width and propal height and width in female and male H. nudus and H. oregonensis crabs. The results were presented in tables and figures, showing the line of best fit and descriptive statistics for each species and gender.'"
      ]
     },
     "execution_count": 307,
     "metadata": {},
     "output_type": "execute_result"
    }
   ],
   "source": [
    "result4[\"answer\"]"
   ]
  },
  {
   "cell_type": "code",
   "execution_count": 308,
   "id": "f15f9725",
   "metadata": {},
   "outputs": [
    {
     "data": {
      "text/plain": [
       "Document(page_content='and rohlf 2011 ). differences in cw : ph and cw : pw were analyzed using a two - way anova', metadata={'source': 'hms/fhl_2014_Charifson_34622 (1).pdf', 'file_path': 'hms/fhl_2014_Charifson_34622 (1).pdf', 'page': 4, 'total_pages': 19, 'format': 'PDF 1.5', 'title': '', 'author': 'David', 'subject': '', 'keywords': '', 'creator': 'Microsoft® Office Word 2007', 'producer': 'Microsoft® Office Word 2007', 'creationDate': \"D:20140723120649-04'00'\", 'modDate': \"D:20140723120649-04'00'\", 'trapped': ''})"
      ]
     },
     "execution_count": 308,
     "metadata": {},
     "output_type": "execute_result"
    }
   ],
   "source": [
    "result4[\"source_documents\"][0]"
   ]
  },
  {
   "cell_type": "code",
   "execution_count": 309,
   "id": "01f7bfe3",
   "metadata": {},
   "outputs": [],
   "source": [
    "result5 = qa_conversational3({\"question\": query5, \"chat_history\": chat_history})"
   ]
  },
  {
   "cell_type": "code",
   "execution_count": 310,
   "id": "f3e9900a",
   "metadata": {},
   "outputs": [
    {
     "data": {
      "text/plain": [
       "'Based on the provided context, it is not clear whether the paper includes one or more specific observations.'"
      ]
     },
     "execution_count": 310,
     "metadata": {},
     "output_type": "execute_result"
    }
   ],
   "source": [
    "result5[\"answer\"]"
   ]
  },
  {
   "cell_type": "code",
   "execution_count": 288,
   "id": "1de39402",
   "metadata": {
    "scrolled": true
   },
   "outputs": [
    {
     "data": {
      "text/plain": [
       "[Document(page_content='##f, f. j. 2011. biometry. 4th ed. w. h. freeman, new york, new york, usa. stuart, y. e. and losos, j. b. 2013. ecological character displacement : glass half full or half empty? trends in ecology and evolution 28 : 402 - 408.', metadata={'source': 'hms/fhl_2014_Charifson_34622 (1).pdf', 'file_path': 'hms/fhl_2014_Charifson_34622 (1).pdf', 'page': 10, 'total_pages': 19, 'format': 'PDF 1.5', 'title': '', 'author': 'David', 'subject': '', 'keywords': '', 'creator': 'Microsoft® Office Word 2007', 'producer': 'Microsoft® Office Word 2007', 'creationDate': \"D:20140723120649-04'00'\", 'modDate': \"D:20140723120649-04'00'\", 'trapped': ''}),\n",
       " Document(page_content='vincta in the field. it should be noted that h. nudus and la. vincta usually occupy different portions of the intertidal and may have little contact with each other, unlike the relationship between h. nudus and li. scutulata. there is some potential for overlap in the winter when la. vincta migrates up shore. although no differences in consumption rates between male and female h. nudus were found, this might be', metadata={'source': 'hms/fhl_2014_Charifson_34622 (1).pdf', 'file_path': 'hms/fhl_2014_Charifson_34622 (1).pdf', 'page': 8, 'total_pages': 19, 'format': 'PDF 1.5', 'title': '', 'author': 'David', 'subject': '', 'keywords': '', 'creator': 'Microsoft® Office Word 2007', 'producer': 'Microsoft® Office Word 2007', 'creationDate': \"D:20140723120649-04'00'\", 'modDate': \"D:20140723120649-04'00'\", 'trapped': ''}),\n",
       " Document(page_content='charifson 19 figure 5 : consumption rates by individual h. nudus. mean consumption rates ( n = 8 trials ) of 3 female ( fe1 to fe3 ) and 3 male ( ma1 to ma3 ) h. nudus. crabs fe1, fe3, and ma3 did not consume snails. the individuals that eat snails did not differ in their consumption rates ( f2, 21 = 2. 52, p = 0. 104 ). error bars represent standard error of the mean. 0 0. 1 0. 2 0. 3 0. 4 0. 5 0. 6 0. 7 0. 8 0. 9 1 fe1 fe2 fe3 ma1 ma2 ma3 mean consumption rate ( snails consumed / hour ) individual h. nudus', metadata={'source': 'hms/fhl_2014_Charifson_34622 (1).pdf', 'file_path': 'hms/fhl_2014_Charifson_34622 (1).pdf', 'page': 18, 'total_pages': 19, 'format': 'PDF 1.5', 'title': '', 'author': 'David', 'subject': '', 'keywords': '', 'creator': 'Microsoft® Office Word 2007', 'producer': 'Microsoft® Office Word 2007', 'creationDate': \"D:20140723120649-04'00'\", 'modDate': \"D:20140723120649-04'00'\", 'trapped': ''}),\n",
       " Document(page_content='and rohlf 2011 ). differences in cw : ph and cw : pw were analyzed using a two - way anova', metadata={'source': 'hms/fhl_2014_Charifson_34622 (1).pdf', 'file_path': 'hms/fhl_2014_Charifson_34622 (1).pdf', 'page': 4, 'total_pages': 19, 'format': 'PDF 1.5', 'title': '', 'author': 'David', 'subject': '', 'keywords': '', 'creator': 'Microsoft® Office Word 2007', 'producer': 'Microsoft® Office Word 2007', 'creationDate': \"D:20140723120649-04'00'\", 'modDate': \"D:20140723120649-04'00'\", 'trapped': ''})]"
      ]
     },
     "execution_count": 288,
     "metadata": {},
     "output_type": "execute_result"
    }
   ],
   "source": [
    "result5[\"source_documents\"]"
   ]
  },
  {
   "cell_type": "code",
   "execution_count": 289,
   "id": "2945eed3",
   "metadata": {},
   "outputs": [],
   "source": [
    "result6 = qa_conversational3({\"question\": query6, \"chat_history\": chat_history})"
   ]
  },
  {
   "cell_type": "code",
   "execution_count": 290,
   "id": "08be4f6f",
   "metadata": {},
   "outputs": [
    {
     "data": {
      "text/plain": [
       "'Based on the given context, it appears that the research described in the paper is experimental research conducted in the natural environment with organisms collected in nature. The acknowledgements section mentions the permission to collect organisms and the use of facilities at Friday Harbor Laboratories.'"
      ]
     },
     "execution_count": 290,
     "metadata": {},
     "output_type": "execute_result"
    }
   ],
   "source": [
    "result6[\"answer\"]"
   ]
  },
  {
   "cell_type": "code",
   "execution_count": 291,
   "id": "9d8ce63c",
   "metadata": {},
   "outputs": [
    {
     "data": {
      "text/plain": [
       "[]"
      ]
     },
     "execution_count": 291,
     "metadata": {},
     "output_type": "execute_result"
    }
   ],
   "source": [
    "result6[\"chat_history\"]"
   ]
  },
  {
   "cell_type": "code",
   "execution_count": 299,
   "id": "9f581a3e",
   "metadata": {},
   "outputs": [
    {
     "data": {
      "text/plain": [
       "Document(page_content='charifson 19 figure 5 : consumption rates by individual h. nudus. mean consumption rates ( n = 8 trials ) of 3 female ( fe1 to fe3 ) and 3 male ( ma1 to ma3 ) h. nudus. crabs fe1, fe3, and ma3 did not consume snails. the individuals that eat snails did not differ in their consumption rates ( f2, 21 = 2. 52, p = 0. 104 ). error bars represent standard error of the mean. 0 0. 1 0. 2 0. 3 0. 4 0. 5 0. 6 0. 7 0. 8 0. 9 1 fe1 fe2 fe3 ma1 ma2 ma3 mean consumption rate ( snails consumed / hour ) individual h. nudus', metadata={'source': 'hms/fhl_2014_Charifson_34622 (1).pdf', 'file_path': 'hms/fhl_2014_Charifson_34622 (1).pdf', 'page': 18, 'total_pages': 19, 'format': 'PDF 1.5', 'title': '', 'author': 'David', 'subject': '', 'keywords': '', 'creator': 'Microsoft® Office Word 2007', 'producer': 'Microsoft® Office Word 2007', 'creationDate': \"D:20140723120649-04'00'\", 'modDate': \"D:20140723120649-04'00'\", 'trapped': ''})"
      ]
     },
     "execution_count": 299,
     "metadata": {},
     "output_type": "execute_result"
    }
   ],
   "source": [
    "result6[\"source_documents\"][0]"
   ]
  },
  {
   "cell_type": "code",
   "execution_count": 292,
   "id": "e6a887dd",
   "metadata": {},
   "outputs": [],
   "source": [
    "result7 = qa_conversational3({\"question\": query7, \"chat_history\": chat_history})"
   ]
  },
  {
   "cell_type": "code",
   "execution_count": 300,
   "id": "fb3486ba",
   "metadata": {},
   "outputs": [
    {
     "data": {
      "text/plain": [
       "'The scientific names of the species mentioned in this paper are Hemigrapsus nudus and Hemigrapsus oregonensis.'"
      ]
     },
     "execution_count": 300,
     "metadata": {},
     "output_type": "execute_result"
    }
   ],
   "source": [
    "result7[\"answer\"]"
   ]
  },
  {
   "cell_type": "code",
   "execution_count": 311,
   "id": "ceb226f0",
   "metadata": {},
   "outputs": [
    {
     "data": {
      "text/plain": [
       "Document(page_content='waterand in finer sediment than the more desiccation - tolerant h. nudus ( sliger 1982 ). there is still considerable habitat overlap between these two species ; the underside of a single rock may have', metadata={'source': 'hms/fhl_2014_Charifson_34622 (1).pdf', 'file_path': 'hms/fhl_2014_Charifson_34622 (1).pdf', 'page': 1, 'total_pages': 19, 'format': 'PDF 1.5', 'title': '', 'author': 'David', 'subject': '', 'keywords': '', 'creator': 'Microsoft® Office Word 2007', 'producer': 'Microsoft® Office Word 2007', 'creationDate': \"D:20140723120649-04'00'\", 'modDate': \"D:20140723120649-04'00'\", 'trapped': ''})"
      ]
     },
     "execution_count": 311,
     "metadata": {},
     "output_type": "execute_result"
    }
   ],
   "source": [
    "result7[\"source_documents\"][0]"
   ]
  },
  {
   "cell_type": "code",
   "execution_count": 293,
   "id": "56d3dfdb",
   "metadata": {},
   "outputs": [],
   "source": [
    "result8 = qa_conversational3({\"question\": query8, \"chat_history\": chat_history})"
   ]
  },
  {
   "cell_type": "code",
   "execution_count": 312,
   "id": "1fbf2a62",
   "metadata": {},
   "outputs": [
    {
     "data": {
      "text/plain": [
       "'No, the paper does not mention specific locations where the species were observed or collected.'"
      ]
     },
     "execution_count": 312,
     "metadata": {},
     "output_type": "execute_result"
    }
   ],
   "source": [
    "result8[\"answer\"]"
   ]
  },
  {
   "cell_type": "code",
   "execution_count": 313,
   "id": "67484ebf",
   "metadata": {},
   "outputs": [
    {
     "data": {
      "text/plain": [
       "Document(page_content='waterand in finer sediment than the more desiccation - tolerant h. nudus ( sliger 1982 ). there is still considerable habitat overlap between these two species ; the underside of a single rock may have', metadata={'source': 'hms/fhl_2014_Charifson_34622 (1).pdf', 'file_path': 'hms/fhl_2014_Charifson_34622 (1).pdf', 'page': 1, 'total_pages': 19, 'format': 'PDF 1.5', 'title': '', 'author': 'David', 'subject': '', 'keywords': '', 'creator': 'Microsoft® Office Word 2007', 'producer': 'Microsoft® Office Word 2007', 'creationDate': \"D:20140723120649-04'00'\", 'modDate': \"D:20140723120649-04'00'\", 'trapped': ''})"
      ]
     },
     "execution_count": 313,
     "metadata": {},
     "output_type": "execute_result"
    }
   ],
   "source": [
    "result8[\"source_documents\"][0]"
   ]
  },
  {
   "cell_type": "code",
   "execution_count": 294,
   "id": "ff9f9939",
   "metadata": {},
   "outputs": [],
   "source": [
    "result9 = qa_conversational3({\"question\": query9, \"chat_history\": chat_history})"
   ]
  },
  {
   "cell_type": "code",
   "execution_count": 314,
   "id": "dab0252a",
   "metadata": {},
   "outputs": [
    {
     "data": {
      "text/plain": [
       "'No, there are no coordinate locations given in latitude/longitude in the provided context.'"
      ]
     },
     "execution_count": 314,
     "metadata": {},
     "output_type": "execute_result"
    }
   ],
   "source": [
    "result9['answer']"
   ]
  },
  {
   "cell_type": "code",
   "execution_count": 315,
   "id": "8d797a11",
   "metadata": {},
   "outputs": [
    {
     "data": {
      "text/plain": [
       "Document(page_content='to right sides of the propus. all claw measurements were made on the left cheliped.', metadata={'source': 'hms/fhl_2014_Charifson_34622 (1).pdf', 'file_path': 'hms/fhl_2014_Charifson_34622 (1).pdf', 'page': 3, 'total_pages': 19, 'format': 'PDF 1.5', 'title': '', 'author': 'David', 'subject': '', 'keywords': '', 'creator': 'Microsoft® Office Word 2007', 'producer': 'Microsoft® Office Word 2007', 'creationDate': \"D:20140723120649-04'00'\", 'modDate': \"D:20140723120649-04'00'\", 'trapped': ''})"
      ]
     },
     "execution_count": 315,
     "metadata": {},
     "output_type": "execute_result"
    }
   ],
   "source": [
    "result9[\"source_documents\"][0]"
   ]
  },
  {
   "cell_type": "code",
   "execution_count": 295,
   "id": "1cd4c6dd",
   "metadata": {},
   "outputs": [],
   "source": [
    "result10 = qa_conversational3({\"question\": query10, \"chat_history\": chat_history})"
   ]
  },
  {
   "cell_type": "code",
   "execution_count": 316,
   "id": "70384b00",
   "metadata": {},
   "outputs": [
    {
     "data": {
      "text/plain": [
       "'The species were found in water and in finer sediment.'"
      ]
     },
     "execution_count": 316,
     "metadata": {},
     "output_type": "execute_result"
    }
   ],
   "source": [
    "result10[\"answer\"]"
   ]
  },
  {
   "cell_type": "code",
   "execution_count": 317,
   "id": "65a9a99e",
   "metadata": {},
   "outputs": [
    {
     "data": {
      "text/plain": [
       "Document(page_content='waterand in finer sediment than the more desiccation - tolerant h. nudus ( sliger 1982 ). there is still considerable habitat overlap between these two species ; the underside of a single rock may have', metadata={'source': 'hms/fhl_2014_Charifson_34622 (1).pdf', 'file_path': 'hms/fhl_2014_Charifson_34622 (1).pdf', 'page': 1, 'total_pages': 19, 'format': 'PDF 1.5', 'title': '', 'author': 'David', 'subject': '', 'keywords': '', 'creator': 'Microsoft® Office Word 2007', 'producer': 'Microsoft® Office Word 2007', 'creationDate': \"D:20140723120649-04'00'\", 'modDate': \"D:20140723120649-04'00'\", 'trapped': ''})"
      ]
     },
     "execution_count": 317,
     "metadata": {},
     "output_type": "execute_result"
    }
   ],
   "source": [
    "result10[\"source_documents\"][0]"
   ]
  },
  {
   "cell_type": "code",
   "execution_count": 296,
   "id": "d6ee2c2c",
   "metadata": {},
   "outputs": [],
   "source": [
    "result11 = qa_conversational3({\"question\": query11, \"chat_history\": chat_history})"
   ]
  },
  {
   "cell_type": "code",
   "execution_count": 318,
   "id": "abc2fad3",
   "metadata": {},
   "outputs": [
    {
     "data": {
      "text/plain": [
       "'No, the paper does not mention a year, date, or time that species were collected or observed.'"
      ]
     },
     "execution_count": 318,
     "metadata": {},
     "output_type": "execute_result"
    }
   ],
   "source": [
    "result11[\"answer\"]"
   ]
  },
  {
   "cell_type": "code",
   "execution_count": 319,
   "id": "5a6c7eff",
   "metadata": {},
   "outputs": [
    {
     "data": {
      "text/plain": [
       "Document(page_content='##f, f. j. 2011. biometry. 4th ed. w. h. freeman, new york, new york, usa. stuart, y. e. and losos, j. b. 2013. ecological character displacement : glass half full or half empty? trends in ecology and evolution 28 : 402 - 408.', metadata={'source': 'hms/fhl_2014_Charifson_34622 (1).pdf', 'file_path': 'hms/fhl_2014_Charifson_34622 (1).pdf', 'page': 10, 'total_pages': 19, 'format': 'PDF 1.5', 'title': '', 'author': 'David', 'subject': '', 'keywords': '', 'creator': 'Microsoft® Office Word 2007', 'producer': 'Microsoft® Office Word 2007', 'creationDate': \"D:20140723120649-04'00'\", 'modDate': \"D:20140723120649-04'00'\", 'trapped': ''})"
      ]
     },
     "execution_count": 319,
     "metadata": {},
     "output_type": "execute_result"
    }
   ],
   "source": [
    "result11[\"source_documents\"][0]"
   ]
  },
  {
   "cell_type": "code",
   "execution_count": 297,
   "id": "e3163375",
   "metadata": {},
   "outputs": [],
   "source": [
    "result12 = qa_conversational3({\"question\": query12, \"chat_history\": chat_history})"
   ]
  },
  {
   "cell_type": "code",
   "execution_count": 320,
   "id": "4d054407",
   "metadata": {},
   "outputs": [
    {
     "data": {
      "text/plain": [
       "'Yes, there are figures in the paper. Figure 1 shows the relationship between carapace width and propal height in different species and genders of Hemigrapsus crabs. Figure 2 shows the relationship between carapace width and propal width in the same species and genders. There are also tables mentioned in the text, such as Table 1a and Table 1b, which provide descriptive statistics for the figures.'"
      ]
     },
     "execution_count": 320,
     "metadata": {},
     "output_type": "execute_result"
    }
   ],
   "source": [
    "result12[\"answer\"]"
   ]
  },
  {
   "cell_type": "code",
   "execution_count": 321,
   "id": "fc469753",
   "metadata": {},
   "outputs": [
    {
     "data": {
      "text/plain": [
       "Document(page_content='to right sides of the propus. all claw measurements were made on the left cheliped.', metadata={'source': 'hms/fhl_2014_Charifson_34622 (1).pdf', 'file_path': 'hms/fhl_2014_Charifson_34622 (1).pdf', 'page': 3, 'total_pages': 19, 'format': 'PDF 1.5', 'title': '', 'author': 'David', 'subject': '', 'keywords': '', 'creator': 'Microsoft® Office Word 2007', 'producer': 'Microsoft® Office Word 2007', 'creationDate': \"D:20140723120649-04'00'\", 'modDate': \"D:20140723120649-04'00'\", 'trapped': ''})"
      ]
     },
     "execution_count": 321,
     "metadata": {},
     "output_type": "execute_result"
    }
   ],
   "source": [
    "result12[\"source_documents\"][0]"
   ]
  }
 ],
 "metadata": {
  "kernelspec": {
   "display_name": "Python 3 (ipykernel)",
   "language": "python",
   "name": "python3"
  },
  "language_info": {
   "codemirror_mode": {
    "name": "ipython",
    "version": 3
   },
   "file_extension": ".py",
   "mimetype": "text/x-python",
   "name": "python",
   "nbconvert_exporter": "python",
   "pygments_lexer": "ipython3",
   "version": "3.10.9"
  }
 },
 "nbformat": 4,
 "nbformat_minor": 5
}
