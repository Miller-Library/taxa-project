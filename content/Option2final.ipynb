{
 "cells": [
  {
   "cell_type": "markdown",
   "id": "93f0b974",
   "metadata": {},
   "source": [
    "# Option 2 \n",
    "\n",
    " - Tiktoken Splitter\n",
    " - OpenAI Embeddings\n",
    " - FAISS\n",
    " - Contextual Compress\n",
    " - RetrievalQA\n",
    " - ConversationalRetrievalQA\n",
    " - Memory\n"
   ]
  },
  {
   "cell_type": "code",
   "execution_count": 1,
   "id": "4737c39b",
   "metadata": {},
   "outputs": [],
   "source": [
    "import pandas as pd\n",
    "import os\n",
    "import openai\n",
    "import sys, pathlib, fitz\n",
    "from langchain.chains import LLMChain\n",
    "from langchain.chains.question_answering import load_qa_chain\n",
    "from langchain.chains import RetrievalQA\n",
    "from langchain.chains import ConversationalRetrievalChain\n",
    "from langchain.document_loaders import PyMuPDFLoader\n",
    "from langchain.text_splitter import CharacterTextSplitter\n",
    "from langchain.text_splitter import TokenTextSplitter\n",
    "from langchain.embeddings.openai  import OpenAIEmbeddings\n",
    "from langchain.vectorstores import FAISS\n",
    "from langchain.retrievers import ContextualCompressionRetriever\n",
    "from langchain.retrievers.document_compressors import LLMChainExtractor\n",
    "from langchain.retrievers.document_compressors import LLMChainFilter\n",
    "from langchain.chat_models import ChatOpenAI\n",
    "from langchain.memory import VectorStoreRetrieverMemory\n",
    "from langchain.memory import ConversationBufferMemory\n",
    "from langchain import PromptTemplate\n",
    "from langchain.chains.qa_with_sources import load_qa_with_sources_chain\n",
    "from langchain.chains.conversational_retrieval.prompts import CONDENSE_QUESTION_PROMPT\n",
    "# from langchain.prompts.chat import (\n",
    "#     ChatPromptTemplate,\n",
    "#     SystemMessagePromptTemplate,\n",
    "#     AIMessagePromptTemplate,\n",
    "#     HumanMessagePromptTemplate,\n",
    "# )\n",
    "# from langchain.schema import AIMessage, HumanMessage, SystemMessage"
   ]
  },
  {
   "cell_type": "code",
   "execution_count": 2,
   "id": "7d6f4fea",
   "metadata": {},
   "outputs": [],
   "source": [
    "from dotenv import load_dotenv, find_dotenv\n",
    "_ = load_dotenv(find_dotenv()) # read local .env file\n",
    "\n",
    "openai.api_key  = os.environ['OPENAI_API_KEY']"
   ]
  },
  {
   "cell_type": "code",
   "execution_count": 3,
   "id": "1fc8294c",
   "metadata": {},
   "outputs": [],
   "source": [
    "# Helper function for printing docs\n",
    "\n",
    "def pretty_print_docs(docs):\n",
    "    print(f\"\\n{'-' * 100}\\n\".join([f\"Document {i+1}:\\n\\n\" + d.page_content for i, d in enumerate(docs)]))"
   ]
  },
  {
   "cell_type": "markdown",
   "id": "9e3e12b8",
   "metadata": {},
   "source": [
    "## Remove Citation Pages\n",
    "\n",
    "From our Option 1 experiment, we noticed the responses and source documents were derived by the reference pages and non relevant graphs in the appendix. Luckily, the appendix is always after the reference so I create this simple function to drop the first page of references as well as all subsequent pages. \n",
    "\n",
    " - This saves tokens and we dont need to process irrelevant text\n",
    " - Removes the risk of generating irrelevant data"
   ]
  },
  {
   "cell_type": "code",
   "execution_count": 4,
   "id": "bcc88598",
   "metadata": {},
   "outputs": [],
   "source": [
    "def has_citations(page_text):\n",
    "    # List of variations of \"citations\" to check for\n",
    "    citation_variations = [\"Citations\", \"Literature Cited\", \"Literature Citations\"]\n",
    "\n",
    "    for variation in citation_variations:\n",
    "        if variation in page_text:\n",
    "            return True\n",
    "    return False\n",
    "\n",
    "def remove_citation_pages(pdf_path):\n",
    "    doc = fitz.open(pdf_path)\n",
    "    non_citation_pages = []\n",
    "\n",
    "    for page_num in range(doc.page_count):\n",
    "        page = doc[page_num]\n",
    "        page_text = page.get_text()\n",
    "\n",
    "        if not has_citations(page_text):\n",
    "            non_citation_pages.append(page_num)\n",
    "\n",
    "    # Create a new PDF with only non-citation pages\n",
    "    new_pdf = fitz.open()\n",
    "    for page_num in non_citation_pages:\n",
    "        new_pdf.insert_pdf(doc, from_page=page_num, to_page=page_num)\n",
    "\n",
    "    return new_pdf\n",
    "\n",
    "\n",
    "input_pdf_path = './hms/fhl_2014_Charifson_34622 (1).pdf'\n",
    "\n",
    "# Create a new PDF with citation pages removed\n",
    "new_pdf = remove_citation_pages(input_pdf_path)\n",
    "\n",
    "# Save the new PDF to 'output.pdf'\n",
    "output_pdf_path = 'output.pdf'\n",
    "new_pdf.save(output_pdf_path)\n",
    "new_pdf.close()\n"
   ]
  },
  {
   "cell_type": "markdown",
   "id": "17ba0a6a",
   "metadata": {},
   "source": [
    "## Extract text from the new PDF file w/ reference pages removed"
   ]
  },
  {
   "cell_type": "code",
   "execution_count": 5,
   "id": "c9a2cc54",
   "metadata": {},
   "outputs": [
    {
     "name": "stdout",
     "output_type": "stream",
     "text": [
      "Charifson 1 \n",
      " \n",
      "Snail Predation by Hemigrapsus nudus and Hemigrapsus oregonensis: Sex and Species \n",
      "Differences in Chela Size. \n",
      " \n",
      "David Charifson1,2 \n",
      " \n",
      "Marine Invertebrate Zoology \n",
      "Summer 2014 \n",
      " \n",
      " \n",
      " \n",
      " \n",
      "1 Friday Harbor Laboratories, University of Washington, Friday Harbor, WA 98250 \n",
      "2 Department of Ecology and Evolution, Stony Brook University, Stony Brook, NY 11794-5245 \n",
      " \n",
      " \n",
      " \n",
      " \n",
      "Contact information: \n",
      "David Charifson \n",
      "Department of Ecology and Evolution \n",
      "Stony Brook University \n",
      "650 Life Sciences Building \n",
      "Stony Brook, NY 11794-5245 \n",
      "David.charifson@stonybrook.edu  \n",
      " \n",
      " \n",
      " \n",
      " \n",
      "Keywords: Hemigrapsus nudus, Hemigrapsus orogenensis, Littorina scutulata, Lacuna vincta, \n",
      "predation, sexual dimorphism, character displacement  \n",
      " \n",
      " \n",
      "Charifson 2 \n",
      " \n",
      "Abstract: \n",
      " \n",
      "The relationship between propus size and use of snails as prey in sympatric populations \n",
      "of Hemigrapsus nudus and Hemigrapsus oregonensis was investigated. Propal height and propal \n",
      "width increases with body size in a predictable manner in male and female crabs of both species. \n",
      "Sexual dimorphism of propal height and width relationships in both shore crabs is apparent, but \n",
      "there was no detectible difference in chela size between H. nudus and H. oregonensis. The lack \n",
      "of difference in chela size between sympatric H. nudus and H. oregonensis suggests that there is \n",
      "no character displacement in this trait. Both species of crabs showed a strong feeding preference \n",
      "for the thin-shelled gastropod Lacuna vincta over the thicker shelled Littorina scutulata, likely \n",
      "due to the ease of consumption. There were no differences in snail consumption rates between \n",
      "male and female H. nudus of similar propal heights, mostly due to high feeding variation among \n",
      "individual crabs.  \n",
      " \n",
      "Introduction: \n",
      " \n",
      "A multitude of species coexist in the marine intertidal environment. Closely related \n",
      "species may be sympatric and compete for resources, such as food. Two species of shore crab, \n",
      "Hemigrapsus nudus (Dana 1851) and Hemigrapsus oregonensis (Dana 1851), occur in sympatry \n",
      "in the Salish Sea. Both species are sexually dimorphic, with the males having larger chelae. \n",
      "Species in sympatry may exhibit character displacement, the exaggeration of morphological or \n",
      "behavioral characteristics due to competition for resources (Brown and Wilson 1956). When H. \n",
      "nudus and H. oregonensis co-occur, H. oregonensis tends to be found closer to the waterand in \n",
      "finer sediment than the more desiccation-tolerant H. nudus (Sliger 1982). There is still \n",
      "considerable habitat overlap between these two species; the underside of a single rock may have \n",
      "Charifson 3 \n",
      " \n",
      "roughly equal abundances of the two crab species (personal observation). The size of the chela \n",
      "may differ, which could allow the crabs to differentiate in food resource utilization. \n",
      "Both species are omnivores that eat algae and small invertebrates, including snails \n",
      "(Behrens Yamada and Boulding 1996). The two shore crab species are known to eat Littorina \n",
      "sitkana (Philippi 1846) and Littorina scutulata (Gould 1849), which also occur in the rocky \n",
      "intertidal zone (Behrens Yamada and Boulding 1996). Li. scutulata moves upshore in response \n",
      "to the presence of H. nudus and crushed conspecifics, where H. nudus density is lower (Keppel \n",
      "and Scrosati 2004). This suggests that H. nudus represents an ecologically significant predation \n",
      "threat to littorines.  \n",
      " \n",
      "The thick shelled littorines are difficult prey for both H. nudus and H. oregonensis as \n",
      "neither crab species is a molluscivore specialists; they typically scrape or pick algae and softer \n",
      "invertebrates off rocks using their chelae (Behrens Yamada and Boulding 1996). Behrens \n",
      "Yamada and Boulding (1998) found that large H. nudus were capable of consuming Li. sitkana \n",
      "that were less than 8 mm in length, but had only a 37% success rate of consuming snails with \n",
      "lengths between 5.5-7 mm .  \n",
      "I sought to investigate differences in propus size between between males and females of \n",
      "these two crab species. The size of the propus of the chela is positively correlated with the \n",
      "amount of force that can be produced due to greater musculature (Behrens Yamada and Boulding \n",
      "1998). A significant difference in propus size between the two species would suggest that further \n",
      "testing of character displacement may be warranted. A disparity in propus size to body size \n",
      "between male and female crabs might result in different feeding rates and shell breaking \n",
      "capabilities. I devised a test of preference by varying snail shell strength within the same size \n",
      "class. The snail species Li. scutulata and Lacuna vincta (Montagu 1803) are both in the family \n",
      "Charifson 4 \n",
      " \n",
      "Littorinidae and have similar shell shape but different shell thickness. Lacuna vincta has a \n",
      "thinner, more fragile shell and is likely to be preferred as prey by shore crabs. I also hypothesize \n",
      "that, if chela size is held constant, female crabs will have greater snail consumption rates than \n",
      "male crabs. Female crabs with claws equivalent to males have a larger body mass,are likely to \n",
      "have greater metabolic need, and are less easily satiated. \n",
      " \n",
      "Study System: \n",
      " \n",
      "All specimens were collected on San Juan Island, Washington.  Two shore crabs (clade: \n",
      "Brachyura: Family Grapsidae), Hemigrapsus oregonensis  and Hemigrapsus nudus were \n",
      "collected in the intertidal adjacent to the Friday Harbor Laboratories dock. These closely related \n",
      "crabs are morphologically similar, but can be distinguished by the presence of purple spots on \n",
      "the cheliped of H. nudus and abundant setae on the pereopods of H. oregonensis (Kozloff 1987). \n",
      "Lacuna vincta, in the Class Gastropoda and Family Littoridae, were collected at False Bay and \n",
      "Dead Man Cove. Littorina scutulata, in the Class Gastropoda and Family Littoridae, were \n",
      "collected from the rocky intertidal zone of Fourth of July Beach.  \n",
      " \n",
      "Materials and Methods: \n",
      "Morphometrics \n",
      " \n",
      "Male and females of H. oregonensis and H. nudus were measured with digital calipers \n",
      "(0.1 mm). Each crab was measured for carapace width, propal height and propal width. Carapace \n",
      "width was taken at the widest part of the carapace. Propal height was measured at the highest \n",
      "vertical distance along the propus. Propal width was measured perpendicular to propal height, \n",
      "from the left to right sides of the propus. All claw measurements were made on the left cheliped. \n",
      "Charifson 5 \n",
      " \n",
      "If there was a size disparity between the left and right claws due to regeneration of a lost claw, \n",
      "the crab was excluded from the study. Ratios of carapace width:propal height (CW:PH) and \n",
      "carapace width:propal width (CW:PW) were calculated.  \n",
      " \n",
      "Crab Feeding Preference \n",
      " \n",
      "Three female (Fe1, Fe2, Fe3) and three male (Ma1, Ma2, Ma3) crabs of H. nudus with \n",
      "propal heights between 5-6 mm were placed in small flow-through containers. Five L. scutulata \n",
      "and five L. vincta with shell lengths between 4-6 mm were added to each container. The ranges \n",
      "of crab propal height and snail shell length were chosen based on prior studies to ensure that the \n",
      "crabs were capable of feeding on the hard-shelled L. scutulata (Behrens Yamada and Boulding \n",
      "1998). H. oregonensis was excluded due to the rarity of female crabs of that species within the \n",
      "range of appropriate propal heights. After approximately 15 hours the number of L. scutulata and \n",
      "L. vincta consumed was counted. Three trials were conducted for each crab. \n",
      "Snail Consumption by Hemigrapsus nudus \n",
      " \n",
      "The crabs from the preference experiment were given five of each snail in each trial. \n",
      "After 1.5 to 3 hours the number of snails consumed was counted and converted to a consumption \n",
      "rate (snails consumed/hour). A total of eight feeding trials were conducted.  \n",
      " \n",
      "Statistical Analysis \n",
      " \n",
      "For the morphometric analysis, crabs were divided into four groups based on sex and \n",
      "species. Standardized major axis regression was used to determine the relationship between crab \n",
      "morphometric parameters. Arcsin transformations were used to correct for non-normality (Sokol \n",
      "and Rohlf 2011). Differences in CW:PH and CW:PW were analyzed using a two-way ANOVA \n",
      "Charifson 6 \n",
      " \n",
      "with factors: Sex and Species. Prey selection by H. nudus was analyzed using G-tests for each \n",
      "individual that consumed snails. An one-way ANOVA was used to determine differences in snail \n",
      "consumption rates by H. nudus.  \n",
      " \n",
      "Results: \n",
      "Morphometrics: \n",
      " \n",
      "Carapace width was a good predictor of both propal height (Figure 1, Table 1A) and \n",
      "propal width (Figure 2, Table 1B) in female and male H. oregonensis and H. nudus. There was \n",
      "less variation in the relationship between carapace width and propal height than with propal \n",
      "width.  Due to non-normality of CW:PH and CW:PW an arcsin transformation was used. A \n",
      "significant effect for sex was found for both CW:PH (F1, 45 = 125.6, p < 0.001) and CW:PW  (F1, \n",
      "45 = 103.81, p < 0.001). There was no significant difference between Hemigrapsus species for \n",
      "CW:PH (F1, 45 < 0.01, p = 0.983) and CW:PW (F1, 45 = 0.09, p = 0.764). A significant \n",
      "sex*species interaction was detected for both CW:PH (F1, 45 4.39, p = 0.042) and CW:PW (F1, 45 \n",
      "= 7.19, p = 0.010). Figure 3 and 4 show the means of CW:PH and CW:PW in by sex and species \n",
      "respectively.  \n",
      " \n",
      "Crab Feeding Preference:  \n",
      " \n",
      "Expected values for both the number of L. scutulata and L. vincta consumed for the G-\n",
      "test are 0.5 multiplied by the total number of snails consumed by each individual crab. G-tests \n",
      "for individual H. nudus that eat snails were all significant at p < 0.001 with 1 degree of freedom \n",
      "(See Table 2 for statistical summary). The three crabs that did not eat either L. scutulata or L. \n",
      "vincta could not be tested for feeding preference.  \n",
      "Charifson 7 \n",
      " \n",
      " \n",
      "Snail Consumption by Hemigrapsus nudus \n",
      " \n",
      "No significant difference in crab feeding rate (snails consumed/hour) was found (F2, 21 = \n",
      "2.52, p = 0.104) among individual H. nudus that fed on snails during the course of the \n",
      "consumption experiment (Figure 5). Fe2  ate snails at a rate of 0.59±0.53 snails/hour (variance is \n",
      "standard deviation), Ma1 feeding rate was 0.24±0.31 snails/hour, and Ma2 had a feeding rate of \n",
      "0.80±0.38 snails/hour. Individuals Fe1, Fe3 and Ma3 did not consume any snails during the \n",
      "course of the experiment.  \n",
      " \n",
      "Discussion: \n",
      " \n",
      "A few interesting patterns emerged in the morphometric analysis of Hemigrapsus nudus \n",
      "and Hemigrapsus orogenensis. The variance in propal height or propal width explained by \n",
      "carapace width was surprisingly high in female H. nudus with R2 values of 0.976 found for \n",
      "propal height and 0.927 for propal width. Male H. oregenensis had the greatest variation in chela \n",
      "size parameters, demonstrated by R2 of 0.693 and 0.534 for propal height and propal width \n",
      "respectively. The R2 values for propal width regressed against carapace width were consistently \n",
      "lower than propal height regressed against carapace width across species and sexes (Table 1). In \n",
      "general the ability of carapace width to explain the variance in chela size parameters (i.e.: R2 \n",
      "values) was greater in females of both crab species (Table 1, Figures 1 and 2). Males may have \n",
      "more variation in claw size due to trade-offs between claw size and factors like feeding \n",
      "efficiency or resource allocation. Trade-offs relating to chela size are found in fiddler crabs, \n",
      "which exhibit extreme sexual dimorphism. Fiddler crabs have a trade-off between the intrasexual \n",
      "competition and intersexual signaling functions of the dimorphic claw (Swanson et al. 2013). \n",
      "Charifson 8 \n",
      " \n",
      "This is not to say that the particular trade-offs in fiddler crabs case are analogous to that of \n",
      "Hemigrapsus, since both claws in the two shore crabs in this study are used in feeding.  \n",
      "Sexual dimorphism in chela size, which is readily apparent to the eye in both \n",
      "Hemigrapsus nudus and Hemigrapsus oregonensis, was detected statistically (Figures 3 and 4). \n",
      "The two-way ANOVA with factors sex and species did not show a significant species effect, \n",
      "suggesting that the claws of both shore crabs produce roughly the same force and are \n",
      "functionally equivalent (Behrens Yamada and Boulding 1998). The lack of morphological \n",
      "difference in the size of the chelae between the crab species removes the possibility of character \n",
      "displacement in the trait. It should be noted that this study was not designed to test for character \n",
      "displacement, but to determine if this would be an interesting question for future investigations. \n",
      "To make a compelling case for character displacement it is necessary to compare multiple \n",
      "sympatric and allopatric populations with similar abiotic and biotic conditions (Stuart and Losos \n",
      "2013). Also it must be demonstrated that the trait differs due to genetic differences between \n",
      "sympatric and allopatric populations, that the differences between the populations are not due to \n",
      "species sorting, that the morphological trait is correlated to differences in resource use between \n",
      "the two sympatric species, and that the similar phenotype in allopatric populations compete for \n",
      "the same resources (Stuart and Losos 2013). The tendency of H. nudus to occupy the upper \n",
      "intertidal zone (Sliger 1987), despite considerable overlap with H. oregonensis, may provide \n",
      "enough differential resource use to prevent exclusion in sympatry. Desiccation tolerance may be \n",
      "a better trait to test for character displacement in these shore crabs.  \n",
      "H. nudus males and females clearly preferred to eat the thinner shelled Lacuna vincta \n",
      "(Table 2). During the course of the feeding preference experiment all the crabs that ate snails \n",
      "consumed L. vincta exclusively. However, one Littorina scutuala was eaten by H. nudus when \n",
      "Charifson 9 \n",
      " \n",
      "determining consumption rates. The six crabs were chosen because their claws were of \n",
      "appropriate size to eat littorines with shell length between 4-6 mm, yet only half of the crabs ate \n",
      "these snails. This could be due to insufficient time to acclimate H. nudus to lab conditions and \n",
      "possibly reduced feeding associated with molting. Male snow crabs, Chionoecetes opilio, were \n",
      "shown to cease feeding 3-6 weeks before and 3-4 weeks after molting (O’Halloran and O’Dor \n",
      "1988).  \n",
      "It was my original intention to test for sex differences in consumption rates, but this was \n",
      "not possible as I could not collect many crabs of the appropriate claw size for gastropod feeding \n",
      "and many of the crabs I did collect did not feed. There were no statistically significant \n",
      "differences in consumption rates (snails eaten/hour) among the three feeding H. nudus. These \n",
      "individuals had highly variable feeding rates, mostly due to trials in which the crab did not feed. \n",
      "Sylvia Behrens Yamada and Elizabeth Boulding (1998) found that H. nudus consumed 1.8 \n",
      "Littorina. sitkana/individual crab/day. In my study crabs fed on 13.03 Lacuna vincta/individual \n",
      "crab/ day. The greater consumption rate in my study is likely due to the easily breakable shells of \n",
      "La. vincta.  \n",
      "The findings of this study suggest that there is no potential for character displacement of \n",
      "chela size in the sympatric H. nudus and H. oregonensis. This leaves the question of species co-\n",
      "occurrence open to other possibilities. H. nudus has a strong preference for La. vincta, but it \n",
      "seems as if there have been no studies that show predation on La. vincta in the field. It should be \n",
      "noted that H. nudus and La. vincta usually occupy different portions of the intertidal and may \n",
      "have little contact with each other, unlike the relationship between H. nudus and Li. scutulata. \n",
      "There is some potential for overlap in the winter when La. vincta migrates up shore. Although no \n",
      "differences in consumption rates between male and female H. nudus were found, this might be \n",
      "Charifson 10 \n",
      " \n",
      "due to logistical issues surrounding the experimental design and little replication. Future studies \n",
      "should include more crabs, the exclusion of non-feeding crabs, and trial periods with longer time \n",
      "intervals. Additionally, any subsequent study should utilize multivariate and geometric \n",
      "morphometric methods to quantify claw shape instead of using ratios, as two similar ratios may \n",
      "have different shape.  \n",
      " \n",
      "Acknowledgements: \n",
      " \n",
      "I would like to thank Dianna Padilla, Michael LaBarbera, and Kevin Turner for advice \n",
      "relating to the experimental design of this study. I would also like to thank the director and staff \n",
      "of Friday Harbor Laboratories for use of facilities and permission to collect organisms. Friday \n",
      "Harbor Laboratories, The Libbie Hyman Scholarship, Society for Integrative and Comparative \n",
      "Biology, and the Stony Brook Department of Ecology and Evolution provided financial support \n",
      "and have my gratitude.  \n",
      " \n",
      " \n",
      " \n",
      " \n",
      " \n",
      " \n",
      " \n",
      " \n",
      " \n",
      " \n",
      "Charifson 12 \n",
      " \n",
      "Swanson, B. O., George, M. N., Anderson, S. T., and Christy, J. H. 2013. Evolutionary variation\n",
      " \n",
      "in the mechanics of fiddler crab claws. BMC Evolutionary Biology 13: 137. \n",
      " \n",
      " \n",
      " \n",
      " \n",
      " \n",
      " \n",
      " \n",
      " \n",
      " \n",
      "Charifson 13 \n",
      " \n",
      "Table 1: SMA regressions of carapace width and propus measures.  \n",
      "A) The relationship between carapace width and propal height. x is carapace width and y is \n",
      "propal height. B) The relationship between carapace width and propal height. x is carapace width \n",
      "and y is propal width.  \n",
      " \n",
      " \n",
      " \n",
      "SMA Regression  \n",
      " \n",
      "A \n",
      " \n",
      "N \n",
      "Carapace Width vs Propal Height  \n",
      "R2 \n",
      " \n",
      "Female H. nudus \n",
      "13 \n",
      "y = 0.273*x - 0.678 \n",
      "0.976 \n",
      " \n",
      "Male H. nudus \n",
      "13 \n",
      "y = 0.311*x - 1.385 \n",
      "0.868 \n",
      " \n",
      "Female H. oregonensis \n",
      "9 \n",
      "y = 0.351*x - 0.833 \n",
      "0.894 \n",
      " \n",
      "Male H. oregonensis \n",
      "14 \n",
      "y = 0.39*x - 1.149 \n",
      "0.693 \n",
      " \n",
      " \n",
      " \n",
      " \n",
      " \n",
      " \n",
      " \n",
      " \n",
      "SMA Regression  \n",
      " \n",
      "B \n",
      " \n",
      "N \n",
      "Carapace Width vs Propal Width  \n",
      "R2 \n",
      " \n",
      "Female H. nudus \n",
      "13 \n",
      "y = 0.157*x - 0.386 \n",
      "0.927 \n",
      " \n",
      "Male H. nudus \n",
      "13 \n",
      "y = 0.209*x - 1.288 \n",
      "0.859 \n",
      " \n",
      "Female H. oregonensis \n",
      "9 \n",
      "y = 0.175*x + 0.037 \n",
      "0.724 \n",
      " \n",
      "Male H. oregonensis \n",
      "14 \n",
      "y = 0.244*x - 0.688 \n",
      "0.534 \n",
      " \n",
      " \n",
      "Charifson 14 \n",
      " \n",
      "Table 2: Size and prey preference in H. nudus.  \n",
      "Size parameters of experimental Hemigrapsus nudus and number of prey consumed in 24 hour \n",
      "intervals (three trials). Crabs Fe1, Fe3, and Ma3 did not feed on snails and were not testable (NT) \n",
      "for preference. \n",
      "Individual \n",
      "Carapace \n",
      "Width (mm) \n",
      "Propal \n",
      "Height (mm) \n",
      "Number of \n",
      "Lacuna vincta \n",
      "consumed \n",
      "Number of \n",
      "Littorina scutulata \n",
      "consumed \n",
      " \n",
      "G \n",
      " \n",
      "p-value \n",
      "Fe1 \n",
      "23.6 \n",
      "5.9 \n",
      "0 \n",
      "0 \n",
      "NT \n",
      " \n",
      "Fe2 \n",
      "23.1 \n",
      "5.5 \n",
      "15 \n",
      "0 \n",
      "20.8 \n",
      "p < 0.001 \n",
      "Fe3 \n",
      "20.6 \n",
      "5 \n",
      "0 \n",
      "0 \n",
      "NT \n",
      " \n",
      "Ma1 \n",
      "19.1 \n",
      "5.4 \n",
      "14 \n",
      "0 \n",
      "19.4 \n",
      "p < 0.001 \n",
      "Ma2 \n",
      "18.4 \n",
      "5.4 \n",
      "15 \n",
      "0 \n",
      "20.8 \n",
      "p < 0.001 \n",
      "Ma3 \n",
      "20.1 \n",
      "6 \n",
      "0 \n",
      "0 \n",
      "NT \n",
      " \n",
      " \n",
      " \n",
      " \n",
      "Charifson 15 \n",
      " \n",
      " \n",
      "Figure 1: Relationship of carapace width and propal height in Hemigrapsus. Line of best fit from \n",
      "SMA regression. See Table 1A for descriptive statistics. A) Female H. nudus. B) Male H. nudus. \n",
      "C) Female H. oregonensis. D) Male H. oregonensis.  \n",
      " \n",
      " \n",
      " \n",
      "Charifson 16 \n",
      " \n",
      " \n",
      "Figure 2: Relationship of carapace width and propal width in Hemigrapsus.  \n",
      "Line of best fit from SMA regression. See Table 1B for descriptive statistics. A) Female H. \n",
      "nudus. B) Male H. nudus. C)Female H. oregonensis. D) Male H. oregonensis.  \n",
      " \n",
      " \n",
      " \n",
      "Charifson 17 \n",
      " \n",
      " \n",
      "Figure 3: Differences in propal height:carapace width ratio between sex and species. \n",
      "The sex factor was statistically significant (F = 125.6. p < 0.001), while the species factor was \n",
      "insignificant (F > 0.01, p = 0.983). There was a significant interaction (F = 4.39, p = 0.042). \n",
      "Error bars represent standard error of the mean.  \n",
      " \n",
      " \n",
      " \n",
      "0 \n",
      "0.05 \n",
      "0.1 \n",
      "0.15 \n",
      "0.2 \n",
      "0.25 \n",
      "0.3 \n",
      "0.35 \n",
      "H. nudus \n",
      "H. oregonensis \n",
      "Propal Height:Carapace Width \n",
      "Crab Species \n",
      "Female \n",
      "Male \n",
      "Charifson 18 \n",
      " \n",
      " \n",
      "Figure 4: Differences in propal width:carapace width ratio between sex and species. \n",
      "The sex factor was statistically significant (F1,45 = 103.8. p < 0.001), while the species factor was \n",
      "insignificant (F1,45  = 0.09, p = 0.764). There was a significant interaction (F1,45  = 7.19, p = \n",
      "0.01). Error bars represent standard error of the mean.  \n",
      " \n",
      " \n",
      " \n",
      "0 \n",
      "0.05 \n",
      "0.1 \n",
      "0.15 \n",
      "0.2 \n",
      "0.25 \n",
      "H. nudus \n",
      "H. oregonensis \n",
      "Propal Widtht:Carapace Width \n",
      "Crab Species \n",
      "Female \n",
      "Male \n",
      "Charifson 19 \n",
      " \n",
      " \n",
      "Figure 5: Consumption rates by individual H. nudus.  \n",
      "Mean consumption rates (n = 8 trials) of 3 female (Fe1 to Fe3) and 3 male (Ma1 to Ma3) H. \n",
      "nudus. Crabs Fe1, Fe3, and Ma3 did not consume snails. The individuals that eat snails did not \n",
      "differ in their consumption rates (F2,21  = 2.52, p = 0.104). Error bars represent standard error of \n",
      "the mean.  \n",
      "  \n",
      "0 \n",
      "0.1 \n",
      "0.2 \n",
      "0.3 \n",
      "0.4 \n",
      "0.5 \n",
      "0.6 \n",
      "0.7 \n",
      "0.8 \n",
      "0.9 \n",
      "1 \n",
      "Fe1 \n",
      "Fe2 \n",
      "Fe3 \n",
      "Ma1 \n",
      "Ma2 \n",
      "Ma3 \n",
      "Mean Consumption Rate  \n",
      "(Snails Consumed/Hour) \n",
      "Individual H. nudus \n",
      "\n"
     ]
    }
   ],
   "source": [
    "def extract_text_from_pdf(pdf_path):\n",
    "    doc = fitz.open(pdf_path)\n",
    "    text = \"\"\n",
    "    for page in doc:\n",
    "        text += page.get_text()\n",
    "    doc.close()\n",
    "    return text\n",
    "\n",
    "# Replace 'output.pdf' with the path to the PDF you created with citation pages removed\n",
    "new_pdf_path = 'output.pdf'\n",
    "\n",
    "# Extract text from the new PDF\n",
    "new_pdf_text = extract_text_from_pdf(new_pdf_path)\n",
    "\n",
    "# Now you can manipulate the extracted text or perform any other actions as needed\n",
    "# For example, you can print the extracted text:\n",
    "print(new_pdf_text)"
   ]
  },
  {
   "cell_type": "code",
   "execution_count": 7,
   "id": "17840aca",
   "metadata": {},
   "outputs": [],
   "source": [
    "# Read in some Data\n",
    "loader = PyMuPDFLoader(\"hms/fhl_2014_Charifson_34622 (1).pdf\")\n",
    "\n",
    "# Now taht we have our PDF document loaded into a loader object, we move onto text splitters\n",
    "pages = loader.load_and_split()"
   ]
  },
  {
   "cell_type": "code",
   "execution_count": 5,
   "id": "1af4084b",
   "metadata": {},
   "outputs": [],
   "source": [
    "# with open(\"hms/kr111tr5711.txt\",  encoding=\"utf8\") as f:\n",
    "#     text_file = f.read()"
   ]
  },
  {
   "cell_type": "markdown",
   "id": "b5ebe5ff",
   "metadata": {},
   "source": [
    "## Tiktoken Splitter\n",
    "\n",
    "tiktoken is a fast byte pair encoding (BPE) tokenizer created by OpenAI.\n",
    "\n",
    "We can use it to estimate tokens used. It will probably be more accurate for the OpenAI models.\n",
    "\n",
    " - How the text is split: by character passed in\n",
    " - How the chunk size is measured: by tiktoken tokenizer\n",
    "\n",
    "Models don't see text like humans, instead they see a sequence of numbers (known as tokens). Byte pair encoding (BPE) is a way of converting text into tokens. It has a couple desirable properties:\n",
    "\n",
    " - It's reversible and lossless, so you can convert tokens back into the original text\n",
    " - It works on arbitrary text, even text that is not in the tokeniser's training data\n",
    " - It compresses the text: the token sequence is shorter than the bytes corresponding to the original text. On average, in practice, each token corresponds to about 4 bytes.\n",
    " - It attempts to let the model see common subwords. For instance, \"ing\" is a common subword in English, so BPE encodings will often split \"encoding\" into tokens like \"encod\" and \"ing\" (instead of e.g. \"enc\" and \"oding\"). Because the model will then see the \"ing\" token again and again in different contexts, it helps models generalise and better understand grammar.\n"
   ]
  },
  {
   "cell_type": "markdown",
   "id": "2c074c16",
   "metadata": {},
   "source": [
    "[AttributeError: 'str' object has no attribute 'page_content](https://github.com/langchain-ai/langchain/issues/3799)\n",
    "\n",
    "docs2 = tk_text_splitter.split_text(text_file) --> tk_text_splitter.create_documents(text_file)"
   ]
  },
  {
   "cell_type": "code",
   "execution_count": 10,
   "id": "95889759",
   "metadata": {
    "scrolled": true
   },
   "outputs": [
    {
     "name": "stdout",
     "output_type": "stream",
     "text": [
      "page_content='Charifson 1 \\n \\nSnail Predation by Hemigrapsus nudus and Hemigrapsus oregonensis: Sex and Species \\nDifferences in Chela Size. \\n \\nDavid Charifson1,2 \\n \\nMarine Invertebrate Zoology \\nSummer 2014 \\n \\n \\n \\n \\n1 Friday Harbor Laboratories, University of Washington, Friday Harbor, WA 98250 \\n2 Department of Ecology and Evolution, Stony Brook University, Stony Brook, NY 11794-5245 \\n \\n \\n \\n \\nContact information: \\nDavid Charifson \\nDepartment of Ecology and Evolution \\nStony Brook University \\n650 Life Sciences Building \\nStony Brook, NY 11794-5245 \\nDavid.charifson@stonybrook.edu  \\n \\n \\n \\n \\nKeywords: Hemig' metadata={'source': 'hms/fhl_2014_Charifson_34622 (1).pdf', 'file_path': 'hms/fhl_2014_Charifson_34622 (1).pdf', 'page': 0, 'total_pages': 19, 'format': 'PDF 1.5', 'title': '', 'author': 'David', 'subject': '', 'keywords': '', 'creator': 'Microsoft® Office Word 2007', 'producer': 'Microsoft® Office Word 2007', 'creationDate': \"D:20140723120649-04'00'\", 'modDate': \"D:20140723120649-04'00'\", 'trapped': ''}\n"
     ]
    }
   ],
   "source": [
    "#load a tiktoken splitter directly\n",
    "from langchain.text_splitter import TokenTextSplitter\n",
    "\n",
    "tk_text_splitter = TokenTextSplitter(chunk_size = 200, chunk_overlap = 0)\n",
    "\n",
    "docs2 = tk_text_splitter.split_documents(pages)\n",
    "\n",
    "print(docs2[0])"
   ]
  },
  {
   "cell_type": "code",
   "execution_count": 11,
   "id": "236563ac",
   "metadata": {},
   "outputs": [],
   "source": [
    "#Initialize Embeddings\n",
    "embeddings = OpenAIEmbeddings()"
   ]
  },
  {
   "cell_type": "markdown",
   "id": "b7cdab27",
   "metadata": {},
   "source": [
    "## FAISS Vectorstore\n",
    "\n",
    "Faiss is a library for efficient similarity search and clustering of dense vectors. It contains algorithms that search in sets of vectors of any size, up to ones that possibly do not fit in RAM. It also contains supporting code for evaluation and parameter tuning.\n",
    "\n",
    "To retrieve text, there are two search types you can choose: \n",
    "\n",
    " - search_type=\"similarity\" uses similarity search in the retriever object where it selects text chunk vectors that are most similar to the question vector. \n",
    " \n",
    " - search_type=\"mmr\" uses the maximum marginal relevance search where it optimizes for similarity to query AND diversity among selected documents.\n",
    "\n",
    "In our case, we wouldnt want to much diversity in our documents as we want the most accurate information. K = 3 returns the 3 most relevant documents.\n",
    "\n",
    "As you will see, there are some inconsistencies in K as some returned 1, 2, or more than 3 relevant documents."
   ]
  },
  {
   "cell_type": "code",
   "execution_count": 12,
   "id": "65ec9de6",
   "metadata": {},
   "outputs": [],
   "source": [
    "vector_store = FAISS.from_documents(docs2, embeddings).as_retriever(search_type = \"similarity\", search_kwargs= {\"k\": 3})"
   ]
  },
  {
   "cell_type": "markdown",
   "id": "543fedb7",
   "metadata": {},
   "source": [
    "# Contextual compression\n",
    "\n",
    "One challenge with retrieval is that usually you don't know the specific queries your document storage system will face when you ingest data into the system. This means that the information most relevant to a query may be buried in a document with a lot of irrelevant text. Passing that full document through your application can lead to more expensive LLM calls and poorer responses.\n",
    "\n",
    "Contextual compression is meant to fix this. The idea is simple: instead of immediately returning retrieved documents as-is, you can compress them using the context of the given query, so that only the relevant information is returned. “Compressing” here refers to both compressing the contents of an individual document and filtering out documents wholesale.\n",
    "\n",
    "To use the Contextual Compression Retriever, you'll need:\n",
    "\n",
    " - a base Retriever\n",
    " - a Document Compressor\n",
    " \n",
    "The Contextual Compression Retriever passes queries to the base Retriever, takes the initial documents and passes them through the Document Compressor. The Document Compressor takes a list of Documents and shortens it by reducing the contents of Documents or dropping Documents altogether."
   ]
  },
  {
   "cell_type": "markdown",
   "id": "6bff5bee",
   "metadata": {},
   "source": [
    "### Adding contextual compression with an LLMChainExtractor\n",
    "\n",
    "Now let's wrap our base retriever with a ContextualCompressionRetriever. We'll add an LLMChainExtractor, which will iterate over the initially returned documents and extract from each only the content that is relevant to the query."
   ]
  },
  {
   "cell_type": "code",
   "execution_count": 13,
   "id": "5992a732",
   "metadata": {},
   "outputs": [],
   "source": [
    "'''We wrapped our base retriever with a ContextualCompressionRetriever. Also added LLMChainExtractor, which will iterate\n",
    "over the initially returned documents and extract from each only the content that is relevant to the query'''\n",
    "\n",
    "llm = ChatOpenAI(temperature=0, model_name='gpt-3.5-turbo')\n",
    "\n",
    "compressor = LLMChainExtractor.from_llm(llm)\n",
    "\n",
    "compression_retriever = ContextualCompressionRetriever(base_compressor = compressor,base_retriever=vector_store)\n"
   ]
  },
  {
   "cell_type": "code",
   "execution_count": 11,
   "id": "5f8dcaa2",
   "metadata": {},
   "outputs": [
    {
     "name": "stderr",
     "output_type": "stream",
     "text": [
      "C:\\Users\\aclao89\\AppData\\Local\\anaconda3\\lib\\site-packages\\langchain\\chains\\llm.py:275: UserWarning: The predict_and_parse method is deprecated, instead pass an output parser directly to LLMChain.\n",
      "  warnings.warn(\n"
     ]
    },
    {
     "name": "stdout",
     "output_type": "stream",
     "text": [
      "Document 1:\n",
      "\n",
      "The benthic red alga Prionitis lanceolata Harvey shows an increased primary productivity in the outfall canyon of the Carmel, California, marine sewage outfall. At a distance of twenty meters from the outfall this productivity shows a large reduction before again rising to a high value at approximately 20 to 4O meters. The differing productivities of samples from Mission Point, Monastery Beach, and Cabrillo Point (Hopkins Marine Station) are compared in relation to the currents which were found. Possible causes for these differences in productivity are diseussed.\n",
      "----------------------------------------------------------------------------------------------------\n",
      "Document 2:\n",
      "\n",
      "This paper presents the results of primary productivity measurements of P. lanceolata samples collected near and away from the outfall. Some hypotheses are made with respect to the sewage's effect on the primary productivity. The \"light and dark bottle\" method of algal productivity measurement as used here, was found to not be especially applicable when applied to benthic marine algae. Therefore, the significance of the results should be accepted cautiously. Knowledge of the dispersion behavior of the sewage was important to both the collection of samples and the interpretation of experimental results; therefore, two group projects were completed during the term of study. First, a map of the immediate outfall area was constructed through the use of compass readings and measured lines. This map was marked in a grid with squares.\n"
     ]
    }
   ],
   "source": [
    "compressed_docs = compression_retriever.get_relevant_documents(\"What is this paper about?\")\n",
    "\n",
    "pretty_print_docs(compressed_docs)\n"
   ]
  },
  {
   "cell_type": "code",
   "execution_count": 12,
   "id": "9189812b",
   "metadata": {},
   "outputs": [
    {
     "name": "stdout",
     "output_type": "stream",
     "text": [
      "Document 1:\n",
      "\n",
      "sewage outfalls.\n",
      "This paper presents the results of primary\n",
      "productivity measurements of P. lanceolata samples\n",
      "collected near and away from the outfall. Some\n",
      "hypotheses are made with»respect to the sewage's\n",
      "effect on the primary productivity. The \"light and\n",
      "dark bottle\" method of algal productivity measurement\n",
      "as used here, was found to not be especially applicable\n",
      "when applied to benthic marine algae. Therefore,\n",
      "© the significance of the results should be accepted cautiously.\n",
      "wD\n",
      "© MATERIALS AND METHODS\n",
      "Knowledge of the dispersion behavior of the\n",
      "sewage was important to both the collection of\n",
      "samples and the interpretation of experimental results;\n",
      "therefore, two group projects were completed during\n",
      "the term of study. First, a map of the immediate\n",
      "outfall area was constructed through the use of\n",
      "compass readings and measured lines. This map was\n",
      "marked in a grid with squares\n",
      "----------------------------------------------------------------------------------------------------\n",
      "Document 2:\n",
      "\n",
      "the dissolved 0, \"fixed\" (Strickland and Parsons,\n",
      "1965), and a 50 ml volume removed from each bottle\n",
      "© for the standard Winkler titration (Strickland and\n",
      "Parsons, 1965). Two \"initial bottles\" containing\n",
      "only the aerated sea water were fixed using the same\n",
      "procedure and also titrated.\n",
      "----------------------------------------------------------------------------------------------------\n",
      "Document 3:\n",
      "\n",
      "A map of the entire Carmel Bay area, partially represented in figures 3, 4, was obtained from the California State Department of Beaches and Parks.\n",
      "Second, two current studies were undertaken using fluorescein dye and color coded, marked bottles.\n",
      "The bottles were set from a small skiff in predetermined lines, and compass readings (figure 2, tables I, II) made at timed intervals from a suitable reference point.\n",
      "The bottles' actions were then plotted using this information (figures 3, 4).\n"
     ]
    }
   ],
   "source": [
    "compressed_docs = compression_retriever.get_relevant_documents(\"Summarize the paper concisely with reference to materials and methods.\")\n",
    "\n",
    "pretty_print_docs(compressed_docs)\n"
   ]
  },
  {
   "cell_type": "code",
   "execution_count": 13,
   "id": "4eff66df",
   "metadata": {},
   "outputs": [
    {
     "name": "stdout",
     "output_type": "stream",
     "text": [
      "Document 1:\n",
      "\n",
      "This paper presents the results of primary productivity measurements of P. lanceolata samples collected near and away from the outfall. Some hypotheses are made with respect to the sewage's effect on the primary productivity.\n"
     ]
    }
   ],
   "source": [
    "compressed_docs = compression_retriever.get_relevant_documents(\"Write a one sentence summary of the purpose of the paper\")\n",
    "\n",
    "pretty_print_docs(compressed_docs)\n"
   ]
  },
  {
   "cell_type": "code",
   "execution_count": 14,
   "id": "e23e98ac",
   "metadata": {},
   "outputs": [
    {
     "name": "stdout",
     "output_type": "stream",
     "text": [
      "Document 1:\n",
      "\n",
      "This paper presents the results of primary productivity measurements of P. lanceolata samples collected near and away from the outfall.\n",
      "----------------------------------------------------------------------------------------------------\n",
      "Document 2:\n",
      "\n",
      "Collection of samples\n",
      "Prionitis lanceolata was collected, labeled\n",
      "with the collection site sample number (eege, 50-b),\n",
      "and placed in plastic bags for transport to the lab.\n",
      "The location, time of collection, tidal conditions,\n",
      "and a deseription of the algae and the collection\n",
      "site were all noted on a collection sheet (appendix).\n"
     ]
    }
   ],
   "source": [
    "compressed_docs = compression_retriever.get_relevant_documents(\"Terms that may be used to identify an observation include “in the field”, “this study”, “observed”, “taken”, “collected”, “sampled”, “collection”, “seen”, “harvested”, “found”, etc. Does the paper include one or more observations?\")\n",
    "\n",
    "pretty_print_docs(compressed_docs)\n"
   ]
  },
  {
   "cell_type": "code",
   "execution_count": 15,
   "id": "a541ba5e",
   "metadata": {},
   "outputs": [
    {
     "name": "stdout",
     "output_type": "stream",
     "text": [
      "Document 1:\n",
      "\n",
      "This paper presents the results of primary productivity measurements of P. lanceolata samples collected near and away from the outfall.\n",
      "----------------------------------------------------------------------------------------------------\n",
      "Document 2:\n",
      "\n",
      "The benthic red alga Prionitis lanceolata Harvey shows an increased primary productivity in the outfall canyon of the Carmel, California, marine sewage outfall. At a distance of twenty meters from the outfall this productivity shows a large reduction before again rising to a high value at approximately 20 to 4O meters. The differing productivities of samples from Mission Point, Monastery Beach, and Cabrillo Point (Hopkins Marine Station) are compared in relation to the currents which were found.\n",
      "----------------------------------------------------------------------------------------------------\n",
      "Document 3:\n",
      "\n",
      "This alga has been found in very close proximity to the marine sewage outfalls of Carmel and Pacific Grove, and for this reason was chosen as an experimental tool of marine sewage pollution study.\n"
     ]
    }
   ],
   "source": [
    "compressed_docs = compression_retriever.get_relevant_documents(\"Does this paper contain observational or experimental research conducted in the natural environment or with organisms collected in nature?\")\n",
    "\n",
    "pretty_print_docs(compressed_docs)\n"
   ]
  },
  {
   "cell_type": "code",
   "execution_count": 16,
   "id": "050a58c0",
   "metadata": {},
   "outputs": [
    {
     "name": "stdout",
     "output_type": "stream",
     "text": [
      "Document 1:\n",
      "\n",
      "Prionitis lanceolata Harvey is a species of benthic red algae which is widely distributed in the Monterey Bay, California, intertidal regions, generally occurring in the +1.0 to -1.5 foot tide levels.\n",
      "----------------------------------------------------------------------------------------------------\n",
      "Document 2:\n",
      "\n",
      "Prionitis lanceolata Harvey\n",
      "----------------------------------------------------------------------------------------------------\n",
      "Document 3:\n",
      "\n",
      "Prionitis lanceolata\n",
      "----------------------------------------------------------------------------------------------------\n",
      "Document 4:\n",
      "\n",
      "sewage outfalls.\n",
      "P. lanceolata samples\n",
      "sewage's effect on the primary productivity.\n",
      "benthic marine algae.\n",
      "MATERIALS AND METHODS\n",
      "dispersion behavior of the sewage\n",
      "immediate outfall area\n"
     ]
    }
   ],
   "source": [
    "compressed_docs = compression_retriever.get_relevant_documents(\"What are the scientific names of the species mentioned in this paper?\")\n",
    "\n",
    "pretty_print_docs(compressed_docs)\n"
   ]
  },
  {
   "cell_type": "code",
   "execution_count": 17,
   "id": "43b97aab",
   "metadata": {},
   "outputs": [
    {
     "name": "stdout",
     "output_type": "stream",
     "text": [
      "Document 1:\n",
      "\n",
      "The paper mentions the collection of samples and the location, time of collection, and a description of the algae and the collection site were all noted on a collection sheet.\n",
      "----------------------------------------------------------------------------------------------------\n",
      "Document 2:\n",
      "\n",
      "This paper presents the results of primary productivity measurements of P. lanceolata samples collected near and away from the outfall.\n",
      "----------------------------------------------------------------------------------------------------\n",
      "Document 3:\n",
      "\n",
      "The benthic red alga Prionitis lanceolata Harvey shows an increased primary productivity in the outfall canyon of the Carmel, California, marine sewage outfall. The differing productivities of samples from Mission Point, Monastery Beach, and Cabrillo Point (Hopkins Marine Station) are compared in relation to the currents which were found.\n"
     ]
    }
   ],
   "source": [
    "compressed_docs = compression_retriever.get_relevant_documents(\"Does the paper mention where the species were observed or collected, and if so, what locations are given?\")\n",
    "pretty_print_docs(compressed_docs)\n"
   ]
  },
  {
   "cell_type": "code",
   "execution_count": 18,
   "id": "6548ede5",
   "metadata": {},
   "outputs": [
    {
     "name": "stdout",
     "output_type": "stream",
     "text": [
      "Document 1:\n",
      "\n",
      "A map of the entire Carmel Bay area, partially represented in figures 3, 4, was obtained from the California State Department of Beaches and Parks.\n",
      "----------------------------------------------------------------------------------------------------\n",
      "Document 2:\n",
      "\n",
      "The benthic red alga Prionitis lanceolata Harvey shows an increased primary productivity in the outfall canyon of the Carmel, California, marine sewage outfall. At a distance of twenty meters from the outfall this productivity shows a large reduction before again rising to a high value at approximately 20 to 4O meters. The differing productivities of samples from Mission Point, Monastery Beach, and Cabrillo Point (Hopkins Marine Station) are compared in relation to the currents which were found.\n"
     ]
    }
   ],
   "source": [
    "compressed_docs = compression_retriever.get_relevant_documents(\"Can you give a more specific location?\")\n",
    "pretty_print_docs(compressed_docs)\n"
   ]
  },
  {
   "cell_type": "code",
   "execution_count": 19,
   "id": "10be97ef",
   "metadata": {},
   "outputs": [
    {
     "name": "stdout",
     "output_type": "stream",
     "text": [
      "\n"
     ]
    }
   ],
   "source": [
    "compressed_docs = compression_retriever.get_relevant_documents(\"Are any coordinate locations given in latitude / longitude, and if so, what are they?\")\n",
    "pretty_print_docs(compressed_docs)\n"
   ]
  },
  {
   "cell_type": "code",
   "execution_count": 20,
   "id": "7652a63b",
   "metadata": {},
   "outputs": [
    {
     "name": "stdout",
     "output_type": "stream",
     "text": [
      "Document 1:\n",
      "\n",
      "The benthic red alga Prionitis lanceolata Harvey shows an increased primary productivity in the outfall canyon of the Carmel, California, marine sewage outfall.\n",
      "----------------------------------------------------------------------------------------------------\n",
      "Document 2:\n",
      "\n",
      "Monterey Bay, California, intertidal regions\n",
      "----------------------------------------------------------------------------------------------------\n",
      "Document 3:\n",
      "\n",
      "sewage outfalls\n",
      "----------------------------------------------------------------------------------------------------\n",
      "Document 4:\n",
      "\n",
      "Monastery Beach compared to those found for the algae at Mission Point to the north and the HMS control.\n"
     ]
    }
   ],
   "source": [
    "compressed_docs = compression_retriever.get_relevant_documents(\"In what habitat were the species found?\")\n",
    "pretty_print_docs(compressed_docs)\n"
   ]
  },
  {
   "cell_type": "code",
   "execution_count": 21,
   "id": "12c1d7e2",
   "metadata": {},
   "outputs": [
    {
     "name": "stdout",
     "output_type": "stream",
     "text": [
      "Document 1:\n",
      "\n",
      "The location, time of collection, tidal conditions, and a description of the algae and the collection site were all noted on a collection sheet (appendix).\n"
     ]
    }
   ],
   "source": [
    "compressed_docs = compression_retriever.get_relevant_documents(\"Does the paper mention a year, date and/or time that species were collected or observed, and if so, what was mentioned?\")\n",
    "pretty_print_docs(compressed_docs)\n"
   ]
  },
  {
   "cell_type": "code",
   "execution_count": 22,
   "id": "6f3c21ff",
   "metadata": {},
   "outputs": [
    {
     "name": "stdout",
     "output_type": "stream",
     "text": [
      "Document 1:\n",
      "\n",
      "A gridded map (figure 1) greatly aided in location and identification of algal samples.\n",
      "A map of the entire Carmel Bay area, partially represented in figures 3, 4, was obtained from the California State Department of Beaches and Parks.\n",
      "Compass readings (figure 2, tables I, II) were made at timed intervals from a suitable reference point. The bottles' actions were then plotted using this information (figures 3, 4).\n",
      "----------------------------------------------------------------------------------------------------\n",
      "Document 2:\n",
      "\n",
      "Figure 2. All readings in tables I and II are in\n",
      "degrees east of North. Recovered\n",
      "bottles are designated * .\n",
      "Figure 3. The initial positions and end points of the\n",
      "bottles in current study 1 are designated @.\n",
      "Recovery points are indicated by LA °\n",
      "Scale 1:10,000\n",
      "Figure 4. Initial and end positions of the marked\n",
      "bottles are indicated by MJ in current\n",
      "study 2. Recovered bottles are marked A ps\n",
      "@ Secale 1:10,000\n",
      ", Figure 5. Currents in the area immediate to the\n",
      "outfall are indicated by the heavy black\n",
      "arrowse Note the trend for the currents to\n",
      "move across the outfall to the south and\n",
      "generally miss the southern end of the\n",
      "rocky area. Scale 1:20\n"
     ]
    }
   ],
   "source": [
    "compressed_docs = compression_retriever.get_relevant_documents(\"Are there any maps, figures, tables or diagrams in the paper?\")\n",
    "pretty_print_docs(compressed_docs)\n"
   ]
  },
  {
   "cell_type": "code",
   "execution_count": 11,
   "id": "a5a99051",
   "metadata": {},
   "outputs": [],
   "source": [
    "query = \"What is this paper about?\"\n",
    "query2 = \"Summarize the paper concisely with reference to materials and methods.\"\n",
    "query3 = \"Write a one sentence summary of the purpose of the paper\"\n",
    "query4 = \"Terms that may be used to identify an observation include “in the field”, “this study”, “observed”, “taken”, “collected”, “sampled”, “collection”, “seen”, “harvested”, “found”, etc. Does the paper include one or more observations?\"\n",
    "query5 = \"Does this paper contain observational or experimental research conducted in the natural environment or with organisms collected in nature?\"\n",
    "query6 = \"What are the scientific names of the species mentioned in this paper?\"\n",
    "query7 = \"Does the paper mention where the species were observed or collected, and if so, what locations are given?\"\n",
    "query8 = \"Can you give a more specific location?\"\n",
    "query9 = \"Are any coordinate locations given in latitude / longitude, and if so, what are they?\"\n",
    "query10 = \"In what habitat were the species found?\"\n",
    "query11 = \"Does the paper mention a year, date and/or time that species were collected or observed, and if so, what was mentioned?\"\n",
    "query12 = \"Are there any maps, figures, tables or diagrams in the paper?\""
   ]
  },
  {
   "cell_type": "markdown",
   "id": "68f1c7a2",
   "metadata": {},
   "source": [
    "## Custom Prompts\n",
    "\n",
    "You can pass in custom prompts to do question answering. These prompts are the same prompts as you can pass into the base question answering chain"
   ]
  },
  {
   "cell_type": "code",
   "execution_count": 28,
   "id": "420b783a",
   "metadata": {},
   "outputs": [],
   "source": [
    "# Build prompt\n",
    "template = \"\"\"Use the following pieces of context to answer the question at the end. If you don't know the answer, just say that you don't know, don't try to make up an answer. Use three sentences maximum. Keep the answer as concise as possible. \n",
    "Avoid pulling context from the literature cited section starting on page 10\n",
    "{context}\n",
    "Question: {question}\n",
    "Helpful Answer:\"\"\"\n",
    "QA_CHAIN_PROMPT = PromptTemplate.from_template(template)\n"
   ]
  },
  {
   "cell_type": "markdown",
   "id": "a4c71442",
   "metadata": {},
   "source": [
    "# RetrievalQA w/o Contextual Compression & Prompting\n",
    "\n",
    "The RetrievalQAChain is a chain that combines a Retriever and a QA chain (described above). It is used to retrieve documents from a Retriever and then use a QA chain to answer a question based on the retrieved documents.\n",
    "\n",
    "Here we used \"stuff\" chain type which is the most straightforward of the document chains. It takes a list of documents, inserts them all into a prompt and passes that prompt to an LLM.\n",
    "\n",
    "We didnt wrap our retriever with Contextual Compression as to compare the results.\n",
    " "
   ]
  },
  {
   "cell_type": "code",
   "execution_count": 59,
   "id": "8d9d2712",
   "metadata": {},
   "outputs": [],
   "source": [
    "llm = ChatOpenAI(temperature=0, model_name='gpt-3.5-turbo')\n",
    "\n",
    "qa_chain_stuff = RetrievalQA.from_chain_type(llm, retriever = vector_store, chain_type = \"stuff\",chain_type_kwargs = {\"prompt\": QA_CHAIN_PROMPT})"
   ]
  },
  {
   "cell_type": "code",
   "execution_count": 75,
   "id": "977a4f59",
   "metadata": {},
   "outputs": [],
   "source": [
    "result = qa_chain_stuff({\"query\": query})"
   ]
  },
  {
   "cell_type": "code",
   "execution_count": 76,
   "id": "403450c1",
   "metadata": {},
   "outputs": [
    {
     "data": {
      "text/plain": [
       "'This paper is about the mechanics of fiddler crab claws and the need for future studies to improve experimental design and methodology.'"
      ]
     },
     "execution_count": 76,
     "metadata": {},
     "output_type": "execute_result"
    }
   ],
   "source": [
    "result[\"result\"]"
   ]
  },
  {
   "cell_type": "code",
   "execution_count": 77,
   "id": "8afdc27b",
   "metadata": {},
   "outputs": [],
   "source": [
    "result2 = qa_chain_stuff({\"query\": query2})"
   ]
  },
  {
   "cell_type": "code",
   "execution_count": 78,
   "id": "06617211",
   "metadata": {},
   "outputs": [
    {
     "data": {
      "text/plain": [
       "'The paper discusses the need for future studies to address logistical issues and increase replication. It also suggests using multivariate and geometric morphometric methods to quantify claw shape instead of ratios. The acknowledgements section mentions individuals and organizations that provided advice and financial support for the study.'"
      ]
     },
     "execution_count": 78,
     "metadata": {},
     "output_type": "execute_result"
    }
   ],
   "source": [
    "result2[\"result\"]"
   ]
  },
  {
   "cell_type": "code",
   "execution_count": 79,
   "id": "6ed0fff2",
   "metadata": {},
   "outputs": [],
   "source": [
    "result3 = qa_chain_stuff({\"query\": query3})"
   ]
  },
  {
   "cell_type": "code",
   "execution_count": 80,
   "id": "f97918d3",
   "metadata": {},
   "outputs": [
    {
     "data": {
      "text/plain": [
       "'The purpose of the paper is to discuss the logistical issues and limitations of a previous study on fiddler crab claw shape and suggest improvements for future studies.'"
      ]
     },
     "execution_count": 80,
     "metadata": {},
     "output_type": "execute_result"
    }
   ],
   "source": [
    "result3[\"result\"]"
   ]
  },
  {
   "cell_type": "code",
   "execution_count": 81,
   "id": "0e0aa5ba",
   "metadata": {},
   "outputs": [],
   "source": [
    "result4 = qa_chain_stuff({\"query\": query4})"
   ]
  },
  {
   "cell_type": "code",
   "execution_count": 82,
   "id": "cac34f35",
   "metadata": {},
   "outputs": [
    {
     "data": {
      "text/plain": [
       "\"I don't know.\""
      ]
     },
     "execution_count": 82,
     "metadata": {},
     "output_type": "execute_result"
    }
   ],
   "source": [
    "result4[\"result\"]"
   ]
  },
  {
   "cell_type": "code",
   "execution_count": 83,
   "id": "a9e2f142",
   "metadata": {},
   "outputs": [],
   "source": [
    "result5 = qa_chain_stuff({\"query\": query5})"
   ]
  },
  {
   "cell_type": "code",
   "execution_count": 84,
   "id": "600010c6",
   "metadata": {},
   "outputs": [
    {
     "data": {
      "text/plain": [
       "'This paper contains experimental research conducted with organisms collected in nature.'"
      ]
     },
     "execution_count": 84,
     "metadata": {},
     "output_type": "execute_result"
    }
   ],
   "source": [
    "result5[\"result\"]"
   ]
  },
  {
   "cell_type": "code",
   "execution_count": 85,
   "id": "eb6439c4",
   "metadata": {},
   "outputs": [],
   "source": [
    "result6 = qa_chain_stuff({\"query\": query6})"
   ]
  },
  {
   "cell_type": "code",
   "execution_count": 86,
   "id": "e83cee54",
   "metadata": {},
   "outputs": [
    {
     "data": {
      "text/plain": [
       "'Hemigrapsus nudus, Hemigrapsus orogenensis, Littorina scutulata, Lacuna vincta.'"
      ]
     },
     "execution_count": 86,
     "metadata": {},
     "output_type": "execute_result"
    }
   ],
   "source": [
    "result6[\"result\"]"
   ]
  },
  {
   "cell_type": "code",
   "execution_count": 87,
   "id": "ec408379",
   "metadata": {},
   "outputs": [],
   "source": [
    "result7 = qa_chain_stuff({\"query\": query7})"
   ]
  },
  {
   "cell_type": "code",
   "execution_count": 88,
   "id": "95593715",
   "metadata": {},
   "outputs": [
    {
     "data": {
      "text/plain": [
       "'The paper mentions that the study was conducted at Friday Harbor Laboratories, University of Washington, Friday Harbor, WA 98250.'"
      ]
     },
     "execution_count": 88,
     "metadata": {},
     "output_type": "execute_result"
    }
   ],
   "source": [
    "result7[\"result\"]"
   ]
  },
  {
   "cell_type": "code",
   "execution_count": 89,
   "id": "35227f83",
   "metadata": {},
   "outputs": [],
   "source": [
    "result8 = qa_chain_stuff({\"query\": query8})"
   ]
  },
  {
   "cell_type": "code",
   "execution_count": 90,
   "id": "353a4a61",
   "metadata": {},
   "outputs": [
    {
     "data": {
      "text/plain": [
       "'No, the specific location is not provided in the given context.'"
      ]
     },
     "execution_count": 90,
     "metadata": {},
     "output_type": "execute_result"
    }
   ],
   "source": [
    "result8[\"result\"]"
   ]
  },
  {
   "cell_type": "code",
   "execution_count": 91,
   "id": "69fec17c",
   "metadata": {},
   "outputs": [],
   "source": [
    "result9 = qa_chain_stuff({\"query\": query9})"
   ]
  },
  {
   "cell_type": "code",
   "execution_count": 92,
   "id": "ff4fe0b1",
   "metadata": {},
   "outputs": [
    {
     "data": {
      "text/plain": [
       "'No, there are no coordinate locations given in latitude/longitude.'"
      ]
     },
     "execution_count": 92,
     "metadata": {},
     "output_type": "execute_result"
    }
   ],
   "source": [
    "result9[\"result\"]"
   ]
  },
  {
   "cell_type": "code",
   "execution_count": 93,
   "id": "9acc83bc",
   "metadata": {},
   "outputs": [],
   "source": [
    "result10 = qa_chain_stuff({\"query\": query10})"
   ]
  },
  {
   "cell_type": "code",
   "execution_count": 94,
   "id": "d8d2eef9",
   "metadata": {},
   "outputs": [
    {
     "data": {
      "text/plain": [
       "'The species were found in the rocky intertidal zone.'"
      ]
     },
     "execution_count": 94,
     "metadata": {},
     "output_type": "execute_result"
    }
   ],
   "source": [
    "result10[\"result\"]"
   ]
  },
  {
   "cell_type": "code",
   "execution_count": 95,
   "id": "86ae5250",
   "metadata": {},
   "outputs": [],
   "source": [
    "result11 = qa_chain_stuff({\"query\": query11})"
   ]
  },
  {
   "cell_type": "code",
   "execution_count": 96,
   "id": "fce0b43f",
   "metadata": {},
   "outputs": [
    {
     "data": {
      "text/plain": [
       "'No, the paper does not mention a year, date, or time that species were collected or observed.'"
      ]
     },
     "execution_count": 96,
     "metadata": {},
     "output_type": "execute_result"
    }
   ],
   "source": [
    "result11[\"result\"]"
   ]
  },
  {
   "cell_type": "code",
   "execution_count": 97,
   "id": "1e612d0e",
   "metadata": {},
   "outputs": [],
   "source": [
    "result12 = qa_chain_stuff({\"query\": query12})"
   ]
  },
  {
   "cell_type": "code",
   "execution_count": 98,
   "id": "baf763bf",
   "metadata": {},
   "outputs": [
    {
     "data": {
      "text/plain": [
       "'Yes, there is a figure in the paper.'"
      ]
     },
     "execution_count": 98,
     "metadata": {},
     "output_type": "execute_result"
    }
   ],
   "source": [
    "result12[\"result\"]"
   ]
  },
  {
   "cell_type": "markdown",
   "id": "3f82f849",
   "metadata": {},
   "source": [
    "# RetrievalQA with Contextual Compression"
   ]
  },
  {
   "cell_type": "code",
   "execution_count": 56,
   "id": "76761c88",
   "metadata": {},
   "outputs": [],
   "source": [
    "compressor = LLMChainExtractor.from_llm(llm)\n",
    "\n",
    "compression_retriever = ContextualCompressionRetriever(base_compressor = compressor,base_retriever=vector_store)"
   ]
  },
  {
   "cell_type": "code",
   "execution_count": 58,
   "id": "61a796ed",
   "metadata": {},
   "outputs": [],
   "source": [
    "qa_chain_stuff_compressed = RetrievalQA.from_chain_type(llm, retriever = compression_retriever, chain_type = \"stuff\",chain_type_kwargs = {\"prompt\": QA_CHAIN_PROMPT})\n"
   ]
  },
  {
   "cell_type": "code",
   "execution_count": 60,
   "id": "0025bd11",
   "metadata": {},
   "outputs": [],
   "source": [
    "result1a = qa_chain_stuff_compressed({\"query\": query})"
   ]
  },
  {
   "cell_type": "code",
   "execution_count": 61,
   "id": "9c8f13b5",
   "metadata": {},
   "outputs": [
    {
     "data": {
      "text/plain": [
       "'This paper is about the differences in chela size between Hemigrapsus nudus and Hemigrapsus oregonensis and how it relates to snail predation.'"
      ]
     },
     "execution_count": 61,
     "metadata": {},
     "output_type": "execute_result"
    }
   ],
   "source": [
    "result1a[\"result\"]"
   ]
  },
  {
   "cell_type": "code",
   "execution_count": 62,
   "id": "a97c55bd",
   "metadata": {},
   "outputs": [],
   "source": [
    "result2a = qa_chain_stuff_compressed({\"query\": query2})"
   ]
  },
  {
   "cell_type": "code",
   "execution_count": 63,
   "id": "5e32918d",
   "metadata": {},
   "outputs": [
    {
     "data": {
      "text/plain": [
       "'The paper discusses the limitations of a previous study due to logistical issues and lack of replication. It suggests that future studies should include more crabs, exclude non-feeding crabs, and have longer trial periods. Additionally, it recommends using multivariate and geometric morphometric methods to quantify claw shape instead of ratios.'"
      ]
     },
     "execution_count": 63,
     "metadata": {},
     "output_type": "execute_result"
    }
   ],
   "source": [
    "result2a[\"result\"]"
   ]
  },
  {
   "cell_type": "code",
   "execution_count": 65,
   "id": "6d309df7",
   "metadata": {},
   "outputs": [],
   "source": [
    "result3a = qa_chain_stuff_compressed({\"query\": query3})"
   ]
  },
  {
   "cell_type": "code",
   "execution_count": 66,
   "id": "d23d134e",
   "metadata": {},
   "outputs": [
    {
     "data": {
      "text/plain": [
       "'The purpose of the paper is to address the limitations of a previous study and propose improvements for future studies on crab feeding behavior and claw shape.'"
      ]
     },
     "execution_count": 66,
     "metadata": {},
     "output_type": "execute_result"
    }
   ],
   "source": [
    "result3a[\"result\"]"
   ]
  },
  {
   "cell_type": "code",
   "execution_count": 67,
   "id": "726feb5b",
   "metadata": {},
   "outputs": [],
   "source": [
    "result4a = qa_chain_stuff_compressed({\"query\": query4})"
   ]
  },
  {
   "cell_type": "code",
   "execution_count": 68,
   "id": "379af601",
   "metadata": {},
   "outputs": [
    {
     "data": {
      "text/plain": [
       "'Yes, the paper includes one or more observations.'"
      ]
     },
     "execution_count": 68,
     "metadata": {},
     "output_type": "execute_result"
    }
   ],
   "source": [
    "result4a[\"result\"]"
   ]
  },
  {
   "cell_type": "code",
   "execution_count": 69,
   "id": "8d9d4a35",
   "metadata": {},
   "outputs": [],
   "source": [
    "result5a = qa_chain_stuff_compressed({\"query\": query5})"
   ]
  },
  {
   "cell_type": "code",
   "execution_count": 70,
   "id": "cc7c66fe",
   "metadata": {},
   "outputs": [
    {
     "data": {
      "text/plain": [
       "'This paper contains both observational and experimental research conducted in the natural environment or with organisms collected in nature.'"
      ]
     },
     "execution_count": 70,
     "metadata": {},
     "output_type": "execute_result"
    }
   ],
   "source": [
    "result5a[\"result\"]"
   ]
  },
  {
   "cell_type": "code",
   "execution_count": 71,
   "id": "03f794d1",
   "metadata": {},
   "outputs": [],
   "source": [
    "result6a = qa_chain_stuff_compressed({\"query\": query6})"
   ]
  },
  {
   "cell_type": "code",
   "execution_count": 72,
   "id": "650a6f40",
   "metadata": {},
   "outputs": [
    {
     "data": {
      "text/plain": [
       "'Hemigrapsus nudus and Hemigrapsus oregonensis.'"
      ]
     },
     "execution_count": 72,
     "metadata": {},
     "output_type": "execute_result"
    }
   ],
   "source": [
    "result6a[\"result\"]"
   ]
  },
  {
   "cell_type": "code",
   "execution_count": 73,
   "id": "973ae708",
   "metadata": {},
   "outputs": [],
   "source": [
    "result7a = qa_chain_stuff_compressed({\"query\": query7})"
   ]
  },
  {
   "cell_type": "code",
   "execution_count": 74,
   "id": "9eea20a3",
   "metadata": {},
   "outputs": [
    {
     "data": {
      "text/plain": [
       "'The paper mentions that the species were observed and collected in Elkhorn Slough, Monterey County, California.'"
      ]
     },
     "execution_count": 74,
     "metadata": {},
     "output_type": "execute_result"
    }
   ],
   "source": [
    "result7a[\"result\"]"
   ]
  },
  {
   "cell_type": "code",
   "execution_count": 75,
   "id": "2d1ca6d8",
   "metadata": {},
   "outputs": [],
   "source": [
    "result8a = qa_chain_stuff_compressed({\"query\": query8})"
   ]
  },
  {
   "cell_type": "code",
   "execution_count": 76,
   "id": "cf752272",
   "metadata": {},
   "outputs": [
    {
     "data": {
      "text/plain": [
       "\"I don't know.\""
      ]
     },
     "execution_count": 76,
     "metadata": {},
     "output_type": "execute_result"
    }
   ],
   "source": [
    "result8a[\"result\"]"
   ]
  },
  {
   "cell_type": "code",
   "execution_count": 77,
   "id": "e81afddd",
   "metadata": {},
   "outputs": [],
   "source": [
    "result9a = qa_chain_stuff_compressed({\"query\": query9})"
   ]
  },
  {
   "cell_type": "code",
   "execution_count": 78,
   "id": "ed762930",
   "metadata": {},
   "outputs": [
    {
     "data": {
      "text/plain": [
       "'No, there are no coordinate locations given in latitude/longitude.'"
      ]
     },
     "execution_count": 78,
     "metadata": {},
     "output_type": "execute_result"
    }
   ],
   "source": [
    "result9a[\"result\"]"
   ]
  },
  {
   "cell_type": "code",
   "execution_count": 79,
   "id": "e24558f2",
   "metadata": {},
   "outputs": [],
   "source": [
    "result10a = qa_chain_stuff_compressed({\"query\": query10})"
   ]
  },
  {
   "cell_type": "code",
   "execution_count": 80,
   "id": "b442cc74",
   "metadata": {},
   "outputs": [
    {
     "data": {
      "text/plain": [
       "'The species Lacuna vincta were found in False Bay and Dead Man Cove. The species Littorina scutulata were found in the rocky intertidal zone of Fourth of July Beach.'"
      ]
     },
     "execution_count": 80,
     "metadata": {},
     "output_type": "execute_result"
    }
   ],
   "source": [
    "result10a['result']"
   ]
  },
  {
   "cell_type": "code",
   "execution_count": 82,
   "id": "6d699009",
   "metadata": {},
   "outputs": [],
   "source": [
    "result11a = qa_chain_stuff_compressed({\"query\": query11})"
   ]
  },
  {
   "cell_type": "code",
   "execution_count": 83,
   "id": "23260ea3",
   "metadata": {},
   "outputs": [
    {
     "data": {
      "text/plain": [
       "'The paper does not mention a year, date, or time that species were collected or observed.'"
      ]
     },
     "execution_count": 83,
     "metadata": {},
     "output_type": "execute_result"
    }
   ],
   "source": [
    "result11a[\"result\"]"
   ]
  },
  {
   "cell_type": "code",
   "execution_count": 84,
   "id": "79a193ed",
   "metadata": {},
   "outputs": [],
   "source": [
    "result12a = qa_chain_stuff_compressed({\"query\": query12})"
   ]
  },
  {
   "cell_type": "code",
   "execution_count": 85,
   "id": "cfacc364",
   "metadata": {
    "scrolled": true
   },
   "outputs": [
    {
     "data": {
      "text/plain": [
       "'Yes, there are figures (Figure 1 and Figure 2) and tables (Table 1A and Table 1B) in the paper.'"
      ]
     },
     "execution_count": 85,
     "metadata": {},
     "output_type": "execute_result"
    }
   ],
   "source": [
    "result12a[\"result\"]"
   ]
  },
  {
   "cell_type": "markdown",
   "id": "e4d9cc9b",
   "metadata": {},
   "source": [
    "# RetrievalQA (Stuff) w/ Contextual Compression  & Source Document\n",
    "\n",
    "Additionally, we can return the source documents used to answer the question by specifying an optional parameter when constructing the chain."
   ]
  },
  {
   "cell_type": "code",
   "execution_count": 132,
   "id": "c6f936f7",
   "metadata": {},
   "outputs": [],
   "source": [
    "qa_chain_stuff_compressed_source = RetrievalQA.from_chain_type(llm, retriever = compression_retriever, chain_type = \"stuff\",chain_type_kwargs = {\"prompt\": QA_CHAIN_PROMPT}, return_source_documents = True)\n"
   ]
  },
  {
   "cell_type": "code",
   "execution_count": 133,
   "id": "acbed16b",
   "metadata": {},
   "outputs": [],
   "source": [
    "result1b = qa_chain_stuff_compressed_source({\"query\": query})"
   ]
  },
  {
   "cell_type": "code",
   "execution_count": 134,
   "id": "5f4d5f30",
   "metadata": {},
   "outputs": [
    {
     "data": {
      "text/plain": [
       "'This paper is about the variation in the mechanics of fiddler crab claws and the need for future studies to include more crabs, exclude non-feeding crabs, and use multivariate and geometric morphometric methods to quantify claw shape.'"
      ]
     },
     "execution_count": 134,
     "metadata": {},
     "output_type": "execute_result"
    }
   ],
   "source": [
    "result1b[\"result\"]"
   ]
  },
  {
   "cell_type": "code",
   "execution_count": 135,
   "id": "8a8f34b1",
   "metadata": {},
   "outputs": [
    {
     "data": {
      "text/plain": [
       "[Document(page_content='Evolutionary variation in the mechanics of fiddler crab claws.', metadata={'source': 'hms/fhl_2014_Charifson_34622 (1).pdf', 'file_path': 'hms/fhl_2014_Charifson_34622 (1).pdf', 'page': 11, 'total_pages': 19, 'format': 'PDF 1.5', 'title': '', 'author': 'David', 'subject': '', 'keywords': '', 'creator': 'Microsoft® Office Word 2007', 'producer': 'Microsoft® Office Word 2007', 'creationDate': \"D:20140723120649-04'00'\", 'modDate': \"D:20140723120649-04'00'\", 'trapped': ''}),\n",
       " Document(page_content='due to logistical issues surrounding the experimental design and little replication. Future studies should include more crabs, the exclusion of non-feeding crabs, and trial periods with longer time intervals. Additionally, any subsequent study should utilize multivariate and geometric morphometric methods to quantify claw shape instead of using ratios, as two similar ratios may have different shape.', metadata={'source': 'hms/fhl_2014_Charifson_34622 (1).pdf', 'file_path': 'hms/fhl_2014_Charifson_34622 (1).pdf', 'page': 9, 'total_pages': 19, 'format': 'PDF 1.5', 'title': '', 'author': 'David', 'subject': '', 'keywords': '', 'creator': 'Microsoft® Office Word 2007', 'producer': 'Microsoft® Office Word 2007', 'creationDate': \"D:20140723120649-04'00'\", 'modDate': \"D:20140723120649-04'00'\", 'trapped': ''}),\n",
       " Document(page_content='Snail Predation by Hemigrapsus nudus and Hemigrapsus oregonensis: Sex and Species \\nDifferences in Chela Size.', metadata={'source': 'hms/fhl_2014_Charifson_34622 (1).pdf', 'file_path': 'hms/fhl_2014_Charifson_34622 (1).pdf', 'page': 0, 'total_pages': 19, 'format': 'PDF 1.5', 'title': '', 'author': 'David', 'subject': '', 'keywords': '', 'creator': 'Microsoft® Office Word 2007', 'producer': 'Microsoft® Office Word 2007', 'creationDate': \"D:20140723120649-04'00'\", 'modDate': \"D:20140723120649-04'00'\", 'trapped': ''})]"
      ]
     },
     "execution_count": 135,
     "metadata": {},
     "output_type": "execute_result"
    }
   ],
   "source": [
    "result1b[\"source_documents\"]"
   ]
  },
  {
   "cell_type": "code",
   "execution_count": 136,
   "id": "09375c0c",
   "metadata": {},
   "outputs": [],
   "source": [
    "result2b = qa_chain_stuff_compressed_source({\"query\": query2})"
   ]
  },
  {
   "cell_type": "code",
   "execution_count": 137,
   "id": "d454cb68",
   "metadata": {},
   "outputs": [
    {
     "data": {
      "text/plain": [
       "'The paper discusses the limitations of the experimental design and suggests improvements for future studies, such as increasing the number of crabs and excluding non-feeding individuals. It also recommends using multivariate and geometric morphometric methods to quantify claw shape instead of ratios. The paper references Table 1B for descriptive statistics.'"
      ]
     },
     "execution_count": 137,
     "metadata": {},
     "output_type": "execute_result"
    }
   ],
   "source": [
    "result2b[\"result\"]"
   ]
  },
  {
   "cell_type": "code",
   "execution_count": 138,
   "id": "a5939388",
   "metadata": {},
   "outputs": [
    {
     "data": {
      "text/plain": [
       "[Document(page_content='due to logistical issues surrounding the experimental design and little replication. Future studies should include more crabs, the exclusion of non-feeding crabs, and trial periods with longer time intervals. Additionally, any subsequent study should utilize multivariate and geometric morphometric methods to quantify claw shape instead of using ratios, as two similar ratios may have different shape.', metadata={'source': 'hms/fhl_2014_Charifson_34622 (1).pdf', 'file_path': 'hms/fhl_2014_Charifson_34622 (1).pdf', 'page': 9, 'total_pages': 19, 'format': 'PDF 1.5', 'title': '', 'author': 'David', 'subject': '', 'keywords': '', 'creator': 'Microsoft® Office Word 2007', 'producer': 'Microsoft® Office Word 2007', 'creationDate': \"D:20140723120649-04'00'\", 'modDate': \"D:20140723120649-04'00'\", 'trapped': ''}),\n",
       " Document(page_content='Charifson 12', metadata={'source': 'hms/fhl_2014_Charifson_34622 (1).pdf', 'file_path': 'hms/fhl_2014_Charifson_34622 (1).pdf', 'page': 11, 'total_pages': 19, 'format': 'PDF 1.5', 'title': '', 'author': 'David', 'subject': '', 'keywords': '', 'creator': 'Microsoft® Office Word 2007', 'producer': 'Microsoft® Office Word 2007', 'creationDate': \"D:20140723120649-04'00'\", 'modDate': \"D:20140723120649-04'00'\", 'trapped': ''}),\n",
       " Document(page_content='Table 1B for descriptive statistics.', metadata={'source': 'hms/fhl_2014_Charifson_34622 (1).pdf', 'file_path': 'hms/fhl_2014_Charifson_34622 (1).pdf', 'page': 15, 'total_pages': 19, 'format': 'PDF 1.5', 'title': '', 'author': 'David', 'subject': '', 'keywords': '', 'creator': 'Microsoft® Office Word 2007', 'producer': 'Microsoft® Office Word 2007', 'creationDate': \"D:20140723120649-04'00'\", 'modDate': \"D:20140723120649-04'00'\", 'trapped': ''})]"
      ]
     },
     "execution_count": 138,
     "metadata": {},
     "output_type": "execute_result"
    }
   ],
   "source": [
    "result2b[\"source_documents\"]"
   ]
  },
  {
   "cell_type": "code",
   "execution_count": 139,
   "id": "a569ac84",
   "metadata": {},
   "outputs": [],
   "source": [
    "result3b = qa_chain_stuff_compressed_source({\"query\": query3})"
   ]
  },
  {
   "cell_type": "code",
   "execution_count": 140,
   "id": "f92a6a66",
   "metadata": {},
   "outputs": [
    {
     "data": {
      "text/plain": [
       "'The purpose of the paper is to identify the factors that should be considered in future studies on crab feeding behavior and claw shape.'"
      ]
     },
     "execution_count": 140,
     "metadata": {},
     "output_type": "execute_result"
    }
   ],
   "source": [
    "result3b[\"result\"]"
   ]
  },
  {
   "cell_type": "code",
   "execution_count": 141,
   "id": "8692e86e",
   "metadata": {},
   "outputs": [
    {
     "data": {
      "text/plain": [
       "[Document(page_content='due to logistical issues surrounding the experimental design and little replication. Future studies should include more crabs, the exclusion of non-feeding crabs, and trial periods with longer time intervals. Additionally, any subsequent study should utilize multivariate and geometric morphometric methods to quantify claw shape instead of using ratios, as two similar ratios may have different shape.', metadata={'source': 'hms/fhl_2014_Charifson_34622 (1).pdf', 'file_path': 'hms/fhl_2014_Charifson_34622 (1).pdf', 'page': 9, 'total_pages': 19, 'format': 'PDF 1.5', 'title': '', 'author': 'David', 'subject': '', 'keywords': '', 'creator': 'Microsoft® Office Word 2007', 'producer': 'Microsoft® Office Word 2007', 'creationDate': \"D:20140723120649-04'00'\", 'modDate': \"D:20140723120649-04'00'\", 'trapped': ''})]"
      ]
     },
     "execution_count": 141,
     "metadata": {},
     "output_type": "execute_result"
    }
   ],
   "source": [
    "result3b[\"source_documents\"]"
   ]
  },
  {
   "cell_type": "code",
   "execution_count": 142,
   "id": "7c26daed",
   "metadata": {},
   "outputs": [],
   "source": [
    "result4b = qa_chain_stuff_compressed_source({\"query\": query4})"
   ]
  },
  {
   "cell_type": "code",
   "execution_count": 143,
   "id": "cf6914b5",
   "metadata": {},
   "outputs": [
    {
     "data": {
      "text/plain": [
       "\"I don't know.\""
      ]
     },
     "execution_count": 143,
     "metadata": {},
     "output_type": "execute_result"
    }
   ],
   "source": [
    "result4b[\"result\"]"
   ]
  },
  {
   "cell_type": "code",
   "execution_count": 144,
   "id": "7ba91516",
   "metadata": {},
   "outputs": [
    {
     "data": {
      "text/plain": [
       "[Document(page_content='Friday Harbor Laboratories, The Libbie Hyman Scholarship, Society for Integrative and Comparative Biology, and the Stony Brook Department of Ecology and Evolution provided financial support and have my gratitude.', metadata={'source': 'hms/fhl_2014_Charifson_34622 (1).pdf', 'file_path': 'hms/fhl_2014_Charifson_34622 (1).pdf', 'page': 9, 'total_pages': 19, 'format': 'PDF 1.5', 'title': '', 'author': 'David', 'subject': '', 'keywords': '', 'creator': 'Microsoft® Office Word 2007', 'producer': 'Microsoft® Office Word 2007', 'creationDate': \"D:20140723120649-04'00'\", 'modDate': \"D:20140723120649-04'00'\", 'trapped': ''}),\n",
       " Document(page_content='O’Halloran, M. J. and O’Dor, R. K. 1988. Molt cycle of male snow crabs, Chionocetes opilio,\\n \\nfrom observations of external features, setal changes, and feeding behavior. Journal of\\n \\nCrustacean Biology 8: 164-176.', metadata={'source': 'hms/fhl_2014_Charifson_34622 (1).pdf', 'file_path': 'hms/fhl_2014_Charifson_34622 (1).pdf', 'page': 10, 'total_pages': 19, 'format': 'PDF 1.5', 'title': '', 'author': 'David', 'subject': '', 'keywords': '', 'creator': 'Microsoft® Office Word 2007', 'producer': 'Microsoft® Office Word 2007', 'creationDate': \"D:20140723120649-04'00'\", 'modDate': \"D:20140723120649-04'00'\", 'trapped': ''})]"
      ]
     },
     "execution_count": 144,
     "metadata": {},
     "output_type": "execute_result"
    }
   ],
   "source": [
    "result4b[\"source_documents\"]"
   ]
  },
  {
   "cell_type": "code",
   "execution_count": 145,
   "id": "cbb04787",
   "metadata": {},
   "outputs": [],
   "source": [
    "result5b = qa_chain_stuff_compressed_source({\"query\": query5})"
   ]
  },
  {
   "cell_type": "code",
   "execution_count": 146,
   "id": "f14a6dd1",
   "metadata": {},
   "outputs": [
    {
     "data": {
      "text/plain": [
       "'This paper contains both observational and experimental research conducted in the natural environment or with organisms collected in nature.'"
      ]
     },
     "execution_count": 146,
     "metadata": {},
     "output_type": "execute_result"
    }
   ],
   "source": [
    "result5b[\"result\"]"
   ]
  },
  {
   "cell_type": "code",
   "execution_count": 147,
   "id": "4978f2fa",
   "metadata": {},
   "outputs": [
    {
     "data": {
      "text/plain": [
       "[Document(page_content='Friday Harbor Laboratories, The Libbie Hyman Scholarship, Society for Integrative and Comparative Biology, and the Stony Brook Department of Ecology and Evolution provided financial support and have my gratitude.', metadata={'source': 'hms/fhl_2014_Charifson_34622 (1).pdf', 'file_path': 'hms/fhl_2014_Charifson_34622 (1).pdf', 'page': 9, 'total_pages': 19, 'format': 'PDF 1.5', 'title': '', 'author': 'David', 'subject': '', 'keywords': '', 'creator': 'Microsoft® Office Word 2007', 'producer': 'Microsoft® Office Word 2007', 'creationDate': \"D:20140723120649-04'00'\", 'modDate': \"D:20140723120649-04'00'\", 'trapped': ''}),\n",
       " Document(page_content='Behrens Yamada, S. and Boulding, E. 1996. The role of highly mobile crab predators in the intertidal zonation of their gastropod prey. Journal of Experimental Marine Biology and Ecology 204: 59-83.\\nBehrens Yamada, S. and Boulding, E. 1998. Claw morphology, prey size selection and foraging efficiency in generalist and specialist shell breaking crabs. Journal of Experimental Marine Biology and Ecology 220: 191-211.\\nKeppel, E. and Scrosati, R. 2004. Chemically mediated avoidance of Hemigrapsus nudus (Crustacea) by Littorina scutulata (Gastropoda): effects of species coexistence and variable cues.\\nO’Halloran, M. J. and O’Dor, R. K. 1988. Molt cycle of male snow crabs, Chionocetes opilio, from observations of external features, setal changes, and feeding behavior.\\nSliger, M. C. 1982. Distribution and microhabitat selection of Hemigrapsus oregonensis (Dana) and Pachygrapsus crassipes (Randall) in Elkhorn Slough, Monterey County, California. M.S. thesis, California State University, Hayward. 75 pgs.', metadata={'source': 'hms/fhl_2014_Charifson_34622 (1).pdf', 'file_path': 'hms/fhl_2014_Charifson_34622 (1).pdf', 'page': 10, 'total_pages': 19, 'format': 'PDF 1.5', 'title': '', 'author': 'David', 'subject': '', 'keywords': '', 'creator': 'Microsoft® Office Word 2007', 'producer': 'Microsoft® Office Word 2007', 'creationDate': \"D:20140723120649-04'00'\", 'modDate': \"D:20140723120649-04'00'\", 'trapped': ''})]"
      ]
     },
     "execution_count": 147,
     "metadata": {},
     "output_type": "execute_result"
    }
   ],
   "source": [
    "result5b['source_documents']"
   ]
  },
  {
   "cell_type": "code",
   "execution_count": 148,
   "id": "9d8a8c29",
   "metadata": {},
   "outputs": [],
   "source": [
    "result6b = qa_chain_stuff_compressed_source({\"query\": query6})"
   ]
  },
  {
   "cell_type": "code",
   "execution_count": 149,
   "id": "93e6b7b1",
   "metadata": {},
   "outputs": [
    {
     "data": {
      "text/plain": [
       "'Hemigrapsus nudus, Hemigrapsus oregonensis.'"
      ]
     },
     "execution_count": 149,
     "metadata": {},
     "output_type": "execute_result"
    }
   ],
   "source": [
    "result6b['result']"
   ]
  },
  {
   "cell_type": "code",
   "execution_count": 150,
   "id": "6ce753ed",
   "metadata": {},
   "outputs": [
    {
     "data": {
      "text/plain": [
       "[Document(page_content='BMC Evolutionary Biology 13: 137.', metadata={'source': 'hms/fhl_2014_Charifson_34622 (1).pdf', 'file_path': 'hms/fhl_2014_Charifson_34622 (1).pdf', 'page': 11, 'total_pages': 19, 'format': 'PDF 1.5', 'title': '', 'author': 'David', 'subject': '', 'keywords': '', 'creator': 'Microsoft® Office Word 2007', 'producer': 'Microsoft® Office Word 2007', 'creationDate': \"D:20140723120649-04'00'\", 'modDate': \"D:20140723120649-04'00'\", 'trapped': ''}),\n",
       " Document(page_content='Hemigrapsus nudus, Hemigrapsus oregonensis', metadata={'source': 'hms/fhl_2014_Charifson_34622 (1).pdf', 'file_path': 'hms/fhl_2014_Charifson_34622 (1).pdf', 'page': 0, 'total_pages': 19, 'format': 'PDF 1.5', 'title': '', 'author': 'David', 'subject': '', 'keywords': '', 'creator': 'Microsoft® Office Word 2007', 'producer': 'Microsoft® Office Word 2007', 'creationDate': \"D:20140723120649-04'00'\", 'modDate': \"D:20140723120649-04'00'\", 'trapped': ''}),\n",
       " Document(page_content='Behrens Yamada, S. and Boulding, E. 1996. The role of highly mobile crab predators in the intertidal zonation of their gastropod prey. Journal of Experimental Marine Biology and Ecology 204: 59-83. \\nBehrens Yamada, S. and Boulding, E. 1998. Claw morphology, prey size selection and foraging efficiency in generalist and specialist shell breaking crabs. Journal of Experimental Marine Biology and Ecology 220: 191-211. \\nKeppel, E. and Scrosati, R. 2004. Chemically mediated avoidance of Hemigrapsus nudus (Crustacea) by Littorina scutulata (Gastropoda): effects of species coexistence and variable cues. Animal Behavior 68: 915-920. \\nKozloff, E. N. 1987. Marine invertebrates of the Pacific Northwest. University of Washington Press, Seattle, Washington, USA. \\nO’Halloran, M. J. and O’Dor, R. K. 1988. Molt cycle of male snow crabs, Chionocetes opilio, from observations of external features, setal changes, and feeding behavior. Journal of Crustacean Biology 8: 164-176. \\nSliger, M. C. 1982. Distribution and microhabitat selection of Hemigrapsus oregonensis (Dana) and Pachygrapsus crassipes (Randall) in Elkhorn Slough, Monterey County, California. M.S. thesis, California State University, Hayward. 75 pgs. \\nSokol, R. R. and Rohlf, F. J. 2011. Biometry. 4th ed. W. H. Freeman, New York, New York, USA. \\nStuart, Y. E. and Losos, J. B. 2013. Ecological character displacement: glass half full or half empty? Trends in Ecology and Evolution 28: 402-408.', metadata={'source': 'hms/fhl_2014_Charifson_34622 (1).pdf', 'file_path': 'hms/fhl_2014_Charifson_34622 (1).pdf', 'page': 10, 'total_pages': 19, 'format': 'PDF 1.5', 'title': '', 'author': 'David', 'subject': '', 'keywords': '', 'creator': 'Microsoft® Office Word 2007', 'producer': 'Microsoft® Office Word 2007', 'creationDate': \"D:20140723120649-04'00'\", 'modDate': \"D:20140723120649-04'00'\", 'trapped': ''})]"
      ]
     },
     "execution_count": 150,
     "metadata": {},
     "output_type": "execute_result"
    }
   ],
   "source": [
    "result6b['source_documents']"
   ]
  },
  {
   "cell_type": "code",
   "execution_count": 151,
   "id": "d361e774",
   "metadata": {},
   "outputs": [],
   "source": [
    "result7b = qa_chain_stuff_compressed_source({\"query\": query7})"
   ]
  },
  {
   "cell_type": "code",
   "execution_count": 152,
   "id": "cec3bcfb",
   "metadata": {},
   "outputs": [
    {
     "data": {
      "text/plain": [
       "'The paper mentions that the species Hemigrapsus oregonensis and Pachygrapsus crassipes were observed and collected in Elkhorn Slough, Monterey County, California.'"
      ]
     },
     "execution_count": 152,
     "metadata": {},
     "output_type": "execute_result"
    }
   ],
   "source": [
    "result7b[\"result\"]"
   ]
  },
  {
   "cell_type": "code",
   "execution_count": 153,
   "id": "63423319",
   "metadata": {},
   "outputs": [
    {
     "data": {
      "text/plain": [
       "[Document(page_content='Friday Harbor Laboratories', metadata={'source': 'hms/fhl_2014_Charifson_34622 (1).pdf', 'file_path': 'hms/fhl_2014_Charifson_34622 (1).pdf', 'page': 9, 'total_pages': 19, 'format': 'PDF 1.5', 'title': '', 'author': 'David', 'subject': '', 'keywords': '', 'creator': 'Microsoft® Office Word 2007', 'producer': 'Microsoft® Office Word 2007', 'creationDate': \"D:20140723120649-04'00'\", 'modDate': \"D:20140723120649-04'00'\", 'trapped': ''}),\n",
       " Document(page_content='Sliger, M. C. 1982. Distribution and microhabitat selection of Hemigrapsus oregonensis (Dana)\\n \\nand Pachygrapsus crassipes (Randall) in Elkhorn Slough, Monterey County, California.\\n \\nM.S. thesis, California State University, Hayward. 75 pgs.', metadata={'source': 'hms/fhl_2014_Charifson_34622 (1).pdf', 'file_path': 'hms/fhl_2014_Charifson_34622 (1).pdf', 'page': 10, 'total_pages': 19, 'format': 'PDF 1.5', 'title': '', 'author': 'David', 'subject': '', 'keywords': '', 'creator': 'Microsoft® Office Word 2007', 'producer': 'Microsoft® Office Word 2007', 'creationDate': \"D:20140723120649-04'00'\", 'modDate': \"D:20140723120649-04'00'\", 'trapped': ''})]"
      ]
     },
     "execution_count": 153,
     "metadata": {},
     "output_type": "execute_result"
    }
   ],
   "source": [
    "result7b[\"source_documents\"]"
   ]
  },
  {
   "cell_type": "code",
   "execution_count": 154,
   "id": "88d9f2d7",
   "metadata": {},
   "outputs": [],
   "source": [
    "result8b = qa_chain_stuff_compressed_source({\"query\": query8})"
   ]
  },
  {
   "cell_type": "code",
   "execution_count": 155,
   "id": "8186a5c8",
   "metadata": {},
   "outputs": [
    {
     "data": {
      "text/plain": [
       "'The study was conducted in a rural area in northern California.'"
      ]
     },
     "execution_count": 155,
     "metadata": {},
     "output_type": "execute_result"
    }
   ],
   "source": [
    "result8b[\"result\"]"
   ]
  },
  {
   "cell_type": "code",
   "execution_count": 156,
   "id": "3d3c6c45",
   "metadata": {},
   "outputs": [
    {
     "data": {
      "text/plain": [
       "[]"
      ]
     },
     "execution_count": 156,
     "metadata": {},
     "output_type": "execute_result"
    }
   ],
   "source": [
    "result8b[\"source_documents\"]"
   ]
  },
  {
   "cell_type": "code",
   "execution_count": 157,
   "id": "9129cd2a",
   "metadata": {},
   "outputs": [],
   "source": [
    "result9b = qa_chain_stuff_compressed_source({\"query\": query9})"
   ]
  },
  {
   "cell_type": "code",
   "execution_count": 158,
   "id": "cc735690",
   "metadata": {},
   "outputs": [
    {
     "data": {
      "text/plain": [
       "'No, there are no coordinate locations given in latitude/longitude in the provided context.'"
      ]
     },
     "execution_count": 158,
     "metadata": {},
     "output_type": "execute_result"
    }
   ],
   "source": [
    "result9b[\"result\"]"
   ]
  },
  {
   "cell_type": "code",
   "execution_count": 159,
   "id": "63cfa3e6",
   "metadata": {},
   "outputs": [
    {
     "data": {
      "text/plain": [
       "[]"
      ]
     },
     "execution_count": 159,
     "metadata": {},
     "output_type": "execute_result"
    }
   ],
   "source": [
    "result9b[\"source_documents\"]"
   ]
  },
  {
   "cell_type": "code",
   "execution_count": 160,
   "id": "6d577747",
   "metadata": {},
   "outputs": [],
   "source": [
    "result10b = qa_chain_stuff_compressed_source({\"query\": query10})"
   ]
  },
  {
   "cell_type": "code",
   "execution_count": 161,
   "id": "22d03ee1",
   "metadata": {},
   "outputs": [
    {
     "data": {
      "text/plain": [
       "'The species Lacuna vincta were found in False Bay and Dead Man Cove. The species Littorina scutulata were found in the rocky intertidal zone of Fourth of July Beach.'"
      ]
     },
     "execution_count": 161,
     "metadata": {},
     "output_type": "execute_result"
    }
   ],
   "source": [
    "result10b[\"result\"]"
   ]
  },
  {
   "cell_type": "code",
   "execution_count": 162,
   "id": "b1568ab2",
   "metadata": {},
   "outputs": [
    {
     "data": {
      "text/plain": [
       "[Document(page_content='All specimens were collected on San Juan Island, Washington. Lacuna vincta, in the Class Gastropoda and Family Littoridae, were collected at False Bay and Dead Man Cove. Littorina scutulata, in the Class Gastropoda and Family Littoridae, were collected from the rocky intertidal zone of Fourth of July Beach.', metadata={'source': 'hms/fhl_2014_Charifson_34622 (1).pdf', 'file_path': 'hms/fhl_2014_Charifson_34622 (1).pdf', 'page': 3, 'total_pages': 19, 'format': 'PDF 1.5', 'title': '', 'author': 'David', 'subject': '', 'keywords': '', 'creator': 'Microsoft® Office Word 2007', 'producer': 'Microsoft® Office Word 2007', 'creationDate': \"D:20140723120649-04'00'\", 'modDate': \"D:20140723120649-04'00'\", 'trapped': ''})]"
      ]
     },
     "execution_count": 162,
     "metadata": {},
     "output_type": "execute_result"
    }
   ],
   "source": [
    "result10b[\"source_documents\"]"
   ]
  },
  {
   "cell_type": "code",
   "execution_count": 163,
   "id": "b3d1452f",
   "metadata": {},
   "outputs": [],
   "source": [
    "result11b = qa_chain_stuff_compressed_source({\"query\": query11})"
   ]
  },
  {
   "cell_type": "code",
   "execution_count": 164,
   "id": "1ec2ae6a",
   "metadata": {},
   "outputs": [
    {
     "data": {
      "text/plain": [
       "'The paper does not mention a year, date, or time that species were collected or observed.'"
      ]
     },
     "execution_count": 164,
     "metadata": {},
     "output_type": "execute_result"
    }
   ],
   "source": [
    "result11b[\"result\"]"
   ]
  },
  {
   "cell_type": "code",
   "execution_count": 165,
   "id": "e27cce58",
   "metadata": {},
   "outputs": [
    {
     "data": {
      "text/plain": [
       "[]"
      ]
     },
     "execution_count": 165,
     "metadata": {},
     "output_type": "execute_result"
    }
   ],
   "source": [
    "result11b[\"source_documents\"]"
   ]
  },
  {
   "cell_type": "code",
   "execution_count": 166,
   "id": "ac315540",
   "metadata": {},
   "outputs": [],
   "source": [
    "result12b = qa_chain_stuff_compressed_source({\"query\": query12})"
   ]
  },
  {
   "cell_type": "code",
   "execution_count": 167,
   "id": "ce8e4753",
   "metadata": {},
   "outputs": [
    {
     "data": {
      "text/plain": [
       "'Yes, there are figures in the paper.'"
      ]
     },
     "execution_count": 167,
     "metadata": {},
     "output_type": "execute_result"
    }
   ],
   "source": [
    "result12b[\"result\"]"
   ]
  },
  {
   "cell_type": "code",
   "execution_count": 168,
   "id": "d54b2267",
   "metadata": {
    "scrolled": true
   },
   "outputs": [
    {
     "data": {
      "text/plain": [
       "[Document(page_content='Figure 1: Relationship of carapace width and propal height in Hemigrapsus. Line of best fit from \\nSMA regression. See Table 1A for descriptive statistics. A) Female H. nudus. B) Male H. nudus. \\nC) Female H. oregonensis. D) Male H. oregonensis.', metadata={'source': 'hms/fhl_2014_Charifson_34622 (1).pdf', 'file_path': 'hms/fhl_2014_Charifson_34622 (1).pdf', 'page': 14, 'total_pages': 19, 'format': 'PDF 1.5', 'title': '', 'author': 'David', 'subject': '', 'keywords': '', 'creator': 'Microsoft® Office Word 2007', 'producer': 'Microsoft® Office Word 2007', 'creationDate': \"D:20140723120649-04'00'\", 'modDate': \"D:20140723120649-04'00'\", 'trapped': ''}),\n",
       " Document(page_content='Figure 2: Relationship of carapace width and propal width in Hemigrapsus.  \\nLine of best fit from SMA regression. See Table 1B for descriptive statistics. A) Female H. \\nnudus. B) Male H. nudus. C)Female H. oregonensis. D) Male H. oregonensis.', metadata={'source': 'hms/fhl_2014_Charifson_34622 (1).pdf', 'file_path': 'hms/fhl_2014_Charifson_34622 (1).pdf', 'page': 15, 'total_pages': 19, 'format': 'PDF 1.5', 'title': '', 'author': 'David', 'subject': '', 'keywords': '', 'creator': 'Microsoft® Office Word 2007', 'producer': 'Microsoft® Office Word 2007', 'creationDate': \"D:20140723120649-04'00'\", 'modDate': \"D:20140723120649-04'00'\", 'trapped': ''})]"
      ]
     },
     "execution_count": 168,
     "metadata": {},
     "output_type": "execute_result"
    }
   ],
   "source": [
    "result12b[\"source_documents\"]"
   ]
  },
  {
   "cell_type": "markdown",
   "id": "8febe11e",
   "metadata": {},
   "source": [
    "# ConversationalRetrievalChain + Chat History\n",
    "\n",
    "The ConversationalRetrievalQA chain builds on RetrievalQAChain to provide a chat history component.\n",
    "\n",
    "\n",
    "*ConversationalRetrievalChain = conversation memory + RetrievalQAChain*\n",
    "\n",
    "\n",
    "It first combines the chat history (either explicitly passed in or retrieved from the provided memory) and the question into a standalone question, then looks up relevant documents from the retriever, and finally passes those documents and the question to a question answering chain to return a response."
   ]
  },
  {
   "cell_type": "code",
   "execution_count": 14,
   "id": "bb833375",
   "metadata": {},
   "outputs": [],
   "source": [
    "vector_store2 = FAISS.from_documents(docs2, embeddings).as_retriever(search_type = \"similarity\", search_kwargs= {\"k\": 3})"
   ]
  },
  {
   "cell_type": "code",
   "execution_count": 15,
   "id": "13b131f2",
   "metadata": {},
   "outputs": [],
   "source": [
    "compressor = LLMChainExtractor.from_llm(llm)\n",
    "\n",
    "compression_retriever2 = ContextualCompressionRetriever(base_compressor = compressor,base_retriever=vector_store2)"
   ]
  },
  {
   "cell_type": "markdown",
   "id": "51846856",
   "metadata": {},
   "source": [
    "# What is memory?\n",
    "\n",
    "Definition: Memory is an agent's capacity of remembering previous interactions with the user (think chatbots)\n",
    "\n",
    "The official definition of memory is the following:\n",
    "\n",
    "By default, Chains and Agents are stateless, meaning that they treat each incoming query independently. In some applications (chatbots being a GREAT example) it is highly important to remember previous interactions, both at a short term but also at a long term level. The concept of “Memory” exists to do exactly that.\n",
    "\n",
    "\n",
    "The ConversationBufferMemory is the most straightforward conversational memory in LangChain. As we described above, the raw input of the past conversation between the human and AI is passed — in its raw form — to the {history} parameter."
   ]
  },
  {
   "cell_type": "code",
   "execution_count": 16,
   "id": "76142947",
   "metadata": {},
   "outputs": [],
   "source": [
    "# We can now create a memory object, which is necessary to track the \n",
    "# inputs/outputs and hold a conversation.\n",
    "\n",
    "\n",
    "from langchain.memory import ConversationBufferMemory\n",
    "memory = ConversationBufferMemory(llm=llm, input_key='question', output_key='answer',memory_key=\"chat_history\",  return_messages=True)"
   ]
  },
  {
   "cell_type": "code",
   "execution_count": 17,
   "id": "1fad5df1",
   "metadata": {},
   "outputs": [],
   "source": [
    "#Initialize the ConversationalRetrievalChain\n",
    "qa_chain = ConversationalRetrievalChain.from_llm(ChatOpenAI(), \n",
    "                                                 compression_retriever2,\n",
    "                                                memory = memory)\n",
    "                                                "
   ]
  },
  {
   "cell_type": "code",
   "execution_count": 18,
   "id": "2f5c8edd",
   "metadata": {},
   "outputs": [],
   "source": [
    "#Intialize empty list to append chat history \n",
    "chat_history = []"
   ]
  },
  {
   "cell_type": "code",
   "execution_count": 21,
   "id": "ece19743",
   "metadata": {},
   "outputs": [
    {
     "name": "stderr",
     "output_type": "stream",
     "text": [
      "C:\\Users\\aclao89\\AppData\\Local\\anaconda3\\lib\\site-packages\\langchain\\chains\\llm.py:275: UserWarning: The predict_and_parse method is deprecated, instead pass an output parser directly to LLMChain.\n",
      "  warnings.warn(\n"
     ]
    }
   ],
   "source": [
    "result1c = qa_chain({\"question\": query, \"chat_history\": chat_history})"
   ]
  },
  {
   "cell_type": "code",
   "execution_count": 22,
   "id": "579d74f3",
   "metadata": {
    "scrolled": true
   },
   "outputs": [
    {
     "data": {
      "text/plain": [
       "'This paper is about evolutionary variation in the mechanics of fiddler crab claws. It likely explores how different species or populations of fiddler crabs have developed unique claw structures and functions over time through the process of evolution.'"
      ]
     },
     "execution_count": 22,
     "metadata": {},
     "output_type": "execute_result"
    }
   ],
   "source": [
    "# What is this paper about?\n",
    "\n",
    "result1c[\"answer\"]"
   ]
  },
  {
   "cell_type": "code",
   "execution_count": 23,
   "id": "9ed3c509",
   "metadata": {},
   "outputs": [
    {
     "data": {
      "text/plain": [
       "[HumanMessage(content='What is this paper about?', additional_kwargs={}, example=False),\n",
       " AIMessage(content='This paper is about evolutionary variation in the mechanics of fiddler crab claws. It likely explores how different species or populations of fiddler crabs have developed unique claw structures and functions over time through the process of evolution.', additional_kwargs={}, example=False)]"
      ]
     },
     "execution_count": 23,
     "metadata": {},
     "output_type": "execute_result"
    }
   ],
   "source": [
    "result1c[\"chat_history\"]"
   ]
  },
  {
   "cell_type": "code",
   "execution_count": 24,
   "id": "826f4dd4",
   "metadata": {},
   "outputs": [],
   "source": [
    "query1c = \"What were some key differences in chela size between sex and species?\""
   ]
  },
  {
   "cell_type": "code",
   "execution_count": 25,
   "id": "cd884bd3",
   "metadata": {},
   "outputs": [],
   "source": [
    "result1ca = qa_chain({\"question\": query1c, \"chat_history\": chat_history})\n"
   ]
  },
  {
   "cell_type": "code",
   "execution_count": 26,
   "id": "e4e45774",
   "metadata": {},
   "outputs": [
    {
     "data": {
      "text/plain": [
       "'The study found that there were statistically significant differences in chela size between sexes and species. In Hemigrapsus nudus, female crabs had a high variance in chela size parameters, with carapace width explaining a high percentage of the variance in propal height and propal width. In Hemigrapsus oregonensis, male crabs had the greatest variation in chela size parameters. Overall, carapace width was found to have a greater ability to explain the variance in chela size parameters in females of both crab species.'"
      ]
     },
     "execution_count": 26,
     "metadata": {},
     "output_type": "execute_result"
    }
   ],
   "source": [
    "# \"What were some key differences in chela size between sex and species?\"\n",
    "result1ca[\"answer\"]"
   ]
  },
  {
   "cell_type": "code",
   "execution_count": 28,
   "id": "c3e90ff7",
   "metadata": {},
   "outputs": [
    {
     "data": {
      "text/plain": [
       "[HumanMessage(content='What is this paper about?', additional_kwargs={}, example=False),\n",
       " AIMessage(content='This paper is about evolutionary variation in the mechanics of fiddler crab claws. It likely explores how different species or populations of fiddler crabs have developed unique claw structures and functions over time through the process of evolution.', additional_kwargs={}, example=False),\n",
       " HumanMessage(content='What were some key differences in chela size between sex and species?', additional_kwargs={}, example=False),\n",
       " AIMessage(content='The study found that there were statistically significant differences in chela size between sexes and species. In Hemigrapsus nudus, female crabs had a high variance in chela size parameters, with carapace width explaining a high percentage of the variance in propal height and propal width. In Hemigrapsus oregonensis, male crabs had the greatest variation in chela size parameters. Overall, carapace width was found to have a greater ability to explain the variance in chela size parameters in females of both crab species.', additional_kwargs={}, example=False)]"
      ]
     },
     "execution_count": 28,
     "metadata": {},
     "output_type": "execute_result"
    }
   ],
   "source": [
    "result1ca[\"chat_history\"]"
   ]
  },
  {
   "cell_type": "code",
   "execution_count": 29,
   "id": "69329739",
   "metadata": {},
   "outputs": [],
   "source": [
    "result2c = qa_chain({\"question\": query2, \"chat_history\": chat_history})"
   ]
  },
  {
   "cell_type": "code",
   "execution_count": 30,
   "id": "61bbde69",
   "metadata": {},
   "outputs": [
    {
     "data": {
      "text/plain": [
       "\"I'm sorry, but I don't have access to the full paper and cannot provide a concise summary or details about the materials and methods used.\""
      ]
     },
     "execution_count": 30,
     "metadata": {},
     "output_type": "execute_result"
    }
   ],
   "source": [
    "#  \"Summarize the paper concisely with reference to materials and methods.\"\n",
    "\n",
    "result2c[\"answer\"]"
   ]
  },
  {
   "cell_type": "code",
   "execution_count": 31,
   "id": "1a0ac7f9",
   "metadata": {},
   "outputs": [
    {
     "data": {
      "text/plain": [
       "[HumanMessage(content='What is this paper about?', additional_kwargs={}, example=False),\n",
       " AIMessage(content='This paper is about evolutionary variation in the mechanics of fiddler crab claws. It likely explores how different species or populations of fiddler crabs have developed unique claw structures and functions over time through the process of evolution.', additional_kwargs={}, example=False),\n",
       " HumanMessage(content='What were some key differences in chela size between sex and species?', additional_kwargs={}, example=False),\n",
       " AIMessage(content='The study found that there were statistically significant differences in chela size between sexes and species. In Hemigrapsus nudus, female crabs had a high variance in chela size parameters, with carapace width explaining a high percentage of the variance in propal height and propal width. In Hemigrapsus oregonensis, male crabs had the greatest variation in chela size parameters. Overall, carapace width was found to have a greater ability to explain the variance in chela size parameters in females of both crab species.', additional_kwargs={}, example=False),\n",
       " HumanMessage(content='Summarize the paper concisely with reference to materials and methods.', additional_kwargs={}, example=False),\n",
       " AIMessage(content=\"I'm sorry, but I don't have access to the full paper and cannot provide a concise summary or details about the materials and methods used.\", additional_kwargs={}, example=False)]"
      ]
     },
     "execution_count": 31,
     "metadata": {},
     "output_type": "execute_result"
    }
   ],
   "source": [
    "result2c[\"chat_history\"]"
   ]
  },
  {
   "cell_type": "code",
   "execution_count": 32,
   "id": "ab8173f3",
   "metadata": {},
   "outputs": [],
   "source": [
    "result3c = qa_chain({\"question\": query3, \"chat_history\": chat_history})"
   ]
  },
  {
   "cell_type": "code",
   "execution_count": 33,
   "id": "87c356a2",
   "metadata": {},
   "outputs": [
    {
     "data": {
      "text/plain": [
       "'The purpose of the paper was to address the limitations of a previous study and suggest improvements for future studies on crabs, including increasing the number of crabs, excluding non-feeding crabs, and extending the trial periods.'"
      ]
     },
     "execution_count": 33,
     "metadata": {},
     "output_type": "execute_result"
    }
   ],
   "source": [
    "#  \"Write a one sentence summary of the purpose of the paper\"\n",
    "result3c[\"answer\"]"
   ]
  },
  {
   "cell_type": "code",
   "execution_count": 34,
   "id": "bc2abe5c",
   "metadata": {},
   "outputs": [
    {
     "data": {
      "text/plain": [
       "[HumanMessage(content='What is this paper about?', additional_kwargs={}, example=False),\n",
       " AIMessage(content='This paper is about evolutionary variation in the mechanics of fiddler crab claws. It likely explores how different species or populations of fiddler crabs have developed unique claw structures and functions over time through the process of evolution.', additional_kwargs={}, example=False),\n",
       " HumanMessage(content='What were some key differences in chela size between sex and species?', additional_kwargs={}, example=False),\n",
       " AIMessage(content='The study found that there were statistically significant differences in chela size between sexes and species. In Hemigrapsus nudus, female crabs had a high variance in chela size parameters, with carapace width explaining a high percentage of the variance in propal height and propal width. In Hemigrapsus oregonensis, male crabs had the greatest variation in chela size parameters. Overall, carapace width was found to have a greater ability to explain the variance in chela size parameters in females of both crab species.', additional_kwargs={}, example=False),\n",
       " HumanMessage(content='Summarize the paper concisely with reference to materials and methods.', additional_kwargs={}, example=False),\n",
       " AIMessage(content=\"I'm sorry, but I don't have access to the full paper and cannot provide a concise summary or details about the materials and methods used.\", additional_kwargs={}, example=False),\n",
       " HumanMessage(content='Write a one sentence summary of the purpose of the paper', additional_kwargs={}, example=False),\n",
       " AIMessage(content='The purpose of the paper was to address the limitations of a previous study and suggest improvements for future studies on crabs, including increasing the number of crabs, excluding non-feeding crabs, and extending the trial periods.', additional_kwargs={}, example=False)]"
      ]
     },
     "execution_count": 34,
     "metadata": {},
     "output_type": "execute_result"
    }
   ],
   "source": [
    "result3c[\"chat_history\"]"
   ]
  },
  {
   "cell_type": "code",
   "execution_count": 36,
   "id": "d3ef5ad9",
   "metadata": {},
   "outputs": [],
   "source": [
    "result4c = qa_chain({\"question\": query4, \"chat_history\": chat_history})"
   ]
  },
  {
   "cell_type": "code",
   "execution_count": 37,
   "id": "e521bc62",
   "metadata": {},
   "outputs": [
    {
     "data": {
      "text/plain": [
       "'Based on the given context, it is not mentioned whether the paper includes one or more observations.'"
      ]
     },
     "execution_count": 37,
     "metadata": {},
     "output_type": "execute_result"
    }
   ],
   "source": [
    "#  \"Terms that may be used to identify an observation include “in the field”, “this study”, “observed”, “taken”, “collected”, “sampled”, “collection”, “seen”, “harvested”, “found”, etc. Does the paper include one or more observations?\"\n",
    "\n",
    "result4c[\"answer\"]"
   ]
  },
  {
   "cell_type": "code",
   "execution_count": 38,
   "id": "fbf4574f",
   "metadata": {
    "scrolled": true
   },
   "outputs": [
    {
     "data": {
      "text/plain": [
       "[HumanMessage(content='What is this paper about?', additional_kwargs={}, example=False),\n",
       " AIMessage(content='This paper is about evolutionary variation in the mechanics of fiddler crab claws. It likely explores how different species or populations of fiddler crabs have developed unique claw structures and functions over time through the process of evolution.', additional_kwargs={}, example=False),\n",
       " HumanMessage(content='What were some key differences in chela size between sex and species?', additional_kwargs={}, example=False),\n",
       " AIMessage(content='The study found that there were statistically significant differences in chela size between sexes and species. In Hemigrapsus nudus, female crabs had a high variance in chela size parameters, with carapace width explaining a high percentage of the variance in propal height and propal width. In Hemigrapsus oregonensis, male crabs had the greatest variation in chela size parameters. Overall, carapace width was found to have a greater ability to explain the variance in chela size parameters in females of both crab species.', additional_kwargs={}, example=False),\n",
       " HumanMessage(content='Summarize the paper concisely with reference to materials and methods.', additional_kwargs={}, example=False),\n",
       " AIMessage(content=\"I'm sorry, but I don't have access to the full paper and cannot provide a concise summary or details about the materials and methods used.\", additional_kwargs={}, example=False),\n",
       " HumanMessage(content='Write a one sentence summary of the purpose of the paper', additional_kwargs={}, example=False),\n",
       " AIMessage(content='The purpose of the paper was to address the limitations of a previous study and suggest improvements for future studies on crabs, including increasing the number of crabs, excluding non-feeding crabs, and extending the trial periods.', additional_kwargs={}, example=False),\n",
       " HumanMessage(content='Terms that may be used to identify an observation include “in the field”, “this study”, “observed”, “taken”, “collected”, “sampled”, “collection”, “seen”, “harvested”, “found”, etc. Does the paper include one or more observations?', additional_kwargs={}, example=False),\n",
       " AIMessage(content='Based on the given context, it is not mentioned whether the paper includes one or more observations.', additional_kwargs={}, example=False)]"
      ]
     },
     "execution_count": 38,
     "metadata": {},
     "output_type": "execute_result"
    }
   ],
   "source": [
    "result4c[\"chat_history\"]"
   ]
  },
  {
   "cell_type": "code",
   "execution_count": 41,
   "id": "12960eba",
   "metadata": {},
   "outputs": [],
   "source": [
    "result5c = qa_chain({\"question\": query5, \"chat_history\": chat_history})"
   ]
  },
  {
   "cell_type": "code",
   "execution_count": 42,
   "id": "89e20a6a",
   "metadata": {},
   "outputs": [
    {
     "data": {
      "text/plain": [
       "\"I don't know, as the provided context does not specify the content of the paper or the type of research conducted.\""
      ]
     },
     "execution_count": 42,
     "metadata": {},
     "output_type": "execute_result"
    }
   ],
   "source": [
    "# Does this paper contain observational or experimental research conducted in the natural environment \n",
    "# or with organisms collected in nature?\"\n",
    "\n",
    "result5c[\"answer\"]"
   ]
  },
  {
   "cell_type": "code",
   "execution_count": 43,
   "id": "4f24ef53",
   "metadata": {
    "scrolled": true
   },
   "outputs": [
    {
     "data": {
      "text/plain": [
       "[HumanMessage(content='What is this paper about?', additional_kwargs={}, example=False),\n",
       " AIMessage(content='This paper is about evolutionary variation in the mechanics of fiddler crab claws. It likely explores how different species or populations of fiddler crabs have developed unique claw structures and functions over time through the process of evolution.', additional_kwargs={}, example=False),\n",
       " HumanMessage(content='What were some key differences in chela size between sex and species?', additional_kwargs={}, example=False),\n",
       " AIMessage(content='The study found that there were statistically significant differences in chela size between sexes and species. In Hemigrapsus nudus, female crabs had a high variance in chela size parameters, with carapace width explaining a high percentage of the variance in propal height and propal width. In Hemigrapsus oregonensis, male crabs had the greatest variation in chela size parameters. Overall, carapace width was found to have a greater ability to explain the variance in chela size parameters in females of both crab species.', additional_kwargs={}, example=False),\n",
       " HumanMessage(content='Summarize the paper concisely with reference to materials and methods.', additional_kwargs={}, example=False),\n",
       " AIMessage(content=\"I'm sorry, but I don't have access to the full paper and cannot provide a concise summary or details about the materials and methods used.\", additional_kwargs={}, example=False),\n",
       " HumanMessage(content='Write a one sentence summary of the purpose of the paper', additional_kwargs={}, example=False),\n",
       " AIMessage(content='The purpose of the paper was to address the limitations of a previous study and suggest improvements for future studies on crabs, including increasing the number of crabs, excluding non-feeding crabs, and extending the trial periods.', additional_kwargs={}, example=False),\n",
       " HumanMessage(content='Terms that may be used to identify an observation include “in the field”, “this study”, “observed”, “taken”, “collected”, “sampled”, “collection”, “seen”, “harvested”, “found”, etc. Does the paper include one or more observations?', additional_kwargs={}, example=False),\n",
       " AIMessage(content='Based on the given context, it is not mentioned whether the paper includes one or more observations.', additional_kwargs={}, example=False),\n",
       " HumanMessage(content='Does this paper contain observational or experimental research conducted in the natural environment or with organisms collected in nature?', additional_kwargs={}, example=False),\n",
       " AIMessage(content='Based on the given context, it is not possible to determine whether the paper involved observational or experimental research conducted in the natural environment or with organisms collected in nature.', additional_kwargs={}, example=False),\n",
       " HumanMessage(content='Does this paper contain observational or experimental research conducted in the natural environment or with organisms collected in nature?', additional_kwargs={}, example=False),\n",
       " AIMessage(content=\"I don't know, as the provided context does not specify the content of the paper or the type of research conducted.\", additional_kwargs={}, example=False)]"
      ]
     },
     "execution_count": 43,
     "metadata": {},
     "output_type": "execute_result"
    }
   ],
   "source": [
    "result5c[\"chat_history\"]"
   ]
  },
  {
   "cell_type": "code",
   "execution_count": 44,
   "id": "91d5363f",
   "metadata": {},
   "outputs": [],
   "source": [
    "result6c = qa_chain({\"question\": query6, \"chat_history\": chat_history})"
   ]
  },
  {
   "cell_type": "code",
   "execution_count": 45,
   "id": "bf4f358d",
   "metadata": {},
   "outputs": [
    {
     "data": {
      "text/plain": [
       "'The scientific names mentioned in the paper are:\\n\\n- rapsus nudus: This is not a recognized scientific name. It may be a typographical error or a species name not widely recognized in the scientific community.\\n\\n- Hemigrapsus orogenensis: This is a recognized scientific name for a species of crab.\\n\\n- Littorina scutulata: This is a recognized scientific name for a species of periwinkle snail.\\n\\n- Lacuna vincta: This is a recognized scientific name for a species of sea snail.'"
      ]
     },
     "execution_count": 45,
     "metadata": {},
     "output_type": "execute_result"
    }
   ],
   "source": [
    "# \"What are the scientific names of the collected species mentioned in this paper?\"\n",
    "result6c[\"answer\"]"
   ]
  },
  {
   "cell_type": "code",
   "execution_count": 46,
   "id": "9acc1bb7",
   "metadata": {
    "scrolled": true
   },
   "outputs": [
    {
     "data": {
      "text/plain": [
       "[HumanMessage(content='What is this paper about?', additional_kwargs={}, example=False),\n",
       " AIMessage(content='This paper is about evolutionary variation in the mechanics of fiddler crab claws. It likely explores how different species or populations of fiddler crabs have developed unique claw structures and functions over time through the process of evolution.', additional_kwargs={}, example=False),\n",
       " HumanMessage(content='What were some key differences in chela size between sex and species?', additional_kwargs={}, example=False),\n",
       " AIMessage(content='The study found that there were statistically significant differences in chela size between sexes and species. In Hemigrapsus nudus, female crabs had a high variance in chela size parameters, with carapace width explaining a high percentage of the variance in propal height and propal width. In Hemigrapsus oregonensis, male crabs had the greatest variation in chela size parameters. Overall, carapace width was found to have a greater ability to explain the variance in chela size parameters in females of both crab species.', additional_kwargs={}, example=False),\n",
       " HumanMessage(content='Summarize the paper concisely with reference to materials and methods.', additional_kwargs={}, example=False),\n",
       " AIMessage(content=\"I'm sorry, but I don't have access to the full paper and cannot provide a concise summary or details about the materials and methods used.\", additional_kwargs={}, example=False),\n",
       " HumanMessage(content='Write a one sentence summary of the purpose of the paper', additional_kwargs={}, example=False),\n",
       " AIMessage(content='The purpose of the paper was to address the limitations of a previous study and suggest improvements for future studies on crabs, including increasing the number of crabs, excluding non-feeding crabs, and extending the trial periods.', additional_kwargs={}, example=False),\n",
       " HumanMessage(content='Terms that may be used to identify an observation include “in the field”, “this study”, “observed”, “taken”, “collected”, “sampled”, “collection”, “seen”, “harvested”, “found”, etc. Does the paper include one or more observations?', additional_kwargs={}, example=False),\n",
       " AIMessage(content='Based on the given context, it is not mentioned whether the paper includes one or more observations.', additional_kwargs={}, example=False),\n",
       " HumanMessage(content='Does this paper contain observational or experimental research conducted in the natural environment or with organisms collected in nature?', additional_kwargs={}, example=False),\n",
       " AIMessage(content='Based on the given context, it is not possible to determine whether the paper involved observational or experimental research conducted in the natural environment or with organisms collected in nature.', additional_kwargs={}, example=False),\n",
       " HumanMessage(content='Does this paper contain observational or experimental research conducted in the natural environment or with organisms collected in nature?', additional_kwargs={}, example=False),\n",
       " AIMessage(content=\"I don't know, as the provided context does not specify the content of the paper or the type of research conducted.\", additional_kwargs={}, example=False),\n",
       " HumanMessage(content='What are the scientific names of the collected species mentioned in this paper?', additional_kwargs={}, example=False),\n",
       " AIMessage(content='The scientific names mentioned in the paper are:\\n\\n- rapsus nudus: This is not a recognized scientific name. It may be a typographical error or a species name not widely recognized in the scientific community.\\n\\n- Hemigrapsus orogenensis: This is a recognized scientific name for a species of crab.\\n\\n- Littorina scutulata: This is a recognized scientific name for a species of periwinkle snail.\\n\\n- Lacuna vincta: This is a recognized scientific name for a species of sea snail.', additional_kwargs={}, example=False)]"
      ]
     },
     "execution_count": 46,
     "metadata": {},
     "output_type": "execute_result"
    }
   ],
   "source": [
    "result6c[\"chat_history\"]"
   ]
  },
  {
   "cell_type": "code",
   "execution_count": 47,
   "id": "d3b202b9",
   "metadata": {},
   "outputs": [],
   "source": [
    "result7c = qa_chain({\"question\": query7, \"chat_history\": chat_history})"
   ]
  },
  {
   "cell_type": "code",
   "execution_count": 48,
   "id": "51534089",
   "metadata": {},
   "outputs": [
    {
     "data": {
      "text/plain": [
       "'Yes, the paper mentions the location \"khorn Slough, Monterey County, California\" where the species were observed or collected.'"
      ]
     },
     "execution_count": 48,
     "metadata": {},
     "output_type": "execute_result"
    }
   ],
   "source": [
    "# \"Please list the species collected based on their scientific names along with location of collection.\"\n",
    "\n",
    "result7c[\"answer\"]"
   ]
  },
  {
   "cell_type": "code",
   "execution_count": 49,
   "id": "c259f8ab",
   "metadata": {
    "scrolled": true
   },
   "outputs": [
    {
     "data": {
      "text/plain": [
       "[HumanMessage(content='What is this paper about?', additional_kwargs={}, example=False),\n",
       " AIMessage(content='This paper is about evolutionary variation in the mechanics of fiddler crab claws. It likely explores how different species or populations of fiddler crabs have developed unique claw structures and functions over time through the process of evolution.', additional_kwargs={}, example=False),\n",
       " HumanMessage(content='What were some key differences in chela size between sex and species?', additional_kwargs={}, example=False),\n",
       " AIMessage(content='The study found that there were statistically significant differences in chela size between sexes and species. In Hemigrapsus nudus, female crabs had a high variance in chela size parameters, with carapace width explaining a high percentage of the variance in propal height and propal width. In Hemigrapsus oregonensis, male crabs had the greatest variation in chela size parameters. Overall, carapace width was found to have a greater ability to explain the variance in chela size parameters in females of both crab species.', additional_kwargs={}, example=False),\n",
       " HumanMessage(content='Summarize the paper concisely with reference to materials and methods.', additional_kwargs={}, example=False),\n",
       " AIMessage(content=\"I'm sorry, but I don't have access to the full paper and cannot provide a concise summary or details about the materials and methods used.\", additional_kwargs={}, example=False),\n",
       " HumanMessage(content='Write a one sentence summary of the purpose of the paper', additional_kwargs={}, example=False),\n",
       " AIMessage(content='The purpose of the paper was to address the limitations of a previous study and suggest improvements for future studies on crabs, including increasing the number of crabs, excluding non-feeding crabs, and extending the trial periods.', additional_kwargs={}, example=False),\n",
       " HumanMessage(content='Terms that may be used to identify an observation include “in the field”, “this study”, “observed”, “taken”, “collected”, “sampled”, “collection”, “seen”, “harvested”, “found”, etc. Does the paper include one or more observations?', additional_kwargs={}, example=False),\n",
       " AIMessage(content='Based on the given context, it is not mentioned whether the paper includes one or more observations.', additional_kwargs={}, example=False),\n",
       " HumanMessage(content='Does this paper contain observational or experimental research conducted in the natural environment or with organisms collected in nature?', additional_kwargs={}, example=False),\n",
       " AIMessage(content='Based on the given context, it is not possible to determine whether the paper involved observational or experimental research conducted in the natural environment or with organisms collected in nature.', additional_kwargs={}, example=False),\n",
       " HumanMessage(content='Does this paper contain observational or experimental research conducted in the natural environment or with organisms collected in nature?', additional_kwargs={}, example=False),\n",
       " AIMessage(content=\"I don't know, as the provided context does not specify the content of the paper or the type of research conducted.\", additional_kwargs={}, example=False),\n",
       " HumanMessage(content='What are the scientific names of the collected species mentioned in this paper?', additional_kwargs={}, example=False),\n",
       " AIMessage(content='The scientific names mentioned in the paper are:\\n\\n- rapsus nudus: This is not a recognized scientific name. It may be a typographical error or a species name not widely recognized in the scientific community.\\n\\n- Hemigrapsus orogenensis: This is a recognized scientific name for a species of crab.\\n\\n- Littorina scutulata: This is a recognized scientific name for a species of periwinkle snail.\\n\\n- Lacuna vincta: This is a recognized scientific name for a species of sea snail.', additional_kwargs={}, example=False),\n",
       " HumanMessage(content='Does the paper mention where the species were observed or collected, and if so, what locations are given?', additional_kwargs={}, example=False),\n",
       " AIMessage(content='Yes, the paper mentions the location \"khorn Slough, Monterey County, California\" where the species were observed or collected.', additional_kwargs={}, example=False)]"
      ]
     },
     "execution_count": 49,
     "metadata": {},
     "output_type": "execute_result"
    }
   ],
   "source": [
    "result7c[\"chat_history\"]"
   ]
  },
  {
   "cell_type": "code",
   "execution_count": 50,
   "id": "a6f5244b",
   "metadata": {},
   "outputs": [],
   "source": [
    "result8c = qa_chain({\"question\": query8, \"chat_history\": chat_history})"
   ]
  },
  {
   "cell_type": "code",
   "execution_count": 51,
   "id": "cca7b979",
   "metadata": {},
   "outputs": [
    {
     "data": {
      "text/plain": [
       "'No, the paper does not provide a more specific location for where the species were observed or collected.'"
      ]
     },
     "execution_count": 51,
     "metadata": {},
     "output_type": "execute_result"
    }
   ],
   "source": [
    "# \"Can you give a more specific location?\"\n",
    "\n",
    "result8c[\"answer\"]"
   ]
  },
  {
   "cell_type": "code",
   "execution_count": 52,
   "id": "38135338",
   "metadata": {
    "scrolled": true
   },
   "outputs": [
    {
     "data": {
      "text/plain": [
       "[HumanMessage(content='What is this paper about?', additional_kwargs={}, example=False),\n",
       " AIMessage(content='This paper is about evolutionary variation in the mechanics of fiddler crab claws. It likely explores how different species or populations of fiddler crabs have developed unique claw structures and functions over time through the process of evolution.', additional_kwargs={}, example=False),\n",
       " HumanMessage(content='What were some key differences in chela size between sex and species?', additional_kwargs={}, example=False),\n",
       " AIMessage(content='The study found that there were statistically significant differences in chela size between sexes and species. In Hemigrapsus nudus, female crabs had a high variance in chela size parameters, with carapace width explaining a high percentage of the variance in propal height and propal width. In Hemigrapsus oregonensis, male crabs had the greatest variation in chela size parameters. Overall, carapace width was found to have a greater ability to explain the variance in chela size parameters in females of both crab species.', additional_kwargs={}, example=False),\n",
       " HumanMessage(content='Summarize the paper concisely with reference to materials and methods.', additional_kwargs={}, example=False),\n",
       " AIMessage(content=\"I'm sorry, but I don't have access to the full paper and cannot provide a concise summary or details about the materials and methods used.\", additional_kwargs={}, example=False),\n",
       " HumanMessage(content='Write a one sentence summary of the purpose of the paper', additional_kwargs={}, example=False),\n",
       " AIMessage(content='The purpose of the paper was to address the limitations of a previous study and suggest improvements for future studies on crabs, including increasing the number of crabs, excluding non-feeding crabs, and extending the trial periods.', additional_kwargs={}, example=False),\n",
       " HumanMessage(content='Terms that may be used to identify an observation include “in the field”, “this study”, “observed”, “taken”, “collected”, “sampled”, “collection”, “seen”, “harvested”, “found”, etc. Does the paper include one or more observations?', additional_kwargs={}, example=False),\n",
       " AIMessage(content='Based on the given context, it is not mentioned whether the paper includes one or more observations.', additional_kwargs={}, example=False),\n",
       " HumanMessage(content='Does this paper contain observational or experimental research conducted in the natural environment or with organisms collected in nature?', additional_kwargs={}, example=False),\n",
       " AIMessage(content='Based on the given context, it is not possible to determine whether the paper involved observational or experimental research conducted in the natural environment or with organisms collected in nature.', additional_kwargs={}, example=False),\n",
       " HumanMessage(content='Does this paper contain observational or experimental research conducted in the natural environment or with organisms collected in nature?', additional_kwargs={}, example=False),\n",
       " AIMessage(content=\"I don't know, as the provided context does not specify the content of the paper or the type of research conducted.\", additional_kwargs={}, example=False),\n",
       " HumanMessage(content='What are the scientific names of the collected species mentioned in this paper?', additional_kwargs={}, example=False),\n",
       " AIMessage(content='The scientific names mentioned in the paper are:\\n\\n- rapsus nudus: This is not a recognized scientific name. It may be a typographical error or a species name not widely recognized in the scientific community.\\n\\n- Hemigrapsus orogenensis: This is a recognized scientific name for a species of crab.\\n\\n- Littorina scutulata: This is a recognized scientific name for a species of periwinkle snail.\\n\\n- Lacuna vincta: This is a recognized scientific name for a species of sea snail.', additional_kwargs={}, example=False),\n",
       " HumanMessage(content='Does the paper mention where the species were observed or collected, and if so, what locations are given?', additional_kwargs={}, example=False),\n",
       " AIMessage(content='Yes, the paper mentions the location \"khorn Slough, Monterey County, California\" where the species were observed or collected.', additional_kwargs={}, example=False),\n",
       " HumanMessage(content='Can you give a more specific location?', additional_kwargs={}, example=False),\n",
       " AIMessage(content='No, the paper does not provide a more specific location for where the species were observed or collected.', additional_kwargs={}, example=False)]"
      ]
     },
     "execution_count": 52,
     "metadata": {},
     "output_type": "execute_result"
    }
   ],
   "source": [
    "result8c[\"chat_history\"]"
   ]
  },
  {
   "cell_type": "code",
   "execution_count": 53,
   "id": "16508e6b",
   "metadata": {},
   "outputs": [],
   "source": [
    "result9c = qa_chain({\"question\": query9, \"chat_history\": chat_history})"
   ]
  },
  {
   "cell_type": "code",
   "execution_count": 54,
   "id": "48eb6e50",
   "metadata": {},
   "outputs": [
    {
     "data": {
      "text/plain": [
       "\"I'm sorry, but I don't have access to the specific paper or any information about it. Therefore, I cannot provide you with the coordinate locations given in latitude/longitude.\""
      ]
     },
     "execution_count": 54,
     "metadata": {},
     "output_type": "execute_result"
    }
   ],
   "source": [
    "# \"Are any coordinate locations given in latitude / longitude, and if so, what are they?\"\n",
    "\n",
    "result9c[\"answer\"]"
   ]
  },
  {
   "cell_type": "code",
   "execution_count": 56,
   "id": "2a6be147",
   "metadata": {
    "scrolled": true
   },
   "outputs": [
    {
     "data": {
      "text/plain": [
       "[HumanMessage(content='What is this paper about?', additional_kwargs={}, example=False),\n",
       " AIMessage(content='This paper is about evolutionary variation in the mechanics of fiddler crab claws. It likely explores how different species or populations of fiddler crabs have developed unique claw structures and functions over time through the process of evolution.', additional_kwargs={}, example=False),\n",
       " HumanMessage(content='What were some key differences in chela size between sex and species?', additional_kwargs={}, example=False),\n",
       " AIMessage(content='The study found that there were statistically significant differences in chela size between sexes and species. In Hemigrapsus nudus, female crabs had a high variance in chela size parameters, with carapace width explaining a high percentage of the variance in propal height and propal width. In Hemigrapsus oregonensis, male crabs had the greatest variation in chela size parameters. Overall, carapace width was found to have a greater ability to explain the variance in chela size parameters in females of both crab species.', additional_kwargs={}, example=False),\n",
       " HumanMessage(content='Summarize the paper concisely with reference to materials and methods.', additional_kwargs={}, example=False),\n",
       " AIMessage(content=\"I'm sorry, but I don't have access to the full paper and cannot provide a concise summary or details about the materials and methods used.\", additional_kwargs={}, example=False),\n",
       " HumanMessage(content='Write a one sentence summary of the purpose of the paper', additional_kwargs={}, example=False),\n",
       " AIMessage(content='The purpose of the paper was to address the limitations of a previous study and suggest improvements for future studies on crabs, including increasing the number of crabs, excluding non-feeding crabs, and extending the trial periods.', additional_kwargs={}, example=False),\n",
       " HumanMessage(content='Terms that may be used to identify an observation include “in the field”, “this study”, “observed”, “taken”, “collected”, “sampled”, “collection”, “seen”, “harvested”, “found”, etc. Does the paper include one or more observations?', additional_kwargs={}, example=False),\n",
       " AIMessage(content='Based on the given context, it is not mentioned whether the paper includes one or more observations.', additional_kwargs={}, example=False),\n",
       " HumanMessage(content='Does this paper contain observational or experimental research conducted in the natural environment or with organisms collected in nature?', additional_kwargs={}, example=False),\n",
       " AIMessage(content='Based on the given context, it is not possible to determine whether the paper involved observational or experimental research conducted in the natural environment or with organisms collected in nature.', additional_kwargs={}, example=False),\n",
       " HumanMessage(content='Does this paper contain observational or experimental research conducted in the natural environment or with organisms collected in nature?', additional_kwargs={}, example=False),\n",
       " AIMessage(content=\"I don't know, as the provided context does not specify the content of the paper or the type of research conducted.\", additional_kwargs={}, example=False),\n",
       " HumanMessage(content='What are the scientific names of the collected species mentioned in this paper?', additional_kwargs={}, example=False),\n",
       " AIMessage(content='The scientific names mentioned in the paper are:\\n\\n- rapsus nudus: This is not a recognized scientific name. It may be a typographical error or a species name not widely recognized in the scientific community.\\n\\n- Hemigrapsus orogenensis: This is a recognized scientific name for a species of crab.\\n\\n- Littorina scutulata: This is a recognized scientific name for a species of periwinkle snail.\\n\\n- Lacuna vincta: This is a recognized scientific name for a species of sea snail.', additional_kwargs={}, example=False),\n",
       " HumanMessage(content='Does the paper mention where the species were observed or collected, and if so, what locations are given?', additional_kwargs={}, example=False),\n",
       " AIMessage(content='Yes, the paper mentions the location \"khorn Slough, Monterey County, California\" where the species were observed or collected.', additional_kwargs={}, example=False),\n",
       " HumanMessage(content='Can you give a more specific location?', additional_kwargs={}, example=False),\n",
       " AIMessage(content='No, the paper does not provide a more specific location for where the species were observed or collected.', additional_kwargs={}, example=False),\n",
       " HumanMessage(content='Are any coordinate locations given in latitude / longitude, and if so, what are they?', additional_kwargs={}, example=False),\n",
       " AIMessage(content=\"I'm sorry, but I don't have access to the specific paper or any information about it. Therefore, I cannot provide you with the coordinate locations given in latitude/longitude.\", additional_kwargs={}, example=False)]"
      ]
     },
     "execution_count": 56,
     "metadata": {},
     "output_type": "execute_result"
    }
   ],
   "source": [
    "result9c[\"chat_history\"]"
   ]
  },
  {
   "cell_type": "code",
   "execution_count": 254,
   "id": "6a927548",
   "metadata": {},
   "outputs": [],
   "source": [
    "result10c = qa_chain({\"question\": query10, \"chat_history\": chat_history})"
   ]
  },
  {
   "cell_type": "code",
   "execution_count": 255,
   "id": "631c2ba0",
   "metadata": {},
   "outputs": [
    {
     "data": {
      "text/plain": [
       "'Lacuna vincta was found at False Bay and Dead Man Cove, while Littorina scutulata was found at Fourth of July Beach.'"
      ]
     },
     "execution_count": 255,
     "metadata": {},
     "output_type": "execute_result"
    }
   ],
   "source": [
    "# \"Can you give a more specific location of the habitat such as formal name of said location?\"\n",
    "result10c[\"answer\"]"
   ]
  },
  {
   "cell_type": "code",
   "execution_count": 256,
   "id": "d9544c80",
   "metadata": {},
   "outputs": [],
   "source": [
    "result11c = qa_chain({\"question\": query11, \"chat_history\": chat_history})"
   ]
  },
  {
   "cell_type": "code",
   "execution_count": 257,
   "id": "79c9b483",
   "metadata": {},
   "outputs": [
    {
     "data": {
      "text/plain": [
       "'The given context does not provide any information regarding the collection or observation of the species, such as the year, date, or time.'"
      ]
     },
     "execution_count": 257,
     "metadata": {},
     "output_type": "execute_result"
    }
   ],
   "source": [
    "# \"Does the paper mention a year, date and/or time that species were collected or observed,\n",
    "# and if so, what was mentioned?\n",
    "result11c[\"answer\"]"
   ]
  },
  {
   "cell_type": "code",
   "execution_count": 258,
   "id": "ff2f5a78",
   "metadata": {},
   "outputs": [],
   "source": [
    "result12c = qa_chain({\"question\": query12, \"chat_history\": chat_history})"
   ]
  },
  {
   "cell_type": "code",
   "execution_count": 259,
   "id": "2b59f9fa",
   "metadata": {},
   "outputs": [
    {
     "data": {
      "text/plain": [
       "'Yes, the paper includes two figures: Figure 2 shows the relationship of carapace width and propal width in Hemigrapsus, and Figure 1 shows the relationship of carapace width and propal height in Hemigrapsus. The figures include lines of best fit from SMA regression. The paper also mentions Table 1A and Table 1B, which likely contain descriptive statistics related to the figures.'"
      ]
     },
     "execution_count": 259,
     "metadata": {},
     "output_type": "execute_result"
    }
   ],
   "source": [
    "#  \"Are there any maps, figures, tables or diagrams in the paper?\"\n",
    "result12c[\"answer\"]"
   ]
  },
  {
   "cell_type": "markdown",
   "id": "55ea4629",
   "metadata": {},
   "source": [
    "## ConversationalRetrievalChain Similarity Search w/ ConversationBufferMemory"
   ]
  },
  {
   "cell_type": "code",
   "execution_count": 57,
   "id": "5317b440",
   "metadata": {},
   "outputs": [],
   "source": [
    "tk_text_splitter = TokenTextSplitter(chunk_size = 800, chunk_overlap = 50)\n",
    "\n",
    "docs3 = tk_text_splitter.split_text(new_pdf_text)"
   ]
  },
  {
   "cell_type": "code",
   "execution_count": 58,
   "id": "acc60dbc",
   "metadata": {},
   "outputs": [],
   "source": [
    "vector_store2 = FAISS.from_texts(docs3, embeddings).as_retriever(search_type = \"similarity\", search_kwargs= {\"k\": 3})"
   ]
  },
  {
   "cell_type": "code",
   "execution_count": 59,
   "id": "dacc5547",
   "metadata": {},
   "outputs": [],
   "source": [
    "llm = ChatOpenAI(temperature=0, model_name='gpt-3.5-turbo')\n",
    "\n",
    "compressor = LLMChainExtractor.from_llm(llm)\n",
    "\n",
    "compression_retriever2 = ContextualCompressionRetriever(base_compressor = compressor,base_retriever=vector_store2)\n"
   ]
  },
  {
   "cell_type": "code",
   "execution_count": 60,
   "id": "f778b35b",
   "metadata": {},
   "outputs": [],
   "source": [
    "custom_template = \"\"\"Given the following conversation and a follow up question, rephrase the follow up question to be a standalone question. Please use a maximum of 4 sentences. If you do not know the answer reply with 'I am sorry'.\n",
    "1. SPECIES NAME: The scientific name (species name) of any plant, animal, fungus, alga or bacterium consists of two Latinized words. The first word is the name of the genus to which the organism belongs. The second word is the specific epithet or specific term of the species. Together, the genus plus the specific epithet make up the species name. The species name and scientific name are synonyms.\n",
    "2. HABITAT: A species habitat can be seen as the physical manifestation of its ecological niche.\n",
    "3. LOC: Name of any geographic location, like cities, countries, continents, districts etc.\n",
    "\n",
    "Examples:\n",
    "\n",
    "1. Sentence: Strongylocentrotus fransiscanus and S. purpuratus were obtained from the subtidal and intertidal regions, respectively, of Monterey Bay.\n",
    "\"Output: {{'SPECIES NAME': ['Strongylocentrotus fransiscanus', 'S. purpuratus'], 'HABITAT': ['subtidal', 'intertidal'], 'LOC': ['Monterey Bay']}}\n",
    "\n",
    "2. Sentence: Cucumaria curata and C. pseudocurata live and feed in the hydrodynamically stressful environment of exposed intertidal areas.\n",
    "Output: {{'SPECIES NAME': ['Cucumaria curata', 'C. pseudocurata'], 'HABITAT': ['exposed intertidal'], 'LOC': ['None']}}\\n\"\n",
    "\n",
    "Chat History:\n",
    "{chat_history}\n",
    "Follow Up Input: {question}\n",
    "inputVariables: [\"context\", \"question\", \"chat_history\"]\n",
    "\"\"\""
   ]
  },
  {
   "cell_type": "code",
   "execution_count": 61,
   "id": "f71c2995",
   "metadata": {},
   "outputs": [],
   "source": [
    "CUSTOM_QUESTION_PROMPT = PromptTemplate.from_template(custom_template)"
   ]
  },
  {
   "cell_type": "code",
   "execution_count": 62,
   "id": "1e61a83b",
   "metadata": {},
   "outputs": [],
   "source": [
    "# We can now create a memory object, which is necessary to track the\n",
    "# inputs/outputs and hold a conversation.\n",
    "\n",
    "\n",
    "from langchain.memory import ConversationBufferMemory\n",
    "memory = ConversationBufferMemory(llm=llm, input_key='question', output_key='answer', memory_key=\"chat_history\", return_messages=True)"
   ]
  },
  {
   "cell_type": "code",
   "execution_count": 63,
   "id": "af397002",
   "metadata": {},
   "outputs": [],
   "source": [
    "# We now initialize the ConversationalRetrievalChain\n",
    "\n",
    "\n",
    "qa_chain_2 = ConversationalRetrievalChain.from_llm(ChatOpenAI(), \n",
    "                                                 compression_retriever2,\n",
    "                                                 memory = memory,\n",
    "                                                 return_source_documents = True,\n",
    "                                                 condense_question_prompt = CUSTOM_QUESTION_PROMPT)\n",
    "                                                "
   ]
  },
  {
   "cell_type": "code",
   "execution_count": 64,
   "id": "fcb17f91",
   "metadata": {},
   "outputs": [],
   "source": [
    "query = \"What is this paper about?\"\n",
    "query1a = \"What were the significant findings on the relationship mentioned?\"\n",
    "query2 = \"Summarize the paper concisely with reference to materials and methods.\"\n",
    "query3 = \"Write a one sentence summary of the purpose of the paper\"\n",
    "query4 = \"Terms that may be used to identify an observation include “in the field”, “this study”, “observed”, “taken”, “collected”, “sampled”, “collection”, “seen”, “harvested”, “found”, etc. Does the paper include one or more observations?\"\n",
    "query5 = \"Does this paper contain observational or experimental research conducted in the natural environment or with organisms collected in nature?\"\n",
    "query6 = \"What are the scientific names of the collected species mentioned in this paper?\"\n",
    "query6a = \"Were there other species collected?\"\n",
    "query7 = \"Does the paper mention where the species were observed or collected, and if so, what locations are given?\"\n",
    "query7a = \"Please list the species collected based on their scientific names along with location of collection.\"\n",
    "query8 = \"Can you give a more specific location?\"\n",
    "query9 = \"Are any coordinate locations given in latitude / longitude, and if so, what are they?\"\n",
    "query10 = \"In what habitat were the species found?\"\n",
    "query10a = \"Can you give a more specific location of the habitat such as formal name of said location?\"\n",
    "query11 = \"Does the paper mention a year, date and/or time that species were collected or observed, and if so, what was mentioned?\"\n",
    "query12 = \"Are there any maps, figures, tables or diagrams in the paper?\""
   ]
  },
  {
   "cell_type": "code",
   "execution_count": 65,
   "id": "857322e8",
   "metadata": {},
   "outputs": [],
   "source": [
    "chat_history = []"
   ]
  },
  {
   "cell_type": "code",
   "execution_count": 66,
   "id": "8c3a873d",
   "metadata": {},
   "outputs": [],
   "source": [
    "result1a = qa_chain_2({\"question\": query, \"chat_history\": chat_history})"
   ]
  },
  {
   "cell_type": "code",
   "execution_count": 67,
   "id": "8739418d",
   "metadata": {},
   "outputs": [
    {
     "data": {
      "text/plain": [
       "'This paper is about the morphometric analysis of two species of crabs, Hemigrapsus nudus and Hemigrapsus oregonensis. The study investigates the relationship between body size and propus size in these crabs, as well as the feeding preference for different types of snails. The paper also compares the chela size (claw size) between the two species and explores the potential for character displacement. Additionally, the paper discusses the variation in snail consumption rates among individual crabs.'"
      ]
     },
     "execution_count": 67,
     "metadata": {},
     "output_type": "execute_result"
    }
   ],
   "source": [
    "#\"What is this paper about?\"\n",
    "result1a[\"answer\"]"
   ]
  },
  {
   "cell_type": "code",
   "execution_count": 68,
   "id": "3af5d390",
   "metadata": {},
   "outputs": [
    {
     "data": {
      "text/plain": [
       "[Document(page_content='Mean Consumption Rate  \\n(Snails Consumed/Hour) \\nIndividual H. nudus', metadata={}),\n",
       " Document(page_content='A few interesting patterns emerged in the morphometric analysis of Hemigrapsus nudus and Hemigrapsus orogenensis. The variance in propal height or propal width explained by carapace width was surprisingly high in female H. nudus with R2 values of 0.976 found for propal height and 0.927 for propal width. Male H. oregenensis had the greatest variation in chela size parameters, demonstrated by R2 of 0.693 and 0.534 for propal height and propal width respectively. The R2 values for propal width regressed against carapace width were consistently lower than propal height regressed against carapace width across species and sexes (Table 1). In general the ability of carapace width to explain the variance in chela size parameters (i.', metadata={}),\n",
       " Document(page_content='The relationship between propus size and use of snails as prey in sympatric populations \\nof Hemigrapsus nudus and Hemigrapsus oregonensis was investigated. Propal height and propal \\nwidth increases with body size in a predictable manner in male and female crabs of both species. \\nSexual dimorphism of propal height and width relationships in both shore crabs is apparent, but \\nthere was no detectible difference in chela size between H. nudus and H. oregonensis. The lack \\nof difference in chela size between sympatric H. nudus and H. oregonensis suggests that there is \\nno character displacement in this trait. Both species of crabs showed a strong feeding preference \\nfor the thin-shelled gastropod Lacuna vincta over the thicker shelled Littorina scutulata, likely \\ndue to the ease of consumption. There were no differences in snail consumption rates between \\nmale and female H. nudus of similar propal heights, mostly due to high feeding variation among \\nindividual crabs.', metadata={})]"
      ]
     },
     "execution_count": 68,
     "metadata": {},
     "output_type": "execute_result"
    }
   ],
   "source": [
    "result1a[\"source_documents\"]"
   ]
  },
  {
   "cell_type": "code",
   "execution_count": 69,
   "id": "97e0f4a8",
   "metadata": {},
   "outputs": [
    {
     "data": {
      "text/plain": [
       "[HumanMessage(content='What is this paper about?', additional_kwargs={}, example=False),\n",
       " AIMessage(content='This paper is about the morphometric analysis of two species of crabs, Hemigrapsus nudus and Hemigrapsus oregonensis. The study investigates the relationship between body size and propus size in these crabs, as well as the feeding preference for different types of snails. The paper also compares the chela size (claw size) between the two species and explores the potential for character displacement. Additionally, the paper discusses the variation in snail consumption rates among individual crabs.', additional_kwargs={}, example=False)]"
      ]
     },
     "execution_count": 69,
     "metadata": {},
     "output_type": "execute_result"
    }
   ],
   "source": [
    "result1a[\"chat_history\"]"
   ]
  },
  {
   "cell_type": "code",
   "execution_count": 70,
   "id": "7c35ad8f",
   "metadata": {},
   "outputs": [],
   "source": [
    "result1b = qa_chain_2({\"question\": query, \"chat_history\": chat_history})"
   ]
  },
  {
   "cell_type": "code",
   "execution_count": 71,
   "id": "38872b0f",
   "metadata": {},
   "outputs": [
    {
     "data": {
      "text/plain": [
       "'The paper investigates the relationship between body size and propus size in Hemigrapsus nudus and Hemigrapsus oregonensis crabs. It also compares the chela size between the two species and explores the potential for character displacement. Additionally, the paper discusses the variation in snail consumption rates among individual crabs.'"
      ]
     },
     "execution_count": 71,
     "metadata": {},
     "output_type": "execute_result"
    }
   ],
   "source": [
    "# What were the significant findings on the relationship mentioned\n",
    "result1b[\"answer\"]"
   ]
  },
  {
   "cell_type": "code",
   "execution_count": 72,
   "id": "079a3721",
   "metadata": {},
   "outputs": [
    {
     "data": {
      "text/plain": [
       "[Document(page_content='The paper investigates the relationship between body size and propus size in Hemigrapsus nudus and Hemigrapsus oregonensis crabs. It also compares the chela size between the two species and explores the potential for character displacement. Additionally, the paper discusses the variation in snail consumption rates among individual crabs.', metadata={}),\n",
       " Document(page_content='The paper investigates the relationship between body size and propus size in Hemigrapsus nudus and Hemigrapsus oregonensis crabs. It also compares the chela size between the two species and explores the potential for character displacement. Additionally, the paper discusses the variation in snail consumption rates among individual crabs.', metadata={}),\n",
       " Document(page_content='This paper is about the morphometric analysis of two species of crabs, Hemigrapsus nudus and Hemigrapsus oregonensis. It investigates the relationship between body size and propus size in these crabs, as well as the feeding preference for different types of snails. The paper also compares the chela size (claw size) between the two species and explores the potential for character displacement. Additionally, the paper discusses the variation in snail consumption rates among individual crabs.', metadata={})]"
      ]
     },
     "execution_count": 72,
     "metadata": {},
     "output_type": "execute_result"
    }
   ],
   "source": [
    "result1b[\"source_documents\"]"
   ]
  },
  {
   "cell_type": "code",
   "execution_count": 73,
   "id": "7dddce4c",
   "metadata": {},
   "outputs": [
    {
     "data": {
      "text/plain": [
       "[HumanMessage(content='What is this paper about?', additional_kwargs={}, example=False),\n",
       " AIMessage(content='This paper is about the morphometric analysis of two species of crabs, Hemigrapsus nudus and Hemigrapsus oregonensis. The study investigates the relationship between body size and propus size in these crabs, as well as the feeding preference for different types of snails. The paper also compares the chela size (claw size) between the two species and explores the potential for character displacement. Additionally, the paper discusses the variation in snail consumption rates among individual crabs.', additional_kwargs={}, example=False),\n",
       " HumanMessage(content='What is this paper about?', additional_kwargs={}, example=False),\n",
       " AIMessage(content='The paper investigates the relationship between body size and propus size in Hemigrapsus nudus and Hemigrapsus oregonensis crabs. It also compares the chela size between the two species and explores the potential for character displacement. Additionally, the paper discusses the variation in snail consumption rates among individual crabs.', additional_kwargs={}, example=False)]"
      ]
     },
     "execution_count": 73,
     "metadata": {},
     "output_type": "execute_result"
    }
   ],
   "source": [
    "result1b[\"chat_history\"]"
   ]
  },
  {
   "cell_type": "code",
   "execution_count": 74,
   "id": "30535438",
   "metadata": {},
   "outputs": [],
   "source": [
    "result2b = qa_chain_2({\"question\": query2, \"chat_history\": chat_history})"
   ]
  },
  {
   "cell_type": "code",
   "execution_count": 75,
   "id": "dbc658cb",
   "metadata": {},
   "outputs": [
    {
     "data": {
      "text/plain": [
       "'The materials and methods used in this study involved measuring the carapace width, propal height, and propal width of female and male H. oregonensis and H. nudus. The relationship between carapace width and propal height/width was analyzed using SMA regression. Consumption rates of individual H. nudus were also recorded in 8 trials. Statistical analyses were conducted to determine the significance of sex, species, and their interaction on the carapace width to propal height/width ratios.'"
      ]
     },
     "execution_count": 75,
     "metadata": {},
     "output_type": "execute_result"
    }
   ],
   "source": [
    "#\"Summarize the paper concisely with reference to materials and methods.\"\n",
    "\n",
    "result2b[\"answer\"]"
   ]
  },
  {
   "cell_type": "code",
   "execution_count": 76,
   "id": "83708118",
   "metadata": {},
   "outputs": [
    {
     "data": {
      "text/plain": [
       "[Document(page_content='Mean Consumption Rate  \\n(Snails Consumed/Hour) \\nIndividual H. nudus', metadata={}),\n",
       " Document(page_content='Figure 1: Relationship of carapace width and propal height in Hemigrapsus. Line of best fit from \\nSMA regression. See Table 1A for descriptive statistics. A) Female H. nudus. B) Male H. nudus. \\nC) Female H. oregonensis. D) Male H. oregonensis.  \\n\\nFigure 2: Relationship of carapace width and propal width in Hemigrapsus.  \\nLine of best fit from SMA regression. See Table 1B for descriptive statistics. A) Female H. \\nnudus. B) Male H. nudus. C)Female H. oregonensis. D) Male H. oregonensis.  \\n\\nFigure 3: Differences in propal height:carapace width ratio between sex and species. \\nThe sex factor was statistically significant (F = 125.6. p < 0.001), while the species factor was \\ninsignificant (F > 0.01, p = 0.983). There was a significant interaction (F = 4.39, p = 0.042). \\nError bars represent standard error of the mean.  \\n\\nFigure 4: Differences in propal width:carapace width ratio between sex and species. \\nThe sex factor was statistically significant (F1,45 = 103.8. p < 0.001), while the species factor was \\ninsignificant (F1,45  = 0.09, p = 0.764). There was a significant interaction (F1,45  = 7.19, p = \\n0.01). Error bars represent standard error of the mean.  \\n\\nFigure 5: Consumption rates by individual H. nudus.  \\nMean consumption rates (n = 8 trials) of 3 female (Fe1 to Fe3) and 3 male (Ma1 to Ma3) H. \\nnudus. Crabs Fe1, Fe3, and Ma3 did not consume snails. The individuals that eat snails did not \\ndiffer in their consumption rates (F2,21  = 2.52, p = 0.104). Error bars represent standard error of \\nthe mean.', metadata={}),\n",
       " Document(page_content='ace width was a good predictor of both propal height (Figure 1, Table 1A) and \\npropal width (Figure 2, Table 1B) in female and male H. oregonensis and H. nudus. There was \\nless variation in the relationship between carapace width and propal height than with propal \\nwidth.  Due to non-normality of CW:PH and CW:PW an arcsin transformation was used. A \\nsignificant effect for sex was found for both CW:PH (F1, 45 = 125.6, p < 0.001) and CW:PW  (F1, \\n45 = 103.81, p < 0.001). There was no significant difference between Hemigrapsus species for \\nCW:PH (F1, 45 < 0.01, p = 0.983) and CW:PW (F1, 45 = 0.09, p = 0.764). A significant \\nsex*species interaction was detected for both CW:PH (F1, 45 4.39, p = 0.042) and CW:PW (F1, 45 \\n= 7.19, p = 0.010). Figure 3 and 4 show the means of CW:PH and CW:PW in by sex and species \\nrespectively.', metadata={})]"
      ]
     },
     "execution_count": 76,
     "metadata": {},
     "output_type": "execute_result"
    }
   ],
   "source": [
    "result2b[\"source_documents\"]"
   ]
  },
  {
   "cell_type": "code",
   "execution_count": 77,
   "id": "acad0989",
   "metadata": {},
   "outputs": [
    {
     "data": {
      "text/plain": [
       "[HumanMessage(content='What is this paper about?', additional_kwargs={}, example=False),\n",
       " AIMessage(content='This paper is about the morphometric analysis of two species of crabs, Hemigrapsus nudus and Hemigrapsus oregonensis. The study investigates the relationship between body size and propus size in these crabs, as well as the feeding preference for different types of snails. The paper also compares the chela size (claw size) between the two species and explores the potential for character displacement. Additionally, the paper discusses the variation in snail consumption rates among individual crabs.', additional_kwargs={}, example=False),\n",
       " HumanMessage(content='What is this paper about?', additional_kwargs={}, example=False),\n",
       " AIMessage(content='The paper investigates the relationship between body size and propus size in Hemigrapsus nudus and Hemigrapsus oregonensis crabs. It also compares the chela size between the two species and explores the potential for character displacement. Additionally, the paper discusses the variation in snail consumption rates among individual crabs.', additional_kwargs={}, example=False),\n",
       " HumanMessage(content='Summarize the paper concisely with reference to materials and methods.', additional_kwargs={}, example=False),\n",
       " AIMessage(content='The materials and methods used in this study involved measuring the carapace width, propal height, and propal width of female and male H. oregonensis and H. nudus. The relationship between carapace width and propal height/width was analyzed using SMA regression. Consumption rates of individual H. nudus were also recorded in 8 trials. Statistical analyses were conducted to determine the significance of sex, species, and their interaction on the carapace width to propal height/width ratios.', additional_kwargs={}, example=False)]"
      ]
     },
     "execution_count": 77,
     "metadata": {},
     "output_type": "execute_result"
    }
   ],
   "source": [
    "result2b[\"chat_history\"]"
   ]
  },
  {
   "cell_type": "code",
   "execution_count": 78,
   "id": "40d98fe0",
   "metadata": {},
   "outputs": [],
   "source": [
    "result3b = qa_chain_2({\"question\": query3, \"chat_history\": chat_history})"
   ]
  },
  {
   "cell_type": "code",
   "execution_count": 79,
   "id": "66ea13a4",
   "metadata": {},
   "outputs": [
    {
     "data": {
      "text/plain": [
       "'Based on the provided context, it is not possible to determine the purpose or main objective of the paper.'"
      ]
     },
     "execution_count": 79,
     "metadata": {},
     "output_type": "execute_result"
    }
   ],
   "source": [
    "#\"Write a one sentence summary of the purpose of the paper\"\n",
    "\n",
    "result3b[\"answer\"]"
   ]
  },
  {
   "cell_type": "code",
   "execution_count": 80,
   "id": "8c2cabf4",
   "metadata": {},
   "outputs": [
    {
     "data": {
      "text/plain": [
       "[Document(page_content='Table 1: SMA regressions of carapace width and propus measures.  \\nA) The relationship between carapace width and propal height. x is carapace width and y is \\npropal height. B) The relationship between carapace width and propal height. x is carapace width \\nand y is propal width.', metadata={})]"
      ]
     },
     "execution_count": 80,
     "metadata": {},
     "output_type": "execute_result"
    }
   ],
   "source": [
    "result3b[\"source_documents\"]"
   ]
  },
  {
   "cell_type": "code",
   "execution_count": 81,
   "id": "0cdc9adc",
   "metadata": {},
   "outputs": [
    {
     "data": {
      "text/plain": [
       "[HumanMessage(content='What is this paper about?', additional_kwargs={}, example=False),\n",
       " AIMessage(content='This paper is about the morphometric analysis of two species of crabs, Hemigrapsus nudus and Hemigrapsus oregonensis. The study investigates the relationship between body size and propus size in these crabs, as well as the feeding preference for different types of snails. The paper also compares the chela size (claw size) between the two species and explores the potential for character displacement. Additionally, the paper discusses the variation in snail consumption rates among individual crabs.', additional_kwargs={}, example=False),\n",
       " HumanMessage(content='What is this paper about?', additional_kwargs={}, example=False),\n",
       " AIMessage(content='The paper investigates the relationship between body size and propus size in Hemigrapsus nudus and Hemigrapsus oregonensis crabs. It also compares the chela size between the two species and explores the potential for character displacement. Additionally, the paper discusses the variation in snail consumption rates among individual crabs.', additional_kwargs={}, example=False),\n",
       " HumanMessage(content='Summarize the paper concisely with reference to materials and methods.', additional_kwargs={}, example=False),\n",
       " AIMessage(content='The materials and methods used in this study involved measuring the carapace width, propal height, and propal width of female and male H. oregonensis and H. nudus. The relationship between carapace width and propal height/width was analyzed using SMA regression. Consumption rates of individual H. nudus were also recorded in 8 trials. Statistical analyses were conducted to determine the significance of sex, species, and their interaction on the carapace width to propal height/width ratios.', additional_kwargs={}, example=False),\n",
       " HumanMessage(content='Write a one sentence summary of the purpose of the paper', additional_kwargs={}, example=False),\n",
       " AIMessage(content='Based on the provided context, it is not possible to determine the purpose or main objective of the paper.', additional_kwargs={}, example=False)]"
      ]
     },
     "execution_count": 81,
     "metadata": {},
     "output_type": "execute_result"
    }
   ],
   "source": [
    "result3b[\"chat_history\"]"
   ]
  },
  {
   "cell_type": "code",
   "execution_count": 43,
   "id": "c208e6aa",
   "metadata": {},
   "outputs": [],
   "source": [
    "result4b = qa_chain_2({\"question\": query4, \"chat_history\": chat_history})"
   ]
  },
  {
   "cell_type": "code",
   "execution_count": 44,
   "id": "54e2ebab",
   "metadata": {},
   "outputs": [
    {
     "data": {
      "text/plain": [
       "'Yes, the paper includes multiple observations.'"
      ]
     },
     "execution_count": 44,
     "metadata": {},
     "output_type": "execute_result"
    }
   ],
   "source": [
    "#\"Terms that may be used to identify an observation include “in the field”, \n",
    "#“this study”, “observed”, “taken”, “collected”, “sampled”, “collection”, “seen”,\n",
    "#“harvested”, “found”, etc. Does the paper include one or more observations?\"\n",
    "\n",
    "result4b[\"answer\"]"
   ]
  },
  {
   "cell_type": "code",
   "execution_count": 45,
   "id": "47d80735",
   "metadata": {},
   "outputs": [
    {
     "data": {
      "text/plain": [
       "[Document(page_content='una vincta, in the Class Gastropoda and Family Littoridae, were collected at False Bay and \\nDead Man Cove. Littorina scutulata, in the Class Gastropoda and Family Littoridae, were \\ncollected from the rocky intertidal zone of Fourth of July Beach.', metadata={}),\n",
       " Document(page_content='There were no detectible difference in chela size between H. nudus and H. oregonensis. Both species of crabs showed a strong feeding preference for the thin-shelled gastropod Lacuna vincta over the thicker shelled Littorina scutulata. There were no differences in snail consumption rates between male and female H. nudus of similar propal heights.', metadata={})]"
      ]
     },
     "execution_count": 45,
     "metadata": {},
     "output_type": "execute_result"
    }
   ],
   "source": [
    "result4b[\"source_documents\"]"
   ]
  },
  {
   "cell_type": "code",
   "execution_count": 47,
   "id": "2d185876",
   "metadata": {},
   "outputs": [],
   "source": [
    "result5b = qa_chain_2({\"question\": query5, \"chat_history\": chat_history})"
   ]
  },
  {
   "cell_type": "code",
   "execution_count": 48,
   "id": "a3f23ccb",
   "metadata": {},
   "outputs": [
    {
     "data": {
      "text/plain": [
       "'Based on the given context, it appears that the research described in the paper involves observational research conducted in the natural environment. The researchers collected snails from different locations in the natural habitat and observed the feeding preferences of the crabs in their natural environment.'"
      ]
     },
     "execution_count": 48,
     "metadata": {},
     "output_type": "execute_result"
    }
   ],
   "source": [
    "#\"Does this paper contain observational or experimental research conducted in the natural environment \n",
    "#or with organisms collected in nature?\"\n",
    "\n",
    "result5b[\"answer\"]"
   ]
  },
  {
   "cell_type": "code",
   "execution_count": 49,
   "id": "c6a63e0a",
   "metadata": {},
   "outputs": [
    {
     "data": {
      "text/plain": [
       "[Document(page_content='The relationship between propus size and use of snails as prey in sympatric populations \\nof Hemigrapsus nudus and Hemigrapsus oregonensis was investigated. Both species of crabs showed a strong feeding preference \\nfor the thin-shelled gastropod Lacuna vincta over the thicker shelled Littorina scutulata, likely \\ndue to the ease of consumption. There were no differences in snail consumption rates between \\nmale and female H. nudus of similar propal heights, mostly due to high feeding variation among \\nindividual crabs.', metadata={}),\n",
       " Document(page_content='una vincta, in the Class Gastropoda and Family Littoridae, were collected at False Bay and \\nDead Man Cove. Littorina scutulata, in the Class Gastropoda and Family Littoridae, were \\ncollected from the rocky intertidal zone of Fourth of July Beach.', metadata={})]"
      ]
     },
     "execution_count": 49,
     "metadata": {},
     "output_type": "execute_result"
    }
   ],
   "source": [
    "result5b[\"source_documents\"]"
   ]
  },
  {
   "cell_type": "code",
   "execution_count": 53,
   "id": "2fd80809",
   "metadata": {},
   "outputs": [],
   "source": [
    "result6b = qa_chain_2({\"question\": query6, \"chat_history\": chat_history})"
   ]
  },
  {
   "cell_type": "code",
   "execution_count": 54,
   "id": "7bab7bc1",
   "metadata": {},
   "outputs": [
    {
     "data": {
      "text/plain": [
       "'The scientific names of the collected species mentioned in the paper are as follows:\\n\\n- Lacuna vincta\\n- Littorina scutulata\\n- Hemigrapsus nudus\\n- Hemigrapsus oregonensis'"
      ]
     },
     "execution_count": 54,
     "metadata": {},
     "output_type": "execute_result"
    }
   ],
   "source": [
    "# \"What are the scientific names of the collected species mentioned in this paper?\"\n",
    "\n",
    "result6b[\"answer\"]"
   ]
  },
  {
   "cell_type": "code",
   "execution_count": 55,
   "id": "c118ce22",
   "metadata": {},
   "outputs": [
    {
     "data": {
      "text/plain": [
       "[Document(page_content='una vincta, in the Class Gastropoda and Family Littoridae, were collected at False Bay and \\nDead Man Cove. Littorina scutulata, in the Class Gastropoda and Family Littoridae, were \\ncollected from the rocky intertidal zone of Fourth of July Beach.', metadata={}),\n",
       " Document(page_content='Hemigrapsus nudus, Hemigrapsus oregonensis, Littorina scutulata, Lacuna vincta', metadata={})]"
      ]
     },
     "execution_count": 55,
     "metadata": {},
     "output_type": "execute_result"
    }
   ],
   "source": [
    "result6b[\"source_documents\"]"
   ]
  },
  {
   "cell_type": "code",
   "execution_count": 56,
   "id": "b3a29158",
   "metadata": {},
   "outputs": [],
   "source": [
    "result7b = qa_chain_2({\"question\": query7, \"chat_history\": chat_history})"
   ]
  },
  {
   "cell_type": "code",
   "execution_count": 57,
   "id": "28a7d954",
   "metadata": {},
   "outputs": [
    {
     "data": {
      "text/plain": [
       "'Yes, the paper mentions the locations where the species were collected. Lacuna vincta was collected at False Bay and Dead Man Cove, while Littorina scutulata was collected from the rocky intertidal zone of Fourth of July Beach.'"
      ]
     },
     "execution_count": 57,
     "metadata": {},
     "output_type": "execute_result"
    }
   ],
   "source": [
    "#\"Does the paper mention where the species were observed or collected, and if so, what locations are given?\"\n",
    "result7b[\"answer\"]"
   ]
  },
  {
   "cell_type": "code",
   "execution_count": 58,
   "id": "5c2c8428",
   "metadata": {},
   "outputs": [
    {
     "data": {
      "text/plain": [
       "[Document(page_content='una vincta, in the Class Gastropoda and Family Littoridae, were collected at False Bay and \\nDead Man Cove. Littorina scutulata, in the Class Gastropoda and Family Littoridae, were \\ncollected from the rocky intertidal zone of Fourth of July Beach.', metadata={}),\n",
       " Document(page_content='Both species of crabs showed a strong feeding preference for the thin-shelled gastropod Lacuna vincta over the thicker shelled Littorina scutulata, likely due to the ease of consumption.', metadata={})]"
      ]
     },
     "execution_count": 58,
     "metadata": {},
     "output_type": "execute_result"
    }
   ],
   "source": [
    "result7b[\"source_documents\"]"
   ]
  },
  {
   "cell_type": "code",
   "execution_count": 59,
   "id": "3e657e4b",
   "metadata": {},
   "outputs": [],
   "source": [
    "result7c = qa_chain_2({\"question\": query7a, \"chat_history\": chat_history})"
   ]
  },
  {
   "cell_type": "code",
   "execution_count": 60,
   "id": "0500cfb5",
   "metadata": {},
   "outputs": [
    {
     "data": {
      "text/plain": [
       "'- Lacuna vincta: collected at False Bay and Dead Man Cove.\\n- Littorina scutulata: collected from the rocky intertidal zone of Fourth of July Beach.\\n- Hemigrapsus nudus and Hemigrapsus oregonensis: The specific locations of collection are not mentioned in the given context.'"
      ]
     },
     "execution_count": 60,
     "metadata": {},
     "output_type": "execute_result"
    }
   ],
   "source": [
    "# \"Can you give a more specific location?\"\n",
    "\n",
    "result7c[\"answer\"]"
   ]
  },
  {
   "cell_type": "code",
   "execution_count": 61,
   "id": "6ee5915d",
   "metadata": {},
   "outputs": [],
   "source": [
    "result8b = qa_chain_2({\"question\": query8, \"chat_history\": chat_history})"
   ]
  },
  {
   "cell_type": "code",
   "execution_count": 62,
   "id": "855cd699",
   "metadata": {},
   "outputs": [
    {
     "data": {
      "text/plain": [
       "'Yes, the una vincta gastropods were collected at False Bay and Dead Man Cove, while the Littorina scutulata gastropods were collected from the rocky intertidal zone of Fourth of July Beach.'"
      ]
     },
     "execution_count": 62,
     "metadata": {},
     "output_type": "execute_result"
    }
   ],
   "source": [
    "result8b[\"answer\"]"
   ]
  },
  {
   "cell_type": "code",
   "execution_count": 63,
   "id": "95241892",
   "metadata": {},
   "outputs": [
    {
     "data": {
      "text/plain": [
       "[Document(page_content='una vincta, in the Class Gastropoda and Family Littoridae, were collected at False Bay and \\nDead Man Cove. Littorina scutulata, in the Class Gastropoda and Family Littoridae, were \\ncollected from the rocky intertidal zone of Fourth of July Beach.', metadata={})]"
      ]
     },
     "execution_count": 63,
     "metadata": {},
     "output_type": "execute_result"
    }
   ],
   "source": [
    "result8b[\"source_documents\"]"
   ]
  },
  {
   "cell_type": "code",
   "execution_count": 64,
   "id": "2e2b6675",
   "metadata": {},
   "outputs": [],
   "source": [
    "result9b = qa_chain_2({\"question\": query9, \"chat_history\": chat_history})"
   ]
  },
  {
   "cell_type": "code",
   "execution_count": 65,
   "id": "24abbb0c",
   "metadata": {},
   "outputs": [
    {
     "data": {
      "text/plain": [
       "'Yes, there are coordinate locations given in latitude/longitude.'"
      ]
     },
     "execution_count": 65,
     "metadata": {},
     "output_type": "execute_result"
    }
   ],
   "source": [
    "# \"Are any coordinate locations given in latitude / longitude, and if so, what are they?\"\n",
    "result9b[\"answer\"]"
   ]
  },
  {
   "cell_type": "code",
   "execution_count": 66,
   "id": "45cf3cff",
   "metadata": {},
   "outputs": [
    {
     "data": {
      "text/plain": [
       "[]"
      ]
     },
     "execution_count": 66,
     "metadata": {},
     "output_type": "execute_result"
    }
   ],
   "source": [
    "result9b[\"source_documents\"]"
   ]
  },
  {
   "cell_type": "code",
   "execution_count": 67,
   "id": "879fbdac",
   "metadata": {},
   "outputs": [],
   "source": [
    "result10b = qa_chain_2({\"question\": query10, \"chat_history\": chat_history})"
   ]
  },
  {
   "cell_type": "code",
   "execution_count": 68,
   "id": "503fbbb9",
   "metadata": {},
   "outputs": [
    {
     "data": {
      "text/plain": [
       "'The species were found in the rocky intertidal zone and adjacent intertidal areas of False Bay, Dead Man Cove, Fourth of July Beach, and the intertidal adjacent to the Friday Harbor Laboratories dock on San Juan Island, Washington.'"
      ]
     },
     "execution_count": 68,
     "metadata": {},
     "output_type": "execute_result"
    }
   ],
   "source": [
    "#  \"In what habitat were the species found?\"\n",
    "result10b[\"answer\"]"
   ]
  },
  {
   "cell_type": "code",
   "execution_count": 69,
   "id": "2a6a9c5f",
   "metadata": {},
   "outputs": [
    {
     "data": {
      "text/plain": [
       "[Document(page_content='There is still considerable habitat overlap between these two species; the underside of a single rock may have roughly equal abundances of the two crab species (personal observation).', metadata={}),\n",
       " Document(page_content='una vincta, in the Class Gastropoda and Family Littoridae, were collected at False Bay and \\nDead Man Cove. Littorina scutulata, in the Class Gastropoda and Family Littoridae, were \\ncollected from the rocky intertidal zone of Fourth of July Beach.', metadata={}),\n",
       " Document(page_content='All specimens were collected on San Juan Island, Washington.  Two shore crabs (clade: \\nBrachyura: Family Grapsidae), Hemigrapsus oregonensis  and Hemigrapsus nudus were \\ncollected in the intertidal adjacent to the Friday Harbor Laboratories dock.', metadata={})]"
      ]
     },
     "execution_count": 69,
     "metadata": {},
     "output_type": "execute_result"
    }
   ],
   "source": [
    "result10b[\"source_documents\"]"
   ]
  },
  {
   "cell_type": "code",
   "execution_count": 70,
   "id": "028f134f",
   "metadata": {},
   "outputs": [],
   "source": [
    "result10c = qa_chain_2({\"question\": query10a, \"chat_history\": chat_history})"
   ]
  },
  {
   "cell_type": "code",
   "execution_count": 71,
   "id": "4ed00120",
   "metadata": {},
   "outputs": [
    {
     "data": {
      "text/plain": [
       "'Yes, the specific locations mentioned in the context are False Bay, Dead Man Cove, and Fourth of July Beach, all of which are on San Juan Island, Washington. There is no mention of a formal name for these locations.'"
      ]
     },
     "execution_count": 71,
     "metadata": {},
     "output_type": "execute_result"
    }
   ],
   "source": [
    "# \"Can you give a more specific location of the habitat such as formal name of said location?\"\n",
    "result10c[\"answer\"]"
   ]
  },
  {
   "cell_type": "code",
   "execution_count": 72,
   "id": "6854c6b3",
   "metadata": {},
   "outputs": [
    {
     "data": {
      "text/plain": [
       "[Document(page_content='una vincta, in the Class Gastropoda and Family Littoridae, were collected at False Bay and \\nDead Man Cove. Littorina scutulata, in the Class Gastropoda and Family Littoridae, were \\ncollected from the rocky intertidal zone of Fourth of July Beach.', metadata={}),\n",
       " Document(page_content='All specimens were collected on San Juan Island, Washington. Two shore crabs (clade: Brachyura: Family Grapsidae), Hemigrapsus oregonensis and Hemigrapsus nudus were collected in the intertidal adjacent to the Friday Harbor Laboratories dock.', metadata={})]"
      ]
     },
     "execution_count": 72,
     "metadata": {},
     "output_type": "execute_result"
    }
   ],
   "source": [
    "result10c[\"source_documents\"]"
   ]
  },
  {
   "cell_type": "code",
   "execution_count": 73,
   "id": "b52e6a1d",
   "metadata": {},
   "outputs": [],
   "source": [
    "result11b = qa_chain_2({\"question\": query11, \"chat_history\": chat_history})"
   ]
  },
  {
   "cell_type": "code",
   "execution_count": 74,
   "id": "7b9a245d",
   "metadata": {},
   "outputs": [
    {
     "data": {
      "text/plain": [
       "'Yes, the paper mentions the year as \"Summer 2014\". However, it does not provide specific dates or times for when the species were collected or observed.'"
      ]
     },
     "execution_count": 74,
     "metadata": {},
     "output_type": "execute_result"
    }
   ],
   "source": [
    "# \"Does the paper mention a year, date and/or time that species were collected or observed, and if so, what was mentioned?\"\n",
    "\n",
    "result11b[\"answer\"]"
   ]
  },
  {
   "cell_type": "code",
   "execution_count": 75,
   "id": "9f7f832a",
   "metadata": {},
   "outputs": [
    {
     "data": {
      "text/plain": [
       "[Document(page_content='una vincta, in the Class Gastropoda and Family Littoridae, were collected at False Bay and \\nDead Man Cove. Littorina scutulata, in the Class Gastropoda and Family Littoridae, were \\ncollected from the rocky intertidal zone of Fourth of July Beach.', metadata={}),\n",
       " Document(page_content='Summer 2014', metadata={})]"
      ]
     },
     "execution_count": 75,
     "metadata": {},
     "output_type": "execute_result"
    }
   ],
   "source": [
    "result11b['source_documents']"
   ]
  },
  {
   "cell_type": "code",
   "execution_count": 76,
   "id": "a205c80b",
   "metadata": {},
   "outputs": [],
   "source": [
    "result12b = qa_chain_2({\"question\": query12, \"chat_history\": chat_history})"
   ]
  },
  {
   "cell_type": "code",
   "execution_count": 77,
   "id": "0ae7b012",
   "metadata": {},
   "outputs": [
    {
     "data": {
      "text/plain": [
       "'Yes, there are figures and tables in the paper. Specifically, there are Figure 1, Table 1A, Figure 2, Table 1B, Figure 3, and Figure 4.'"
      ]
     },
     "execution_count": 77,
     "metadata": {},
     "output_type": "execute_result"
    }
   ],
   "source": [
    "result12b[\"answer\"]"
   ]
  },
  {
   "cell_type": "code",
   "execution_count": 78,
   "id": "fbe942b0",
   "metadata": {
    "scrolled": true
   },
   "outputs": [
    {
     "data": {
      "text/plain": [
       "[Document(page_content='Figure 1, Table 1A, Figure 2, Table 1B, Figure 3, Figure 4', metadata={}),\n",
       " Document(page_content='Figure 1: Relationship of carapace width and propal height in Hemigrapsus. Line of best fit from \\nSMA regression. See Table 1A for descriptive statistics. A) Female H. nudus. B) Male H. nudus. \\nC) Female H. oregonensis. D) Male H. oregonensis.  \\n\\nFigure 2: Relationship of carapace width and propal width in Hemigrapsus.  \\nLine of best fit from SMA regression. See Table 1B for descriptive statistics. A) Female H. \\nnudus. B) Male H. nudus. C)Female H. oregonensis. D) Male H. oregonensis.  \\n\\nFigure 3: Differences in propal height:carapace width ratio between sex and species. \\nThe sex factor was statistically significant (F = 125.6. p < 0.001), while the species factor was \\ninsignificant (F > 0.01, p = 0.983). There was a significant interaction (F = 4.39, p = 0.042). \\nError bars represent standard error of the mean.  \\n\\nFigure 4: Differences in propal width:carapace width ratio between sex and species. \\nThe sex factor was statistically significant (F1,45 = 103.8. p < 0.001), while the species factor was \\ninsignificant (F1,45  = 0.09, p = 0.764). There was a significant interaction (F1,45  = 7.19, p = \\n0.01). Error bars represent standard error of the mean.  \\n\\nFigure 5: Consumption rates by individual H. nudus.  \\nMean consumption rates (n = 8 trials) of 3 female (Fe1 to Fe3) and 3 male (Ma1 to Ma3) H. \\nnudus. Crabs Fe1, Fe3, and Ma3 did not consume snails. The individuals that eat snails did not \\ndiffer in their consumption rates (F2,21  = 2.52, p = 0.104). Error bars represent standard error of \\nthe mean.', metadata={})]"
      ]
     },
     "execution_count": 78,
     "metadata": {},
     "output_type": "execute_result"
    }
   ],
   "source": [
    "#  \"Are there any maps, figures, tables or diagrams in the paper?\"\n",
    "result12b[\"source_documents\"]"
   ]
  }
 ],
 "metadata": {
  "kernelspec": {
   "display_name": "Python 3 (ipykernel)",
   "language": "python",
   "name": "python3"
  },
  "language_info": {
   "codemirror_mode": {
    "name": "ipython",
    "version": 3
   },
   "file_extension": ".py",
   "mimetype": "text/x-python",
   "name": "python",
   "nbconvert_exporter": "python",
   "pygments_lexer": "ipython3",
   "version": "3.10.9"
  }
 },
 "nbformat": 4,
 "nbformat_minor": 5
}
