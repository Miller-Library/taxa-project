{
 "cells": [
  {
   "cell_type": "raw",
   "id": "d3890ace-3342-4443-920c-de36cb233489",
   "metadata": {},
   "source": [
    "---\n",
    "title: experiments\n",
    "format: \n",
    "    html:\n",
    "        code-fold: true\n",
    "---"
   ]
  },
  {
   "cell_type": "code",
   "execution_count": null,
   "id": "2a8e691c-10ff-414a-8f7b-9b5c7320ba5b",
   "metadata": {},
   "outputs": [],
   "source": [
    "pip install pandas"
   ]
  },
  {
   "cell_type": "markdown",
   "id": "0fc7f7c2-52d9-412a-b9e7-9c568496d308",
   "metadata": {},
   "source": [
    "## Getting to know LLMs and LangChain\n",
    "\n",
    "A foundational element of using LangChain as a wrapper for large language models (LLMs) like GPT4 is the prompt. A prompt in the LLM context is just like a prompt in the usual context: it's a thoughtfully designed question meant to elicit a response. If you want to use an LLM to explore text, it is critically important to design an effective prompt that will help the model generate accurate and helpful responses. We are exploring the use of LLMs to help us \"read\" undergraduate student research papers in marine science and figure out if the paper contains a species occurrence. That is, did the student observe or collect a given species at a given place during the course of their research? If they did, that kind of information is a species occurrence (species + place + date).\n",
    "\n",
    "To explore the potential for using LLMs in this work, we selected a few online tools that are designed to help the user ask questions about text provided to the application. We picked a few student papers at random (all open access) and iterated on a series of questions to learn how to engineer prompts that might give us the information we need to determine if a paper includes a species occurrence. This was our process and what we found.\n",
    "\n",
    "## Tools we tried\n",
    "\n",
    "### Chat My Data 📝  ChatPDF 📝  Ask My PDF\n",
    "\n",
    "-   [Chat My Data](https://blog.langchain.dev/tutorial-chatgpt-over-your-data)\n",
    "-   [ChatPDF](https://www.chatpdf.com)\n",
    "-   [Ask My PDF](https://ask-my-pdf.streamlit.app)\n",
    "\n",
    "The first question we gave to each chat tool was, \"*What is this paper about?*\""
   ]
  },
  {
   "cell_type": "markdown",
   "id": "0d4f4429-7503-4189-8239-854952202698",
   "metadata": {},
   "source": [
    "# Results"
   ]
  },
  {
   "cell_type": "code",
   "execution_count": 6,
   "id": "8d8bd507-91f9-479f-8e9e-a64881186f5b",
   "metadata": {},
   "outputs": [],
   "source": [
    "\n",
    "import pandas as pd"
   ]
  },
  {
   "cell_type": "code",
   "execution_count": 13,
   "id": "a29bd567-1931-42e8-bb16-ec1733763023",
   "metadata": {},
   "outputs": [
    {
     "data": {
      "text/html": [
       "<style type=\"text/css\">\n",
       "#T_861e1_row0_col0, #T_861e1_row0_col1, #T_861e1_row0_col2, #T_861e1_row0_col3, #T_861e1_row1_col0, #T_861e1_row1_col1, #T_861e1_row1_col2, #T_861e1_row1_col3, #T_861e1_row2_col0, #T_861e1_row2_col1, #T_861e1_row2_col2, #T_861e1_row2_col3 {\n",
       "  text-align: left;\n",
       "}\n",
       "</style>\n",
       "<table id=\"T_861e1\">\n",
       "  <thead>\n",
       "    <tr>\n",
       "      <th class=\"blank level0\" >&nbsp;</th>\n",
       "      <th id=\"T_861e1_level0_col0\" class=\"col_heading level0 col0\" >Model</th>\n",
       "      <th id=\"T_861e1_level0_col1\" class=\"col_heading level0 col1\" >Paper</th>\n",
       "      <th id=\"T_861e1_level0_col2\" class=\"col_heading level0 col2\" >What is this paper about?</th>\n",
       "      <th id=\"T_861e1_level0_col3\" class=\"col_heading level0 col3\" >Summarize the paper concisely with reference to materials and methods.</th>\n",
       "    </tr>\n",
       "  </thead>\n",
       "  <tbody>\n",
       "    <tr>\n",
       "      <th id=\"T_861e1_level0_row0\" class=\"row_heading level0 row0\" >0</th>\n",
       "      <td id=\"T_861e1_row0_col0\" class=\"data row0 col0\" >PDF GPT</td>\n",
       "      <td id=\"T_861e1_row0_col1\" class=\"data row0 col1\" >fhl_2014_Charifson_34622.pdf; Snail Predation by Hemigrapsus nudus and Hemigrapsus oregonensis: Sex and Species Differences in Chela Size</td>\n",
       "      <td id=\"T_861e1_row0_col2\" class=\"data row0 col2\" > This paper is about the potential for character displacement in the chela size of two sympatric shore crab species, Hemigrapsus nudus and Hemigrapsus oregonensis. It was found that the two-way ANOVA with factors sex and species did not show a significant species effect, suggesting that the claws of both shore crabs produce roughly the same force and are functionally equivalent (Behrens Yamada and Boulding 1998). Additionally, the consumption rates of H. nudus for Littorina sitkana and Lacuna vincta were found to be 1.8 and 13.03/individual crab/day respectively, and there was no potential for character displacement of chela size in the sympatric species. There were also no differences in consumption rates between male and female H. nudus. [Page no. 8], [Page no. 10], [Page no. 14].</td>\n",
       "      <td id=\"T_861e1_row0_col3\" class=\"data row0 col3\" > The paper discussed the morphometrics and consumption rates of Hemigrapsus oregonensis and Hemigrapsus nudus, two closely related crabs that can be distinguished by external features. Male and female crabs were measured with digital calipers for carapace width, propal height and propal width [Page no. 5]. Consumption rates of 3 female (Fe1 to Fe3) and 3 male (Ma1 to Ma3) crabs were also calculated [Page no. 21]. SMA regressions of carapace width and propus measures were also presented in a Table [Page no. 11].</td>\n",
       "    </tr>\n",
       "    <tr>\n",
       "      <th id=\"T_861e1_level0_row1\" class=\"row_heading level0 row1\" >1</th>\n",
       "      <td id=\"T_861e1_row1_col0\" class=\"data row1 col0\" >Chat Your Data</td>\n",
       "      <td id=\"T_861e1_row1_col1\" class=\"data row1 col1\" >fhl_2014_Charifson_34622.pdf; Snail Predation by Hemigrapsus nudus and Hemigrapsus oregonensis: Sex and Species Differences in Chela Size</td>\n",
       "      <td id=\"T_861e1_row1_col2\" class=\"data row1 col2\" >The paper is about an experimental study that investigates the role of highly mobile crab predators in the intertidal zonation of their gastropod prey. It also examines claw morphology, prey size selection, and foraging efficiency in generalist and specialist shell-breaking crabs. The study received financial support from various organizations and was conducted at Friday Harbor Laboratories with permission to collect organisms</td>\n",
       "      <td id=\"T_861e1_row1_col3\" class=\"data row1 col3\" >The paper acknowledges the support and facilities provided by Friday Harbor Laboratories, The Libbie Hyman Scholarship, Society for Integrative and Comparative Biology, and the Stony Brook Department of Ecology and Evolution. However, the specific materials and methods used in the study are not mentioned in the provided context</td>\n",
       "    </tr>\n",
       "    <tr>\n",
       "      <th id=\"T_861e1_level0_row2\" class=\"row_heading level0 row2\" >2</th>\n",
       "      <td id=\"T_861e1_row2_col0\" class=\"data row2 col0\" >Ask My PDF</td>\n",
       "      <td id=\"T_861e1_row2_col1\" class=\"data row2 col1\" >fhl_2014_Charifson_34622.pdf; Snail Predation by Hemigrapsus nudus and Hemigrapsus oregonensis: Sex and Species Differences in Chela Size</td>\n",
       "      <td id=\"T_861e1_row2_col2\" class=\"data row2 col2\" >The paper is about the relationship between propus size and the use of snails as prey in two species of crabs, Hemigrapsus nudus and Hemigrapsus oregonensis. It also investigates the potential for character displacement in chela size between the two species. (Page 2)</td>\n",
       "      <td id=\"T_861e1_row2_col3\" class=\"data row2 col3\" >The paper investigates the relationship between propus size and snail predation in Hemigrapsus nudus and Hemigrapsus oregonensis. The study uses standardized major axis regression to analyze the morphometric parameters of the crabs. The researchers also analyze prey selection by H. nudus using G-tests and one-way ANOVA. The results show that carapace width is a good predictor of propal height and width in both male and female crabs of both species. There is sexual dimorphism in chela size, but no detectable difference in chela size between the two species. The study suggests that there is no potential for character displacement in chela size between H. nudus and H. oregonensis.</td>\n",
       "    </tr>\n",
       "  </tbody>\n",
       "</table>\n"
      ],
      "text/plain": [
       "<pandas.io.formats.style.Styler at 0x127e9e990>"
      ]
     },
     "metadata": {},
     "output_type": "display_data"
    }
   ],
   "source": [
    "#| label: tools-test\n",
    "#| fig-cap: >\n",
    "#|  Comparing results for initial questions\n",
    "#|  across the three tools.\n",
    "df = pd.read_csv('data.csv', nrows=3, usecols=[0,1,2,3])\n",
    "df.style.set_table_styles([dict(selector=\"th\",props=[('max-width', '100px')])])\n",
    "left_aligned_df = df.style.set_properties(**{'text-align': 'left'})\n",
    "display(left_aligned_df)\n"
   ]
  },
  {
   "cell_type": "markdown",
   "id": "8c8f0ce7-81e3-4aca-a7bc-e502af81b7a4",
   "metadata": {},
   "source": [
    "## Testing Architectures\n",
    "Having experimented with prompts across some pre-made conversational tools, the next step is to explore different combinations of tools/methods for 1. Load, 2. Transform (Text splitting), 3. Embed, 4. Store, 5. Retrieve (Vector store query). We came up with four main options (below) with some possible variations (see the yellow arrows)."
   ]
  },
  {
   "cell_type": "raw",
   "id": "d0c1bcc9-8314-44ab-a9e3-3001b9092c85",
   "metadata": {},
   "source": [
    "```{ojs}\n",
    "\n",
    "neato`\n",
    "digraph {\n",
    "    nodesep=0.5;\n",
    "\tlabelloc = \"b\"\n",
    "\tfontname = Arial\n",
    "\tnode [\n",
    "\t\tshape = rectangle\n",
    "\t\twidth = 1.5\n",
    "\t\tcolor= lightgray\n",
    "\t\tstyle = filled\n",
    "\t\tfontname=\"Helvetica,Arial,sans-serif\"\n",
    "\t]\n",
    "\tedge [\n",
    "    len = 2 \n",
    "    penwidth = 1.5 \n",
    "    arrowhead=open\n",
    "    color= darkgray\n",
    "\n",
    "  ]\n",
    "\tstart = regular\n",
    "\tnormalize = 0\n",
    "\n",
    "\tsubgraph cluster_0 {\n",
    "\t\tstyle=filled;\n",
    "\t\tcolor= deepskyblue;\n",
    "\t\tnode [style=filled,color=white];\n",
    "\t\tSentenceTransformers -> SentenceTransformerEmbeddings -> Annoy -> MultiQueryRetriever;\n",
    "\t\tlabel = \"Option #1\";\n",
    "\t}\n",
    "\n",
    "\tsubgraph cluster_1 {\n",
    "\t\tstyle=filled;\n",
    "\t\tcolor= yellowgreen;\n",
    "\t\tnode [style=filled,color=white];\n",
    "\t\tTikToken -> OpenAIEmbeddings -> FAISS -> ContextualCompression;\n",
    "\t\tlabel = \"Option #2\";\n",
    "\t}\n",
    "\n",
    "subgraph cluster_2 {\n",
    "\t\tstyle=filled;\n",
    "\t\tcolor= orange;\n",
    "\t\tnode [style=filled,color=white];\n",
    "\t\tNLTK -> LlamaCCP -> Chroma -> ChromaSelfQuerying;\n",
    "\t\tlabel = \"Option #3\";\n",
    "\t}\n",
    "\n",
    "subgraph cluster_3 {\n",
    "\t\tstyle=filled;\n",
    "\t\tcolor= deeppink;\n",
    "\t\tnode [style=filled,color=white];\n",
    "\t\tSpaCY -> SpaCYEmbeddings -> Chroma2 -> ChromaSelfQuerying2;\n",
    "\t\tlabel = \"Option #4\";\n",
    "\t}\n",
    "\n",
    "subgraph cluster_4 {\n",
    "        margin=40\n",
    "\t\tstyle=filled;\n",
    "\t\tcolor= gray;\n",
    "\t\tnode [style=filled,color=white];\n",
    "        rankdir=LR;\n",
    "        Stuffing, Refine, MapReduce, MapReRank;\n",
    "    }\n",
    "\n",
    "\n",
    "\tsource -> PyMuPDF;\n",
    "  PyMuPDF -> SentenceTransformers;\n",
    "  PyMuPDF -> TikToken;\n",
    "  PyMuPDF -> NLTK;\n",
    "  PyMuPDF -> SpaCY;\n",
    "  MultiQueryRetriever -> Stuffing [color = lightblue]\n",
    "  MultiQueryRetriever -> Refine [color = lightblue]\n",
    "  MultiQueryRetriever -> MapReduce [color = lightblue]\n",
    "  MultiQueryRetriever -> MapReRank [color = lightblue]\n",
    "  ContextualCompression -> Stuffing [color = lightblue]\n",
    "  ContextualCompression -> Refine [color = lightblue]\n",
    "  ContextualCompression -> MapReduce [color = lightblue]\n",
    "  ContextualCompression -> MapReRank [color = lightblue]\n",
    "  ChromaSelfQuerying -> Stuffing [color = lightblue]\n",
    "  ChromaSelfQuerying -> Refine [color = lightblue]\n",
    "  ChromaSelfQuerying -> MapReduce [color = lightblue]\n",
    "  ChromaSelfQuerying -> MapReRank [color = lightblue]\n",
    "  ChromaSelfQuerying2 -> Stuffing [color = lightblue]\n",
    "  ChromaSelfQuerying2 -> Refine [color = lightblue]\n",
    "  ChromaSelfQuerying2 -> MapReduce [color = lightblue]\n",
    "  ChromaSelfQuerying2 -> MapReRank [color = lightblue]\n",
    "\tFAISS -> MultiQueryRetriever [color = yellow]\n",
    "  Annoy -> ContextualCompression [color = yellow]\n",
    "  LlamaCCP -> FAISS [color = yellow]\n",
    "  OpenAIEmbeddings -> Annoy [color = yellow] \n",
    "\n",
    "\tsource [shape=Msquare];\n",
    "}\n",
    "`\n",
    "```\n",
    "\n",
    "```{ojs}\n",
    "neato = require(\"@observablehq/graphviz@0.2\")\n",
    "```\n"
   ]
  },
  {
   "cell_type": "code",
   "execution_count": null,
   "id": "3dbfdbf7-ffad-48b7-b311-e8859da05ca5",
   "metadata": {},
   "outputs": [],
   "source": []
  }
 ],
 "metadata": {
  "kernelspec": {
   "display_name": "Python 3 (ipykernel)",
   "language": "python",
   "name": "python3"
  },
  "language_info": {
   "codemirror_mode": {
    "name": "ipython",
    "version": 3
   },
   "file_extension": ".py",
   "mimetype": "text/x-python",
   "name": "python",
   "nbconvert_exporter": "python",
   "pygments_lexer": "ipython3",
   "version": "3.11.4"
  }
 },
 "nbformat": 4,
 "nbformat_minor": 5
}
