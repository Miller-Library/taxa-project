{
 "cells": [
  {
   "cell_type": "raw",
   "id": "d3890ace-3342-4443-920c-de36cb233489",
   "metadata": {},
   "source": [
    "---\n",
    "title: experiments\n",
    "format: html\n",
    "---"
   ]
  },
  {
   "cell_type": "code",
   "execution_count": null,
   "id": "2a8e691c-10ff-414a-8f7b-9b5c7320ba5b",
   "metadata": {},
   "outputs": [],
   "source": [
    "pip install pandas"
   ]
  },
  {
   "cell_type": "markdown",
   "id": "0fc7f7c2-52d9-412a-b9e7-9c568496d308",
   "metadata": {},
   "source": [
    "## Getting to know LLMs and LangChain\n",
    "\n",
    "A foundational element of using LangChain as a wrapper for large language models (LLMs) like GPT4 is the prompt. A prompt in the LLM context is just like a prompt in the usual context: it's a thoughtfully designed question meant to elicit a response. If you want to use an LLM to explore text, it is critically important to design an effective prompt that will help the model generate accurate and helpful responses. We are exploring the use of LLMs to help us \"read\" undergraduate student research papers in marine science and figure out if the paper contains a species occurrence. That is, did the student observe or collect a given species at a given place during the course of their research? If they did, that kind of information is a species occurrence (species + place + date).\n",
    "\n",
    "To explore the potential for using LLMs in this work, we selected a few online tools that are designed to help the user ask questions about text provided to the application. We picked a few student papers at random (all open access) and iterated on a series of questions to learn how to engineer prompts that might give us the information we need to determine if a paper includes a species occurrence. This was our process and what we found.\n",
    "\n",
    "## Tools we tried\n",
    "\n",
    "### Chat My Data 📝  ChatPDF 📝  Ask My PDF\n",
    "\n",
    "-   [Chat My Data](https://blog.langchain.dev/tutorial-chatgpt-over-your-data)\n",
    "-   [ChatPDF](https://www.chatpdf.com)\n",
    "-   [Ask My PDF](https://ask-my-pdf.streamlit.app)\n",
    "\n",
    "The first question we gave to each chat tool was, \"*What is this paper about?*\""
   ]
  },
  {
   "cell_type": "markdown",
   "id": "0d4f4429-7503-4189-8239-854952202698",
   "metadata": {},
   "source": [
    "# Results"
   ]
  },
  {
   "cell_type": "code",
   "execution_count": 1,
   "id": "8d8bd507-91f9-479f-8e9e-a64881186f5b",
   "metadata": {},
   "outputs": [],
   "source": [
    "\n",
    "import pandas as pd"
   ]
  },
  {
   "cell_type": "code",
   "execution_count": 2,
   "id": "a29bd567-1931-42e8-bb16-ec1733763023",
   "metadata": {},
   "outputs": [
    {
     "data": {
      "text/html": [
       "<div>\n",
       "<style scoped>\n",
       "    .dataframe tbody tr th:only-of-type {\n",
       "        vertical-align: middle;\n",
       "    }\n",
       "\n",
       "    .dataframe tbody tr th {\n",
       "        vertical-align: top;\n",
       "    }\n",
       "\n",
       "    .dataframe thead th {\n",
       "        text-align: right;\n",
       "    }\n",
       "</style>\n",
       "<table border=\"1\" class=\"dataframe\">\n",
       "  <thead>\n",
       "    <tr style=\"text-align: right;\">\n",
       "      <th></th>\n",
       "      <th>Model</th>\n",
       "      <th>Paper</th>\n",
       "      <th>What is this paper about?</th>\n",
       "      <th>Summarize the paper concisely with reference to materials and methods.</th>\n",
       "    </tr>\n",
       "  </thead>\n",
       "  <tbody>\n",
       "    <tr>\n",
       "      <th>0</th>\n",
       "      <td>PDF GPT</td>\n",
       "      <td>fhl_2014_Charifson_34622.pdf; Snail Predation ...</td>\n",
       "      <td>This paper is about the potential for charact...</td>\n",
       "      <td>The paper discussed the morphometrics and con...</td>\n",
       "    </tr>\n",
       "    <tr>\n",
       "      <th>1</th>\n",
       "      <td>Chat Your Data</td>\n",
       "      <td>fhl_2014_Charifson_34622.pdf; Snail Predation ...</td>\n",
       "      <td>The paper is about an experimental study that ...</td>\n",
       "      <td>The paper acknowledges the support and facilit...</td>\n",
       "    </tr>\n",
       "    <tr>\n",
       "      <th>2</th>\n",
       "      <td>Ask My PDF</td>\n",
       "      <td>fhl_2014_Charifson_34622.pdf; Snail Predation ...</td>\n",
       "      <td>The paper is about the relationship between pr...</td>\n",
       "      <td>The paper investigates the relationship betwee...</td>\n",
       "    </tr>\n",
       "  </tbody>\n",
       "</table>\n",
       "</div>"
      ],
      "text/plain": [
       "            Model                                              Paper  \\\n",
       "0         PDF GPT  fhl_2014_Charifson_34622.pdf; Snail Predation ...   \n",
       "1  Chat Your Data  fhl_2014_Charifson_34622.pdf; Snail Predation ...   \n",
       "2      Ask My PDF  fhl_2014_Charifson_34622.pdf; Snail Predation ...   \n",
       "\n",
       "                           What is this paper about?  \\\n",
       "0   This paper is about the potential for charact...   \n",
       "1  The paper is about an experimental study that ...   \n",
       "2  The paper is about the relationship between pr...   \n",
       "\n",
       "  Summarize the paper concisely with reference to materials and methods.  \n",
       "0   The paper discussed the morphometrics and con...                      \n",
       "1  The paper acknowledges the support and facilit...                      \n",
       "2  The paper investigates the relationship betwee...                      "
      ]
     },
     "execution_count": 2,
     "metadata": {},
     "output_type": "execute_result"
    }
   ],
   "source": [
    "#| label: tools-test\n",
    "#| fig-cap: >\n",
    "#|  Comparing results for initial questions\n",
    "#|  across the three tools.\n",
    "pd.read_csv('data.csv', nrows=3, usecols=[0,1,2,3])\n"
   ]
  },
  {
   "cell_type": "code",
   "execution_count": null,
   "id": "05654232-7220-4145-9f75-6c426a58357b",
   "metadata": {},
   "outputs": [],
   "source": []
  }
 ],
 "metadata": {
  "kernelspec": {
   "display_name": "Python 3 (ipykernel)",
   "language": "python",
   "name": "python3"
  },
  "language_info": {
   "codemirror_mode": {
    "name": "ipython",
    "version": 3
   },
   "file_extension": ".py",
   "mimetype": "text/x-python",
   "name": "python",
   "nbconvert_exporter": "python",
   "pygments_lexer": "ipython3",
   "version": "3.11.4"
  }
 },
 "nbformat": 4,
 "nbformat_minor": 5
}
