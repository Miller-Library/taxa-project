{
 "cells": [
  {
   "cell_type": "raw",
   "id": "32d5a13c",
   "metadata": {},
   "source": [
    "---\n",
    "title: \"Architecture options for taxa\"\n",
    "author: Nicole\n",
    "date: \"July 12, 2023\"\n",
    "format:\n",
    "    html:\n",
    "        code-fold: true\n",
    "\n",
    "\n",
    "---"
   ]
  },
  {
   "cell_type": "code",
   "execution_count": 1,
   "id": "add1e4fb",
   "metadata": {},
   "outputs": [
    {
     "ename": "SyntaxError",
     "evalue": "invalid syntax (2410296794.py, line 1)",
     "output_type": "error",
     "traceback": [
      "\u001b[0;36m  Cell \u001b[0;32mIn[1], line 1\u001b[0;36m\u001b[0m\n\u001b[0;31m    ```{ojs}\u001b[0m\n\u001b[0m    ^\u001b[0m\n\u001b[0;31mSyntaxError\u001b[0m\u001b[0;31m:\u001b[0m invalid syntax\n"
     ]
    }
   ],
   "source": [
    "```{ojs}\n",
    "\n",
    "neato`\n",
    "digraph {\n",
    "\tlabelloc = \"b\"\n",
    "\tfontname = Arial\n",
    "\tnode [\n",
    "\t\tshape = rectangle\n",
    "\t\twidth = 1.5\n",
    "\t\tcolor= lightgray\n",
    "\t\tstyle = filled\n",
    "\t\tfontname=\"Helvetica,Arial,sans-serif\"\n",
    "\t]\n",
    "\tedge [\n",
    "    len = 2 \n",
    "    penwidth = 1.5 \n",
    "    arrowhead=open\n",
    "    color= darkgray\n",
    "  ]\n",
    "\tstart = regular\n",
    "\tnormalize = 0\n",
    "\n",
    "\tsubgraph cluster_0 {\n",
    "\t\tstyle=filled;\n",
    "\t\tcolor= deepskyblue;\n",
    "\t\tnode [style=filled,color=white];\n",
    "\t\tSentenceTransformers -> SentenceTransformerEmbeddings -> Annoy -> MultiQueryRetriever;\n",
    "\t\tlabel = \"Option #1\";\n",
    "\t}\n",
    "\n",
    "\tsubgraph cluster_1 {\n",
    "\t\tstyle=filled;\n",
    "\t\tcolor= yellowgreen;\n",
    "\t\tnode [style=filled,color=white];\n",
    "\t\tTikToken -> OpenAIEmbeddings -> FAISS -> ContextualCompression;\n",
    "\t\tlabel = \"Option #2\";\n",
    "\t}\n",
    "\n",
    "subgraph cluster_2 {\n",
    "\t\tstyle=filled;\n",
    "\t\tcolor= orange;\n",
    "\t\tnode [style=filled,color=white];\n",
    "\t\tNLTK -> LlamaCCP -> Pinecone -> PineconeSelfQuerying;\n",
    "\t\tlabel = \"Option #3\";\n",
    "\t}\n",
    "\n",
    "subgraph cluster_3 {\n",
    "\t\tstyle=filled;\n",
    "\t\tcolor= deeppink;\n",
    "\t\tnode [style=filled,color=white];\n",
    "\t\tSpaCY -> SpaCYEmbeddings -> Chroma -> ChromaSelfQuerying;\n",
    "\t\tlabel = \"Option #4\";\n",
    "\t}\n",
    "\n",
    "\n",
    "\tsource -> PyMuPDF;\n",
    "  PyMuPDF -> SentenceTransformers;\n",
    "  PyMuPDF -> TikToken;\n",
    "  PyMuPDF -> NLTK;\n",
    "  PyMuPDF -> SpaCY;\n",
    "\tFAISS -> MultiQueryRetriever [color = yellow]\n",
    "  Annoy -> ContextualCompression [color = yellow]\n",
    "  LlamaCCP -> FAISS [color = yellow]\n",
    "  LlamaCCP -> Chroma [color = yellow] \n",
    "  SpaCYEmbeddings -> Pinecone [color = yellow] \n",
    "  OpenAIEmbeddings -> Annoy [color = yellow] \n",
    "\n",
    "\tsource [shape=Msquare];\n",
    "}\n",
    "`\n",
    "\n",
    "\n",
    "```"
   ]
  },
  {
   "cell_type": "code",
   "execution_count": 2,
   "id": "734422a2",
   "metadata": {},
   "outputs": [
    {
     "ename": "SyntaxError",
     "evalue": "invalid syntax (3037837232.py, line 1)",
     "output_type": "error",
     "traceback": [
      "\u001b[0;36m  Cell \u001b[0;32mIn[2], line 1\u001b[0;36m\u001b[0m\n\u001b[0;31m    ```{ojs}\u001b[0m\n\u001b[0m    ^\u001b[0m\n\u001b[0;31mSyntaxError\u001b[0m\u001b[0;31m:\u001b[0m invalid syntax\n"
     ]
    }
   ],
   "source": [
    "```{ojs}\n",
    "neato = require(\"@observablehq/graphviz@0.2\")\n",
    "\n",
    "```"
   ]
  },
  {
   "cell_type": "code",
   "execution_count": null,
   "id": "fa89bf68",
   "metadata": {},
   "outputs": [],
   "source": []
  }
 ],
 "metadata": {
  "kernelspec": {
   "display_name": "Python 3 (ipykernel)",
   "language": "python",
   "name": "python3"
  },
  "language_info": {
   "codemirror_mode": {
    "name": "ipython",
    "version": 3
   },
   "file_extension": ".py",
   "mimetype": "text/x-python",
   "name": "python",
   "nbconvert_exporter": "python",
   "pygments_lexer": "ipython3",
   "version": "3.11.4"
  }
 },
 "nbformat": 4,
 "nbformat_minor": 5
}
